{
 "cells": [
  {
   "cell_type": "code",
   "execution_count": 58,
   "metadata": {},
   "outputs": [],
   "source": [
    "from pycaret.regression import *\n",
    "\n",
    "import pyodbc\n",
    "import pandas as pd\n",
    "import numpy as np\n",
    "import matplotlib.pyplot as plt\n",
    "import seaborn as sns\n",
    "from random import randint\n",
    "import plotly.express as px\n",
    "\n",
    "from sklearn.model_selection import train_test_split\n",
    "\n",
    "import warnings\n",
    "warnings.filterwarnings(\"ignore\")"
   ]
  },
  {
   "cell_type": "code",
   "execution_count": 23,
   "metadata": {},
   "outputs": [],
   "source": [
    "df = pd.read_csv('C:/Users/tcardenas/OneDrive/OneDrive - Grupo DISPAPELES/Documents/ML-Dispapeles-TomasCaLo/Clustering/Clustering 1-2-23.csv', delimiter= \";\")\n",
    "df = df[(df[\"Letra cluster\"] == \"A\") | (df[\"Letra cluster\"] == \"B\")]\n",
    "df_10_ag = df[df[\"Distrito-Nombretipozona\"] == '10-Artes graficas']"
   ]
  },
  {
   "cell_type": "code",
   "execution_count": 20,
   "metadata": {},
   "outputs": [
    {
     "data": {
      "text/plain": [
       "array(['10-Artes graficas', '10-Institucional', '10-Mayorista',\n",
       "       '10-V Horeca', '10-V Industria', '10-V SyE', '15-Artes graficas',\n",
       "       '15-Institucional', '15-Mayorista', '17-Artes graficas',\n",
       "       '17-Institucional', '17-Mayorista', '20-Artes graficas',\n",
       "       '20-Institucional', '20-Mayorista', '20-V Horeca',\n",
       "       '20-V Industria', '20-V SyE', '25-Artes graficas',\n",
       "       '25-Institucional', '25-Mayorista', '40-Artes graficas',\n",
       "       '40-Institucional', '40-Mayorista', '40-V Horeca',\n",
       "       '40-V Industria', '45-Institucional', '45-Mayorista',\n",
       "       '50-Artes graficas', '50-Institucional', '50-Mayorista',\n",
       "       '50-V Horeca', '50-V Industria', '50-V SyE', '52-Artes graficas',\n",
       "       '52-Institucional', '52-Mayorista', '53-Artes graficas',\n",
       "       '53-Institucional', '53-Mayorista', '55-Artes graficas',\n",
       "       '55-Institucional', '55-Mayorista', '60-Artes graficas',\n",
       "       '60-Institucional', '60-Mayorista', '60-V Horeca', '60-V SyE',\n",
       "       '65-Institucional', '65-Mayorista', '65-V SyE',\n",
       "       '70-Artes graficas', '70-Institucional', '70-Mayorista',\n",
       "       '70-V Horeca', '71-Artes graficas', '71-Institucional',\n",
       "       '71-Mayorista', '71-V Industria', '75-Artes graficas',\n",
       "       '75-Institucional', '75-Mayorista', '90-Artes graficas',\n",
       "       '90-Institucional', '90-Mayorista'], dtype=object)"
      ]
     },
     "execution_count": 20,
     "metadata": {},
     "output_type": "execute_result"
    }
   ],
   "source": [
    "df[\"Distrito-Nombretipozona\"].unique()"
   ]
  },
  {
   "cell_type": "code",
   "execution_count": 27,
   "metadata": {},
   "outputs": [
    {
     "data": {
      "text/html": [
       "<div>\n",
       "<style scoped>\n",
       "    .dataframe tbody tr th:only-of-type {\n",
       "        vertical-align: middle;\n",
       "    }\n",
       "\n",
       "    .dataframe tbody tr th {\n",
       "        vertical-align: top;\n",
       "    }\n",
       "\n",
       "    .dataframe thead th {\n",
       "        text-align: right;\n",
       "    }\n",
       "</style>\n",
       "<table border=\"1\" class=\"dataframe\">\n",
       "  <thead>\n",
       "    <tr style=\"text-align: right;\">\n",
       "      <th></th>\n",
       "      <th>Codigo distrito</th>\n",
       "      <th>Nombre tipo zona</th>\n",
       "      <th>Nit cliente-sucursal</th>\n",
       "      <th>Recency</th>\n",
       "      <th>Monetary</th>\n",
       "      <th>Frequency</th>\n",
       "      <th>Distrito-Nombretipozona</th>\n",
       "      <th>Cluster</th>\n",
       "      <th>Letra cluster</th>\n",
       "    </tr>\n",
       "  </thead>\n",
       "  <tbody>\n",
       "    <tr>\n",
       "      <th>523</th>\n",
       "      <td>10</td>\n",
       "      <td>Artes graficas</td>\n",
       "      <td>800103903-1</td>\n",
       "      <td>24</td>\n",
       "      <td>2233923</td>\n",
       "      <td>24</td>\n",
       "      <td>10-Artes graficas</td>\n",
       "      <td>Cluster 1</td>\n",
       "      <td>B</td>\n",
       "    </tr>\n",
       "    <tr>\n",
       "      <th>524</th>\n",
       "      <td>10</td>\n",
       "      <td>Artes graficas</td>\n",
       "      <td>800234331-1</td>\n",
       "      <td>24</td>\n",
       "      <td>1586684</td>\n",
       "      <td>22</td>\n",
       "      <td>10-Artes graficas</td>\n",
       "      <td>Cluster 1</td>\n",
       "      <td>B</td>\n",
       "    </tr>\n",
       "    <tr>\n",
       "      <th>525</th>\n",
       "      <td>10</td>\n",
       "      <td>Artes graficas</td>\n",
       "      <td>830068816-1</td>\n",
       "      <td>24</td>\n",
       "      <td>1576750</td>\n",
       "      <td>21</td>\n",
       "      <td>10-Artes graficas</td>\n",
       "      <td>Cluster 1</td>\n",
       "      <td>B</td>\n",
       "    </tr>\n",
       "    <tr>\n",
       "      <th>526</th>\n",
       "      <td>10</td>\n",
       "      <td>Artes graficas</td>\n",
       "      <td>860000198-1</td>\n",
       "      <td>24</td>\n",
       "      <td>2394980</td>\n",
       "      <td>24</td>\n",
       "      <td>10-Artes graficas</td>\n",
       "      <td>Cluster 1</td>\n",
       "      <td>B</td>\n",
       "    </tr>\n",
       "    <tr>\n",
       "      <th>527</th>\n",
       "      <td>10</td>\n",
       "      <td>Artes graficas</td>\n",
       "      <td>860521517-1</td>\n",
       "      <td>24</td>\n",
       "      <td>1693460</td>\n",
       "      <td>24</td>\n",
       "      <td>10-Artes graficas</td>\n",
       "      <td>Cluster 1</td>\n",
       "      <td>B</td>\n",
       "    </tr>\n",
       "  </tbody>\n",
       "</table>\n",
       "</div>"
      ],
      "text/plain": [
       "     Codigo distrito Nombre tipo zona Nit cliente-sucursal  Recency  Monetary  \\\n",
       "523               10   Artes graficas          800103903-1       24   2233923   \n",
       "524               10   Artes graficas          800234331-1       24   1586684   \n",
       "525               10   Artes graficas          830068816-1       24   1576750   \n",
       "526               10   Artes graficas          860000198-1       24   2394980   \n",
       "527               10   Artes graficas          860521517-1       24   1693460   \n",
       "\n",
       "     Frequency Distrito-Nombretipozona    Cluster Letra cluster  \n",
       "523         24       10-Artes graficas  Cluster 1             B  \n",
       "524         22       10-Artes graficas  Cluster 1             B  \n",
       "525         21       10-Artes graficas  Cluster 1             B  \n",
       "526         24       10-Artes graficas  Cluster 1             B  \n",
       "527         24       10-Artes graficas  Cluster 1             B  "
      ]
     },
     "execution_count": 27,
     "metadata": {},
     "output_type": "execute_result"
    }
   ],
   "source": [
    "df.head()"
   ]
  },
  {
   "cell_type": "code",
   "execution_count": 28,
   "metadata": {},
   "outputs": [
    {
     "data": {
      "text/html": [
       "<div>\n",
       "<style scoped>\n",
       "    .dataframe tbody tr th:only-of-type {\n",
       "        vertical-align: middle;\n",
       "    }\n",
       "\n",
       "    .dataframe tbody tr th {\n",
       "        vertical-align: top;\n",
       "    }\n",
       "\n",
       "    .dataframe thead th {\n",
       "        text-align: right;\n",
       "    }\n",
       "</style>\n",
       "<table border=\"1\" class=\"dataframe\">\n",
       "  <thead>\n",
       "    <tr style=\"text-align: right;\">\n",
       "      <th></th>\n",
       "      <th>Codigo distrito</th>\n",
       "      <th>Nombre tipo zona</th>\n",
       "      <th>Nit cliente-sucursal</th>\n",
       "      <th>Recency</th>\n",
       "      <th>Monetary</th>\n",
       "      <th>Frequency</th>\n",
       "      <th>Distrito-Nombretipozona</th>\n",
       "      <th>Cluster</th>\n",
       "      <th>Letra cluster</th>\n",
       "    </tr>\n",
       "  </thead>\n",
       "  <tbody>\n",
       "    <tr>\n",
       "      <th>534</th>\n",
       "      <td>10</td>\n",
       "      <td>Artes graficas</td>\n",
       "      <td>830098200-1</td>\n",
       "      <td>24</td>\n",
       "      <td>3293858</td>\n",
       "      <td>24</td>\n",
       "      <td>10-Artes graficas</td>\n",
       "      <td>Cluster 3</td>\n",
       "      <td>A</td>\n",
       "    </tr>\n",
       "    <tr>\n",
       "      <th>535</th>\n",
       "      <td>10</td>\n",
       "      <td>Artes graficas</td>\n",
       "      <td>860530370-1</td>\n",
       "      <td>24</td>\n",
       "      <td>3079425</td>\n",
       "      <td>24</td>\n",
       "      <td>10-Artes graficas</td>\n",
       "      <td>Cluster 3</td>\n",
       "      <td>A</td>\n",
       "    </tr>\n",
       "    <tr>\n",
       "      <th>532</th>\n",
       "      <td>10</td>\n",
       "      <td>Artes graficas</td>\n",
       "      <td>800138131-1</td>\n",
       "      <td>24</td>\n",
       "      <td>2880098</td>\n",
       "      <td>24</td>\n",
       "      <td>10-Artes graficas</td>\n",
       "      <td>Cluster 3</td>\n",
       "      <td>A</td>\n",
       "    </tr>\n",
       "    <tr>\n",
       "      <th>526</th>\n",
       "      <td>10</td>\n",
       "      <td>Artes graficas</td>\n",
       "      <td>860000198-1</td>\n",
       "      <td>24</td>\n",
       "      <td>2394980</td>\n",
       "      <td>24</td>\n",
       "      <td>10-Artes graficas</td>\n",
       "      <td>Cluster 1</td>\n",
       "      <td>B</td>\n",
       "    </tr>\n",
       "    <tr>\n",
       "      <th>523</th>\n",
       "      <td>10</td>\n",
       "      <td>Artes graficas</td>\n",
       "      <td>800103903-1</td>\n",
       "      <td>24</td>\n",
       "      <td>2233923</td>\n",
       "      <td>24</td>\n",
       "      <td>10-Artes graficas</td>\n",
       "      <td>Cluster 1</td>\n",
       "      <td>B</td>\n",
       "    </tr>\n",
       "    <tr>\n",
       "      <th>527</th>\n",
       "      <td>10</td>\n",
       "      <td>Artes graficas</td>\n",
       "      <td>860521517-1</td>\n",
       "      <td>24</td>\n",
       "      <td>1693460</td>\n",
       "      <td>24</td>\n",
       "      <td>10-Artes graficas</td>\n",
       "      <td>Cluster 1</td>\n",
       "      <td>B</td>\n",
       "    </tr>\n",
       "    <tr>\n",
       "      <th>533</th>\n",
       "      <td>10</td>\n",
       "      <td>Artes graficas</td>\n",
       "      <td>800226417-1</td>\n",
       "      <td>24</td>\n",
       "      <td>4608290</td>\n",
       "      <td>23</td>\n",
       "      <td>10-Artes graficas</td>\n",
       "      <td>Cluster 3</td>\n",
       "      <td>A</td>\n",
       "    </tr>\n",
       "    <tr>\n",
       "      <th>529</th>\n",
       "      <td>10</td>\n",
       "      <td>Artes graficas</td>\n",
       "      <td>900085929-1</td>\n",
       "      <td>24</td>\n",
       "      <td>2165865</td>\n",
       "      <td>22</td>\n",
       "      <td>10-Artes graficas</td>\n",
       "      <td>Cluster 1</td>\n",
       "      <td>B</td>\n",
       "    </tr>\n",
       "    <tr>\n",
       "      <th>524</th>\n",
       "      <td>10</td>\n",
       "      <td>Artes graficas</td>\n",
       "      <td>800234331-1</td>\n",
       "      <td>24</td>\n",
       "      <td>1586684</td>\n",
       "      <td>22</td>\n",
       "      <td>10-Artes graficas</td>\n",
       "      <td>Cluster 1</td>\n",
       "      <td>B</td>\n",
       "    </tr>\n",
       "    <tr>\n",
       "      <th>525</th>\n",
       "      <td>10</td>\n",
       "      <td>Artes graficas</td>\n",
       "      <td>830068816-1</td>\n",
       "      <td>24</td>\n",
       "      <td>1576750</td>\n",
       "      <td>21</td>\n",
       "      <td>10-Artes graficas</td>\n",
       "      <td>Cluster 1</td>\n",
       "      <td>B</td>\n",
       "    </tr>\n",
       "    <tr>\n",
       "      <th>531</th>\n",
       "      <td>10</td>\n",
       "      <td>Artes graficas</td>\n",
       "      <td>900889064-1</td>\n",
       "      <td>24</td>\n",
       "      <td>1752510</td>\n",
       "      <td>19</td>\n",
       "      <td>10-Artes graficas</td>\n",
       "      <td>Cluster 1</td>\n",
       "      <td>B</td>\n",
       "    </tr>\n",
       "    <tr>\n",
       "      <th>528</th>\n",
       "      <td>10</td>\n",
       "      <td>Artes graficas</td>\n",
       "      <td>860535350-1</td>\n",
       "      <td>24</td>\n",
       "      <td>1695811</td>\n",
       "      <td>19</td>\n",
       "      <td>10-Artes graficas</td>\n",
       "      <td>Cluster 1</td>\n",
       "      <td>B</td>\n",
       "    </tr>\n",
       "    <tr>\n",
       "      <th>530</th>\n",
       "      <td>10</td>\n",
       "      <td>Artes graficas</td>\n",
       "      <td>900173543-1</td>\n",
       "      <td>23</td>\n",
       "      <td>2163092</td>\n",
       "      <td>17</td>\n",
       "      <td>10-Artes graficas</td>\n",
       "      <td>Cluster 1</td>\n",
       "      <td>B</td>\n",
       "    </tr>\n",
       "  </tbody>\n",
       "</table>\n",
       "</div>"
      ],
      "text/plain": [
       "     Codigo distrito Nombre tipo zona Nit cliente-sucursal  Recency  Monetary  \\\n",
       "534               10   Artes graficas          830098200-1       24   3293858   \n",
       "535               10   Artes graficas          860530370-1       24   3079425   \n",
       "532               10   Artes graficas          800138131-1       24   2880098   \n",
       "526               10   Artes graficas          860000198-1       24   2394980   \n",
       "523               10   Artes graficas          800103903-1       24   2233923   \n",
       "527               10   Artes graficas          860521517-1       24   1693460   \n",
       "533               10   Artes graficas          800226417-1       24   4608290   \n",
       "529               10   Artes graficas          900085929-1       24   2165865   \n",
       "524               10   Artes graficas          800234331-1       24   1586684   \n",
       "525               10   Artes graficas          830068816-1       24   1576750   \n",
       "531               10   Artes graficas          900889064-1       24   1752510   \n",
       "528               10   Artes graficas          860535350-1       24   1695811   \n",
       "530               10   Artes graficas          900173543-1       23   2163092   \n",
       "\n",
       "     Frequency Distrito-Nombretipozona    Cluster Letra cluster  \n",
       "534         24       10-Artes graficas  Cluster 3             A  \n",
       "535         24       10-Artes graficas  Cluster 3             A  \n",
       "532         24       10-Artes graficas  Cluster 3             A  \n",
       "526         24       10-Artes graficas  Cluster 1             B  \n",
       "523         24       10-Artes graficas  Cluster 1             B  \n",
       "527         24       10-Artes graficas  Cluster 1             B  \n",
       "533         23       10-Artes graficas  Cluster 3             A  \n",
       "529         22       10-Artes graficas  Cluster 1             B  \n",
       "524         22       10-Artes graficas  Cluster 1             B  \n",
       "525         21       10-Artes graficas  Cluster 1             B  \n",
       "531         19       10-Artes graficas  Cluster 1             B  \n",
       "528         19       10-Artes graficas  Cluster 1             B  \n",
       "530         17       10-Artes graficas  Cluster 1             B  "
      ]
     },
     "execution_count": 28,
     "metadata": {},
     "output_type": "execute_result"
    }
   ],
   "source": [
    "df_10_ag = df_10_ag.sort_values(by=[\"Recency\", \"Frequency\", \"Monetary\"], ascending= False, )\n",
    "df_10_ag"
   ]
  },
  {
   "cell_type": "code",
   "execution_count": 29,
   "metadata": {},
   "outputs": [],
   "source": [
    "## Conexion al DWH\n",
    "cnxn = pyodbc.connect(\n",
    "    driver='{SQL Server}',\n",
    "    server='192.168.100.58',\n",
    "    uid='bilectura',\n",
    "    pwd='D1sp@p3l3s')\n",
    "cursor = cnxn.cursor()\n",
    "#cnxn.close()"
   ]
  },
  {
   "cell_type": "code",
   "execution_count": 49,
   "metadata": {},
   "outputs": [],
   "source": [
    "codigo_SQL = \"SELECT A.DSTCOD AS 'Codigo distrito', CONCAT(CONCAT(A.VTANIT,'-'),A.VTASUC) AS 'Nit cliente-sucursal', DATEFROMPARTS(A.VTAANO, A.VTAMES, 1) AS 'Fecha', A.VTAANO AS 'Ano', A.VTAMES AS 'Mes', SUM(A.VTAVLRVTA) AS 'Ventas' FROM V_VTA_VTAHEC A LEFT JOIN DIM_CLIENTES B ON A.PRMCOD = B.PRMCOD AND A.DSTCOD = B.DSTCOD AND A.VTANIT = B.CLTNIT AND A.VTASUC = B.CLTSUC WHERE A.PRMCOD = 1 AND A.DSTCOD = 10 AND CONCAT(CONCAT(A.VTANIT,'-'),A.VTASUC) = '830098200-1' AND A.VTAFCH < DATEFROMPARTS(2023,2,1) GROUP BY A.DSTCOD,  B.VNDZNA, CONCAT(CONCAT(A.VTANIT,'-'),A.VTASUC), DATEFROMPARTS(A.VTAANO, A.VTAMES, 1), A.VTAANO, A.VTAMES\""
   ]
  },
  {
   "cell_type": "code",
   "execution_count": 127,
   "metadata": {},
   "outputs": [],
   "source": [
    "#Cargue de la data desde el ERP de Dispapeles y se guarda en df\n",
    "cursor.execute(codigo_SQL)\n",
    "rows = cursor.fetchall()\n",
    "df_SQL = pd.DataFrame.from_records(rows, columns=[col[0] for col in cursor.description])\n",
    "df_SQL[\"Ventas\"] = df_SQL[\"Ventas\"].astype(int)"
   ]
  },
  {
   "cell_type": "code",
   "execution_count": null,
   "metadata": {},
   "outputs": [],
   "source": [
    "# Escribir codigo SQL al dwh para traer la info de cada cliente para la regresion, primero ano mes todo lo que haya se los clientes A"
   ]
  },
  {
   "cell_type": "code",
   "execution_count": 53,
   "metadata": {},
   "outputs": [
    {
     "data": {
      "text/plain": [
       "Index(['Codigo distrito', 'Nit cliente-sucursal', 'Fecha', 'Ano', 'Mes',\n",
       "       'Ventas'],\n",
       "      dtype='object')"
      ]
     },
     "execution_count": 53,
     "metadata": {},
     "output_type": "execute_result"
    }
   ],
   "source": [
    "df_SQL.columns"
   ]
  },
  {
   "cell_type": "code",
   "execution_count": 128,
   "metadata": {},
   "outputs": [
    {
     "data": {
      "application/vnd.plotly.v1+json": {
       "config": {
        "plotlyServerURL": "https://plot.ly"
       },
       "data": [
        {
         "hovertemplate": "variable=Ventas<br>Fecha=%{x}<br>value=%{y}<extra></extra>",
         "legendgroup": "Ventas",
         "line": {
          "color": "#636efa",
          "dash": "solid"
         },
         "marker": {
          "symbol": "circle"
         },
         "mode": "lines",
         "name": "Ventas",
         "orientation": "v",
         "showlegend": true,
         "type": "scatter",
         "x": [
          "2018-01-01",
          "2018-02-01",
          "2018-03-01",
          "2018-04-01",
          "2018-05-01",
          "2018-06-01",
          "2018-07-01",
          "2018-08-01",
          "2018-09-01",
          "2018-10-01",
          "2018-11-01",
          "2018-12-01",
          "2019-01-01",
          "2019-02-01",
          "2019-03-01",
          "2019-04-01",
          "2019-05-01",
          "2019-06-01",
          "2019-07-01",
          "2019-08-01",
          "2019-09-01",
          "2019-10-01",
          "2019-11-01",
          "2019-12-01",
          "2020-01-01",
          "2020-02-01",
          "2020-03-01",
          "2020-04-01",
          "2020-05-01",
          "2020-06-01",
          "2020-07-01",
          "2020-08-01",
          "2020-09-01",
          "2020-10-01",
          "2020-11-01",
          "2020-12-01",
          "2021-01-01",
          "2021-02-01",
          "2021-03-01",
          "2021-04-01",
          "2021-05-01",
          "2021-06-01",
          "2021-07-01",
          "2021-08-01",
          "2021-09-01",
          "2021-10-01",
          "2021-11-01",
          "2021-12-01",
          "2022-01-01",
          "2022-02-01",
          "2022-03-01",
          "2022-04-01",
          "2022-05-01",
          "2022-06-01",
          "2022-07-01",
          "2022-08-01",
          "2022-09-01",
          "2022-10-01",
          "2022-11-01",
          "2022-12-01",
          "2023-01-01"
         ],
         "xaxis": "x",
         "y": [
          55912513,
          22095734,
          3730338,
          663201,
          56558958,
          11119099,
          18646150,
          119965122,
          27437796,
          19977298,
          36646601,
          14326001,
          39779088,
          83227435,
          102392630,
          10327161,
          57095178,
          141924156,
          111224644,
          40381052,
          26190606,
          30429516,
          13418712,
          22324650,
          4483869,
          13355015,
          60574998,
          33894853,
          25593972,
          222890552,
          96504289,
          84179371,
          54869692,
          61874139,
          66704035,
          136673738,
          46475779,
          138854326,
          136584466,
          40447082,
          3759048,
          20921560,
          208332670,
          116390769,
          201429161,
          135513886,
          58341346,
          58424065,
          51425059,
          216872480,
          350023322,
          275499854,
          164233996,
          336626568,
          33465948,
          43282506,
          74354417,
          148368806,
          253728291,
          180502856,
          82090695
         ],
         "yaxis": "y"
        },
        {
         "hovertemplate": "variable=MA12<br>Fecha=%{x}<br>value=%{y}<extra></extra>",
         "legendgroup": "MA12",
         "line": {
          "color": "#EF553B",
          "dash": "solid"
         },
         "marker": {
          "symbol": "circle"
         },
         "mode": "lines",
         "name": "MA12",
         "orientation": "v",
         "showlegend": true,
         "type": "scatter",
         "x": [
          "2018-01-01",
          "2018-02-01",
          "2018-03-01",
          "2018-04-01",
          "2018-05-01",
          "2018-06-01",
          "2018-07-01",
          "2018-08-01",
          "2018-09-01",
          "2018-10-01",
          "2018-11-01",
          "2018-12-01",
          "2019-01-01",
          "2019-02-01",
          "2019-03-01",
          "2019-04-01",
          "2019-05-01",
          "2019-06-01",
          "2019-07-01",
          "2019-08-01",
          "2019-09-01",
          "2019-10-01",
          "2019-11-01",
          "2019-12-01",
          "2020-01-01",
          "2020-02-01",
          "2020-03-01",
          "2020-04-01",
          "2020-05-01",
          "2020-06-01",
          "2020-07-01",
          "2020-08-01",
          "2020-09-01",
          "2020-10-01",
          "2020-11-01",
          "2020-12-01",
          "2021-01-01",
          "2021-02-01",
          "2021-03-01",
          "2021-04-01",
          "2021-05-01",
          "2021-06-01",
          "2021-07-01",
          "2021-08-01",
          "2021-09-01",
          "2021-10-01",
          "2021-11-01",
          "2021-12-01",
          "2022-01-01",
          "2022-02-01",
          "2022-03-01",
          "2022-04-01",
          "2022-05-01",
          "2022-06-01",
          "2022-07-01",
          "2022-08-01",
          "2022-09-01",
          "2022-10-01",
          "2022-11-01",
          "2022-12-01",
          "2023-01-01"
         ],
         "xaxis": "x",
         "y": [
          null,
          null,
          27246195,
          8829757.666666666,
          20317499,
          22780419.333333332,
          28774735.666666668,
          49910123.666666664,
          55349689.333333336,
          55793405.333333336,
          28020565,
          23649966.666666668,
          30250563.333333332,
          45777508,
          75133051,
          65315742,
          56604989.666666664,
          69782165,
          103414659.33333333,
          97843284,
          59265434,
          32333724.666666668,
          23346278,
          22057626,
          13409077,
          13387844.666666666,
          26137960.666666668,
          35941622,
          40021274.333333336,
          94126459,
          114996271,
          134524737.33333334,
          78517784,
          66974400.666666664,
          61149288.666666664,
          88417304,
          83284517.33333333,
          107334614.33333333,
          107304857,
          105295291.33333333,
          60263532,
          21709230,
          77671092.66666667,
          115214999.66666667,
          175384200,
          151111272,
          131761464.33333333,
          84093099,
          56063490,
          108907201.33333333,
          206106953.66666666,
          280798552,
          263252390.66666666,
          258786806,
          178108837.33333334,
          137791674,
          50367623.666666664,
          88668576.33333333,
          158817171.33333334,
          194199984.33333334,
          172107280.66666666
         ],
         "yaxis": "y"
        }
       ],
       "layout": {
        "legend": {
         "title": {
          "text": "variable"
         },
         "tracegroupgap": 0
        },
        "margin": {
         "t": 60
        },
        "template": {
         "data": {
          "bar": [
           {
            "error_x": {
             "color": "#2a3f5f"
            },
            "error_y": {
             "color": "#2a3f5f"
            },
            "marker": {
             "line": {
              "color": "#E5ECF6",
              "width": 0.5
             },
             "pattern": {
              "fillmode": "overlay",
              "size": 10,
              "solidity": 0.2
             }
            },
            "type": "bar"
           }
          ],
          "barpolar": [
           {
            "marker": {
             "line": {
              "color": "#E5ECF6",
              "width": 0.5
             },
             "pattern": {
              "fillmode": "overlay",
              "size": 10,
              "solidity": 0.2
             }
            },
            "type": "barpolar"
           }
          ],
          "carpet": [
           {
            "aaxis": {
             "endlinecolor": "#2a3f5f",
             "gridcolor": "white",
             "linecolor": "white",
             "minorgridcolor": "white",
             "startlinecolor": "#2a3f5f"
            },
            "baxis": {
             "endlinecolor": "#2a3f5f",
             "gridcolor": "white",
             "linecolor": "white",
             "minorgridcolor": "white",
             "startlinecolor": "#2a3f5f"
            },
            "type": "carpet"
           }
          ],
          "choropleth": [
           {
            "colorbar": {
             "outlinewidth": 0,
             "ticks": ""
            },
            "type": "choropleth"
           }
          ],
          "contour": [
           {
            "colorbar": {
             "outlinewidth": 0,
             "ticks": ""
            },
            "colorscale": [
             [
              0,
              "#0d0887"
             ],
             [
              0.1111111111111111,
              "#46039f"
             ],
             [
              0.2222222222222222,
              "#7201a8"
             ],
             [
              0.3333333333333333,
              "#9c179e"
             ],
             [
              0.4444444444444444,
              "#bd3786"
             ],
             [
              0.5555555555555556,
              "#d8576b"
             ],
             [
              0.6666666666666666,
              "#ed7953"
             ],
             [
              0.7777777777777778,
              "#fb9f3a"
             ],
             [
              0.8888888888888888,
              "#fdca26"
             ],
             [
              1,
              "#f0f921"
             ]
            ],
            "type": "contour"
           }
          ],
          "contourcarpet": [
           {
            "colorbar": {
             "outlinewidth": 0,
             "ticks": ""
            },
            "type": "contourcarpet"
           }
          ],
          "heatmap": [
           {
            "colorbar": {
             "outlinewidth": 0,
             "ticks": ""
            },
            "colorscale": [
             [
              0,
              "#0d0887"
             ],
             [
              0.1111111111111111,
              "#46039f"
             ],
             [
              0.2222222222222222,
              "#7201a8"
             ],
             [
              0.3333333333333333,
              "#9c179e"
             ],
             [
              0.4444444444444444,
              "#bd3786"
             ],
             [
              0.5555555555555556,
              "#d8576b"
             ],
             [
              0.6666666666666666,
              "#ed7953"
             ],
             [
              0.7777777777777778,
              "#fb9f3a"
             ],
             [
              0.8888888888888888,
              "#fdca26"
             ],
             [
              1,
              "#f0f921"
             ]
            ],
            "type": "heatmap"
           }
          ],
          "heatmapgl": [
           {
            "colorbar": {
             "outlinewidth": 0,
             "ticks": ""
            },
            "colorscale": [
             [
              0,
              "#0d0887"
             ],
             [
              0.1111111111111111,
              "#46039f"
             ],
             [
              0.2222222222222222,
              "#7201a8"
             ],
             [
              0.3333333333333333,
              "#9c179e"
             ],
             [
              0.4444444444444444,
              "#bd3786"
             ],
             [
              0.5555555555555556,
              "#d8576b"
             ],
             [
              0.6666666666666666,
              "#ed7953"
             ],
             [
              0.7777777777777778,
              "#fb9f3a"
             ],
             [
              0.8888888888888888,
              "#fdca26"
             ],
             [
              1,
              "#f0f921"
             ]
            ],
            "type": "heatmapgl"
           }
          ],
          "histogram": [
           {
            "marker": {
             "pattern": {
              "fillmode": "overlay",
              "size": 10,
              "solidity": 0.2
             }
            },
            "type": "histogram"
           }
          ],
          "histogram2d": [
           {
            "colorbar": {
             "outlinewidth": 0,
             "ticks": ""
            },
            "colorscale": [
             [
              0,
              "#0d0887"
             ],
             [
              0.1111111111111111,
              "#46039f"
             ],
             [
              0.2222222222222222,
              "#7201a8"
             ],
             [
              0.3333333333333333,
              "#9c179e"
             ],
             [
              0.4444444444444444,
              "#bd3786"
             ],
             [
              0.5555555555555556,
              "#d8576b"
             ],
             [
              0.6666666666666666,
              "#ed7953"
             ],
             [
              0.7777777777777778,
              "#fb9f3a"
             ],
             [
              0.8888888888888888,
              "#fdca26"
             ],
             [
              1,
              "#f0f921"
             ]
            ],
            "type": "histogram2d"
           }
          ],
          "histogram2dcontour": [
           {
            "colorbar": {
             "outlinewidth": 0,
             "ticks": ""
            },
            "colorscale": [
             [
              0,
              "#0d0887"
             ],
             [
              0.1111111111111111,
              "#46039f"
             ],
             [
              0.2222222222222222,
              "#7201a8"
             ],
             [
              0.3333333333333333,
              "#9c179e"
             ],
             [
              0.4444444444444444,
              "#bd3786"
             ],
             [
              0.5555555555555556,
              "#d8576b"
             ],
             [
              0.6666666666666666,
              "#ed7953"
             ],
             [
              0.7777777777777778,
              "#fb9f3a"
             ],
             [
              0.8888888888888888,
              "#fdca26"
             ],
             [
              1,
              "#f0f921"
             ]
            ],
            "type": "histogram2dcontour"
           }
          ],
          "mesh3d": [
           {
            "colorbar": {
             "outlinewidth": 0,
             "ticks": ""
            },
            "type": "mesh3d"
           }
          ],
          "parcoords": [
           {
            "line": {
             "colorbar": {
              "outlinewidth": 0,
              "ticks": ""
             }
            },
            "type": "parcoords"
           }
          ],
          "pie": [
           {
            "automargin": true,
            "type": "pie"
           }
          ],
          "scatter": [
           {
            "fillpattern": {
             "fillmode": "overlay",
             "size": 10,
             "solidity": 0.2
            },
            "type": "scatter"
           }
          ],
          "scatter3d": [
           {
            "line": {
             "colorbar": {
              "outlinewidth": 0,
              "ticks": ""
             }
            },
            "marker": {
             "colorbar": {
              "outlinewidth": 0,
              "ticks": ""
             }
            },
            "type": "scatter3d"
           }
          ],
          "scattercarpet": [
           {
            "marker": {
             "colorbar": {
              "outlinewidth": 0,
              "ticks": ""
             }
            },
            "type": "scattercarpet"
           }
          ],
          "scattergeo": [
           {
            "marker": {
             "colorbar": {
              "outlinewidth": 0,
              "ticks": ""
             }
            },
            "type": "scattergeo"
           }
          ],
          "scattergl": [
           {
            "marker": {
             "colorbar": {
              "outlinewidth": 0,
              "ticks": ""
             }
            },
            "type": "scattergl"
           }
          ],
          "scattermapbox": [
           {
            "marker": {
             "colorbar": {
              "outlinewidth": 0,
              "ticks": ""
             }
            },
            "type": "scattermapbox"
           }
          ],
          "scatterpolar": [
           {
            "marker": {
             "colorbar": {
              "outlinewidth": 0,
              "ticks": ""
             }
            },
            "type": "scatterpolar"
           }
          ],
          "scatterpolargl": [
           {
            "marker": {
             "colorbar": {
              "outlinewidth": 0,
              "ticks": ""
             }
            },
            "type": "scatterpolargl"
           }
          ],
          "scatterternary": [
           {
            "marker": {
             "colorbar": {
              "outlinewidth": 0,
              "ticks": ""
             }
            },
            "type": "scatterternary"
           }
          ],
          "surface": [
           {
            "colorbar": {
             "outlinewidth": 0,
             "ticks": ""
            },
            "colorscale": [
             [
              0,
              "#0d0887"
             ],
             [
              0.1111111111111111,
              "#46039f"
             ],
             [
              0.2222222222222222,
              "#7201a8"
             ],
             [
              0.3333333333333333,
              "#9c179e"
             ],
             [
              0.4444444444444444,
              "#bd3786"
             ],
             [
              0.5555555555555556,
              "#d8576b"
             ],
             [
              0.6666666666666666,
              "#ed7953"
             ],
             [
              0.7777777777777778,
              "#fb9f3a"
             ],
             [
              0.8888888888888888,
              "#fdca26"
             ],
             [
              1,
              "#f0f921"
             ]
            ],
            "type": "surface"
           }
          ],
          "table": [
           {
            "cells": {
             "fill": {
              "color": "#EBF0F8"
             },
             "line": {
              "color": "white"
             }
            },
            "header": {
             "fill": {
              "color": "#C8D4E3"
             },
             "line": {
              "color": "white"
             }
            },
            "type": "table"
           }
          ]
         },
         "layout": {
          "annotationdefaults": {
           "arrowcolor": "#2a3f5f",
           "arrowhead": 0,
           "arrowwidth": 1
          },
          "autotypenumbers": "strict",
          "coloraxis": {
           "colorbar": {
            "outlinewidth": 0,
            "ticks": ""
           }
          },
          "colorscale": {
           "diverging": [
            [
             0,
             "#8e0152"
            ],
            [
             0.1,
             "#c51b7d"
            ],
            [
             0.2,
             "#de77ae"
            ],
            [
             0.3,
             "#f1b6da"
            ],
            [
             0.4,
             "#fde0ef"
            ],
            [
             0.5,
             "#f7f7f7"
            ],
            [
             0.6,
             "#e6f5d0"
            ],
            [
             0.7,
             "#b8e186"
            ],
            [
             0.8,
             "#7fbc41"
            ],
            [
             0.9,
             "#4d9221"
            ],
            [
             1,
             "#276419"
            ]
           ],
           "sequential": [
            [
             0,
             "#0d0887"
            ],
            [
             0.1111111111111111,
             "#46039f"
            ],
            [
             0.2222222222222222,
             "#7201a8"
            ],
            [
             0.3333333333333333,
             "#9c179e"
            ],
            [
             0.4444444444444444,
             "#bd3786"
            ],
            [
             0.5555555555555556,
             "#d8576b"
            ],
            [
             0.6666666666666666,
             "#ed7953"
            ],
            [
             0.7777777777777778,
             "#fb9f3a"
            ],
            [
             0.8888888888888888,
             "#fdca26"
            ],
            [
             1,
             "#f0f921"
            ]
           ],
           "sequentialminus": [
            [
             0,
             "#0d0887"
            ],
            [
             0.1111111111111111,
             "#46039f"
            ],
            [
             0.2222222222222222,
             "#7201a8"
            ],
            [
             0.3333333333333333,
             "#9c179e"
            ],
            [
             0.4444444444444444,
             "#bd3786"
            ],
            [
             0.5555555555555556,
             "#d8576b"
            ],
            [
             0.6666666666666666,
             "#ed7953"
            ],
            [
             0.7777777777777778,
             "#fb9f3a"
            ],
            [
             0.8888888888888888,
             "#fdca26"
            ],
            [
             1,
             "#f0f921"
            ]
           ]
          },
          "colorway": [
           "#636efa",
           "#EF553B",
           "#00cc96",
           "#ab63fa",
           "#FFA15A",
           "#19d3f3",
           "#FF6692",
           "#B6E880",
           "#FF97FF",
           "#FECB52"
          ],
          "font": {
           "color": "#2a3f5f"
          },
          "geo": {
           "bgcolor": "white",
           "lakecolor": "white",
           "landcolor": "#E5ECF6",
           "showlakes": true,
           "showland": true,
           "subunitcolor": "white"
          },
          "hoverlabel": {
           "align": "left"
          },
          "hovermode": "closest",
          "mapbox": {
           "style": "light"
          },
          "paper_bgcolor": "white",
          "plot_bgcolor": "#E5ECF6",
          "polar": {
           "angularaxis": {
            "gridcolor": "white",
            "linecolor": "white",
            "ticks": ""
           },
           "bgcolor": "#E5ECF6",
           "radialaxis": {
            "gridcolor": "white",
            "linecolor": "white",
            "ticks": ""
           }
          },
          "scene": {
           "xaxis": {
            "backgroundcolor": "#E5ECF6",
            "gridcolor": "white",
            "gridwidth": 2,
            "linecolor": "white",
            "showbackground": true,
            "ticks": "",
            "zerolinecolor": "white"
           },
           "yaxis": {
            "backgroundcolor": "#E5ECF6",
            "gridcolor": "white",
            "gridwidth": 2,
            "linecolor": "white",
            "showbackground": true,
            "ticks": "",
            "zerolinecolor": "white"
           },
           "zaxis": {
            "backgroundcolor": "#E5ECF6",
            "gridcolor": "white",
            "gridwidth": 2,
            "linecolor": "white",
            "showbackground": true,
            "ticks": "",
            "zerolinecolor": "white"
           }
          },
          "shapedefaults": {
           "line": {
            "color": "#2a3f5f"
           }
          },
          "ternary": {
           "aaxis": {
            "gridcolor": "white",
            "linecolor": "white",
            "ticks": ""
           },
           "baxis": {
            "gridcolor": "white",
            "linecolor": "white",
            "ticks": ""
           },
           "bgcolor": "#E5ECF6",
           "caxis": {
            "gridcolor": "white",
            "linecolor": "white",
            "ticks": ""
           }
          },
          "title": {
           "x": 0.05
          },
          "xaxis": {
           "automargin": true,
           "gridcolor": "white",
           "linecolor": "white",
           "ticks": "",
           "title": {
            "standoff": 15
           },
           "zerolinecolor": "white",
           "zerolinewidth": 2
          },
          "yaxis": {
           "automargin": true,
           "gridcolor": "white",
           "linecolor": "white",
           "ticks": "",
           "title": {
            "standoff": 15
           },
           "zerolinecolor": "white",
           "zerolinewidth": 2
          }
         }
        },
        "xaxis": {
         "anchor": "y",
         "domain": [
          0,
          1
         ],
         "title": {
          "text": "Fecha"
         }
        },
        "yaxis": {
         "anchor": "x",
         "domain": [
          0,
          1
         ],
         "title": {
          "text": "value"
         }
        }
       }
      }
     },
     "metadata": {},
     "output_type": "display_data"
    }
   ],
   "source": [
    "df_SQL[\"MA12\"] = df_SQL[\"Ventas\"].rolling(3).mean()\n",
    "\n",
    "# plot the data and MA\n",
    "fig = px.line(df_SQL, x=\"Fecha\", y=[\"Ventas\", \"MA12\"])\n",
    "fig.show()"
   ]
  },
  {
   "cell_type": "code",
   "execution_count": 129,
   "metadata": {},
   "outputs": [
    {
     "data": {
      "text/html": [
       "<div>\n",
       "<style scoped>\n",
       "    .dataframe tbody tr th:only-of-type {\n",
       "        vertical-align: middle;\n",
       "    }\n",
       "\n",
       "    .dataframe tbody tr th {\n",
       "        vertical-align: top;\n",
       "    }\n",
       "\n",
       "    .dataframe thead th {\n",
       "        text-align: right;\n",
       "    }\n",
       "</style>\n",
       "<table border=\"1\" class=\"dataframe\">\n",
       "  <thead>\n",
       "    <tr style=\"text-align: right;\">\n",
       "      <th></th>\n",
       "      <th>Series</th>\n",
       "      <th>Ano</th>\n",
       "      <th>Mes</th>\n",
       "      <th>Ventas</th>\n",
       "    </tr>\n",
       "  </thead>\n",
       "  <tbody>\n",
       "    <tr>\n",
       "      <th>0</th>\n",
       "      <td>1</td>\n",
       "      <td>2018</td>\n",
       "      <td>1</td>\n",
       "      <td>55912513</td>\n",
       "    </tr>\n",
       "    <tr>\n",
       "      <th>1</th>\n",
       "      <td>2</td>\n",
       "      <td>2018</td>\n",
       "      <td>2</td>\n",
       "      <td>22095734</td>\n",
       "    </tr>\n",
       "    <tr>\n",
       "      <th>2</th>\n",
       "      <td>3</td>\n",
       "      <td>2018</td>\n",
       "      <td>3</td>\n",
       "      <td>3730338</td>\n",
       "    </tr>\n",
       "    <tr>\n",
       "      <th>3</th>\n",
       "      <td>4</td>\n",
       "      <td>2018</td>\n",
       "      <td>4</td>\n",
       "      <td>663201</td>\n",
       "    </tr>\n",
       "    <tr>\n",
       "      <th>4</th>\n",
       "      <td>5</td>\n",
       "      <td>2018</td>\n",
       "      <td>5</td>\n",
       "      <td>56558958</td>\n",
       "    </tr>\n",
       "  </tbody>\n",
       "</table>\n",
       "</div>"
      ],
      "text/plain": [
       "   Series   Ano  Mes    Ventas\n",
       "0       1  2018    1  55912513\n",
       "1       2  2018    2  22095734\n",
       "2       3  2018    3   3730338\n",
       "3       4  2018    4    663201\n",
       "4       5  2018    5  56558958"
      ]
     },
     "execution_count": 129,
     "metadata": {},
     "output_type": "execute_result"
    }
   ],
   "source": [
    "# create a sequence of numbers\n",
    "df_SQL['Series'] = np.arange(1,len(df_SQL)+1)\n",
    "\n",
    "# drop unnecessary columns and re-arrange\n",
    "df_SQL.drop(['Codigo distrito', 'MA12', 'Nit cliente-sucursal', 'Fecha'], axis=1, inplace=True)\n",
    "df_SQL = df_SQL[['Series', 'Ano', 'Mes', 'Ventas']] \n",
    "\n",
    "# check the head of the dataset\n",
    "df_SQL.head()"
   ]
  },
  {
   "cell_type": "code",
   "execution_count": 130,
   "metadata": {},
   "outputs": [],
   "source": [
    "train_n = int(round(df_SQL.shape[0] * 0.7, 0))\n",
    "test_n = df_SQL.shape[0] - train_n"
   ]
  },
  {
   "cell_type": "code",
   "execution_count": 131,
   "metadata": {},
   "outputs": [
    {
     "data": {
      "text/html": [
       "<div>\n",
       "<style scoped>\n",
       "    .dataframe tbody tr th:only-of-type {\n",
       "        vertical-align: middle;\n",
       "    }\n",
       "\n",
       "    .dataframe tbody tr th {\n",
       "        vertical-align: top;\n",
       "    }\n",
       "\n",
       "    .dataframe thead th {\n",
       "        text-align: right;\n",
       "    }\n",
       "</style>\n",
       "<table border=\"1\" class=\"dataframe\">\n",
       "  <thead>\n",
       "    <tr style=\"text-align: right;\">\n",
       "      <th></th>\n",
       "      <th>Series</th>\n",
       "      <th>Ano</th>\n",
       "      <th>Mes</th>\n",
       "      <th>Ventas</th>\n",
       "    </tr>\n",
       "  </thead>\n",
       "  <tbody>\n",
       "    <tr>\n",
       "      <th>0</th>\n",
       "      <td>1</td>\n",
       "      <td>2018</td>\n",
       "      <td>1</td>\n",
       "      <td>55912513</td>\n",
       "    </tr>\n",
       "    <tr>\n",
       "      <th>1</th>\n",
       "      <td>2</td>\n",
       "      <td>2018</td>\n",
       "      <td>2</td>\n",
       "      <td>22095734</td>\n",
       "    </tr>\n",
       "    <tr>\n",
       "      <th>2</th>\n",
       "      <td>3</td>\n",
       "      <td>2018</td>\n",
       "      <td>3</td>\n",
       "      <td>3730338</td>\n",
       "    </tr>\n",
       "    <tr>\n",
       "      <th>3</th>\n",
       "      <td>4</td>\n",
       "      <td>2018</td>\n",
       "      <td>4</td>\n",
       "      <td>663201</td>\n",
       "    </tr>\n",
       "    <tr>\n",
       "      <th>4</th>\n",
       "      <td>5</td>\n",
       "      <td>2018</td>\n",
       "      <td>5</td>\n",
       "      <td>56558958</td>\n",
       "    </tr>\n",
       "    <tr>\n",
       "      <th>5</th>\n",
       "      <td>6</td>\n",
       "      <td>2018</td>\n",
       "      <td>6</td>\n",
       "      <td>11119099</td>\n",
       "    </tr>\n",
       "    <tr>\n",
       "      <th>6</th>\n",
       "      <td>7</td>\n",
       "      <td>2018</td>\n",
       "      <td>7</td>\n",
       "      <td>18646150</td>\n",
       "    </tr>\n",
       "    <tr>\n",
       "      <th>7</th>\n",
       "      <td>8</td>\n",
       "      <td>2018</td>\n",
       "      <td>8</td>\n",
       "      <td>119965122</td>\n",
       "    </tr>\n",
       "    <tr>\n",
       "      <th>8</th>\n",
       "      <td>9</td>\n",
       "      <td>2018</td>\n",
       "      <td>9</td>\n",
       "      <td>27437796</td>\n",
       "    </tr>\n",
       "    <tr>\n",
       "      <th>9</th>\n",
       "      <td>10</td>\n",
       "      <td>2018</td>\n",
       "      <td>10</td>\n",
       "      <td>19977298</td>\n",
       "    </tr>\n",
       "    <tr>\n",
       "      <th>10</th>\n",
       "      <td>11</td>\n",
       "      <td>2018</td>\n",
       "      <td>11</td>\n",
       "      <td>36646601</td>\n",
       "    </tr>\n",
       "    <tr>\n",
       "      <th>11</th>\n",
       "      <td>12</td>\n",
       "      <td>2018</td>\n",
       "      <td>12</td>\n",
       "      <td>14326001</td>\n",
       "    </tr>\n",
       "    <tr>\n",
       "      <th>12</th>\n",
       "      <td>13</td>\n",
       "      <td>2019</td>\n",
       "      <td>1</td>\n",
       "      <td>39779088</td>\n",
       "    </tr>\n",
       "    <tr>\n",
       "      <th>13</th>\n",
       "      <td>14</td>\n",
       "      <td>2019</td>\n",
       "      <td>2</td>\n",
       "      <td>83227435</td>\n",
       "    </tr>\n",
       "    <tr>\n",
       "      <th>14</th>\n",
       "      <td>15</td>\n",
       "      <td>2019</td>\n",
       "      <td>3</td>\n",
       "      <td>102392630</td>\n",
       "    </tr>\n",
       "    <tr>\n",
       "      <th>15</th>\n",
       "      <td>16</td>\n",
       "      <td>2019</td>\n",
       "      <td>4</td>\n",
       "      <td>10327161</td>\n",
       "    </tr>\n",
       "    <tr>\n",
       "      <th>16</th>\n",
       "      <td>17</td>\n",
       "      <td>2019</td>\n",
       "      <td>5</td>\n",
       "      <td>57095178</td>\n",
       "    </tr>\n",
       "    <tr>\n",
       "      <th>17</th>\n",
       "      <td>18</td>\n",
       "      <td>2019</td>\n",
       "      <td>6</td>\n",
       "      <td>141924156</td>\n",
       "    </tr>\n",
       "    <tr>\n",
       "      <th>18</th>\n",
       "      <td>19</td>\n",
       "      <td>2019</td>\n",
       "      <td>7</td>\n",
       "      <td>111224644</td>\n",
       "    </tr>\n",
       "    <tr>\n",
       "      <th>19</th>\n",
       "      <td>20</td>\n",
       "      <td>2019</td>\n",
       "      <td>8</td>\n",
       "      <td>40381052</td>\n",
       "    </tr>\n",
       "    <tr>\n",
       "      <th>20</th>\n",
       "      <td>21</td>\n",
       "      <td>2019</td>\n",
       "      <td>9</td>\n",
       "      <td>26190606</td>\n",
       "    </tr>\n",
       "    <tr>\n",
       "      <th>21</th>\n",
       "      <td>22</td>\n",
       "      <td>2019</td>\n",
       "      <td>10</td>\n",
       "      <td>30429516</td>\n",
       "    </tr>\n",
       "    <tr>\n",
       "      <th>22</th>\n",
       "      <td>23</td>\n",
       "      <td>2019</td>\n",
       "      <td>11</td>\n",
       "      <td>13418712</td>\n",
       "    </tr>\n",
       "    <tr>\n",
       "      <th>23</th>\n",
       "      <td>24</td>\n",
       "      <td>2019</td>\n",
       "      <td>12</td>\n",
       "      <td>22324650</td>\n",
       "    </tr>\n",
       "    <tr>\n",
       "      <th>24</th>\n",
       "      <td>25</td>\n",
       "      <td>2020</td>\n",
       "      <td>1</td>\n",
       "      <td>4483869</td>\n",
       "    </tr>\n",
       "    <tr>\n",
       "      <th>25</th>\n",
       "      <td>26</td>\n",
       "      <td>2020</td>\n",
       "      <td>2</td>\n",
       "      <td>13355015</td>\n",
       "    </tr>\n",
       "    <tr>\n",
       "      <th>26</th>\n",
       "      <td>27</td>\n",
       "      <td>2020</td>\n",
       "      <td>3</td>\n",
       "      <td>60574998</td>\n",
       "    </tr>\n",
       "    <tr>\n",
       "      <th>27</th>\n",
       "      <td>28</td>\n",
       "      <td>2020</td>\n",
       "      <td>4</td>\n",
       "      <td>33894853</td>\n",
       "    </tr>\n",
       "    <tr>\n",
       "      <th>28</th>\n",
       "      <td>29</td>\n",
       "      <td>2020</td>\n",
       "      <td>5</td>\n",
       "      <td>25593972</td>\n",
       "    </tr>\n",
       "    <tr>\n",
       "      <th>29</th>\n",
       "      <td>30</td>\n",
       "      <td>2020</td>\n",
       "      <td>6</td>\n",
       "      <td>222890552</td>\n",
       "    </tr>\n",
       "    <tr>\n",
       "      <th>30</th>\n",
       "      <td>31</td>\n",
       "      <td>2020</td>\n",
       "      <td>7</td>\n",
       "      <td>96504289</td>\n",
       "    </tr>\n",
       "    <tr>\n",
       "      <th>31</th>\n",
       "      <td>32</td>\n",
       "      <td>2020</td>\n",
       "      <td>8</td>\n",
       "      <td>84179371</td>\n",
       "    </tr>\n",
       "    <tr>\n",
       "      <th>32</th>\n",
       "      <td>33</td>\n",
       "      <td>2020</td>\n",
       "      <td>9</td>\n",
       "      <td>54869692</td>\n",
       "    </tr>\n",
       "    <tr>\n",
       "      <th>33</th>\n",
       "      <td>34</td>\n",
       "      <td>2020</td>\n",
       "      <td>10</td>\n",
       "      <td>61874139</td>\n",
       "    </tr>\n",
       "    <tr>\n",
       "      <th>34</th>\n",
       "      <td>35</td>\n",
       "      <td>2020</td>\n",
       "      <td>11</td>\n",
       "      <td>66704035</td>\n",
       "    </tr>\n",
       "    <tr>\n",
       "      <th>35</th>\n",
       "      <td>36</td>\n",
       "      <td>2020</td>\n",
       "      <td>12</td>\n",
       "      <td>136673738</td>\n",
       "    </tr>\n",
       "    <tr>\n",
       "      <th>36</th>\n",
       "      <td>37</td>\n",
       "      <td>2021</td>\n",
       "      <td>1</td>\n",
       "      <td>46475779</td>\n",
       "    </tr>\n",
       "    <tr>\n",
       "      <th>37</th>\n",
       "      <td>38</td>\n",
       "      <td>2021</td>\n",
       "      <td>2</td>\n",
       "      <td>138854326</td>\n",
       "    </tr>\n",
       "    <tr>\n",
       "      <th>38</th>\n",
       "      <td>39</td>\n",
       "      <td>2021</td>\n",
       "      <td>3</td>\n",
       "      <td>136584466</td>\n",
       "    </tr>\n",
       "    <tr>\n",
       "      <th>39</th>\n",
       "      <td>40</td>\n",
       "      <td>2021</td>\n",
       "      <td>4</td>\n",
       "      <td>40447082</td>\n",
       "    </tr>\n",
       "    <tr>\n",
       "      <th>40</th>\n",
       "      <td>41</td>\n",
       "      <td>2021</td>\n",
       "      <td>5</td>\n",
       "      <td>3759048</td>\n",
       "    </tr>\n",
       "    <tr>\n",
       "      <th>41</th>\n",
       "      <td>42</td>\n",
       "      <td>2021</td>\n",
       "      <td>6</td>\n",
       "      <td>20921560</td>\n",
       "    </tr>\n",
       "    <tr>\n",
       "      <th>42</th>\n",
       "      <td>43</td>\n",
       "      <td>2021</td>\n",
       "      <td>7</td>\n",
       "      <td>208332670</td>\n",
       "    </tr>\n",
       "  </tbody>\n",
       "</table>\n",
       "</div>"
      ],
      "text/plain": [
       "    Series   Ano  Mes     Ventas\n",
       "0        1  2018    1   55912513\n",
       "1        2  2018    2   22095734\n",
       "2        3  2018    3    3730338\n",
       "3        4  2018    4     663201\n",
       "4        5  2018    5   56558958\n",
       "5        6  2018    6   11119099\n",
       "6        7  2018    7   18646150\n",
       "7        8  2018    8  119965122\n",
       "8        9  2018    9   27437796\n",
       "9       10  2018   10   19977298\n",
       "10      11  2018   11   36646601\n",
       "11      12  2018   12   14326001\n",
       "12      13  2019    1   39779088\n",
       "13      14  2019    2   83227435\n",
       "14      15  2019    3  102392630\n",
       "15      16  2019    4   10327161\n",
       "16      17  2019    5   57095178\n",
       "17      18  2019    6  141924156\n",
       "18      19  2019    7  111224644\n",
       "19      20  2019    8   40381052\n",
       "20      21  2019    9   26190606\n",
       "21      22  2019   10   30429516\n",
       "22      23  2019   11   13418712\n",
       "23      24  2019   12   22324650\n",
       "24      25  2020    1    4483869\n",
       "25      26  2020    2   13355015\n",
       "26      27  2020    3   60574998\n",
       "27      28  2020    4   33894853\n",
       "28      29  2020    5   25593972\n",
       "29      30  2020    6  222890552\n",
       "30      31  2020    7   96504289\n",
       "31      32  2020    8   84179371\n",
       "32      33  2020    9   54869692\n",
       "33      34  2020   10   61874139\n",
       "34      35  2020   11   66704035\n",
       "35      36  2020   12  136673738\n",
       "36      37  2021    1   46475779\n",
       "37      38  2021    2  138854326\n",
       "38      39  2021    3  136584466\n",
       "39      40  2021    4   40447082\n",
       "40      41  2021    5    3759048\n",
       "41      42  2021    6   20921560\n",
       "42      43  2021    7  208332670"
      ]
     },
     "execution_count": 131,
     "metadata": {},
     "output_type": "execute_result"
    }
   ],
   "source": [
    "df_SQL.iloc[:train_n]"
   ]
  },
  {
   "cell_type": "code",
   "execution_count": 132,
   "metadata": {},
   "outputs": [
    {
     "data": {
      "text/html": [
       "<div>\n",
       "<style scoped>\n",
       "    .dataframe tbody tr th:only-of-type {\n",
       "        vertical-align: middle;\n",
       "    }\n",
       "\n",
       "    .dataframe tbody tr th {\n",
       "        vertical-align: top;\n",
       "    }\n",
       "\n",
       "    .dataframe thead th {\n",
       "        text-align: right;\n",
       "    }\n",
       "</style>\n",
       "<table border=\"1\" class=\"dataframe\">\n",
       "  <thead>\n",
       "    <tr style=\"text-align: right;\">\n",
       "      <th></th>\n",
       "      <th>Series</th>\n",
       "      <th>Ano</th>\n",
       "      <th>Mes</th>\n",
       "      <th>Ventas</th>\n",
       "    </tr>\n",
       "  </thead>\n",
       "  <tbody>\n",
       "    <tr>\n",
       "      <th>43</th>\n",
       "      <td>44</td>\n",
       "      <td>2021</td>\n",
       "      <td>8</td>\n",
       "      <td>116390769</td>\n",
       "    </tr>\n",
       "    <tr>\n",
       "      <th>44</th>\n",
       "      <td>45</td>\n",
       "      <td>2021</td>\n",
       "      <td>9</td>\n",
       "      <td>201429161</td>\n",
       "    </tr>\n",
       "    <tr>\n",
       "      <th>45</th>\n",
       "      <td>46</td>\n",
       "      <td>2021</td>\n",
       "      <td>10</td>\n",
       "      <td>135513886</td>\n",
       "    </tr>\n",
       "    <tr>\n",
       "      <th>46</th>\n",
       "      <td>47</td>\n",
       "      <td>2021</td>\n",
       "      <td>11</td>\n",
       "      <td>58341346</td>\n",
       "    </tr>\n",
       "    <tr>\n",
       "      <th>47</th>\n",
       "      <td>48</td>\n",
       "      <td>2021</td>\n",
       "      <td>12</td>\n",
       "      <td>58424065</td>\n",
       "    </tr>\n",
       "    <tr>\n",
       "      <th>48</th>\n",
       "      <td>49</td>\n",
       "      <td>2022</td>\n",
       "      <td>1</td>\n",
       "      <td>51425059</td>\n",
       "    </tr>\n",
       "    <tr>\n",
       "      <th>49</th>\n",
       "      <td>50</td>\n",
       "      <td>2022</td>\n",
       "      <td>2</td>\n",
       "      <td>216872480</td>\n",
       "    </tr>\n",
       "    <tr>\n",
       "      <th>50</th>\n",
       "      <td>51</td>\n",
       "      <td>2022</td>\n",
       "      <td>3</td>\n",
       "      <td>350023322</td>\n",
       "    </tr>\n",
       "    <tr>\n",
       "      <th>51</th>\n",
       "      <td>52</td>\n",
       "      <td>2022</td>\n",
       "      <td>4</td>\n",
       "      <td>275499854</td>\n",
       "    </tr>\n",
       "    <tr>\n",
       "      <th>52</th>\n",
       "      <td>53</td>\n",
       "      <td>2022</td>\n",
       "      <td>5</td>\n",
       "      <td>164233996</td>\n",
       "    </tr>\n",
       "    <tr>\n",
       "      <th>53</th>\n",
       "      <td>54</td>\n",
       "      <td>2022</td>\n",
       "      <td>6</td>\n",
       "      <td>336626568</td>\n",
       "    </tr>\n",
       "    <tr>\n",
       "      <th>54</th>\n",
       "      <td>55</td>\n",
       "      <td>2022</td>\n",
       "      <td>7</td>\n",
       "      <td>33465948</td>\n",
       "    </tr>\n",
       "    <tr>\n",
       "      <th>55</th>\n",
       "      <td>56</td>\n",
       "      <td>2022</td>\n",
       "      <td>8</td>\n",
       "      <td>43282506</td>\n",
       "    </tr>\n",
       "    <tr>\n",
       "      <th>56</th>\n",
       "      <td>57</td>\n",
       "      <td>2022</td>\n",
       "      <td>9</td>\n",
       "      <td>74354417</td>\n",
       "    </tr>\n",
       "    <tr>\n",
       "      <th>57</th>\n",
       "      <td>58</td>\n",
       "      <td>2022</td>\n",
       "      <td>10</td>\n",
       "      <td>148368806</td>\n",
       "    </tr>\n",
       "    <tr>\n",
       "      <th>58</th>\n",
       "      <td>59</td>\n",
       "      <td>2022</td>\n",
       "      <td>11</td>\n",
       "      <td>253728291</td>\n",
       "    </tr>\n",
       "    <tr>\n",
       "      <th>59</th>\n",
       "      <td>60</td>\n",
       "      <td>2022</td>\n",
       "      <td>12</td>\n",
       "      <td>180502856</td>\n",
       "    </tr>\n",
       "    <tr>\n",
       "      <th>60</th>\n",
       "      <td>61</td>\n",
       "      <td>2023</td>\n",
       "      <td>1</td>\n",
       "      <td>82090695</td>\n",
       "    </tr>\n",
       "  </tbody>\n",
       "</table>\n",
       "</div>"
      ],
      "text/plain": [
       "    Series   Ano  Mes     Ventas\n",
       "43      44  2021    8  116390769\n",
       "44      45  2021    9  201429161\n",
       "45      46  2021   10  135513886\n",
       "46      47  2021   11   58341346\n",
       "47      48  2021   12   58424065\n",
       "48      49  2022    1   51425059\n",
       "49      50  2022    2  216872480\n",
       "50      51  2022    3  350023322\n",
       "51      52  2022    4  275499854\n",
       "52      53  2022    5  164233996\n",
       "53      54  2022    6  336626568\n",
       "54      55  2022    7   33465948\n",
       "55      56  2022    8   43282506\n",
       "56      57  2022    9   74354417\n",
       "57      58  2022   10  148368806\n",
       "58      59  2022   11  253728291\n",
       "59      60  2022   12  180502856\n",
       "60      61  2023    1   82090695"
      ]
     },
     "execution_count": 132,
     "metadata": {},
     "output_type": "execute_result"
    }
   ],
   "source": [
    "df_SQL.iloc[train_n:]"
   ]
  },
  {
   "cell_type": "code",
   "execution_count": 133,
   "metadata": {},
   "outputs": [
    {
     "data": {
      "text/plain": [
       "((43, 4), (18, 4))"
      ]
     },
     "execution_count": 133,
     "metadata": {},
     "output_type": "execute_result"
    }
   ],
   "source": [
    "# split data into train-test set\n",
    "train = df_SQL.iloc[:train_n]\n",
    "test = df_SQL.iloc[train_n:]\n",
    "# check shape\n",
    "train.shape, test.shape"
   ]
  },
  {
   "cell_type": "code",
   "execution_count": 134,
   "metadata": {},
   "outputs": [],
   "source": [
    "s = setup(\n",
    "        data = train,\n",
    "        test_data = test,\n",
    "        target = 'Ventas',\n",
    "        fold_strategy = 'timeseries',\n",
    "        numeric_features = ['Ano', 'Series'],\n",
    "        fold = 3, \n",
    "        transform_target = True,\n",
    "        session_id = 42,\n",
    "        silent= True,\n",
    "        verbose= False\n",
    "        )"
   ]
  },
  {
   "cell_type": "code",
   "execution_count": 135,
   "metadata": {},
   "outputs": [
    {
     "data": {
      "text/html": [
       "<style type=\"text/css\">\n",
       "#T_d0dc3 th {\n",
       "  text-align: left;\n",
       "}\n",
       "#T_d0dc3_row0_col0, #T_d0dc3_row0_col6, #T_d0dc3_row1_col0, #T_d0dc3_row1_col1, #T_d0dc3_row1_col2, #T_d0dc3_row1_col3, #T_d0dc3_row1_col4, #T_d0dc3_row1_col5, #T_d0dc3_row1_col6, #T_d0dc3_row2_col0, #T_d0dc3_row2_col1, #T_d0dc3_row2_col2, #T_d0dc3_row2_col3, #T_d0dc3_row2_col4, #T_d0dc3_row2_col5, #T_d0dc3_row2_col6, #T_d0dc3_row3_col0, #T_d0dc3_row3_col1, #T_d0dc3_row3_col2, #T_d0dc3_row3_col3, #T_d0dc3_row3_col4, #T_d0dc3_row3_col5, #T_d0dc3_row3_col6, #T_d0dc3_row4_col0, #T_d0dc3_row4_col1, #T_d0dc3_row4_col2, #T_d0dc3_row4_col3, #T_d0dc3_row4_col4, #T_d0dc3_row4_col5, #T_d0dc3_row4_col6, #T_d0dc3_row5_col0, #T_d0dc3_row5_col1, #T_d0dc3_row5_col2, #T_d0dc3_row5_col3, #T_d0dc3_row5_col4, #T_d0dc3_row5_col5, #T_d0dc3_row5_col6, #T_d0dc3_row6_col0, #T_d0dc3_row6_col1, #T_d0dc3_row6_col2, #T_d0dc3_row6_col3, #T_d0dc3_row6_col4, #T_d0dc3_row6_col5, #T_d0dc3_row6_col6, #T_d0dc3_row7_col0, #T_d0dc3_row7_col1, #T_d0dc3_row7_col2, #T_d0dc3_row7_col3, #T_d0dc3_row7_col4, #T_d0dc3_row7_col5, #T_d0dc3_row7_col6, #T_d0dc3_row8_col0, #T_d0dc3_row8_col1, #T_d0dc3_row8_col2, #T_d0dc3_row8_col3, #T_d0dc3_row8_col4, #T_d0dc3_row8_col5, #T_d0dc3_row8_col6, #T_d0dc3_row9_col0, #T_d0dc3_row9_col1, #T_d0dc3_row9_col2, #T_d0dc3_row9_col3, #T_d0dc3_row9_col4, #T_d0dc3_row9_col5, #T_d0dc3_row10_col0, #T_d0dc3_row10_col1, #T_d0dc3_row10_col2, #T_d0dc3_row10_col3, #T_d0dc3_row10_col4, #T_d0dc3_row10_col5, #T_d0dc3_row11_col0, #T_d0dc3_row11_col1, #T_d0dc3_row11_col2, #T_d0dc3_row11_col3, #T_d0dc3_row11_col4, #T_d0dc3_row11_col5, #T_d0dc3_row12_col0, #T_d0dc3_row12_col1, #T_d0dc3_row12_col2, #T_d0dc3_row12_col3, #T_d0dc3_row12_col4, #T_d0dc3_row12_col5, #T_d0dc3_row12_col6, #T_d0dc3_row13_col0, #T_d0dc3_row13_col1, #T_d0dc3_row13_col2, #T_d0dc3_row13_col3, #T_d0dc3_row13_col4, #T_d0dc3_row13_col5, #T_d0dc3_row13_col6, #T_d0dc3_row14_col0, #T_d0dc3_row14_col1, #T_d0dc3_row14_col2, #T_d0dc3_row14_col3, #T_d0dc3_row14_col4, #T_d0dc3_row14_col5, #T_d0dc3_row14_col6, #T_d0dc3_row15_col0, #T_d0dc3_row15_col1, #T_d0dc3_row15_col2, #T_d0dc3_row15_col3, #T_d0dc3_row15_col4, #T_d0dc3_row15_col5, #T_d0dc3_row15_col6, #T_d0dc3_row16_col0, #T_d0dc3_row16_col1, #T_d0dc3_row16_col2, #T_d0dc3_row16_col3, #T_d0dc3_row16_col4, #T_d0dc3_row16_col5, #T_d0dc3_row16_col6, #T_d0dc3_row17_col0, #T_d0dc3_row17_col1, #T_d0dc3_row17_col2, #T_d0dc3_row17_col3, #T_d0dc3_row17_col4, #T_d0dc3_row17_col5, #T_d0dc3_row17_col6, #T_d0dc3_row18_col0, #T_d0dc3_row18_col1, #T_d0dc3_row18_col2, #T_d0dc3_row18_col3, #T_d0dc3_row18_col4, #T_d0dc3_row18_col5, #T_d0dc3_row18_col6, #T_d0dc3_row19_col0, #T_d0dc3_row19_col1, #T_d0dc3_row19_col2, #T_d0dc3_row19_col3, #T_d0dc3_row19_col4, #T_d0dc3_row19_col5, #T_d0dc3_row19_col6 {\n",
       "  text-align: left;\n",
       "}\n",
       "#T_d0dc3_row0_col1, #T_d0dc3_row0_col2, #T_d0dc3_row0_col3, #T_d0dc3_row0_col4, #T_d0dc3_row0_col5, #T_d0dc3_row9_col6, #T_d0dc3_row10_col6, #T_d0dc3_row11_col6 {\n",
       "  text-align: left;\n",
       "  background-color: yellow;\n",
       "}\n",
       "#T_d0dc3_row0_col7, #T_d0dc3_row1_col7, #T_d0dc3_row3_col7, #T_d0dc3_row4_col7, #T_d0dc3_row5_col7, #T_d0dc3_row6_col7, #T_d0dc3_row7_col7, #T_d0dc3_row8_col7, #T_d0dc3_row9_col7, #T_d0dc3_row11_col7, #T_d0dc3_row12_col7, #T_d0dc3_row13_col7, #T_d0dc3_row14_col7, #T_d0dc3_row15_col7, #T_d0dc3_row16_col7, #T_d0dc3_row17_col7, #T_d0dc3_row18_col7, #T_d0dc3_row19_col7 {\n",
       "  text-align: left;\n",
       "  background-color: lightgrey;\n",
       "}\n",
       "#T_d0dc3_row2_col7, #T_d0dc3_row10_col7 {\n",
       "  text-align: left;\n",
       "  background-color: yellow;\n",
       "  background-color: lightgrey;\n",
       "}\n",
       "</style>\n",
       "<table id=\"T_d0dc3\">\n",
       "  <thead>\n",
       "    <tr>\n",
       "      <th class=\"blank level0\" >&nbsp;</th>\n",
       "      <th id=\"T_d0dc3_level0_col0\" class=\"col_heading level0 col0\" >Model</th>\n",
       "      <th id=\"T_d0dc3_level0_col1\" class=\"col_heading level0 col1\" >MAE</th>\n",
       "      <th id=\"T_d0dc3_level0_col2\" class=\"col_heading level0 col2\" >MSE</th>\n",
       "      <th id=\"T_d0dc3_level0_col3\" class=\"col_heading level0 col3\" >RMSE</th>\n",
       "      <th id=\"T_d0dc3_level0_col4\" class=\"col_heading level0 col4\" >R2</th>\n",
       "      <th id=\"T_d0dc3_level0_col5\" class=\"col_heading level0 col5\" >RMSLE</th>\n",
       "      <th id=\"T_d0dc3_level0_col6\" class=\"col_heading level0 col6\" >MAPE</th>\n",
       "      <th id=\"T_d0dc3_level0_col7\" class=\"col_heading level0 col7\" >TT (Sec)</th>\n",
       "    </tr>\n",
       "  </thead>\n",
       "  <tbody>\n",
       "    <tr>\n",
       "      <th id=\"T_d0dc3_level0_row0\" class=\"row_heading level0 row0\" >en</th>\n",
       "      <td id=\"T_d0dc3_row0_col0\" class=\"data row0 col0\" >Elastic Net</td>\n",
       "      <td id=\"T_d0dc3_row0_col1\" class=\"data row0 col1\" >44590642.0667</td>\n",
       "      <td id=\"T_d0dc3_row0_col2\" class=\"data row0 col2\" >3606059674458330.5000</td>\n",
       "      <td id=\"T_d0dc3_row0_col3\" class=\"data row0 col3\" >59876902.1237</td>\n",
       "      <td id=\"T_d0dc3_row0_col4\" class=\"data row0 col4\" >-0.2245</td>\n",
       "      <td id=\"T_d0dc3_row0_col5\" class=\"data row0 col5\" >1.0658</td>\n",
       "      <td id=\"T_d0dc3_row0_col6\" class=\"data row0 col6\" >1.5781</td>\n",
       "      <td id=\"T_d0dc3_row0_col7\" class=\"data row0 col7\" >0.0167</td>\n",
       "    </tr>\n",
       "    <tr>\n",
       "      <th id=\"T_d0dc3_level0_row1\" class=\"row_heading level0 row1\" >knn</th>\n",
       "      <td id=\"T_d0dc3_row1_col0\" class=\"data row1 col0\" >K Neighbors Regressor</td>\n",
       "      <td id=\"T_d0dc3_row1_col1\" class=\"data row1 col1\" >45776236.5094</td>\n",
       "      <td id=\"T_d0dc3_row1_col2\" class=\"data row1 col2\" >3761852319731359.5000</td>\n",
       "      <td id=\"T_d0dc3_row1_col3\" class=\"data row1 col3\" >61197759.1339</td>\n",
       "      <td id=\"T_d0dc3_row1_col4\" class=\"data row1 col4\" >-0.2779</td>\n",
       "      <td id=\"T_d0dc3_row1_col5\" class=\"data row1 col5\" >1.0807</td>\n",
       "      <td id=\"T_d0dc3_row1_col6\" class=\"data row1 col6\" >1.5743</td>\n",
       "      <td id=\"T_d0dc3_row1_col7\" class=\"data row1 col7\" >0.0233</td>\n",
       "    </tr>\n",
       "    <tr>\n",
       "      <th id=\"T_d0dc3_level0_row2\" class=\"row_heading level0 row2\" >br</th>\n",
       "      <td id=\"T_d0dc3_row2_col0\" class=\"data row2 col0\" >Bayesian Ridge</td>\n",
       "      <td id=\"T_d0dc3_row2_col1\" class=\"data row2 col1\" >45097499.8162</td>\n",
       "      <td id=\"T_d0dc3_row2_col2\" class=\"data row2 col2\" >3825457084948384.0000</td>\n",
       "      <td id=\"T_d0dc3_row2_col3\" class=\"data row2 col3\" >61695671.0698</td>\n",
       "      <td id=\"T_d0dc3_row2_col4\" class=\"data row2 col4\" >-0.3044</td>\n",
       "      <td id=\"T_d0dc3_row2_col5\" class=\"data row2 col5\" >1.0768</td>\n",
       "      <td id=\"T_d0dc3_row2_col6\" class=\"data row2 col6\" >1.4492</td>\n",
       "      <td id=\"T_d0dc3_row2_col7\" class=\"data row2 col7\" >0.0067</td>\n",
       "    </tr>\n",
       "    <tr>\n",
       "      <th id=\"T_d0dc3_level0_row3\" class=\"row_heading level0 row3\" >lasso</th>\n",
       "      <td id=\"T_d0dc3_row3_col0\" class=\"data row3 col0\" >Lasso Regression</td>\n",
       "      <td id=\"T_d0dc3_row3_col1\" class=\"data row3 col1\" >45329822.0000</td>\n",
       "      <td id=\"T_d0dc3_row3_col2\" class=\"data row3 col2\" >3890116300434838.5000</td>\n",
       "      <td id=\"T_d0dc3_row3_col3\" class=\"data row3 col3\" >62200400.5040</td>\n",
       "      <td id=\"T_d0dc3_row3_col4\" class=\"data row3 col4\" >-0.3237</td>\n",
       "      <td id=\"T_d0dc3_row3_col5\" class=\"data row3 col5\" >1.0772</td>\n",
       "      <td id=\"T_d0dc3_row3_col6\" class=\"data row3 col6\" >1.4115</td>\n",
       "      <td id=\"T_d0dc3_row3_col7\" class=\"data row3 col7\" >0.9933</td>\n",
       "    </tr>\n",
       "    <tr>\n",
       "      <th id=\"T_d0dc3_level0_row4\" class=\"row_heading level0 row4\" >ridge</th>\n",
       "      <td id=\"T_d0dc3_row4_col0\" class=\"data row4 col0\" >Ridge Regression</td>\n",
       "      <td id=\"T_d0dc3_row4_col1\" class=\"data row4 col1\" >49506543.8333</td>\n",
       "      <td id=\"T_d0dc3_row4_col2\" class=\"data row4 col2\" >4039521810974816.0000</td>\n",
       "      <td id=\"T_d0dc3_row4_col3\" class=\"data row4 col3\" >63386412.0558</td>\n",
       "      <td id=\"T_d0dc3_row4_col4\" class=\"data row4 col4\" >-0.3756</td>\n",
       "      <td id=\"T_d0dc3_row4_col5\" class=\"data row4 col5\" >1.2149</td>\n",
       "      <td id=\"T_d0dc3_row4_col6\" class=\"data row4 col6\" >2.2268</td>\n",
       "      <td id=\"T_d0dc3_row4_col7\" class=\"data row4 col7\" >0.7700</td>\n",
       "    </tr>\n",
       "    <tr>\n",
       "      <th id=\"T_d0dc3_level0_row5\" class=\"row_heading level0 row5\" >dt</th>\n",
       "      <td id=\"T_d0dc3_row5_col0\" class=\"data row5 col0\" >Decision Tree Regressor</td>\n",
       "      <td id=\"T_d0dc3_row5_col1\" class=\"data row5 col1\" >49271716.5667</td>\n",
       "      <td id=\"T_d0dc3_row5_col2\" class=\"data row5 col2\" >4100976133298474.0000</td>\n",
       "      <td id=\"T_d0dc3_row5_col3\" class=\"data row5 col3\" >63879581.5557</td>\n",
       "      <td id=\"T_d0dc3_row5_col4\" class=\"data row5 col4\" >-0.4010</td>\n",
       "      <td id=\"T_d0dc3_row5_col5\" class=\"data row5 col5\" >1.3154</td>\n",
       "      <td id=\"T_d0dc3_row5_col6\" class=\"data row5 col6\" >1.7238</td>\n",
       "      <td id=\"T_d0dc3_row5_col7\" class=\"data row5 col7\" >0.0100</td>\n",
       "    </tr>\n",
       "    <tr>\n",
       "      <th id=\"T_d0dc3_level0_row6\" class=\"row_heading level0 row6\" >rf</th>\n",
       "      <td id=\"T_d0dc3_row6_col0\" class=\"data row6 col0\" >Random Forest Regressor</td>\n",
       "      <td id=\"T_d0dc3_row6_col1\" class=\"data row6 col1\" >46921677.7593</td>\n",
       "      <td id=\"T_d0dc3_row6_col2\" class=\"data row6 col2\" >4313406174594342.0000</td>\n",
       "      <td id=\"T_d0dc3_row6_col3\" class=\"data row6 col3\" >65498456.2283</td>\n",
       "      <td id=\"T_d0dc3_row6_col4\" class=\"data row6 col4\" >-0.4584</td>\n",
       "      <td id=\"T_d0dc3_row6_col5\" class=\"data row6 col5\" >1.1207</td>\n",
       "      <td id=\"T_d0dc3_row6_col6\" class=\"data row6 col6\" >1.2961</td>\n",
       "      <td id=\"T_d0dc3_row6_col7\" class=\"data row6 col7\" >0.0533</td>\n",
       "    </tr>\n",
       "    <tr>\n",
       "      <th id=\"T_d0dc3_level0_row7\" class=\"row_heading level0 row7\" >catboost</th>\n",
       "      <td id=\"T_d0dc3_row7_col0\" class=\"data row7 col0\" >CatBoost Regressor</td>\n",
       "      <td id=\"T_d0dc3_row7_col1\" class=\"data row7 col1\" >45788887.8603</td>\n",
       "      <td id=\"T_d0dc3_row7_col2\" class=\"data row7 col2\" >4477180878505153.5000</td>\n",
       "      <td id=\"T_d0dc3_row7_col3\" class=\"data row7 col3\" >66469865.9104</td>\n",
       "      <td id=\"T_d0dc3_row7_col4\" class=\"data row7 col4\" >-0.4735</td>\n",
       "      <td id=\"T_d0dc3_row7_col5\" class=\"data row7 col5\" >1.0690</td>\n",
       "      <td id=\"T_d0dc3_row7_col6\" class=\"data row7 col6\" >1.2436</td>\n",
       "      <td id=\"T_d0dc3_row7_col7\" class=\"data row7 col7\" >0.2300</td>\n",
       "    </tr>\n",
       "    <tr>\n",
       "      <th id=\"T_d0dc3_level0_row8\" class=\"row_heading level0 row8\" >xgboost</th>\n",
       "      <td id=\"T_d0dc3_row8_col0\" class=\"data row8 col0\" >Extreme Gradient Boosting</td>\n",
       "      <td id=\"T_d0dc3_row8_col1\" class=\"data row8 col1\" >49907823.0583</td>\n",
       "      <td id=\"T_d0dc3_row8_col2\" class=\"data row8 col2\" >4681238047209691.0000</td>\n",
       "      <td id=\"T_d0dc3_row8_col3\" class=\"data row8 col3\" >68382604.4408</td>\n",
       "      <td id=\"T_d0dc3_row8_col4\" class=\"data row8 col4\" >-0.6235</td>\n",
       "      <td id=\"T_d0dc3_row8_col5\" class=\"data row8 col5\" >1.2072</td>\n",
       "      <td id=\"T_d0dc3_row8_col6\" class=\"data row8 col6\" >1.2074</td>\n",
       "      <td id=\"T_d0dc3_row8_col7\" class=\"data row8 col7\" >0.0500</td>\n",
       "    </tr>\n",
       "    <tr>\n",
       "      <th id=\"T_d0dc3_level0_row9\" class=\"row_heading level0 row9\" >llar</th>\n",
       "      <td id=\"T_d0dc3_row9_col0\" class=\"data row9 col0\" >Lasso Least Angle Regression</td>\n",
       "      <td id=\"T_d0dc3_row9_col1\" class=\"data row9 col1\" >47910252.9026</td>\n",
       "      <td id=\"T_d0dc3_row9_col2\" class=\"data row9 col2\" >4695129849921553.0000</td>\n",
       "      <td id=\"T_d0dc3_row9_col3\" class=\"data row9 col3\" >67900933.3102</td>\n",
       "      <td id=\"T_d0dc3_row9_col4\" class=\"data row9 col4\" >-0.5355</td>\n",
       "      <td id=\"T_d0dc3_row9_col5\" class=\"data row9 col5\" >1.1081</td>\n",
       "      <td id=\"T_d0dc3_row9_col6\" class=\"data row9 col6\" >1.0649</td>\n",
       "      <td id=\"T_d0dc3_row9_col7\" class=\"data row9 col7\" >0.0100</td>\n",
       "    </tr>\n",
       "    <tr>\n",
       "      <th id=\"T_d0dc3_level0_row10\" class=\"row_heading level0 row10\" >dummy</th>\n",
       "      <td id=\"T_d0dc3_row10_col0\" class=\"data row10 col0\" >Dummy Regressor</td>\n",
       "      <td id=\"T_d0dc3_row10_col1\" class=\"data row10 col1\" >47910252.9390</td>\n",
       "      <td id=\"T_d0dc3_row10_col2\" class=\"data row10 col2\" >4695129859936433.0000</td>\n",
       "      <td id=\"T_d0dc3_row10_col3\" class=\"data row10 col3\" >67900933.3860</td>\n",
       "      <td id=\"T_d0dc3_row10_col4\" class=\"data row10 col4\" >-0.5355</td>\n",
       "      <td id=\"T_d0dc3_row10_col5\" class=\"data row10 col5\" >1.1081</td>\n",
       "      <td id=\"T_d0dc3_row10_col6\" class=\"data row10 col6\" >1.0649</td>\n",
       "      <td id=\"T_d0dc3_row10_col7\" class=\"data row10 col7\" >0.0067</td>\n",
       "    </tr>\n",
       "    <tr>\n",
       "      <th id=\"T_d0dc3_level0_row11\" class=\"row_heading level0 row11\" >lightgbm</th>\n",
       "      <td id=\"T_d0dc3_row11_col0\" class=\"data row11 col0\" >Light Gradient Boosting Machine</td>\n",
       "      <td id=\"T_d0dc3_row11_col1\" class=\"data row11 col1\" >47910253.0264</td>\n",
       "      <td id=\"T_d0dc3_row11_col2\" class=\"data row11 col2\" >4695129875356959.0000</td>\n",
       "      <td id=\"T_d0dc3_row11_col3\" class=\"data row11 col3\" >67900933.4921</td>\n",
       "      <td id=\"T_d0dc3_row11_col4\" class=\"data row11 col4\" >-0.5355</td>\n",
       "      <td id=\"T_d0dc3_row11_col5\" class=\"data row11 col5\" >1.1081</td>\n",
       "      <td id=\"T_d0dc3_row11_col6\" class=\"data row11 col6\" >1.0649</td>\n",
       "      <td id=\"T_d0dc3_row11_col7\" class=\"data row11 col7\" >0.0300</td>\n",
       "    </tr>\n",
       "    <tr>\n",
       "      <th id=\"T_d0dc3_level0_row12\" class=\"row_heading level0 row12\" >ada</th>\n",
       "      <td id=\"T_d0dc3_row12_col0\" class=\"data row12 col0\" >AdaBoost Regressor</td>\n",
       "      <td id=\"T_d0dc3_row12_col1\" class=\"data row12 col1\" >50521067.0689</td>\n",
       "      <td id=\"T_d0dc3_row12_col2\" class=\"data row12 col2\" >4810756754686473.0000</td>\n",
       "      <td id=\"T_d0dc3_row12_col3\" class=\"data row12 col3\" >69183248.7374</td>\n",
       "      <td id=\"T_d0dc3_row12_col4\" class=\"data row12 col4\" >-0.6622</td>\n",
       "      <td id=\"T_d0dc3_row12_col5\" class=\"data row12 col5\" >1.2732</td>\n",
       "      <td id=\"T_d0dc3_row12_col6\" class=\"data row12 col6\" >1.4310</td>\n",
       "      <td id=\"T_d0dc3_row12_col7\" class=\"data row12 col7\" >0.0233</td>\n",
       "    </tr>\n",
       "    <tr>\n",
       "      <th id=\"T_d0dc3_level0_row13\" class=\"row_heading level0 row13\" >omp</th>\n",
       "      <td id=\"T_d0dc3_row13_col0\" class=\"data row13 col0\" >Orthogonal Matching Pursuit</td>\n",
       "      <td id=\"T_d0dc3_row13_col1\" class=\"data row13 col1\" >51696681.6504</td>\n",
       "      <td id=\"T_d0dc3_row13_col2\" class=\"data row13 col2\" >4827692988244598.0000</td>\n",
       "      <td id=\"T_d0dc3_row13_col3\" class=\"data row13 col3\" >69231843.9043</td>\n",
       "      <td id=\"T_d0dc3_row13_col4\" class=\"data row13 col4\" >-0.6529</td>\n",
       "      <td id=\"T_d0dc3_row13_col5\" class=\"data row13 col5\" >1.2477</td>\n",
       "      <td id=\"T_d0dc3_row13_col6\" class=\"data row13 col6\" >1.2573</td>\n",
       "      <td id=\"T_d0dc3_row13_col7\" class=\"data row13 col7\" >0.0100</td>\n",
       "    </tr>\n",
       "    <tr>\n",
       "      <th id=\"T_d0dc3_level0_row14\" class=\"row_heading level0 row14\" >gbr</th>\n",
       "      <td id=\"T_d0dc3_row14_col0\" class=\"data row14 col0\" >Gradient Boosting Regressor</td>\n",
       "      <td id=\"T_d0dc3_row14_col1\" class=\"data row14 col1\" >50788874.1076</td>\n",
       "      <td id=\"T_d0dc3_row14_col2\" class=\"data row14 col2\" >4994455559422496.0000</td>\n",
       "      <td id=\"T_d0dc3_row14_col3\" class=\"data row14 col3\" >70591504.1683</td>\n",
       "      <td id=\"T_d0dc3_row14_col4\" class=\"data row14 col4\" >-0.7220</td>\n",
       "      <td id=\"T_d0dc3_row14_col5\" class=\"data row14 col5\" >1.3849</td>\n",
       "      <td id=\"T_d0dc3_row14_col6\" class=\"data row14 col6\" >1.2359</td>\n",
       "      <td id=\"T_d0dc3_row14_col7\" class=\"data row14 col7\" >0.0133</td>\n",
       "    </tr>\n",
       "    <tr>\n",
       "      <th id=\"T_d0dc3_level0_row15\" class=\"row_heading level0 row15\" >lr</th>\n",
       "      <td id=\"T_d0dc3_row15_col0\" class=\"data row15 col0\" >Linear Regression</td>\n",
       "      <td id=\"T_d0dc3_row15_col1\" class=\"data row15 col1\" >57017220.3771</td>\n",
       "      <td id=\"T_d0dc3_row15_col2\" class=\"data row15 col2\" >5000989541168677.0000</td>\n",
       "      <td id=\"T_d0dc3_row15_col3\" class=\"data row15 col3\" >70684765.5122</td>\n",
       "      <td id=\"T_d0dc3_row15_col4\" class=\"data row15 col4\" >-0.7489</td>\n",
       "      <td id=\"T_d0dc3_row15_col5\" class=\"data row15 col5\" >1.7241</td>\n",
       "      <td id=\"T_d0dc3_row15_col6\" class=\"data row15 col6\" >2.5310</td>\n",
       "      <td id=\"T_d0dc3_row15_col7\" class=\"data row15 col7\" >1.8167</td>\n",
       "    </tr>\n",
       "    <tr>\n",
       "      <th id=\"T_d0dc3_level0_row16\" class=\"row_heading level0 row16\" >et</th>\n",
       "      <td id=\"T_d0dc3_row16_col0\" class=\"data row16 col0\" >Extra Trees Regressor</td>\n",
       "      <td id=\"T_d0dc3_row16_col1\" class=\"data row16 col1\" >51220039.9992</td>\n",
       "      <td id=\"T_d0dc3_row16_col2\" class=\"data row16 col2\" >5064551796834933.0000</td>\n",
       "      <td id=\"T_d0dc3_row16_col3\" class=\"data row16 col3\" >69703247.5488</td>\n",
       "      <td id=\"T_d0dc3_row16_col4\" class=\"data row16 col4\" >-0.7478</td>\n",
       "      <td id=\"T_d0dc3_row16_col5\" class=\"data row16 col5\" >1.3199</td>\n",
       "      <td id=\"T_d0dc3_row16_col6\" class=\"data row16 col6\" >1.3851</td>\n",
       "      <td id=\"T_d0dc3_row16_col7\" class=\"data row16 col7\" >0.0367</td>\n",
       "    </tr>\n",
       "    <tr>\n",
       "      <th id=\"T_d0dc3_level0_row17\" class=\"row_heading level0 row17\" >huber</th>\n",
       "      <td id=\"T_d0dc3_row17_col0\" class=\"data row17 col0\" >Huber Regressor</td>\n",
       "      <td id=\"T_d0dc3_row17_col1\" class=\"data row17 col1\" >56416137.6984</td>\n",
       "      <td id=\"T_d0dc3_row17_col2\" class=\"data row17 col2\" >5090304017251740.0000</td>\n",
       "      <td id=\"T_d0dc3_row17_col3\" class=\"data row17 col3\" >70847146.2531</td>\n",
       "      <td id=\"T_d0dc3_row17_col4\" class=\"data row17 col4\" >-0.6994</td>\n",
       "      <td id=\"T_d0dc3_row17_col5\" class=\"data row17 col5\" >1.3353</td>\n",
       "      <td id=\"T_d0dc3_row17_col6\" class=\"data row17 col6\" >2.4714</td>\n",
       "      <td id=\"T_d0dc3_row17_col7\" class=\"data row17 col7\" >0.0133</td>\n",
       "    </tr>\n",
       "    <tr>\n",
       "      <th id=\"T_d0dc3_level0_row18\" class=\"row_heading level0 row18\" >par</th>\n",
       "      <td id=\"T_d0dc3_row18_col0\" class=\"data row18 col0\" >Passive Aggressive Regressor</td>\n",
       "      <td id=\"T_d0dc3_row18_col1\" class=\"data row18 col1\" >54605695.5144</td>\n",
       "      <td id=\"T_d0dc3_row18_col2\" class=\"data row18 col2\" >5260997481952475.0000</td>\n",
       "      <td id=\"T_d0dc3_row18_col3\" class=\"data row18 col3\" >69817110.0445</td>\n",
       "      <td id=\"T_d0dc3_row18_col4\" class=\"data row18 col4\" >-0.6110</td>\n",
       "      <td id=\"T_d0dc3_row18_col5\" class=\"data row18 col5\" >1.3543</td>\n",
       "      <td id=\"T_d0dc3_row18_col6\" class=\"data row18 col6\" >1.5225</td>\n",
       "      <td id=\"T_d0dc3_row18_col7\" class=\"data row18 col7\" >0.0167</td>\n",
       "    </tr>\n",
       "    <tr>\n",
       "      <th id=\"T_d0dc3_level0_row19\" class=\"row_heading level0 row19\" >lar</th>\n",
       "      <td id=\"T_d0dc3_row19_col0\" class=\"data row19 col0\" >Least Angle Regression</td>\n",
       "      <td id=\"T_d0dc3_row19_col1\" class=\"data row19 col1\" >7893877878420631552.0000</td>\n",
       "      <td id=\"T_d0dc3_row19_col2\" class=\"data row19 col2\" >186968456902114323558551359606721871872.0000</td>\n",
       "      <td id=\"T_d0dc3_row19_col3\" class=\"data row19 col3\" >7894480284863556608.0000</td>\n",
       "      <td id=\"T_d0dc3_row19_col4\" class=\"data row19 col4\" >-48593729811507740409856.0000</td>\n",
       "      <td id=\"T_d0dc3_row19_col5\" class=\"data row19 col5\" >10.2087</td>\n",
       "      <td id=\"T_d0dc3_row19_col6\" class=\"data row19 col6\" >324947290267.5276</td>\n",
       "      <td id=\"T_d0dc3_row19_col7\" class=\"data row19 col7\" >0.0100</td>\n",
       "    </tr>\n",
       "  </tbody>\n",
       "</table>\n"
      ],
      "text/plain": [
       "<pandas.io.formats.style.Styler at 0x2759e72d460>"
      ]
     },
     "metadata": {},
     "output_type": "display_data"
    }
   ],
   "source": [
    "best = compare_models(sort = 'MAE')"
   ]
  },
  {
   "cell_type": "code",
   "execution_count": 136,
   "metadata": {},
   "outputs": [
    {
     "data": {
      "text/html": [
       "<style type=\"text/css\">\n",
       "</style>\n",
       "<table id=\"T_42ca3\">\n",
       "  <thead>\n",
       "    <tr>\n",
       "      <th class=\"blank level0\" >&nbsp;</th>\n",
       "      <th id=\"T_42ca3_level0_col0\" class=\"col_heading level0 col0\" >Model</th>\n",
       "      <th id=\"T_42ca3_level0_col1\" class=\"col_heading level0 col1\" >MAE</th>\n",
       "      <th id=\"T_42ca3_level0_col2\" class=\"col_heading level0 col2\" >MSE</th>\n",
       "      <th id=\"T_42ca3_level0_col3\" class=\"col_heading level0 col3\" >RMSE</th>\n",
       "      <th id=\"T_42ca3_level0_col4\" class=\"col_heading level0 col4\" >R2</th>\n",
       "      <th id=\"T_42ca3_level0_col5\" class=\"col_heading level0 col5\" >RMSLE</th>\n",
       "      <th id=\"T_42ca3_level0_col6\" class=\"col_heading level0 col6\" >MAPE</th>\n",
       "    </tr>\n",
       "  </thead>\n",
       "  <tbody>\n",
       "    <tr>\n",
       "      <th id=\"T_42ca3_level0_row0\" class=\"row_heading level0 row0\" >0</th>\n",
       "      <td id=\"T_42ca3_row0_col0\" class=\"data row0 col0\" >Elastic Net</td>\n",
       "      <td id=\"T_42ca3_row0_col1\" class=\"data row0 col1\" >91754381.8333</td>\n",
       "      <td id=\"T_42ca3_row0_col2\" class=\"data row0 col2\" >14238150798448244.0000</td>\n",
       "      <td id=\"T_42ca3_row0_col3\" class=\"data row0 col3\" >119323722.6977</td>\n",
       "      <td id=\"T_42ca3_row0_col4\" class=\"data row0 col4\" >-0.4867</td>\n",
       "      <td id=\"T_42ca3_row0_col5\" class=\"data row0 col5\" >0.8040</td>\n",
       "      <td id=\"T_42ca3_row0_col6\" class=\"data row0 col6\" >0.5963</td>\n",
       "    </tr>\n",
       "  </tbody>\n",
       "</table>\n"
      ],
      "text/plain": [
       "<pandas.io.formats.style.Styler at 0x2759a645f70>"
      ]
     },
     "metadata": {},
     "output_type": "display_data"
    }
   ],
   "source": [
    "prediction_holdout = predict_model(best)"
   ]
  },
  {
   "cell_type": "code",
   "execution_count": 137,
   "metadata": {},
   "outputs": [
    {
     "data": {
      "text/html": [
       "<style type=\"text/css\">\n",
       "</style>\n",
       "<table id=\"T_150b9\">\n",
       "  <thead>\n",
       "    <tr>\n",
       "      <th class=\"blank level0\" >&nbsp;</th>\n",
       "      <th id=\"T_150b9_level0_col0\" class=\"col_heading level0 col0\" >Model</th>\n",
       "      <th id=\"T_150b9_level0_col1\" class=\"col_heading level0 col1\" >MAE</th>\n",
       "      <th id=\"T_150b9_level0_col2\" class=\"col_heading level0 col2\" >MSE</th>\n",
       "      <th id=\"T_150b9_level0_col3\" class=\"col_heading level0 col3\" >RMSE</th>\n",
       "      <th id=\"T_150b9_level0_col4\" class=\"col_heading level0 col4\" >R2</th>\n",
       "      <th id=\"T_150b9_level0_col5\" class=\"col_heading level0 col5\" >RMSLE</th>\n",
       "      <th id=\"T_150b9_level0_col6\" class=\"col_heading level0 col6\" >MAPE</th>\n",
       "    </tr>\n",
       "  </thead>\n",
       "  <tbody>\n",
       "    <tr>\n",
       "      <th id=\"T_150b9_level0_row0\" class=\"row_heading level0 row0\" >0</th>\n",
       "      <td id=\"T_150b9_row0_col0\" class=\"data row0 col0\" >Elastic Net</td>\n",
       "      <td id=\"T_150b9_row0_col1\" class=\"data row0 col1\" >53108871.2787</td>\n",
       "      <td id=\"T_150b9_row0_col2\" class=\"data row0 col2\" >6124938284741682.0000</td>\n",
       "      <td id=\"T_150b9_row0_col3\" class=\"data row0 col3\" >78261984.9272</td>\n",
       "      <td id=\"T_150b9_row0_col4\" class=\"data row0 col4\" >0.0917</td>\n",
       "      <td id=\"T_150b9_row0_col5\" class=\"data row0 col5\" >1.0395</td>\n",
       "      <td id=\"T_150b9_row0_col6\" class=\"data row0 col6\" >1.7548</td>\n",
       "    </tr>\n",
       "  </tbody>\n",
       "</table>\n"
      ],
      "text/plain": [
       "<pandas.io.formats.style.Styler at 0x2759dcb2850>"
      ]
     },
     "metadata": {},
     "output_type": "display_data"
    },
    {
     "data": {
      "application/vnd.plotly.v1+json": {
       "config": {
        "plotlyServerURL": "https://plot.ly"
       },
       "data": [
        {
         "hovertemplate": "variable=Ventas<br>Fecha=%{x}<br>value=%{y}<extra></extra>",
         "legendgroup": "Ventas",
         "line": {
          "color": "#636efa",
          "dash": "solid"
         },
         "marker": {
          "symbol": "circle"
         },
         "mode": "lines",
         "name": "Ventas",
         "orientation": "v",
         "showlegend": true,
         "type": "scatter",
         "x": [
          "2018-01-01T00:00:00",
          "2018-02-01T00:00:00",
          "2018-03-01T00:00:00",
          "2018-04-01T00:00:00",
          "2018-05-01T00:00:00",
          "2018-06-01T00:00:00",
          "2018-07-01T00:00:00",
          "2018-08-01T00:00:00",
          "2018-09-01T00:00:00",
          "2018-10-01T00:00:00",
          "2018-11-01T00:00:00",
          "2018-12-01T00:00:00",
          "2019-01-01T00:00:00",
          "2019-02-01T00:00:00",
          "2019-03-01T00:00:00",
          "2019-04-01T00:00:00",
          "2019-05-01T00:00:00",
          "2019-06-01T00:00:00",
          "2019-07-01T00:00:00",
          "2019-08-01T00:00:00",
          "2019-09-01T00:00:00",
          "2019-10-01T00:00:00",
          "2019-11-01T00:00:00",
          "2019-12-01T00:00:00",
          "2020-01-01T00:00:00",
          "2020-02-01T00:00:00",
          "2020-03-01T00:00:00",
          "2020-04-01T00:00:00",
          "2020-05-01T00:00:00",
          "2020-06-01T00:00:00",
          "2020-07-01T00:00:00",
          "2020-08-01T00:00:00",
          "2020-09-01T00:00:00",
          "2020-10-01T00:00:00",
          "2020-11-01T00:00:00",
          "2020-12-01T00:00:00",
          "2021-01-01T00:00:00",
          "2021-02-01T00:00:00",
          "2021-03-01T00:00:00",
          "2021-04-01T00:00:00",
          "2021-05-01T00:00:00",
          "2021-06-01T00:00:00",
          "2021-07-01T00:00:00",
          "2021-08-01T00:00:00",
          "2021-09-01T00:00:00",
          "2021-10-01T00:00:00",
          "2021-11-01T00:00:00",
          "2021-12-01T00:00:00",
          "2022-01-01T00:00:00",
          "2022-02-01T00:00:00",
          "2022-03-01T00:00:00",
          "2022-04-01T00:00:00",
          "2022-05-01T00:00:00",
          "2022-06-01T00:00:00",
          "2022-07-01T00:00:00",
          "2022-08-01T00:00:00",
          "2022-09-01T00:00:00",
          "2022-10-01T00:00:00",
          "2022-11-01T00:00:00",
          "2022-12-01T00:00:00",
          "2023-01-01T00:00:00"
         ],
         "xaxis": "x",
         "y": [
          55912513,
          22095734,
          3730338,
          663201,
          56558958,
          11119099,
          18646150,
          119965122,
          27437796,
          19977298,
          36646601,
          14326001,
          39779088,
          83227435,
          102392630,
          10327161,
          57095178,
          141924156,
          111224644,
          40381052,
          26190606,
          30429516,
          13418712,
          22324650,
          4483869,
          13355015,
          60574998,
          33894853,
          25593972,
          222890552,
          96504289,
          84179371,
          54869692,
          61874139,
          66704035,
          136673738,
          46475779,
          138854326,
          136584466,
          40447082,
          3759048,
          20921560,
          208332670,
          116390769,
          201429161,
          135513886,
          58341346,
          58424065,
          51425059,
          216872480,
          350023322,
          275499854,
          164233996,
          336626568,
          33465948,
          43282506,
          74354417,
          148368806,
          253728291,
          180502856,
          82090695
         ],
         "yaxis": "y"
        },
        {
         "hovertemplate": "variable=Label<br>Fecha=%{x}<br>value=%{y}<extra></extra>",
         "legendgroup": "Label",
         "line": {
          "color": "#EF553B",
          "dash": "solid"
         },
         "marker": {
          "symbol": "circle"
         },
         "mode": "lines",
         "name": "Label",
         "orientation": "v",
         "showlegend": true,
         "type": "scatter",
         "x": [
          "2018-01-01T00:00:00",
          "2018-02-01T00:00:00",
          "2018-03-01T00:00:00",
          "2018-04-01T00:00:00",
          "2018-05-01T00:00:00",
          "2018-06-01T00:00:00",
          "2018-07-01T00:00:00",
          "2018-08-01T00:00:00",
          "2018-09-01T00:00:00",
          "2018-10-01T00:00:00",
          "2018-11-01T00:00:00",
          "2018-12-01T00:00:00",
          "2019-01-01T00:00:00",
          "2019-02-01T00:00:00",
          "2019-03-01T00:00:00",
          "2019-04-01T00:00:00",
          "2019-05-01T00:00:00",
          "2019-06-01T00:00:00",
          "2019-07-01T00:00:00",
          "2019-08-01T00:00:00",
          "2019-09-01T00:00:00",
          "2019-10-01T00:00:00",
          "2019-11-01T00:00:00",
          "2019-12-01T00:00:00",
          "2020-01-01T00:00:00",
          "2020-02-01T00:00:00",
          "2020-03-01T00:00:00",
          "2020-04-01T00:00:00",
          "2020-05-01T00:00:00",
          "2020-06-01T00:00:00",
          "2020-07-01T00:00:00",
          "2020-08-01T00:00:00",
          "2020-09-01T00:00:00",
          "2020-10-01T00:00:00",
          "2020-11-01T00:00:00",
          "2020-12-01T00:00:00",
          "2021-01-01T00:00:00",
          "2021-02-01T00:00:00",
          "2021-03-01T00:00:00",
          "2021-04-01T00:00:00",
          "2021-05-01T00:00:00",
          "2021-06-01T00:00:00",
          "2021-07-01T00:00:00",
          "2021-08-01T00:00:00",
          "2021-09-01T00:00:00",
          "2021-10-01T00:00:00",
          "2021-11-01T00:00:00",
          "2021-12-01T00:00:00",
          "2022-01-01T00:00:00",
          "2022-02-01T00:00:00",
          "2022-03-01T00:00:00",
          "2022-04-01T00:00:00",
          "2022-05-01T00:00:00",
          "2022-06-01T00:00:00",
          "2022-07-01T00:00:00",
          "2022-08-01T00:00:00",
          "2022-09-01T00:00:00",
          "2022-10-01T00:00:00",
          "2022-11-01T00:00:00",
          "2022-12-01T00:00:00",
          "2023-01-01T00:00:00"
         ],
         "xaxis": "x",
         "y": [
          23359740,
          24082338,
          24820878,
          25575568,
          26346618,
          27134246,
          27938668,
          28760108,
          29598768,
          30454882,
          31328664,
          32220316,
          33130092,
          34058196,
          35004856,
          35970280,
          36954720,
          37958376,
          38981520,
          40024320,
          41087048,
          42169920,
          43273152,
          44397008,
          45541688,
          46707476,
          47894540,
          49103164,
          50333572,
          51585980,
          52860668,
          54157828,
          55477752,
          56820652,
          58186752,
          59576360,
          60989632,
          62426880,
          63888308,
          65374200,
          66884788,
          68420320,
          69981040,
          71567184,
          73179040,
          74816848,
          76480824,
          78171280,
          79888440,
          81632568,
          83403888,
          85202704,
          87029264,
          88883784,
          90766592,
          92677912,
          94618008,
          96587112,
          98585552,
          100613560,
          102671368
         ],
         "yaxis": "y"
        }
       ],
       "layout": {
        "legend": {
         "title": {
          "text": "variable"
         },
         "tracegroupgap": 0
        },
        "margin": {
         "t": 60
        },
        "template": {
         "data": {
          "bar": [
           {
            "error_x": {
             "color": "#f2f5fa"
            },
            "error_y": {
             "color": "#f2f5fa"
            },
            "marker": {
             "line": {
              "color": "rgb(17,17,17)",
              "width": 0.5
             },
             "pattern": {
              "fillmode": "overlay",
              "size": 10,
              "solidity": 0.2
             }
            },
            "type": "bar"
           }
          ],
          "barpolar": [
           {
            "marker": {
             "line": {
              "color": "rgb(17,17,17)",
              "width": 0.5
             },
             "pattern": {
              "fillmode": "overlay",
              "size": 10,
              "solidity": 0.2
             }
            },
            "type": "barpolar"
           }
          ],
          "carpet": [
           {
            "aaxis": {
             "endlinecolor": "#A2B1C6",
             "gridcolor": "#506784",
             "linecolor": "#506784",
             "minorgridcolor": "#506784",
             "startlinecolor": "#A2B1C6"
            },
            "baxis": {
             "endlinecolor": "#A2B1C6",
             "gridcolor": "#506784",
             "linecolor": "#506784",
             "minorgridcolor": "#506784",
             "startlinecolor": "#A2B1C6"
            },
            "type": "carpet"
           }
          ],
          "choropleth": [
           {
            "colorbar": {
             "outlinewidth": 0,
             "ticks": ""
            },
            "type": "choropleth"
           }
          ],
          "contour": [
           {
            "colorbar": {
             "outlinewidth": 0,
             "ticks": ""
            },
            "colorscale": [
             [
              0,
              "#0d0887"
             ],
             [
              0.1111111111111111,
              "#46039f"
             ],
             [
              0.2222222222222222,
              "#7201a8"
             ],
             [
              0.3333333333333333,
              "#9c179e"
             ],
             [
              0.4444444444444444,
              "#bd3786"
             ],
             [
              0.5555555555555556,
              "#d8576b"
             ],
             [
              0.6666666666666666,
              "#ed7953"
             ],
             [
              0.7777777777777778,
              "#fb9f3a"
             ],
             [
              0.8888888888888888,
              "#fdca26"
             ],
             [
              1,
              "#f0f921"
             ]
            ],
            "type": "contour"
           }
          ],
          "contourcarpet": [
           {
            "colorbar": {
             "outlinewidth": 0,
             "ticks": ""
            },
            "type": "contourcarpet"
           }
          ],
          "heatmap": [
           {
            "colorbar": {
             "outlinewidth": 0,
             "ticks": ""
            },
            "colorscale": [
             [
              0,
              "#0d0887"
             ],
             [
              0.1111111111111111,
              "#46039f"
             ],
             [
              0.2222222222222222,
              "#7201a8"
             ],
             [
              0.3333333333333333,
              "#9c179e"
             ],
             [
              0.4444444444444444,
              "#bd3786"
             ],
             [
              0.5555555555555556,
              "#d8576b"
             ],
             [
              0.6666666666666666,
              "#ed7953"
             ],
             [
              0.7777777777777778,
              "#fb9f3a"
             ],
             [
              0.8888888888888888,
              "#fdca26"
             ],
             [
              1,
              "#f0f921"
             ]
            ],
            "type": "heatmap"
           }
          ],
          "heatmapgl": [
           {
            "colorbar": {
             "outlinewidth": 0,
             "ticks": ""
            },
            "colorscale": [
             [
              0,
              "#0d0887"
             ],
             [
              0.1111111111111111,
              "#46039f"
             ],
             [
              0.2222222222222222,
              "#7201a8"
             ],
             [
              0.3333333333333333,
              "#9c179e"
             ],
             [
              0.4444444444444444,
              "#bd3786"
             ],
             [
              0.5555555555555556,
              "#d8576b"
             ],
             [
              0.6666666666666666,
              "#ed7953"
             ],
             [
              0.7777777777777778,
              "#fb9f3a"
             ],
             [
              0.8888888888888888,
              "#fdca26"
             ],
             [
              1,
              "#f0f921"
             ]
            ],
            "type": "heatmapgl"
           }
          ],
          "histogram": [
           {
            "marker": {
             "pattern": {
              "fillmode": "overlay",
              "size": 10,
              "solidity": 0.2
             }
            },
            "type": "histogram"
           }
          ],
          "histogram2d": [
           {
            "colorbar": {
             "outlinewidth": 0,
             "ticks": ""
            },
            "colorscale": [
             [
              0,
              "#0d0887"
             ],
             [
              0.1111111111111111,
              "#46039f"
             ],
             [
              0.2222222222222222,
              "#7201a8"
             ],
             [
              0.3333333333333333,
              "#9c179e"
             ],
             [
              0.4444444444444444,
              "#bd3786"
             ],
             [
              0.5555555555555556,
              "#d8576b"
             ],
             [
              0.6666666666666666,
              "#ed7953"
             ],
             [
              0.7777777777777778,
              "#fb9f3a"
             ],
             [
              0.8888888888888888,
              "#fdca26"
             ],
             [
              1,
              "#f0f921"
             ]
            ],
            "type": "histogram2d"
           }
          ],
          "histogram2dcontour": [
           {
            "colorbar": {
             "outlinewidth": 0,
             "ticks": ""
            },
            "colorscale": [
             [
              0,
              "#0d0887"
             ],
             [
              0.1111111111111111,
              "#46039f"
             ],
             [
              0.2222222222222222,
              "#7201a8"
             ],
             [
              0.3333333333333333,
              "#9c179e"
             ],
             [
              0.4444444444444444,
              "#bd3786"
             ],
             [
              0.5555555555555556,
              "#d8576b"
             ],
             [
              0.6666666666666666,
              "#ed7953"
             ],
             [
              0.7777777777777778,
              "#fb9f3a"
             ],
             [
              0.8888888888888888,
              "#fdca26"
             ],
             [
              1,
              "#f0f921"
             ]
            ],
            "type": "histogram2dcontour"
           }
          ],
          "mesh3d": [
           {
            "colorbar": {
             "outlinewidth": 0,
             "ticks": ""
            },
            "type": "mesh3d"
           }
          ],
          "parcoords": [
           {
            "line": {
             "colorbar": {
              "outlinewidth": 0,
              "ticks": ""
             }
            },
            "type": "parcoords"
           }
          ],
          "pie": [
           {
            "automargin": true,
            "type": "pie"
           }
          ],
          "scatter": [
           {
            "marker": {
             "line": {
              "color": "#283442"
             }
            },
            "type": "scatter"
           }
          ],
          "scatter3d": [
           {
            "line": {
             "colorbar": {
              "outlinewidth": 0,
              "ticks": ""
             }
            },
            "marker": {
             "colorbar": {
              "outlinewidth": 0,
              "ticks": ""
             }
            },
            "type": "scatter3d"
           }
          ],
          "scattercarpet": [
           {
            "marker": {
             "colorbar": {
              "outlinewidth": 0,
              "ticks": ""
             }
            },
            "type": "scattercarpet"
           }
          ],
          "scattergeo": [
           {
            "marker": {
             "colorbar": {
              "outlinewidth": 0,
              "ticks": ""
             }
            },
            "type": "scattergeo"
           }
          ],
          "scattergl": [
           {
            "marker": {
             "line": {
              "color": "#283442"
             }
            },
            "type": "scattergl"
           }
          ],
          "scattermapbox": [
           {
            "marker": {
             "colorbar": {
              "outlinewidth": 0,
              "ticks": ""
             }
            },
            "type": "scattermapbox"
           }
          ],
          "scatterpolar": [
           {
            "marker": {
             "colorbar": {
              "outlinewidth": 0,
              "ticks": ""
             }
            },
            "type": "scatterpolar"
           }
          ],
          "scatterpolargl": [
           {
            "marker": {
             "colorbar": {
              "outlinewidth": 0,
              "ticks": ""
             }
            },
            "type": "scatterpolargl"
           }
          ],
          "scatterternary": [
           {
            "marker": {
             "colorbar": {
              "outlinewidth": 0,
              "ticks": ""
             }
            },
            "type": "scatterternary"
           }
          ],
          "surface": [
           {
            "colorbar": {
             "outlinewidth": 0,
             "ticks": ""
            },
            "colorscale": [
             [
              0,
              "#0d0887"
             ],
             [
              0.1111111111111111,
              "#46039f"
             ],
             [
              0.2222222222222222,
              "#7201a8"
             ],
             [
              0.3333333333333333,
              "#9c179e"
             ],
             [
              0.4444444444444444,
              "#bd3786"
             ],
             [
              0.5555555555555556,
              "#d8576b"
             ],
             [
              0.6666666666666666,
              "#ed7953"
             ],
             [
              0.7777777777777778,
              "#fb9f3a"
             ],
             [
              0.8888888888888888,
              "#fdca26"
             ],
             [
              1,
              "#f0f921"
             ]
            ],
            "type": "surface"
           }
          ],
          "table": [
           {
            "cells": {
             "fill": {
              "color": "#506784"
             },
             "line": {
              "color": "rgb(17,17,17)"
             }
            },
            "header": {
             "fill": {
              "color": "#2a3f5f"
             },
             "line": {
              "color": "rgb(17,17,17)"
             }
            },
            "type": "table"
           }
          ]
         },
         "layout": {
          "annotationdefaults": {
           "arrowcolor": "#f2f5fa",
           "arrowhead": 0,
           "arrowwidth": 1
          },
          "autotypenumbers": "strict",
          "coloraxis": {
           "colorbar": {
            "outlinewidth": 0,
            "ticks": ""
           }
          },
          "colorscale": {
           "diverging": [
            [
             0,
             "#8e0152"
            ],
            [
             0.1,
             "#c51b7d"
            ],
            [
             0.2,
             "#de77ae"
            ],
            [
             0.3,
             "#f1b6da"
            ],
            [
             0.4,
             "#fde0ef"
            ],
            [
             0.5,
             "#f7f7f7"
            ],
            [
             0.6,
             "#e6f5d0"
            ],
            [
             0.7,
             "#b8e186"
            ],
            [
             0.8,
             "#7fbc41"
            ],
            [
             0.9,
             "#4d9221"
            ],
            [
             1,
             "#276419"
            ]
           ],
           "sequential": [
            [
             0,
             "#0d0887"
            ],
            [
             0.1111111111111111,
             "#46039f"
            ],
            [
             0.2222222222222222,
             "#7201a8"
            ],
            [
             0.3333333333333333,
             "#9c179e"
            ],
            [
             0.4444444444444444,
             "#bd3786"
            ],
            [
             0.5555555555555556,
             "#d8576b"
            ],
            [
             0.6666666666666666,
             "#ed7953"
            ],
            [
             0.7777777777777778,
             "#fb9f3a"
            ],
            [
             0.8888888888888888,
             "#fdca26"
            ],
            [
             1,
             "#f0f921"
            ]
           ],
           "sequentialminus": [
            [
             0,
             "#0d0887"
            ],
            [
             0.1111111111111111,
             "#46039f"
            ],
            [
             0.2222222222222222,
             "#7201a8"
            ],
            [
             0.3333333333333333,
             "#9c179e"
            ],
            [
             0.4444444444444444,
             "#bd3786"
            ],
            [
             0.5555555555555556,
             "#d8576b"
            ],
            [
             0.6666666666666666,
             "#ed7953"
            ],
            [
             0.7777777777777778,
             "#fb9f3a"
            ],
            [
             0.8888888888888888,
             "#fdca26"
            ],
            [
             1,
             "#f0f921"
            ]
           ]
          },
          "colorway": [
           "#636efa",
           "#EF553B",
           "#00cc96",
           "#ab63fa",
           "#FFA15A",
           "#19d3f3",
           "#FF6692",
           "#B6E880",
           "#FF97FF",
           "#FECB52"
          ],
          "font": {
           "color": "#f2f5fa"
          },
          "geo": {
           "bgcolor": "rgb(17,17,17)",
           "lakecolor": "rgb(17,17,17)",
           "landcolor": "rgb(17,17,17)",
           "showlakes": true,
           "showland": true,
           "subunitcolor": "#506784"
          },
          "hoverlabel": {
           "align": "left"
          },
          "hovermode": "closest",
          "mapbox": {
           "style": "dark"
          },
          "paper_bgcolor": "rgb(17,17,17)",
          "plot_bgcolor": "rgb(17,17,17)",
          "polar": {
           "angularaxis": {
            "gridcolor": "#506784",
            "linecolor": "#506784",
            "ticks": ""
           },
           "bgcolor": "rgb(17,17,17)",
           "radialaxis": {
            "gridcolor": "#506784",
            "linecolor": "#506784",
            "ticks": ""
           }
          },
          "scene": {
           "xaxis": {
            "backgroundcolor": "rgb(17,17,17)",
            "gridcolor": "#506784",
            "gridwidth": 2,
            "linecolor": "#506784",
            "showbackground": true,
            "ticks": "",
            "zerolinecolor": "#C8D4E3"
           },
           "yaxis": {
            "backgroundcolor": "rgb(17,17,17)",
            "gridcolor": "#506784",
            "gridwidth": 2,
            "linecolor": "#506784",
            "showbackground": true,
            "ticks": "",
            "zerolinecolor": "#C8D4E3"
           },
           "zaxis": {
            "backgroundcolor": "rgb(17,17,17)",
            "gridcolor": "#506784",
            "gridwidth": 2,
            "linecolor": "#506784",
            "showbackground": true,
            "ticks": "",
            "zerolinecolor": "#C8D4E3"
           }
          },
          "shapedefaults": {
           "line": {
            "color": "#f2f5fa"
           }
          },
          "sliderdefaults": {
           "bgcolor": "#C8D4E3",
           "bordercolor": "rgb(17,17,17)",
           "borderwidth": 1,
           "tickwidth": 0
          },
          "ternary": {
           "aaxis": {
            "gridcolor": "#506784",
            "linecolor": "#506784",
            "ticks": ""
           },
           "baxis": {
            "gridcolor": "#506784",
            "linecolor": "#506784",
            "ticks": ""
           },
           "bgcolor": "rgb(17,17,17)",
           "caxis": {
            "gridcolor": "#506784",
            "linecolor": "#506784",
            "ticks": ""
           }
          },
          "title": {
           "x": 0.05
          },
          "updatemenudefaults": {
           "bgcolor": "#506784",
           "borderwidth": 0
          },
          "xaxis": {
           "automargin": true,
           "gridcolor": "#283442",
           "linecolor": "#506784",
           "ticks": "",
           "title": {
            "standoff": 15
           },
           "zerolinecolor": "#283442",
           "zerolinewidth": 2
          },
          "yaxis": {
           "automargin": true,
           "gridcolor": "#283442",
           "linecolor": "#506784",
           "ticks": "",
           "title": {
            "standoff": 15
           },
           "zerolinecolor": "#283442",
           "zerolinewidth": 2
          }
         }
        },
        "xaxis": {
         "anchor": "y",
         "domain": [
          0,
          1
         ],
         "title": {
          "text": "Fecha"
         }
        },
        "yaxis": {
         "anchor": "x",
         "domain": [
          0,
          1
         ],
         "title": {
          "text": "value"
         }
        }
       }
      }
     },
     "metadata": {},
     "output_type": "display_data"
    }
   ],
   "source": [
    "# generate predictions on the original dataset\n",
    "predictions = predict_model(best, data=df_SQL)\n",
    "\n",
    "# add a date column in the dataset\n",
    "predictions['Fecha'] = pd.date_range(start='2018-01-01', end = '2023-1-1', freq = 'MS')\n",
    "\n",
    "# line plot\n",
    "fig = px.line(predictions, x='Fecha', y=[\"Ventas\", \"Label\"], template = 'plotly_dark')\n",
    "\n",
    "# add a vertical rectange for test-set separation\n",
    "# fig.add_vrect(x0=\"2018-01-01\", x1=\"2021-8-01\", fillcolor=\"grey\", opacity=0.25, line_width=0)\n",
    "fig.show()"
   ]
  },
  {
   "cell_type": "code",
   "execution_count": 138,
   "metadata": {},
   "outputs": [],
   "source": [
    "final_best = finalize_model(best)"
   ]
  },
  {
   "cell_type": "code",
   "execution_count": 145,
   "metadata": {},
   "outputs": [
    {
     "data": {
      "text/html": [
       "<div>\n",
       "<style scoped>\n",
       "    .dataframe tbody tr th:only-of-type {\n",
       "        vertical-align: middle;\n",
       "    }\n",
       "\n",
       "    .dataframe tbody tr th {\n",
       "        vertical-align: top;\n",
       "    }\n",
       "\n",
       "    .dataframe thead th {\n",
       "        text-align: right;\n",
       "    }\n",
       "</style>\n",
       "<table border=\"1\" class=\"dataframe\">\n",
       "  <thead>\n",
       "    <tr style=\"text-align: right;\">\n",
       "      <th></th>\n",
       "      <th>Mes</th>\n",
       "      <th>Ano</th>\n",
       "      <th>Series</th>\n",
       "    </tr>\n",
       "  </thead>\n",
       "  <tbody>\n",
       "    <tr>\n",
       "      <th>0</th>\n",
       "      <td>2</td>\n",
       "      <td>2023</td>\n",
       "      <td>62</td>\n",
       "    </tr>\n",
       "    <tr>\n",
       "      <th>1</th>\n",
       "      <td>3</td>\n",
       "      <td>2023</td>\n",
       "      <td>63</td>\n",
       "    </tr>\n",
       "    <tr>\n",
       "      <th>2</th>\n",
       "      <td>4</td>\n",
       "      <td>2023</td>\n",
       "      <td>64</td>\n",
       "    </tr>\n",
       "    <tr>\n",
       "      <th>3</th>\n",
       "      <td>5</td>\n",
       "      <td>2023</td>\n",
       "      <td>65</td>\n",
       "    </tr>\n",
       "    <tr>\n",
       "      <th>4</th>\n",
       "      <td>6</td>\n",
       "      <td>2023</td>\n",
       "      <td>66</td>\n",
       "    </tr>\n",
       "    <tr>\n",
       "      <th>5</th>\n",
       "      <td>7</td>\n",
       "      <td>2023</td>\n",
       "      <td>67</td>\n",
       "    </tr>\n",
       "    <tr>\n",
       "      <th>6</th>\n",
       "      <td>8</td>\n",
       "      <td>2023</td>\n",
       "      <td>68</td>\n",
       "    </tr>\n",
       "  </tbody>\n",
       "</table>\n",
       "</div>"
      ],
      "text/plain": [
       "   Mes   Ano  Series\n",
       "0    2  2023      62\n",
       "1    3  2023      63\n",
       "2    4  2023      64\n",
       "3    5  2023      65\n",
       "4    6  2023      66\n",
       "5    7  2023      67\n",
       "6    8  2023      68"
      ]
     },
     "execution_count": 145,
     "metadata": {},
     "output_type": "execute_result"
    }
   ],
   "source": [
    "future_dates = pd.date_range(start = '2023-02-01', end = '2023-8-01', freq = 'MS')\n",
    "future_df = pd.DataFrame()\n",
    "future_df['Mes'] = [i.month for i in future_dates]\n",
    "future_df['Ano'] = [i.year for i in future_dates]    \n",
    "future_df['Series'] = np.arange(62, (62+len(future_dates)))\n",
    "future_df"
   ]
  },
  {
   "cell_type": "code",
   "execution_count": 146,
   "metadata": {},
   "outputs": [
    {
     "data": {
      "text/html": [
       "<div>\n",
       "<style scoped>\n",
       "    .dataframe tbody tr th:only-of-type {\n",
       "        vertical-align: middle;\n",
       "    }\n",
       "\n",
       "    .dataframe tbody tr th {\n",
       "        vertical-align: top;\n",
       "    }\n",
       "\n",
       "    .dataframe thead th {\n",
       "        text-align: right;\n",
       "    }\n",
       "</style>\n",
       "<table border=\"1\" class=\"dataframe\">\n",
       "  <thead>\n",
       "    <tr style=\"text-align: right;\">\n",
       "      <th></th>\n",
       "      <th>Mes</th>\n",
       "      <th>Ano</th>\n",
       "      <th>Series</th>\n",
       "      <th>Label</th>\n",
       "    </tr>\n",
       "  </thead>\n",
       "  <tbody>\n",
       "    <tr>\n",
       "      <th>0</th>\n",
       "      <td>2</td>\n",
       "      <td>2023</td>\n",
       "      <td>62</td>\n",
       "      <td>104759304.0</td>\n",
       "    </tr>\n",
       "    <tr>\n",
       "      <th>1</th>\n",
       "      <td>3</td>\n",
       "      <td>2023</td>\n",
       "      <td>63</td>\n",
       "      <td>106877576.0</td>\n",
       "    </tr>\n",
       "    <tr>\n",
       "      <th>2</th>\n",
       "      <td>4</td>\n",
       "      <td>2023</td>\n",
       "      <td>64</td>\n",
       "      <td>109026536.0</td>\n",
       "    </tr>\n",
       "    <tr>\n",
       "      <th>3</th>\n",
       "      <td>5</td>\n",
       "      <td>2023</td>\n",
       "      <td>65</td>\n",
       "      <td>111206376.0</td>\n",
       "    </tr>\n",
       "    <tr>\n",
       "      <th>4</th>\n",
       "      <td>6</td>\n",
       "      <td>2023</td>\n",
       "      <td>66</td>\n",
       "      <td>113417344.0</td>\n",
       "    </tr>\n",
       "    <tr>\n",
       "      <th>5</th>\n",
       "      <td>7</td>\n",
       "      <td>2023</td>\n",
       "      <td>67</td>\n",
       "      <td>115659792.0</td>\n",
       "    </tr>\n",
       "    <tr>\n",
       "      <th>6</th>\n",
       "      <td>8</td>\n",
       "      <td>2023</td>\n",
       "      <td>68</td>\n",
       "      <td>117933920.0</td>\n",
       "    </tr>\n",
       "  </tbody>\n",
       "</table>\n",
       "</div>"
      ],
      "text/plain": [
       "   Mes   Ano  Series        Label\n",
       "0    2  2023      62  104759304.0\n",
       "1    3  2023      63  106877576.0\n",
       "2    4  2023      64  109026536.0\n",
       "3    5  2023      65  111206376.0\n",
       "4    6  2023      66  113417344.0\n",
       "5    7  2023      67  115659792.0\n",
       "6    8  2023      68  117933920.0"
      ]
     },
     "execution_count": 146,
     "metadata": {},
     "output_type": "execute_result"
    }
   ],
   "source": [
    "predictions_future = predict_model(final_best, data=future_df)\n",
    "predictions_future"
   ]
  },
  {
   "cell_type": "code",
   "execution_count": 148,
   "metadata": {},
   "outputs": [
    {
     "data": {
      "application/vnd.plotly.v1+json": {
       "config": {
        "plotlyServerURL": "https://plot.ly"
       },
       "data": [
        {
         "hovertemplate": "variable=Ventas<br>index=%{x}<br>value=%{y}<extra></extra>",
         "legendgroup": "Ventas",
         "line": {
          "color": "#636efa",
          "dash": "solid"
         },
         "marker": {
          "symbol": "circle"
         },
         "mode": "lines",
         "name": "Ventas",
         "orientation": "v",
         "showlegend": true,
         "type": "scatter",
         "x": [
          "2018-01-01T00:00:00",
          "2018-02-01T00:00:00",
          "2018-03-01T00:00:00",
          "2018-04-01T00:00:00",
          "2018-05-01T00:00:00",
          "2018-06-01T00:00:00",
          "2018-07-01T00:00:00",
          "2018-08-01T00:00:00",
          "2018-09-01T00:00:00",
          "2018-10-01T00:00:00",
          "2018-11-01T00:00:00",
          "2018-12-01T00:00:00",
          "2019-01-01T00:00:00",
          "2019-02-01T00:00:00",
          "2019-03-01T00:00:00",
          "2019-04-01T00:00:00",
          "2019-05-01T00:00:00",
          "2019-06-01T00:00:00",
          "2019-07-01T00:00:00",
          "2019-08-01T00:00:00",
          "2019-09-01T00:00:00",
          "2019-10-01T00:00:00",
          "2019-11-01T00:00:00",
          "2019-12-01T00:00:00",
          "2020-01-01T00:00:00",
          "2020-02-01T00:00:00",
          "2020-03-01T00:00:00",
          "2020-04-01T00:00:00",
          "2020-05-01T00:00:00",
          "2020-06-01T00:00:00",
          "2020-07-01T00:00:00",
          "2020-08-01T00:00:00",
          "2020-09-01T00:00:00",
          "2020-10-01T00:00:00",
          "2020-11-01T00:00:00",
          "2020-12-01T00:00:00",
          "2021-01-01T00:00:00",
          "2021-02-01T00:00:00",
          "2021-03-01T00:00:00",
          "2021-04-01T00:00:00",
          "2021-05-01T00:00:00",
          "2021-06-01T00:00:00",
          "2021-07-01T00:00:00",
          "2021-08-01T00:00:00",
          "2021-09-01T00:00:00",
          "2021-10-01T00:00:00",
          "2021-11-01T00:00:00",
          "2021-12-01T00:00:00",
          "2022-01-01T00:00:00",
          "2022-02-01T00:00:00",
          "2022-03-01T00:00:00",
          "2022-04-01T00:00:00",
          "2022-05-01T00:00:00",
          "2022-06-01T00:00:00",
          "2022-07-01T00:00:00",
          "2022-08-01T00:00:00",
          "2022-09-01T00:00:00",
          "2022-10-01T00:00:00",
          "2022-11-01T00:00:00",
          "2022-12-01T00:00:00",
          "2023-01-01T00:00:00",
          "2023-02-01T00:00:00",
          "2023-03-01T00:00:00",
          "2023-04-01T00:00:00",
          "2023-05-01T00:00:00",
          "2023-06-01T00:00:00",
          "2023-07-01T00:00:00",
          "2023-08-01T00:00:00"
         ],
         "xaxis": "x",
         "y": [
          55912513,
          22095734,
          3730338,
          663201,
          56558958,
          11119099,
          18646150,
          119965122,
          27437796,
          19977298,
          36646601,
          14326001,
          39779088,
          83227435,
          102392630,
          10327161,
          57095178,
          141924156,
          111224644,
          40381052,
          26190606,
          30429516,
          13418712,
          22324650,
          4483869,
          13355015,
          60574998,
          33894853,
          25593972,
          222890552,
          96504289,
          84179371,
          54869692,
          61874139,
          66704035,
          136673738,
          46475779,
          138854326,
          136584466,
          40447082,
          3759048,
          20921560,
          208332670,
          116390769,
          201429161,
          135513886,
          58341346,
          58424065,
          51425059,
          216872480,
          350023322,
          275499854,
          164233996,
          336626568,
          33465948,
          43282506,
          74354417,
          148368806,
          253728291,
          180502856,
          82090695,
          null,
          null,
          null,
          null,
          null,
          null,
          null
         ],
         "yaxis": "y"
        },
        {
         "hovertemplate": "variable=Label<br>index=%{x}<br>value=%{y}<extra></extra>",
         "legendgroup": "Label",
         "line": {
          "color": "#EF553B",
          "dash": "solid"
         },
         "marker": {
          "symbol": "circle"
         },
         "mode": "lines",
         "name": "Label",
         "orientation": "v",
         "showlegend": true,
         "type": "scatter",
         "x": [
          "2018-01-01T00:00:00",
          "2018-02-01T00:00:00",
          "2018-03-01T00:00:00",
          "2018-04-01T00:00:00",
          "2018-05-01T00:00:00",
          "2018-06-01T00:00:00",
          "2018-07-01T00:00:00",
          "2018-08-01T00:00:00",
          "2018-09-01T00:00:00",
          "2018-10-01T00:00:00",
          "2018-11-01T00:00:00",
          "2018-12-01T00:00:00",
          "2019-01-01T00:00:00",
          "2019-02-01T00:00:00",
          "2019-03-01T00:00:00",
          "2019-04-01T00:00:00",
          "2019-05-01T00:00:00",
          "2019-06-01T00:00:00",
          "2019-07-01T00:00:00",
          "2019-08-01T00:00:00",
          "2019-09-01T00:00:00",
          "2019-10-01T00:00:00",
          "2019-11-01T00:00:00",
          "2019-12-01T00:00:00",
          "2020-01-01T00:00:00",
          "2020-02-01T00:00:00",
          "2020-03-01T00:00:00",
          "2020-04-01T00:00:00",
          "2020-05-01T00:00:00",
          "2020-06-01T00:00:00",
          "2020-07-01T00:00:00",
          "2020-08-01T00:00:00",
          "2020-09-01T00:00:00",
          "2020-10-01T00:00:00",
          "2020-11-01T00:00:00",
          "2020-12-01T00:00:00",
          "2021-01-01T00:00:00",
          "2021-02-01T00:00:00",
          "2021-03-01T00:00:00",
          "2021-04-01T00:00:00",
          "2021-05-01T00:00:00",
          "2021-06-01T00:00:00",
          "2021-07-01T00:00:00",
          "2021-08-01T00:00:00",
          "2021-09-01T00:00:00",
          "2021-10-01T00:00:00",
          "2021-11-01T00:00:00",
          "2021-12-01T00:00:00",
          "2022-01-01T00:00:00",
          "2022-02-01T00:00:00",
          "2022-03-01T00:00:00",
          "2022-04-01T00:00:00",
          "2022-05-01T00:00:00",
          "2022-06-01T00:00:00",
          "2022-07-01T00:00:00",
          "2022-08-01T00:00:00",
          "2022-09-01T00:00:00",
          "2022-10-01T00:00:00",
          "2022-11-01T00:00:00",
          "2022-12-01T00:00:00",
          "2023-01-01T00:00:00",
          "2023-02-01T00:00:00",
          "2023-03-01T00:00:00",
          "2023-04-01T00:00:00",
          "2023-05-01T00:00:00",
          "2023-06-01T00:00:00",
          "2023-07-01T00:00:00",
          "2023-08-01T00:00:00"
         ],
         "xaxis": "x",
         "y": [
          null,
          null,
          null,
          null,
          null,
          null,
          null,
          null,
          null,
          null,
          null,
          null,
          null,
          null,
          null,
          null,
          null,
          null,
          null,
          null,
          null,
          null,
          null,
          null,
          null,
          null,
          null,
          null,
          null,
          null,
          null,
          null,
          null,
          null,
          null,
          null,
          null,
          null,
          null,
          null,
          null,
          null,
          null,
          null,
          null,
          null,
          null,
          null,
          null,
          null,
          null,
          null,
          null,
          null,
          null,
          null,
          null,
          null,
          null,
          null,
          null,
          104759304,
          106877576,
          109026536,
          111206376,
          113417344,
          115659792,
          117933920
         ],
         "yaxis": "y"
        }
       ],
       "layout": {
        "legend": {
         "title": {
          "text": "variable"
         },
         "tracegroupgap": 0
        },
        "margin": {
         "t": 60
        },
        "template": {
         "data": {
          "bar": [
           {
            "error_x": {
             "color": "#f2f5fa"
            },
            "error_y": {
             "color": "#f2f5fa"
            },
            "marker": {
             "line": {
              "color": "rgb(17,17,17)",
              "width": 0.5
             },
             "pattern": {
              "fillmode": "overlay",
              "size": 10,
              "solidity": 0.2
             }
            },
            "type": "bar"
           }
          ],
          "barpolar": [
           {
            "marker": {
             "line": {
              "color": "rgb(17,17,17)",
              "width": 0.5
             },
             "pattern": {
              "fillmode": "overlay",
              "size": 10,
              "solidity": 0.2
             }
            },
            "type": "barpolar"
           }
          ],
          "carpet": [
           {
            "aaxis": {
             "endlinecolor": "#A2B1C6",
             "gridcolor": "#506784",
             "linecolor": "#506784",
             "minorgridcolor": "#506784",
             "startlinecolor": "#A2B1C6"
            },
            "baxis": {
             "endlinecolor": "#A2B1C6",
             "gridcolor": "#506784",
             "linecolor": "#506784",
             "minorgridcolor": "#506784",
             "startlinecolor": "#A2B1C6"
            },
            "type": "carpet"
           }
          ],
          "choropleth": [
           {
            "colorbar": {
             "outlinewidth": 0,
             "ticks": ""
            },
            "type": "choropleth"
           }
          ],
          "contour": [
           {
            "colorbar": {
             "outlinewidth": 0,
             "ticks": ""
            },
            "colorscale": [
             [
              0,
              "#0d0887"
             ],
             [
              0.1111111111111111,
              "#46039f"
             ],
             [
              0.2222222222222222,
              "#7201a8"
             ],
             [
              0.3333333333333333,
              "#9c179e"
             ],
             [
              0.4444444444444444,
              "#bd3786"
             ],
             [
              0.5555555555555556,
              "#d8576b"
             ],
             [
              0.6666666666666666,
              "#ed7953"
             ],
             [
              0.7777777777777778,
              "#fb9f3a"
             ],
             [
              0.8888888888888888,
              "#fdca26"
             ],
             [
              1,
              "#f0f921"
             ]
            ],
            "type": "contour"
           }
          ],
          "contourcarpet": [
           {
            "colorbar": {
             "outlinewidth": 0,
             "ticks": ""
            },
            "type": "contourcarpet"
           }
          ],
          "heatmap": [
           {
            "colorbar": {
             "outlinewidth": 0,
             "ticks": ""
            },
            "colorscale": [
             [
              0,
              "#0d0887"
             ],
             [
              0.1111111111111111,
              "#46039f"
             ],
             [
              0.2222222222222222,
              "#7201a8"
             ],
             [
              0.3333333333333333,
              "#9c179e"
             ],
             [
              0.4444444444444444,
              "#bd3786"
             ],
             [
              0.5555555555555556,
              "#d8576b"
             ],
             [
              0.6666666666666666,
              "#ed7953"
             ],
             [
              0.7777777777777778,
              "#fb9f3a"
             ],
             [
              0.8888888888888888,
              "#fdca26"
             ],
             [
              1,
              "#f0f921"
             ]
            ],
            "type": "heatmap"
           }
          ],
          "heatmapgl": [
           {
            "colorbar": {
             "outlinewidth": 0,
             "ticks": ""
            },
            "colorscale": [
             [
              0,
              "#0d0887"
             ],
             [
              0.1111111111111111,
              "#46039f"
             ],
             [
              0.2222222222222222,
              "#7201a8"
             ],
             [
              0.3333333333333333,
              "#9c179e"
             ],
             [
              0.4444444444444444,
              "#bd3786"
             ],
             [
              0.5555555555555556,
              "#d8576b"
             ],
             [
              0.6666666666666666,
              "#ed7953"
             ],
             [
              0.7777777777777778,
              "#fb9f3a"
             ],
             [
              0.8888888888888888,
              "#fdca26"
             ],
             [
              1,
              "#f0f921"
             ]
            ],
            "type": "heatmapgl"
           }
          ],
          "histogram": [
           {
            "marker": {
             "pattern": {
              "fillmode": "overlay",
              "size": 10,
              "solidity": 0.2
             }
            },
            "type": "histogram"
           }
          ],
          "histogram2d": [
           {
            "colorbar": {
             "outlinewidth": 0,
             "ticks": ""
            },
            "colorscale": [
             [
              0,
              "#0d0887"
             ],
             [
              0.1111111111111111,
              "#46039f"
             ],
             [
              0.2222222222222222,
              "#7201a8"
             ],
             [
              0.3333333333333333,
              "#9c179e"
             ],
             [
              0.4444444444444444,
              "#bd3786"
             ],
             [
              0.5555555555555556,
              "#d8576b"
             ],
             [
              0.6666666666666666,
              "#ed7953"
             ],
             [
              0.7777777777777778,
              "#fb9f3a"
             ],
             [
              0.8888888888888888,
              "#fdca26"
             ],
             [
              1,
              "#f0f921"
             ]
            ],
            "type": "histogram2d"
           }
          ],
          "histogram2dcontour": [
           {
            "colorbar": {
             "outlinewidth": 0,
             "ticks": ""
            },
            "colorscale": [
             [
              0,
              "#0d0887"
             ],
             [
              0.1111111111111111,
              "#46039f"
             ],
             [
              0.2222222222222222,
              "#7201a8"
             ],
             [
              0.3333333333333333,
              "#9c179e"
             ],
             [
              0.4444444444444444,
              "#bd3786"
             ],
             [
              0.5555555555555556,
              "#d8576b"
             ],
             [
              0.6666666666666666,
              "#ed7953"
             ],
             [
              0.7777777777777778,
              "#fb9f3a"
             ],
             [
              0.8888888888888888,
              "#fdca26"
             ],
             [
              1,
              "#f0f921"
             ]
            ],
            "type": "histogram2dcontour"
           }
          ],
          "mesh3d": [
           {
            "colorbar": {
             "outlinewidth": 0,
             "ticks": ""
            },
            "type": "mesh3d"
           }
          ],
          "parcoords": [
           {
            "line": {
             "colorbar": {
              "outlinewidth": 0,
              "ticks": ""
             }
            },
            "type": "parcoords"
           }
          ],
          "pie": [
           {
            "automargin": true,
            "type": "pie"
           }
          ],
          "scatter": [
           {
            "marker": {
             "line": {
              "color": "#283442"
             }
            },
            "type": "scatter"
           }
          ],
          "scatter3d": [
           {
            "line": {
             "colorbar": {
              "outlinewidth": 0,
              "ticks": ""
             }
            },
            "marker": {
             "colorbar": {
              "outlinewidth": 0,
              "ticks": ""
             }
            },
            "type": "scatter3d"
           }
          ],
          "scattercarpet": [
           {
            "marker": {
             "colorbar": {
              "outlinewidth": 0,
              "ticks": ""
             }
            },
            "type": "scattercarpet"
           }
          ],
          "scattergeo": [
           {
            "marker": {
             "colorbar": {
              "outlinewidth": 0,
              "ticks": ""
             }
            },
            "type": "scattergeo"
           }
          ],
          "scattergl": [
           {
            "marker": {
             "line": {
              "color": "#283442"
             }
            },
            "type": "scattergl"
           }
          ],
          "scattermapbox": [
           {
            "marker": {
             "colorbar": {
              "outlinewidth": 0,
              "ticks": ""
             }
            },
            "type": "scattermapbox"
           }
          ],
          "scatterpolar": [
           {
            "marker": {
             "colorbar": {
              "outlinewidth": 0,
              "ticks": ""
             }
            },
            "type": "scatterpolar"
           }
          ],
          "scatterpolargl": [
           {
            "marker": {
             "colorbar": {
              "outlinewidth": 0,
              "ticks": ""
             }
            },
            "type": "scatterpolargl"
           }
          ],
          "scatterternary": [
           {
            "marker": {
             "colorbar": {
              "outlinewidth": 0,
              "ticks": ""
             }
            },
            "type": "scatterternary"
           }
          ],
          "surface": [
           {
            "colorbar": {
             "outlinewidth": 0,
             "ticks": ""
            },
            "colorscale": [
             [
              0,
              "#0d0887"
             ],
             [
              0.1111111111111111,
              "#46039f"
             ],
             [
              0.2222222222222222,
              "#7201a8"
             ],
             [
              0.3333333333333333,
              "#9c179e"
             ],
             [
              0.4444444444444444,
              "#bd3786"
             ],
             [
              0.5555555555555556,
              "#d8576b"
             ],
             [
              0.6666666666666666,
              "#ed7953"
             ],
             [
              0.7777777777777778,
              "#fb9f3a"
             ],
             [
              0.8888888888888888,
              "#fdca26"
             ],
             [
              1,
              "#f0f921"
             ]
            ],
            "type": "surface"
           }
          ],
          "table": [
           {
            "cells": {
             "fill": {
              "color": "#506784"
             },
             "line": {
              "color": "rgb(17,17,17)"
             }
            },
            "header": {
             "fill": {
              "color": "#2a3f5f"
             },
             "line": {
              "color": "rgb(17,17,17)"
             }
            },
            "type": "table"
           }
          ]
         },
         "layout": {
          "annotationdefaults": {
           "arrowcolor": "#f2f5fa",
           "arrowhead": 0,
           "arrowwidth": 1
          },
          "autotypenumbers": "strict",
          "coloraxis": {
           "colorbar": {
            "outlinewidth": 0,
            "ticks": ""
           }
          },
          "colorscale": {
           "diverging": [
            [
             0,
             "#8e0152"
            ],
            [
             0.1,
             "#c51b7d"
            ],
            [
             0.2,
             "#de77ae"
            ],
            [
             0.3,
             "#f1b6da"
            ],
            [
             0.4,
             "#fde0ef"
            ],
            [
             0.5,
             "#f7f7f7"
            ],
            [
             0.6,
             "#e6f5d0"
            ],
            [
             0.7,
             "#b8e186"
            ],
            [
             0.8,
             "#7fbc41"
            ],
            [
             0.9,
             "#4d9221"
            ],
            [
             1,
             "#276419"
            ]
           ],
           "sequential": [
            [
             0,
             "#0d0887"
            ],
            [
             0.1111111111111111,
             "#46039f"
            ],
            [
             0.2222222222222222,
             "#7201a8"
            ],
            [
             0.3333333333333333,
             "#9c179e"
            ],
            [
             0.4444444444444444,
             "#bd3786"
            ],
            [
             0.5555555555555556,
             "#d8576b"
            ],
            [
             0.6666666666666666,
             "#ed7953"
            ],
            [
             0.7777777777777778,
             "#fb9f3a"
            ],
            [
             0.8888888888888888,
             "#fdca26"
            ],
            [
             1,
             "#f0f921"
            ]
           ],
           "sequentialminus": [
            [
             0,
             "#0d0887"
            ],
            [
             0.1111111111111111,
             "#46039f"
            ],
            [
             0.2222222222222222,
             "#7201a8"
            ],
            [
             0.3333333333333333,
             "#9c179e"
            ],
            [
             0.4444444444444444,
             "#bd3786"
            ],
            [
             0.5555555555555556,
             "#d8576b"
            ],
            [
             0.6666666666666666,
             "#ed7953"
            ],
            [
             0.7777777777777778,
             "#fb9f3a"
            ],
            [
             0.8888888888888888,
             "#fdca26"
            ],
            [
             1,
             "#f0f921"
            ]
           ]
          },
          "colorway": [
           "#636efa",
           "#EF553B",
           "#00cc96",
           "#ab63fa",
           "#FFA15A",
           "#19d3f3",
           "#FF6692",
           "#B6E880",
           "#FF97FF",
           "#FECB52"
          ],
          "font": {
           "color": "#f2f5fa"
          },
          "geo": {
           "bgcolor": "rgb(17,17,17)",
           "lakecolor": "rgb(17,17,17)",
           "landcolor": "rgb(17,17,17)",
           "showlakes": true,
           "showland": true,
           "subunitcolor": "#506784"
          },
          "hoverlabel": {
           "align": "left"
          },
          "hovermode": "closest",
          "mapbox": {
           "style": "dark"
          },
          "paper_bgcolor": "rgb(17,17,17)",
          "plot_bgcolor": "rgb(17,17,17)",
          "polar": {
           "angularaxis": {
            "gridcolor": "#506784",
            "linecolor": "#506784",
            "ticks": ""
           },
           "bgcolor": "rgb(17,17,17)",
           "radialaxis": {
            "gridcolor": "#506784",
            "linecolor": "#506784",
            "ticks": ""
           }
          },
          "scene": {
           "xaxis": {
            "backgroundcolor": "rgb(17,17,17)",
            "gridcolor": "#506784",
            "gridwidth": 2,
            "linecolor": "#506784",
            "showbackground": true,
            "ticks": "",
            "zerolinecolor": "#C8D4E3"
           },
           "yaxis": {
            "backgroundcolor": "rgb(17,17,17)",
            "gridcolor": "#506784",
            "gridwidth": 2,
            "linecolor": "#506784",
            "showbackground": true,
            "ticks": "",
            "zerolinecolor": "#C8D4E3"
           },
           "zaxis": {
            "backgroundcolor": "rgb(17,17,17)",
            "gridcolor": "#506784",
            "gridwidth": 2,
            "linecolor": "#506784",
            "showbackground": true,
            "ticks": "",
            "zerolinecolor": "#C8D4E3"
           }
          },
          "shapedefaults": {
           "line": {
            "color": "#f2f5fa"
           }
          },
          "sliderdefaults": {
           "bgcolor": "#C8D4E3",
           "bordercolor": "rgb(17,17,17)",
           "borderwidth": 1,
           "tickwidth": 0
          },
          "ternary": {
           "aaxis": {
            "gridcolor": "#506784",
            "linecolor": "#506784",
            "ticks": ""
           },
           "baxis": {
            "gridcolor": "#506784",
            "linecolor": "#506784",
            "ticks": ""
           },
           "bgcolor": "rgb(17,17,17)",
           "caxis": {
            "gridcolor": "#506784",
            "linecolor": "#506784",
            "ticks": ""
           }
          },
          "title": {
           "x": 0.05
          },
          "updatemenudefaults": {
           "bgcolor": "#506784",
           "borderwidth": 0
          },
          "xaxis": {
           "automargin": true,
           "gridcolor": "#283442",
           "linecolor": "#506784",
           "ticks": "",
           "title": {
            "standoff": 15
           },
           "zerolinecolor": "#283442",
           "zerolinewidth": 2
          },
          "yaxis": {
           "automargin": true,
           "gridcolor": "#283442",
           "linecolor": "#506784",
           "ticks": "",
           "title": {
            "standoff": 15
           },
           "zerolinecolor": "#283442",
           "zerolinewidth": 2
          }
         }
        },
        "xaxis": {
         "anchor": "y",
         "domain": [
          0,
          1
         ],
         "title": {
          "text": "index"
         }
        },
        "yaxis": {
         "anchor": "x",
         "domain": [
          0,
          1
         ],
         "title": {
          "text": "value"
         }
        }
       }
      }
     },
     "metadata": {},
     "output_type": "display_data"
    }
   ],
   "source": [
    "concat_df = pd.concat([df_SQL, predictions_future], axis=0)\n",
    "\n",
    "concat_df_i = pd.date_range(start='2018-01-01', end = '2023-08-01', freq = 'MS')\n",
    "\n",
    "concat_df.set_index(concat_df_i, inplace=True)\n",
    "\n",
    "fig = px.line(concat_df, x=concat_df.index, y=[\"Ventas\", \"Label\"], template = 'plotly_dark')\n",
    "\n",
    "fig.show()"
   ]
  }
 ],
 "metadata": {
  "kernelspec": {
   "display_name": "py38",
   "language": "python",
   "name": "python3"
  },
  "language_info": {
   "codemirror_mode": {
    "name": "ipython",
    "version": 3
   },
   "file_extension": ".py",
   "mimetype": "text/x-python",
   "name": "python",
   "nbconvert_exporter": "python",
   "pygments_lexer": "ipython3",
   "version": "3.8.13"
  },
  "orig_nbformat": 4,
  "vscode": {
   "interpreter": {
    "hash": "d6c6a9368ffd28e969f7d90a4d7c29e7466278b3cb1a367b914bbfe92c83c635"
   }
  }
 },
 "nbformat": 4,
 "nbformat_minor": 2
}
