{
 "cells": [
  {
   "attachments": {},
   "cell_type": "markdown",
   "metadata": {},
   "source": [
    "##### Cargue de librerias"
   ]
  },
  {
   "cell_type": "code",
   "execution_count": 31,
   "metadata": {},
   "outputs": [],
   "source": [
    "from pycaret.clustering import *\n",
    "\n",
    "import pyodbc\n",
    "import pandas as pd\n",
    "import numpy as np\n",
    "import matplotlib.pyplot as plt\n",
    "import seaborn as sns\n",
    "from random import randint\n",
    "\n",
    "import warnings\n",
    "warnings.filterwarnings(\"ignore\")"
   ]
  },
  {
   "attachments": {},
   "cell_type": "markdown",
   "metadata": {},
   "source": [
    "##### Conexion al ERP/DWH de Dispapeles y cargue de bds adicionales"
   ]
  },
  {
   "cell_type": "code",
   "execution_count": null,
   "metadata": {},
   "outputs": [],
   "source": [
    "## Conexion al AS\n",
    "\"\"\" cnxn = pyodbc.connect(\n",
    "    driver='{iSeries Access ODBC Driver}',\n",
    "    system='192.168.100.2',\n",
    "    uid='TBLPRDUSR',\n",
    "    pwd='bbbb')\n",
    "cursor = cnxn.cursor() \"\"\"\n",
    "#cnxn.close()\n",
    "\n",
    "#Cargue de la data desde el ERP de Dispapeles y se guarda en df\n",
    "# cursor.execute('SELECT DSTCOD AS \"Codigo distrito\", VTAZNA AS \"Codigo zona\", VTANIT AS \"Nit cliente\", ((2022 - LEFT(MAX(VTAFCH),4)) * 12 ) + (6 - SUBSTRING(MAX(VTAFCH),5,2)) AS \"Recency\", SUM(A.VTAVLRVTA) AS \"Monetary\", COUNT( DISTINCT LEFT(VTAFCH, 6)) AS \"Frequency\" FROM SIDPRDDTA.VTAHEC A WHERE PRMCOD = 1 AND A.DSTCOD = 10 AND A.VTAZNA < 96 AND LEFT(VTAFCH,6) BETWEEN 202011 AND 202210 GROUP BY DSTCOD, VTAZNA, VTANIT')\n",
    "# rows = cursor.fetchall()\n",
    "# df = pd.DataFrame.from_records(rows, columns=[col[0] for col in cursor.description])"
   ]
  },
  {
   "cell_type": "code",
   "execution_count": 2,
   "metadata": {},
   "outputs": [],
   "source": [
    "## Conexion al DWH\n",
    "cnxn = pyodbc.connect(\n",
    "    driver='{SQL Server}',\n",
    "    server='192.168.100.58',\n",
    "    uid='bilectura',\n",
    "    pwd='D1sp@p3l3s')\n",
    "cursor = cnxn.cursor()\n",
    "#cnxn.close()"
   ]
  },
  {
   "cell_type": "code",
   "execution_count": 3,
   "metadata": {},
   "outputs": [],
   "source": [
    "codigo_SQL = \"SELECT A.DSTCOD AS 'Codigo distrito', B.VNDZNA AS 'Codigo zona actual', CONCAT(CONCAT(A.VTANIT,'-'),A.VTASUC) AS 'Nit cliente-sucursal', A.VTAANO AS 'Ano', A.VTAMES AS 'Mes', (((2021 - MAX(A.VTAANO)) * 12 ) + (0 - MAX(A.VTAMES))) * -1 AS 'Recency', SUM(A.VTAVLRVTA) AS 'Monetary', COUNT( DISTINCT A.VTAMES) AS 'Frequency' FROM V_VTA_VTAHEC A LEFT JOIN\tDIM_CLIENTES B ON A.PRMCOD = B.PRMCOD AND A.DSTCOD = B.DSTCOD AND A.VTANIT = B.CLTNIT AND A.VTASUC = B.CLTSUC WHERE A.PRMCOD = 1 AND A.DSTCOD NOT IN (30,35) AND A.VTAZNA < 96 AND A.VTAFCH BETWEEN '2021-01-01' AND '2022-12-31' GROUP BY A.DSTCOD, B.VNDZNA, CONCAT(CONCAT(A.VTANIT,'-'),A.VTASUC),\tA.VTAANO, A.VTAMES HAVING SUM(A.VTAVLRVTA) > 0\""
   ]
  },
  {
   "cell_type": "code",
   "execution_count": 4,
   "metadata": {},
   "outputs": [],
   "source": [
    "#Cargue de la data desde el ERP de Dispapeles y se guarda en df\n",
    "cursor.execute(codigo_SQL)\n",
    "rows = cursor.fetchall()\n",
    "df = pd.DataFrame.from_records(rows, columns=[col[0] for col in cursor.description])"
   ]
  },
  {
   "cell_type": "code",
   "execution_count": 5,
   "metadata": {},
   "outputs": [],
   "source": [
    "maestra_zonas = pd.read_csv('C:/Users/tcardenas/OneDrive/OneDrive - Grupo DISPAPELES/Documents/Análisis clustering/Maestra_zonas.csv', delimiter= \";\")"
   ]
  },
  {
   "attachments": {},
   "cell_type": "markdown",
   "metadata": {},
   "source": [
    "##### Tranformaciones"
   ]
  },
  {
   "cell_type": "code",
   "execution_count": 6,
   "metadata": {},
   "outputs": [],
   "source": [
    "df[\"Monetary\"] = df[\"Monetary\"].astype(int)"
   ]
  },
  {
   "cell_type": "code",
   "execution_count": 7,
   "metadata": {},
   "outputs": [],
   "source": [
    "df_2 = pd.merge(df, maestra_zonas, on= [\"Codigo distrito\", \"Codigo zona actual\"])"
   ]
  },
  {
   "cell_type": "code",
   "execution_count": 8,
   "metadata": {},
   "outputs": [],
   "source": [
    "list_filter = ['Artes graficas', 'V Horeca', 'Institucional', 'V SyE',\n",
    "                'V Industria', 'Mayorista']"
   ]
  },
  {
   "cell_type": "code",
   "execution_count": 9,
   "metadata": {},
   "outputs": [],
   "source": [
    "df = df_2[df_2[\"Nombre tipo zona\"].isin(list_filter)]"
   ]
  },
  {
   "cell_type": "code",
   "execution_count": 10,
   "metadata": {},
   "outputs": [
    {
     "data": {
      "text/html": [
       "<div>\n",
       "<style scoped>\n",
       "    .dataframe tbody tr th:only-of-type {\n",
       "        vertical-align: middle;\n",
       "    }\n",
       "\n",
       "    .dataframe tbody tr th {\n",
       "        vertical-align: top;\n",
       "    }\n",
       "\n",
       "    .dataframe thead th {\n",
       "        text-align: right;\n",
       "    }\n",
       "</style>\n",
       "<table border=\"1\" class=\"dataframe\">\n",
       "  <thead>\n",
       "    <tr style=\"text-align: right;\">\n",
       "      <th></th>\n",
       "      <th>Codigo distrito</th>\n",
       "      <th>Codigo zona actual</th>\n",
       "      <th>Ano</th>\n",
       "      <th>Mes</th>\n",
       "      <th>Recency</th>\n",
       "      <th>Monetary</th>\n",
       "      <th>Frequency</th>\n",
       "    </tr>\n",
       "  </thead>\n",
       "  <tbody>\n",
       "    <tr>\n",
       "      <th>count</th>\n",
       "      <td>123427.000000</td>\n",
       "      <td>123427.000000</td>\n",
       "      <td>123427.000000</td>\n",
       "      <td>123427.000000</td>\n",
       "      <td>123427.000000</td>\n",
       "      <td>1.234270e+05</td>\n",
       "      <td>123427.0</td>\n",
       "    </tr>\n",
       "    <tr>\n",
       "      <th>mean</th>\n",
       "      <td>40.382518</td>\n",
       "      <td>39.111248</td>\n",
       "      <td>2021.519692</td>\n",
       "      <td>6.574971</td>\n",
       "      <td>12.811273</td>\n",
       "      <td>7.214459e+06</td>\n",
       "      <td>1.0</td>\n",
       "    </tr>\n",
       "    <tr>\n",
       "      <th>std</th>\n",
       "      <td>23.561828</td>\n",
       "      <td>29.349243</td>\n",
       "      <td>0.499614</td>\n",
       "      <td>3.434467</td>\n",
       "      <td>6.921857</td>\n",
       "      <td>2.594011e+07</td>\n",
       "      <td>0.0</td>\n",
       "    </tr>\n",
       "    <tr>\n",
       "      <th>min</th>\n",
       "      <td>10.000000</td>\n",
       "      <td>1.000000</td>\n",
       "      <td>2021.000000</td>\n",
       "      <td>1.000000</td>\n",
       "      <td>1.000000</td>\n",
       "      <td>0.000000e+00</td>\n",
       "      <td>1.0</td>\n",
       "    </tr>\n",
       "    <tr>\n",
       "      <th>25%</th>\n",
       "      <td>20.000000</td>\n",
       "      <td>8.000000</td>\n",
       "      <td>2021.000000</td>\n",
       "      <td>4.000000</td>\n",
       "      <td>7.000000</td>\n",
       "      <td>3.048230e+05</td>\n",
       "      <td>1.0</td>\n",
       "    </tr>\n",
       "    <tr>\n",
       "      <th>50%</th>\n",
       "      <td>40.000000</td>\n",
       "      <td>60.000000</td>\n",
       "      <td>2022.000000</td>\n",
       "      <td>7.000000</td>\n",
       "      <td>13.000000</td>\n",
       "      <td>1.090560e+06</td>\n",
       "      <td>1.0</td>\n",
       "    </tr>\n",
       "    <tr>\n",
       "      <th>75%</th>\n",
       "      <td>60.000000</td>\n",
       "      <td>65.000000</td>\n",
       "      <td>2022.000000</td>\n",
       "      <td>10.000000</td>\n",
       "      <td>19.000000</td>\n",
       "      <td>4.400280e+06</td>\n",
       "      <td>1.0</td>\n",
       "    </tr>\n",
       "    <tr>\n",
       "      <th>max</th>\n",
       "      <td>90.000000</td>\n",
       "      <td>96.000000</td>\n",
       "      <td>2022.000000</td>\n",
       "      <td>12.000000</td>\n",
       "      <td>24.000000</td>\n",
       "      <td>1.355925e+09</td>\n",
       "      <td>1.0</td>\n",
       "    </tr>\n",
       "  </tbody>\n",
       "</table>\n",
       "</div>"
      ],
      "text/plain": [
       "       Codigo distrito  Codigo zona actual            Ano            Mes  \\\n",
       "count    123427.000000       123427.000000  123427.000000  123427.000000   \n",
       "mean         40.382518           39.111248    2021.519692       6.574971   \n",
       "std          23.561828           29.349243       0.499614       3.434467   \n",
       "min          10.000000            1.000000    2021.000000       1.000000   \n",
       "25%          20.000000            8.000000    2021.000000       4.000000   \n",
       "50%          40.000000           60.000000    2022.000000       7.000000   \n",
       "75%          60.000000           65.000000    2022.000000      10.000000   \n",
       "max          90.000000           96.000000    2022.000000      12.000000   \n",
       "\n",
       "             Recency      Monetary  Frequency  \n",
       "count  123427.000000  1.234270e+05   123427.0  \n",
       "mean       12.811273  7.214459e+06        1.0  \n",
       "std         6.921857  2.594011e+07        0.0  \n",
       "min         1.000000  0.000000e+00        1.0  \n",
       "25%         7.000000  3.048230e+05        1.0  \n",
       "50%        13.000000  1.090560e+06        1.0  \n",
       "75%        19.000000  4.400280e+06        1.0  \n",
       "max        24.000000  1.355925e+09        1.0  "
      ]
     },
     "execution_count": 10,
     "metadata": {},
     "output_type": "execute_result"
    }
   ],
   "source": [
    "df.describe()"
   ]
  },
  {
   "cell_type": "code",
   "execution_count": 12,
   "metadata": {},
   "outputs": [
    {
     "data": {
      "text/html": [
       "<div>\n",
       "<style scoped>\n",
       "    .dataframe tbody tr th:only-of-type {\n",
       "        vertical-align: middle;\n",
       "    }\n",
       "\n",
       "    .dataframe tbody tr th {\n",
       "        vertical-align: top;\n",
       "    }\n",
       "\n",
       "    .dataframe thead th {\n",
       "        text-align: right;\n",
       "    }\n",
       "</style>\n",
       "<table border=\"1\" class=\"dataframe\">\n",
       "  <thead>\n",
       "    <tr style=\"text-align: right;\">\n",
       "      <th></th>\n",
       "      <th>Codigo distrito</th>\n",
       "      <th>Nombre tipo zona</th>\n",
       "      <th>Nit cliente-sucursal</th>\n",
       "      <th>Recency</th>\n",
       "      <th>Monetary</th>\n",
       "      <th>Frequency</th>\n",
       "    </tr>\n",
       "  </thead>\n",
       "  <tbody>\n",
       "    <tr>\n",
       "      <th>0</th>\n",
       "      <td>10</td>\n",
       "      <td>Artes graficas</td>\n",
       "      <td>1010197660-1</td>\n",
       "      <td>14</td>\n",
       "      <td>2856739</td>\n",
       "      <td>1</td>\n",
       "    </tr>\n",
       "    <tr>\n",
       "      <th>1</th>\n",
       "      <td>10</td>\n",
       "      <td>Artes graficas</td>\n",
       "      <td>1010208977-1</td>\n",
       "      <td>1</td>\n",
       "      <td>1732800</td>\n",
       "      <td>1</td>\n",
       "    </tr>\n",
       "    <tr>\n",
       "      <th>2</th>\n",
       "      <td>10</td>\n",
       "      <td>Artes graficas</td>\n",
       "      <td>1012348815-1</td>\n",
       "      <td>2</td>\n",
       "      <td>78219</td>\n",
       "      <td>1</td>\n",
       "    </tr>\n",
       "    <tr>\n",
       "      <th>3</th>\n",
       "      <td>10</td>\n",
       "      <td>Artes graficas</td>\n",
       "      <td>1013637504-1</td>\n",
       "      <td>4</td>\n",
       "      <td>150045</td>\n",
       "      <td>1</td>\n",
       "    </tr>\n",
       "    <tr>\n",
       "      <th>4</th>\n",
       "      <td>10</td>\n",
       "      <td>Artes graficas</td>\n",
       "      <td>1013642113-1</td>\n",
       "      <td>24</td>\n",
       "      <td>5571618</td>\n",
       "      <td>1</td>\n",
       "    </tr>\n",
       "    <tr>\n",
       "      <th>...</th>\n",
       "      <td>...</td>\n",
       "      <td>...</td>\n",
       "      <td>...</td>\n",
       "      <td>...</td>\n",
       "      <td>...</td>\n",
       "      <td>...</td>\n",
       "    </tr>\n",
       "    <tr>\n",
       "      <th>14307</th>\n",
       "      <td>90</td>\n",
       "      <td>Mayorista</td>\n",
       "      <td>93300278-1</td>\n",
       "      <td>17</td>\n",
       "      <td>1990949</td>\n",
       "      <td>5</td>\n",
       "    </tr>\n",
       "    <tr>\n",
       "      <th>14308</th>\n",
       "      <td>90</td>\n",
       "      <td>Mayorista</td>\n",
       "      <td>93370623-1</td>\n",
       "      <td>24</td>\n",
       "      <td>19617604</td>\n",
       "      <td>23</td>\n",
       "    </tr>\n",
       "    <tr>\n",
       "      <th>14309</th>\n",
       "      <td>90</td>\n",
       "      <td>Mayorista</td>\n",
       "      <td>93386132-1</td>\n",
       "      <td>22</td>\n",
       "      <td>721928263</td>\n",
       "      <td>19</td>\n",
       "    </tr>\n",
       "    <tr>\n",
       "      <th>14310</th>\n",
       "      <td>90</td>\n",
       "      <td>Mayorista</td>\n",
       "      <td>93414007-1</td>\n",
       "      <td>24</td>\n",
       "      <td>18084903</td>\n",
       "      <td>15</td>\n",
       "    </tr>\n",
       "    <tr>\n",
       "      <th>14311</th>\n",
       "      <td>90</td>\n",
       "      <td>Mayorista</td>\n",
       "      <td>93437671-1</td>\n",
       "      <td>3</td>\n",
       "      <td>700059</td>\n",
       "      <td>1</td>\n",
       "    </tr>\n",
       "  </tbody>\n",
       "</table>\n",
       "<p>14312 rows × 6 columns</p>\n",
       "</div>"
      ],
      "text/plain": [
       "       Codigo distrito Nombre tipo zona Nit cliente-sucursal  Recency  \\\n",
       "0                   10   Artes graficas         1010197660-1       14   \n",
       "1                   10   Artes graficas         1010208977-1        1   \n",
       "2                   10   Artes graficas         1012348815-1        2   \n",
       "3                   10   Artes graficas         1013637504-1        4   \n",
       "4                   10   Artes graficas         1013642113-1       24   \n",
       "...                ...              ...                  ...      ...   \n",
       "14307               90        Mayorista           93300278-1       17   \n",
       "14308               90        Mayorista           93370623-1       24   \n",
       "14309               90        Mayorista           93386132-1       22   \n",
       "14310               90        Mayorista           93414007-1       24   \n",
       "14311               90        Mayorista           93437671-1        3   \n",
       "\n",
       "        Monetary  Frequency  \n",
       "0        2856739          1  \n",
       "1        1732800          1  \n",
       "2          78219          1  \n",
       "3         150045          1  \n",
       "4        5571618          1  \n",
       "...          ...        ...  \n",
       "14307    1990949          5  \n",
       "14308   19617604         23  \n",
       "14309  721928263         19  \n",
       "14310   18084903         15  \n",
       "14311     700059          1  \n",
       "\n",
       "[14312 rows x 6 columns]"
      ]
     },
     "execution_count": 12,
     "metadata": {},
     "output_type": "execute_result"
    }
   ],
   "source": [
    "df_3 = df.groupby([\"Codigo distrito\", \"Nombre tipo zona\", \"Nit cliente-sucursal\"]).agg({\"Recency\": np.max,\n",
    "                                                                            \"Monetary\": np.sum,\n",
    "                                                                            \"Frequency\": np.sum\n",
    "                                                                            })\n",
    "df_3 = df_3.reset_index(col_level= 1)\n",
    "df_3"
   ]
  },
  {
   "cell_type": "code",
   "execution_count": 13,
   "metadata": {},
   "outputs": [],
   "source": [
    "#Se añade una key de Distrito-Nombretipozona para hacer mas facil la identificacion cuando se usa todo el pais\n",
    "#Se genera la calificacion de Recency basado en los valores máximos\n",
    "#Se divide por millón la columna Monetary para disminuir el rango de los valores\n",
    "df_3['Distrito-Nombretipozona'] = df_3['Codigo distrito'].astype(str) + '-' + df_3['Nombre tipo zona']\n",
    "df_3['Monetary'] = (df_3['Monetary'] / 1000).astype(int)\n",
    "df_3['Frequency'] = (df_3['Frequency']).astype(int)"
   ]
  },
  {
   "cell_type": "code",
   "execution_count": 14,
   "metadata": {},
   "outputs": [
    {
     "data": {
      "text/html": [
       "<div>\n",
       "<style scoped>\n",
       "    .dataframe tbody tr th:only-of-type {\n",
       "        vertical-align: middle;\n",
       "    }\n",
       "\n",
       "    .dataframe tbody tr th {\n",
       "        vertical-align: top;\n",
       "    }\n",
       "\n",
       "    .dataframe thead th {\n",
       "        text-align: right;\n",
       "    }\n",
       "</style>\n",
       "<table border=\"1\" class=\"dataframe\">\n",
       "  <thead>\n",
       "    <tr style=\"text-align: right;\">\n",
       "      <th></th>\n",
       "      <th>Codigo distrito</th>\n",
       "      <th>Recency</th>\n",
       "      <th>Monetary</th>\n",
       "      <th>Frequency</th>\n",
       "    </tr>\n",
       "  </thead>\n",
       "  <tbody>\n",
       "    <tr>\n",
       "      <th>count</th>\n",
       "      <td>14312.000000</td>\n",
       "      <td>14312.000000</td>\n",
       "      <td>1.431200e+04</td>\n",
       "      <td>14312.000000</td>\n",
       "    </tr>\n",
       "    <tr>\n",
       "      <th>mean</th>\n",
       "      <td>41.646381</td>\n",
       "      <td>18.902390</td>\n",
       "      <td>6.221718e+04</td>\n",
       "      <td>8.624022</td>\n",
       "    </tr>\n",
       "    <tr>\n",
       "      <th>std</th>\n",
       "      <td>23.955554</td>\n",
       "      <td>6.644126</td>\n",
       "      <td>2.959577e+05</td>\n",
       "      <td>7.910759</td>\n",
       "    </tr>\n",
       "    <tr>\n",
       "      <th>min</th>\n",
       "      <td>10.000000</td>\n",
       "      <td>1.000000</td>\n",
       "      <td>4.000000e+00</td>\n",
       "      <td>1.000000</td>\n",
       "    </tr>\n",
       "    <tr>\n",
       "      <th>25%</th>\n",
       "      <td>20.000000</td>\n",
       "      <td>15.000000</td>\n",
       "      <td>9.640000e+02</td>\n",
       "      <td>2.000000</td>\n",
       "    </tr>\n",
       "    <tr>\n",
       "      <th>50%</th>\n",
       "      <td>40.000000</td>\n",
       "      <td>22.000000</td>\n",
       "      <td>4.668000e+03</td>\n",
       "      <td>5.000000</td>\n",
       "    </tr>\n",
       "    <tr>\n",
       "      <th>75%</th>\n",
       "      <td>60.000000</td>\n",
       "      <td>24.000000</td>\n",
       "      <td>2.357875e+04</td>\n",
       "      <td>14.000000</td>\n",
       "    </tr>\n",
       "    <tr>\n",
       "      <th>max</th>\n",
       "      <td>90.000000</td>\n",
       "      <td>24.000000</td>\n",
       "      <td>1.513502e+07</td>\n",
       "      <td>24.000000</td>\n",
       "    </tr>\n",
       "  </tbody>\n",
       "</table>\n",
       "</div>"
      ],
      "text/plain": [
       "       Codigo distrito       Recency      Monetary     Frequency\n",
       "count     14312.000000  14312.000000  1.431200e+04  14312.000000\n",
       "mean         41.646381     18.902390  6.221718e+04      8.624022\n",
       "std          23.955554      6.644126  2.959577e+05      7.910759\n",
       "min          10.000000      1.000000  4.000000e+00      1.000000\n",
       "25%          20.000000     15.000000  9.640000e+02      2.000000\n",
       "50%          40.000000     22.000000  4.668000e+03      5.000000\n",
       "75%          60.000000     24.000000  2.357875e+04     14.000000\n",
       "max          90.000000     24.000000  1.513502e+07     24.000000"
      ]
     },
     "execution_count": 14,
     "metadata": {},
     "output_type": "execute_result"
    }
   ],
   "source": [
    "df_3.describe()"
   ]
  },
  {
   "attachments": {},
   "cell_type": "markdown",
   "metadata": {},
   "source": [
    "##### Creacion, ajuste y descarga de los modelos de clustering por cada distrito-tipo de zona"
   ]
  },
  {
   "cell_type": "code",
   "execution_count": 15,
   "metadata": {},
   "outputs": [],
   "source": [
    "list_dtos = df_3[\"Distrito-Nombretipozona\"].unique()"
   ]
  },
  {
   "cell_type": "code",
   "execution_count": null,
   "metadata": {},
   "outputs": [],
   "source": [
    "list_dtos = ['10-Artes graficas', '10-Institucional']"
   ]
  },
  {
   "cell_type": "code",
   "execution_count": 141,
   "metadata": {},
   "outputs": [],
   "source": [
    "numeric_features = [\"Recency\", \"Monetary\", \"Frequency\"]\n",
    "ignore_columns = [\"Codigo distrito\", \"Nombre tipo zona\", \"Nit cliente-sucursal\", \"Distrito-Nombretipozona\"]\n",
    "normalizar = [False, True]"
   ]
  },
  {
   "cell_type": "code",
   "execution_count": 228,
   "metadata": {},
   "outputs": [
    {
     "name": "stdout",
     "output_type": "stream",
     "text": [
      "Procesando modelo normalizado False 1 de 65. 1.5%\n",
      "Procesando modelo normalizado False 2 de 65. 3.1%\n",
      "Procesando modelo normalizado False 3 de 65. 4.6%\n",
      "Procesando modelo normalizado False 4 de 65. 6.2%\n",
      "Procesando modelo normalizado False 5 de 65. 7.7%\n",
      "Procesando modelo normalizado False 6 de 65. 9.2%\n",
      "Procesando modelo normalizado False 7 de 65. 10.8%\n",
      "Procesando modelo normalizado False 8 de 65. 12.3%\n",
      "Procesando modelo normalizado False 9 de 65. 13.8%\n",
      "Procesando modelo normalizado False 10 de 65. 15.4%\n",
      "Procesando modelo normalizado False 11 de 65. 16.9%\n",
      "Procesando modelo normalizado False 12 de 65. 18.5%\n",
      "Procesando modelo normalizado False 13 de 65. 20.0%\n",
      "Procesando modelo normalizado False 14 de 65. 21.5%\n",
      "Procesando modelo normalizado False 15 de 65. 23.1%\n",
      "Procesando modelo normalizado False 16 de 65. 24.6%\n",
      "Procesando modelo normalizado False 17 de 65. 26.2%\n",
      "Procesando modelo normalizado False 18 de 65. 27.7%\n",
      "Procesando modelo normalizado False 19 de 65. 29.2%\n",
      "Procesando modelo normalizado False 20 de 65. 30.8%\n",
      "Procesando modelo normalizado False 21 de 65. 32.3%\n",
      "Procesando modelo normalizado False 22 de 65. 33.8%\n",
      "Procesando modelo normalizado False 23 de 65. 35.4%\n",
      "Procesando modelo normalizado False 24 de 65. 36.9%\n",
      "Procesando modelo normalizado False 25 de 65. 38.5%\n",
      "Procesando modelo normalizado False 26 de 65. 40.0%\n",
      "Procesando modelo normalizado False 27 de 65. 41.5%\n",
      "Procesando modelo normalizado False 28 de 65. 43.1%\n",
      "Procesando modelo normalizado False 29 de 65. 44.6%\n",
      "Procesando modelo normalizado False 30 de 65. 46.2%\n",
      "Procesando modelo normalizado False 31 de 65. 47.7%\n",
      "Procesando modelo normalizado False 32 de 65. 49.2%\n",
      "Procesando modelo normalizado False 33 de 65. 50.8%\n",
      "Procesando modelo normalizado False 34 de 65. 52.3%\n",
      "Procesando modelo normalizado False 35 de 65. 53.8%\n",
      "Procesando modelo normalizado False 36 de 65. 55.4%\n",
      "Procesando modelo normalizado False 37 de 65. 56.9%\n",
      "Procesando modelo normalizado False 38 de 65. 58.5%\n",
      "Procesando modelo normalizado False 39 de 65. 60.0%\n",
      "Procesando modelo normalizado False 40 de 65. 61.5%\n",
      "Procesando modelo normalizado False 41 de 65. 63.1%\n",
      "Procesando modelo normalizado False 42 de 65. 64.6%\n",
      "Procesando modelo normalizado False 43 de 65. 66.2%\n",
      "Procesando modelo normalizado False 44 de 65. 67.7%\n",
      "Procesando modelo normalizado False 45 de 65. 69.2%\n",
      "Procesando modelo normalizado False 46 de 65. 70.8%\n",
      "Procesando modelo normalizado False 47 de 65. 72.3%\n",
      "Procesando modelo normalizado False 48 de 65. 73.8%\n",
      "Procesando modelo normalizado False 49 de 65. 75.4%\n",
      "Procesando modelo normalizado False 50 de 65. 76.9%\n",
      "Procesando modelo normalizado False 51 de 65. 78.5%\n",
      "Procesando modelo normalizado False 52 de 65. 80.0%\n",
      "Procesando modelo normalizado False 53 de 65. 81.5%\n",
      "Procesando modelo normalizado False 54 de 65. 83.1%\n",
      "Procesando modelo normalizado False 55 de 65. 84.6%\n",
      "Procesando modelo normalizado False 56 de 65. 86.2%\n",
      "Procesando modelo normalizado False 57 de 65. 87.7%\n",
      "Procesando modelo normalizado False 58 de 65. 89.2%\n",
      "Procesando modelo normalizado False 59 de 65. 90.8%\n",
      "Procesando modelo normalizado False 60 de 65. 92.3%\n",
      "Procesando modelo normalizado False 61 de 65. 93.8%\n",
      "Procesando modelo normalizado False 62 de 65. 95.4%\n",
      "Procesando modelo normalizado False 63 de 65. 96.9%\n",
      "Procesando modelo normalizado False 64 de 65. 98.5%\n",
      "Procesando modelo normalizado False 65 de 65. 100.0%\n",
      "Procesando modelo normalizado True 1 de 65. 1.5%\n",
      "Procesando modelo normalizado True 2 de 65. 3.1%\n",
      "Procesando modelo normalizado True 3 de 65. 4.6%\n",
      "Procesando modelo normalizado True 4 de 65. 6.2%\n",
      "Procesando modelo normalizado True 5 de 65. 7.7%\n",
      "Procesando modelo normalizado True 6 de 65. 9.2%\n",
      "Procesando modelo normalizado True 7 de 65. 10.8%\n",
      "Procesando modelo normalizado True 8 de 65. 12.3%\n",
      "Procesando modelo normalizado True 9 de 65. 13.8%\n",
      "Procesando modelo normalizado True 10 de 65. 15.4%\n",
      "Procesando modelo normalizado True 11 de 65. 16.9%\n",
      "Procesando modelo normalizado True 12 de 65. 18.5%\n",
      "Procesando modelo normalizado True 13 de 65. 20.0%\n",
      "Procesando modelo normalizado True 14 de 65. 21.5%\n",
      "Procesando modelo normalizado True 15 de 65. 23.1%\n",
      "Procesando modelo normalizado True 16 de 65. 24.6%\n",
      "Procesando modelo normalizado True 17 de 65. 26.2%\n",
      "Procesando modelo normalizado True 18 de 65. 27.7%\n",
      "Procesando modelo normalizado True 19 de 65. 29.2%\n",
      "Procesando modelo normalizado True 20 de 65. 30.8%\n",
      "Procesando modelo normalizado True 21 de 65. 32.3%\n",
      "Procesando modelo normalizado True 22 de 65. 33.8%\n",
      "Procesando modelo normalizado True 23 de 65. 35.4%\n",
      "Procesando modelo normalizado True 24 de 65. 36.9%\n",
      "Procesando modelo normalizado True 25 de 65. 38.5%\n",
      "Procesando modelo normalizado True 26 de 65. 40.0%\n",
      "Procesando modelo normalizado True 27 de 65. 41.5%\n",
      "Procesando modelo normalizado True 28 de 65. 43.1%\n",
      "Procesando modelo normalizado True 29 de 65. 44.6%\n",
      "Procesando modelo normalizado True 30 de 65. 46.2%\n",
      "Procesando modelo normalizado True 31 de 65. 47.7%\n",
      "Procesando modelo normalizado True 32 de 65. 49.2%\n",
      "Procesando modelo normalizado True 33 de 65. 50.8%\n",
      "Procesando modelo normalizado True 34 de 65. 52.3%\n",
      "Procesando modelo normalizado True 35 de 65. 53.8%\n",
      "Procesando modelo normalizado True 36 de 65. 55.4%\n",
      "Procesando modelo normalizado True 37 de 65. 56.9%\n",
      "Procesando modelo normalizado True 38 de 65. 58.5%\n",
      "Procesando modelo normalizado True 39 de 65. 60.0%\n",
      "Procesando modelo normalizado True 40 de 65. 61.5%\n",
      "Procesando modelo normalizado True 41 de 65. 63.1%\n",
      "Procesando modelo normalizado True 42 de 65. 64.6%\n",
      "Procesando modelo normalizado True 43 de 65. 66.2%\n",
      "Procesando modelo normalizado True 44 de 65. 67.7%\n",
      "Procesando modelo normalizado True 45 de 65. 69.2%\n",
      "Procesando modelo normalizado True 46 de 65. 70.8%\n",
      "Procesando modelo normalizado True 47 de 65. 72.3%\n",
      "Procesando modelo normalizado True 48 de 65. 73.8%\n",
      "Procesando modelo normalizado True 49 de 65. 75.4%\n",
      "Procesando modelo normalizado True 50 de 65. 76.9%\n",
      "Procesando modelo normalizado True 51 de 65. 78.5%\n",
      "Procesando modelo normalizado True 52 de 65. 80.0%\n",
      "Procesando modelo normalizado True 53 de 65. 81.5%\n",
      "Procesando modelo normalizado True 54 de 65. 83.1%\n",
      "Procesando modelo normalizado True 55 de 65. 84.6%\n",
      "Procesando modelo normalizado True 56 de 65. 86.2%\n",
      "Procesando modelo normalizado True 57 de 65. 87.7%\n",
      "Procesando modelo normalizado True 58 de 65. 89.2%\n",
      "Procesando modelo normalizado True 59 de 65. 90.8%\n",
      "Procesando modelo normalizado True 60 de 65. 92.3%\n",
      "Procesando modelo normalizado True 61 de 65. 93.8%\n",
      "Procesando modelo normalizado True 62 de 65. 95.4%\n",
      "Procesando modelo normalizado True 63 de 65. 96.9%\n",
      "Procesando modelo normalizado True 64 de 65. 98.5%\n",
      "Procesando modelo normalizado True 65 de 65. 100.0%\n",
      "Proceso completo 100%\n"
     ]
    }
   ],
   "source": [
    "bd_predicted = pd.DataFrame([])\n",
    "metrics = []\n",
    "fecha = '1-2-23'\n",
    "\n",
    "for norm in normalizar:\n",
    "    for n, dto in enumerate(list_dtos):\n",
    "        print(f\"Procesando modelo normalizado {norm} {n+1} de {len(list_dtos)}. {(n+1) / (len(list_dtos)):.1%}\")\n",
    "        \n",
    "        #BD filtrada\n",
    "        df_dto = df_3[df_3[\"Distrito-Nombretipozona\"] == dto]\n",
    "        \n",
    "        #Setup del modelo \n",
    "        s = setup(\n",
    "                    df_dto,\n",
    "                    normalize = norm,\n",
    "                    verbose= False,\n",
    "                    preprocess= False,\n",
    "                    silent= True,\n",
    "                    profile= False,\n",
    "                    ignore_features= ignore_columns,\n",
    "                    numeric_features= numeric_features\n",
    "                    )\n",
    "        \n",
    "        #Creacion y prediccion de modelo\n",
    "        model_kmeans = create_model(\n",
    "                                    'kmeans',\n",
    "                                    num_clusters= 5,\n",
    "                                    verbose= False,\n",
    "                                    )\n",
    "        pull()\n",
    "        df_pred_km = predict_model(\n",
    "                                    model_kmeans,\n",
    "                                    data = df_dto\n",
    "                                    )\n",
    "        \n",
    "        # Reasignacion de los nombres de los clusters\n",
    "        trans = df_pred_km.groupby(\n",
    "                                    [\"Cluster\"]).agg({\n",
    "                                                    \"Recency\": np.mean, \"Monetary\": np.mean, \"Frequency\": np.mean,\n",
    "                                                    }).sort_values(\n",
    "                                                                    by= [\"Recency\", \"Frequency\", \"Monetary\"],\n",
    "                                                                    ascending= False\n",
    "                                                                    ).reset_index()\n",
    "        trans[\"Letra cluster\"] = [\"A\", \"B\", \"C\", \"D\", \"E\"]\n",
    "        trans = trans[[\"Cluster\", \"Letra cluster\"]]\n",
    "        \n",
    "        df_pred_km = pd.merge(df_pred_km, trans, on= [\"Cluster\"])\n",
    "        \n",
    "        # Descargue del modelo\n",
    "        bd_predicted = bd_predicted.append(df_pred_km)\n",
    "\n",
    "        #Append a una base general\n",
    "        metrics.append({\n",
    "                        \"Distrito-zona\": dto,\n",
    "                        \"Normalizado\": norm,\n",
    "                        \"Silhouette\": pull().Silhouette[0],\n",
    "                        \"Calinski-Harabasz\": pull()[\"Calinski-Harabasz\"][0],\n",
    "                        \"Davies-Bouldin\": pull()[\"Davies-Bouldin\"][0]\n",
    "                        })\n",
    "        # save_model(model_kmeans, f\"C:/Users/tcardenas/OneDrive/OneDrive - Grupo DISPAPELES/Documents/ML-Dispapeles-TomasCaLo/Clustering/Modelos {fecha}/Modelo {dto} {fecha}\")\n",
    "\n",
    "metrics = pd.DataFrame(metrics)\n",
    "metrics[\"Normalizado\"] = metrics[\"Normalizado\"].replace([True, False], [\"Si\",\"No\"])\n",
    "metrics[\"Tipo zona\"] = metrics[\"Distrito-zona\"].str[3:]\n",
    "\n",
    "print(\"Proceso completo 100%\")"
   ]
  },
  {
   "cell_type": "code",
   "execution_count": 227,
   "metadata": {},
   "outputs": [
    {
     "data": {
      "text/html": [
       "<div>\n",
       "<style scoped>\n",
       "    .dataframe tbody tr th:only-of-type {\n",
       "        vertical-align: middle;\n",
       "    }\n",
       "\n",
       "    .dataframe tbody tr th {\n",
       "        vertical-align: top;\n",
       "    }\n",
       "\n",
       "    .dataframe thead th {\n",
       "        text-align: right;\n",
       "    }\n",
       "</style>\n",
       "<table border=\"1\" class=\"dataframe\">\n",
       "  <thead>\n",
       "    <tr style=\"text-align: right;\">\n",
       "      <th></th>\n",
       "      <th>Distrito-zona</th>\n",
       "      <th>Normalizado</th>\n",
       "      <th>Silhouette</th>\n",
       "      <th>Calinski-Harabasz</th>\n",
       "      <th>Davies-Bouldin</th>\n",
       "      <th>Tipo zona</th>\n",
       "    </tr>\n",
       "  </thead>\n",
       "  <tbody>\n",
       "    <tr>\n",
       "      <th>0</th>\n",
       "      <td>10-Artes graficas</td>\n",
       "      <td>No</td>\n",
       "      <td>0.7661</td>\n",
       "      <td>2134.2232</td>\n",
       "      <td>0.5120</td>\n",
       "      <td>Artes graficas</td>\n",
       "    </tr>\n",
       "    <tr>\n",
       "      <th>1</th>\n",
       "      <td>10-Institucional</td>\n",
       "      <td>No</td>\n",
       "      <td>0.9437</td>\n",
       "      <td>14501.7164</td>\n",
       "      <td>0.1813</td>\n",
       "      <td>Institucional</td>\n",
       "    </tr>\n",
       "    <tr>\n",
       "      <th>2</th>\n",
       "      <td>10-Mayorista</td>\n",
       "      <td>No</td>\n",
       "      <td>0.7980</td>\n",
       "      <td>2010.1265</td>\n",
       "      <td>0.3790</td>\n",
       "      <td>Mayorista</td>\n",
       "    </tr>\n",
       "    <tr>\n",
       "      <th>3</th>\n",
       "      <td>10-V Horeca</td>\n",
       "      <td>No</td>\n",
       "      <td>0.7277</td>\n",
       "      <td>2825.2782</td>\n",
       "      <td>0.1981</td>\n",
       "      <td>V Horeca</td>\n",
       "    </tr>\n",
       "    <tr>\n",
       "      <th>4</th>\n",
       "      <td>10-V Industria</td>\n",
       "      <td>No</td>\n",
       "      <td>0.7652</td>\n",
       "      <td>2339.9547</td>\n",
       "      <td>0.3789</td>\n",
       "      <td>V Industria</td>\n",
       "    </tr>\n",
       "    <tr>\n",
       "      <th>...</th>\n",
       "      <td>...</td>\n",
       "      <td>...</td>\n",
       "      <td>...</td>\n",
       "      <td>...</td>\n",
       "      <td>...</td>\n",
       "      <td>...</td>\n",
       "    </tr>\n",
       "    <tr>\n",
       "      <th>125</th>\n",
       "      <td>75-Institucional</td>\n",
       "      <td>Si</td>\n",
       "      <td>0.8705</td>\n",
       "      <td>2290.0138</td>\n",
       "      <td>0.3489</td>\n",
       "      <td>Institucional</td>\n",
       "    </tr>\n",
       "    <tr>\n",
       "      <th>126</th>\n",
       "      <td>75-Mayorista</td>\n",
       "      <td>Si</td>\n",
       "      <td>0.8336</td>\n",
       "      <td>3058.4100</td>\n",
       "      <td>0.3456</td>\n",
       "      <td>Mayorista</td>\n",
       "    </tr>\n",
       "    <tr>\n",
       "      <th>127</th>\n",
       "      <td>90-Artes graficas</td>\n",
       "      <td>Si</td>\n",
       "      <td>0.7902</td>\n",
       "      <td>4077.9982</td>\n",
       "      <td>0.4237</td>\n",
       "      <td>Artes graficas</td>\n",
       "    </tr>\n",
       "    <tr>\n",
       "      <th>128</th>\n",
       "      <td>90-Institucional</td>\n",
       "      <td>Si</td>\n",
       "      <td>0.8300</td>\n",
       "      <td>4233.8617</td>\n",
       "      <td>0.3623</td>\n",
       "      <td>Institucional</td>\n",
       "    </tr>\n",
       "    <tr>\n",
       "      <th>129</th>\n",
       "      <td>90-Mayorista</td>\n",
       "      <td>Si</td>\n",
       "      <td>0.7761</td>\n",
       "      <td>3284.4376</td>\n",
       "      <td>0.3529</td>\n",
       "      <td>Mayorista</td>\n",
       "    </tr>\n",
       "  </tbody>\n",
       "</table>\n",
       "<p>130 rows × 6 columns</p>\n",
       "</div>"
      ],
      "text/plain": [
       "         Distrito-zona Normalizado  Silhouette  Calinski-Harabasz  \\\n",
       "0    10-Artes graficas          No      0.7661          2134.2232   \n",
       "1     10-Institucional          No      0.9437         14501.7164   \n",
       "2         10-Mayorista          No      0.7980          2010.1265   \n",
       "3          10-V Horeca          No      0.7277          2825.2782   \n",
       "4       10-V Industria          No      0.7652          2339.9547   \n",
       "..                 ...         ...         ...                ...   \n",
       "125   75-Institucional          Si      0.8705          2290.0138   \n",
       "126       75-Mayorista          Si      0.8336          3058.4100   \n",
       "127  90-Artes graficas          Si      0.7902          4077.9982   \n",
       "128   90-Institucional          Si      0.8300          4233.8617   \n",
       "129       90-Mayorista          Si      0.7761          3284.4376   \n",
       "\n",
       "     Davies-Bouldin       Tipo zona  \n",
       "0            0.5120  Artes graficas  \n",
       "1            0.1813   Institucional  \n",
       "2            0.3790       Mayorista  \n",
       "3            0.1981        V Horeca  \n",
       "4            0.3789     V Industria  \n",
       "..              ...             ...  \n",
       "125          0.3489   Institucional  \n",
       "126          0.3456       Mayorista  \n",
       "127          0.4237  Artes graficas  \n",
       "128          0.3623   Institucional  \n",
       "129          0.3529       Mayorista  \n",
       "\n",
       "[130 rows x 6 columns]"
      ]
     },
     "execution_count": 227,
     "metadata": {},
     "output_type": "execute_result"
    }
   ],
   "source": [
    "metrics"
   ]
  },
  {
   "cell_type": "code",
   "execution_count": 231,
   "metadata": {},
   "outputs": [
    {
     "data": {
      "image/png": "[encoded data removed]",
      "text/plain": [
       "<Figure size 2500x1000 with 6 Axes>"
      ]
     },
     "metadata": {},
     "output_type": "display_data"
    }
   ],
   "source": [
    "f, axarr = plt.subplots(2,3)\n",
    "f.set_figheight(10)\n",
    "f.set_figwidth(25)\n",
    "\n",
    "metricas = [\"Silhouette\", \"Calinski-Harabasz\", \"Davies-Bouldin\"]\n",
    "\n",
    "for n, met in enumerate(metricas):\n",
    "    f.add_subplot(axarr[0,n])\n",
    "    plt.title(f\"Distribución {met}\").set_fontsize(15)\n",
    "    sns.set_theme(style=\"darkgrid\", palette= \"pastel\")\n",
    "    sns.boxplot(data= metrics, x= met, y= \"Tipo zona\", hue= 'Normalizado')\n",
    "\n",
    "    f.add_subplot(axarr[1,n])\n",
    "    sns.set_theme(style=\"darkgrid\", palette= \"pastel\")\n",
    "    sns.histplot(data= metrics, x= met, hue= 'Normalizado')\n",
    "plt.show()\n",
    "\n"
   ]
  },
  {
   "cell_type": "code",
   "execution_count": 236,
   "metadata": {},
   "outputs": [
    {
     "data": {
      "text/html": [
       "<div>\n",
       "<style scoped>\n",
       "    .dataframe tbody tr th:only-of-type {\n",
       "        vertical-align: middle;\n",
       "    }\n",
       "\n",
       "    .dataframe tbody tr th {\n",
       "        vertical-align: top;\n",
       "    }\n",
       "\n",
       "    .dataframe thead th {\n",
       "        text-align: right;\n",
       "    }\n",
       "</style>\n",
       "<table border=\"1\" class=\"dataframe\">\n",
       "  <thead>\n",
       "    <tr style=\"text-align: right;\">\n",
       "      <th></th>\n",
       "      <th>Silhouette</th>\n",
       "      <th>Calinski-Harabasz</th>\n",
       "      <th>Davies-Bouldin</th>\n",
       "    </tr>\n",
       "  </thead>\n",
       "  <tbody>\n",
       "    <tr>\n",
       "      <th>count</th>\n",
       "      <td>65.000000</td>\n",
       "      <td>65.000000</td>\n",
       "      <td>65.000000</td>\n",
       "    </tr>\n",
       "    <tr>\n",
       "      <th>mean</th>\n",
       "      <td>0.788268</td>\n",
       "      <td>4373.143237</td>\n",
       "      <td>0.343095</td>\n",
       "    </tr>\n",
       "    <tr>\n",
       "      <th>std</th>\n",
       "      <td>0.069285</td>\n",
       "      <td>11606.441631</td>\n",
       "      <td>0.091144</td>\n",
       "    </tr>\n",
       "    <tr>\n",
       "      <th>min</th>\n",
       "      <td>0.528600</td>\n",
       "      <td>314.872400</td>\n",
       "      <td>0.147600</td>\n",
       "    </tr>\n",
       "    <tr>\n",
       "      <th>25%</th>\n",
       "      <td>0.755600</td>\n",
       "      <td>1211.737600</td>\n",
       "      <td>0.272800</td>\n",
       "    </tr>\n",
       "    <tr>\n",
       "      <th>50%</th>\n",
       "      <td>0.793000</td>\n",
       "      <td>2012.721800</td>\n",
       "      <td>0.355600</td>\n",
       "    </tr>\n",
       "    <tr>\n",
       "      <th>75%</th>\n",
       "      <td>0.829200</td>\n",
       "      <td>3284.437600</td>\n",
       "      <td>0.404900</td>\n",
       "    </tr>\n",
       "    <tr>\n",
       "      <th>max</th>\n",
       "      <td>0.943700</td>\n",
       "      <td>91584.139500</td>\n",
       "      <td>0.512700</td>\n",
       "    </tr>\n",
       "  </tbody>\n",
       "</table>\n",
       "</div>"
      ],
      "text/plain": [
       "       Silhouette  Calinski-Harabasz  Davies-Bouldin\n",
       "count   65.000000          65.000000       65.000000\n",
       "mean     0.788268        4373.143237        0.343095\n",
       "std      0.069285       11606.441631        0.091144\n",
       "min      0.528600         314.872400        0.147600\n",
       "25%      0.755600        1211.737600        0.272800\n",
       "50%      0.793000        2012.721800        0.355600\n",
       "75%      0.829200        3284.437600        0.404900\n",
       "max      0.943700       91584.139500        0.512700"
      ]
     },
     "execution_count": 236,
     "metadata": {},
     "output_type": "execute_result"
    }
   ],
   "source": [
    "metrics[metrics['Normalizado'] == \"Si\"].describe()"
   ]
  },
  {
   "cell_type": "code",
   "execution_count": 233,
   "metadata": {},
   "outputs": [
    {
     "data": {
      "text/html": [
       "<div>\n",
       "<style scoped>\n",
       "    .dataframe tbody tr th:only-of-type {\n",
       "        vertical-align: middle;\n",
       "    }\n",
       "\n",
       "    .dataframe tbody tr th {\n",
       "        vertical-align: top;\n",
       "    }\n",
       "\n",
       "    .dataframe thead th {\n",
       "        text-align: right;\n",
       "    }\n",
       "</style>\n",
       "<table border=\"1\" class=\"dataframe\">\n",
       "  <thead>\n",
       "    <tr style=\"text-align: right;\">\n",
       "      <th></th>\n",
       "      <th>Silhouette</th>\n",
       "      <th>Calinski-Harabasz</th>\n",
       "      <th>Davies-Bouldin</th>\n",
       "    </tr>\n",
       "  </thead>\n",
       "  <tbody>\n",
       "    <tr>\n",
       "      <th>count</th>\n",
       "      <td>65.000000</td>\n",
       "      <td>65.000000</td>\n",
       "      <td>65.000000</td>\n",
       "    </tr>\n",
       "    <tr>\n",
       "      <th>mean</th>\n",
       "      <td>0.788520</td>\n",
       "      <td>4373.379417</td>\n",
       "      <td>0.339806</td>\n",
       "    </tr>\n",
       "    <tr>\n",
       "      <th>std</th>\n",
       "      <td>0.068637</td>\n",
       "      <td>11609.249166</td>\n",
       "      <td>0.090071</td>\n",
       "    </tr>\n",
       "    <tr>\n",
       "      <th>min</th>\n",
       "      <td>0.528600</td>\n",
       "      <td>314.872400</td>\n",
       "      <td>0.147600</td>\n",
       "    </tr>\n",
       "    <tr>\n",
       "      <th>25%</th>\n",
       "      <td>0.760100</td>\n",
       "      <td>1211.737600</td>\n",
       "      <td>0.269900</td>\n",
       "    </tr>\n",
       "    <tr>\n",
       "      <th>50%</th>\n",
       "      <td>0.794800</td>\n",
       "      <td>2012.721800</td>\n",
       "      <td>0.352900</td>\n",
       "    </tr>\n",
       "    <tr>\n",
       "      <th>75%</th>\n",
       "      <td>0.824600</td>\n",
       "      <td>3284.437600</td>\n",
       "      <td>0.391400</td>\n",
       "    </tr>\n",
       "    <tr>\n",
       "      <th>max</th>\n",
       "      <td>0.943700</td>\n",
       "      <td>91608.675200</td>\n",
       "      <td>0.511800</td>\n",
       "    </tr>\n",
       "  </tbody>\n",
       "</table>\n",
       "</div>"
      ],
      "text/plain": [
       "       Silhouette  Calinski-Harabasz  Davies-Bouldin\n",
       "count   65.000000          65.000000       65.000000\n",
       "mean     0.788520        4373.379417        0.339806\n",
       "std      0.068637       11609.249166        0.090071\n",
       "min      0.528600         314.872400        0.147600\n",
       "25%      0.760100        1211.737600        0.269900\n",
       "50%      0.794800        2012.721800        0.352900\n",
       "75%      0.824600        3284.437600        0.391400\n",
       "max      0.943700       91608.675200        0.511800"
      ]
     },
     "execution_count": 233,
     "metadata": {},
     "output_type": "execute_result"
    }
   ],
   "source": [
    "metrics[metrics['Normalizado'] == \"No\"].describe()"
   ]
  },
  {
   "cell_type": "code",
   "execution_count": 237,
   "metadata": {},
   "outputs": [],
   "source": [
    "#Descargue de bd predicha y metricas calculadas\n",
    "bd_predicted.to_csv(f\"C:/Users/tcardenas/OneDrive/OneDrive - Grupo DISPAPELES/Documents/ML-Dispapeles-TomasCaLo/Clustering/Clustering {fecha}.csv\",\n",
    "                        encoding= 'utf-8', index= False, decimal= \",\", sep= \";\")\n",
    "metrics.to_csv(f\"C:/Users/tcardenas/OneDrive/OneDrive - Grupo DISPAPELES/Documents/ML-Dispapeles-TomasCaLo/Clustering/Metricas {fecha}.csv\",\n",
    "                        encoding= 'utf-8', index= False, decimal= \",\",  sep= \";\")"
   ]
  },
  {
   "cell_type": "code",
   "execution_count": 238,
   "metadata": {},
   "outputs": [
    {
     "data": {
      "text/plain": [
       "Text(0.5, 0, 'Frequency')"
      ]
     },
     "execution_count": 238,
     "metadata": {},
     "output_type": "execute_result"
    },
    {
     "data": {
      "image/png": "[encoded data removed]",
      "text/plain": [
       "<Figure size 700x1000 with 1 Axes>"
      ]
     },
     "metadata": {},
     "output_type": "display_data"
    }
   ],
   "source": [
    "fig = plt.figure(figsize=(7,10))\n",
    "ax = fig.gca(projection='3d')\n",
    "\n",
    "m = ['o', 'v', 's', 'p', '*']\n",
    "col =  ['blueviolet', 'limegreen', 'indianred', 'royalblue', 'magenta']\n",
    "leg = ['Cluster 0','Cluster 1','Cluster 2','Cluster 3', 'Cluster 4']\n",
    "cluster = list(np.unique(df_pred_km['Cluster']))\n",
    "\n",
    "for c in range(5):\n",
    "    df_plot = df_pred_km[df_pred_km['Cluster'] == cluster[c]]\n",
    "    ax.scatter(df_plot['Monetary'],df_plot['Frequency'], df_plot['Recency'] , marker= m[c], c= col[c])\n",
    "    \n",
    "ax.legend(leg)\n",
    "ax.set_xlabel('Monetary')\n",
    "ax.set_ylabel('Recency')\n",
    "ax.set_zlabel('Frequency')"
   ]
  },
  {
   "cell_type": "code",
   "execution_count": 239,
   "metadata": {},
   "outputs": [
    {
     "data": {
      "application/vnd.plotly.v1+json": {
       "config": {
        "plotlyServerURL": "https://plot.ly"
       },
       "data": [
        {
         "customdata": [
          [
           null
          ],
          [
           null
          ],
          [
           null
          ],
          [
           null
          ],
          [
           null
          ],
          [
           null
          ],
          [
           null
          ],
          [
           null
          ],
          [
           null
          ],
          [
           null
          ],
          [
           null
          ],
          [
           null
          ],
          [
           null
          ],
          [
           null
          ],
          [
           null
          ],
          [
           null
          ],
          [
           null
          ],
          [
           null
          ],
          [
           null
          ],
          [
           null
          ],
          [
           null
          ],
          [
           null
          ],
          [
           null
          ],
          [
           null
          ],
          [
           null
          ],
          [
           null
          ],
          [
           null
          ],
          [
           null
          ],
          [
           null
          ],
          [
           null
          ],
          [
           null
          ],
          [
           null
          ],
          [
           null
          ],
          [
           null
          ],
          [
           null
          ],
          [
           null
          ],
          [
           null
          ],
          [
           null
          ],
          [
           null
          ],
          [
           null
          ],
          [
           null
          ],
          [
           null
          ],
          [
           null
          ],
          [
           null
          ],
          [
           null
          ],
          [
           null
          ],
          [
           null
          ],
          [
           null
          ],
          [
           null
          ],
          [
           null
          ],
          [
           null
          ],
          [
           null
          ],
          [
           null
          ],
          [
           null
          ],
          [
           null
          ],
          [
           null
          ],
          [
           null
          ],
          [
           null
          ],
          [
           null
          ],
          [
           null
          ],
          [
           null
          ],
          [
           null
          ],
          [
           null
          ],
          [
           null
          ],
          [
           null
          ],
          [
           null
          ],
          [
           null
          ],
          [
           null
          ],
          [
           null
          ],
          [
           null
          ],
          [
           null
          ],
          [
           null
          ],
          [
           null
          ],
          [
           null
          ],
          [
           null
          ],
          [
           null
          ],
          [
           null
          ],
          [
           null
          ],
          [
           null
          ],
          [
           null
          ],
          [
           null
          ],
          [
           null
          ],
          [
           null
          ],
          [
           null
          ],
          [
           null
          ],
          [
           null
          ],
          [
           null
          ],
          [
           null
          ],
          [
           null
          ],
          [
           null
          ],
          [
           null
          ],
          [
           null
          ],
          [
           null
          ],
          [
           null
          ],
          [
           null
          ],
          [
           null
          ],
          [
           null
          ],
          [
           null
          ],
          [
           null
          ],
          [
           null
          ],
          [
           null
          ],
          [
           null
          ],
          [
           null
          ],
          [
           null
          ],
          [
           null
          ],
          [
           null
          ],
          [
           null
          ],
          [
           null
          ],
          [
           null
          ]
         ],
         "hovertemplate": "Cluster=Cluster 0<br>PCA1=%{x}<br>PCA2=%{y}<br>Feature=%{customdata[0]}<extra></extra>",
         "legendgroup": "Cluster 0",
         "marker": {
          "color": "#636efa",
          "opacity": 0.5,
          "symbol": "circle"
         },
         "mode": "markers",
         "name": "Cluster 0",
         "orientation": "v",
         "showlegend": true,
         "textposition": "top center",
         "type": "scatter",
         "x": [
          -60294.867,
          -60676.996,
          -58267.004,
          -32257.977,
          -61663.984,
          -54909.992,
          -61850.97,
          -57224.98,
          -29759.996,
          -53405.99,
          -61933.996,
          -59528.973,
          -62071.992,
          -61027.977,
          -61620.97,
          -59121.973,
          -42172.973,
          -57230.98,
          -61229.99,
          -44354.996,
          -36515.996,
          -56251.992,
          -57514.97,
          -61768.965,
          -62035.973,
          -39603.99,
          -62016.99,
          -61569.98,
          -61760.984,
          -62062.977,
          -42821.996,
          -60448.99,
          -56342.992,
          -60998.98,
          -61991.97,
          -40641.992,
          -62336.984,
          -57342.004,
          -62156.98,
          -62212.99,
          -50624,
          -59018.984,
          -59095.973,
          -61840.973,
          -58214.008,
          -45548.965,
          -53942.977,
          -58218.004,
          -43169.99,
          -61114.99,
          -56307.996,
          -61839.984,
          -60151.957,
          -59463.97,
          -60540.004,
          -62047.992,
          -61463.973,
          -57749.008,
          -61738.97,
          -58649.965,
          -57969.008,
          -62210.973,
          -52600.973,
          -60948.984,
          -57283.008,
          -61574.96,
          -38511.992,
          -62164.973,
          -49749.992,
          -38958.004,
          -60788.97,
          -53084.996,
          -39612.992,
          -59511.984,
          -30705.004,
          -60688.996,
          -61989.97,
          -61269.984,
          -61023,
          -61660.98,
          -59300.98,
          -25951.979,
          -61570.996,
          -57431.984,
          -62233.977,
          -52149.027,
          -61145.965,
          -60988.957,
          -62292.953,
          -61809.996,
          -59595,
          -20557.996,
          -50958.992,
          -61528.977,
          -61723.99,
          -61964.973,
          -48774.984,
          -61559.996,
          -54879.99,
          -58140.984,
          -62003.977,
          -40884.996,
          -24062.99,
          -60583.984,
          -51684.99,
          -62231.984,
          -23014.996,
          -32112.998,
          -61982.965
         ],
         "xaxis": "x",
         "y": [
          4.163796,
          0.583105,
          -9.120463,
          5.2041254,
          3.1256688,
          2.073853,
          10.283769,
          7.9231644,
          -14.225942,
          -3.9272504,
          0.8249073,
          13.00357,
          2.6105528,
          6.969795,
          6.8314185,
          9.174365,
          11.973551,
          -0.5263346,
          -0.9629354,
          -9.69048,
          -16.499905,
          -2.5597343,
          11.114871,
          11.054006,
          9.132673,
          -9.622505,
          4.658747,
          5.3043137,
          4.0232387,
          9.771458,
          -15.821061,
          2.2440946,
          -4.4785485,
          7.1001034,
          9.133303,
          -6.561098,
          4.654168,
          -2.315543,
          7.2134285,
          5.2951136,
          -2.8585944,
          4.5717483,
          9.174738,
          12.331319,
          -3.7362542,
          10.646905,
          9.248466,
          -12.325915,
          -5.8385,
          -3.0086958,
          -7.554306,
          3.7623217,
          14.143104,
          10.447815,
          -2.4911923,
          0.82327753,
          10.928477,
          -2.3213663,
          14.250291,
          9.690397,
          -11.423393,
          11.686854,
          11.564565,
          6.4616475,
          -5.2610626,
          15.530979,
          -6.530623,
          12.965855,
          -12.843928,
          -12.819415,
          11.577307,
          -6.9989157,
          -16.544214,
          5.333759,
          -1.9344306,
          -0.31602347,
          14.2467,
          3.2611988,
          -6.0836387,
          5.812289,
          0.20281738,
          6.063414,
          0.8301025,
          -0.01993279,
          9.769008,
          5.439109,
          14.258776,
          13.62185,
          14.8815365,
          1.3359594,
          -3.756013,
          -10.888131,
          -2.8736842,
          11.696612,
          4.023768,
          12.329545,
          3.0502925,
          -0.7078683,
          1.8144957,
          5.353374,
          8.493959,
          -16.562414,
          -16.321732,
          4.5493565,
          2.629273,
          2.9876485,
          -16.306736,
          -6.4390693,
          14.2468
         ],
         "yaxis": "y"
        },
        {
         "customdata": [
          [
           null
          ]
         ],
         "hovertemplate": "Cluster=Cluster 1<br>PCA1=%{x}<br>PCA2=%{y}<br>Feature=%{customdata[0]}<extra></extra>",
         "legendgroup": "Cluster 1",
         "marker": {
          "color": "#EF553B",
          "opacity": 0.5,
          "symbol": "circle"
         },
         "mode": "markers",
         "name": "Cluster 1",
         "orientation": "v",
         "showlegend": true,
         "textposition": "top center",
         "type": "scatter",
         "x": [
          2370470
         ],
         "xaxis": "x",
         "y": [
          17.93836
         ],
         "yaxis": "y"
        },
        {
         "customdata": [
          [
           null
          ],
          [
           null
          ],
          [
           null
          ]
         ],
         "hovertemplate": "Cluster=Cluster 2<br>PCA1=%{x}<br>PCA2=%{y}<br>Feature=%{customdata[0]}<extra></extra>",
         "legendgroup": "Cluster 2",
         "marker": {
          "color": "#00cc96",
          "opacity": 0.5,
          "symbol": "circle"
         },
         "mode": "markers",
         "name": "Cluster 2",
         "orientation": "v",
         "showlegend": true,
         "textposition": "top center",
         "type": "scatter",
         "x": [
          569462,
          659489,
          726263
         ],
         "xaxis": "x",
         "y": [
          -7.0607305,
          -1.4180582,
          -5.5863447
         ],
         "yaxis": "y"
        },
        {
         "customdata": [
          [
           null
          ],
          [
           null
          ],
          [
           null
          ],
          [
           null
          ]
         ],
         "hovertemplate": "Cluster=Cluster 3<br>PCA1=%{x}<br>PCA2=%{y}<br>Feature=%{customdata[0]}<extra></extra>",
         "legendgroup": "Cluster 3",
         "marker": {
          "color": "#ab63fa",
          "opacity": 0.5,
          "symbol": "circle"
         },
         "mode": "markers",
         "name": "Cluster 3",
         "orientation": "v",
         "showlegend": true,
         "textposition": "top center",
         "type": "scatter",
         "x": [
          378747,
          280377,
          193098.02,
          372114
         ],
         "xaxis": "x",
         "y": [
          -10.558475,
          -8.889657,
          -13.214671,
          -5.269926
         ],
         "yaxis": "y"
        },
        {
         "customdata": [
          [
           null
          ],
          [
           null
          ],
          [
           null
          ],
          [
           null
          ],
          [
           null
          ],
          [
           null
          ],
          [
           null
          ],
          [
           null
          ],
          [
           null
          ],
          [
           null
          ],
          [
           null
          ],
          [
           null
          ],
          [
           null
          ],
          [
           null
          ],
          [
           null
          ],
          [
           null
          ],
          [
           null
          ],
          [
           null
          ],
          [
           null
          ]
         ],
         "hovertemplate": "Cluster=Cluster 4<br>PCA1=%{x}<br>PCA2=%{y}<br>Feature=%{customdata[0]}<extra></extra>",
         "legendgroup": "Cluster 4",
         "marker": {
          "color": "#FFA15A",
          "opacity": 0.5,
          "symbol": "circle"
         },
         "mode": "markers",
         "name": "Cluster 4",
         "orientation": "v",
         "showlegend": true,
         "textposition": "top center",
         "type": "scatter",
         "x": [
          816.00946,
          -11033.997,
          23584.01,
          91343,
          -3486.9956,
          43702.008,
          -2319.991,
          -5520.995,
          48239.008,
          -9849.998,
          -1729.993,
          -13035.995,
          -480.99466,
          64985.008,
          -11145.995,
          41913.008,
          44152.008,
          12001.006,
          133035
         ],
         "xaxis": "x",
         "y": [
          -0.8442686,
          0.015037819,
          -15.640015,
          -9.287093,
          -16.027338,
          -10.737786,
          -4.0952888,
          -12.980181,
          -8.36568,
          -14.71014,
          -15.233135,
          -16.16396,
          -15.984328,
          -0.6952272,
          -5.6298037,
          -14.608706,
          -13.807607,
          -11.960418,
          -9.589538
         ],
         "yaxis": "y"
        }
       ],
       "layout": {
        "height": 600,
        "legend": {
         "title": {
          "text": "Cluster"
         },
         "tracegroupgap": 0
        },
        "margin": {
         "t": 60
        },
        "plot_bgcolor": "rgb(240,240,240)",
        "template": {
         "data": {
          "bar": [
           {
            "error_x": {
             "color": "#2a3f5f"
            },
            "error_y": {
             "color": "#2a3f5f"
            },
            "marker": {
             "line": {
              "color": "#E5ECF6",
              "width": 0.5
             },
             "pattern": {
              "fillmode": "overlay",
              "size": 10,
              "solidity": 0.2
             }
            },
            "type": "bar"
           }
          ],
          "barpolar": [
           {
            "marker": {
             "line": {
              "color": "#E5ECF6",
              "width": 0.5
             },
             "pattern": {
              "fillmode": "overlay",
              "size": 10,
              "solidity": 0.2
             }
            },
            "type": "barpolar"
           }
          ],
          "carpet": [
           {
            "aaxis": {
             "endlinecolor": "#2a3f5f",
             "gridcolor": "white",
             "linecolor": "white",
             "minorgridcolor": "white",
             "startlinecolor": "#2a3f5f"
            },
            "baxis": {
             "endlinecolor": "#2a3f5f",
             "gridcolor": "white",
             "linecolor": "white",
             "minorgridcolor": "white",
             "startlinecolor": "#2a3f5f"
            },
            "type": "carpet"
           }
          ],
          "choropleth": [
           {
            "colorbar": {
             "outlinewidth": 0,
             "ticks": ""
            },
            "type": "choropleth"
           }
          ],
          "contour": [
           {
            "colorbar": {
             "outlinewidth": 0,
             "ticks": ""
            },
            "colorscale": [
             [
              0,
              "#0d0887"
             ],
             [
              0.1111111111111111,
              "#46039f"
             ],
             [
              0.2222222222222222,
              "#7201a8"
             ],
             [
              0.3333333333333333,
              "#9c179e"
             ],
             [
              0.4444444444444444,
              "#bd3786"
             ],
             [
              0.5555555555555556,
              "#d8576b"
             ],
             [
              0.6666666666666666,
              "#ed7953"
             ],
             [
              0.7777777777777778,
              "#fb9f3a"
             ],
             [
              0.8888888888888888,
              "#fdca26"
             ],
             [
              1,
              "#f0f921"
             ]
            ],
            "type": "contour"
           }
          ],
          "contourcarpet": [
           {
            "colorbar": {
             "outlinewidth": 0,
             "ticks": ""
            },
            "type": "contourcarpet"
           }
          ],
          "heatmap": [
           {
            "colorbar": {
             "outlinewidth": 0,
             "ticks": ""
            },
            "colorscale": [
             [
              0,
              "#0d0887"
             ],
             [
              0.1111111111111111,
              "#46039f"
             ],
             [
              0.2222222222222222,
              "#7201a8"
             ],
             [
              0.3333333333333333,
              "#9c179e"
             ],
             [
              0.4444444444444444,
              "#bd3786"
             ],
             [
              0.5555555555555556,
              "#d8576b"
             ],
             [
              0.6666666666666666,
              "#ed7953"
             ],
             [
              0.7777777777777778,
              "#fb9f3a"
             ],
             [
              0.8888888888888888,
              "#fdca26"
             ],
             [
              1,
              "#f0f921"
             ]
            ],
            "type": "heatmap"
           }
          ],
          "heatmapgl": [
           {
            "colorbar": {
             "outlinewidth": 0,
             "ticks": ""
            },
            "colorscale": [
             [
              0,
              "#0d0887"
             ],
             [
              0.1111111111111111,
              "#46039f"
             ],
             [
              0.2222222222222222,
              "#7201a8"
             ],
             [
              0.3333333333333333,
              "#9c179e"
             ],
             [
              0.4444444444444444,
              "#bd3786"
             ],
             [
              0.5555555555555556,
              "#d8576b"
             ],
             [
              0.6666666666666666,
              "#ed7953"
             ],
             [
              0.7777777777777778,
              "#fb9f3a"
             ],
             [
              0.8888888888888888,
              "#fdca26"
             ],
             [
              1,
              "#f0f921"
             ]
            ],
            "type": "heatmapgl"
           }
          ],
          "histogram": [
           {
            "marker": {
             "pattern": {
              "fillmode": "overlay",
              "size": 10,
              "solidity": 0.2
             }
            },
            "type": "histogram"
           }
          ],
          "histogram2d": [
           {
            "colorbar": {
             "outlinewidth": 0,
             "ticks": ""
            },
            "colorscale": [
             [
              0,
              "#0d0887"
             ],
             [
              0.1111111111111111,
              "#46039f"
             ],
             [
              0.2222222222222222,
              "#7201a8"
             ],
             [
              0.3333333333333333,
              "#9c179e"
             ],
             [
              0.4444444444444444,
              "#bd3786"
             ],
             [
              0.5555555555555556,
              "#d8576b"
             ],
             [
              0.6666666666666666,
              "#ed7953"
             ],
             [
              0.7777777777777778,
              "#fb9f3a"
             ],
             [
              0.8888888888888888,
              "#fdca26"
             ],
             [
              1,
              "#f0f921"
             ]
            ],
            "type": "histogram2d"
           }
          ],
          "histogram2dcontour": [
           {
            "colorbar": {
             "outlinewidth": 0,
             "ticks": ""
            },
            "colorscale": [
             [
              0,
              "#0d0887"
             ],
             [
              0.1111111111111111,
              "#46039f"
             ],
             [
              0.2222222222222222,
              "#7201a8"
             ],
             [
              0.3333333333333333,
              "#9c179e"
             ],
             [
              0.4444444444444444,
              "#bd3786"
             ],
             [
              0.5555555555555556,
              "#d8576b"
             ],
             [
              0.6666666666666666,
              "#ed7953"
             ],
             [
              0.7777777777777778,
              "#fb9f3a"
             ],
             [
              0.8888888888888888,
              "#fdca26"
             ],
             [
              1,
              "#f0f921"
             ]
            ],
            "type": "histogram2dcontour"
           }
          ],
          "mesh3d": [
           {
            "colorbar": {
             "outlinewidth": 0,
             "ticks": ""
            },
            "type": "mesh3d"
           }
          ],
          "parcoords": [
           {
            "line": {
             "colorbar": {
              "outlinewidth": 0,
              "ticks": ""
             }
            },
            "type": "parcoords"
           }
          ],
          "pie": [
           {
            "automargin": true,
            "type": "pie"
           }
          ],
          "scatter": [
           {
            "fillpattern": {
             "fillmode": "overlay",
             "size": 10,
             "solidity": 0.2
            },
            "type": "scatter"
           }
          ],
          "scatter3d": [
           {
            "line": {
             "colorbar": {
              "outlinewidth": 0,
              "ticks": ""
             }
            },
            "marker": {
             "colorbar": {
              "outlinewidth": 0,
              "ticks": ""
             }
            },
            "type": "scatter3d"
           }
          ],
          "scattercarpet": [
           {
            "marker": {
             "colorbar": {
              "outlinewidth": 0,
              "ticks": ""
             }
            },
            "type": "scattercarpet"
           }
          ],
          "scattergeo": [
           {
            "marker": {
             "colorbar": {
              "outlinewidth": 0,
              "ticks": ""
             }
            },
            "type": "scattergeo"
           }
          ],
          "scattergl": [
           {
            "marker": {
             "colorbar": {
              "outlinewidth": 0,
              "ticks": ""
             }
            },
            "type": "scattergl"
           }
          ],
          "scattermapbox": [
           {
            "marker": {
             "colorbar": {
              "outlinewidth": 0,
              "ticks": ""
             }
            },
            "type": "scattermapbox"
           }
          ],
          "scatterpolar": [
           {
            "marker": {
             "colorbar": {
              "outlinewidth": 0,
              "ticks": ""
             }
            },
            "type": "scatterpolar"
           }
          ],
          "scatterpolargl": [
           {
            "marker": {
             "colorbar": {
              "outlinewidth": 0,
              "ticks": ""
             }
            },
            "type": "scatterpolargl"
           }
          ],
          "scatterternary": [
           {
            "marker": {
             "colorbar": {
              "outlinewidth": 0,
              "ticks": ""
             }
            },
            "type": "scatterternary"
           }
          ],
          "surface": [
           {
            "colorbar": {
             "outlinewidth": 0,
             "ticks": ""
            },
            "colorscale": [
             [
              0,
              "#0d0887"
             ],
             [
              0.1111111111111111,
              "#46039f"
             ],
             [
              0.2222222222222222,
              "#7201a8"
             ],
             [
              0.3333333333333333,
              "#9c179e"
             ],
             [
              0.4444444444444444,
              "#bd3786"
             ],
             [
              0.5555555555555556,
              "#d8576b"
             ],
             [
              0.6666666666666666,
              "#ed7953"
             ],
             [
              0.7777777777777778,
              "#fb9f3a"
             ],
             [
              0.8888888888888888,
              "#fdca26"
             ],
             [
              1,
              "#f0f921"
             ]
            ],
            "type": "surface"
           }
          ],
          "table": [
           {
            "cells": {
             "fill": {
              "color": "#EBF0F8"
             },
             "line": {
              "color": "white"
             }
            },
            "header": {
             "fill": {
              "color": "#C8D4E3"
             },
             "line": {
              "color": "white"
             }
            },
            "type": "table"
           }
          ]
         },
         "layout": {
          "annotationdefaults": {
           "arrowcolor": "#2a3f5f",
           "arrowhead": 0,
           "arrowwidth": 1
          },
          "autotypenumbers": "strict",
          "coloraxis": {
           "colorbar": {
            "outlinewidth": 0,
            "ticks": ""
           }
          },
          "colorscale": {
           "diverging": [
            [
             0,
             "#8e0152"
            ],
            [
             0.1,
             "#c51b7d"
            ],
            [
             0.2,
             "#de77ae"
            ],
            [
             0.3,
             "#f1b6da"
            ],
            [
             0.4,
             "#fde0ef"
            ],
            [
             0.5,
             "#f7f7f7"
            ],
            [
             0.6,
             "#e6f5d0"
            ],
            [
             0.7,
             "#b8e186"
            ],
            [
             0.8,
             "#7fbc41"
            ],
            [
             0.9,
             "#4d9221"
            ],
            [
             1,
             "#276419"
            ]
           ],
           "sequential": [
            [
             0,
             "#0d0887"
            ],
            [
             0.1111111111111111,
             "#46039f"
            ],
            [
             0.2222222222222222,
             "#7201a8"
            ],
            [
             0.3333333333333333,
             "#9c179e"
            ],
            [
             0.4444444444444444,
             "#bd3786"
            ],
            [
             0.5555555555555556,
             "#d8576b"
            ],
            [
             0.6666666666666666,
             "#ed7953"
            ],
            [
             0.7777777777777778,
             "#fb9f3a"
            ],
            [
             0.8888888888888888,
             "#fdca26"
            ],
            [
             1,
             "#f0f921"
            ]
           ],
           "sequentialminus": [
            [
             0,
             "#0d0887"
            ],
            [
             0.1111111111111111,
             "#46039f"
            ],
            [
             0.2222222222222222,
             "#7201a8"
            ],
            [
             0.3333333333333333,
             "#9c179e"
            ],
            [
             0.4444444444444444,
             "#bd3786"
            ],
            [
             0.5555555555555556,
             "#d8576b"
            ],
            [
             0.6666666666666666,
             "#ed7953"
            ],
            [
             0.7777777777777778,
             "#fb9f3a"
            ],
            [
             0.8888888888888888,
             "#fdca26"
            ],
            [
             1,
             "#f0f921"
            ]
           ]
          },
          "colorway": [
           "#636efa",
           "#EF553B",
           "#00cc96",
           "#ab63fa",
           "#FFA15A",
           "#19d3f3",
           "#FF6692",
           "#B6E880",
           "#FF97FF",
           "#FECB52"
          ],
          "font": {
           "color": "#2a3f5f"
          },
          "geo": {
           "bgcolor": "white",
           "lakecolor": "white",
           "landcolor": "#E5ECF6",
           "showlakes": true,
           "showland": true,
           "subunitcolor": "white"
          },
          "hoverlabel": {
           "align": "left"
          },
          "hovermode": "closest",
          "mapbox": {
           "style": "light"
          },
          "paper_bgcolor": "white",
          "plot_bgcolor": "#E5ECF6",
          "polar": {
           "angularaxis": {
            "gridcolor": "white",
            "linecolor": "white",
            "ticks": ""
           },
           "bgcolor": "#E5ECF6",
           "radialaxis": {
            "gridcolor": "white",
            "linecolor": "white",
            "ticks": ""
           }
          },
          "scene": {
           "xaxis": {
            "backgroundcolor": "#E5ECF6",
            "gridcolor": "white",
            "gridwidth": 2,
            "linecolor": "white",
            "showbackground": true,
            "ticks": "",
            "zerolinecolor": "white"
           },
           "yaxis": {
            "backgroundcolor": "#E5ECF6",
            "gridcolor": "white",
            "gridwidth": 2,
            "linecolor": "white",
            "showbackground": true,
            "ticks": "",
            "zerolinecolor": "white"
           },
           "zaxis": {
            "backgroundcolor": "#E5ECF6",
            "gridcolor": "white",
            "gridwidth": 2,
            "linecolor": "white",
            "showbackground": true,
            "ticks": "",
            "zerolinecolor": "white"
           }
          },
          "shapedefaults": {
           "line": {
            "color": "#2a3f5f"
           }
          },
          "ternary": {
           "aaxis": {
            "gridcolor": "white",
            "linecolor": "white",
            "ticks": ""
           },
           "baxis": {
            "gridcolor": "white",
            "linecolor": "white",
            "ticks": ""
           },
           "bgcolor": "#E5ECF6",
           "caxis": {
            "gridcolor": "white",
            "linecolor": "white",
            "ticks": ""
           }
          },
          "title": {
           "x": 0.05
          },
          "xaxis": {
           "automargin": true,
           "gridcolor": "white",
           "linecolor": "white",
           "ticks": "",
           "title": {
            "standoff": 15
           },
           "zerolinecolor": "white",
           "zerolinewidth": 2
          },
          "yaxis": {
           "automargin": true,
           "gridcolor": "white",
           "linecolor": "white",
           "ticks": "",
           "title": {
            "standoff": 15
           },
           "zerolinecolor": "white",
           "zerolinewidth": 2
          }
         }
        },
        "title": {
         "text": "2D Cluster PCA Plot"
        },
        "xaxis": {
         "anchor": "y",
         "domain": [
          0,
          1
         ],
         "title": {
          "text": "PCA1"
         }
        },
        "yaxis": {
         "anchor": "x",
         "domain": [
          0,
          1
         ],
         "title": {
          "text": "PCA2"
         }
        }
       }
      }
     },
     "metadata": {},
     "output_type": "display_data"
    }
   ],
   "source": [
    "plot_model(model_kmeans, plot = 'cluster')"
   ]
  },
  {
   "cell_type": "code",
   "execution_count": null,
   "metadata": {},
   "outputs": [],
   "source": [
    "# saved_model =  load_model('Model Version random 9-11')"
   ]
  }
 ],
 "metadata": {
  "kernelspec": {
   "display_name": "Python 3.8.13 ('py38')",
   "language": "python",
   "name": "python3"
  },
  "language_info": {
   "codemirror_mode": {
    "name": "ipython",
    "version": 3
   },
   "file_extension": ".py",
   "mimetype": "text/x-python",
   "name": "python",
   "nbconvert_exporter": "python",
   "pygments_lexer": "ipython3",
   "version": "3.8.13 (default, Oct 19 2022, 22:38:03) [MSC v.1916 64 bit (AMD64)]"
  },
  "orig_nbformat": 4,
  "vscode": {
   "interpreter": {
    "hash": "d6c6a9368ffd28e969f7d90a4d7c29e7466278b3cb1a367b914bbfe92c83c635"
   }
  }
 },
 "nbformat": 4,
 "nbformat_minor": 2
}
