{
 "cells": [
  {
   "attachments": {},
   "cell_type": "markdown",
   "metadata": {},
   "source": [
    "##### Cargue de librerias"
   ]
  },
  {
   "cell_type": "code",
   "execution_count": 2,
   "metadata": {},
   "outputs": [],
   "source": [
    "from pycaret.clustering import *\n",
    "\n",
    "import pyodbc\n",
    "import pandas as pd\n",
    "import numpy as np\n",
    "import matplotlib.pyplot as plt\n",
    "import seaborn as sns\n",
    "from random import randint\n",
    "\n",
    "import warnings\n",
    "warnings.filterwarnings(\"ignore\")"
   ]
  },
  {
   "attachments": {},
   "cell_type": "markdown",
   "metadata": {},
   "source": [
    "##### Conexion al DWH de Dispapeles y carga de bds adicionales"
   ]
  },
  {
   "cell_type": "code",
   "execution_count": 3,
   "metadata": {},
   "outputs": [],
   "source": [
    "def df_clustering(consulta_SQL):\n",
    "    ## Conexion al DWH\n",
    "    cnxn = pyodbc.connect(\n",
    "        driver='{SQL Server}',\n",
    "        server='192.168.100.58',\n",
    "        uid='bilectura',\n",
    "        pwd='D1sp@p3l3s')\n",
    "    cursor = cnxn.cursor()\n",
    "    \n",
    "    #Cargue de la data desde el ERP de Dispapeles y se guarda en df\n",
    "    cursor.execute(consulta_SQL)\n",
    "    rows = cursor.fetchall()\n",
    "    \n",
    "    df = pd.DataFrame.from_records(rows, columns=[col[0] for col in cursor.description])\n",
    "\n",
    "    return df"
   ]
  },
  {
   "cell_type": "code",
   "execution_count": null,
   "metadata": {},
   "outputs": [],
   "source": [
    "def df_clustering(consulta_SQL):\n",
    "    ## Conexion al DWH\n",
    "    cnxn = pyodbc.connect(\n",
    "        driver='{SQL Server}',\n",
    "        server=\n",
    "        uid=\n",
    "        pwd=\n",
    "    cursor = cnxn.cursor()\n",
    "    \n",
    "    #Cargue de la data desde el ERP de Dispapeles y se guarda en df\n",
    "    cursor.execute(consulta_SQL)\n",
    "    rows = cursor.fetchall()\n",
    "    \n",
    "    df = pd.DataFrame.from_records(rows, columns=[col[0] for col in cursor.description])\n",
    "\n",
    "    return df"
   ]
  },
  {
   "cell_type": "code",
   "execution_count": 4,
   "metadata": {},
   "outputs": [],
   "source": [
    "# Consulta SQL para descargar la informacion a usar\n",
    "codigo_SQL = \"SELECT A.DSTCOD AS 'Codigo distrito', B.VNDZNA AS 'Codigo zona actual', CONCAT(CONCAT(A.VTANIT,'-'),A.VTASUC) AS 'Nit cliente-sucursal', A.VTAANO AS 'Ano', A.VTAMES AS 'Mes', (((2021 - MAX(A.VTAANO)) * 12 ) + (0 - MAX(A.VTAMES))) * -1 AS 'Recency', SUM(A.VTAVLRVTA) AS 'Monetary', COUNT( DISTINCT A.VTAMES) AS 'Frequency' FROM V_VTA_VTAHEC A LEFT JOIN\tDIM_CLIENTES B ON A.PRMCOD = B.PRMCOD AND A.DSTCOD = B.DSTCOD AND A.VTANIT = B.CLTNIT AND A.VTASUC = B.CLTSUC WHERE A.PRMCOD = 1 AND A.DSTCOD NOT IN (30,35) AND A.VTAZNA < 96 AND A.VTAFCH BETWEEN '2021-01-01' AND '2022-12-31' GROUP BY A.DSTCOD, B.VNDZNA, CONCAT(CONCAT(A.VTANIT,'-'),A.VTASUC), A.VTAANO, A.VTAMES HAVING SUM(A.VTAVLRVTA) > 0\"\n",
    "\n",
    "# Consulta adicional para establecer el tipo de zona\n",
    "maestra_zonas = pd.read_csv('C:/Users/tcardenas/OneDrive/OneDrive - Grupo DISPAPELES/Documents/Análisis clustering/Maestra_zonas.csv', delimiter= \";\")"
   ]
  },
  {
   "cell_type": "code",
   "execution_count": 5,
   "metadata": {},
   "outputs": [],
   "source": [
    "df = df_clustering(codigo_SQL)"
   ]
  },
  {
   "cell_type": "code",
   "execution_count": 6,
   "metadata": {},
   "outputs": [
    {
     "data": {
      "text/html": [
       "<div>\n",
       "<style scoped>\n",
       "    .dataframe tbody tr th:only-of-type {\n",
       "        vertical-align: middle;\n",
       "    }\n",
       "\n",
       "    .dataframe tbody tr th {\n",
       "        vertical-align: top;\n",
       "    }\n",
       "\n",
       "    .dataframe thead th {\n",
       "        text-align: right;\n",
       "    }\n",
       "</style>\n",
       "<table border=\"1\" class=\"dataframe\">\n",
       "  <thead>\n",
       "    <tr style=\"text-align: right;\">\n",
       "      <th></th>\n",
       "      <th>Codigo distrito</th>\n",
       "      <th>Codigo zona actual</th>\n",
       "      <th>Nit cliente-sucursal</th>\n",
       "      <th>Ano</th>\n",
       "      <th>Mes</th>\n",
       "      <th>Recency</th>\n",
       "      <th>Monetary</th>\n",
       "      <th>Frequency</th>\n",
       "    </tr>\n",
       "  </thead>\n",
       "  <tbody>\n",
       "    <tr>\n",
       "      <th>0</th>\n",
       "      <td>10</td>\n",
       "      <td>1</td>\n",
       "      <td>17172243-1</td>\n",
       "      <td>2021</td>\n",
       "      <td>8</td>\n",
       "      <td>8</td>\n",
       "      <td>2194290.0000</td>\n",
       "      <td>1</td>\n",
       "    </tr>\n",
       "    <tr>\n",
       "      <th>1</th>\n",
       "      <td>10</td>\n",
       "      <td>1</td>\n",
       "      <td>17172243-1</td>\n",
       "      <td>2022</td>\n",
       "      <td>1</td>\n",
       "      <td>13</td>\n",
       "      <td>2197692.0000</td>\n",
       "      <td>1</td>\n",
       "    </tr>\n",
       "    <tr>\n",
       "      <th>2</th>\n",
       "      <td>10</td>\n",
       "      <td>1</td>\n",
       "      <td>17172243-1</td>\n",
       "      <td>2022</td>\n",
       "      <td>4</td>\n",
       "      <td>16</td>\n",
       "      <td>5745600.0000</td>\n",
       "      <td>1</td>\n",
       "    </tr>\n",
       "    <tr>\n",
       "      <th>3</th>\n",
       "      <td>10</td>\n",
       "      <td>1</td>\n",
       "      <td>17172243-1</td>\n",
       "      <td>2022</td>\n",
       "      <td>10</td>\n",
       "      <td>22</td>\n",
       "      <td>1436400.0000</td>\n",
       "      <td>1</td>\n",
       "    </tr>\n",
       "    <tr>\n",
       "      <th>4</th>\n",
       "      <td>10</td>\n",
       "      <td>1</td>\n",
       "      <td>19173449-1</td>\n",
       "      <td>2022</td>\n",
       "      <td>2</td>\n",
       "      <td>14</td>\n",
       "      <td>767448.0000</td>\n",
       "      <td>1</td>\n",
       "    </tr>\n",
       "    <tr>\n",
       "      <th>...</th>\n",
       "      <td>...</td>\n",
       "      <td>...</td>\n",
       "      <td>...</td>\n",
       "      <td>...</td>\n",
       "      <td>...</td>\n",
       "      <td>...</td>\n",
       "      <td>...</td>\n",
       "      <td>...</td>\n",
       "    </tr>\n",
       "    <tr>\n",
       "      <th>130634</th>\n",
       "      <td>90</td>\n",
       "      <td>68</td>\n",
       "      <td>93387740-1</td>\n",
       "      <td>2022</td>\n",
       "      <td>1</td>\n",
       "      <td>13</td>\n",
       "      <td>129366.0500</td>\n",
       "      <td>1</td>\n",
       "    </tr>\n",
       "    <tr>\n",
       "      <th>130635</th>\n",
       "      <td>90</td>\n",
       "      <td>68</td>\n",
       "      <td>93387740-1</td>\n",
       "      <td>2022</td>\n",
       "      <td>4</td>\n",
       "      <td>16</td>\n",
       "      <td>34498.4400</td>\n",
       "      <td>1</td>\n",
       "    </tr>\n",
       "    <tr>\n",
       "      <th>130636</th>\n",
       "      <td>90</td>\n",
       "      <td>68</td>\n",
       "      <td>93387740-1</td>\n",
       "      <td>2022</td>\n",
       "      <td>11</td>\n",
       "      <td>23</td>\n",
       "      <td>93040.6400</td>\n",
       "      <td>1</td>\n",
       "    </tr>\n",
       "    <tr>\n",
       "      <th>130637</th>\n",
       "      <td>90</td>\n",
       "      <td>68</td>\n",
       "      <td>93411959-1</td>\n",
       "      <td>2022</td>\n",
       "      <td>10</td>\n",
       "      <td>22</td>\n",
       "      <td>28175.8400</td>\n",
       "      <td>1</td>\n",
       "    </tr>\n",
       "    <tr>\n",
       "      <th>130638</th>\n",
       "      <td>90</td>\n",
       "      <td>400</td>\n",
       "      <td>900139404-1</td>\n",
       "      <td>2021</td>\n",
       "      <td>6</td>\n",
       "      <td>6</td>\n",
       "      <td>174003.2000</td>\n",
       "      <td>1</td>\n",
       "    </tr>\n",
       "  </tbody>\n",
       "</table>\n",
       "<p>130639 rows × 8 columns</p>\n",
       "</div>"
      ],
      "text/plain": [
       "        Codigo distrito  Codigo zona actual Nit cliente-sucursal   Ano  Mes  \\\n",
       "0                    10                   1           17172243-1  2021    8   \n",
       "1                    10                   1           17172243-1  2022    1   \n",
       "2                    10                   1           17172243-1  2022    4   \n",
       "3                    10                   1           17172243-1  2022   10   \n",
       "4                    10                   1           19173449-1  2022    2   \n",
       "...                 ...                 ...                  ...   ...  ...   \n",
       "130634               90                  68           93387740-1  2022    1   \n",
       "130635               90                  68           93387740-1  2022    4   \n",
       "130636               90                  68           93387740-1  2022   11   \n",
       "130637               90                  68           93411959-1  2022   10   \n",
       "130638               90                 400          900139404-1  2021    6   \n",
       "\n",
       "        Recency      Monetary  Frequency  \n",
       "0             8  2194290.0000          1  \n",
       "1            13  2197692.0000          1  \n",
       "2            16  5745600.0000          1  \n",
       "3            22  1436400.0000          1  \n",
       "4            14   767448.0000          1  \n",
       "...         ...           ...        ...  \n",
       "130634       13   129366.0500          1  \n",
       "130635       16    34498.4400          1  \n",
       "130636       23    93040.6400          1  \n",
       "130637       22    28175.8400          1  \n",
       "130638        6   174003.2000          1  \n",
       "\n",
       "[130639 rows x 8 columns]"
      ]
     },
     "execution_count": 6,
     "metadata": {},
     "output_type": "execute_result"
    }
   ],
   "source": [
    "df"
   ]
  },
  {
   "attachments": {},
   "cell_type": "markdown",
   "metadata": {},
   "source": [
    "##### Tranformaciones"
   ]
  },
  {
   "cell_type": "code",
   "execution_count": 5,
   "metadata": {},
   "outputs": [],
   "source": [
    "# Conversion de tipo de la columna Monetary\n",
    "df[\"Monetary\"] = df[\"Monetary\"].astype(int)\n",
    "\n",
    "# Join con la maestra de zonas para determinar el tipo de zona\n",
    "df_2 = pd.merge(df, maestra_zonas, on= [\"Codigo distrito\", \"Codigo zona actual\"])\n",
    "\n",
    "# Filtro de la informacion para excluir zonas no relevantes\n",
    "list_filter = ['Artes graficas', 'TIG', 'V Horeca', 'Institucional', 'V SyE',\n",
    "                'V Industria', 'Mayorista']\n",
    "df = df_2[df_2[\"Nombre tipo zona\"].isin(list_filter)]\n",
    "\n",
    "# DF final agregada por tipo de zona\n",
    "df_3 = df.groupby([\"Codigo distrito\", \"Nombre tipo zona\", \"Nit cliente-sucursal\"]).agg({\"Recency\": np.max,\n",
    "                                                                            \"Monetary\": np.sum,\n",
    "                                                                            \"Frequency\": np.sum\n",
    "                                                                            })\n",
    "df_3 = df_3.reset_index(col_level= 1)"
   ]
  },
  {
   "cell_type": "code",
   "execution_count": 6,
   "metadata": {},
   "outputs": [],
   "source": [
    "# Se añade una key de Distrito-Nombretipozona para hacer mas facil la identificacion cuando se usa todo el pais\n",
    "# Se genera la calificacion de Recency basado en los valores máximos\n",
    "# Se divide por millón la columna Monetary para disminuir el rango de los valores\n",
    "df_3['Distrito-Nombretipozona'] = df_3['Codigo distrito'].astype(str) + '-' + df_3['Nombre tipo zona']\n",
    "df_3['Monetary'] = (df_3['Monetary'] / 1000).astype(int)\n",
    "df_3['Frequency'] = (df_3['Frequency']).astype(int)"
   ]
  },
  {
   "attachments": {},
   "cell_type": "markdown",
   "metadata": {},
   "source": [
    "##### Creacion, ajuste y descarga de los modelos de clustering por cada distrito-tipo de zona"
   ]
  },
  {
   "cell_type": "code",
   "execution_count": 7,
   "metadata": {},
   "outputs": [],
   "source": [
    "list_dtos = df_3[\"Distrito-Nombretipozona\"].unique()\n",
    "numeric_features = [\"Recency\", \"Monetary\", \"Frequency\"]\n",
    "ignore_columns = [\"Codigo distrito\", \"Nombre tipo zona\", \"Nit cliente-sucursal\", \"Distrito-Nombretipozona\"]\n",
    "normalizar = [False, True]"
   ]
  },
  {
   "attachments": {},
   "cell_type": "markdown",
   "metadata": {},
   "source": [
    "#### EDA"
   ]
  },
  {
   "cell_type": "code",
   "execution_count": 114,
   "metadata": {},
   "outputs": [],
   "source": [
    "def histograma(bd):\n",
    "    fig, ax = plt.subplots(1, 3, figsize= (15,5))\n",
    "\n",
    "    sns.kdeplot(bd['Recency'], ax= ax[0], color= 'blue', fill= True)\n",
    "    sns.kdeplot(bd['Frequency'], ax= ax[1], color= 'red', fill= True)\n",
    "    sns.kdeplot(bd['Monetary'], ax= ax[2], color= 'yellow', fill= True)\n",
    "    fig.suptitle(\"Distribuciones del modelo RFM\")\n",
    "    plt.show()\n",
    "\n",
    "def scatter(bd):\n",
    "    fig, ax = plt.subplots(1, 1, figsize= (8,5))\n",
    "\n",
    "    sns.scatterplot(x= 'Recency', size= 'Frequency', y= 'Monetary', data= bd)\n",
    "    fig.suptitle(\"Scatter del modelo RFM\")\n",
    "    plt.show()\n",
    "\n",
    "def EDA(bd):\n",
    "    \n",
    "    print(f\"Esta base de datos tiene {len(bd)} registros,\")\n",
    "    print(f\"hace parte del distrito {bd['Codigo distrito'][0]}\")\n",
    "    print(f\"y el tipo de zona es {bd['Nombre tipo zona'][0]}\")\n",
    "    \n",
    "    print(\" \")\n",
    "    print(\"Describe de la base de datos\")\n",
    "    describe = bd.describe().applymap(\"{:,.0f}\".format)\n",
    "    print(describe[['Recency', 'Frequency', 'Monetary']][1:])\n",
    "    \n",
    "    print(\" \")\n",
    "    \n",
    "    # Variables auxiliares\n",
    "    max = bd['Monetary'].max()\n",
    "    min = bd['Monetary'].min()\n",
    "    rango = max - min\n",
    "    # mean = \n",
    "    # sd =\n",
    "        \n",
    "    print(f\"El valor máx del campo Monetary es: {max:,.0f}\")\n",
    "    print(f\"y el valor min es: {min:,.0f}\")\n",
    "    print(f\"por lo tanto su rango es de: {rango:,.0f}\")\n",
    "\n",
    "    histograma(bd)\n",
    "    scatter(bd)\n",
    "\n",
    "    "
   ]
  },
  {
   "cell_type": "code",
   "execution_count": 120,
   "metadata": {},
   "outputs": [],
   "source": [
    "df_EDA = df_3[df_3[\"Distrito-Nombretipozona\"] == '10-Artes graficas']"
   ]
  },
  {
   "cell_type": "code",
   "execution_count": 121,
   "metadata": {},
   "outputs": [
    {
     "name": "stdout",
     "output_type": "stream",
     "text": [
      "Esta base de datos tiene 523 registros,\n",
      "hace parte del distrito 10\n",
      "y el tipo de zona es Artes graficas\n",
      " \n",
      "Describe de la base de datos\n",
      "     Recency Frequency   Monetary\n",
      "mean      19         9    167,539\n",
      "std        7         8    417,035\n",
      "min        1         1         78\n",
      "25%       17         2      4,166\n",
      "50%       23         7     28,374\n",
      "75%       24        16    135,644\n",
      "max       24        24  4,608,290\n",
      " \n",
      "El valor máx del campo Monetary es: 4,608,290\n",
      "y el valor min es: 78\n",
      "por lo tanto su rango es de: 4,608,212\n"
     ]
    },
    {
     "data": {
      "image/png": "[encoded data removed]",
      "text/plain": [
       "<Figure size 1500x500 with 3 Axes>"
      ]
     },
     "metadata": {},
     "output_type": "display_data"
    },
    {
     "data": {
      "image/png": "[encoded data removed]",
      "text/plain": [
       "<Figure size 800x500 with 1 Axes>"
      ]
     },
     "metadata": {},
     "output_type": "display_data"
    }
   ],
   "source": [
    "EDA(df_EDA)"
   ]
  },
  {
   "attachments": {},
   "cell_type": "markdown",
   "metadata": {},
   "source": [
    "##### Dos modelos, norm= True y norm= False"
   ]
  },
  {
   "cell_type": "code",
   "execution_count": 13,
   "metadata": {},
   "outputs": [
    {
     "name": "stdout",
     "output_type": "stream",
     "text": [
      "Procesando modelo normalizado False 1 de 67. 1.5%\n",
      "Procesando modelo normalizado False 2 de 67. 3.0%\n",
      "Procesando modelo normalizado False 3 de 67. 4.5%\n",
      "Procesando modelo normalizado False 4 de 67. 6.0%\n",
      "Procesando modelo normalizado False 5 de 67. 7.5%\n",
      "Procesando modelo normalizado False 6 de 67. 9.0%\n",
      "Procesando modelo normalizado False 7 de 67. 10.4%\n",
      "Procesando modelo normalizado False 8 de 67. 11.9%\n",
      "Procesando modelo normalizado False 9 de 67. 13.4%\n",
      "Procesando modelo normalizado False 10 de 67. 14.9%\n",
      "Procesando modelo normalizado False 11 de 67. 16.4%\n",
      "Procesando modelo normalizado False 12 de 67. 17.9%\n",
      "Procesando modelo normalizado False 13 de 67. 19.4%\n",
      "Procesando modelo normalizado False 14 de 67. 20.9%\n",
      "Procesando modelo normalizado False 15 de 67. 22.4%\n",
      "Procesando modelo normalizado False 16 de 67. 23.9%\n",
      "Procesando modelo normalizado False 17 de 67. 25.4%\n",
      "Procesando modelo normalizado False 18 de 67. 26.9%\n",
      "Procesando modelo normalizado False 19 de 67. 28.4%\n",
      "Procesando modelo normalizado False 20 de 67. 29.9%\n",
      "Procesando modelo normalizado False 21 de 67. 31.3%\n",
      "Procesando modelo normalizado False 22 de 67. 32.8%\n",
      "Procesando modelo normalizado False 23 de 67. 34.3%\n",
      "Procesando modelo normalizado False 24 de 67. 35.8%\n",
      "Procesando modelo normalizado False 25 de 67. 37.3%\n",
      "Procesando modelo normalizado False 26 de 67. 38.8%\n",
      "Procesando modelo normalizado False 27 de 67. 40.3%\n",
      "Procesando modelo normalizado False 28 de 67. 41.8%\n",
      "Procesando modelo normalizado False 29 de 67. 43.3%\n",
      "Procesando modelo normalizado False 30 de 67. 44.8%\n",
      "Procesando modelo normalizado False 31 de 67. 46.3%\n",
      "Procesando modelo normalizado False 32 de 67. 47.8%\n",
      "Procesando modelo normalizado False 33 de 67. 49.3%\n",
      "Procesando modelo normalizado False 34 de 67. 50.7%\n",
      "Procesando modelo normalizado False 35 de 67. 52.2%\n",
      "Procesando modelo normalizado False 36 de 67. 53.7%\n",
      "Procesando modelo normalizado False 37 de 67. 55.2%\n",
      "Procesando modelo normalizado False 38 de 67. 56.7%\n",
      "Procesando modelo normalizado False 39 de 67. 58.2%\n",
      "Procesando modelo normalizado False 40 de 67. 59.7%\n",
      "Procesando modelo normalizado False 41 de 67. 61.2%\n",
      "Procesando modelo normalizado False 42 de 67. 62.7%\n",
      "Procesando modelo normalizado False 43 de 67. 64.2%\n",
      "Procesando modelo normalizado False 44 de 67. 65.7%\n",
      "Procesando modelo normalizado False 45 de 67. 67.2%\n",
      "Procesando modelo normalizado False 46 de 67. 68.7%\n",
      "Procesando modelo normalizado False 47 de 67. 70.1%\n",
      "Procesando modelo normalizado False 48 de 67. 71.6%\n",
      "Procesando modelo normalizado False 49 de 67. 73.1%\n",
      "Procesando modelo normalizado False 50 de 67. 74.6%\n",
      "Procesando modelo normalizado False 51 de 67. 76.1%\n",
      "Procesando modelo normalizado False 52 de 67. 77.6%\n",
      "Procesando modelo normalizado False 53 de 67. 79.1%\n",
      "Procesando modelo normalizado False 54 de 67. 80.6%\n",
      "Procesando modelo normalizado False 55 de 67. 82.1%\n",
      "Procesando modelo normalizado False 56 de 67. 83.6%\n",
      "Procesando modelo normalizado False 57 de 67. 85.1%\n",
      "Procesando modelo normalizado False 58 de 67. 86.6%\n",
      "Procesando modelo normalizado False 59 de 67. 88.1%\n",
      "Procesando modelo normalizado False 60 de 67. 89.6%\n",
      "Procesando modelo normalizado False 61 de 67. 91.0%\n",
      "Procesando modelo normalizado False 62 de 67. 92.5%\n",
      "Procesando modelo normalizado False 63 de 67. 94.0%\n",
      "Procesando modelo normalizado False 64 de 67. 95.5%\n",
      "Procesando modelo normalizado False 65 de 67. 97.0%\n",
      "Procesando modelo normalizado False 66 de 67. 98.5%\n",
      "Procesando modelo normalizado False 67 de 67. 100.0%\n",
      "Procesando modelo normalizado True 1 de 67. 1.5%\n",
      "Procesando modelo normalizado True 2 de 67. 3.0%\n",
      "Procesando modelo normalizado True 3 de 67. 4.5%\n",
      "Procesando modelo normalizado True 4 de 67. 6.0%\n",
      "Procesando modelo normalizado True 5 de 67. 7.5%\n",
      "Procesando modelo normalizado True 6 de 67. 9.0%\n",
      "Procesando modelo normalizado True 7 de 67. 10.4%\n",
      "Procesando modelo normalizado True 8 de 67. 11.9%\n",
      "Procesando modelo normalizado True 9 de 67. 13.4%\n",
      "Procesando modelo normalizado True 10 de 67. 14.9%\n",
      "Procesando modelo normalizado True 11 de 67. 16.4%\n",
      "Procesando modelo normalizado True 12 de 67. 17.9%\n",
      "Procesando modelo normalizado True 13 de 67. 19.4%\n",
      "Procesando modelo normalizado True 14 de 67. 20.9%\n",
      "Procesando modelo normalizado True 15 de 67. 22.4%\n",
      "Procesando modelo normalizado True 16 de 67. 23.9%\n",
      "Procesando modelo normalizado True 17 de 67. 25.4%\n",
      "Procesando modelo normalizado True 18 de 67. 26.9%\n",
      "Procesando modelo normalizado True 19 de 67. 28.4%\n",
      "Procesando modelo normalizado True 20 de 67. 29.9%\n",
      "Procesando modelo normalizado True 21 de 67. 31.3%\n",
      "Procesando modelo normalizado True 22 de 67. 32.8%\n",
      "Procesando modelo normalizado True 23 de 67. 34.3%\n",
      "Procesando modelo normalizado True 24 de 67. 35.8%\n",
      "Procesando modelo normalizado True 25 de 67. 37.3%\n",
      "Procesando modelo normalizado True 26 de 67. 38.8%\n",
      "Procesando modelo normalizado True 27 de 67. 40.3%\n",
      "Procesando modelo normalizado True 28 de 67. 41.8%\n",
      "Procesando modelo normalizado True 29 de 67. 43.3%\n",
      "Procesando modelo normalizado True 30 de 67. 44.8%\n",
      "Procesando modelo normalizado True 31 de 67. 46.3%\n",
      "Procesando modelo normalizado True 32 de 67. 47.8%\n",
      "Procesando modelo normalizado True 33 de 67. 49.3%\n",
      "Procesando modelo normalizado True 34 de 67. 50.7%\n",
      "Procesando modelo normalizado True 35 de 67. 52.2%\n",
      "Procesando modelo normalizado True 36 de 67. 53.7%\n",
      "Procesando modelo normalizado True 37 de 67. 55.2%\n",
      "Procesando modelo normalizado True 38 de 67. 56.7%\n",
      "Procesando modelo normalizado True 39 de 67. 58.2%\n",
      "Procesando modelo normalizado True 40 de 67. 59.7%\n",
      "Procesando modelo normalizado True 41 de 67. 61.2%\n",
      "Procesando modelo normalizado True 42 de 67. 62.7%\n",
      "Procesando modelo normalizado True 43 de 67. 64.2%\n",
      "Procesando modelo normalizado True 44 de 67. 65.7%\n",
      "Procesando modelo normalizado True 45 de 67. 67.2%\n",
      "Procesando modelo normalizado True 46 de 67. 68.7%\n",
      "Procesando modelo normalizado True 47 de 67. 70.1%\n",
      "Procesando modelo normalizado True 48 de 67. 71.6%\n",
      "Procesando modelo normalizado True 49 de 67. 73.1%\n",
      "Procesando modelo normalizado True 50 de 67. 74.6%\n",
      "Procesando modelo normalizado True 51 de 67. 76.1%\n",
      "Procesando modelo normalizado True 52 de 67. 77.6%\n",
      "Procesando modelo normalizado True 53 de 67. 79.1%\n",
      "Procesando modelo normalizado True 54 de 67. 80.6%\n",
      "Procesando modelo normalizado True 55 de 67. 82.1%\n",
      "Procesando modelo normalizado True 56 de 67. 83.6%\n",
      "Procesando modelo normalizado True 57 de 67. 85.1%\n",
      "Procesando modelo normalizado True 58 de 67. 86.6%\n",
      "Procesando modelo normalizado True 59 de 67. 88.1%\n",
      "Procesando modelo normalizado True 60 de 67. 89.6%\n",
      "Procesando modelo normalizado True 61 de 67. 91.0%\n",
      "Procesando modelo normalizado True 62 de 67. 92.5%\n",
      "Procesando modelo normalizado True 63 de 67. 94.0%\n",
      "Procesando modelo normalizado True 64 de 67. 95.5%\n",
      "Procesando modelo normalizado True 65 de 67. 97.0%\n",
      "Procesando modelo normalizado True 66 de 67. 98.5%\n",
      "Procesando modelo normalizado True 67 de 67. 100.0%\n",
      "Proceso completo 100%\n"
     ]
    }
   ],
   "source": [
    "# Variables iniciales\n",
    "bd_predicted = pd.DataFrame([])\n",
    "metrics = []\n",
    "\n",
    "# Fecha para guardar resultados\n",
    "fecha = '14-2-23'\n",
    "\n",
    "# Ciclo para realizar el modelo de clustering por cada tipo de zona del pais\n",
    "for norm in normalizar:\n",
    "    for n, dto in enumerate(list_dtos):\n",
    "        print(f\"Procesando modelo normalizado {norm} {n+1} de {len(list_dtos)}. {(n+1) / (len(list_dtos)):.1%}\")\n",
    "        \n",
    "        #BD filtrada\n",
    "        df_dto = df_3[df_3[\"Distrito-Nombretipozona\"] == dto]\n",
    "        \n",
    "        #Setup del modelo \n",
    "        s = setup(\n",
    "                    df_dto,\n",
    "                    normalize = norm,\n",
    "                    verbose= False,\n",
    "                    preprocess= False,\n",
    "                    silent= True,\n",
    "                    profile= False,\n",
    "                    ignore_features= ignore_columns,\n",
    "                    numeric_features= numeric_features\n",
    "                    )\n",
    "        \n",
    "        #Creacion y prediccion de modelo\n",
    "        model_kmeans = create_model(\n",
    "                                    'kmeans',\n",
    "                                    num_clusters= 5,\n",
    "                                    verbose= False,\n",
    "                                    )\n",
    "        pull()\n",
    "        df_pred_km = predict_model(\n",
    "                                    model_kmeans,\n",
    "                                    data = df_dto\n",
    "                                    )\n",
    "        \n",
    "        # Reasignacion de los nombres de los clusters\n",
    "        trans = df_pred_km.groupby(\n",
    "                                    [\"Cluster\"]).agg({\n",
    "                                                    \"Recency\": np.mean, \"Monetary\": np.mean, \"Frequency\": np.mean,\n",
    "                                                    }).sort_values(\n",
    "                                                                    by= [\"Monetary\", \"Frequency\", \"Recency\"],\n",
    "                                                                    ascending= False\n",
    "                                                                    ).reset_index()\n",
    "        trans[\"Letra cluster\"] = [\"A\", \"B\", \"C\", \"D\", \"E\"]\n",
    "        trans = trans[[\"Cluster\", \"Letra cluster\"]]\n",
    "        \n",
    "        df_pred_km = pd.merge(df_pred_km, trans, on= [\"Cluster\"])\n",
    "        \n",
    "        # Descarga del modelo\n",
    "        bd_predicted = bd_predicted.append(df_pred_km)\n",
    "\n",
    "        #Append a la variable incial de metricas\n",
    "        metrics.append({\n",
    "                        \"Distrito-zona\": dto,\n",
    "                        \"Normalizado\": norm,\n",
    "                        \"Silhouette\": pull().Silhouette[0],\n",
    "                        \"Calinski-Harabasz\": pull()[\"Calinski-Harabasz\"][0],\n",
    "                        \"Davies-Bouldin\": pull()[\"Davies-Bouldin\"][0]\n",
    "                        })\n",
    "        # save_model(model_kmeans, f\"C:/Users/tcardenas/OneDrive/OneDrive - Grupo DISPAPELES/Documents/ML-Dispapeles-TomasCaLo/Clustering/Modelos {fecha}/Modelo {dto} {fecha}\")\n",
    "\n",
    "# Transformacion de la variable de metricas\n",
    "metrics = pd.DataFrame(metrics)\n",
    "metrics[\"Normalizado\"] = metrics[\"Normalizado\"].replace([True, False], [\"Si\",\"No\"])\n",
    "metrics[\"Tipo zona\"] = metrics[\"Distrito-zona\"].str[3:]\n",
    "\n",
    "print(\"Proceso completo 100%\")"
   ]
  },
  {
   "attachments": {},
   "cell_type": "markdown",
   "metadata": {},
   "source": [
    "##### Un solo modelo, norm= False"
   ]
  },
  {
   "cell_type": "code",
   "execution_count": 9,
   "metadata": {},
   "outputs": [
    {
     "name": "stdout",
     "output_type": "stream",
     "text": [
      "Procesando modelo 1 de 67. 1.5%\n",
      "Procesando modelo 2 de 67. 3.0%\n",
      "Procesando modelo 3 de 67. 4.5%\n",
      "Procesando modelo 4 de 67. 6.0%\n",
      "Procesando modelo 5 de 67. 7.5%\n",
      "Procesando modelo 6 de 67. 9.0%\n",
      "Procesando modelo 7 de 67. 10.4%\n",
      "Procesando modelo 8 de 67. 11.9%\n",
      "Procesando modelo 9 de 67. 13.4%\n",
      "Procesando modelo 10 de 67. 14.9%\n",
      "Procesando modelo 11 de 67. 16.4%\n",
      "Procesando modelo 12 de 67. 17.9%\n",
      "Procesando modelo 13 de 67. 19.4%\n",
      "Procesando modelo 14 de 67. 20.9%\n",
      "Procesando modelo 15 de 67. 22.4%\n",
      "Procesando modelo 16 de 67. 23.9%\n",
      "Procesando modelo 17 de 67. 25.4%\n",
      "Procesando modelo 18 de 67. 26.9%\n",
      "Procesando modelo 19 de 67. 28.4%\n",
      "Procesando modelo 20 de 67. 29.9%\n",
      "Procesando modelo 21 de 67. 31.3%\n",
      "Procesando modelo 22 de 67. 32.8%\n",
      "Procesando modelo 23 de 67. 34.3%\n",
      "Procesando modelo 24 de 67. 35.8%\n",
      "Procesando modelo 25 de 67. 37.3%\n",
      "Procesando modelo 26 de 67. 38.8%\n",
      "Procesando modelo 27 de 67. 40.3%\n",
      "Procesando modelo 28 de 67. 41.8%\n",
      "Procesando modelo 29 de 67. 43.3%\n",
      "Procesando modelo 30 de 67. 44.8%\n",
      "Procesando modelo 31 de 67. 46.3%\n",
      "Procesando modelo 32 de 67. 47.8%\n",
      "Procesando modelo 33 de 67. 49.3%\n",
      "Procesando modelo 34 de 67. 50.7%\n",
      "Procesando modelo 35 de 67. 52.2%\n",
      "Procesando modelo 36 de 67. 53.7%\n",
      "Procesando modelo 37 de 67. 55.2%\n",
      "Procesando modelo 38 de 67. 56.7%\n",
      "Procesando modelo 39 de 67. 58.2%\n",
      "Procesando modelo 40 de 67. 59.7%\n",
      "Procesando modelo 41 de 67. 61.2%\n",
      "Procesando modelo 42 de 67. 62.7%\n",
      "Procesando modelo 43 de 67. 64.2%\n",
      "Procesando modelo 44 de 67. 65.7%\n",
      "Procesando modelo 45 de 67. 67.2%\n",
      "Procesando modelo 46 de 67. 68.7%\n",
      "Procesando modelo 47 de 67. 70.1%\n",
      "Procesando modelo 48 de 67. 71.6%\n",
      "Procesando modelo 49 de 67. 73.1%\n",
      "Procesando modelo 50 de 67. 74.6%\n",
      "Procesando modelo 51 de 67. 76.1%\n",
      "Procesando modelo 52 de 67. 77.6%\n",
      "Procesando modelo 53 de 67. 79.1%\n",
      "Procesando modelo 54 de 67. 80.6%\n",
      "Procesando modelo 55 de 67. 82.1%\n",
      "Procesando modelo 56 de 67. 83.6%\n",
      "Procesando modelo 57 de 67. 85.1%\n",
      "Procesando modelo 58 de 67. 86.6%\n",
      "Procesando modelo 59 de 67. 88.1%\n",
      "Procesando modelo 60 de 67. 89.6%\n",
      "Procesando modelo 61 de 67. 91.0%\n",
      "Procesando modelo 62 de 67. 92.5%\n",
      "Procesando modelo 63 de 67. 94.0%\n",
      "Procesando modelo 64 de 67. 95.5%\n",
      "Procesando modelo 65 de 67. 97.0%\n",
      "Procesando modelo 66 de 67. 98.5%\n",
      "Procesando modelo 67 de 67. 100.0%\n",
      "Proceso completo 100%\n"
     ]
    }
   ],
   "source": [
    "bd_predicted = pd.DataFrame([])\n",
    "metrics = []\n",
    "fecha = '1-2-23'\n",
    "\n",
    "for n, dto in enumerate(list_dtos):\n",
    "    print(f\"Procesando modelo {n+1} de {len(list_dtos)}. {(n+1) / (len(list_dtos)):.1%}\")\n",
    "    \n",
    "    #BD filtrada\n",
    "    df_dto = df_3[df_3[\"Distrito-Nombretipozona\"] == dto]\n",
    "    \n",
    "    #Setup del modelo \n",
    "    s = setup(\n",
    "                df_dto,\n",
    "                normalize = False,\n",
    "                verbose= False,\n",
    "                preprocess= False,\n",
    "                silent= True,\n",
    "                profile= False,\n",
    "                ignore_features= ignore_columns,\n",
    "                numeric_features= numeric_features\n",
    "                )\n",
    "    \n",
    "    #Creacion y prediccion de modelo\n",
    "    model_kmeans = create_model(\n",
    "                                'kmeans',\n",
    "                                num_clusters= 5,\n",
    "                                verbose= False,\n",
    "                                )\n",
    "    pull()\n",
    "    df_pred_km = predict_model(\n",
    "                                model_kmeans,\n",
    "                                data = df_dto\n",
    "                                )\n",
    "    \n",
    "    # Reasignacion de los nombres de los clusters\n",
    "    trans = df_pred_km.groupby(\n",
    "                                [\"Cluster\"]).agg({\n",
    "                                                \"Recency\": np.mean, \"Monetary\": np.mean, \"Frequency\": np.mean,\n",
    "                                                }).sort_values(\n",
    "                                                                by= [\"Recency\", \"Frequency\", \"Monetary\"],\n",
    "                                                                ascending= False\n",
    "                                                                ).reset_index()\n",
    "    trans[\"Letra cluster\"] = [\"A\", \"B\", \"C\", \"D\", \"E\"]\n",
    "    trans = trans[[\"Cluster\", \"Letra cluster\"]]\n",
    "    \n",
    "    df_pred_km = pd.merge(df_pred_km, trans, on= [\"Cluster\"])\n",
    "    \n",
    "    # Descargue del modelo\n",
    "    bd_predicted = bd_predicted.append(df_pred_km)\n",
    "\n",
    "    #Append a una base general\n",
    "    metrics.append({\n",
    "                    \"Distrito-zona\": dto,\n",
    "                    \"Silhouette\": pull().Silhouette[0],\n",
    "                    \"Calinski-Harabasz\": pull()[\"Calinski-Harabasz\"][0],\n",
    "                    \"Davies-Bouldin\": pull()[\"Davies-Bouldin\"][0]\n",
    "                    })\n",
    "    # save_model(model_kmeans, f\"C:/Users/tcardenas/OneDrive/OneDrive - Grupo DISPAPELES/Documents/ML-Dispapeles-TomasCaLo/Clustering/Modelos {fecha}/Modelo {dto} {fecha}\")\n",
    "\n",
    "metrics = pd.DataFrame(metrics)\n",
    "metrics[\"Tipo zona\"] = metrics[\"Distrito-zona\"].str[3:]\n",
    "\n",
    "print(\"Proceso completo 100%\")"
   ]
  },
  {
   "attachments": {},
   "cell_type": "markdown",
   "metadata": {},
   "source": [
    "##### Visualizacion y validacion clustering"
   ]
  },
  {
   "cell_type": "code",
   "execution_count": 14,
   "metadata": {},
   "outputs": [
    {
     "data": {
      "image/png": "[encoded data removed]",
      "text/plain": [
       "<Figure size 2500x1000 with 6 Axes>"
      ]
     },
     "metadata": {},
     "output_type": "display_data"
    }
   ],
   "source": [
    "# Plots para validar si hay diferencia o no entre la data normalizada o no\n",
    "f, axarr = plt.subplots(2,3)\n",
    "f.set_figheight(10)\n",
    "f.set_figwidth(25)\n",
    "\n",
    "metricas = [\"Silhouette\", \"Calinski-Harabasz\", \"Davies-Bouldin\"]\n",
    "\n",
    "for n, met in enumerate(metricas):\n",
    "    f.add_subplot(axarr[0,n])\n",
    "    plt.title(f\"Distribución {met}\").set_fontsize(15)\n",
    "    sns.set_theme(style=\"darkgrid\", palette= \"pastel\")\n",
    "    sns.boxplot(data= metrics, x= met, y= \"Tipo zona\", hue= 'Normalizado')\n",
    "\n",
    "    f.add_subplot(axarr[1,n])\n",
    "    sns.set_theme(style=\"darkgrid\", palette= \"pastel\")\n",
    "    sns.histplot(data= metrics, x= met, hue= 'Normalizado')\n",
    "plt.show()\n",
    "\n"
   ]
  },
  {
   "cell_type": "code",
   "execution_count": null,
   "metadata": {},
   "outputs": [],
   "source": [
    "# Describe de las metricas normalizadas\n",
    "metrics[metrics['Normalizado'] == \"Si\"].describe()"
   ]
  },
  {
   "cell_type": "code",
   "execution_count": null,
   "metadata": {},
   "outputs": [],
   "source": [
    "# Describe de las metricas NO normalizadas\n",
    "metrics[metrics['Normalizado'] == \"No\"].describe()"
   ]
  },
  {
   "cell_type": "code",
   "execution_count": null,
   "metadata": {},
   "outputs": [],
   "source": [
    "# Descarga de bd predicha y metricas calculadas\n",
    "bd_predicted.to_csv(f\"C:/Users/tcardenas/OneDrive/OneDrive - Grupo DISPAPELES/Documents/ML-Dispapeles-TomasCaLo/Clustering/Clustering {fecha}.csv\",\n",
    "                        encoding= 'utf-8', index= False, decimal= \",\", sep= \";\")\n",
    "metrics.to_csv(f\"C:/Users/tcardenas/OneDrive/OneDrive - Grupo DISPAPELES/Documents/ML-Dispapeles-TomasCaLo/Clustering/Metricas {fecha}.csv\",\n",
    "                        encoding= 'utf-8', index= False, decimal= \",\",  sep= \";\")"
   ]
  },
  {
   "cell_type": "code",
   "execution_count": null,
   "metadata": {},
   "outputs": [],
   "source": [
    "df_pred_km"
   ]
  },
  {
   "cell_type": "code",
   "execution_count": 15,
   "metadata": {},
   "outputs": [
    {
     "data": {
      "text/plain": [
       "Text(0.5, 0, 'Frequency')"
      ]
     },
     "execution_count": 15,
     "metadata": {},
     "output_type": "execute_result"
    },
    {
     "data": {
      "image/png": "[encoded data removed]",
      "text/plain": [
       "<Figure size 700x1000 with 1 Axes>"
      ]
     },
     "metadata": {},
     "output_type": "display_data"
    }
   ],
   "source": [
    "# Visualizacion de los clusters\n",
    "fig = plt.figure(figsize=(7,10))\n",
    "ax = fig.gca(projection='3d')\n",
    "\n",
    "m = ['o', 'v', 's', 'p', '*']\n",
    "col =  ['blueviolet', 'limegreen', 'indianred', 'royalblue', 'magenta']\n",
    "# leg = ['Cluster 0','Cluster 1','Cluster 2','Cluster 3', 'Cluster 4']\n",
    "leg = ['A', 'B', 'C', 'D', 'E']\n",
    "cluster = list(np.unique(df_pred_km['Letra cluster']))\n",
    "\n",
    "for c in range(5):\n",
    "    df_plot = df_pred_km[df_pred_km['Letra cluster'] == cluster[c]]\n",
    "    ax.scatter(df_plot['Monetary'],df_plot['Frequency'], df_plot['Recency'] , marker= m[c], c= col[c])\n",
    "    \n",
    "ax.legend(leg)\n",
    "ax.set_xlabel('Monetary')\n",
    "ax.set_ylabel('Recency')\n",
    "ax.set_zlabel('Frequency')"
   ]
  },
  {
   "cell_type": "code",
   "execution_count": 16,
   "metadata": {},
   "outputs": [
    {
     "data": {
      "application/vnd.plotly.v1+json": {
       "config": {
        "plotlyServerURL": "https://plot.ly"
       },
       "data": [
        {
         "customdata": [
          [
           null
          ],
          [
           null
          ],
          [
           null
          ],
          [
           null
          ],
          [
           null
          ],
          [
           null
          ],
          [
           null
          ],
          [
           null
          ],
          [
           null
          ],
          [
           null
          ],
          [
           null
          ],
          [
           null
          ],
          [
           null
          ],
          [
           null
          ],
          [
           null
          ],
          [
           null
          ],
          [
           null
          ],
          [
           null
          ],
          [
           null
          ]
         ],
         "hovertemplate": "Cluster=Cluster 0<br>PCA1=%{x}<br>PCA2=%{y}<br>Feature=%{customdata[0]}<extra></extra>",
         "legendgroup": "Cluster 0",
         "marker": {
          "color": "#636efa",
          "opacity": 0.5,
          "symbol": "circle"
         },
         "mode": "markers",
         "name": "Cluster 0",
         "orientation": "v",
         "showlegend": true,
         "textposition": "top center",
         "type": "scatter",
         "x": [
          133035,
          -5520.995,
          -11145.995,
          -2319.991,
          44152.008,
          -3486.9956,
          -13035.995,
          -480.99466,
          23584.01,
          41913.008,
          -1729.993,
          91343,
          43702.008,
          -9849.998,
          48239.008,
          12001.006,
          64985.008,
          816.00946,
          -11033.997
         ],
         "xaxis": "x",
         "y": [
          -9.589538,
          -12.980181,
          -5.6298037,
          -4.0952888,
          -13.807607,
          -16.027338,
          -16.16396,
          -15.984328,
          -15.640015,
          -14.608706,
          -15.233135,
          -9.287093,
          -10.737786,
          -14.71014,
          -8.36568,
          -11.960418,
          -0.6952272,
          -0.8442686,
          0.015037819
         ],
         "yaxis": "y"
        },
        {
         "customdata": [
          [
           null
          ]
         ],
         "hovertemplate": "Cluster=Cluster 1<br>PCA1=%{x}<br>PCA2=%{y}<br>Feature=%{customdata[0]}<extra></extra>",
         "legendgroup": "Cluster 1",
         "marker": {
          "color": "#EF553B",
          "opacity": 0.5,
          "symbol": "circle"
         },
         "mode": "markers",
         "name": "Cluster 1",
         "orientation": "v",
         "showlegend": true,
         "textposition": "top center",
         "type": "scatter",
         "x": [
          2370470
         ],
         "xaxis": "x",
         "y": [
          17.93836
         ],
         "yaxis": "y"
        },
        {
         "customdata": [
          [
           null
          ],
          [
           null
          ],
          [
           null
          ],
          [
           null
          ],
          [
           null
          ],
          [
           null
          ],
          [
           null
          ],
          [
           null
          ],
          [
           null
          ],
          [
           null
          ],
          [
           null
          ],
          [
           null
          ],
          [
           null
          ],
          [
           null
          ],
          [
           null
          ],
          [
           null
          ],
          [
           null
          ],
          [
           null
          ],
          [
           null
          ],
          [
           null
          ],
          [
           null
          ],
          [
           null
          ],
          [
           null
          ],
          [
           null
          ],
          [
           null
          ],
          [
           null
          ],
          [
           null
          ],
          [
           null
          ],
          [
           null
          ],
          [
           null
          ],
          [
           null
          ],
          [
           null
          ],
          [
           null
          ],
          [
           null
          ],
          [
           null
          ],
          [
           null
          ],
          [
           null
          ],
          [
           null
          ],
          [
           null
          ],
          [
           null
          ],
          [
           null
          ],
          [
           null
          ],
          [
           null
          ],
          [
           null
          ],
          [
           null
          ],
          [
           null
          ],
          [
           null
          ],
          [
           null
          ],
          [
           null
          ],
          [
           null
          ],
          [
           null
          ],
          [
           null
          ],
          [
           null
          ],
          [
           null
          ],
          [
           null
          ],
          [
           null
          ],
          [
           null
          ],
          [
           null
          ],
          [
           null
          ],
          [
           null
          ],
          [
           null
          ],
          [
           null
          ],
          [
           null
          ],
          [
           null
          ],
          [
           null
          ],
          [
           null
          ],
          [
           null
          ],
          [
           null
          ],
          [
           null
          ],
          [
           null
          ],
          [
           null
          ],
          [
           null
          ],
          [
           null
          ],
          [
           null
          ],
          [
           null
          ],
          [
           null
          ],
          [
           null
          ],
          [
           null
          ],
          [
           null
          ],
          [
           null
          ],
          [
           null
          ],
          [
           null
          ],
          [
           null
          ],
          [
           null
          ],
          [
           null
          ],
          [
           null
          ],
          [
           null
          ],
          [
           null
          ],
          [
           null
          ],
          [
           null
          ],
          [
           null
          ],
          [
           null
          ],
          [
           null
          ],
          [
           null
          ],
          [
           null
          ],
          [
           null
          ],
          [
           null
          ],
          [
           null
          ],
          [
           null
          ],
          [
           null
          ],
          [
           null
          ],
          [
           null
          ],
          [
           null
          ],
          [
           null
          ],
          [
           null
          ],
          [
           null
          ],
          [
           null
          ],
          [
           null
          ],
          [
           null
          ]
         ],
         "hovertemplate": "Cluster=Cluster 2<br>PCA1=%{x}<br>PCA2=%{y}<br>Feature=%{customdata[0]}<extra></extra>",
         "legendgroup": "Cluster 2",
         "marker": {
          "color": "#00cc96",
          "opacity": 0.5,
          "symbol": "circle"
         },
         "mode": "markers",
         "name": "Cluster 2",
         "orientation": "v",
         "showlegend": true,
         "textposition": "top center",
         "type": "scatter",
         "x": [
          -58267.004,
          -60998.98,
          -32257.977,
          -56342.992,
          -61663.984,
          -54909.992,
          -61850.97,
          -57224.98,
          -29759.996,
          -60448.99,
          -53405.99,
          -61933.996,
          -59528.973,
          -62071.992,
          -42821.996,
          -61027.977,
          -61620.97,
          -59121.973,
          -42172.973,
          -57230.98,
          -61991.97,
          -60676.996,
          -61840.973,
          -40641.992,
          -58214.008,
          -59018.984,
          -50624,
          -45548.965,
          -62212.99,
          -53942.977,
          -58218.004,
          -43169.99,
          -61114.99,
          -62156.98,
          -61463.973,
          -56307.996,
          -57342.004,
          -60151.957,
          -62336.984,
          -59463.97,
          -60540.004,
          -62047.992,
          -62062.977,
          -61760.984,
          -61569.98,
          -62016.99,
          -61839.984,
          -61229.99,
          -60294.867,
          -36515.996,
          -60988.957,
          -39612.992,
          -57969.008,
          -62210.973,
          -62292.953,
          -60948.984,
          -57283.008,
          -61574.96,
          -38511.992,
          -62164.973,
          -49749.992,
          -38958.004,
          -60788.97,
          -44354.996,
          -53084.996,
          -61145.965,
          -30705.004,
          -60688.996,
          -61989.97,
          -61269.984,
          -61023,
          -61660.98,
          -59300.98,
          -25951.979,
          -61570.996,
          -57431.984,
          -62233.977,
          -52149.027,
          -59511.984,
          -60583.984,
          -61809.996,
          -48774.984,
          -56251.992,
          -57514.97,
          -61768.965,
          -62035.973,
          -39603.99,
          -59095.973,
          -57749.008,
          -52600.973,
          -58649.965,
          -51684.99,
          -24062.99,
          -58140.984,
          -61559.996,
          -61964.973,
          -61738.97,
          -61723.99,
          -23014.996,
          -62231.984,
          -32112.998,
          -62003.977,
          -50958.992,
          -59595,
          -40884.996,
          -61982.965,
          -20557.996,
          -61528.977,
          -54879.99
         ],
         "xaxis": "x",
         "y": [
          -9.120463,
          7.1001034,
          5.2041254,
          -4.4785485,
          3.1256688,
          2.073853,
          10.283769,
          7.9231644,
          -14.225942,
          2.2440946,
          -3.9272504,
          0.8249073,
          13.00357,
          2.6105528,
          -15.821061,
          6.969795,
          6.8314185,
          9.174365,
          11.973551,
          -0.5263346,
          9.133303,
          0.583105,
          12.331319,
          -6.561098,
          -3.7362542,
          4.5717483,
          -2.8585944,
          10.646905,
          5.2951136,
          9.248466,
          -12.325915,
          -5.8385,
          -3.0086958,
          7.2134285,
          10.928477,
          -7.554306,
          -2.315543,
          14.143104,
          4.654168,
          10.447815,
          -2.4911923,
          0.82327753,
          9.771458,
          4.0232387,
          5.3043137,
          4.658747,
          3.7623217,
          -0.9629354,
          4.163796,
          -16.499905,
          13.62185,
          -16.544214,
          -11.423393,
          11.686854,
          14.8815365,
          6.4616475,
          -5.2610626,
          15.530979,
          -6.530623,
          12.965855,
          -12.843928,
          -12.819415,
          11.577307,
          -9.69048,
          -6.9989157,
          14.258776,
          -1.9344306,
          -0.31602347,
          14.2467,
          3.2611988,
          -6.0836387,
          5.812289,
          0.20281738,
          6.063414,
          0.8301025,
          -0.01993279,
          9.769008,
          5.439109,
          5.333759,
          4.5493565,
          1.3359594,
          3.0502925,
          -2.5597343,
          11.114871,
          11.054006,
          9.132673,
          -9.622505,
          9.174738,
          -2.3213663,
          11.564565,
          9.690397,
          2.629273,
          -16.321732,
          5.353374,
          -0.7078683,
          12.329545,
          14.250291,
          4.023768,
          -16.306736,
          2.9876485,
          -6.4390693,
          8.493959,
          -2.8736842,
          -3.756013,
          -16.562414,
          14.2468,
          -10.888131,
          11.696612,
          1.8144957
         ],
         "yaxis": "y"
        },
        {
         "customdata": [
          [
           null
          ],
          [
           null
          ],
          [
           null
          ]
         ],
         "hovertemplate": "Cluster=Cluster 3<br>PCA1=%{x}<br>PCA2=%{y}<br>Feature=%{customdata[0]}<extra></extra>",
         "legendgroup": "Cluster 3",
         "marker": {
          "color": "#ab63fa",
          "opacity": 0.5,
          "symbol": "circle"
         },
         "mode": "markers",
         "name": "Cluster 3",
         "orientation": "v",
         "showlegend": true,
         "textposition": "top center",
         "type": "scatter",
         "x": [
          726263,
          569462,
          659489
         ],
         "xaxis": "x",
         "y": [
          -5.5863447,
          -7.0607305,
          -1.4180582
         ],
         "yaxis": "y"
        },
        {
         "customdata": [
          [
           null
          ],
          [
           null
          ],
          [
           null
          ],
          [
           null
          ]
         ],
         "hovertemplate": "Cluster=Cluster 4<br>PCA1=%{x}<br>PCA2=%{y}<br>Feature=%{customdata[0]}<extra></extra>",
         "legendgroup": "Cluster 4",
         "marker": {
          "color": "#FFA15A",
          "opacity": 0.5,
          "symbol": "circle"
         },
         "mode": "markers",
         "name": "Cluster 4",
         "orientation": "v",
         "showlegend": true,
         "textposition": "top center",
         "type": "scatter",
         "x": [
          372114,
          378747,
          280377,
          193098.02
         ],
         "xaxis": "x",
         "y": [
          -5.269926,
          -10.558475,
          -8.889657,
          -13.214671
         ],
         "yaxis": "y"
        }
       ],
       "layout": {
        "height": 600,
        "legend": {
         "title": {
          "text": "Cluster"
         },
         "tracegroupgap": 0
        },
        "margin": {
         "t": 60
        },
        "plot_bgcolor": "rgb(240,240,240)",
        "template": {
         "data": {
          "bar": [
           {
            "error_x": {
             "color": "#2a3f5f"
            },
            "error_y": {
             "color": "#2a3f5f"
            },
            "marker": {
             "line": {
              "color": "#E5ECF6",
              "width": 0.5
             },
             "pattern": {
              "fillmode": "overlay",
              "size": 10,
              "solidity": 0.2
             }
            },
            "type": "bar"
           }
          ],
          "barpolar": [
           {
            "marker": {
             "line": {
              "color": "#E5ECF6",
              "width": 0.5
             },
             "pattern": {
              "fillmode": "overlay",
              "size": 10,
              "solidity": 0.2
             }
            },
            "type": "barpolar"
           }
          ],
          "carpet": [
           {
            "aaxis": {
             "endlinecolor": "#2a3f5f",
             "gridcolor": "white",
             "linecolor": "white",
             "minorgridcolor": "white",
             "startlinecolor": "#2a3f5f"
            },
            "baxis": {
             "endlinecolor": "#2a3f5f",
             "gridcolor": "white",
             "linecolor": "white",
             "minorgridcolor": "white",
             "startlinecolor": "#2a3f5f"
            },
            "type": "carpet"
           }
          ],
          "choropleth": [
           {
            "colorbar": {
             "outlinewidth": 0,
             "ticks": ""
            },
            "type": "choropleth"
           }
          ],
          "contour": [
           {
            "colorbar": {
             "outlinewidth": 0,
             "ticks": ""
            },
            "colorscale": [
             [
              0,
              "#0d0887"
             ],
             [
              0.1111111111111111,
              "#46039f"
             ],
             [
              0.2222222222222222,
              "#7201a8"
             ],
             [
              0.3333333333333333,
              "#9c179e"
             ],
             [
              0.4444444444444444,
              "#bd3786"
             ],
             [
              0.5555555555555556,
              "#d8576b"
             ],
             [
              0.6666666666666666,
              "#ed7953"
             ],
             [
              0.7777777777777778,
              "#fb9f3a"
             ],
             [
              0.8888888888888888,
              "#fdca26"
             ],
             [
              1,
              "#f0f921"
             ]
            ],
            "type": "contour"
           }
          ],
          "contourcarpet": [
           {
            "colorbar": {
             "outlinewidth": 0,
             "ticks": ""
            },
            "type": "contourcarpet"
           }
          ],
          "heatmap": [
           {
            "colorbar": {
             "outlinewidth": 0,
             "ticks": ""
            },
            "colorscale": [
             [
              0,
              "#0d0887"
             ],
             [
              0.1111111111111111,
              "#46039f"
             ],
             [
              0.2222222222222222,
              "#7201a8"
             ],
             [
              0.3333333333333333,
              "#9c179e"
             ],
             [
              0.4444444444444444,
              "#bd3786"
             ],
             [
              0.5555555555555556,
              "#d8576b"
             ],
             [
              0.6666666666666666,
              "#ed7953"
             ],
             [
              0.7777777777777778,
              "#fb9f3a"
             ],
             [
              0.8888888888888888,
              "#fdca26"
             ],
             [
              1,
              "#f0f921"
             ]
            ],
            "type": "heatmap"
           }
          ],
          "heatmapgl": [
           {
            "colorbar": {
             "outlinewidth": 0,
             "ticks": ""
            },
            "colorscale": [
             [
              0,
              "#0d0887"
             ],
             [
              0.1111111111111111,
              "#46039f"
             ],
             [
              0.2222222222222222,
              "#7201a8"
             ],
             [
              0.3333333333333333,
              "#9c179e"
             ],
             [
              0.4444444444444444,
              "#bd3786"
             ],
             [
              0.5555555555555556,
              "#d8576b"
             ],
             [
              0.6666666666666666,
              "#ed7953"
             ],
             [
              0.7777777777777778,
              "#fb9f3a"
             ],
             [
              0.8888888888888888,
              "#fdca26"
             ],
             [
              1,
              "#f0f921"
             ]
            ],
            "type": "heatmapgl"
           }
          ],
          "histogram": [
           {
            "marker": {
             "pattern": {
              "fillmode": "overlay",
              "size": 10,
              "solidity": 0.2
             }
            },
            "type": "histogram"
           }
          ],
          "histogram2d": [
           {
            "colorbar": {
             "outlinewidth": 0,
             "ticks": ""
            },
            "colorscale": [
             [
              0,
              "#0d0887"
             ],
             [
              0.1111111111111111,
              "#46039f"
             ],
             [
              0.2222222222222222,
              "#7201a8"
             ],
             [
              0.3333333333333333,
              "#9c179e"
             ],
             [
              0.4444444444444444,
              "#bd3786"
             ],
             [
              0.5555555555555556,
              "#d8576b"
             ],
             [
              0.6666666666666666,
              "#ed7953"
             ],
             [
              0.7777777777777778,
              "#fb9f3a"
             ],
             [
              0.8888888888888888,
              "#fdca26"
             ],
             [
              1,
              "#f0f921"
             ]
            ],
            "type": "histogram2d"
           }
          ],
          "histogram2dcontour": [
           {
            "colorbar": {
             "outlinewidth": 0,
             "ticks": ""
            },
            "colorscale": [
             [
              0,
              "#0d0887"
             ],
             [
              0.1111111111111111,
              "#46039f"
             ],
             [
              0.2222222222222222,
              "#7201a8"
             ],
             [
              0.3333333333333333,
              "#9c179e"
             ],
             [
              0.4444444444444444,
              "#bd3786"
             ],
             [
              0.5555555555555556,
              "#d8576b"
             ],
             [
              0.6666666666666666,
              "#ed7953"
             ],
             [
              0.7777777777777778,
              "#fb9f3a"
             ],
             [
              0.8888888888888888,
              "#fdca26"
             ],
             [
              1,
              "#f0f921"
             ]
            ],
            "type": "histogram2dcontour"
           }
          ],
          "mesh3d": [
           {
            "colorbar": {
             "outlinewidth": 0,
             "ticks": ""
            },
            "type": "mesh3d"
           }
          ],
          "parcoords": [
           {
            "line": {
             "colorbar": {
              "outlinewidth": 0,
              "ticks": ""
             }
            },
            "type": "parcoords"
           }
          ],
          "pie": [
           {
            "automargin": true,
            "type": "pie"
           }
          ],
          "scatter": [
           {
            "fillpattern": {
             "fillmode": "overlay",
             "size": 10,
             "solidity": 0.2
            },
            "type": "scatter"
           }
          ],
          "scatter3d": [
           {
            "line": {
             "colorbar": {
              "outlinewidth": 0,
              "ticks": ""
             }
            },
            "marker": {
             "colorbar": {
              "outlinewidth": 0,
              "ticks": ""
             }
            },
            "type": "scatter3d"
           }
          ],
          "scattercarpet": [
           {
            "marker": {
             "colorbar": {
              "outlinewidth": 0,
              "ticks": ""
             }
            },
            "type": "scattercarpet"
           }
          ],
          "scattergeo": [
           {
            "marker": {
             "colorbar": {
              "outlinewidth": 0,
              "ticks": ""
             }
            },
            "type": "scattergeo"
           }
          ],
          "scattergl": [
           {
            "marker": {
             "colorbar": {
              "outlinewidth": 0,
              "ticks": ""
             }
            },
            "type": "scattergl"
           }
          ],
          "scattermapbox": [
           {
            "marker": {
             "colorbar": {
              "outlinewidth": 0,
              "ticks": ""
             }
            },
            "type": "scattermapbox"
           }
          ],
          "scatterpolar": [
           {
            "marker": {
             "colorbar": {
              "outlinewidth": 0,
              "ticks": ""
             }
            },
            "type": "scatterpolar"
           }
          ],
          "scatterpolargl": [
           {
            "marker": {
             "colorbar": {
              "outlinewidth": 0,
              "ticks": ""
             }
            },
            "type": "scatterpolargl"
           }
          ],
          "scatterternary": [
           {
            "marker": {
             "colorbar": {
              "outlinewidth": 0,
              "ticks": ""
             }
            },
            "type": "scatterternary"
           }
          ],
          "surface": [
           {
            "colorbar": {
             "outlinewidth": 0,
             "ticks": ""
            },
            "colorscale": [
             [
              0,
              "#0d0887"
             ],
             [
              0.1111111111111111,
              "#46039f"
             ],
             [
              0.2222222222222222,
              "#7201a8"
             ],
             [
              0.3333333333333333,
              "#9c179e"
             ],
             [
              0.4444444444444444,
              "#bd3786"
             ],
             [
              0.5555555555555556,
              "#d8576b"
             ],
             [
              0.6666666666666666,
              "#ed7953"
             ],
             [
              0.7777777777777778,
              "#fb9f3a"
             ],
             [
              0.8888888888888888,
              "#fdca26"
             ],
             [
              1,
              "#f0f921"
             ]
            ],
            "type": "surface"
           }
          ],
          "table": [
           {
            "cells": {
             "fill": {
              "color": "#EBF0F8"
             },
             "line": {
              "color": "white"
             }
            },
            "header": {
             "fill": {
              "color": "#C8D4E3"
             },
             "line": {
              "color": "white"
             }
            },
            "type": "table"
           }
          ]
         },
         "layout": {
          "annotationdefaults": {
           "arrowcolor": "#2a3f5f",
           "arrowhead": 0,
           "arrowwidth": 1
          },
          "autotypenumbers": "strict",
          "coloraxis": {
           "colorbar": {
            "outlinewidth": 0,
            "ticks": ""
           }
          },
          "colorscale": {
           "diverging": [
            [
             0,
             "#8e0152"
            ],
            [
             0.1,
             "#c51b7d"
            ],
            [
             0.2,
             "#de77ae"
            ],
            [
             0.3,
             "#f1b6da"
            ],
            [
             0.4,
             "#fde0ef"
            ],
            [
             0.5,
             "#f7f7f7"
            ],
            [
             0.6,
             "#e6f5d0"
            ],
            [
             0.7,
             "#b8e186"
            ],
            [
             0.8,
             "#7fbc41"
            ],
            [
             0.9,
             "#4d9221"
            ],
            [
             1,
             "#276419"
            ]
           ],
           "sequential": [
            [
             0,
             "#0d0887"
            ],
            [
             0.1111111111111111,
             "#46039f"
            ],
            [
             0.2222222222222222,
             "#7201a8"
            ],
            [
             0.3333333333333333,
             "#9c179e"
            ],
            [
             0.4444444444444444,
             "#bd3786"
            ],
            [
             0.5555555555555556,
             "#d8576b"
            ],
            [
             0.6666666666666666,
             "#ed7953"
            ],
            [
             0.7777777777777778,
             "#fb9f3a"
            ],
            [
             0.8888888888888888,
             "#fdca26"
            ],
            [
             1,
             "#f0f921"
            ]
           ],
           "sequentialminus": [
            [
             0,
             "#0d0887"
            ],
            [
             0.1111111111111111,
             "#46039f"
            ],
            [
             0.2222222222222222,
             "#7201a8"
            ],
            [
             0.3333333333333333,
             "#9c179e"
            ],
            [
             0.4444444444444444,
             "#bd3786"
            ],
            [
             0.5555555555555556,
             "#d8576b"
            ],
            [
             0.6666666666666666,
             "#ed7953"
            ],
            [
             0.7777777777777778,
             "#fb9f3a"
            ],
            [
             0.8888888888888888,
             "#fdca26"
            ],
            [
             1,
             "#f0f921"
            ]
           ]
          },
          "colorway": [
           "#636efa",
           "#EF553B",
           "#00cc96",
           "#ab63fa",
           "#FFA15A",
           "#19d3f3",
           "#FF6692",
           "#B6E880",
           "#FF97FF",
           "#FECB52"
          ],
          "font": {
           "color": "#2a3f5f"
          },
          "geo": {
           "bgcolor": "white",
           "lakecolor": "white",
           "landcolor": "#E5ECF6",
           "showlakes": true,
           "showland": true,
           "subunitcolor": "white"
          },
          "hoverlabel": {
           "align": "left"
          },
          "hovermode": "closest",
          "mapbox": {
           "style": "light"
          },
          "paper_bgcolor": "white",
          "plot_bgcolor": "#E5ECF6",
          "polar": {
           "angularaxis": {
            "gridcolor": "white",
            "linecolor": "white",
            "ticks": ""
           },
           "bgcolor": "#E5ECF6",
           "radialaxis": {
            "gridcolor": "white",
            "linecolor": "white",
            "ticks": ""
           }
          },
          "scene": {
           "xaxis": {
            "backgroundcolor": "#E5ECF6",
            "gridcolor": "white",
            "gridwidth": 2,
            "linecolor": "white",
            "showbackground": true,
            "ticks": "",
            "zerolinecolor": "white"
           },
           "yaxis": {
            "backgroundcolor": "#E5ECF6",
            "gridcolor": "white",
            "gridwidth": 2,
            "linecolor": "white",
            "showbackground": true,
            "ticks": "",
            "zerolinecolor": "white"
           },
           "zaxis": {
            "backgroundcolor": "#E5ECF6",
            "gridcolor": "white",
            "gridwidth": 2,
            "linecolor": "white",
            "showbackground": true,
            "ticks": "",
            "zerolinecolor": "white"
           }
          },
          "shapedefaults": {
           "line": {
            "color": "#2a3f5f"
           }
          },
          "ternary": {
           "aaxis": {
            "gridcolor": "white",
            "linecolor": "white",
            "ticks": ""
           },
           "baxis": {
            "gridcolor": "white",
            "linecolor": "white",
            "ticks": ""
           },
           "bgcolor": "#E5ECF6",
           "caxis": {
            "gridcolor": "white",
            "linecolor": "white",
            "ticks": ""
           }
          },
          "title": {
           "x": 0.05
          },
          "xaxis": {
           "automargin": true,
           "gridcolor": "white",
           "linecolor": "white",
           "ticks": "",
           "title": {
            "standoff": 15
           },
           "zerolinecolor": "white",
           "zerolinewidth": 2
          },
          "yaxis": {
           "automargin": true,
           "gridcolor": "white",
           "linecolor": "white",
           "ticks": "",
           "title": {
            "standoff": 15
           },
           "zerolinecolor": "white",
           "zerolinewidth": 2
          }
         }
        },
        "title": {
         "text": "2D Cluster PCA Plot"
        },
        "xaxis": {
         "anchor": "y",
         "domain": [
          0,
          1
         ],
         "title": {
          "text": "PCA1"
         }
        },
        "yaxis": {
         "anchor": "x",
         "domain": [
          0,
          1
         ],
         "title": {
          "text": "PCA2"
         }
        }
       }
      }
     },
     "metadata": {},
     "output_type": "display_data"
    }
   ],
   "source": [
    "plot_model(model_kmeans, plot = 'cluster')"
   ]
  },
  {
   "cell_type": "code",
   "execution_count": 17,
   "metadata": {},
   "outputs": [
    {
     "data": {
      "image/png": "[encoded data removed]",
      "text/plain": [
       "<Figure size 800x550 with 1 Axes>"
      ]
     },
     "metadata": {},
     "output_type": "display_data"
    }
   ],
   "source": [
    "plot_model(model_kmeans, plot = 'silhouette')"
   ]
  },
  {
   "cell_type": "code",
   "execution_count": 18,
   "metadata": {},
   "outputs": [
    {
     "data": {
      "application/vnd.plotly.v1+json": {
       "config": {
        "plotlyServerURL": "https://plot.ly"
       },
       "data": [
        {
         "alignmentgroup": "True",
         "bingroup": "x",
         "hovertemplate": "Cluster=%{x}<br>count=%{y}<extra></extra>",
         "legendgroup": "Cluster 0",
         "marker": {
          "color": "#636efa",
          "opacity": 0.7,
          "pattern": {
           "shape": ""
          }
         },
         "name": "Cluster 0",
         "offsetgroup": "Cluster 0",
         "orientation": "v",
         "showlegend": true,
         "type": "histogram",
         "x": [
          "Cluster 0",
          "Cluster 0",
          "Cluster 0",
          "Cluster 0",
          "Cluster 0",
          "Cluster 0",
          "Cluster 0",
          "Cluster 0",
          "Cluster 0",
          "Cluster 0",
          "Cluster 0",
          "Cluster 0",
          "Cluster 0",
          "Cluster 0",
          "Cluster 0",
          "Cluster 0",
          "Cluster 0",
          "Cluster 0",
          "Cluster 0"
         ],
         "xaxis": "x",
         "yaxis": "y"
        },
        {
         "alignmentgroup": "True",
         "customdata": [
          [
           90,
           "Mayorista",
           "809007555-1",
           23,
           195474,
           19,
           "90-Mayorista"
          ],
          [
           90,
           "Mayorista",
           "890600003-1",
           24,
           56918,
           20,
           "90-Mayorista"
          ],
          [
           90,
           "Mayorista",
           "890700901-1",
           22,
           51293,
           12,
           "90-Mayorista"
          ],
          [
           90,
           "Mayorista",
           "890706067-1",
           21,
           60119,
           11,
           "90-Mayorista"
          ],
          [
           90,
           "Mayorista",
           "900098215-1",
           24,
           106591,
           22,
           "90-Mayorista"
          ],
          [
           90,
           "Mayorista",
           "5881952-1",
           24,
           58952,
           24,
           "90-Mayorista"
          ],
          [
           90,
           "Mayorista",
           "52845233-1",
           24,
           49403,
           24,
           "90-Mayorista"
          ],
          [
           90,
           "Mayorista",
           "39579537-1",
           24,
           61958,
           24,
           "90-Mayorista"
          ],
          [
           90,
           "Mayorista",
           "809010543-1",
           24,
           86023,
           24,
           "90-Mayorista"
          ],
          [
           90,
           "Mayorista",
           "28741139-1",
           24,
           104352,
           23,
           "90-Mayorista"
          ],
          [
           90,
           "Mayorista",
           "900630253-1",
           24,
           60709,
           23,
           "90-Mayorista"
          ],
          [
           90,
           "Mayorista",
           "901109937-1",
           24,
           153782,
           17,
           "90-Mayorista"
          ],
          [
           90,
           "Mayorista",
           "901164974-1",
           24,
           106141,
           18,
           "90-Mayorista"
          ],
          [
           90,
           "Mayorista",
           "11321207-1",
           23,
           52589,
           23,
           "90-Mayorista"
          ],
          [
           90,
           "Mayorista",
           "11317731-1",
           24,
           110678,
           15,
           "90-Mayorista"
          ],
          [
           90,
           "Mayorista",
           "901416140-1",
           24,
           74440,
           19,
           "90-Mayorista"
          ],
          [
           90,
           "Mayorista",
           "900491649-1",
           22,
           127424,
           7,
           "90-Mayorista"
          ],
          [
           90,
           "Mayorista",
           "1070626697-1",
           22,
           63255,
           6,
           "90-Mayorista"
          ],
          [
           90,
           "Mayorista",
           "901623625-1",
           24,
           51405,
           3,
           "90-Mayorista"
          ]
         ],
         "hovertemplate": "Cluster=%{x}<br>Codigo distrito=%{customdata[0]}<br>Nombre tipo zona=%{customdata[1]}<br>Nit cliente-sucursal=%{customdata[2]}<br>Recency=%{customdata[3]}<br>Monetary=%{customdata[4]}<br>Frequency=%{customdata[5]}<br>Distrito-Nombretipozona=%{customdata[6]}<extra></extra>",
         "legendgroup": "Cluster 0",
         "marker": {
          "color": "#636efa"
         },
         "name": "Cluster 0",
         "notched": true,
         "offsetgroup": "Cluster 0",
         "showlegend": false,
         "type": "box",
         "x": [
          "Cluster 0",
          "Cluster 0",
          "Cluster 0",
          "Cluster 0",
          "Cluster 0",
          "Cluster 0",
          "Cluster 0",
          "Cluster 0",
          "Cluster 0",
          "Cluster 0",
          "Cluster 0",
          "Cluster 0",
          "Cluster 0",
          "Cluster 0",
          "Cluster 0",
          "Cluster 0",
          "Cluster 0",
          "Cluster 0",
          "Cluster 0"
         ],
         "xaxis": "x2",
         "yaxis": "y2"
        },
        {
         "alignmentgroup": "True",
         "bingroup": "x",
         "hovertemplate": "Cluster=%{x}<br>count=%{y}<extra></extra>",
         "legendgroup": "Cluster 1",
         "marker": {
          "color": "#EF553B",
          "opacity": 0.7,
          "pattern": {
           "shape": ""
          }
         },
         "name": "Cluster 1",
         "offsetgroup": "Cluster 1",
         "orientation": "v",
         "showlegend": true,
         "type": "histogram",
         "x": [
          "Cluster 1"
         ],
         "xaxis": "x",
         "yaxis": "y"
        },
        {
         "alignmentgroup": "True",
         "customdata": [
          [
           90,
           "Mayorista",
           "809011022-1",
           24,
           2432909,
           24,
           "90-Mayorista"
          ]
         ],
         "hovertemplate": "Cluster=%{x}<br>Codigo distrito=%{customdata[0]}<br>Nombre tipo zona=%{customdata[1]}<br>Nit cliente-sucursal=%{customdata[2]}<br>Recency=%{customdata[3]}<br>Monetary=%{customdata[4]}<br>Frequency=%{customdata[5]}<br>Distrito-Nombretipozona=%{customdata[6]}<extra></extra>",
         "legendgroup": "Cluster 1",
         "marker": {
          "color": "#EF553B"
         },
         "name": "Cluster 1",
         "notched": true,
         "offsetgroup": "Cluster 1",
         "showlegend": false,
         "type": "box",
         "x": [
          "Cluster 1"
         ],
         "xaxis": "x2",
         "yaxis": "y2"
        },
        {
         "alignmentgroup": "True",
         "bingroup": "x",
         "hovertemplate": "Cluster=%{x}<br>count=%{y}<extra></extra>",
         "legendgroup": "Cluster 2",
         "marker": {
          "color": "#00cc96",
          "opacity": 0.7,
          "pattern": {
           "shape": ""
          }
         },
         "name": "Cluster 2",
         "offsetgroup": "Cluster 2",
         "orientation": "v",
         "showlegend": true,
         "type": "histogram",
         "x": [
          "Cluster 2",
          "Cluster 2",
          "Cluster 2",
          "Cluster 2",
          "Cluster 2",
          "Cluster 2",
          "Cluster 2",
          "Cluster 2",
          "Cluster 2",
          "Cluster 2",
          "Cluster 2",
          "Cluster 2",
          "Cluster 2",
          "Cluster 2",
          "Cluster 2",
          "Cluster 2",
          "Cluster 2",
          "Cluster 2",
          "Cluster 2",
          "Cluster 2",
          "Cluster 2",
          "Cluster 2",
          "Cluster 2",
          "Cluster 2",
          "Cluster 2",
          "Cluster 2",
          "Cluster 2",
          "Cluster 2",
          "Cluster 2",
          "Cluster 2",
          "Cluster 2",
          "Cluster 2",
          "Cluster 2",
          "Cluster 2",
          "Cluster 2",
          "Cluster 2",
          "Cluster 2",
          "Cluster 2",
          "Cluster 2",
          "Cluster 2",
          "Cluster 2",
          "Cluster 2",
          "Cluster 2",
          "Cluster 2",
          "Cluster 2",
          "Cluster 2",
          "Cluster 2",
          "Cluster 2",
          "Cluster 2",
          "Cluster 2",
          "Cluster 2",
          "Cluster 2",
          "Cluster 2",
          "Cluster 2",
          "Cluster 2",
          "Cluster 2",
          "Cluster 2",
          "Cluster 2",
          "Cluster 2",
          "Cluster 2",
          "Cluster 2",
          "Cluster 2",
          "Cluster 2",
          "Cluster 2",
          "Cluster 2",
          "Cluster 2",
          "Cluster 2",
          "Cluster 2",
          "Cluster 2",
          "Cluster 2",
          "Cluster 2",
          "Cluster 2",
          "Cluster 2",
          "Cluster 2",
          "Cluster 2",
          "Cluster 2",
          "Cluster 2",
          "Cluster 2",
          "Cluster 2",
          "Cluster 2",
          "Cluster 2",
          "Cluster 2",
          "Cluster 2",
          "Cluster 2",
          "Cluster 2",
          "Cluster 2",
          "Cluster 2",
          "Cluster 2",
          "Cluster 2",
          "Cluster 2",
          "Cluster 2",
          "Cluster 2",
          "Cluster 2",
          "Cluster 2",
          "Cluster 2",
          "Cluster 2",
          "Cluster 2",
          "Cluster 2",
          "Cluster 2",
          "Cluster 2",
          "Cluster 2",
          "Cluster 2",
          "Cluster 2",
          "Cluster 2",
          "Cluster 2",
          "Cluster 2",
          "Cluster 2",
          "Cluster 2",
          "Cluster 2"
         ],
         "xaxis": "x",
         "yaxis": "y"
        },
        {
         "alignmentgroup": "True",
         "customdata": [
          [
           90,
           "Mayorista",
           "900117068-1",
           24,
           4172,
           14,
           "90-Mayorista"
          ],
          [
           90,
           "Mayorista",
           "93291054-1",
           13,
           1440,
           2,
           "90-Mayorista"
          ],
          [
           90,
           "Mayorista",
           "890706823-1",
           13,
           30181,
           5,
           "90-Mayorista"
          ],
          [
           90,
           "Mayorista",
           "93293302-1",
           24,
           6096,
           8,
           "90-Mayorista"
          ],
          [
           90,
           "Mayorista",
           "890705657-1",
           18,
           775,
           3,
           "90-Mayorista"
          ],
          [
           90,
           "Mayorista",
           "890702122-1",
           21,
           7529,
           2,
           "90-Mayorista"
          ],
          [
           90,
           "Mayorista",
           "890702080-1",
           8,
           588,
           2,
           "90-Mayorista"
          ],
          [
           90,
           "Mayorista",
           "890701576-1",
           13,
           5214,
           1,
           "90-Mayorista"
          ],
          [
           90,
           "Mayorista",
           "890701017-1",
           23,
           32679,
           22,
           "90-Mayorista"
          ],
          [
           90,
           "Mayorista",
           "93300278-1",
           17,
           1990,
           5,
           "90-Mayorista"
          ],
          [
           90,
           "Mayorista",
           "890700642-1",
           22,
           9033,
           9,
           "90-Mayorista"
          ],
          [
           90,
           "Mayorista",
           "890680391-1",
           24,
           505,
           1,
           "90-Mayorista"
          ],
          [
           90,
           "Mayorista",
           "890680378-1",
           5,
           2910,
           1,
           "90-Mayorista"
          ],
          [
           90,
           "Mayorista",
           "890600394-1",
           20,
           367,
           2,
           "90-Mayorista"
          ],
          [
           90,
           "Mayorista",
           "93370623-1",
           24,
           19617,
           23,
           "90-Mayorista"
          ],
          [
           90,
           "Mayorista",
           "860533413-3",
           12,
           1411,
           3,
           "90-Mayorista"
          ],
          [
           90,
           "Mayorista",
           "860533413-2",
           11,
           818,
           4,
           "90-Mayorista"
          ],
          [
           90,
           "Mayorista",
           "830001338-1",
           11,
           3317,
           1,
           "90-Mayorista"
          ],
          [
           90,
           "Mayorista",
           "810006053-1",
           7,
           20266,
           1,
           "90-Mayorista"
          ],
          [
           90,
           "Mayorista",
           "809012458-1",
           19,
           5208,
           7,
           "90-Mayorista"
          ],
          [
           90,
           "Mayorista",
           "93235836-1",
           11,
           447,
           1,
           "90-Mayorista"
          ],
          [
           90,
           "Mayorista",
           "900139457-1",
           22,
           1762,
           3,
           "90-Mayorista"
          ],
          [
           90,
           "Mayorista",
           "901481056-1",
           6,
           598,
           1,
           "90-Mayorista"
          ],
          [
           90,
           "Mayorista",
           "93134880-1",
           24,
           21797,
           11,
           "90-Mayorista"
          ],
          [
           90,
           "Mayorista",
           "901280300-1",
           24,
           4225,
           7,
           "90-Mayorista"
          ],
          [
           90,
           "Mayorista",
           "901528475-1",
           17,
           3420,
           2,
           "90-Mayorista"
          ],
          [
           90,
           "Mayorista",
           "901602379-1",
           24,
           11815,
           6,
           "90-Mayorista"
          ],
          [
           90,
           "Mayorista",
           "901260567-1",
           9,
           16890,
           1,
           "90-Mayorista"
          ],
          [
           90,
           "Mayorista",
           "93089248-1",
           17,
           226,
           1,
           "90-Mayorista"
          ],
          [
           90,
           "Mayorista",
           "901100223-1",
           11,
           8496,
           1,
           "90-Mayorista"
          ],
          [
           90,
           "Mayorista",
           "900888422-1",
           23,
           4221,
           19,
           "90-Mayorista"
          ],
          [
           90,
           "Mayorista",
           "900660030-1",
           18,
           19269,
           15,
           "90-Mayorista"
          ],
          [
           90,
           "Mayorista",
           "900637721-1",
           24,
           1324,
           6,
           "90-Mayorista"
          ],
          [
           90,
           "Mayorista",
           "93119645-1",
           14,
           282,
           1,
           "90-Mayorista"
          ],
          [
           90,
           "Mayorista",
           "901416478-1",
           7,
           975,
           2,
           "90-Mayorista"
          ],
          [
           90,
           "Mayorista",
           "900596674-1",
           24,
           6131,
           12,
           "90-Mayorista"
          ],
          [
           90,
           "Mayorista",
           "93121251-1",
           23,
           5097,
           6,
           "90-Mayorista"
          ],
          [
           90,
           "Mayorista",
           "900512347-1",
           2,
           2287,
           2,
           "90-Mayorista"
          ],
          [
           90,
           "Mayorista",
           "93133703-1",
           18,
           102,
           1,
           "90-Mayorista"
          ],
          [
           90,
           "Mayorista",
           "900438870-1",
           9,
           2975,
           1,
           "90-Mayorista"
          ],
          [
           90,
           "Mayorista",
           "900383879-1",
           22,
           1899,
           7,
           "90-Mayorista"
          ],
          [
           90,
           "Mayorista",
           "900319135-1",
           24,
           391,
           1,
           "90-Mayorista"
          ],
          [
           90,
           "Mayorista",
           "900311356-1",
           10,
           376,
           1,
           "90-Mayorista"
          ],
          [
           90,
           "Mayorista",
           "900209523-1",
           19,
           678,
           1,
           "90-Mayorista"
          ],
          [
           90,
           "Mayorista",
           "900204033-1",
           17,
           869,
           1,
           "90-Mayorista"
          ],
          [
           90,
           "Mayorista",
           "900181419-1",
           18,
           422,
           1,
           "90-Mayorista"
          ],
          [
           90,
           "Mayorista",
           "900595056-1",
           17,
           599,
           3,
           "90-Mayorista"
          ],
          [
           90,
           "Mayorista",
           "809008799-1",
           22,
           1209,
           5,
           "90-Mayorista"
          ],
          [
           90,
           "Mayorista",
           "1007934252-1",
           14,
           2144,
           5,
           "90-Mayorista"
          ],
          [
           90,
           "Mayorista",
           "809005090-1",
           24,
           25923,
           24,
           "90-Mayorista"
          ],
          [
           90,
           "Mayorista",
           "28963359-1",
           4,
           1450,
           1,
           "90-Mayorista"
          ],
          [
           90,
           "Mayorista",
           "28814745-1",
           24,
           22826,
           24,
           "90-Mayorista"
          ],
          [
           90,
           "Mayorista",
           "28717147-1",
           24,
           4470,
           17,
           "90-Mayorista"
          ],
          [
           90,
           "Mayorista",
           "19468645-1",
           7,
           228,
           1,
           "90-Mayorista"
          ],
          [
           90,
           "Mayorista",
           "17645064-1",
           2,
           146,
           1,
           "90-Mayorista"
          ],
          [
           90,
           "Mayorista",
           "14321111-1",
           14,
           1490,
           2,
           "90-Mayorista"
          ],
          [
           90,
           "Mayorista",
           "14316727-1",
           24,
           5156,
           9,
           "90-Mayorista"
          ],
          [
           90,
           "Mayorista",
           "14273590-1",
           1,
           864,
           1,
           "90-Mayorista"
          ],
          [
           90,
           "Mayorista",
           "14236800-1",
           24,
           23927,
           11,
           "90-Mayorista"
          ],
          [
           90,
           "Mayorista",
           "14212809-1",
           5,
           274,
           1,
           "90-Mayorista"
          ],
          [
           90,
           "Mayorista",
           "11321481-1",
           24,
           12689,
           19,
           "90-Mayorista"
          ],
          [
           90,
           "Mayorista",
           "11310882-1",
           23,
           23481,
           20,
           "90-Mayorista"
          ],
          [
           90,
           "Mayorista",
           "11302341-1",
           6,
           1650,
           2,
           "90-Mayorista"
          ],
          [
           90,
           "Mayorista",
           "93414007-1",
           24,
           18084,
           15,
           "90-Mayorista"
          ],
          [
           90,
           "Mayorista",
           "11206404-1",
           22,
           9354,
           13,
           "90-Mayorista"
          ],
          [
           90,
           "Mayorista",
           "1110547572-1",
           3,
           1293,
           1,
           "90-Mayorista"
          ],
          [
           90,
           "Mayorista",
           "1110526435-1",
           23,
           31734,
           6,
           "90-Mayorista"
          ],
          [
           90,
           "Mayorista",
           "1110472250-1",
           21,
           1750,
           5,
           "90-Mayorista"
          ],
          [
           90,
           "Mayorista",
           "1110453231-1",
           3,
           449,
           1,
           "90-Mayorista"
          ],
          [
           90,
           "Mayorista",
           "1110450289-1",
           19,
           1169,
           2,
           "90-Mayorista"
          ],
          [
           90,
           "Mayorista",
           "1106738738-1",
           24,
           1416,
           10,
           "90-Mayorista"
          ],
          [
           90,
           "Mayorista",
           "1105791853-1",
           15,
           778,
           2,
           "90-Mayorista"
          ],
          [
           90,
           "Mayorista",
           "1105670924-1",
           13,
           3138,
           11,
           "90-Mayorista"
          ],
          [
           90,
           "Mayorista",
           "1070594547-1",
           13,
           36487,
           4,
           "90-Mayorista"
          ],
          [
           90,
           "Mayorista",
           "1070586102-1",
           24,
           868,
           1,
           "90-Mayorista"
          ],
          [
           90,
           "Mayorista",
           "1055916959-1",
           17,
           5007,
           8,
           "90-Mayorista"
          ],
          [
           90,
           "Mayorista",
           "100934252-1",
           10,
           205,
           1,
           "90-Mayorista"
          ],
          [
           90,
           "Mayorista",
           "10091164-1",
           17,
           10290,
           1,
           "90-Mayorista"
          ],
          [
           90,
           "Mayorista",
           "11205384-1",
           17,
           2927,
           1,
           "90-Mayorista"
          ],
          [
           90,
           "Mayorista",
           "28993442-1",
           17,
           1855,
           2,
           "90-Mayorista"
          ],
          [
           90,
           "Mayorista",
           "28963395-1",
           22,
           629,
           2,
           "90-Mayorista"
          ],
          [
           90,
           "Mayorista",
           "65698821-1",
           16,
           13664,
           5,
           "90-Mayorista"
          ],
          [
           90,
           "Mayorista",
           "809000383-1",
           21,
           6187,
           8,
           "90-Mayorista"
          ],
          [
           90,
           "Mayorista",
           "80275610-1",
           8,
           4924,
           1,
           "90-Mayorista"
          ],
          [
           90,
           "Mayorista",
           "80099943-1",
           8,
           670,
           1,
           "90-Mayorista"
          ],
          [
           90,
           "Mayorista",
           "800194669-1",
           11,
           403,
           1,
           "90-Mayorista"
          ],
          [
           90,
           "Mayorista",
           "800125697-1",
           24,
           22835,
           15,
           "90-Mayorista"
          ],
          [
           90,
           "Mayorista",
           "800100058-1",
           11,
           3343,
           1,
           "90-Mayorista"
          ],
          [
           90,
           "Mayorista",
           "79574696-1",
           23,
           4690,
           6,
           "90-Mayorista"
          ],
          [
           90,
           "Mayorista",
           "79538236-1",
           5,
           9838,
           3,
           "90-Mayorista"
          ],
          [
           90,
           "Mayorista",
           "65828899-1",
           9,
           3789,
           2,
           "90-Mayorista"
          ],
          [
           90,
           "Mayorista",
           "65811790-1",
           19,
           10754,
           3,
           "90-Mayorista"
          ],
          [
           90,
           "Mayorista",
           "65701880-1",
           24,
           38376,
           24,
           "90-Mayorista"
          ],
          [
           90,
           "Mayorista",
           "65699300-1",
           17,
           4298,
           1,
           "90-Mayorista"
          ],
          [
           90,
           "Mayorista",
           "65698998-1",
           24,
           879,
           3,
           "90-Mayorista"
          ],
          [
           90,
           "Mayorista",
           "65691822-1",
           6,
           474,
           1,
           "90-Mayorista"
          ],
          [
           90,
           "Mayorista",
           "93437671-1",
           3,
           700,
           1,
           "90-Mayorista"
          ],
          [
           90,
           "Mayorista",
           "65630950-1",
           19,
           715,
           1,
           "90-Mayorista"
          ],
          [
           90,
           "Mayorista",
           "30343334-1",
           24,
           39424,
           24,
           "90-Mayorista"
          ],
          [
           90,
           "Mayorista",
           "38142430-1",
           17,
           207,
           4,
           "90-Mayorista"
          ],
          [
           90,
           "Mayorista",
           "38231148-1",
           24,
           30326,
           11,
           "90-Mayorista"
          ],
          [
           90,
           "Mayorista",
           "39550821-1",
           12,
           435,
           1,
           "90-Mayorista"
          ],
          [
           90,
           "Mayorista",
           "52982012-1",
           18,
           11480,
           11,
           "90-Mayorista"
          ],
          [
           90,
           "Mayorista",
           "5884674-1",
           24,
           2844,
           7,
           "90-Mayorista"
          ],
          [
           90,
           "Mayorista",
           "39562450-1",
           24,
           21554,
           24,
           "90-Mayorista"
          ],
          [
           90,
           "Mayorista",
           "5892465-1",
           3,
           456,
           1,
           "90-Mayorista"
          ],
          [
           90,
           "Mayorista",
           "5913095-1",
           24,
           41881,
           17,
           "90-Mayorista"
          ],
          [
           90,
           "Mayorista",
           "5968426-1",
           7,
           910,
           1,
           "90-Mayorista"
          ],
          [
           90,
           "Mayorista",
           "5887776-1",
           19,
           7559,
           4,
           "90-Mayorista"
          ]
         ],
         "hovertemplate": "Cluster=%{x}<br>Codigo distrito=%{customdata[0]}<br>Nombre tipo zona=%{customdata[1]}<br>Nit cliente-sucursal=%{customdata[2]}<br>Recency=%{customdata[3]}<br>Monetary=%{customdata[4]}<br>Frequency=%{customdata[5]}<br>Distrito-Nombretipozona=%{customdata[6]}<extra></extra>",
         "legendgroup": "Cluster 2",
         "marker": {
          "color": "#00cc96"
         },
         "name": "Cluster 2",
         "notched": true,
         "offsetgroup": "Cluster 2",
         "showlegend": false,
         "type": "box",
         "x": [
          "Cluster 2",
          "Cluster 2",
          "Cluster 2",
          "Cluster 2",
          "Cluster 2",
          "Cluster 2",
          "Cluster 2",
          "Cluster 2",
          "Cluster 2",
          "Cluster 2",
          "Cluster 2",
          "Cluster 2",
          "Cluster 2",
          "Cluster 2",
          "Cluster 2",
          "Cluster 2",
          "Cluster 2",
          "Cluster 2",
          "Cluster 2",
          "Cluster 2",
          "Cluster 2",
          "Cluster 2",
          "Cluster 2",
          "Cluster 2",
          "Cluster 2",
          "Cluster 2",
          "Cluster 2",
          "Cluster 2",
          "Cluster 2",
          "Cluster 2",
          "Cluster 2",
          "Cluster 2",
          "Cluster 2",
          "Cluster 2",
          "Cluster 2",
          "Cluster 2",
          "Cluster 2",
          "Cluster 2",
          "Cluster 2",
          "Cluster 2",
          "Cluster 2",
          "Cluster 2",
          "Cluster 2",
          "Cluster 2",
          "Cluster 2",
          "Cluster 2",
          "Cluster 2",
          "Cluster 2",
          "Cluster 2",
          "Cluster 2",
          "Cluster 2",
          "Cluster 2",
          "Cluster 2",
          "Cluster 2",
          "Cluster 2",
          "Cluster 2",
          "Cluster 2",
          "Cluster 2",
          "Cluster 2",
          "Cluster 2",
          "Cluster 2",
          "Cluster 2",
          "Cluster 2",
          "Cluster 2",
          "Cluster 2",
          "Cluster 2",
          "Cluster 2",
          "Cluster 2",
          "Cluster 2",
          "Cluster 2",
          "Cluster 2",
          "Cluster 2",
          "Cluster 2",
          "Cluster 2",
          "Cluster 2",
          "Cluster 2",
          "Cluster 2",
          "Cluster 2",
          "Cluster 2",
          "Cluster 2",
          "Cluster 2",
          "Cluster 2",
          "Cluster 2",
          "Cluster 2",
          "Cluster 2",
          "Cluster 2",
          "Cluster 2",
          "Cluster 2",
          "Cluster 2",
          "Cluster 2",
          "Cluster 2",
          "Cluster 2",
          "Cluster 2",
          "Cluster 2",
          "Cluster 2",
          "Cluster 2",
          "Cluster 2",
          "Cluster 2",
          "Cluster 2",
          "Cluster 2",
          "Cluster 2",
          "Cluster 2",
          "Cluster 2",
          "Cluster 2",
          "Cluster 2",
          "Cluster 2",
          "Cluster 2",
          "Cluster 2",
          "Cluster 2"
         ],
         "xaxis": "x2",
         "yaxis": "y2"
        },
        {
         "alignmentgroup": "True",
         "bingroup": "x",
         "hovertemplate": "Cluster=%{x}<br>count=%{y}<extra></extra>",
         "legendgroup": "Cluster 3",
         "marker": {
          "color": "#ab63fa",
          "opacity": 0.7,
          "pattern": {
           "shape": ""
          }
         },
         "name": "Cluster 3",
         "offsetgroup": "Cluster 3",
         "orientation": "v",
         "showlegend": true,
         "type": "histogram",
         "x": [
          "Cluster 3",
          "Cluster 3",
          "Cluster 3"
         ],
         "xaxis": "x",
         "yaxis": "y"
        },
        {
         "alignmentgroup": "True",
         "customdata": [
          [
           90,
           "Mayorista",
           "900241288-1",
           24,
           788702,
           24,
           "90-Mayorista"
          ],
          [
           90,
           "Mayorista",
           "900363900-1",
           24,
           631901,
           23,
           "90-Mayorista"
          ],
          [
           90,
           "Mayorista",
           "93386132-1",
           22,
           721928,
           19,
           "90-Mayorista"
          ]
         ],
         "hovertemplate": "Cluster=%{x}<br>Codigo distrito=%{customdata[0]}<br>Nombre tipo zona=%{customdata[1]}<br>Nit cliente-sucursal=%{customdata[2]}<br>Recency=%{customdata[3]}<br>Monetary=%{customdata[4]}<br>Frequency=%{customdata[5]}<br>Distrito-Nombretipozona=%{customdata[6]}<extra></extra>",
         "legendgroup": "Cluster 3",
         "marker": {
          "color": "#ab63fa"
         },
         "name": "Cluster 3",
         "notched": true,
         "offsetgroup": "Cluster 3",
         "showlegend": false,
         "type": "box",
         "x": [
          "Cluster 3",
          "Cluster 3",
          "Cluster 3"
         ],
         "xaxis": "x2",
         "yaxis": "y2"
        },
        {
         "alignmentgroup": "True",
         "bingroup": "x",
         "hovertemplate": "Cluster=%{x}<br>count=%{y}<extra></extra>",
         "legendgroup": "Cluster 4",
         "marker": {
          "color": "#FFA15A",
          "opacity": 0.7,
          "pattern": {
           "shape": ""
          }
         },
         "name": "Cluster 4",
         "offsetgroup": "Cluster 4",
         "orientation": "v",
         "showlegend": true,
         "type": "histogram",
         "x": [
          "Cluster 4",
          "Cluster 4",
          "Cluster 4",
          "Cluster 4"
         ],
         "xaxis": "x",
         "yaxis": "y"
        },
        {
         "alignmentgroup": "True",
         "customdata": [
          [
           90,
           "Mayorista",
           "901391713-1",
           24,
           434553,
           17,
           "90-Mayorista"
          ],
          [
           90,
           "Mayorista",
           "19280328-1",
           24,
           441186,
           24,
           "90-Mayorista"
          ],
          [
           90,
           "Mayorista",
           "890701033-1",
           24,
           342816,
           20,
           "90-Mayorista"
          ],
          [
           90,
           "Mayorista",
           "900396551-1",
           24,
           255537,
           24,
           "90-Mayorista"
          ]
         ],
         "hovertemplate": "Cluster=%{x}<br>Codigo distrito=%{customdata[0]}<br>Nombre tipo zona=%{customdata[1]}<br>Nit cliente-sucursal=%{customdata[2]}<br>Recency=%{customdata[3]}<br>Monetary=%{customdata[4]}<br>Frequency=%{customdata[5]}<br>Distrito-Nombretipozona=%{customdata[6]}<extra></extra>",
         "legendgroup": "Cluster 4",
         "marker": {
          "color": "#FFA15A"
         },
         "name": "Cluster 4",
         "notched": true,
         "offsetgroup": "Cluster 4",
         "showlegend": false,
         "type": "box",
         "x": [
          "Cluster 4",
          "Cluster 4",
          "Cluster 4",
          "Cluster 4"
         ],
         "xaxis": "x2",
         "yaxis": "y2"
        }
       ],
       "layout": {
        "barmode": "relative",
        "height": 600,
        "legend": {
         "title": {
          "text": "Cluster"
         },
         "tracegroupgap": 0
        },
        "margin": {
         "t": 60
        },
        "template": {
         "data": {
          "bar": [
           {
            "error_x": {
             "color": "#2a3f5f"
            },
            "error_y": {
             "color": "#2a3f5f"
            },
            "marker": {
             "line": {
              "color": "#E5ECF6",
              "width": 0.5
             },
             "pattern": {
              "fillmode": "overlay",
              "size": 10,
              "solidity": 0.2
             }
            },
            "type": "bar"
           }
          ],
          "barpolar": [
           {
            "marker": {
             "line": {
              "color": "#E5ECF6",
              "width": 0.5
             },
             "pattern": {
              "fillmode": "overlay",
              "size": 10,
              "solidity": 0.2
             }
            },
            "type": "barpolar"
           }
          ],
          "carpet": [
           {
            "aaxis": {
             "endlinecolor": "#2a3f5f",
             "gridcolor": "white",
             "linecolor": "white",
             "minorgridcolor": "white",
             "startlinecolor": "#2a3f5f"
            },
            "baxis": {
             "endlinecolor": "#2a3f5f",
             "gridcolor": "white",
             "linecolor": "white",
             "minorgridcolor": "white",
             "startlinecolor": "#2a3f5f"
            },
            "type": "carpet"
           }
          ],
          "choropleth": [
           {
            "colorbar": {
             "outlinewidth": 0,
             "ticks": ""
            },
            "type": "choropleth"
           }
          ],
          "contour": [
           {
            "colorbar": {
             "outlinewidth": 0,
             "ticks": ""
            },
            "colorscale": [
             [
              0,
              "#0d0887"
             ],
             [
              0.1111111111111111,
              "#46039f"
             ],
             [
              0.2222222222222222,
              "#7201a8"
             ],
             [
              0.3333333333333333,
              "#9c179e"
             ],
             [
              0.4444444444444444,
              "#bd3786"
             ],
             [
              0.5555555555555556,
              "#d8576b"
             ],
             [
              0.6666666666666666,
              "#ed7953"
             ],
             [
              0.7777777777777778,
              "#fb9f3a"
             ],
             [
              0.8888888888888888,
              "#fdca26"
             ],
             [
              1,
              "#f0f921"
             ]
            ],
            "type": "contour"
           }
          ],
          "contourcarpet": [
           {
            "colorbar": {
             "outlinewidth": 0,
             "ticks": ""
            },
            "type": "contourcarpet"
           }
          ],
          "heatmap": [
           {
            "colorbar": {
             "outlinewidth": 0,
             "ticks": ""
            },
            "colorscale": [
             [
              0,
              "#0d0887"
             ],
             [
              0.1111111111111111,
              "#46039f"
             ],
             [
              0.2222222222222222,
              "#7201a8"
             ],
             [
              0.3333333333333333,
              "#9c179e"
             ],
             [
              0.4444444444444444,
              "#bd3786"
             ],
             [
              0.5555555555555556,
              "#d8576b"
             ],
             [
              0.6666666666666666,
              "#ed7953"
             ],
             [
              0.7777777777777778,
              "#fb9f3a"
             ],
             [
              0.8888888888888888,
              "#fdca26"
             ],
             [
              1,
              "#f0f921"
             ]
            ],
            "type": "heatmap"
           }
          ],
          "heatmapgl": [
           {
            "colorbar": {
             "outlinewidth": 0,
             "ticks": ""
            },
            "colorscale": [
             [
              0,
              "#0d0887"
             ],
             [
              0.1111111111111111,
              "#46039f"
             ],
             [
              0.2222222222222222,
              "#7201a8"
             ],
             [
              0.3333333333333333,
              "#9c179e"
             ],
             [
              0.4444444444444444,
              "#bd3786"
             ],
             [
              0.5555555555555556,
              "#d8576b"
             ],
             [
              0.6666666666666666,
              "#ed7953"
             ],
             [
              0.7777777777777778,
              "#fb9f3a"
             ],
             [
              0.8888888888888888,
              "#fdca26"
             ],
             [
              1,
              "#f0f921"
             ]
            ],
            "type": "heatmapgl"
           }
          ],
          "histogram": [
           {
            "marker": {
             "pattern": {
              "fillmode": "overlay",
              "size": 10,
              "solidity": 0.2
             }
            },
            "type": "histogram"
           }
          ],
          "histogram2d": [
           {
            "colorbar": {
             "outlinewidth": 0,
             "ticks": ""
            },
            "colorscale": [
             [
              0,
              "#0d0887"
             ],
             [
              0.1111111111111111,
              "#46039f"
             ],
             [
              0.2222222222222222,
              "#7201a8"
             ],
             [
              0.3333333333333333,
              "#9c179e"
             ],
             [
              0.4444444444444444,
              "#bd3786"
             ],
             [
              0.5555555555555556,
              "#d8576b"
             ],
             [
              0.6666666666666666,
              "#ed7953"
             ],
             [
              0.7777777777777778,
              "#fb9f3a"
             ],
             [
              0.8888888888888888,
              "#fdca26"
             ],
             [
              1,
              "#f0f921"
             ]
            ],
            "type": "histogram2d"
           }
          ],
          "histogram2dcontour": [
           {
            "colorbar": {
             "outlinewidth": 0,
             "ticks": ""
            },
            "colorscale": [
             [
              0,
              "#0d0887"
             ],
             [
              0.1111111111111111,
              "#46039f"
             ],
             [
              0.2222222222222222,
              "#7201a8"
             ],
             [
              0.3333333333333333,
              "#9c179e"
             ],
             [
              0.4444444444444444,
              "#bd3786"
             ],
             [
              0.5555555555555556,
              "#d8576b"
             ],
             [
              0.6666666666666666,
              "#ed7953"
             ],
             [
              0.7777777777777778,
              "#fb9f3a"
             ],
             [
              0.8888888888888888,
              "#fdca26"
             ],
             [
              1,
              "#f0f921"
             ]
            ],
            "type": "histogram2dcontour"
           }
          ],
          "mesh3d": [
           {
            "colorbar": {
             "outlinewidth": 0,
             "ticks": ""
            },
            "type": "mesh3d"
           }
          ],
          "parcoords": [
           {
            "line": {
             "colorbar": {
              "outlinewidth": 0,
              "ticks": ""
             }
            },
            "type": "parcoords"
           }
          ],
          "pie": [
           {
            "automargin": true,
            "type": "pie"
           }
          ],
          "scatter": [
           {
            "fillpattern": {
             "fillmode": "overlay",
             "size": 10,
             "solidity": 0.2
            },
            "type": "scatter"
           }
          ],
          "scatter3d": [
           {
            "line": {
             "colorbar": {
              "outlinewidth": 0,
              "ticks": ""
             }
            },
            "marker": {
             "colorbar": {
              "outlinewidth": 0,
              "ticks": ""
             }
            },
            "type": "scatter3d"
           }
          ],
          "scattercarpet": [
           {
            "marker": {
             "colorbar": {
              "outlinewidth": 0,
              "ticks": ""
             }
            },
            "type": "scattercarpet"
           }
          ],
          "scattergeo": [
           {
            "marker": {
             "colorbar": {
              "outlinewidth": 0,
              "ticks": ""
             }
            },
            "type": "scattergeo"
           }
          ],
          "scattergl": [
           {
            "marker": {
             "colorbar": {
              "outlinewidth": 0,
              "ticks": ""
             }
            },
            "type": "scattergl"
           }
          ],
          "scattermapbox": [
           {
            "marker": {
             "colorbar": {
              "outlinewidth": 0,
              "ticks": ""
             }
            },
            "type": "scattermapbox"
           }
          ],
          "scatterpolar": [
           {
            "marker": {
             "colorbar": {
              "outlinewidth": 0,
              "ticks": ""
             }
            },
            "type": "scatterpolar"
           }
          ],
          "scatterpolargl": [
           {
            "marker": {
             "colorbar": {
              "outlinewidth": 0,
              "ticks": ""
             }
            },
            "type": "scatterpolargl"
           }
          ],
          "scatterternary": [
           {
            "marker": {
             "colorbar": {
              "outlinewidth": 0,
              "ticks": ""
             }
            },
            "type": "scatterternary"
           }
          ],
          "surface": [
           {
            "colorbar": {
             "outlinewidth": 0,
             "ticks": ""
            },
            "colorscale": [
             [
              0,
              "#0d0887"
             ],
             [
              0.1111111111111111,
              "#46039f"
             ],
             [
              0.2222222222222222,
              "#7201a8"
             ],
             [
              0.3333333333333333,
              "#9c179e"
             ],
             [
              0.4444444444444444,
              "#bd3786"
             ],
             [
              0.5555555555555556,
              "#d8576b"
             ],
             [
              0.6666666666666666,
              "#ed7953"
             ],
             [
              0.7777777777777778,
              "#fb9f3a"
             ],
             [
              0.8888888888888888,
              "#fdca26"
             ],
             [
              1,
              "#f0f921"
             ]
            ],
            "type": "surface"
           }
          ],
          "table": [
           {
            "cells": {
             "fill": {
              "color": "#EBF0F8"
             },
             "line": {
              "color": "white"
             }
            },
            "header": {
             "fill": {
              "color": "#C8D4E3"
             },
             "line": {
              "color": "white"
             }
            },
            "type": "table"
           }
          ]
         },
         "layout": {
          "annotationdefaults": {
           "arrowcolor": "#2a3f5f",
           "arrowhead": 0,
           "arrowwidth": 1
          },
          "autotypenumbers": "strict",
          "coloraxis": {
           "colorbar": {
            "outlinewidth": 0,
            "ticks": ""
           }
          },
          "colorscale": {
           "diverging": [
            [
             0,
             "#8e0152"
            ],
            [
             0.1,
             "#c51b7d"
            ],
            [
             0.2,
             "#de77ae"
            ],
            [
             0.3,
             "#f1b6da"
            ],
            [
             0.4,
             "#fde0ef"
            ],
            [
             0.5,
             "#f7f7f7"
            ],
            [
             0.6,
             "#e6f5d0"
            ],
            [
             0.7,
             "#b8e186"
            ],
            [
             0.8,
             "#7fbc41"
            ],
            [
             0.9,
             "#4d9221"
            ],
            [
             1,
             "#276419"
            ]
           ],
           "sequential": [
            [
             0,
             "#0d0887"
            ],
            [
             0.1111111111111111,
             "#46039f"
            ],
            [
             0.2222222222222222,
             "#7201a8"
            ],
            [
             0.3333333333333333,
             "#9c179e"
            ],
            [
             0.4444444444444444,
             "#bd3786"
            ],
            [
             0.5555555555555556,
             "#d8576b"
            ],
            [
             0.6666666666666666,
             "#ed7953"
            ],
            [
             0.7777777777777778,
             "#fb9f3a"
            ],
            [
             0.8888888888888888,
             "#fdca26"
            ],
            [
             1,
             "#f0f921"
            ]
           ],
           "sequentialminus": [
            [
             0,
             "#0d0887"
            ],
            [
             0.1111111111111111,
             "#46039f"
            ],
            [
             0.2222222222222222,
             "#7201a8"
            ],
            [
             0.3333333333333333,
             "#9c179e"
            ],
            [
             0.4444444444444444,
             "#bd3786"
            ],
            [
             0.5555555555555556,
             "#d8576b"
            ],
            [
             0.6666666666666666,
             "#ed7953"
            ],
            [
             0.7777777777777778,
             "#fb9f3a"
            ],
            [
             0.8888888888888888,
             "#fdca26"
            ],
            [
             1,
             "#f0f921"
            ]
           ]
          },
          "colorway": [
           "#636efa",
           "#EF553B",
           "#00cc96",
           "#ab63fa",
           "#FFA15A",
           "#19d3f3",
           "#FF6692",
           "#B6E880",
           "#FF97FF",
           "#FECB52"
          ],
          "font": {
           "color": "#2a3f5f"
          },
          "geo": {
           "bgcolor": "white",
           "lakecolor": "white",
           "landcolor": "#E5ECF6",
           "showlakes": true,
           "showland": true,
           "subunitcolor": "white"
          },
          "hoverlabel": {
           "align": "left"
          },
          "hovermode": "closest",
          "mapbox": {
           "style": "light"
          },
          "paper_bgcolor": "white",
          "plot_bgcolor": "#E5ECF6",
          "polar": {
           "angularaxis": {
            "gridcolor": "white",
            "linecolor": "white",
            "ticks": ""
           },
           "bgcolor": "#E5ECF6",
           "radialaxis": {
            "gridcolor": "white",
            "linecolor": "white",
            "ticks": ""
           }
          },
          "scene": {
           "xaxis": {
            "backgroundcolor": "#E5ECF6",
            "gridcolor": "white",
            "gridwidth": 2,
            "linecolor": "white",
            "showbackground": true,
            "ticks": "",
            "zerolinecolor": "white"
           },
           "yaxis": {
            "backgroundcolor": "#E5ECF6",
            "gridcolor": "white",
            "gridwidth": 2,
            "linecolor": "white",
            "showbackground": true,
            "ticks": "",
            "zerolinecolor": "white"
           },
           "zaxis": {
            "backgroundcolor": "#E5ECF6",
            "gridcolor": "white",
            "gridwidth": 2,
            "linecolor": "white",
            "showbackground": true,
            "ticks": "",
            "zerolinecolor": "white"
           }
          },
          "shapedefaults": {
           "line": {
            "color": "#2a3f5f"
           }
          },
          "ternary": {
           "aaxis": {
            "gridcolor": "white",
            "linecolor": "white",
            "ticks": ""
           },
           "baxis": {
            "gridcolor": "white",
            "linecolor": "white",
            "ticks": ""
           },
           "bgcolor": "#E5ECF6",
           "caxis": {
            "gridcolor": "white",
            "linecolor": "white",
            "ticks": ""
           }
          },
          "title": {
           "x": 0.05
          },
          "xaxis": {
           "automargin": true,
           "gridcolor": "white",
           "linecolor": "white",
           "ticks": "",
           "title": {
            "standoff": 15
           },
           "zerolinecolor": "white",
           "zerolinewidth": 2
          },
          "yaxis": {
           "automargin": true,
           "gridcolor": "white",
           "linecolor": "white",
           "ticks": "",
           "title": {
            "standoff": 15
           },
           "zerolinecolor": "white",
           "zerolinewidth": 2
          }
         }
        },
        "xaxis": {
         "anchor": "y",
         "categoryarray": [
          "Cluster 0",
          "Cluster 1",
          "Cluster 2",
          "Cluster 3",
          "Cluster 4"
         ],
         "categoryorder": "array",
         "domain": [
          0,
          1
         ],
         "title": {
          "text": "Cluster"
         }
        },
        "xaxis2": {
         "anchor": "y2",
         "domain": [
          0,
          1
         ],
         "matches": "x",
         "showgrid": true,
         "showticklabels": false
        },
        "yaxis": {
         "anchor": "x",
         "domain": [
          0,
          0.7326
         ],
         "title": {
          "text": "count"
         }
        },
        "yaxis2": {
         "anchor": "x2",
         "domain": [
          0.7426,
          1
         ],
         "matches": "y2",
         "showgrid": false,
         "showline": false,
         "showticklabels": false,
         "ticks": ""
        }
       }
      }
     },
     "metadata": {},
     "output_type": "display_data"
    }
   ],
   "source": [
    "plot_model(model_kmeans, plot = 'distribution')"
   ]
  }
 ],
 "metadata": {
  "kernelspec": {
   "display_name": "Python 3.8.13 ('py38')",
   "language": "python",
   "name": "python3"
  },
  "language_info": {
   "codemirror_mode": {
    "name": "ipython",
    "version": 3
   },
   "file_extension": ".py",
   "mimetype": "text/x-python",
   "name": "python",
   "nbconvert_exporter": "python",
   "pygments_lexer": "ipython3",
   "version": "3.8.13"
  },
  "orig_nbformat": 4,
  "vscode": {
   "interpreter": {
    "hash": "d6c6a9368ffd28e969f7d90a4d7c29e7466278b3cb1a367b914bbfe92c83c635"
   }
  }
 },
 "nbformat": 4,
 "nbformat_minor": 2
}
