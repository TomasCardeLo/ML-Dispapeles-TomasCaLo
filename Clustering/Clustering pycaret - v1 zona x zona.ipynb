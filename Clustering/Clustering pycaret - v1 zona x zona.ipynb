{
 "cells": [
  {
   "cell_type": "code",
   "execution_count": 68,
   "metadata": {},
   "outputs": [],
   "source": [
    "from pycaret.clustering import *\n",
    "\n",
    "import pyodbc\n",
    "import pandas as pd\n",
    "import numpy as np\n",
    "import matplotlib.pyplot as plt\n",
    "\n",
    "import warnings\n",
    "warnings.filterwarnings(\"ignore\")"
   ]
  },
  {
   "cell_type": "code",
   "execution_count": 69,
   "metadata": {},
   "outputs": [],
   "source": [
    "cnxn = pyodbc.connect(\n",
    "    driver='{iSeries Access ODBC Driver}',\n",
    "    system='192.168.100.2',\n",
    "    uid='TBLPRDUSR',\n",
    "    pwd='bbbb')\n",
    "cursor = cnxn.cursor()\n",
    "#cnxn.close()"
   ]
  },
  {
   "cell_type": "code",
   "execution_count": 70,
   "metadata": {},
   "outputs": [],
   "source": [
    "#Cargue de la data desde el ERP de Dispapeles y se guarda en df\n",
    "cursor.execute('SELECT DSTCOD AS \"Codigo distrito\", VTAZNA AS \"Codigo zona\", VTANIT AS \"Nit cliente\", ((2022 - LEFT(MAX(VTAFCH),4)) * 12 ) + (6 - SUBSTRING(MAX(VTAFCH),5,2)) AS \"Recency\", SUM(A.VTAVLRVTA) AS \"Monetary\", COUNT( DISTINCT LEFT(VTAFCH, 6)) AS \"Frequency\" FROM SIDPRDDTA.VTAHEC A WHERE PRMCOD = 1 AND A.DSTCOD = 10 AND A.VTAZNA < 96 AND LEFT(VTAFCH,6) BETWEEN 202011 AND 202210 GROUP BY DSTCOD, VTAZNA, VTANIT')\n",
    "rows = cursor.fetchall()\n",
    "df = pd.DataFrame.from_records(rows, columns=[col[0] for col in cursor.description])"
   ]
  },
  {
   "cell_type": "code",
   "execution_count": 71,
   "metadata": {},
   "outputs": [],
   "source": [
    "#Se añade una key de Distrito-Zona para hacer mas facil la identificacion cuando se usa todo el pais\n",
    "#Se genera la calificacion de Recency basado en los valores máximos\n",
    "#Se divide por millón la columna Monetary para disminuir el rango de los valores\n",
    "df['Distrito-Zona'] = df['Codigo distrito'].astype(str) + '-' + df['Codigo zona'].astype(str)\n",
    "df['Recency'] = max(df['Recency'])-df['Recency']+1\n",
    "df['Monetary'] = df['Monetary'] / 1000000"
   ]
  },
  {
   "cell_type": "code",
   "execution_count": 72,
   "metadata": {},
   "outputs": [
    {
     "name": "stdout",
     "output_type": "stream",
     "text": [
      "Se omite la zona 10-82\n"
     ]
    }
   ],
   "source": [
    "zonas = list(np.unique(df['Distrito-Zona']))\n",
    "for z in zonas:\n",
    "    shape_0 = len(df[df['Distrito-Zona'] == z])\n",
    "    if shape_0 < 3:\n",
    "        print(f\"Se omite la zona {z}\")\n",
    "        zonas.remove(z)"
   ]
  },
  {
   "cell_type": "code",
   "execution_count": 73,
   "metadata": {},
   "outputs": [
    {
     "data": {
      "text/html": [
       "<div>\n",
       "<style scoped>\n",
       "    .dataframe tbody tr th:only-of-type {\n",
       "        vertical-align: middle;\n",
       "    }\n",
       "\n",
       "    .dataframe tbody tr th {\n",
       "        vertical-align: top;\n",
       "    }\n",
       "\n",
       "    .dataframe thead th {\n",
       "        text-align: right;\n",
       "    }\n",
       "</style>\n",
       "<table border=\"1\" class=\"dataframe\">\n",
       "  <thead>\n",
       "    <tr style=\"text-align: right;\">\n",
       "      <th></th>\n",
       "      <th>Silhouette</th>\n",
       "      <th>Calinski-Harabasz</th>\n",
       "      <th>Davies-Bouldin</th>\n",
       "      <th>Homogeneity</th>\n",
       "      <th>Rand Index</th>\n",
       "      <th>Completeness</th>\n",
       "    </tr>\n",
       "  </thead>\n",
       "  <tbody>\n",
       "    <tr>\n",
       "      <th>0</th>\n",
       "      <td>0.8849</td>\n",
       "      <td>2543.8917</td>\n",
       "      <td>0.248</td>\n",
       "      <td>0</td>\n",
       "      <td>0</td>\n",
       "      <td>0</td>\n",
       "    </tr>\n",
       "  </tbody>\n",
       "</table>\n",
       "</div>"
      ],
      "text/plain": [
       "   Silhouette  Calinski-Harabasz  Davies-Bouldin  Homogeneity  Rand Index  \\\n",
       "0      0.8849          2543.8917           0.248            0           0   \n",
       "\n",
       "   Completeness  \n",
       "0             0  "
      ]
     },
     "metadata": {},
     "output_type": "display_data"
    },
    {
     "name": "stdout",
     "output_type": "stream",
     "text": [
      "10-9\n"
     ]
    }
   ],
   "source": [
    "list_pred = []\n",
    "\n",
    "for z in zonas:\n",
    "    df_zona = df[df['Distrito-Zona'] == z]\n",
    "    df_X = df_zona[['Recency', 'Monetary', 'Frequency']].sort_values(by= ['Monetary','Recency', 'Frequency'])\n",
    "    s = setup(df_X, normalize = False, verbose= False)\n",
    "    model = create_model('kmeans', num_clusters= 5)\n",
    "    df_pred = predict_model(model, data = df_zona)\n",
    "    list_pred.append(df_pred)\n",
    "    print(z)"
   ]
  },
  {
   "cell_type": "code",
   "execution_count": 75,
   "metadata": {},
   "outputs": [
    {
     "data": {
      "text/html": [
       "<div>\n",
       "<style scoped>\n",
       "    .dataframe tbody tr th:only-of-type {\n",
       "        vertical-align: middle;\n",
       "    }\n",
       "\n",
       "    .dataframe tbody tr th {\n",
       "        vertical-align: top;\n",
       "    }\n",
       "\n",
       "    .dataframe thead th {\n",
       "        text-align: right;\n",
       "    }\n",
       "</style>\n",
       "<table border=\"1\" class=\"dataframe\">\n",
       "  <thead>\n",
       "    <tr style=\"text-align: right;\">\n",
       "      <th></th>\n",
       "      <th>Codigo distrito</th>\n",
       "      <th>Codigo zona</th>\n",
       "      <th>Nit cliente</th>\n",
       "      <th>Recency</th>\n",
       "      <th>Monetary</th>\n",
       "      <th>Frequency</th>\n",
       "      <th>Distrito-Zona</th>\n",
       "      <th>Cluster</th>\n",
       "    </tr>\n",
       "  </thead>\n",
       "  <tbody>\n",
       "    <tr>\n",
       "      <th>0</th>\n",
       "      <td>10</td>\n",
       "      <td>1</td>\n",
       "      <td>14317512</td>\n",
       "      <td>5</td>\n",
       "      <td>0.574372</td>\n",
       "      <td>1</td>\n",
       "      <td>10-1</td>\n",
       "      <td>Cluster 1</td>\n",
       "    </tr>\n",
       "    <tr>\n",
       "      <th>1</th>\n",
       "      <td>10</td>\n",
       "      <td>1</td>\n",
       "      <td>17172243</td>\n",
       "      <td>24</td>\n",
       "      <td>32.35119945</td>\n",
       "      <td>14</td>\n",
       "      <td>10-1</td>\n",
       "      <td>Cluster 1</td>\n",
       "    </tr>\n",
       "    <tr>\n",
       "      <th>2</th>\n",
       "      <td>10</td>\n",
       "      <td>1</td>\n",
       "      <td>19173449</td>\n",
       "      <td>17</td>\n",
       "      <td>1.279167</td>\n",
       "      <td>2</td>\n",
       "      <td>10-1</td>\n",
       "      <td>Cluster 1</td>\n",
       "    </tr>\n",
       "    <tr>\n",
       "      <th>3</th>\n",
       "      <td>10</td>\n",
       "      <td>1</td>\n",
       "      <td>19322486</td>\n",
       "      <td>24</td>\n",
       "      <td>39.58834908</td>\n",
       "      <td>17</td>\n",
       "      <td>10-1</td>\n",
       "      <td>Cluster 1</td>\n",
       "    </tr>\n",
       "    <tr>\n",
       "      <th>4</th>\n",
       "      <td>10</td>\n",
       "      <td>1</td>\n",
       "      <td>23588105</td>\n",
       "      <td>18</td>\n",
       "      <td>19.28482092</td>\n",
       "      <td>3</td>\n",
       "      <td>10-1</td>\n",
       "      <td>Cluster 1</td>\n",
       "    </tr>\n",
       "    <tr>\n",
       "      <th>...</th>\n",
       "      <td>...</td>\n",
       "      <td>...</td>\n",
       "      <td>...</td>\n",
       "      <td>...</td>\n",
       "      <td>...</td>\n",
       "      <td>...</td>\n",
       "      <td>...</td>\n",
       "      <td>...</td>\n",
       "    </tr>\n",
       "    <tr>\n",
       "      <th>683</th>\n",
       "      <td>10</td>\n",
       "      <td>9</td>\n",
       "      <td>901276512</td>\n",
       "      <td>5</td>\n",
       "      <td>28.09068022</td>\n",
       "      <td>5</td>\n",
       "      <td>10-9</td>\n",
       "      <td>Cluster 0</td>\n",
       "    </tr>\n",
       "    <tr>\n",
       "      <th>684</th>\n",
       "      <td>10</td>\n",
       "      <td>9</td>\n",
       "      <td>901291985</td>\n",
       "      <td>4</td>\n",
       "      <td>1.791387</td>\n",
       "      <td>2</td>\n",
       "      <td>10-9</td>\n",
       "      <td>Cluster 0</td>\n",
       "    </tr>\n",
       "    <tr>\n",
       "      <th>685</th>\n",
       "      <td>10</td>\n",
       "      <td>9</td>\n",
       "      <td>901355632</td>\n",
       "      <td>11</td>\n",
       "      <td>0.64787</td>\n",
       "      <td>1</td>\n",
       "      <td>10-9</td>\n",
       "      <td>Cluster 0</td>\n",
       "    </tr>\n",
       "    <tr>\n",
       "      <th>686</th>\n",
       "      <td>10</td>\n",
       "      <td>9</td>\n",
       "      <td>901528604</td>\n",
       "      <td>24</td>\n",
       "      <td>102.03233168</td>\n",
       "      <td>9</td>\n",
       "      <td>10-9</td>\n",
       "      <td>Cluster 0</td>\n",
       "    </tr>\n",
       "    <tr>\n",
       "      <th>687</th>\n",
       "      <td>10</td>\n",
       "      <td>9</td>\n",
       "      <td>901533899</td>\n",
       "      <td>17</td>\n",
       "      <td>0.45441</td>\n",
       "      <td>1</td>\n",
       "      <td>10-9</td>\n",
       "      <td>Cluster 0</td>\n",
       "    </tr>\n",
       "  </tbody>\n",
       "</table>\n",
       "<p>3434 rows × 8 columns</p>\n",
       "</div>"
      ],
      "text/plain": [
       "    Codigo distrito Codigo zona Nit cliente  Recency      Monetary  Frequency  \\\n",
       "0                10           1    14317512        5      0.574372          1   \n",
       "1                10           1    17172243       24   32.35119945         14   \n",
       "2                10           1    19173449       17      1.279167          2   \n",
       "3                10           1    19322486       24   39.58834908         17   \n",
       "4                10           1    23588105       18   19.28482092          3   \n",
       "..              ...         ...         ...      ...           ...        ...   \n",
       "683              10           9   901276512        5   28.09068022          5   \n",
       "684              10           9   901291985        4      1.791387          2   \n",
       "685              10           9   901355632       11       0.64787          1   \n",
       "686              10           9   901528604       24  102.03233168          9   \n",
       "687              10           9   901533899       17       0.45441          1   \n",
       "\n",
       "    Distrito-Zona    Cluster  \n",
       "0            10-1  Cluster 1  \n",
       "1            10-1  Cluster 1  \n",
       "2            10-1  Cluster 1  \n",
       "3            10-1  Cluster 1  \n",
       "4            10-1  Cluster 1  \n",
       "..            ...        ...  \n",
       "683          10-9  Cluster 0  \n",
       "684          10-9  Cluster 0  \n",
       "685          10-9  Cluster 0  \n",
       "686          10-9  Cluster 0  \n",
       "687          10-9  Cluster 0  \n",
       "\n",
       "[3434 rows x 8 columns]"
      ]
     },
     "execution_count": 75,
     "metadata": {},
     "output_type": "execute_result"
    }
   ],
   "source": [
    "df_predicted = pd.concat(list_pred)\n",
    "df_predicted"
   ]
  },
  {
   "cell_type": "code",
   "execution_count": 76,
   "metadata": {},
   "outputs": [
    {
     "data": {
      "text/plain": [
       "Text(0.5, 0, 'Frequency')"
      ]
     },
     "execution_count": 76,
     "metadata": {},
     "output_type": "execute_result"
    },
    {
     "data": {
      "image/png": "[encoded data removed]",
      "text/plain": [
       "<Figure size 700x1000 with 1 Axes>"
      ]
     },
     "metadata": {},
     "output_type": "display_data"
    }
   ],
   "source": [
    "fig = plt.figure(figsize=(7,10))\n",
    "ax = fig.gca(projection='3d')\n",
    "\n",
    "m = ['o', 'v', 's', 'p', '*']\n",
    "col =  ['blueviolet', 'limegreen', 'indianred', 'royalblue', 'magenta']\n",
    "leg = ['Cluster 0','Cluster 1','Cluster 2','Cluster 3']\n",
    "cluster = list(np.unique(df_predicted['Cluster']))\n",
    "\n",
    "for c in range(4):\n",
    "    df_plot = df_predicted[df_predicted['Cluster'] == cluster[c]]\n",
    "    ax.scatter(df_plot['Monetary'], df_plot['Recency'], df_plot['Frequency'], marker= m[c], c= col[c])\n",
    "    \n",
    "ax.legend(leg)\n",
    "ax.set_xlabel('Monetary')\n",
    "ax.set_ylabel('Recency')\n",
    "ax.set_zlabel('Frequency')"
   ]
  },
  {
   "cell_type": "code",
   "execution_count": 77,
   "metadata": {},
   "outputs": [
    {
     "data": {
      "text/html": [
       "<div>\n",
       "<style scoped>\n",
       "    .dataframe tbody tr th:only-of-type {\n",
       "        vertical-align: middle;\n",
       "    }\n",
       "\n",
       "    .dataframe tbody tr th {\n",
       "        vertical-align: top;\n",
       "    }\n",
       "\n",
       "    .dataframe thead th {\n",
       "        text-align: right;\n",
       "    }\n",
       "</style>\n",
       "<table border=\"1\" class=\"dataframe\">\n",
       "  <thead>\n",
       "    <tr style=\"text-align: right;\">\n",
       "      <th></th>\n",
       "      <th>Codigo distrito</th>\n",
       "      <th>Codigo zona</th>\n",
       "      <th>Nit cliente</th>\n",
       "      <th>Recency</th>\n",
       "      <th>Monetary</th>\n",
       "      <th>Frequency</th>\n",
       "      <th>Distrito-Zona</th>\n",
       "      <th>Cluster</th>\n",
       "    </tr>\n",
       "  </thead>\n",
       "  <tbody>\n",
       "    <tr>\n",
       "      <th>688</th>\n",
       "      <td>10</td>\n",
       "      <td>10</td>\n",
       "      <td>27602189</td>\n",
       "      <td>24</td>\n",
       "      <td>92.98001899</td>\n",
       "      <td>12</td>\n",
       "      <td>10-10</td>\n",
       "      <td>Cluster 4</td>\n",
       "    </tr>\n",
       "    <tr>\n",
       "      <th>689</th>\n",
       "      <td>10</td>\n",
       "      <td>10</td>\n",
       "      <td>51903957</td>\n",
       "      <td>21</td>\n",
       "      <td>3.08175</td>\n",
       "      <td>2</td>\n",
       "      <td>10-10</td>\n",
       "      <td>Cluster 3</td>\n",
       "    </tr>\n",
       "    <tr>\n",
       "      <th>690</th>\n",
       "      <td>10</td>\n",
       "      <td>10</td>\n",
       "      <td>74372895</td>\n",
       "      <td>23</td>\n",
       "      <td>7.272</td>\n",
       "      <td>1</td>\n",
       "      <td>10-10</td>\n",
       "      <td>Cluster 3</td>\n",
       "    </tr>\n",
       "    <tr>\n",
       "      <th>691</th>\n",
       "      <td>10</td>\n",
       "      <td>10</td>\n",
       "      <td>79208237</td>\n",
       "      <td>13</td>\n",
       "      <td>2.861958</td>\n",
       "      <td>1</td>\n",
       "      <td>10-10</td>\n",
       "      <td>Cluster 3</td>\n",
       "    </tr>\n",
       "    <tr>\n",
       "      <th>692</th>\n",
       "      <td>10</td>\n",
       "      <td>10</td>\n",
       "      <td>79263359</td>\n",
       "      <td>17</td>\n",
       "      <td>3.348082</td>\n",
       "      <td>1</td>\n",
       "      <td>10-10</td>\n",
       "      <td>Cluster 3</td>\n",
       "    </tr>\n",
       "    <tr>\n",
       "      <th>...</th>\n",
       "      <td>...</td>\n",
       "      <td>...</td>\n",
       "      <td>...</td>\n",
       "      <td>...</td>\n",
       "      <td>...</td>\n",
       "      <td>...</td>\n",
       "      <td>...</td>\n",
       "      <td>...</td>\n",
       "    </tr>\n",
       "    <tr>\n",
       "      <th>754</th>\n",
       "      <td>10</td>\n",
       "      <td>10</td>\n",
       "      <td>901538237</td>\n",
       "      <td>23</td>\n",
       "      <td>93.537627</td>\n",
       "      <td>7</td>\n",
       "      <td>10-10</td>\n",
       "      <td>Cluster 4</td>\n",
       "    </tr>\n",
       "    <tr>\n",
       "      <th>755</th>\n",
       "      <td>10</td>\n",
       "      <td>10</td>\n",
       "      <td>901553241</td>\n",
       "      <td>24</td>\n",
       "      <td>8.211971</td>\n",
       "      <td>4</td>\n",
       "      <td>10-10</td>\n",
       "      <td>Cluster 3</td>\n",
       "    </tr>\n",
       "    <tr>\n",
       "      <th>756</th>\n",
       "      <td>10</td>\n",
       "      <td>10</td>\n",
       "      <td>901569543</td>\n",
       "      <td>18</td>\n",
       "      <td>0.894824</td>\n",
       "      <td>1</td>\n",
       "      <td>10-10</td>\n",
       "      <td>Cluster 3</td>\n",
       "    </tr>\n",
       "    <tr>\n",
       "      <th>757</th>\n",
       "      <td>10</td>\n",
       "      <td>10</td>\n",
       "      <td>901581876</td>\n",
       "      <td>24</td>\n",
       "      <td>4.92107</td>\n",
       "      <td>3</td>\n",
       "      <td>10-10</td>\n",
       "      <td>Cluster 3</td>\n",
       "    </tr>\n",
       "    <tr>\n",
       "      <th>758</th>\n",
       "      <td>10</td>\n",
       "      <td>10</td>\n",
       "      <td>901628857</td>\n",
       "      <td>24</td>\n",
       "      <td>1.13729</td>\n",
       "      <td>1</td>\n",
       "      <td>10-10</td>\n",
       "      <td>Cluster 3</td>\n",
       "    </tr>\n",
       "  </tbody>\n",
       "</table>\n",
       "<p>71 rows × 8 columns</p>\n",
       "</div>"
      ],
      "text/plain": [
       "    Codigo distrito Codigo zona Nit cliente  Recency     Monetary  Frequency  \\\n",
       "688              10          10    27602189       24  92.98001899         12   \n",
       "689              10          10    51903957       21      3.08175          2   \n",
       "690              10          10    74372895       23        7.272          1   \n",
       "691              10          10    79208237       13     2.861958          1   \n",
       "692              10          10    79263359       17     3.348082          1   \n",
       "..              ...         ...         ...      ...          ...        ...   \n",
       "754              10          10   901538237       23    93.537627          7   \n",
       "755              10          10   901553241       24     8.211971          4   \n",
       "756              10          10   901569543       18     0.894824          1   \n",
       "757              10          10   901581876       24      4.92107          3   \n",
       "758              10          10   901628857       24      1.13729          1   \n",
       "\n",
       "    Distrito-Zona    Cluster  \n",
       "688         10-10  Cluster 4  \n",
       "689         10-10  Cluster 3  \n",
       "690         10-10  Cluster 3  \n",
       "691         10-10  Cluster 3  \n",
       "692         10-10  Cluster 3  \n",
       "..            ...        ...  \n",
       "754         10-10  Cluster 4  \n",
       "755         10-10  Cluster 3  \n",
       "756         10-10  Cluster 3  \n",
       "757         10-10  Cluster 3  \n",
       "758         10-10  Cluster 3  \n",
       "\n",
       "[71 rows x 8 columns]"
      ]
     },
     "execution_count": 77,
     "metadata": {},
     "output_type": "execute_result"
    }
   ],
   "source": [
    "df_predicted[df_predicted['Distrito-Zona'] == '10-10']"
   ]
  },
  {
   "cell_type": "code",
   "execution_count": 85,
   "metadata": {},
   "outputs": [
    {
     "data": {
      "text/html": [
       "<div>\n",
       "<style scoped>\n",
       "    .dataframe tbody tr th:only-of-type {\n",
       "        vertical-align: middle;\n",
       "    }\n",
       "\n",
       "    .dataframe tbody tr th {\n",
       "        vertical-align: top;\n",
       "    }\n",
       "\n",
       "    .dataframe thead th {\n",
       "        text-align: right;\n",
       "    }\n",
       "</style>\n",
       "<table border=\"1\" class=\"dataframe\">\n",
       "  <thead>\n",
       "    <tr style=\"text-align: right;\">\n",
       "      <th></th>\n",
       "      <th>Name</th>\n",
       "      <th>Display Name</th>\n",
       "      <th>Score Function</th>\n",
       "      <th>Scorer</th>\n",
       "      <th>Target</th>\n",
       "      <th>Args</th>\n",
       "      <th>Greater is Better</th>\n",
       "      <th>Needs Ground Truth</th>\n",
       "      <th>Custom</th>\n",
       "    </tr>\n",
       "    <tr>\n",
       "      <th>ID</th>\n",
       "      <th></th>\n",
       "      <th></th>\n",
       "      <th></th>\n",
       "      <th></th>\n",
       "      <th></th>\n",
       "      <th></th>\n",
       "      <th></th>\n",
       "      <th></th>\n",
       "      <th></th>\n",
       "    </tr>\n",
       "  </thead>\n",
       "  <tbody>\n",
       "    <tr>\n",
       "      <th>silhouette</th>\n",
       "      <td>Silhouette</td>\n",
       "      <td>Silhouette</td>\n",
       "      <td>&lt;function silhouette_score at 0x0000025F7FE27670&gt;</td>\n",
       "      <td>make_scorer(silhouette_score)</td>\n",
       "      <td>pred</td>\n",
       "      <td>{}</td>\n",
       "      <td>True</td>\n",
       "      <td>False</td>\n",
       "      <td>False</td>\n",
       "    </tr>\n",
       "    <tr>\n",
       "      <th>chs</th>\n",
       "      <td>Calinski-Harabasz</td>\n",
       "      <td>Calinski-Harabasz</td>\n",
       "      <td>&lt;function calinski_harabasz_score at 0x0000025...</td>\n",
       "      <td>make_scorer(calinski_harabasz_score)</td>\n",
       "      <td>pred</td>\n",
       "      <td>{}</td>\n",
       "      <td>True</td>\n",
       "      <td>False</td>\n",
       "      <td>False</td>\n",
       "    </tr>\n",
       "    <tr>\n",
       "      <th>db</th>\n",
       "      <td>Davies-Bouldin</td>\n",
       "      <td>Davies-Bouldin</td>\n",
       "      <td>&lt;function davies_bouldin_score at 0x0000025F7F...</td>\n",
       "      <td>make_scorer(davies_bouldin_score)</td>\n",
       "      <td>pred</td>\n",
       "      <td>{}</td>\n",
       "      <td>True</td>\n",
       "      <td>False</td>\n",
       "      <td>False</td>\n",
       "    </tr>\n",
       "    <tr>\n",
       "      <th>hs</th>\n",
       "      <td>Homogeneity Score</td>\n",
       "      <td>Homogeneity</td>\n",
       "      <td>&lt;function homogeneity_score at 0x0000025F7FE03...</td>\n",
       "      <td>make_scorer(homogeneity_score)</td>\n",
       "      <td>pred</td>\n",
       "      <td>{}</td>\n",
       "      <td>True</td>\n",
       "      <td>True</td>\n",
       "      <td>False</td>\n",
       "    </tr>\n",
       "    <tr>\n",
       "      <th>ari</th>\n",
       "      <td>Rand Index</td>\n",
       "      <td>Rand Index</td>\n",
       "      <td>&lt;function adjusted_rand_score at 0x0000025F7FE...</td>\n",
       "      <td>make_scorer(adjusted_rand_score)</td>\n",
       "      <td>pred</td>\n",
       "      <td>{}</td>\n",
       "      <td>True</td>\n",
       "      <td>True</td>\n",
       "      <td>False</td>\n",
       "    </tr>\n",
       "    <tr>\n",
       "      <th>cs</th>\n",
       "      <td>Completeness Score</td>\n",
       "      <td>Completeness</td>\n",
       "      <td>&lt;function completeness_score at 0x0000025F7FE0...</td>\n",
       "      <td>make_scorer(completeness_score)</td>\n",
       "      <td>pred</td>\n",
       "      <td>{}</td>\n",
       "      <td>True</td>\n",
       "      <td>True</td>\n",
       "      <td>False</td>\n",
       "    </tr>\n",
       "  </tbody>\n",
       "</table>\n",
       "</div>"
      ],
      "text/plain": [
       "                          Name       Display Name  \\\n",
       "ID                                                  \n",
       "silhouette          Silhouette         Silhouette   \n",
       "chs          Calinski-Harabasz  Calinski-Harabasz   \n",
       "db              Davies-Bouldin     Davies-Bouldin   \n",
       "hs           Homogeneity Score        Homogeneity   \n",
       "ari                 Rand Index         Rand Index   \n",
       "cs          Completeness Score       Completeness   \n",
       "\n",
       "                                               Score Function  \\\n",
       "ID                                                              \n",
       "silhouette  <function silhouette_score at 0x0000025F7FE27670>   \n",
       "chs         <function calinski_harabasz_score at 0x0000025...   \n",
       "db          <function davies_bouldin_score at 0x0000025F7F...   \n",
       "hs          <function homogeneity_score at 0x0000025F7FE03...   \n",
       "ari         <function adjusted_rand_score at 0x0000025F7FE...   \n",
       "cs          <function completeness_score at 0x0000025F7FE0...   \n",
       "\n",
       "                                          Scorer Target Args  \\\n",
       "ID                                                             \n",
       "silhouette         make_scorer(silhouette_score)   pred   {}   \n",
       "chs         make_scorer(calinski_harabasz_score)   pred   {}   \n",
       "db             make_scorer(davies_bouldin_score)   pred   {}   \n",
       "hs                make_scorer(homogeneity_score)   pred   {}   \n",
       "ari             make_scorer(adjusted_rand_score)   pred   {}   \n",
       "cs               make_scorer(completeness_score)   pred   {}   \n",
       "\n",
       "            Greater is Better  Needs Ground Truth  Custom  \n",
       "ID                                                         \n",
       "silhouette               True               False   False  \n",
       "chs                      True               False   False  \n",
       "db                       True               False   False  \n",
       "hs                       True                True   False  \n",
       "ari                      True                True   False  \n",
       "cs                       True                True   False  "
      ]
     },
     "execution_count": 85,
     "metadata": {},
     "output_type": "execute_result"
    }
   ],
   "source": [
    "get_metrics(model)"
   ]
  },
  {
   "cell_type": "code",
   "execution_count": 79,
   "metadata": {},
   "outputs": [
    {
     "data": {
      "application/vnd.plotly.v1+json": {
       "config": {
        "plotlyServerURL": "https://plot.ly"
       },
       "data": [
        {
         "customdata": [
          [
           null
          ],
          [
           null
          ],
          [
           null
          ],
          [
           null
          ],
          [
           null
          ],
          [
           null
          ],
          [
           null
          ],
          [
           null
          ],
          [
           null
          ],
          [
           null
          ],
          [
           null
          ],
          [
           null
          ],
          [
           null
          ],
          [
           null
          ],
          [
           null
          ],
          [
           null
          ],
          [
           null
          ],
          [
           null
          ],
          [
           null
          ],
          [
           null
          ],
          [
           null
          ],
          [
           null
          ],
          [
           null
          ],
          [
           null
          ],
          [
           null
          ],
          [
           null
          ],
          [
           null
          ],
          [
           null
          ],
          [
           null
          ],
          [
           null
          ],
          [
           null
          ],
          [
           null
          ],
          [
           null
          ],
          [
           null
          ],
          [
           null
          ],
          [
           null
          ],
          [
           null
          ],
          [
           null
          ],
          [
           null
          ],
          [
           null
          ],
          [
           null
          ],
          [
           null
          ],
          [
           null
          ],
          [
           null
          ],
          [
           null
          ],
          [
           null
          ],
          [
           null
          ],
          [
           null
          ],
          [
           null
          ],
          [
           null
          ],
          [
           null
          ],
          [
           null
          ],
          [
           null
          ],
          [
           null
          ],
          [
           null
          ],
          [
           null
          ],
          [
           null
          ],
          [
           null
          ],
          [
           null
          ],
          [
           null
          ],
          [
           null
          ],
          [
           null
          ],
          [
           null
          ],
          [
           null
          ],
          [
           null
          ],
          [
           null
          ],
          [
           null
          ],
          [
           null
          ],
          [
           null
          ],
          [
           null
          ],
          [
           null
          ],
          [
           null
          ],
          [
           null
          ],
          [
           null
          ],
          [
           null
          ],
          [
           null
          ],
          [
           null
          ],
          [
           null
          ],
          [
           null
          ],
          [
           null
          ],
          [
           null
          ],
          [
           null
          ],
          [
           null
          ],
          [
           null
          ],
          [
           null
          ],
          [
           null
          ],
          [
           null
          ],
          [
           null
          ],
          [
           null
          ],
          [
           null
          ],
          [
           null
          ],
          [
           null
          ],
          [
           null
          ],
          [
           null
          ],
          [
           null
          ],
          [
           null
          ],
          [
           null
          ],
          [
           null
          ],
          [
           null
          ],
          [
           null
          ],
          [
           null
          ],
          [
           null
          ],
          [
           null
          ],
          [
           null
          ],
          [
           null
          ],
          [
           null
          ],
          [
           null
          ],
          [
           null
          ],
          [
           null
          ],
          [
           null
          ],
          [
           null
          ],
          [
           null
          ],
          [
           null
          ]
         ],
         "hovertemplate": "Cluster=Cluster 0<br>PCA1=%{x}<br>PCA2=%{y}<br>Feature=%{customdata[0]}<extra></extra>",
         "legendgroup": "Cluster 0",
         "marker": {
          "color": "#636efa",
          "opacity": 0.5,
          "symbol": "circle"
         },
         "mode": "markers",
         "name": "Cluster 0",
         "orientation": "v",
         "showlegend": true,
         "textposition": "top center",
         "type": "scatter",
         "x": [
          -173.6636,
          -147.56856,
          -147.52509,
          -148.65005,
          -149.64282,
          -150.55872,
          -151.64276,
          -151.67654,
          -152.55232,
          -152.584,
          -153.54639,
          -155.54633,
          -146.6573,
          -156.64256,
          -157.55125,
          -157.65688,
          -157.64969,
          -160.65677,
          -160.61328,
          -162.61699,
          -162.55281,
          -163.64946,
          -164.6393,
          -164.67097,
          -164.64943,
          -157.53186,
          -142.475,
          -141.64313,
          -141.55405,
          120.53636,
          18.53311,
          -2.501972,
          -11.648166,
          -20.494106,
          -46.464367,
          -53.521557,
          -58.64635,
          -67.520996,
          -78.645584,
          -94.52714,
          -94.64496,
          -96.448074,
          -98.67652,
          -105.6517,
          -107.5051,
          -111.50493,
          -111.454666,
          -123.43265,
          -130.46828,
          -130.67738,
          -133.46101,
          -134.53276,
          -135.48247,
          -136.53987,
          -164.58057,
          -164.68114,
          -162.64232,
          -165.64221,
          -168.61295,
          -169.6788,
          -169.6687,
          -165.65657,
          -169.68094,
          -169.66151,
          -169.66064,
          -169.62517,
          -169.68094,
          -169.57953,
          -169.60997,
          -169.67587,
          -169.6788,
          -169.63614,
          -169.68599,
          -169.62811,
          -169.65556,
          -169.67078,
          -169.66573,
          -169.67078,
          -169.66573,
          -169.56015,
          -169.63025,
          -169.67587,
          -169.67877,
          -168.6759,
          -168.56522,
          -169.64038,
          -168.5804,
          -166.67598,
          -166.64934,
          -166.67088,
          -166.64934,
          -166.65652,
          -168.61,
          -167.66368,
          -167.65565,
          -167.69115,
          -167.6565,
          -167.67593,
          -167.6493,
          -166.62527,
          -167.60287,
          -167.63033,
          -168.66873,
          -168.59476,
          -168.55804,
          -168.6252,
          -168.68602,
          -168.66365,
          -168.64928,
          -168.66873,
          -168.67883,
          -168.62013,
          -168.68602
         ],
         "xaxis": "x",
         "y": [
          -7.7716603,
          3.21187,
          11.696481,
          -7.066972,
          -6.609994,
          9.029438,
          -6.5944924,
          -9.284787,
          7.71247,
          4.5780206,
          10.395301,
          10.410802,
          -7.5317,
          -6.55574,
          9.53292,
          -7.4464445,
          -6.9972167,
          -7.4231925,
          1.061419,
          -2.0423167,
          6.0082803,
          -6.950713,
          -5.1561947,
          -8.290646,
          -6.942962,
          11.324759,
          14.8023205,
          -6.6719975,
          9.853066,
          14.11161,
          14.452939,
          12.369562,
          -7.6795683,
          12.958299,
          14.956723,
          11.417157,
          -7.3152924,
          11.525664,
          -7.160282,
          11.285703,
          -7.0362735,
          16.242704,
          -10.139721,
          -7.4002447,
          12.734141,
          12.765143,
          15.909736,
          17.350424,
          15.158541,
          -9.447549,
          15.6310215,
          11.146496,
          14.29884,
          10.712769,
          6.0085673,
          -10.077414,
          -6.509237,
          -6.4859853,
          1.1234231,
          -10.482817,
          -8.69605,
          -7.3844395,
          -10.03866,
          -8.246821,
          -6.4651246,
          -0.21143803,
          -10.03866,
          7.829016,
          2.4687135,
          -9.145277,
          -10.482817,
          -3.779902,
          -10.932045,
          -1.5489782,
          -5.5717406,
          -8.251892,
          -7.3585086,
          -8.251892,
          -7.3585086,
          9.620854,
          -1.1048217,
          -9.145277,
          -10.482816,
          -9.1530285,
          8.719722,
          -2.8915894,
          6.039569,
          -9.168529,
          -6.9274616,
          -8.275144,
          -6.9274616,
          -7.3766894,
          2.4609632,
          -7.818166,
          -5.5872416,
          -11.840929,
          -7.3689384,
          -9.160778,
          -6.9197106,
          -0.23468952,
          2.9024403,
          -1.120323,
          -8.7038,
          5.1411138,
          9.168949,
          -0.21918853,
          -10.939795,
          -7.8104157,
          -6.911961,
          -8.7038,
          -10.490567,
          0.67419565,
          -10.939795
         ],
         "yaxis": "y"
        },
        {
         "customdata": [
          [
           null
          ],
          [
           null
          ]
         ],
         "hovertemplate": "Cluster=Cluster 1<br>PCA1=%{x}<br>PCA2=%{y}<br>Feature=%{customdata[0]}<extra></extra>",
         "legendgroup": "Cluster 1",
         "marker": {
          "color": "#EF553B",
          "opacity": 0.5,
          "symbol": "circle"
         },
         "mode": "markers",
         "name": "Cluster 1",
         "orientation": "v",
         "showlegend": true,
         "textposition": "top center",
         "type": "scatter",
         "x": [
          3260.4578,
          2893.4722
         ],
         "xaxis": "x",
         "y": [
          -7.529733,
          -4.6852827
         ],
         "yaxis": "y"
        },
        {
         "customdata": [
          [
           null
          ],
          [
           null
          ],
          [
           null
          ],
          [
           null
          ],
          [
           null
          ],
          [
           null
          ],
          [
           null
          ],
          [
           null
          ],
          [
           null
          ]
         ],
         "hovertemplate": "Cluster=Cluster 2<br>PCA1=%{x}<br>PCA2=%{y}<br>Feature=%{customdata[0]}<extra></extra>",
         "legendgroup": "Cluster 2",
         "marker": {
          "color": "#00cc96",
          "opacity": 0.5,
          "symbol": "circle"
         },
         "mode": "markers",
         "name": "Cluster 2",
         "orientation": "v",
         "showlegend": true,
         "textposition": "top center",
         "type": "scatter",
         "x": [
          565.54065,
          680.5362,
          473.5299,
          260.52292,
          364.50748,
          350.57056,
          315.51447,
          309.45004,
          382.54062
         ],
         "xaxis": "x",
         "y": [
          12.0103,
          11.118987,
          11.824895,
          10.79561,
          10.428639,
          15.02435,
          11.701798,
          7.705254,
          12.979423
         ],
         "yaxis": "y"
        },
        {
         "customdata": [
          [
           null
          ],
          [
           null
          ]
         ],
         "hovertemplate": "Cluster=Cluster 3<br>PCA1=%{x}<br>PCA2=%{y}<br>Feature=%{customdata[0]}<extra></extra>",
         "legendgroup": "Cluster 3",
         "marker": {
          "color": "#ab63fa",
          "opacity": 0.5,
          "symbol": "circle"
         },
         "mode": "markers",
         "name": "Cluster 3",
         "orientation": "v",
         "showlegend": true,
         "textposition": "top center",
         "type": "scatter",
         "x": [
          1081.5422,
          1369.5024
         ],
         "xaxis": "x",
         "y": [
          9.358703,
          5.3296356
         ],
         "yaxis": "y"
        },
        {
         "customdata": [
          [
           null
          ]
         ],
         "hovertemplate": "Cluster=Cluster 4<br>PCA1=%{x}<br>PCA2=%{y}<br>Feature=%{customdata[0]}<extra></extra>",
         "legendgroup": "Cluster 4",
         "marker": {
          "color": "#FFA15A",
          "opacity": 0.5,
          "symbol": "circle"
         },
         "mode": "markers",
         "name": "Cluster 4",
         "orientation": "v",
         "showlegend": true,
         "textposition": "top center",
         "type": "scatter",
         "x": [
          4070.4272
         ],
         "xaxis": "x",
         "y": [
          -13.807673
         ],
         "yaxis": "y"
        }
       ],
       "layout": {
        "height": 600,
        "legend": {
         "title": {
          "text": "Cluster"
         },
         "tracegroupgap": 0
        },
        "margin": {
         "t": 60
        },
        "plot_bgcolor": "rgb(240,240,240)",
        "template": {
         "data": {
          "bar": [
           {
            "error_x": {
             "color": "#2a3f5f"
            },
            "error_y": {
             "color": "#2a3f5f"
            },
            "marker": {
             "line": {
              "color": "#E5ECF6",
              "width": 0.5
             },
             "pattern": {
              "fillmode": "overlay",
              "size": 10,
              "solidity": 0.2
             }
            },
            "type": "bar"
           }
          ],
          "barpolar": [
           {
            "marker": {
             "line": {
              "color": "#E5ECF6",
              "width": 0.5
             },
             "pattern": {
              "fillmode": "overlay",
              "size": 10,
              "solidity": 0.2
             }
            },
            "type": "barpolar"
           }
          ],
          "carpet": [
           {
            "aaxis": {
             "endlinecolor": "#2a3f5f",
             "gridcolor": "white",
             "linecolor": "white",
             "minorgridcolor": "white",
             "startlinecolor": "#2a3f5f"
            },
            "baxis": {
             "endlinecolor": "#2a3f5f",
             "gridcolor": "white",
             "linecolor": "white",
             "minorgridcolor": "white",
             "startlinecolor": "#2a3f5f"
            },
            "type": "carpet"
           }
          ],
          "choropleth": [
           {
            "colorbar": {
             "outlinewidth": 0,
             "ticks": ""
            },
            "type": "choropleth"
           }
          ],
          "contour": [
           {
            "colorbar": {
             "outlinewidth": 0,
             "ticks": ""
            },
            "colorscale": [
             [
              0,
              "#0d0887"
             ],
             [
              0.1111111111111111,
              "#46039f"
             ],
             [
              0.2222222222222222,
              "#7201a8"
             ],
             [
              0.3333333333333333,
              "#9c179e"
             ],
             [
              0.4444444444444444,
              "#bd3786"
             ],
             [
              0.5555555555555556,
              "#d8576b"
             ],
             [
              0.6666666666666666,
              "#ed7953"
             ],
             [
              0.7777777777777778,
              "#fb9f3a"
             ],
             [
              0.8888888888888888,
              "#fdca26"
             ],
             [
              1,
              "#f0f921"
             ]
            ],
            "type": "contour"
           }
          ],
          "contourcarpet": [
           {
            "colorbar": {
             "outlinewidth": 0,
             "ticks": ""
            },
            "type": "contourcarpet"
           }
          ],
          "heatmap": [
           {
            "colorbar": {
             "outlinewidth": 0,
             "ticks": ""
            },
            "colorscale": [
             [
              0,
              "#0d0887"
             ],
             [
              0.1111111111111111,
              "#46039f"
             ],
             [
              0.2222222222222222,
              "#7201a8"
             ],
             [
              0.3333333333333333,
              "#9c179e"
             ],
             [
              0.4444444444444444,
              "#bd3786"
             ],
             [
              0.5555555555555556,
              "#d8576b"
             ],
             [
              0.6666666666666666,
              "#ed7953"
             ],
             [
              0.7777777777777778,
              "#fb9f3a"
             ],
             [
              0.8888888888888888,
              "#fdca26"
             ],
             [
              1,
              "#f0f921"
             ]
            ],
            "type": "heatmap"
           }
          ],
          "heatmapgl": [
           {
            "colorbar": {
             "outlinewidth": 0,
             "ticks": ""
            },
            "colorscale": [
             [
              0,
              "#0d0887"
             ],
             [
              0.1111111111111111,
              "#46039f"
             ],
             [
              0.2222222222222222,
              "#7201a8"
             ],
             [
              0.3333333333333333,
              "#9c179e"
             ],
             [
              0.4444444444444444,
              "#bd3786"
             ],
             [
              0.5555555555555556,
              "#d8576b"
             ],
             [
              0.6666666666666666,
              "#ed7953"
             ],
             [
              0.7777777777777778,
              "#fb9f3a"
             ],
             [
              0.8888888888888888,
              "#fdca26"
             ],
             [
              1,
              "#f0f921"
             ]
            ],
            "type": "heatmapgl"
           }
          ],
          "histogram": [
           {
            "marker": {
             "pattern": {
              "fillmode": "overlay",
              "size": 10,
              "solidity": 0.2
             }
            },
            "type": "histogram"
           }
          ],
          "histogram2d": [
           {
            "colorbar": {
             "outlinewidth": 0,
             "ticks": ""
            },
            "colorscale": [
             [
              0,
              "#0d0887"
             ],
             [
              0.1111111111111111,
              "#46039f"
             ],
             [
              0.2222222222222222,
              "#7201a8"
             ],
             [
              0.3333333333333333,
              "#9c179e"
             ],
             [
              0.4444444444444444,
              "#bd3786"
             ],
             [
              0.5555555555555556,
              "#d8576b"
             ],
             [
              0.6666666666666666,
              "#ed7953"
             ],
             [
              0.7777777777777778,
              "#fb9f3a"
             ],
             [
              0.8888888888888888,
              "#fdca26"
             ],
             [
              1,
              "#f0f921"
             ]
            ],
            "type": "histogram2d"
           }
          ],
          "histogram2dcontour": [
           {
            "colorbar": {
             "outlinewidth": 0,
             "ticks": ""
            },
            "colorscale": [
             [
              0,
              "#0d0887"
             ],
             [
              0.1111111111111111,
              "#46039f"
             ],
             [
              0.2222222222222222,
              "#7201a8"
             ],
             [
              0.3333333333333333,
              "#9c179e"
             ],
             [
              0.4444444444444444,
              "#bd3786"
             ],
             [
              0.5555555555555556,
              "#d8576b"
             ],
             [
              0.6666666666666666,
              "#ed7953"
             ],
             [
              0.7777777777777778,
              "#fb9f3a"
             ],
             [
              0.8888888888888888,
              "#fdca26"
             ],
             [
              1,
              "#f0f921"
             ]
            ],
            "type": "histogram2dcontour"
           }
          ],
          "mesh3d": [
           {
            "colorbar": {
             "outlinewidth": 0,
             "ticks": ""
            },
            "type": "mesh3d"
           }
          ],
          "parcoords": [
           {
            "line": {
             "colorbar": {
              "outlinewidth": 0,
              "ticks": ""
             }
            },
            "type": "parcoords"
           }
          ],
          "pie": [
           {
            "automargin": true,
            "type": "pie"
           }
          ],
          "scatter": [
           {
            "fillpattern": {
             "fillmode": "overlay",
             "size": 10,
             "solidity": 0.2
            },
            "type": "scatter"
           }
          ],
          "scatter3d": [
           {
            "line": {
             "colorbar": {
              "outlinewidth": 0,
              "ticks": ""
             }
            },
            "marker": {
             "colorbar": {
              "outlinewidth": 0,
              "ticks": ""
             }
            },
            "type": "scatter3d"
           }
          ],
          "scattercarpet": [
           {
            "marker": {
             "colorbar": {
              "outlinewidth": 0,
              "ticks": ""
             }
            },
            "type": "scattercarpet"
           }
          ],
          "scattergeo": [
           {
            "marker": {
             "colorbar": {
              "outlinewidth": 0,
              "ticks": ""
             }
            },
            "type": "scattergeo"
           }
          ],
          "scattergl": [
           {
            "marker": {
             "colorbar": {
              "outlinewidth": 0,
              "ticks": ""
             }
            },
            "type": "scattergl"
           }
          ],
          "scattermapbox": [
           {
            "marker": {
             "colorbar": {
              "outlinewidth": 0,
              "ticks": ""
             }
            },
            "type": "scattermapbox"
           }
          ],
          "scatterpolar": [
           {
            "marker": {
             "colorbar": {
              "outlinewidth": 0,
              "ticks": ""
             }
            },
            "type": "scatterpolar"
           }
          ],
          "scatterpolargl": [
           {
            "marker": {
             "colorbar": {
              "outlinewidth": 0,
              "ticks": ""
             }
            },
            "type": "scatterpolargl"
           }
          ],
          "scatterternary": [
           {
            "marker": {
             "colorbar": {
              "outlinewidth": 0,
              "ticks": ""
             }
            },
            "type": "scatterternary"
           }
          ],
          "surface": [
           {
            "colorbar": {
             "outlinewidth": 0,
             "ticks": ""
            },
            "colorscale": [
             [
              0,
              "#0d0887"
             ],
             [
              0.1111111111111111,
              "#46039f"
             ],
             [
              0.2222222222222222,
              "#7201a8"
             ],
             [
              0.3333333333333333,
              "#9c179e"
             ],
             [
              0.4444444444444444,
              "#bd3786"
             ],
             [
              0.5555555555555556,
              "#d8576b"
             ],
             [
              0.6666666666666666,
              "#ed7953"
             ],
             [
              0.7777777777777778,
              "#fb9f3a"
             ],
             [
              0.8888888888888888,
              "#fdca26"
             ],
             [
              1,
              "#f0f921"
             ]
            ],
            "type": "surface"
           }
          ],
          "table": [
           {
            "cells": {
             "fill": {
              "color": "#EBF0F8"
             },
             "line": {
              "color": "white"
             }
            },
            "header": {
             "fill": {
              "color": "#C8D4E3"
             },
             "line": {
              "color": "white"
             }
            },
            "type": "table"
           }
          ]
         },
         "layout": {
          "annotationdefaults": {
           "arrowcolor": "#2a3f5f",
           "arrowhead": 0,
           "arrowwidth": 1
          },
          "autotypenumbers": "strict",
          "coloraxis": {
           "colorbar": {
            "outlinewidth": 0,
            "ticks": ""
           }
          },
          "colorscale": {
           "diverging": [
            [
             0,
             "#8e0152"
            ],
            [
             0.1,
             "#c51b7d"
            ],
            [
             0.2,
             "#de77ae"
            ],
            [
             0.3,
             "#f1b6da"
            ],
            [
             0.4,
             "#fde0ef"
            ],
            [
             0.5,
             "#f7f7f7"
            ],
            [
             0.6,
             "#e6f5d0"
            ],
            [
             0.7,
             "#b8e186"
            ],
            [
             0.8,
             "#7fbc41"
            ],
            [
             0.9,
             "#4d9221"
            ],
            [
             1,
             "#276419"
            ]
           ],
           "sequential": [
            [
             0,
             "#0d0887"
            ],
            [
             0.1111111111111111,
             "#46039f"
            ],
            [
             0.2222222222222222,
             "#7201a8"
            ],
            [
             0.3333333333333333,
             "#9c179e"
            ],
            [
             0.4444444444444444,
             "#bd3786"
            ],
            [
             0.5555555555555556,
             "#d8576b"
            ],
            [
             0.6666666666666666,
             "#ed7953"
            ],
            [
             0.7777777777777778,
             "#fb9f3a"
            ],
            [
             0.8888888888888888,
             "#fdca26"
            ],
            [
             1,
             "#f0f921"
            ]
           ],
           "sequentialminus": [
            [
             0,
             "#0d0887"
            ],
            [
             0.1111111111111111,
             "#46039f"
            ],
            [
             0.2222222222222222,
             "#7201a8"
            ],
            [
             0.3333333333333333,
             "#9c179e"
            ],
            [
             0.4444444444444444,
             "#bd3786"
            ],
            [
             0.5555555555555556,
             "#d8576b"
            ],
            [
             0.6666666666666666,
             "#ed7953"
            ],
            [
             0.7777777777777778,
             "#fb9f3a"
            ],
            [
             0.8888888888888888,
             "#fdca26"
            ],
            [
             1,
             "#f0f921"
            ]
           ]
          },
          "colorway": [
           "#636efa",
           "#EF553B",
           "#00cc96",
           "#ab63fa",
           "#FFA15A",
           "#19d3f3",
           "#FF6692",
           "#B6E880",
           "#FF97FF",
           "#FECB52"
          ],
          "font": {
           "color": "#2a3f5f"
          },
          "geo": {
           "bgcolor": "white",
           "lakecolor": "white",
           "landcolor": "#E5ECF6",
           "showlakes": true,
           "showland": true,
           "subunitcolor": "white"
          },
          "hoverlabel": {
           "align": "left"
          },
          "hovermode": "closest",
          "mapbox": {
           "style": "light"
          },
          "paper_bgcolor": "white",
          "plot_bgcolor": "#E5ECF6",
          "polar": {
           "angularaxis": {
            "gridcolor": "white",
            "linecolor": "white",
            "ticks": ""
           },
           "bgcolor": "#E5ECF6",
           "radialaxis": {
            "gridcolor": "white",
            "linecolor": "white",
            "ticks": ""
           }
          },
          "scene": {
           "xaxis": {
            "backgroundcolor": "#E5ECF6",
            "gridcolor": "white",
            "gridwidth": 2,
            "linecolor": "white",
            "showbackground": true,
            "ticks": "",
            "zerolinecolor": "white"
           },
           "yaxis": {
            "backgroundcolor": "#E5ECF6",
            "gridcolor": "white",
            "gridwidth": 2,
            "linecolor": "white",
            "showbackground": true,
            "ticks": "",
            "zerolinecolor": "white"
           },
           "zaxis": {
            "backgroundcolor": "#E5ECF6",
            "gridcolor": "white",
            "gridwidth": 2,
            "linecolor": "white",
            "showbackground": true,
            "ticks": "",
            "zerolinecolor": "white"
           }
          },
          "shapedefaults": {
           "line": {
            "color": "#2a3f5f"
           }
          },
          "ternary": {
           "aaxis": {
            "gridcolor": "white",
            "linecolor": "white",
            "ticks": ""
           },
           "baxis": {
            "gridcolor": "white",
            "linecolor": "white",
            "ticks": ""
           },
           "bgcolor": "#E5ECF6",
           "caxis": {
            "gridcolor": "white",
            "linecolor": "white",
            "ticks": ""
           }
          },
          "title": {
           "x": 0.05
          },
          "xaxis": {
           "automargin": true,
           "gridcolor": "white",
           "linecolor": "white",
           "ticks": "",
           "title": {
            "standoff": 15
           },
           "zerolinecolor": "white",
           "zerolinewidth": 2
          },
          "yaxis": {
           "automargin": true,
           "gridcolor": "white",
           "linecolor": "white",
           "ticks": "",
           "title": {
            "standoff": 15
           },
           "zerolinecolor": "white",
           "zerolinewidth": 2
          }
         }
        },
        "title": {
         "text": "2D Cluster PCA Plot"
        },
        "xaxis": {
         "anchor": "y",
         "domain": [
          0,
          1
         ],
         "title": {
          "text": "PCA1"
         }
        },
        "yaxis": {
         "anchor": "x",
         "domain": [
          0,
          1
         ],
         "title": {
          "text": "PCA2"
         }
        }
       }
      }
     },
     "metadata": {},
     "output_type": "display_data"
    },
    {
     "data": {
      "application/vnd.jupyter.widget-view+json": {
       "model_id": "91eff31f160d4a21ab1bfcb97cdf1511",
       "version_major": 2,
       "version_minor": 0
      },
      "text/plain": [
       "interactive(children=(ToggleButtons(description='Plot Type:', icons=('',), options=(('Cluster PCA Plot (2d)', …"
      ]
     },
     "metadata": {},
     "output_type": "display_data"
    }
   ],
   "source": [
    "evaluate_model(model)"
   ]
  },
  {
   "cell_type": "code",
   "execution_count": 80,
   "metadata": {},
   "outputs": [
    {
     "data": {
      "image/png": "[encoded data removed]",
      "text/plain": [
       "<Figure size 800x550 with 1 Axes>"
      ]
     },
     "metadata": {},
     "output_type": "display_data"
    }
   ],
   "source": [
    "plot_model(model, plot = 'elbow')"
   ]
  },
  {
   "cell_type": "code",
   "execution_count": 81,
   "metadata": {},
   "outputs": [
    {
     "data": {
      "image/png": "[encoded data removed]",
      "text/plain": [
       "<Figure size 800x550 with 1 Axes>"
      ]
     },
     "metadata": {},
     "output_type": "display_data"
    }
   ],
   "source": [
    "plot_model(model, plot = 'silhouette')"
   ]
  }
 ],
 "metadata": {
  "kernelspec": {
   "display_name": "Python 3.8.13 ('py38')",
   "language": "python",
   "name": "python3"
  },
  "language_info": {
   "codemirror_mode": {
    "name": "ipython",
    "version": 3
   },
   "file_extension": ".py",
   "mimetype": "text/x-python",
   "name": "python",
   "nbconvert_exporter": "python",
   "pygments_lexer": "ipython3",
   "version": "3.8.13"
  },
  "orig_nbformat": 4,
  "vscode": {
   "interpreter": {
    "hash": "d6c6a9368ffd28e969f7d90a4d7c29e7466278b3cb1a367b914bbfe92c83c635"
   }
  }
 },
 "nbformat": 4,
 "nbformat_minor": 2
}
