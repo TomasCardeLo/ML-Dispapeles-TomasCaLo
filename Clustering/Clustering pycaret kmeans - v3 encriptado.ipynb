{
 "cells": [
  {
   "cell_type": "code",
   "execution_count": null,
   "metadata": {},
   "outputs": [],
   "source": [
    "!pip install pycaret "
   ]
  },
  {
   "attachments": {},
   "cell_type": "markdown",
   "metadata": {},
   "source": [
    "##### Cargue de librerias"
   ]
  },
  {
   "cell_type": "code",
   "execution_count": 1,
   "metadata": {},
   "outputs": [],
   "source": [
    "from pycaret.clustering import *\n",
    "\n",
    "import pyodbc\n",
    "import pandas as pd\n",
    "import numpy as np\n",
    "import matplotlib.pyplot as plt\n",
    "import seaborn as sns\n",
    "from random import randint\n",
    "\n",
    "import warnings\n",
    "warnings.filterwarnings(\"ignore\")"
   ]
  },
  {
   "cell_type": "code",
   "execution_count": 16,
   "metadata": {},
   "outputs": [],
   "source": [
    "df_3 = pd.read_csv('C:/Users/tcardenas/OneDrive/OneDrive - Grupo DISPAPELES/Documents/ML-Dispapeles-TomasCaLo/Clustering/base clustering encriptado.csv',\n",
    "                    encoding = 'unicode_escape', decimal= \",\", sep= \";\")"
   ]
  },
  {
   "attachments": {},
   "cell_type": "markdown",
   "metadata": {},
   "source": [
    "##### Creacion, ajuste y descarga de los modelos de clustering por cada distrito-tipo de zona"
   ]
  },
  {
   "cell_type": "code",
   "execution_count": 17,
   "metadata": {},
   "outputs": [],
   "source": [
    "list_dtos = df_3[\"Distrito-Nombretipozona\"].unique()\n",
    "numeric_features = [\"Recency\", \"Monetary\", \"Frequency\"]\n",
    "ignore_columns = [\"Codigo distrito\", \"Nombre tipo zona\", \"Nit cliente-sucursal\", \"Distrito-Nombretipozona\"]\n",
    "normalizar = [False, True]"
   ]
  },
  {
   "attachments": {},
   "cell_type": "markdown",
   "metadata": {},
   "source": [
    "##### Dos modelos, norm= True y norm= False"
   ]
  },
  {
   "cell_type": "code",
   "execution_count": 18,
   "metadata": {},
   "outputs": [
    {
     "name": "stdout",
     "output_type": "stream",
     "text": [
      "Procesando modelo normalizado False 1 de 67. 1.5%\n",
      "Procesando modelo normalizado False 2 de 67. 3.0%\n",
      "Procesando modelo normalizado False 3 de 67. 4.5%\n",
      "Procesando modelo normalizado False 4 de 67. 6.0%\n",
      "Procesando modelo normalizado False 5 de 67. 7.5%\n",
      "Procesando modelo normalizado False 6 de 67. 9.0%\n",
      "Procesando modelo normalizado False 7 de 67. 10.4%\n",
      "Procesando modelo normalizado False 8 de 67. 11.9%\n",
      "Procesando modelo normalizado False 9 de 67. 13.4%\n",
      "Procesando modelo normalizado False 10 de 67. 14.9%\n",
      "Procesando modelo normalizado False 11 de 67. 16.4%\n",
      "Procesando modelo normalizado False 12 de 67. 17.9%\n",
      "Procesando modelo normalizado False 13 de 67. 19.4%\n",
      "Procesando modelo normalizado False 14 de 67. 20.9%\n",
      "Procesando modelo normalizado False 15 de 67. 22.4%\n",
      "Procesando modelo normalizado False 16 de 67. 23.9%\n",
      "Procesando modelo normalizado False 17 de 67. 25.4%\n",
      "Procesando modelo normalizado False 18 de 67. 26.9%\n",
      "Procesando modelo normalizado False 19 de 67. 28.4%\n",
      "Procesando modelo normalizado False 20 de 67. 29.9%\n",
      "Procesando modelo normalizado False 21 de 67. 31.3%\n",
      "Procesando modelo normalizado False 22 de 67. 32.8%\n",
      "Procesando modelo normalizado False 23 de 67. 34.3%\n",
      "Procesando modelo normalizado False 24 de 67. 35.8%\n",
      "Procesando modelo normalizado False 25 de 67. 37.3%\n",
      "Procesando modelo normalizado False 26 de 67. 38.8%\n",
      "Procesando modelo normalizado False 27 de 67. 40.3%\n",
      "Procesando modelo normalizado False 28 de 67. 41.8%\n",
      "Procesando modelo normalizado False 29 de 67. 43.3%\n",
      "Procesando modelo normalizado False 30 de 67. 44.8%\n",
      "Procesando modelo normalizado False 31 de 67. 46.3%\n",
      "Procesando modelo normalizado False 32 de 67. 47.8%\n",
      "Procesando modelo normalizado False 33 de 67. 49.3%\n",
      "Procesando modelo normalizado False 34 de 67. 50.7%\n",
      "Procesando modelo normalizado False 35 de 67. 52.2%\n",
      "Procesando modelo normalizado False 36 de 67. 53.7%\n",
      "Procesando modelo normalizado False 37 de 67. 55.2%\n",
      "Procesando modelo normalizado False 38 de 67. 56.7%\n",
      "Procesando modelo normalizado False 39 de 67. 58.2%\n",
      "Procesando modelo normalizado False 40 de 67. 59.7%\n",
      "Procesando modelo normalizado False 41 de 67. 61.2%\n",
      "Procesando modelo normalizado False 42 de 67. 62.7%\n",
      "Procesando modelo normalizado False 43 de 67. 64.2%\n",
      "Procesando modelo normalizado False 44 de 67. 65.7%\n",
      "Procesando modelo normalizado False 45 de 67. 67.2%\n",
      "Procesando modelo normalizado False 46 de 67. 68.7%\n",
      "Procesando modelo normalizado False 47 de 67. 70.1%\n",
      "Procesando modelo normalizado False 48 de 67. 71.6%\n",
      "Procesando modelo normalizado False 49 de 67. 73.1%\n",
      "Procesando modelo normalizado False 50 de 67. 74.6%\n",
      "Procesando modelo normalizado False 51 de 67. 76.1%\n",
      "Procesando modelo normalizado False 52 de 67. 77.6%\n",
      "Procesando modelo normalizado False 53 de 67. 79.1%\n",
      "Procesando modelo normalizado False 54 de 67. 80.6%\n",
      "Procesando modelo normalizado False 55 de 67. 82.1%\n",
      "Procesando modelo normalizado False 56 de 67. 83.6%\n",
      "Procesando modelo normalizado False 57 de 67. 85.1%\n",
      "Procesando modelo normalizado False 58 de 67. 86.6%\n",
      "Procesando modelo normalizado False 59 de 67. 88.1%\n",
      "Procesando modelo normalizado False 60 de 67. 89.6%\n",
      "Procesando modelo normalizado False 61 de 67. 91.0%\n",
      "Procesando modelo normalizado False 62 de 67. 92.5%\n",
      "Procesando modelo normalizado False 63 de 67. 94.0%\n",
      "Procesando modelo normalizado False 64 de 67. 95.5%\n",
      "Procesando modelo normalizado False 65 de 67. 97.0%\n",
      "Procesando modelo normalizado False 66 de 67. 98.5%\n",
      "Procesando modelo normalizado False 67 de 67. 100.0%\n",
      "Procesando modelo normalizado True 1 de 67. 1.5%\n",
      "Procesando modelo normalizado True 2 de 67. 3.0%\n",
      "Procesando modelo normalizado True 3 de 67. 4.5%\n",
      "Procesando modelo normalizado True 4 de 67. 6.0%\n",
      "Procesando modelo normalizado True 5 de 67. 7.5%\n",
      "Procesando modelo normalizado True 6 de 67. 9.0%\n",
      "Procesando modelo normalizado True 7 de 67. 10.4%\n",
      "Procesando modelo normalizado True 8 de 67. 11.9%\n",
      "Procesando modelo normalizado True 9 de 67. 13.4%\n",
      "Procesando modelo normalizado True 10 de 67. 14.9%\n",
      "Procesando modelo normalizado True 11 de 67. 16.4%\n",
      "Procesando modelo normalizado True 12 de 67. 17.9%\n",
      "Procesando modelo normalizado True 13 de 67. 19.4%\n",
      "Procesando modelo normalizado True 14 de 67. 20.9%\n",
      "Procesando modelo normalizado True 15 de 67. 22.4%\n",
      "Procesando modelo normalizado True 16 de 67. 23.9%\n",
      "Procesando modelo normalizado True 17 de 67. 25.4%\n",
      "Procesando modelo normalizado True 18 de 67. 26.9%\n",
      "Procesando modelo normalizado True 19 de 67. 28.4%\n",
      "Procesando modelo normalizado True 20 de 67. 29.9%\n",
      "Procesando modelo normalizado True 21 de 67. 31.3%\n",
      "Procesando modelo normalizado True 22 de 67. 32.8%\n",
      "Procesando modelo normalizado True 23 de 67. 34.3%\n",
      "Procesando modelo normalizado True 24 de 67. 35.8%\n",
      "Procesando modelo normalizado True 25 de 67. 37.3%\n",
      "Procesando modelo normalizado True 26 de 67. 38.8%\n",
      "Procesando modelo normalizado True 27 de 67. 40.3%\n",
      "Procesando modelo normalizado True 28 de 67. 41.8%\n",
      "Procesando modelo normalizado True 29 de 67. 43.3%\n",
      "Procesando modelo normalizado True 30 de 67. 44.8%\n",
      "Procesando modelo normalizado True 31 de 67. 46.3%\n",
      "Procesando modelo normalizado True 32 de 67. 47.8%\n",
      "Procesando modelo normalizado True 33 de 67. 49.3%\n",
      "Procesando modelo normalizado True 34 de 67. 50.7%\n",
      "Procesando modelo normalizado True 35 de 67. 52.2%\n",
      "Procesando modelo normalizado True 36 de 67. 53.7%\n",
      "Procesando modelo normalizado True 37 de 67. 55.2%\n",
      "Procesando modelo normalizado True 38 de 67. 56.7%\n",
      "Procesando modelo normalizado True 39 de 67. 58.2%\n",
      "Procesando modelo normalizado True 40 de 67. 59.7%\n",
      "Procesando modelo normalizado True 41 de 67. 61.2%\n",
      "Procesando modelo normalizado True 42 de 67. 62.7%\n",
      "Procesando modelo normalizado True 43 de 67. 64.2%\n",
      "Procesando modelo normalizado True 44 de 67. 65.7%\n",
      "Procesando modelo normalizado True 45 de 67. 67.2%\n",
      "Procesando modelo normalizado True 46 de 67. 68.7%\n",
      "Procesando modelo normalizado True 47 de 67. 70.1%\n",
      "Procesando modelo normalizado True 48 de 67. 71.6%\n",
      "Procesando modelo normalizado True 49 de 67. 73.1%\n",
      "Procesando modelo normalizado True 50 de 67. 74.6%\n",
      "Procesando modelo normalizado True 51 de 67. 76.1%\n",
      "Procesando modelo normalizado True 52 de 67. 77.6%\n",
      "Procesando modelo normalizado True 53 de 67. 79.1%\n",
      "Procesando modelo normalizado True 54 de 67. 80.6%\n",
      "Procesando modelo normalizado True 55 de 67. 82.1%\n",
      "Procesando modelo normalizado True 56 de 67. 83.6%\n",
      "Procesando modelo normalizado True 57 de 67. 85.1%\n",
      "Procesando modelo normalizado True 58 de 67. 86.6%\n",
      "Procesando modelo normalizado True 59 de 67. 88.1%\n",
      "Procesando modelo normalizado True 60 de 67. 89.6%\n",
      "Procesando modelo normalizado True 61 de 67. 91.0%\n",
      "Procesando modelo normalizado True 62 de 67. 92.5%\n",
      "Procesando modelo normalizado True 63 de 67. 94.0%\n",
      "Procesando modelo normalizado True 64 de 67. 95.5%\n",
      "Procesando modelo normalizado True 65 de 67. 97.0%\n",
      "Procesando modelo normalizado True 66 de 67. 98.5%\n",
      "Procesando modelo normalizado True 67 de 67. 100.0%\n",
      "Proceso completo 100%\n"
     ]
    }
   ],
   "source": [
    "# Variables iniciales\n",
    "bd_predicted = pd.DataFrame([])\n",
    "metrics = []\n",
    "\n",
    "# Fecha para guardar resultados\n",
    "fecha = '14-2-23'\n",
    "\n",
    "# Ciclo para realizar el modelo de clustering por cada tipo de zona del pais\n",
    "for norm in normalizar:\n",
    "    for n, dto in enumerate(list_dtos):\n",
    "        print(f\"Procesando modelo normalizado {norm} {n+1} de {len(list_dtos)}. {(n+1) / (len(list_dtos)):.1%}\")\n",
    "        \n",
    "        #BD filtrada\n",
    "        df_dto = df_3[df_3[\"Distrito-Nombretipozona\"] == dto]\n",
    "        \n",
    "        #Setup del modelo \n",
    "        s = setup(\n",
    "                    df_dto,\n",
    "                    normalize = norm,\n",
    "                    verbose= False,\n",
    "                    preprocess= False,\n",
    "                    silent= True,\n",
    "                    profile= False,\n",
    "                    ignore_features= ignore_columns,\n",
    "                    numeric_features= numeric_features\n",
    "                    )\n",
    "        \n",
    "        #Creacion y prediccion de modelo\n",
    "        model_kmeans = create_model(\n",
    "                                    'kmeans',\n",
    "                                    num_clusters= 5,\n",
    "                                    verbose= False,\n",
    "                                    )\n",
    "        pull()\n",
    "        df_pred_km = predict_model(\n",
    "                                    model_kmeans,\n",
    "                                    data = df_dto\n",
    "                                    )\n",
    "        \n",
    "        # Reasignacion de los nombres de los clusters\n",
    "        trans = df_pred_km.groupby(\n",
    "                                    [\"Cluster\"]).agg({\n",
    "                                                    \"Recency\": np.mean, \"Monetary\": np.mean, \"Frequency\": np.mean,\n",
    "                                                    }).sort_values(\n",
    "                                                                    by= [\"Monetary\", \"Frequency\", \"Recency\"],\n",
    "                                                                    ascending= False\n",
    "                                                                    ).reset_index()\n",
    "        trans[\"Letra cluster\"] = [\"A\", \"B\", \"C\", \"D\", \"E\"]\n",
    "        trans = trans[[\"Cluster\", \"Letra cluster\"]]\n",
    "        \n",
    "        df_pred_km = pd.merge(df_pred_km, trans, on= [\"Cluster\"])\n",
    "        \n",
    "        # Descarga del modelo\n",
    "        bd_predicted = bd_predicted.append(df_pred_km)\n",
    "\n",
    "        #Append a la variable incial de metricas\n",
    "        metrics.append({\n",
    "                        \"Distrito-zona\": dto,\n",
    "                        \"Normalizado\": norm,\n",
    "                        \"Silhouette\": pull().Silhouette[0],\n",
    "                        \"Calinski-Harabasz\": pull()[\"Calinski-Harabasz\"][0],\n",
    "                        \"Davies-Bouldin\": pull()[\"Davies-Bouldin\"][0]\n",
    "                        })\n",
    "        # save_model(model_kmeans, f\"C:/Users/tcardenas/OneDrive/OneDrive - Grupo DISPAPELES/Documents/ML-Dispapeles-TomasCaLo/Clustering/Modelos {fecha}/Modelo {dto} {fecha}\")\n",
    "\n",
    "# Transformacion de la variable de metricas\n",
    "metrics = pd.DataFrame(metrics)\n",
    "metrics[\"Normalizado\"] = metrics[\"Normalizado\"].replace([True, False], [\"Si\",\"No\"])\n",
    "metrics[\"Tipo zona\"] = metrics[\"Distrito-zona\"].str[4:]\n",
    "\n",
    "print(\"Proceso completo 100%\")"
   ]
  },
  {
   "cell_type": "code",
   "execution_count": 19,
   "metadata": {},
   "outputs": [
    {
     "data": {
      "text/html": [
       "<div>\n",
       "<style scoped>\n",
       "    .dataframe tbody tr th:only-of-type {\n",
       "        vertical-align: middle;\n",
       "    }\n",
       "\n",
       "    .dataframe tbody tr th {\n",
       "        vertical-align: top;\n",
       "    }\n",
       "\n",
       "    .dataframe thead th {\n",
       "        text-align: right;\n",
       "    }\n",
       "</style>\n",
       "<table border=\"1\" class=\"dataframe\">\n",
       "  <thead>\n",
       "    <tr style=\"text-align: right;\">\n",
       "      <th></th>\n",
       "      <th>Distrito-zona</th>\n",
       "      <th>Normalizado</th>\n",
       "      <th>Silhouette</th>\n",
       "      <th>Calinski-Harabasz</th>\n",
       "      <th>Davies-Bouldin</th>\n",
       "      <th>Tipo zona</th>\n",
       "    </tr>\n",
       "  </thead>\n",
       "  <tbody>\n",
       "    <tr>\n",
       "      <th>0</th>\n",
       "      <td>101-Artes graficas</td>\n",
       "      <td>No</td>\n",
       "      <td>0.7661</td>\n",
       "      <td>2134.2232</td>\n",
       "      <td>0.5120</td>\n",
       "      <td>Artes graficas</td>\n",
       "    </tr>\n",
       "    <tr>\n",
       "      <th>1</th>\n",
       "      <td>101-Institucional</td>\n",
       "      <td>No</td>\n",
       "      <td>0.9437</td>\n",
       "      <td>14490.4983</td>\n",
       "      <td>0.1813</td>\n",
       "      <td>Institucional</td>\n",
       "    </tr>\n",
       "    <tr>\n",
       "      <th>2</th>\n",
       "      <td>101-Mayorista</td>\n",
       "      <td>No</td>\n",
       "      <td>0.7980</td>\n",
       "      <td>2010.1265</td>\n",
       "      <td>0.3790</td>\n",
       "      <td>Mayorista</td>\n",
       "    </tr>\n",
       "    <tr>\n",
       "      <th>3</th>\n",
       "      <td>101-TIG</td>\n",
       "      <td>No</td>\n",
       "      <td>0.8988</td>\n",
       "      <td>6948.8845</td>\n",
       "      <td>0.2565</td>\n",
       "      <td>TIG</td>\n",
       "    </tr>\n",
       "    <tr>\n",
       "      <th>4</th>\n",
       "      <td>101-V Horeca</td>\n",
       "      <td>No</td>\n",
       "      <td>0.7142</td>\n",
       "      <td>2685.7809</td>\n",
       "      <td>0.2087</td>\n",
       "      <td>V Horeca</td>\n",
       "    </tr>\n",
       "    <tr>\n",
       "      <th>...</th>\n",
       "      <td>...</td>\n",
       "      <td>...</td>\n",
       "      <td>...</td>\n",
       "      <td>...</td>\n",
       "      <td>...</td>\n",
       "      <td>...</td>\n",
       "    </tr>\n",
       "    <tr>\n",
       "      <th>129</th>\n",
       "      <td>116-Institucional</td>\n",
       "      <td>Si</td>\n",
       "      <td>0.8705</td>\n",
       "      <td>2290.0138</td>\n",
       "      <td>0.3489</td>\n",
       "      <td>Institucional</td>\n",
       "    </tr>\n",
       "    <tr>\n",
       "      <th>130</th>\n",
       "      <td>116-Mayorista</td>\n",
       "      <td>Si</td>\n",
       "      <td>0.8336</td>\n",
       "      <td>3058.4100</td>\n",
       "      <td>0.3456</td>\n",
       "      <td>Mayorista</td>\n",
       "    </tr>\n",
       "    <tr>\n",
       "      <th>131</th>\n",
       "      <td>117-Artes graficas</td>\n",
       "      <td>Si</td>\n",
       "      <td>0.7866</td>\n",
       "      <td>4064.3158</td>\n",
       "      <td>0.4292</td>\n",
       "      <td>Artes graficas</td>\n",
       "    </tr>\n",
       "    <tr>\n",
       "      <th>132</th>\n",
       "      <td>117-Institucional</td>\n",
       "      <td>Si</td>\n",
       "      <td>0.8305</td>\n",
       "      <td>4233.5250</td>\n",
       "      <td>0.3621</td>\n",
       "      <td>Institucional</td>\n",
       "    </tr>\n",
       "    <tr>\n",
       "      <th>133</th>\n",
       "      <td>117-Mayorista</td>\n",
       "      <td>Si</td>\n",
       "      <td>0.7761</td>\n",
       "      <td>3284.4376</td>\n",
       "      <td>0.3529</td>\n",
       "      <td>Mayorista</td>\n",
       "    </tr>\n",
       "  </tbody>\n",
       "</table>\n",
       "<p>134 rows × 6 columns</p>\n",
       "</div>"
      ],
      "text/plain": [
       "          Distrito-zona Normalizado  Silhouette  Calinski-Harabasz  \\\n",
       "0    101-Artes graficas          No      0.7661          2134.2232   \n",
       "1     101-Institucional          No      0.9437         14490.4983   \n",
       "2         101-Mayorista          No      0.7980          2010.1265   \n",
       "3               101-TIG          No      0.8988          6948.8845   \n",
       "4          101-V Horeca          No      0.7142          2685.7809   \n",
       "..                  ...         ...         ...                ...   \n",
       "129   116-Institucional          Si      0.8705          2290.0138   \n",
       "130       116-Mayorista          Si      0.8336          3058.4100   \n",
       "131  117-Artes graficas          Si      0.7866          4064.3158   \n",
       "132   117-Institucional          Si      0.8305          4233.5250   \n",
       "133       117-Mayorista          Si      0.7761          3284.4376   \n",
       "\n",
       "     Davies-Bouldin       Tipo zona  \n",
       "0            0.5120  Artes graficas  \n",
       "1            0.1813   Institucional  \n",
       "2            0.3790       Mayorista  \n",
       "3            0.2565             TIG  \n",
       "4            0.2087        V Horeca  \n",
       "..              ...             ...  \n",
       "129          0.3489   Institucional  \n",
       "130          0.3456       Mayorista  \n",
       "131          0.4292  Artes graficas  \n",
       "132          0.3621   Institucional  \n",
       "133          0.3529       Mayorista  \n",
       "\n",
       "[134 rows x 6 columns]"
      ]
     },
     "execution_count": 19,
     "metadata": {},
     "output_type": "execute_result"
    }
   ],
   "source": [
    "metrics"
   ]
  },
  {
   "attachments": {},
   "cell_type": "markdown",
   "metadata": {},
   "source": [
    "##### Visualizacion y validacion clustering"
   ]
  },
  {
   "cell_type": "code",
   "execution_count": 20,
   "metadata": {},
   "outputs": [
    {
     "data": {
      "image/png": "[encoded data removed]",
      "text/plain": [
       "<Figure size 2500x1000 with 6 Axes>"
      ]
     },
     "metadata": {},
     "output_type": "display_data"
    }
   ],
   "source": [
    "# Plots para validar si hay diferencia o no entre la data normalizada o no\n",
    "f, axarr = plt.subplots(2,3)\n",
    "f.set_figheight(10)\n",
    "f.set_figwidth(25)\n",
    "\n",
    "metricas = [\"Silhouette\", \"Calinski-Harabasz\", \"Davies-Bouldin\"]\n",
    "\n",
    "for n, met in enumerate(metricas):\n",
    "    f.add_subplot(axarr[0,n])\n",
    "    plt.title(f\"Distribución {met}\").set_fontsize(15)\n",
    "    sns.set_theme(style=\"darkgrid\", palette= \"pastel\")\n",
    "    sns.boxplot(data= metrics, x= met, y= \"Tipo zona\", hue= 'Normalizado')\n",
    "\n",
    "    f.add_subplot(axarr[1,n])\n",
    "    sns.set_theme(style=\"darkgrid\", palette= \"pastel\")\n",
    "    sns.histplot(data= metrics, x= met, hue= 'Normalizado')\n",
    "plt.show()\n",
    "\n"
   ]
  },
  {
   "attachments": {},
   "cell_type": "markdown",
   "metadata": {},
   "source": [
    "No hay diferencia significativa entre la data normalizada y no normalizada"
   ]
  },
  {
   "cell_type": "code",
   "execution_count": 21,
   "metadata": {},
   "outputs": [
    {
     "data": {
      "text/html": [
       "<div>\n",
       "<style scoped>\n",
       "    .dataframe tbody tr th:only-of-type {\n",
       "        vertical-align: middle;\n",
       "    }\n",
       "\n",
       "    .dataframe tbody tr th {\n",
       "        vertical-align: top;\n",
       "    }\n",
       "\n",
       "    .dataframe thead th {\n",
       "        text-align: right;\n",
       "    }\n",
       "</style>\n",
       "<table border=\"1\" class=\"dataframe\">\n",
       "  <thead>\n",
       "    <tr style=\"text-align: right;\">\n",
       "      <th></th>\n",
       "      <th>Silhouette</th>\n",
       "      <th>Calinski-Harabasz</th>\n",
       "      <th>Davies-Bouldin</th>\n",
       "    </tr>\n",
       "  </thead>\n",
       "  <tbody>\n",
       "    <tr>\n",
       "      <th>count</th>\n",
       "      <td>67.000000</td>\n",
       "      <td>67.000000</td>\n",
       "      <td>67.000000</td>\n",
       "    </tr>\n",
       "    <tr>\n",
       "      <th>mean</th>\n",
       "      <td>0.785945</td>\n",
       "      <td>4079.223660</td>\n",
       "      <td>0.343942</td>\n",
       "    </tr>\n",
       "    <tr>\n",
       "      <th>std</th>\n",
       "      <td>0.072950</td>\n",
       "      <td>11081.329853</td>\n",
       "      <td>0.089923</td>\n",
       "    </tr>\n",
       "    <tr>\n",
       "      <th>min</th>\n",
       "      <td>0.528600</td>\n",
       "      <td>233.687700</td>\n",
       "      <td>0.147600</td>\n",
       "    </tr>\n",
       "    <tr>\n",
       "      <th>25%</th>\n",
       "      <td>0.743250</td>\n",
       "      <td>1195.595050</td>\n",
       "      <td>0.273000</td>\n",
       "    </tr>\n",
       "    <tr>\n",
       "      <th>50%</th>\n",
       "      <td>0.795300</td>\n",
       "      <td>2011.514200</td>\n",
       "      <td>0.360100</td>\n",
       "    </tr>\n",
       "    <tr>\n",
       "      <th>75%</th>\n",
       "      <td>0.829850</td>\n",
       "      <td>3168.914300</td>\n",
       "      <td>0.417500</td>\n",
       "    </tr>\n",
       "    <tr>\n",
       "      <th>max</th>\n",
       "      <td>0.943700</td>\n",
       "      <td>89392.125100</td>\n",
       "      <td>0.512000</td>\n",
       "    </tr>\n",
       "  </tbody>\n",
       "</table>\n",
       "</div>"
      ],
      "text/plain": [
       "       Silhouette  Calinski-Harabasz  Davies-Bouldin\n",
       "count   67.000000          67.000000       67.000000\n",
       "mean     0.785945        4079.223660        0.343942\n",
       "std      0.072950       11081.329853        0.089923\n",
       "min      0.528600         233.687700        0.147600\n",
       "25%      0.743250        1195.595050        0.273000\n",
       "50%      0.795300        2011.514200        0.360100\n",
       "75%      0.829850        3168.914300        0.417500\n",
       "max      0.943700       89392.125100        0.512000"
      ]
     },
     "execution_count": 21,
     "metadata": {},
     "output_type": "execute_result"
    }
   ],
   "source": [
    "# Describe de las metricas normalizadas\n",
    "metrics[metrics['Normalizado'] == \"Si\"].describe()"
   ]
  },
  {
   "cell_type": "code",
   "execution_count": 22,
   "metadata": {},
   "outputs": [
    {
     "data": {
      "text/html": [
       "<div>\n",
       "<style scoped>\n",
       "    .dataframe tbody tr th:only-of-type {\n",
       "        vertical-align: middle;\n",
       "    }\n",
       "\n",
       "    .dataframe tbody tr th {\n",
       "        vertical-align: top;\n",
       "    }\n",
       "\n",
       "    .dataframe thead th {\n",
       "        text-align: right;\n",
       "    }\n",
       "</style>\n",
       "<table border=\"1\" class=\"dataframe\">\n",
       "  <thead>\n",
       "    <tr style=\"text-align: right;\">\n",
       "      <th></th>\n",
       "      <th>Silhouette</th>\n",
       "      <th>Calinski-Harabasz</th>\n",
       "      <th>Davies-Bouldin</th>\n",
       "    </tr>\n",
       "  </thead>\n",
       "  <tbody>\n",
       "    <tr>\n",
       "      <th>count</th>\n",
       "      <td>67.000000</td>\n",
       "      <td>67.000000</td>\n",
       "      <td>67.000000</td>\n",
       "    </tr>\n",
       "    <tr>\n",
       "      <th>mean</th>\n",
       "      <td>0.785064</td>\n",
       "      <td>4077.019600</td>\n",
       "      <td>0.343454</td>\n",
       "    </tr>\n",
       "    <tr>\n",
       "      <th>std</th>\n",
       "      <td>0.073478</td>\n",
       "      <td>11128.682577</td>\n",
       "      <td>0.086935</td>\n",
       "    </tr>\n",
       "    <tr>\n",
       "      <th>min</th>\n",
       "      <td>0.528600</td>\n",
       "      <td>233.687700</td>\n",
       "      <td>0.147600</td>\n",
       "    </tr>\n",
       "    <tr>\n",
       "      <th>25%</th>\n",
       "      <td>0.741300</td>\n",
       "      <td>1195.595050</td>\n",
       "      <td>0.273650</td>\n",
       "    </tr>\n",
       "    <tr>\n",
       "      <th>50%</th>\n",
       "      <td>0.795000</td>\n",
       "      <td>2005.189500</td>\n",
       "      <td>0.360100</td>\n",
       "    </tr>\n",
       "    <tr>\n",
       "      <th>75%</th>\n",
       "      <td>0.829600</td>\n",
       "      <td>3165.974150</td>\n",
       "      <td>0.409100</td>\n",
       "    </tr>\n",
       "    <tr>\n",
       "      <th>max</th>\n",
       "      <td>0.943700</td>\n",
       "      <td>89784.107400</td>\n",
       "      <td>0.512000</td>\n",
       "    </tr>\n",
       "  </tbody>\n",
       "</table>\n",
       "</div>"
      ],
      "text/plain": [
       "       Silhouette  Calinski-Harabasz  Davies-Bouldin\n",
       "count   67.000000          67.000000       67.000000\n",
       "mean     0.785064        4077.019600        0.343454\n",
       "std      0.073478       11128.682577        0.086935\n",
       "min      0.528600         233.687700        0.147600\n",
       "25%      0.741300        1195.595050        0.273650\n",
       "50%      0.795000        2005.189500        0.360100\n",
       "75%      0.829600        3165.974150        0.409100\n",
       "max      0.943700       89784.107400        0.512000"
      ]
     },
     "execution_count": 22,
     "metadata": {},
     "output_type": "execute_result"
    }
   ],
   "source": [
    "# Describe de las metricas NO normalizadas\n",
    "metrics[metrics['Normalizado'] == \"No\"].describe()"
   ]
  },
  {
   "cell_type": "code",
   "execution_count": 23,
   "metadata": {},
   "outputs": [
    {
     "data": {
      "text/plain": [
       "Text(0.5, 0, 'Frequency')"
      ]
     },
     "execution_count": 23,
     "metadata": {},
     "output_type": "execute_result"
    },
    {
     "data": {
      "image/png": "[encoded data removed]",
      "text/plain": [
       "<Figure size 700x1000 with 1 Axes>"
      ]
     },
     "metadata": {},
     "output_type": "display_data"
    }
   ],
   "source": [
    "# Visualizacion del ultimo modelo creado\n",
    "fig = plt.figure(figsize=(7,10))\n",
    "ax = fig.gca(projection='3d')\n",
    "\n",
    "m = ['o', 'v', 's', 'p', '*']\n",
    "col =  ['blueviolet', 'limegreen', 'indianred', 'royalblue', 'magenta']\n",
    "# leg = ['Cluster 0','Cluster 1','Cluster 2','Cluster 3', 'Cluster 4']\n",
    "leg = ['A', 'B', 'C', 'D', 'E']\n",
    "cluster = list(np.unique(df_pred_km['Letra cluster']))\n",
    "\n",
    "for c in range(5):\n",
    "    df_plot = df_pred_km[df_pred_km['Letra cluster'] == cluster[c]]\n",
    "    ax.scatter(df_plot['Monetary'],df_plot['Frequency'], df_plot['Recency'] , marker= m[c], c= col[c])\n",
    "    \n",
    "ax.legend(leg)\n",
    "ax.set_xlabel('Monetary')\n",
    "ax.set_ylabel('Recency')\n",
    "ax.set_zlabel('Frequency')"
   ]
  },
  {
   "cell_type": "code",
   "execution_count": 24,
   "metadata": {},
   "outputs": [
    {
     "data": {
      "application/vnd.plotly.v1+json": {
       "config": {
        "plotlyServerURL": "https://plot.ly"
       },
       "data": [
        {
         "customdata": [
          [
           null
          ],
          [
           null
          ],
          [
           null
          ],
          [
           null
          ]
         ],
         "hovertemplate": "Cluster=Cluster 0<br>PCA1=%{x}<br>PCA2=%{y}<br>Feature=%{customdata[0]}<extra></extra>",
         "legendgroup": "Cluster 0",
         "marker": {
          "color": "#636efa",
          "opacity": 0.5,
          "symbol": "circle"
         },
         "mode": "markers",
         "name": "Cluster 0",
         "orientation": "v",
         "showlegend": true,
         "textposition": "top center",
         "type": "scatter",
         "x": [
          372114,
          378747,
          193098.02,
          280377
         ],
         "xaxis": "x",
         "y": [
          -5.269926,
          -10.558475,
          -13.214671,
          -8.889657
         ],
         "yaxis": "y"
        },
        {
         "customdata": [
          [
           null
          ],
          [
           null
          ],
          [
           null
          ],
          [
           null
          ],
          [
           null
          ],
          [
           null
          ],
          [
           null
          ],
          [
           null
          ],
          [
           null
          ],
          [
           null
          ],
          [
           null
          ],
          [
           null
          ],
          [
           null
          ],
          [
           null
          ],
          [
           null
          ],
          [
           null
          ],
          [
           null
          ],
          [
           null
          ],
          [
           null
          ],
          [
           null
          ],
          [
           null
          ],
          [
           null
          ],
          [
           null
          ],
          [
           null
          ],
          [
           null
          ],
          [
           null
          ],
          [
           null
          ],
          [
           null
          ],
          [
           null
          ],
          [
           null
          ],
          [
           null
          ],
          [
           null
          ],
          [
           null
          ],
          [
           null
          ],
          [
           null
          ],
          [
           null
          ],
          [
           null
          ],
          [
           null
          ],
          [
           null
          ],
          [
           null
          ],
          [
           null
          ],
          [
           null
          ],
          [
           null
          ],
          [
           null
          ],
          [
           null
          ],
          [
           null
          ],
          [
           null
          ],
          [
           null
          ],
          [
           null
          ],
          [
           null
          ],
          [
           null
          ],
          [
           null
          ],
          [
           null
          ],
          [
           null
          ],
          [
           null
          ],
          [
           null
          ],
          [
           null
          ],
          [
           null
          ],
          [
           null
          ],
          [
           null
          ],
          [
           null
          ],
          [
           null
          ],
          [
           null
          ],
          [
           null
          ],
          [
           null
          ],
          [
           null
          ],
          [
           null
          ],
          [
           null
          ],
          [
           null
          ],
          [
           null
          ],
          [
           null
          ],
          [
           null
          ],
          [
           null
          ],
          [
           null
          ],
          [
           null
          ],
          [
           null
          ],
          [
           null
          ],
          [
           null
          ],
          [
           null
          ],
          [
           null
          ],
          [
           null
          ],
          [
           null
          ],
          [
           null
          ],
          [
           null
          ],
          [
           null
          ],
          [
           null
          ],
          [
           null
          ],
          [
           null
          ],
          [
           null
          ],
          [
           null
          ],
          [
           null
          ],
          [
           null
          ],
          [
           null
          ],
          [
           null
          ],
          [
           null
          ],
          [
           null
          ],
          [
           null
          ],
          [
           null
          ],
          [
           null
          ],
          [
           null
          ],
          [
           null
          ],
          [
           null
          ],
          [
           null
          ],
          [
           null
          ],
          [
           null
          ],
          [
           null
          ],
          [
           null
          ],
          [
           null
          ],
          [
           null
          ]
         ],
         "hovertemplate": "Cluster=Cluster 1<br>PCA1=%{x}<br>PCA2=%{y}<br>Feature=%{customdata[0]}<extra></extra>",
         "legendgroup": "Cluster 1",
         "marker": {
          "color": "#EF553B",
          "opacity": 0.5,
          "symbol": "circle"
         },
         "mode": "markers",
         "name": "Cluster 1",
         "orientation": "v",
         "showlegend": true,
         "textposition": "top center",
         "type": "scatter",
         "x": [
          -62016.99,
          -60676.996,
          -58267.004,
          -32257.977,
          -61663.984,
          -54909.992,
          -61850.97,
          -57224.98,
          -29759.996,
          -53405.99,
          -61569.98,
          -60294.867,
          -59528.973,
          -62071.992,
          -61027.977,
          -61620.97,
          -59121.973,
          -42172.973,
          -57230.98,
          -61229.99,
          -44354.996,
          -36515.996,
          -56251.992,
          -57514.97,
          -61768.965,
          -61933.996,
          -61760.984,
          -62047.992,
          -62035.973,
          -42821.996,
          -60448.99,
          -56342.992,
          -60998.98,
          -61991.97,
          -40641.992,
          -62336.984,
          -57342.004,
          -62156.98,
          -62212.99,
          -50624,
          -59018.984,
          -61840.973,
          -61463.973,
          -58214.008,
          -45548.965,
          -53942.977,
          -58218.004,
          -43169.99,
          -61114.99,
          -56307.996,
          -61839.984,
          -60151.957,
          -59463.97,
          -60540.004,
          -62062.977,
          -39603.99,
          -61738.97,
          -57749.008,
          -39612.992,
          -57969.008,
          -59095.973,
          -62292.953,
          -60948.984,
          -57283.008,
          -61574.96,
          -38511.992,
          -62164.973,
          -49749.992,
          -38958.004,
          -60788.97,
          -53084.996,
          -59511.984,
          -61145.965,
          -30705.004,
          -60688.996,
          -61989.97,
          -61269.984,
          -61023,
          -61660.98,
          -59300.98,
          -25951.979,
          -61570.996,
          -57431.984,
          -62233.977,
          -52149.027,
          -60988.957,
          -61809.996,
          -62210.973,
          -50958.992,
          -20557.996,
          -61964.973,
          -61982.965,
          -54879.99,
          -60583.984,
          -59595,
          -48774.984,
          -61559.996,
          -61528.977,
          -58140.984,
          -24062.99,
          -61723.99,
          -58649.965,
          -40884.996,
          -62003.977,
          -32112.998,
          -62231.984,
          -52600.973,
          -23014.996,
          -51684.99
         ],
         "xaxis": "x",
         "y": [
          4.658747,
          0.583105,
          -9.120463,
          5.2041254,
          3.1256688,
          2.073853,
          10.283769,
          7.9231644,
          -14.225942,
          -3.9272504,
          5.3043137,
          4.163796,
          13.00357,
          2.6105528,
          6.969795,
          6.8314185,
          9.174365,
          11.973551,
          -0.5263346,
          -0.9629354,
          -9.69048,
          -16.499905,
          -2.5597343,
          11.114871,
          11.054006,
          0.8249073,
          4.0232387,
          0.82327753,
          9.132673,
          -15.821061,
          2.2440946,
          -4.4785485,
          7.1001034,
          9.133303,
          -6.561098,
          4.654168,
          -2.315543,
          7.2134285,
          5.2951136,
          -2.8585944,
          4.5717483,
          12.331319,
          10.928477,
          -3.7362542,
          10.646905,
          9.248466,
          -12.325915,
          -5.8385,
          -3.0086958,
          -7.554306,
          3.7623217,
          14.143104,
          10.447815,
          -2.4911923,
          9.771458,
          -9.622505,
          14.250291,
          -2.3213663,
          -16.544214,
          -11.423393,
          9.174738,
          14.8815365,
          6.4616475,
          -5.2610626,
          15.530979,
          -6.530623,
          12.965855,
          -12.843928,
          -12.819415,
          11.577307,
          -6.9989157,
          5.333759,
          14.258776,
          -1.9344306,
          -0.31602347,
          14.2467,
          3.2611988,
          -6.0836387,
          5.812289,
          0.20281738,
          6.063414,
          0.8301025,
          -0.01993279,
          9.769008,
          5.439109,
          13.62185,
          1.3359594,
          11.686854,
          -2.8736842,
          -10.888131,
          12.329545,
          14.2468,
          1.8144957,
          4.5493565,
          -3.756013,
          3.0502925,
          -0.7078683,
          11.696612,
          5.353374,
          -16.321732,
          4.023768,
          9.690397,
          -16.562414,
          8.493959,
          -6.4390693,
          2.9876485,
          11.564565,
          -16.306736,
          2.629273
         ],
         "yaxis": "y"
        },
        {
         "customdata": [
          [
           null
          ]
         ],
         "hovertemplate": "Cluster=Cluster 2<br>PCA1=%{x}<br>PCA2=%{y}<br>Feature=%{customdata[0]}<extra></extra>",
         "legendgroup": "Cluster 2",
         "marker": {
          "color": "#00cc96",
          "opacity": 0.5,
          "symbol": "circle"
         },
         "mode": "markers",
         "name": "Cluster 2",
         "orientation": "v",
         "showlegend": true,
         "textposition": "top center",
         "type": "scatter",
         "x": [
          2370470
         ],
         "xaxis": "x",
         "y": [
          17.93836
         ],
         "yaxis": "y"
        },
        {
         "customdata": [
          [
           null
          ],
          [
           null
          ],
          [
           null
          ]
         ],
         "hovertemplate": "Cluster=Cluster 3<br>PCA1=%{x}<br>PCA2=%{y}<br>Feature=%{customdata[0]}<extra></extra>",
         "legendgroup": "Cluster 3",
         "marker": {
          "color": "#ab63fa",
          "opacity": 0.5,
          "symbol": "circle"
         },
         "mode": "markers",
         "name": "Cluster 3",
         "orientation": "v",
         "showlegend": true,
         "textposition": "top center",
         "type": "scatter",
         "x": [
          569462,
          726263,
          659489
         ],
         "xaxis": "x",
         "y": [
          -7.0607305,
          -5.5863447,
          -1.4180582
         ],
         "yaxis": "y"
        },
        {
         "customdata": [
          [
           null
          ],
          [
           null
          ],
          [
           null
          ],
          [
           null
          ],
          [
           null
          ],
          [
           null
          ],
          [
           null
          ],
          [
           null
          ],
          [
           null
          ],
          [
           null
          ],
          [
           null
          ],
          [
           null
          ],
          [
           null
          ],
          [
           null
          ],
          [
           null
          ],
          [
           null
          ],
          [
           null
          ],
          [
           null
          ],
          [
           null
          ]
         ],
         "hovertemplate": "Cluster=Cluster 4<br>PCA1=%{x}<br>PCA2=%{y}<br>Feature=%{customdata[0]}<extra></extra>",
         "legendgroup": "Cluster 4",
         "marker": {
          "color": "#FFA15A",
          "opacity": 0.5,
          "symbol": "circle"
         },
         "mode": "markers",
         "name": "Cluster 4",
         "orientation": "v",
         "showlegend": true,
         "textposition": "top center",
         "type": "scatter",
         "x": [
          816.00946,
          23584.01,
          -11033.997,
          44152.008,
          43702.008,
          -5520.995,
          91343,
          48239.008,
          -9849.998,
          -3486.9956,
          -1729.993,
          -11145.995,
          -13035.995,
          64985.008,
          -480.99466,
          41913.008,
          -2319.991,
          12001.006,
          133035
         ],
         "xaxis": "x",
         "y": [
          -0.8442686,
          -15.640015,
          0.015037819,
          -13.807607,
          -10.737786,
          -12.980181,
          -9.287093,
          -8.36568,
          -14.71014,
          -16.027338,
          -15.233135,
          -5.6298037,
          -16.16396,
          -0.6952272,
          -15.984328,
          -14.608706,
          -4.0952888,
          -11.960418,
          -9.589538
         ],
         "yaxis": "y"
        }
       ],
       "layout": {
        "height": 600,
        "legend": {
         "title": {
          "text": "Cluster"
         },
         "tracegroupgap": 0
        },
        "margin": {
         "t": 60
        },
        "plot_bgcolor": "rgb(240,240,240)",
        "template": {
         "data": {
          "bar": [
           {
            "error_x": {
             "color": "#2a3f5f"
            },
            "error_y": {
             "color": "#2a3f5f"
            },
            "marker": {
             "line": {
              "color": "#E5ECF6",
              "width": 0.5
             },
             "pattern": {
              "fillmode": "overlay",
              "size": 10,
              "solidity": 0.2
             }
            },
            "type": "bar"
           }
          ],
          "barpolar": [
           {
            "marker": {
             "line": {
              "color": "#E5ECF6",
              "width": 0.5
             },
             "pattern": {
              "fillmode": "overlay",
              "size": 10,
              "solidity": 0.2
             }
            },
            "type": "barpolar"
           }
          ],
          "carpet": [
           {
            "aaxis": {
             "endlinecolor": "#2a3f5f",
             "gridcolor": "white",
             "linecolor": "white",
             "minorgridcolor": "white",
             "startlinecolor": "#2a3f5f"
            },
            "baxis": {
             "endlinecolor": "#2a3f5f",
             "gridcolor": "white",
             "linecolor": "white",
             "minorgridcolor": "white",
             "startlinecolor": "#2a3f5f"
            },
            "type": "carpet"
           }
          ],
          "choropleth": [
           {
            "colorbar": {
             "outlinewidth": 0,
             "ticks": ""
            },
            "type": "choropleth"
           }
          ],
          "contour": [
           {
            "colorbar": {
             "outlinewidth": 0,
             "ticks": ""
            },
            "colorscale": [
             [
              0,
              "#0d0887"
             ],
             [
              0.1111111111111111,
              "#46039f"
             ],
             [
              0.2222222222222222,
              "#7201a8"
             ],
             [
              0.3333333333333333,
              "#9c179e"
             ],
             [
              0.4444444444444444,
              "#bd3786"
             ],
             [
              0.5555555555555556,
              "#d8576b"
             ],
             [
              0.6666666666666666,
              "#ed7953"
             ],
             [
              0.7777777777777778,
              "#fb9f3a"
             ],
             [
              0.8888888888888888,
              "#fdca26"
             ],
             [
              1,
              "#f0f921"
             ]
            ],
            "type": "contour"
           }
          ],
          "contourcarpet": [
           {
            "colorbar": {
             "outlinewidth": 0,
             "ticks": ""
            },
            "type": "contourcarpet"
           }
          ],
          "heatmap": [
           {
            "colorbar": {
             "outlinewidth": 0,
             "ticks": ""
            },
            "colorscale": [
             [
              0,
              "#0d0887"
             ],
             [
              0.1111111111111111,
              "#46039f"
             ],
             [
              0.2222222222222222,
              "#7201a8"
             ],
             [
              0.3333333333333333,
              "#9c179e"
             ],
             [
              0.4444444444444444,
              "#bd3786"
             ],
             [
              0.5555555555555556,
              "#d8576b"
             ],
             [
              0.6666666666666666,
              "#ed7953"
             ],
             [
              0.7777777777777778,
              "#fb9f3a"
             ],
             [
              0.8888888888888888,
              "#fdca26"
             ],
             [
              1,
              "#f0f921"
             ]
            ],
            "type": "heatmap"
           }
          ],
          "heatmapgl": [
           {
            "colorbar": {
             "outlinewidth": 0,
             "ticks": ""
            },
            "colorscale": [
             [
              0,
              "#0d0887"
             ],
             [
              0.1111111111111111,
              "#46039f"
             ],
             [
              0.2222222222222222,
              "#7201a8"
             ],
             [
              0.3333333333333333,
              "#9c179e"
             ],
             [
              0.4444444444444444,
              "#bd3786"
             ],
             [
              0.5555555555555556,
              "#d8576b"
             ],
             [
              0.6666666666666666,
              "#ed7953"
             ],
             [
              0.7777777777777778,
              "#fb9f3a"
             ],
             [
              0.8888888888888888,
              "#fdca26"
             ],
             [
              1,
              "#f0f921"
             ]
            ],
            "type": "heatmapgl"
           }
          ],
          "histogram": [
           {
            "marker": {
             "pattern": {
              "fillmode": "overlay",
              "size": 10,
              "solidity": 0.2
             }
            },
            "type": "histogram"
           }
          ],
          "histogram2d": [
           {
            "colorbar": {
             "outlinewidth": 0,
             "ticks": ""
            },
            "colorscale": [
             [
              0,
              "#0d0887"
             ],
             [
              0.1111111111111111,
              "#46039f"
             ],
             [
              0.2222222222222222,
              "#7201a8"
             ],
             [
              0.3333333333333333,
              "#9c179e"
             ],
             [
              0.4444444444444444,
              "#bd3786"
             ],
             [
              0.5555555555555556,
              "#d8576b"
             ],
             [
              0.6666666666666666,
              "#ed7953"
             ],
             [
              0.7777777777777778,
              "#fb9f3a"
             ],
             [
              0.8888888888888888,
              "#fdca26"
             ],
             [
              1,
              "#f0f921"
             ]
            ],
            "type": "histogram2d"
           }
          ],
          "histogram2dcontour": [
           {
            "colorbar": {
             "outlinewidth": 0,
             "ticks": ""
            },
            "colorscale": [
             [
              0,
              "#0d0887"
             ],
             [
              0.1111111111111111,
              "#46039f"
             ],
             [
              0.2222222222222222,
              "#7201a8"
             ],
             [
              0.3333333333333333,
              "#9c179e"
             ],
             [
              0.4444444444444444,
              "#bd3786"
             ],
             [
              0.5555555555555556,
              "#d8576b"
             ],
             [
              0.6666666666666666,
              "#ed7953"
             ],
             [
              0.7777777777777778,
              "#fb9f3a"
             ],
             [
              0.8888888888888888,
              "#fdca26"
             ],
             [
              1,
              "#f0f921"
             ]
            ],
            "type": "histogram2dcontour"
           }
          ],
          "mesh3d": [
           {
            "colorbar": {
             "outlinewidth": 0,
             "ticks": ""
            },
            "type": "mesh3d"
           }
          ],
          "parcoords": [
           {
            "line": {
             "colorbar": {
              "outlinewidth": 0,
              "ticks": ""
             }
            },
            "type": "parcoords"
           }
          ],
          "pie": [
           {
            "automargin": true,
            "type": "pie"
           }
          ],
          "scatter": [
           {
            "fillpattern": {
             "fillmode": "overlay",
             "size": 10,
             "solidity": 0.2
            },
            "type": "scatter"
           }
          ],
          "scatter3d": [
           {
            "line": {
             "colorbar": {
              "outlinewidth": 0,
              "ticks": ""
             }
            },
            "marker": {
             "colorbar": {
              "outlinewidth": 0,
              "ticks": ""
             }
            },
            "type": "scatter3d"
           }
          ],
          "scattercarpet": [
           {
            "marker": {
             "colorbar": {
              "outlinewidth": 0,
              "ticks": ""
             }
            },
            "type": "scattercarpet"
           }
          ],
          "scattergeo": [
           {
            "marker": {
             "colorbar": {
              "outlinewidth": 0,
              "ticks": ""
             }
            },
            "type": "scattergeo"
           }
          ],
          "scattergl": [
           {
            "marker": {
             "colorbar": {
              "outlinewidth": 0,
              "ticks": ""
             }
            },
            "type": "scattergl"
           }
          ],
          "scattermapbox": [
           {
            "marker": {
             "colorbar": {
              "outlinewidth": 0,
              "ticks": ""
             }
            },
            "type": "scattermapbox"
           }
          ],
          "scatterpolar": [
           {
            "marker": {
             "colorbar": {
              "outlinewidth": 0,
              "ticks": ""
             }
            },
            "type": "scatterpolar"
           }
          ],
          "scatterpolargl": [
           {
            "marker": {
             "colorbar": {
              "outlinewidth": 0,
              "ticks": ""
             }
            },
            "type": "scatterpolargl"
           }
          ],
          "scatterternary": [
           {
            "marker": {
             "colorbar": {
              "outlinewidth": 0,
              "ticks": ""
             }
            },
            "type": "scatterternary"
           }
          ],
          "surface": [
           {
            "colorbar": {
             "outlinewidth": 0,
             "ticks": ""
            },
            "colorscale": [
             [
              0,
              "#0d0887"
             ],
             [
              0.1111111111111111,
              "#46039f"
             ],
             [
              0.2222222222222222,
              "#7201a8"
             ],
             [
              0.3333333333333333,
              "#9c179e"
             ],
             [
              0.4444444444444444,
              "#bd3786"
             ],
             [
              0.5555555555555556,
              "#d8576b"
             ],
             [
              0.6666666666666666,
              "#ed7953"
             ],
             [
              0.7777777777777778,
              "#fb9f3a"
             ],
             [
              0.8888888888888888,
              "#fdca26"
             ],
             [
              1,
              "#f0f921"
             ]
            ],
            "type": "surface"
           }
          ],
          "table": [
           {
            "cells": {
             "fill": {
              "color": "#EBF0F8"
             },
             "line": {
              "color": "white"
             }
            },
            "header": {
             "fill": {
              "color": "#C8D4E3"
             },
             "line": {
              "color": "white"
             }
            },
            "type": "table"
           }
          ]
         },
         "layout": {
          "annotationdefaults": {
           "arrowcolor": "#2a3f5f",
           "arrowhead": 0,
           "arrowwidth": 1
          },
          "autotypenumbers": "strict",
          "coloraxis": {
           "colorbar": {
            "outlinewidth": 0,
            "ticks": ""
           }
          },
          "colorscale": {
           "diverging": [
            [
             0,
             "#8e0152"
            ],
            [
             0.1,
             "#c51b7d"
            ],
            [
             0.2,
             "#de77ae"
            ],
            [
             0.3,
             "#f1b6da"
            ],
            [
             0.4,
             "#fde0ef"
            ],
            [
             0.5,
             "#f7f7f7"
            ],
            [
             0.6,
             "#e6f5d0"
            ],
            [
             0.7,
             "#b8e186"
            ],
            [
             0.8,
             "#7fbc41"
            ],
            [
             0.9,
             "#4d9221"
            ],
            [
             1,
             "#276419"
            ]
           ],
           "sequential": [
            [
             0,
             "#0d0887"
            ],
            [
             0.1111111111111111,
             "#46039f"
            ],
            [
             0.2222222222222222,
             "#7201a8"
            ],
            [
             0.3333333333333333,
             "#9c179e"
            ],
            [
             0.4444444444444444,
             "#bd3786"
            ],
            [
             0.5555555555555556,
             "#d8576b"
            ],
            [
             0.6666666666666666,
             "#ed7953"
            ],
            [
             0.7777777777777778,
             "#fb9f3a"
            ],
            [
             0.8888888888888888,
             "#fdca26"
            ],
            [
             1,
             "#f0f921"
            ]
           ],
           "sequentialminus": [
            [
             0,
             "#0d0887"
            ],
            [
             0.1111111111111111,
             "#46039f"
            ],
            [
             0.2222222222222222,
             "#7201a8"
            ],
            [
             0.3333333333333333,
             "#9c179e"
            ],
            [
             0.4444444444444444,
             "#bd3786"
            ],
            [
             0.5555555555555556,
             "#d8576b"
            ],
            [
             0.6666666666666666,
             "#ed7953"
            ],
            [
             0.7777777777777778,
             "#fb9f3a"
            ],
            [
             0.8888888888888888,
             "#fdca26"
            ],
            [
             1,
             "#f0f921"
            ]
           ]
          },
          "colorway": [
           "#636efa",
           "#EF553B",
           "#00cc96",
           "#ab63fa",
           "#FFA15A",
           "#19d3f3",
           "#FF6692",
           "#B6E880",
           "#FF97FF",
           "#FECB52"
          ],
          "font": {
           "color": "#2a3f5f"
          },
          "geo": {
           "bgcolor": "white",
           "lakecolor": "white",
           "landcolor": "#E5ECF6",
           "showlakes": true,
           "showland": true,
           "subunitcolor": "white"
          },
          "hoverlabel": {
           "align": "left"
          },
          "hovermode": "closest",
          "mapbox": {
           "style": "light"
          },
          "paper_bgcolor": "white",
          "plot_bgcolor": "#E5ECF6",
          "polar": {
           "angularaxis": {
            "gridcolor": "white",
            "linecolor": "white",
            "ticks": ""
           },
           "bgcolor": "#E5ECF6",
           "radialaxis": {
            "gridcolor": "white",
            "linecolor": "white",
            "ticks": ""
           }
          },
          "scene": {
           "xaxis": {
            "backgroundcolor": "#E5ECF6",
            "gridcolor": "white",
            "gridwidth": 2,
            "linecolor": "white",
            "showbackground": true,
            "ticks": "",
            "zerolinecolor": "white"
           },
           "yaxis": {
            "backgroundcolor": "#E5ECF6",
            "gridcolor": "white",
            "gridwidth": 2,
            "linecolor": "white",
            "showbackground": true,
            "ticks": "",
            "zerolinecolor": "white"
           },
           "zaxis": {
            "backgroundcolor": "#E5ECF6",
            "gridcolor": "white",
            "gridwidth": 2,
            "linecolor": "white",
            "showbackground": true,
            "ticks": "",
            "zerolinecolor": "white"
           }
          },
          "shapedefaults": {
           "line": {
            "color": "#2a3f5f"
           }
          },
          "ternary": {
           "aaxis": {
            "gridcolor": "white",
            "linecolor": "white",
            "ticks": ""
           },
           "baxis": {
            "gridcolor": "white",
            "linecolor": "white",
            "ticks": ""
           },
           "bgcolor": "#E5ECF6",
           "caxis": {
            "gridcolor": "white",
            "linecolor": "white",
            "ticks": ""
           }
          },
          "title": {
           "x": 0.05
          },
          "xaxis": {
           "automargin": true,
           "gridcolor": "white",
           "linecolor": "white",
           "ticks": "",
           "title": {
            "standoff": 15
           },
           "zerolinecolor": "white",
           "zerolinewidth": 2
          },
          "yaxis": {
           "automargin": true,
           "gridcolor": "white",
           "linecolor": "white",
           "ticks": "",
           "title": {
            "standoff": 15
           },
           "zerolinecolor": "white",
           "zerolinewidth": 2
          }
         }
        },
        "title": {
         "text": "2D Cluster PCA Plot"
        },
        "xaxis": {
         "anchor": "y",
         "domain": [
          0,
          1
         ],
         "title": {
          "text": "PCA1"
         }
        },
        "yaxis": {
         "anchor": "x",
         "domain": [
          0,
          1
         ],
         "title": {
          "text": "PCA2"
         }
        }
       }
      }
     },
     "metadata": {},
     "output_type": "display_data"
    }
   ],
   "source": [
    "plot_model(model_kmeans, plot = 'cluster')"
   ]
  },
  {
   "cell_type": "code",
   "execution_count": 25,
   "metadata": {},
   "outputs": [
    {
     "data": {
      "image/png": "[encoded data removed]",
      "text/plain": [
       "<Figure size 800x550 with 1 Axes>"
      ]
     },
     "metadata": {},
     "output_type": "display_data"
    }
   ],
   "source": [
    "plot_model(model_kmeans, plot = 'silhouette')"
   ]
  },
  {
   "cell_type": "code",
   "execution_count": 26,
   "metadata": {},
   "outputs": [
    {
     "data": {
      "application/vnd.plotly.v1+json": {
       "config": {
        "plotlyServerURL": "https://plot.ly"
       },
       "data": [
        {
         "alignmentgroup": "True",
         "bingroup": "x",
         "hovertemplate": "Cluster=%{x}<br>count=%{y}<extra></extra>",
         "legendgroup": "Cluster 0",
         "marker": {
          "color": "#636efa",
          "opacity": 0.7,
          "pattern": {
           "shape": ""
          }
         },
         "name": "Cluster 0",
         "offsetgroup": "Cluster 0",
         "orientation": "v",
         "showlegend": true,
         "type": "histogram",
         "x": [
          "Cluster 0",
          "Cluster 0",
          "Cluster 0",
          "Cluster 0"
         ],
         "xaxis": "x",
         "yaxis": "y"
        },
        {
         "alignmentgroup": "True",
         "customdata": [
          [
           117,
           "Mayorista",
           "1761420335-1",
           24,
           434553,
           17,
           "117-Mayorista"
          ],
          [
           117,
           "Mayorista",
           "879308950-1",
           24,
           441186,
           24,
           "117-Mayorista"
          ],
          [
           117,
           "Mayorista",
           "1760425173-1",
           24,
           255537,
           24,
           "117-Mayorista"
          ],
          [
           117,
           "Mayorista",
           "1750729655-1",
           24,
           342816,
           20,
           "117-Mayorista"
          ]
         ],
         "hovertemplate": "Cluster=%{x}<br>Codigo distrito=%{customdata[0]}<br>Nombre tipo zona=%{customdata[1]}<br>Nit cliente-sucursal=%{customdata[2]}<br>Recency=%{customdata[3]}<br>Monetary=%{customdata[4]}<br>Frequency=%{customdata[5]}<br>Distrito-Nombretipozona=%{customdata[6]}<extra></extra>",
         "legendgroup": "Cluster 0",
         "marker": {
          "color": "#636efa"
         },
         "name": "Cluster 0",
         "notched": true,
         "offsetgroup": "Cluster 0",
         "showlegend": false,
         "type": "box",
         "x": [
          "Cluster 0",
          "Cluster 0",
          "Cluster 0",
          "Cluster 0"
         ],
         "xaxis": "x2",
         "yaxis": "y2"
        },
        {
         "alignmentgroup": "True",
         "bingroup": "x",
         "hovertemplate": "Cluster=%{x}<br>count=%{y}<extra></extra>",
         "legendgroup": "Cluster 1",
         "marker": {
          "color": "#EF553B",
          "opacity": 0.7,
          "pattern": {
           "shape": ""
          }
         },
         "name": "Cluster 1",
         "offsetgroup": "Cluster 1",
         "orientation": "v",
         "showlegend": true,
         "type": "histogram",
         "x": [
          "Cluster 1",
          "Cluster 1",
          "Cluster 1",
          "Cluster 1",
          "Cluster 1",
          "Cluster 1",
          "Cluster 1",
          "Cluster 1",
          "Cluster 1",
          "Cluster 1",
          "Cluster 1",
          "Cluster 1",
          "Cluster 1",
          "Cluster 1",
          "Cluster 1",
          "Cluster 1",
          "Cluster 1",
          "Cluster 1",
          "Cluster 1",
          "Cluster 1",
          "Cluster 1",
          "Cluster 1",
          "Cluster 1",
          "Cluster 1",
          "Cluster 1",
          "Cluster 1",
          "Cluster 1",
          "Cluster 1",
          "Cluster 1",
          "Cluster 1",
          "Cluster 1",
          "Cluster 1",
          "Cluster 1",
          "Cluster 1",
          "Cluster 1",
          "Cluster 1",
          "Cluster 1",
          "Cluster 1",
          "Cluster 1",
          "Cluster 1",
          "Cluster 1",
          "Cluster 1",
          "Cluster 1",
          "Cluster 1",
          "Cluster 1",
          "Cluster 1",
          "Cluster 1",
          "Cluster 1",
          "Cluster 1",
          "Cluster 1",
          "Cluster 1",
          "Cluster 1",
          "Cluster 1",
          "Cluster 1",
          "Cluster 1",
          "Cluster 1",
          "Cluster 1",
          "Cluster 1",
          "Cluster 1",
          "Cluster 1",
          "Cluster 1",
          "Cluster 1",
          "Cluster 1",
          "Cluster 1",
          "Cluster 1",
          "Cluster 1",
          "Cluster 1",
          "Cluster 1",
          "Cluster 1",
          "Cluster 1",
          "Cluster 1",
          "Cluster 1",
          "Cluster 1",
          "Cluster 1",
          "Cluster 1",
          "Cluster 1",
          "Cluster 1",
          "Cluster 1",
          "Cluster 1",
          "Cluster 1",
          "Cluster 1",
          "Cluster 1",
          "Cluster 1",
          "Cluster 1",
          "Cluster 1",
          "Cluster 1",
          "Cluster 1",
          "Cluster 1",
          "Cluster 1",
          "Cluster 1",
          "Cluster 1",
          "Cluster 1",
          "Cluster 1",
          "Cluster 1",
          "Cluster 1",
          "Cluster 1",
          "Cluster 1",
          "Cluster 1",
          "Cluster 1",
          "Cluster 1",
          "Cluster 1",
          "Cluster 1",
          "Cluster 1",
          "Cluster 1",
          "Cluster 1",
          "Cluster 1",
          "Cluster 1",
          "Cluster 1",
          "Cluster 1"
         ],
         "xaxis": "x",
         "yaxis": "y"
        },
        {
         "alignmentgroup": "True",
         "customdata": [
          [
           117,
           "Mayorista",
           "1760210041-1",
           18,
           422,
           1,
           "117-Mayorista"
          ],
          [
           117,
           "Mayorista",
           "1760168079-1",
           22,
           1762,
           3,
           "117-Mayorista"
          ],
          [
           117,
           "Mayorista",
           "1760145690-1",
           24,
           4172,
           14,
           "117-Mayorista"
          ],
          [
           117,
           "Mayorista",
           "1750735445-1",
           13,
           30181,
           5,
           "117-Mayorista"
          ],
          [
           117,
           "Mayorista",
           "1750734279-1",
           18,
           775,
           3,
           "117-Mayorista"
          ],
          [
           117,
           "Mayorista",
           "1750730744-1",
           21,
           7529,
           2,
           "117-Mayorista"
          ],
          [
           117,
           "Mayorista",
           "1750730702-1",
           8,
           588,
           2,
           "117-Mayorista"
          ],
          [
           117,
           "Mayorista",
           "1750730198-1",
           13,
           5214,
           1,
           "117-Mayorista"
          ],
          [
           117,
           "Mayorista",
           "1750729639-1",
           23,
           32679,
           22,
           "117-Mayorista"
          ],
          [
           117,
           "Mayorista",
           "1750729264-1",
           22,
           9033,
           9,
           "117-Mayorista"
          ],
          [
           117,
           "Mayorista",
           "1760232655-1",
           17,
           869,
           1,
           "117-Mayorista"
          ],
          [
           117,
           "Mayorista",
           "1867962874-1",
           14,
           2144,
           5,
           "117-Mayorista"
          ],
          [
           117,
           "Mayorista",
           "1750709000-1",
           5,
           2910,
           1,
           "117-Mayorista"
          ],
          [
           117,
           "Mayorista",
           "1750629016-1",
           20,
           367,
           2,
           "117-Mayorista"
          ],
          [
           117,
           "Mayorista",
           "1720562035-3",
           12,
           1411,
           3,
           "117-Mayorista"
          ],
          [
           117,
           "Mayorista",
           "1720562035-2",
           11,
           818,
           4,
           "117-Mayorista"
          ],
          [
           117,
           "Mayorista",
           "1690029960-1",
           11,
           3317,
           1,
           "117-Mayorista"
          ],
          [
           117,
           "Mayorista",
           "1670034675-1",
           7,
           20266,
           1,
           "117-Mayorista"
          ],
          [
           117,
           "Mayorista",
           "1669041080-1",
           19,
           5208,
           7,
           "117-Mayorista"
          ],
          [
           117,
           "Mayorista",
           "1669037421-1",
           22,
           1209,
           5,
           "117-Mayorista"
          ],
          [
           117,
           "Mayorista",
           "953442629-1",
           24,
           18084,
           15,
           "117-Mayorista"
          ],
          [
           117,
           "Mayorista",
           "1669033712-1",
           24,
           25923,
           24,
           "117-Mayorista"
          ],
          [
           117,
           "Mayorista",
           "1669029005-1",
           21,
           6187,
           8,
           "117-Mayorista"
          ],
          [
           117,
           "Mayorista",
           "940304232-1",
           8,
           4924,
           1,
           "117-Mayorista"
          ],
          [
           117,
           "Mayorista",
           "940128565-1",
           8,
           670,
           1,
           "117-Mayorista"
          ],
          [
           117,
           "Mayorista",
           "1750709013-1",
           24,
           505,
           1,
           "117-Mayorista"
          ],
          [
           117,
           "Mayorista",
           "1760238145-1",
           19,
           678,
           1,
           "117-Mayorista"
          ],
          [
           117,
           "Mayorista",
           "1760347757-1",
           24,
           391,
           1,
           "117-Mayorista"
          ],
          [
           117,
           "Mayorista",
           "1660223291-1",
           11,
           403,
           1,
           "117-Mayorista"
          ],
          [
           117,
           "Mayorista",
           "953399245-1",
           24,
           19617,
           23,
           "117-Mayorista"
          ],
          [
           117,
           "Mayorista",
           "953328900-1",
           17,
           1990,
           5,
           "117-Mayorista"
          ],
          [
           117,
           "Mayorista",
           "953321924-1",
           24,
           6096,
           8,
           "117-Mayorista"
          ],
          [
           117,
           "Mayorista",
           "953319676-1",
           13,
           1440,
           2,
           "117-Mayorista"
          ],
          [
           117,
           "Mayorista",
           "953264458-1",
           11,
           447,
           1,
           "117-Mayorista"
          ],
          [
           117,
           "Mayorista",
           "953163502-1",
           24,
           21797,
           11,
           "117-Mayorista"
          ],
          [
           117,
           "Mayorista",
           "953162325-1",
           18,
           102,
           1,
           "117-Mayorista"
          ],
          [
           117,
           "Mayorista",
           "953149873-1",
           23,
           5097,
           6,
           "117-Mayorista"
          ],
          [
           117,
           "Mayorista",
           "953148267-1",
           14,
           282,
           1,
           "117-Mayorista"
          ],
          [
           117,
           "Mayorista",
           "953117870-1",
           17,
           226,
           1,
           "117-Mayorista"
          ],
          [
           117,
           "Mayorista",
           "1761631001-1",
           24,
           11815,
           6,
           "117-Mayorista"
          ],
          [
           117,
           "Mayorista",
           "1761557097-1",
           17,
           3420,
           2,
           "117-Mayorista"
          ],
          [
           117,
           "Mayorista",
           "1761509678-1",
           6,
           598,
           1,
           "117-Mayorista"
          ],
          [
           117,
           "Mayorista",
           "1761445100-1",
           7,
           975,
           2,
           "117-Mayorista"
          ],
          [
           117,
           "Mayorista",
           "1761308922-1",
           24,
           4225,
           7,
           "117-Mayorista"
          ],
          [
           117,
           "Mayorista",
           "1761289189-1",
           9,
           16890,
           1,
           "117-Mayorista"
          ],
          [
           117,
           "Mayorista",
           "1761128845-1",
           11,
           8496,
           1,
           "117-Mayorista"
          ],
          [
           117,
           "Mayorista",
           "1760917044-1",
           23,
           4221,
           19,
           "117-Mayorista"
          ],
          [
           117,
           "Mayorista",
           "1760688652-1",
           18,
           19269,
           15,
           "117-Mayorista"
          ],
          [
           117,
           "Mayorista",
           "1760666343-1",
           24,
           1324,
           6,
           "117-Mayorista"
          ],
          [
           117,
           "Mayorista",
           "1760625296-1",
           24,
           6131,
           12,
           "117-Mayorista"
          ],
          [
           117,
           "Mayorista",
           "1760623678-1",
           17,
           599,
           3,
           "117-Mayorista"
          ],
          [
           117,
           "Mayorista",
           "1760540969-1",
           2,
           2287,
           2,
           "117-Mayorista"
          ],
          [
           117,
           "Mayorista",
           "1760467492-1",
           9,
           2975,
           1,
           "117-Mayorista"
          ],
          [
           117,
           "Mayorista",
           "1760412501-1",
           22,
           1899,
           7,
           "117-Mayorista"
          ],
          [
           117,
           "Mayorista",
           "1760339978-1",
           10,
           376,
           1,
           "117-Mayorista"
          ],
          [
           117,
           "Mayorista",
           "1660154319-1",
           24,
           22835,
           15,
           "117-Mayorista"
          ],
          [
           117,
           "Mayorista",
           "953466293-1",
           3,
           700,
           1,
           "117-Mayorista"
          ],
          [
           117,
           "Mayorista",
           "939603318-1",
           23,
           4690,
           6,
           "117-Mayorista"
          ],
          [
           117,
           "Mayorista",
           "888843367-1",
           24,
           22826,
           24,
           "117-Mayorista"
          ],
          [
           117,
           "Mayorista",
           "888745769-1",
           24,
           4470,
           17,
           "117-Mayorista"
          ],
          [
           117,
           "Mayorista",
           "1660128680-1",
           11,
           3343,
           1,
           "117-Mayorista"
          ],
          [
           117,
           "Mayorista",
           "877673686-1",
           2,
           146,
           1,
           "117-Mayorista"
          ],
          [
           117,
           "Mayorista",
           "874349733-1",
           14,
           1490,
           2,
           "117-Mayorista"
          ],
          [
           117,
           "Mayorista",
           "874345349-1",
           24,
           5156,
           9,
           "117-Mayorista"
          ],
          [
           117,
           "Mayorista",
           "874302212-1",
           1,
           864,
           1,
           "117-Mayorista"
          ],
          [
           117,
           "Mayorista",
           "874265422-1",
           24,
           23927,
           11,
           "117-Mayorista"
          ],
          [
           117,
           "Mayorista",
           "874241431-1",
           5,
           274,
           1,
           "117-Mayorista"
          ],
          [
           117,
           "Mayorista",
           "871350103-1",
           24,
           12689,
           19,
           "117-Mayorista"
          ],
          [
           117,
           "Mayorista",
           "871339504-1",
           23,
           23481,
           20,
           "117-Mayorista"
          ],
          [
           117,
           "Mayorista",
           "871330963-1",
           6,
           1650,
           2,
           "117-Mayorista"
          ],
          [
           117,
           "Mayorista",
           "871235026-1",
           22,
           9354,
           13,
           "117-Mayorista"
          ],
          [
           117,
           "Mayorista",
           "871234006-1",
           17,
           2927,
           1,
           "117-Mayorista"
          ],
          [
           117,
           "Mayorista",
           "1970576194-1",
           3,
           1293,
           1,
           "117-Mayorista"
          ],
          [
           117,
           "Mayorista",
           "1970555057-1",
           23,
           31734,
           6,
           "117-Mayorista"
          ],
          [
           117,
           "Mayorista",
           "1970500872-1",
           21,
           1750,
           5,
           "117-Mayorista"
          ],
          [
           117,
           "Mayorista",
           "1970481853-1",
           3,
           449,
           1,
           "117-Mayorista"
          ],
          [
           117,
           "Mayorista",
           "1970478911-1",
           19,
           1169,
           2,
           "117-Mayorista"
          ],
          [
           117,
           "Mayorista",
           "1966767360-1",
           24,
           1416,
           10,
           "117-Mayorista"
          ],
          [
           117,
           "Mayorista",
           "1965820475-1",
           15,
           778,
           2,
           "117-Mayorista"
          ],
          [
           117,
           "Mayorista",
           "1965699546-1",
           13,
           3138,
           11,
           "117-Mayorista"
          ],
          [
           117,
           "Mayorista",
           "1930623169-1",
           13,
           36487,
           4,
           "117-Mayorista"
          ],
          [
           117,
           "Mayorista",
           "1930614724-1",
           24,
           868,
           1,
           "117-Mayorista"
          ],
          [
           117,
           "Mayorista",
           "1915945581-1",
           17,
           5007,
           8,
           "117-Mayorista"
          ],
          [
           117,
           "Mayorista",
           "960962874-1",
           10,
           205,
           1,
           "117-Mayorista"
          ],
          [
           117,
           "Mayorista",
           "870119786-1",
           17,
           10290,
           1,
           "117-Mayorista"
          ],
          [
           117,
           "Mayorista",
           "888991981-1",
           4,
           1450,
           1,
           "117-Mayorista"
          ],
          [
           117,
           "Mayorista",
           "888992017-1",
           22,
           629,
           2,
           "117-Mayorista"
          ],
          [
           117,
           "Mayorista",
           "879497267-1",
           7,
           228,
           1,
           "117-Mayorista"
          ],
          [
           117,
           "Mayorista",
           "913010634-1",
           18,
           11480,
           11,
           "117-Mayorista"
          ],
          [
           117,
           "Mayorista",
           "865941717-1",
           24,
           41881,
           17,
           "117-Mayorista"
          ],
          [
           117,
           "Mayorista",
           "925720444-1",
           6,
           474,
           1,
           "117-Mayorista"
          ],
          [
           117,
           "Mayorista",
           "865921087-1",
           3,
           456,
           1,
           "117-Mayorista"
          ],
          [
           117,
           "Mayorista",
           "865916398-1",
           19,
           7559,
           4,
           "117-Mayorista"
          ],
          [
           117,
           "Mayorista",
           "889022064-1",
           17,
           1855,
           2,
           "117-Mayorista"
          ],
          [
           117,
           "Mayorista",
           "865913296-1",
           24,
           2844,
           7,
           "117-Mayorista"
          ],
          [
           117,
           "Mayorista",
           "925727443-1",
           16,
           13664,
           5,
           "117-Mayorista"
          ],
          [
           117,
           "Mayorista",
           "925727620-1",
           24,
           879,
           3,
           "117-Mayorista"
          ],
          [
           117,
           "Mayorista",
           "865997048-1",
           7,
           910,
           1,
           "117-Mayorista"
          ],
          [
           117,
           "Mayorista",
           "925727922-1",
           17,
           4298,
           1,
           "117-Mayorista"
          ],
          [
           117,
           "Mayorista",
           "925730502-1",
           24,
           38376,
           24,
           "117-Mayorista"
          ],
          [
           117,
           "Mayorista",
           "925659572-1",
           19,
           715,
           1,
           "117-Mayorista"
          ],
          [
           117,
           "Mayorista",
           "925857521-1",
           9,
           3789,
           2,
           "117-Mayorista"
          ],
          [
           117,
           "Mayorista",
           "899591072-1",
           24,
           21554,
           24,
           "117-Mayorista"
          ],
          [
           117,
           "Mayorista",
           "899579443-1",
           12,
           435,
           1,
           "117-Mayorista"
          ],
          [
           117,
           "Mayorista",
           "898259770-1",
           24,
           30326,
           11,
           "117-Mayorista"
          ],
          [
           117,
           "Mayorista",
           "898171052-1",
           17,
           207,
           4,
           "117-Mayorista"
          ],
          [
           117,
           "Mayorista",
           "939566858-1",
           5,
           9838,
           3,
           "117-Mayorista"
          ],
          [
           117,
           "Mayorista",
           "890371956-1",
           24,
           39424,
           24,
           "117-Mayorista"
          ],
          [
           117,
           "Mayorista",
           "925840412-1",
           19,
           10754,
           3,
           "117-Mayorista"
          ]
         ],
         "hovertemplate": "Cluster=%{x}<br>Codigo distrito=%{customdata[0]}<br>Nombre tipo zona=%{customdata[1]}<br>Nit cliente-sucursal=%{customdata[2]}<br>Recency=%{customdata[3]}<br>Monetary=%{customdata[4]}<br>Frequency=%{customdata[5]}<br>Distrito-Nombretipozona=%{customdata[6]}<extra></extra>",
         "legendgroup": "Cluster 1",
         "marker": {
          "color": "#EF553B"
         },
         "name": "Cluster 1",
         "notched": true,
         "offsetgroup": "Cluster 1",
         "showlegend": false,
         "type": "box",
         "x": [
          "Cluster 1",
          "Cluster 1",
          "Cluster 1",
          "Cluster 1",
          "Cluster 1",
          "Cluster 1",
          "Cluster 1",
          "Cluster 1",
          "Cluster 1",
          "Cluster 1",
          "Cluster 1",
          "Cluster 1",
          "Cluster 1",
          "Cluster 1",
          "Cluster 1",
          "Cluster 1",
          "Cluster 1",
          "Cluster 1",
          "Cluster 1",
          "Cluster 1",
          "Cluster 1",
          "Cluster 1",
          "Cluster 1",
          "Cluster 1",
          "Cluster 1",
          "Cluster 1",
          "Cluster 1",
          "Cluster 1",
          "Cluster 1",
          "Cluster 1",
          "Cluster 1",
          "Cluster 1",
          "Cluster 1",
          "Cluster 1",
          "Cluster 1",
          "Cluster 1",
          "Cluster 1",
          "Cluster 1",
          "Cluster 1",
          "Cluster 1",
          "Cluster 1",
          "Cluster 1",
          "Cluster 1",
          "Cluster 1",
          "Cluster 1",
          "Cluster 1",
          "Cluster 1",
          "Cluster 1",
          "Cluster 1",
          "Cluster 1",
          "Cluster 1",
          "Cluster 1",
          "Cluster 1",
          "Cluster 1",
          "Cluster 1",
          "Cluster 1",
          "Cluster 1",
          "Cluster 1",
          "Cluster 1",
          "Cluster 1",
          "Cluster 1",
          "Cluster 1",
          "Cluster 1",
          "Cluster 1",
          "Cluster 1",
          "Cluster 1",
          "Cluster 1",
          "Cluster 1",
          "Cluster 1",
          "Cluster 1",
          "Cluster 1",
          "Cluster 1",
          "Cluster 1",
          "Cluster 1",
          "Cluster 1",
          "Cluster 1",
          "Cluster 1",
          "Cluster 1",
          "Cluster 1",
          "Cluster 1",
          "Cluster 1",
          "Cluster 1",
          "Cluster 1",
          "Cluster 1",
          "Cluster 1",
          "Cluster 1",
          "Cluster 1",
          "Cluster 1",
          "Cluster 1",
          "Cluster 1",
          "Cluster 1",
          "Cluster 1",
          "Cluster 1",
          "Cluster 1",
          "Cluster 1",
          "Cluster 1",
          "Cluster 1",
          "Cluster 1",
          "Cluster 1",
          "Cluster 1",
          "Cluster 1",
          "Cluster 1",
          "Cluster 1",
          "Cluster 1",
          "Cluster 1",
          "Cluster 1",
          "Cluster 1",
          "Cluster 1",
          "Cluster 1"
         ],
         "xaxis": "x2",
         "yaxis": "y2"
        },
        {
         "alignmentgroup": "True",
         "bingroup": "x",
         "hovertemplate": "Cluster=%{x}<br>count=%{y}<extra></extra>",
         "legendgroup": "Cluster 2",
         "marker": {
          "color": "#00cc96",
          "opacity": 0.7,
          "pattern": {
           "shape": ""
          }
         },
         "name": "Cluster 2",
         "offsetgroup": "Cluster 2",
         "orientation": "v",
         "showlegend": true,
         "type": "histogram",
         "x": [
          "Cluster 2"
         ],
         "xaxis": "x",
         "yaxis": "y"
        },
        {
         "alignmentgroup": "True",
         "customdata": [
          [
           117,
           "Mayorista",
           "1669039644-1",
           24,
           2432909,
           24,
           "117-Mayorista"
          ]
         ],
         "hovertemplate": "Cluster=%{x}<br>Codigo distrito=%{customdata[0]}<br>Nombre tipo zona=%{customdata[1]}<br>Nit cliente-sucursal=%{customdata[2]}<br>Recency=%{customdata[3]}<br>Monetary=%{customdata[4]}<br>Frequency=%{customdata[5]}<br>Distrito-Nombretipozona=%{customdata[6]}<extra></extra>",
         "legendgroup": "Cluster 2",
         "marker": {
          "color": "#00cc96"
         },
         "name": "Cluster 2",
         "notched": true,
         "offsetgroup": "Cluster 2",
         "showlegend": false,
         "type": "box",
         "x": [
          "Cluster 2"
         ],
         "xaxis": "x2",
         "yaxis": "y2"
        },
        {
         "alignmentgroup": "True",
         "bingroup": "x",
         "hovertemplate": "Cluster=%{x}<br>count=%{y}<extra></extra>",
         "legendgroup": "Cluster 3",
         "marker": {
          "color": "#ab63fa",
          "opacity": 0.7,
          "pattern": {
           "shape": ""
          }
         },
         "name": "Cluster 3",
         "offsetgroup": "Cluster 3",
         "orientation": "v",
         "showlegend": true,
         "type": "histogram",
         "x": [
          "Cluster 3",
          "Cluster 3",
          "Cluster 3"
         ],
         "xaxis": "x",
         "yaxis": "y"
        },
        {
         "alignmentgroup": "True",
         "customdata": [
          [
           117,
           "Mayorista",
           "1760392522-1",
           24,
           631901,
           23,
           "117-Mayorista"
          ],
          [
           117,
           "Mayorista",
           "1760269910-1",
           24,
           788702,
           24,
           "117-Mayorista"
          ],
          [
           117,
           "Mayorista",
           "953414754-1",
           22,
           721928,
           19,
           "117-Mayorista"
          ]
         ],
         "hovertemplate": "Cluster=%{x}<br>Codigo distrito=%{customdata[0]}<br>Nombre tipo zona=%{customdata[1]}<br>Nit cliente-sucursal=%{customdata[2]}<br>Recency=%{customdata[3]}<br>Monetary=%{customdata[4]}<br>Frequency=%{customdata[5]}<br>Distrito-Nombretipozona=%{customdata[6]}<extra></extra>",
         "legendgroup": "Cluster 3",
         "marker": {
          "color": "#ab63fa"
         },
         "name": "Cluster 3",
         "notched": true,
         "offsetgroup": "Cluster 3",
         "showlegend": false,
         "type": "box",
         "x": [
          "Cluster 3",
          "Cluster 3",
          "Cluster 3"
         ],
         "xaxis": "x2",
         "yaxis": "y2"
        },
        {
         "alignmentgroup": "True",
         "bingroup": "x",
         "hovertemplate": "Cluster=%{x}<br>count=%{y}<extra></extra>",
         "legendgroup": "Cluster 4",
         "marker": {
          "color": "#FFA15A",
          "opacity": 0.7,
          "pattern": {
           "shape": ""
          }
         },
         "name": "Cluster 4",
         "offsetgroup": "Cluster 4",
         "orientation": "v",
         "showlegend": true,
         "type": "histogram",
         "x": [
          "Cluster 4",
          "Cluster 4",
          "Cluster 4",
          "Cluster 4",
          "Cluster 4",
          "Cluster 4",
          "Cluster 4",
          "Cluster 4",
          "Cluster 4",
          "Cluster 4",
          "Cluster 4",
          "Cluster 4",
          "Cluster 4",
          "Cluster 4",
          "Cluster 4",
          "Cluster 4",
          "Cluster 4",
          "Cluster 4",
          "Cluster 4"
         ],
         "xaxis": "x",
         "yaxis": "y"
        },
        {
         "alignmentgroup": "True",
         "customdata": [
          [
           117,
           "Mayorista",
           "1930655319-1",
           22,
           63255,
           6,
           "117-Mayorista"
          ],
          [
           117,
           "Mayorista",
           "1669039165-1",
           24,
           86023,
           24,
           "117-Mayorista"
          ],
          [
           117,
           "Mayorista",
           "1761652247-1",
           24,
           51405,
           3,
           "117-Mayorista"
          ],
          [
           117,
           "Mayorista",
           "1760126837-1",
           24,
           106591,
           22,
           "117-Mayorista"
          ],
          [
           117,
           "Mayorista",
           "1761193596-1",
           24,
           106141,
           18,
           "117-Mayorista"
          ],
          [
           117,
           "Mayorista",
           "1750628625-1",
           24,
           56918,
           20,
           "117-Mayorista"
          ],
          [
           117,
           "Mayorista",
           "1761138559-1",
           24,
           153782,
           17,
           "117-Mayorista"
          ],
          [
           117,
           "Mayorista",
           "871346353-1",
           24,
           110678,
           15,
           "117-Mayorista"
          ],
          [
           117,
           "Mayorista",
           "871349829-1",
           23,
           52589,
           23,
           "117-Mayorista"
          ],
          [
           117,
           "Mayorista",
           "865910574-1",
           24,
           58952,
           24,
           "117-Mayorista"
          ],
          [
           117,
           "Mayorista",
           "1760658875-1",
           24,
           60709,
           23,
           "117-Mayorista"
          ],
          [
           117,
           "Mayorista",
           "1750729523-1",
           22,
           51293,
           12,
           "117-Mayorista"
          ],
          [
           117,
           "Mayorista",
           "912873855-1",
           24,
           49403,
           24,
           "117-Mayorista"
          ],
          [
           117,
           "Mayorista",
           "1760520271-1",
           22,
           127424,
           7,
           "117-Mayorista"
          ],
          [
           117,
           "Mayorista",
           "899608159-1",
           24,
           61958,
           24,
           "117-Mayorista"
          ],
          [
           117,
           "Mayorista",
           "888769761-1",
           24,
           104352,
           23,
           "117-Mayorista"
          ],
          [
           117,
           "Mayorista",
           "1750734689-1",
           21,
           60119,
           11,
           "117-Mayorista"
          ],
          [
           117,
           "Mayorista",
           "1761444762-1",
           24,
           74440,
           19,
           "117-Mayorista"
          ],
          [
           117,
           "Mayorista",
           "1669036177-1",
           23,
           195474,
           19,
           "117-Mayorista"
          ]
         ],
         "hovertemplate": "Cluster=%{x}<br>Codigo distrito=%{customdata[0]}<br>Nombre tipo zona=%{customdata[1]}<br>Nit cliente-sucursal=%{customdata[2]}<br>Recency=%{customdata[3]}<br>Monetary=%{customdata[4]}<br>Frequency=%{customdata[5]}<br>Distrito-Nombretipozona=%{customdata[6]}<extra></extra>",
         "legendgroup": "Cluster 4",
         "marker": {
          "color": "#FFA15A"
         },
         "name": "Cluster 4",
         "notched": true,
         "offsetgroup": "Cluster 4",
         "showlegend": false,
         "type": "box",
         "x": [
          "Cluster 4",
          "Cluster 4",
          "Cluster 4",
          "Cluster 4",
          "Cluster 4",
          "Cluster 4",
          "Cluster 4",
          "Cluster 4",
          "Cluster 4",
          "Cluster 4",
          "Cluster 4",
          "Cluster 4",
          "Cluster 4",
          "Cluster 4",
          "Cluster 4",
          "Cluster 4",
          "Cluster 4",
          "Cluster 4",
          "Cluster 4"
         ],
         "xaxis": "x2",
         "yaxis": "y2"
        }
       ],
       "layout": {
        "barmode": "relative",
        "height": 600,
        "legend": {
         "title": {
          "text": "Cluster"
         },
         "tracegroupgap": 0
        },
        "margin": {
         "t": 60
        },
        "template": {
         "data": {
          "bar": [
           {
            "error_x": {
             "color": "#2a3f5f"
            },
            "error_y": {
             "color": "#2a3f5f"
            },
            "marker": {
             "line": {
              "color": "#E5ECF6",
              "width": 0.5
             },
             "pattern": {
              "fillmode": "overlay",
              "size": 10,
              "solidity": 0.2
             }
            },
            "type": "bar"
           }
          ],
          "barpolar": [
           {
            "marker": {
             "line": {
              "color": "#E5ECF6",
              "width": 0.5
             },
             "pattern": {
              "fillmode": "overlay",
              "size": 10,
              "solidity": 0.2
             }
            },
            "type": "barpolar"
           }
          ],
          "carpet": [
           {
            "aaxis": {
             "endlinecolor": "#2a3f5f",
             "gridcolor": "white",
             "linecolor": "white",
             "minorgridcolor": "white",
             "startlinecolor": "#2a3f5f"
            },
            "baxis": {
             "endlinecolor": "#2a3f5f",
             "gridcolor": "white",
             "linecolor": "white",
             "minorgridcolor": "white",
             "startlinecolor": "#2a3f5f"
            },
            "type": "carpet"
           }
          ],
          "choropleth": [
           {
            "colorbar": {
             "outlinewidth": 0,
             "ticks": ""
            },
            "type": "choropleth"
           }
          ],
          "contour": [
           {
            "colorbar": {
             "outlinewidth": 0,
             "ticks": ""
            },
            "colorscale": [
             [
              0,
              "#0d0887"
             ],
             [
              0.1111111111111111,
              "#46039f"
             ],
             [
              0.2222222222222222,
              "#7201a8"
             ],
             [
              0.3333333333333333,
              "#9c179e"
             ],
             [
              0.4444444444444444,
              "#bd3786"
             ],
             [
              0.5555555555555556,
              "#d8576b"
             ],
             [
              0.6666666666666666,
              "#ed7953"
             ],
             [
              0.7777777777777778,
              "#fb9f3a"
             ],
             [
              0.8888888888888888,
              "#fdca26"
             ],
             [
              1,
              "#f0f921"
             ]
            ],
            "type": "contour"
           }
          ],
          "contourcarpet": [
           {
            "colorbar": {
             "outlinewidth": 0,
             "ticks": ""
            },
            "type": "contourcarpet"
           }
          ],
          "heatmap": [
           {
            "colorbar": {
             "outlinewidth": 0,
             "ticks": ""
            },
            "colorscale": [
             [
              0,
              "#0d0887"
             ],
             [
              0.1111111111111111,
              "#46039f"
             ],
             [
              0.2222222222222222,
              "#7201a8"
             ],
             [
              0.3333333333333333,
              "#9c179e"
             ],
             [
              0.4444444444444444,
              "#bd3786"
             ],
             [
              0.5555555555555556,
              "#d8576b"
             ],
             [
              0.6666666666666666,
              "#ed7953"
             ],
             [
              0.7777777777777778,
              "#fb9f3a"
             ],
             [
              0.8888888888888888,
              "#fdca26"
             ],
             [
              1,
              "#f0f921"
             ]
            ],
            "type": "heatmap"
           }
          ],
          "heatmapgl": [
           {
            "colorbar": {
             "outlinewidth": 0,
             "ticks": ""
            },
            "colorscale": [
             [
              0,
              "#0d0887"
             ],
             [
              0.1111111111111111,
              "#46039f"
             ],
             [
              0.2222222222222222,
              "#7201a8"
             ],
             [
              0.3333333333333333,
              "#9c179e"
             ],
             [
              0.4444444444444444,
              "#bd3786"
             ],
             [
              0.5555555555555556,
              "#d8576b"
             ],
             [
              0.6666666666666666,
              "#ed7953"
             ],
             [
              0.7777777777777778,
              "#fb9f3a"
             ],
             [
              0.8888888888888888,
              "#fdca26"
             ],
             [
              1,
              "#f0f921"
             ]
            ],
            "type": "heatmapgl"
           }
          ],
          "histogram": [
           {
            "marker": {
             "pattern": {
              "fillmode": "overlay",
              "size": 10,
              "solidity": 0.2
             }
            },
            "type": "histogram"
           }
          ],
          "histogram2d": [
           {
            "colorbar": {
             "outlinewidth": 0,
             "ticks": ""
            },
            "colorscale": [
             [
              0,
              "#0d0887"
             ],
             [
              0.1111111111111111,
              "#46039f"
             ],
             [
              0.2222222222222222,
              "#7201a8"
             ],
             [
              0.3333333333333333,
              "#9c179e"
             ],
             [
              0.4444444444444444,
              "#bd3786"
             ],
             [
              0.5555555555555556,
              "#d8576b"
             ],
             [
              0.6666666666666666,
              "#ed7953"
             ],
             [
              0.7777777777777778,
              "#fb9f3a"
             ],
             [
              0.8888888888888888,
              "#fdca26"
             ],
             [
              1,
              "#f0f921"
             ]
            ],
            "type": "histogram2d"
           }
          ],
          "histogram2dcontour": [
           {
            "colorbar": {
             "outlinewidth": 0,
             "ticks": ""
            },
            "colorscale": [
             [
              0,
              "#0d0887"
             ],
             [
              0.1111111111111111,
              "#46039f"
             ],
             [
              0.2222222222222222,
              "#7201a8"
             ],
             [
              0.3333333333333333,
              "#9c179e"
             ],
             [
              0.4444444444444444,
              "#bd3786"
             ],
             [
              0.5555555555555556,
              "#d8576b"
             ],
             [
              0.6666666666666666,
              "#ed7953"
             ],
             [
              0.7777777777777778,
              "#fb9f3a"
             ],
             [
              0.8888888888888888,
              "#fdca26"
             ],
             [
              1,
              "#f0f921"
             ]
            ],
            "type": "histogram2dcontour"
           }
          ],
          "mesh3d": [
           {
            "colorbar": {
             "outlinewidth": 0,
             "ticks": ""
            },
            "type": "mesh3d"
           }
          ],
          "parcoords": [
           {
            "line": {
             "colorbar": {
              "outlinewidth": 0,
              "ticks": ""
             }
            },
            "type": "parcoords"
           }
          ],
          "pie": [
           {
            "automargin": true,
            "type": "pie"
           }
          ],
          "scatter": [
           {
            "fillpattern": {
             "fillmode": "overlay",
             "size": 10,
             "solidity": 0.2
            },
            "type": "scatter"
           }
          ],
          "scatter3d": [
           {
            "line": {
             "colorbar": {
              "outlinewidth": 0,
              "ticks": ""
             }
            },
            "marker": {
             "colorbar": {
              "outlinewidth": 0,
              "ticks": ""
             }
            },
            "type": "scatter3d"
           }
          ],
          "scattercarpet": [
           {
            "marker": {
             "colorbar": {
              "outlinewidth": 0,
              "ticks": ""
             }
            },
            "type": "scattercarpet"
           }
          ],
          "scattergeo": [
           {
            "marker": {
             "colorbar": {
              "outlinewidth": 0,
              "ticks": ""
             }
            },
            "type": "scattergeo"
           }
          ],
          "scattergl": [
           {
            "marker": {
             "colorbar": {
              "outlinewidth": 0,
              "ticks": ""
             }
            },
            "type": "scattergl"
           }
          ],
          "scattermapbox": [
           {
            "marker": {
             "colorbar": {
              "outlinewidth": 0,
              "ticks": ""
             }
            },
            "type": "scattermapbox"
           }
          ],
          "scatterpolar": [
           {
            "marker": {
             "colorbar": {
              "outlinewidth": 0,
              "ticks": ""
             }
            },
            "type": "scatterpolar"
           }
          ],
          "scatterpolargl": [
           {
            "marker": {
             "colorbar": {
              "outlinewidth": 0,
              "ticks": ""
             }
            },
            "type": "scatterpolargl"
           }
          ],
          "scatterternary": [
           {
            "marker": {
             "colorbar": {
              "outlinewidth": 0,
              "ticks": ""
             }
            },
            "type": "scatterternary"
           }
          ],
          "surface": [
           {
            "colorbar": {
             "outlinewidth": 0,
             "ticks": ""
            },
            "colorscale": [
             [
              0,
              "#0d0887"
             ],
             [
              0.1111111111111111,
              "#46039f"
             ],
             [
              0.2222222222222222,
              "#7201a8"
             ],
             [
              0.3333333333333333,
              "#9c179e"
             ],
             [
              0.4444444444444444,
              "#bd3786"
             ],
             [
              0.5555555555555556,
              "#d8576b"
             ],
             [
              0.6666666666666666,
              "#ed7953"
             ],
             [
              0.7777777777777778,
              "#fb9f3a"
             ],
             [
              0.8888888888888888,
              "#fdca26"
             ],
             [
              1,
              "#f0f921"
             ]
            ],
            "type": "surface"
           }
          ],
          "table": [
           {
            "cells": {
             "fill": {
              "color": "#EBF0F8"
             },
             "line": {
              "color": "white"
             }
            },
            "header": {
             "fill": {
              "color": "#C8D4E3"
             },
             "line": {
              "color": "white"
             }
            },
            "type": "table"
           }
          ]
         },
         "layout": {
          "annotationdefaults": {
           "arrowcolor": "#2a3f5f",
           "arrowhead": 0,
           "arrowwidth": 1
          },
          "autotypenumbers": "strict",
          "coloraxis": {
           "colorbar": {
            "outlinewidth": 0,
            "ticks": ""
           }
          },
          "colorscale": {
           "diverging": [
            [
             0,
             "#8e0152"
            ],
            [
             0.1,
             "#c51b7d"
            ],
            [
             0.2,
             "#de77ae"
            ],
            [
             0.3,
             "#f1b6da"
            ],
            [
             0.4,
             "#fde0ef"
            ],
            [
             0.5,
             "#f7f7f7"
            ],
            [
             0.6,
             "#e6f5d0"
            ],
            [
             0.7,
             "#b8e186"
            ],
            [
             0.8,
             "#7fbc41"
            ],
            [
             0.9,
             "#4d9221"
            ],
            [
             1,
             "#276419"
            ]
           ],
           "sequential": [
            [
             0,
             "#0d0887"
            ],
            [
             0.1111111111111111,
             "#46039f"
            ],
            [
             0.2222222222222222,
             "#7201a8"
            ],
            [
             0.3333333333333333,
             "#9c179e"
            ],
            [
             0.4444444444444444,
             "#bd3786"
            ],
            [
             0.5555555555555556,
             "#d8576b"
            ],
            [
             0.6666666666666666,
             "#ed7953"
            ],
            [
             0.7777777777777778,
             "#fb9f3a"
            ],
            [
             0.8888888888888888,
             "#fdca26"
            ],
            [
             1,
             "#f0f921"
            ]
           ],
           "sequentialminus": [
            [
             0,
             "#0d0887"
            ],
            [
             0.1111111111111111,
             "#46039f"
            ],
            [
             0.2222222222222222,
             "#7201a8"
            ],
            [
             0.3333333333333333,
             "#9c179e"
            ],
            [
             0.4444444444444444,
             "#bd3786"
            ],
            [
             0.5555555555555556,
             "#d8576b"
            ],
            [
             0.6666666666666666,
             "#ed7953"
            ],
            [
             0.7777777777777778,
             "#fb9f3a"
            ],
            [
             0.8888888888888888,
             "#fdca26"
            ],
            [
             1,
             "#f0f921"
            ]
           ]
          },
          "colorway": [
           "#636efa",
           "#EF553B",
           "#00cc96",
           "#ab63fa",
           "#FFA15A",
           "#19d3f3",
           "#FF6692",
           "#B6E880",
           "#FF97FF",
           "#FECB52"
          ],
          "font": {
           "color": "#2a3f5f"
          },
          "geo": {
           "bgcolor": "white",
           "lakecolor": "white",
           "landcolor": "#E5ECF6",
           "showlakes": true,
           "showland": true,
           "subunitcolor": "white"
          },
          "hoverlabel": {
           "align": "left"
          },
          "hovermode": "closest",
          "mapbox": {
           "style": "light"
          },
          "paper_bgcolor": "white",
          "plot_bgcolor": "#E5ECF6",
          "polar": {
           "angularaxis": {
            "gridcolor": "white",
            "linecolor": "white",
            "ticks": ""
           },
           "bgcolor": "#E5ECF6",
           "radialaxis": {
            "gridcolor": "white",
            "linecolor": "white",
            "ticks": ""
           }
          },
          "scene": {
           "xaxis": {
            "backgroundcolor": "#E5ECF6",
            "gridcolor": "white",
            "gridwidth": 2,
            "linecolor": "white",
            "showbackground": true,
            "ticks": "",
            "zerolinecolor": "white"
           },
           "yaxis": {
            "backgroundcolor": "#E5ECF6",
            "gridcolor": "white",
            "gridwidth": 2,
            "linecolor": "white",
            "showbackground": true,
            "ticks": "",
            "zerolinecolor": "white"
           },
           "zaxis": {
            "backgroundcolor": "#E5ECF6",
            "gridcolor": "white",
            "gridwidth": 2,
            "linecolor": "white",
            "showbackground": true,
            "ticks": "",
            "zerolinecolor": "white"
           }
          },
          "shapedefaults": {
           "line": {
            "color": "#2a3f5f"
           }
          },
          "ternary": {
           "aaxis": {
            "gridcolor": "white",
            "linecolor": "white",
            "ticks": ""
           },
           "baxis": {
            "gridcolor": "white",
            "linecolor": "white",
            "ticks": ""
           },
           "bgcolor": "#E5ECF6",
           "caxis": {
            "gridcolor": "white",
            "linecolor": "white",
            "ticks": ""
           }
          },
          "title": {
           "x": 0.05
          },
          "xaxis": {
           "automargin": true,
           "gridcolor": "white",
           "linecolor": "white",
           "ticks": "",
           "title": {
            "standoff": 15
           },
           "zerolinecolor": "white",
           "zerolinewidth": 2
          },
          "yaxis": {
           "automargin": true,
           "gridcolor": "white",
           "linecolor": "white",
           "ticks": "",
           "title": {
            "standoff": 15
           },
           "zerolinecolor": "white",
           "zerolinewidth": 2
          }
         }
        },
        "xaxis": {
         "anchor": "y",
         "categoryarray": [
          "Cluster 0",
          "Cluster 1",
          "Cluster 2",
          "Cluster 3",
          "Cluster 4"
         ],
         "categoryorder": "array",
         "domain": [
          0,
          1
         ],
         "title": {
          "text": "Cluster"
         }
        },
        "xaxis2": {
         "anchor": "y2",
         "domain": [
          0,
          1
         ],
         "matches": "x",
         "showgrid": true,
         "showticklabels": false
        },
        "yaxis": {
         "anchor": "x",
         "domain": [
          0,
          0.7326
         ],
         "title": {
          "text": "count"
         }
        },
        "yaxis2": {
         "anchor": "x2",
         "domain": [
          0.7426,
          1
         ],
         "matches": "y2",
         "showgrid": false,
         "showline": false,
         "showticklabels": false,
         "ticks": ""
        }
       }
      }
     },
     "metadata": {},
     "output_type": "display_data"
    }
   ],
   "source": [
    "plot_model(model_kmeans, plot = 'distribution')"
   ]
  }
 ],
 "metadata": {
  "kernelspec": {
   "display_name": "Python 3.8.13 ('py38')",
   "language": "python",
   "name": "python3"
  },
  "language_info": {
   "codemirror_mode": {
    "name": "ipython",
    "version": 3
   },
   "file_extension": ".py",
   "mimetype": "text/x-python",
   "name": "python",
   "nbconvert_exporter": "python",
   "pygments_lexer": "ipython3",
   "version": "3.8.13"
  },
  "orig_nbformat": 4,
  "vscode": {
   "interpreter": {
    "hash": "d6c6a9368ffd28e969f7d90a4d7c29e7466278b3cb1a367b914bbfe92c83c635"
   }
  }
 },
 "nbformat": 4,
 "nbformat_minor": 2
}
