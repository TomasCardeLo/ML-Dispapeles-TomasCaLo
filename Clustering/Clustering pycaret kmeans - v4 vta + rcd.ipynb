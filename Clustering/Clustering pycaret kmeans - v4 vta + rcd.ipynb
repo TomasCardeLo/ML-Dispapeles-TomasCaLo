{
 "cells": [
  {
   "attachments": {},
   "cell_type": "markdown",
   "metadata": {},
   "source": [
    "##### Cargue de librerias"
   ]
  },
  {
   "cell_type": "code",
   "execution_count": 1,
   "metadata": {},
   "outputs": [],
   "source": [
    "from pycaret.clustering import *\n",
    "import pyodbc\n",
    "import pandas as pd\n",
    "import numpy as np\n",
    "import matplotlib.pyplot as plt\n",
    "import seaborn as sns\n",
    "from random import randint\n",
    "import plotly.express as px\n",
    "import plotly.figure_factory as ff\n",
    "import plotly.subplots as sp\n",
    "import plotly.graph_objs as go\n",
    "\n",
    "import warnings\n",
    "warnings.filterwarnings(\"ignore\")"
   ]
  },
  {
   "attachments": {},
   "cell_type": "markdown",
   "metadata": {},
   "source": [
    "##### Conexion al DWH de Dispapeles y carga de bds adicionales"
   ]
  },
  {
   "cell_type": "code",
   "execution_count": 2,
   "metadata": {},
   "outputs": [],
   "source": [
    "def df_clustering(consulta_SQL):\n",
    "    ## Conexion al DWH\n",
    "    cnxn = pyodbc.connect(\n",
    "        driver='{SQL Server}',\n",
    "        server='192.168.100.58',\n",
    "        uid='bilectura',\n",
    "        pwd='D1sp@p3l3s')\n",
    "    cursor = cnxn.cursor()\n",
    "    \n",
    "    #Cargue de la data desde el ERP de Dispapeles y se guarda en df\n",
    "    cursor.execute(consulta_SQL)\n",
    "    rows = cursor.fetchall()\n",
    "    \n",
    "    df = pd.DataFrame.from_records(rows, columns=[col[0] for col in cursor.description])\n",
    "\n",
    "    return df"
   ]
  },
  {
   "attachments": {},
   "cell_type": "markdown",
   "metadata": {},
   "source": [
    "##### Funcion EDA"
   ]
  },
  {
   "cell_type": "code",
   "execution_count": 3,
   "metadata": {},
   "outputs": [],
   "source": [
    "# def histograma(bd):\n",
    "#     fig, ax = plt.subplots(1, 3, figsize= (15,5))\n",
    "#     sns.hist(bd[\"Escala R\"], ax= ax[0], color= \"blue\", fill= True)\n",
    "#     sns.hist(bd[\"Escala F\"], ax= ax[1], color= \"red\", fill= True)\n",
    "#     sns.hist(bd[\"Escala M\"], ax= ax[2], color= \"yellow\", fill= True)\n",
    "#     fig.suptitle(\"Distribuciones del modelo RFM\")\n",
    "#     plt.show()\n",
    "\n",
    "def histograma(bd):\n",
    "    hist_data = [bd[\"Escala R\"], bd[\"Escala F\"], bd[\"Escala M\"]]\n",
    "    group_labels = [\"Escala R\", \"Escala F\", \"Escala M\"]\n",
    "    fig = sp.make_subplots(rows=1, cols=3)\n",
    "    \n",
    "    for i in range(3):\n",
    "        fig.add_trace(go.Histogram(x=hist_data[i], showlegend=False, histfunc=\"avg\"), row=1, col=i+1)\n",
    "    fig.update_layout(\n",
    "        title=\"Histogramas de Escala R, Escala F y Escala M\",\n",
    "        xaxis=dict(title=\"Valor\"),\n",
    "        yaxis=dict(title=\"Frecuencia\"),\n",
    "        showlegend=False\n",
    "    )\n",
    "    fig.show()\n",
    "\n",
    "# def scatter(bd):\n",
    "#     fig, ax = plt.subplots(1, 1, figsize= (8,5))\n",
    "#     sns.scatterplot(x= \"Escala R\", size= \"Escala F\", y= \"Escala M\", data= bd)\n",
    "#     fig.suptitle(\"Scatter del modelo RFM\")\n",
    "#     plt.show()\n",
    "\n",
    "def scatter(bd):\n",
    "    fig = px.scatter(bd, x= \"Escala R\", y= \"Escala F\", color= \"Escala M\")\n",
    "    fig.show()\n",
    "\n",
    "# def matrix(bd, col):\n",
    "#     corr_matrix = bd[col].corr()\n",
    "#     fig, ax = plt.subplots(figsize=(8, 6))\n",
    "#     sns.heatmap(corr_matrix, annot=True, cmap=\"coolwarm\", vmin=-1, vmax=1, ax=ax)\n",
    "#     plt.title(\"Matriz de correlación\")\n",
    "#     plt.show()\n",
    "\n",
    "def matrix(bd, col):\n",
    "    corr_matrix = bd[col].corr()\n",
    "    fig = px.imshow(corr_matrix, text_auto=True)\n",
    "    fig.show()\n",
    "    \n",
    "def EDA(bd):\n",
    "    bd = bd.reset_index()\n",
    "    print(f\"Esta base de datos tiene {len(bd)} registros,\")\n",
    "    print(f\"hace parte del distrito {bd['Codigo distrito'][0]}\")\n",
    "    print(f\"y el tipo de zona es {bd['Nombre tipo zona'][0]}\")\n",
    "    \n",
    "    print(\" \")\n",
    "    print(\"Describe de la base de datos\")\n",
    "    describe = bd.describe().applymap(\"{:,.0f}\".format)\n",
    "    print(describe[[\"Escala R\", \"Escala F\", \"Escala M\"]][1:])\n",
    "    \n",
    "    print(\" \")\n",
    "    \n",
    "    histograma(bd)\n",
    "    scatter(bd)\n",
    "    matrix(bd, [\"Escala R\", \"Escala F\", \"Escala M\"])"
   ]
  },
  {
   "attachments": {},
   "cell_type": "markdown",
   "metadata": {},
   "source": [
    "##### Funciones estandarizacion"
   ]
  },
  {
   "cell_type": "code",
   "execution_count": 4,
   "metadata": {},
   "outputs": [],
   "source": [
    "# Crear una función para asignar etiquetas basadas en percentiles\n",
    "def asignar_escala_R(valor, escalas_R= [24, 21, 15, 8, 0]):\n",
    "    if valor >= escalas_R[0]:\n",
    "        return 5\n",
    "    elif valor >= escalas_R[1]:\n",
    "        return 4\n",
    "    elif valor >= escalas_R[2]:\n",
    "        return 3\n",
    "    elif valor >= escalas_R[3]:\n",
    "        return 2\n",
    "    else:\n",
    "        return 1\n",
    "    \n",
    "def asignar_escala_F(valor, escalas_F= [24, 21, 15, 8, 0]):\n",
    "    if valor >= escalas_F[0]:\n",
    "        return 5\n",
    "    elif valor >= escalas_F[1]:\n",
    "        return 4\n",
    "    elif valor >= escalas_F[2]:\n",
    "        return 3\n",
    "    elif valor >= escalas_F[3]:\n",
    "        return 2\n",
    "    else:\n",
    "        return 1\n",
    "    \n",
    "def asignar_escala_M(valor):\n",
    "    if valor <= escalas_M[1]:\n",
    "        return 1\n",
    "    elif valor <= escalas_M[2]:\n",
    "        return 2\n",
    "    elif valor <= escalas_M[3]:\n",
    "        return 3\n",
    "    elif valor <= escalas_M[4]:\n",
    "        return 4\n",
    "    else:\n",
    "        return 5\n",
    "    "
   ]
  },
  {
   "attachments": {},
   "cell_type": "markdown",
   "metadata": {},
   "source": [
    "##### Carga de la base de datos"
   ]
  },
  {
   "cell_type": "code",
   "execution_count": 5,
   "metadata": {},
   "outputs": [],
   "source": [
    "# Consulta SQL para descargar la informacion a usar\n",
    "codigo_SQL_vta = \"SELECT A.DSTCOD AS 'Codigo distrito', B.VNDZNA AS 'Codigo zona actual', CONCAT(CONCAT(A.VTANIT,'-'),A.VTASUC) AS 'Nit cliente-sucursal', A.VTAANO AS 'Ano', A.VTAMES AS 'Mes', (((2021 - MAX(A.VTAANO)) * 12 ) + (0 - MAX(A.VTAMES))) * -1 AS 'Recency', SUM(A.VTAVLRVTA) AS 'Monetary', COUNT( DISTINCT A.VTAMES) AS 'Frequency' FROM V_VTA_VTAHEC A LEFT JOIN\tDIM_CLIENTES B ON A.PRMCOD = B.PRMCOD AND A.DSTCOD = B.DSTCOD AND A.VTANIT = B.CLTNIT AND A.VTASUC = B.CLTSUC WHERE A.PRMCOD = 1 AND A.DSTCOD NOT IN (30,35) AND A.VTAZNA < 96 AND A.VTAFCH BETWEEN '2021-01-01' AND '2022-12-31' GROUP BY A.DSTCOD, B.VNDZNA, CONCAT(CONCAT(A.VTANIT,'-'),A.VTASUC), A.VTAANO, A.VTAMES HAVING SUM(A.VTAVLRVTA) > 0\"\n",
    "codigo_SQL_rdo = \"SELECT Distrito AS 'Codigo distrito', Zona AS 'Codigo zona actual', CONCAT(CONCAT(Cliente,'-'), Suc) AS 'Nit cliente-sucursal', YEAR(Fch_PagoRecaudo) AS 'Ano', MONTH(Fch_PagoRecaudo) AS 'Mes', (((2021 - MAX(YEAR(Fch_PagoRecaudo))) * 12 ) + (0 - MAX(MONTH(Fch_PagoRecaudo)))) * -1 AS 'Recency', SUM(SinVenc + [Venc.30] + [Venc.60] + [Venc.90] + [Venc.120] + [Venc++120]) 'Monetary', COUNT(DISTINCT MONTH(Fch_PagoRecaudo)) AS 'Frequency' FROM RECAUDOS WHERE Distrito NOT IN (30, 35) AND Fch_PagoRecaudo BETWEEN '2021-01-01' AND '2022-12-31' AND Empresa = 1 GROUP BY Distrito, Zona, CONCAT(CONCAT(Cliente,'-'), Suc), YEAR(Fch_PagoRecaudo), MONTH(Fch_PagoRecaudo) HAVING\tSUM(SinVenc + [Venc.30] + [Venc.60] + [Venc.90] + [Venc.120] + [Venc++120]) > 0\"\n",
    "\n",
    "# Consulta adicional para establecer el tipo de zona\n",
    "maestra_zonas = pd.read_csv('C:/Users/tcardenas/OneDrive/OneDrive - Grupo DISPAPELES/Documents/Análisis clustering/Maestra_zonas.csv', delimiter= \";\")"
   ]
  },
  {
   "cell_type": "code",
   "execution_count": 22,
   "metadata": {},
   "outputs": [],
   "source": [
    "df_vta = df_clustering(codigo_SQL_vta)\n",
    "df_rdo = df_clustering(codigo_SQL_rdo)\n",
    "# df = df_clustering(codigo_SQL)"
   ]
  },
  {
   "cell_type": "code",
   "execution_count": 21,
   "metadata": {},
   "outputs": [
    {
     "data": {
      "text/html": [
       "<div>\n",
       "<style scoped>\n",
       "    .dataframe tbody tr th:only-of-type {\n",
       "        vertical-align: middle;\n",
       "    }\n",
       "\n",
       "    .dataframe tbody tr th {\n",
       "        vertical-align: top;\n",
       "    }\n",
       "\n",
       "    .dataframe thead th {\n",
       "        text-align: right;\n",
       "    }\n",
       "</style>\n",
       "<table border=\"1\" class=\"dataframe\">\n",
       "  <thead>\n",
       "    <tr style=\"text-align: right;\">\n",
       "      <th></th>\n",
       "      <th>Codigo distrito</th>\n",
       "      <th>Codigo zona actual</th>\n",
       "      <th>Nit cliente-sucursal</th>\n",
       "      <th>Ano</th>\n",
       "      <th>Mes</th>\n",
       "      <th>Recency</th>\n",
       "      <th>Monetary</th>\n",
       "      <th>Frequency</th>\n",
       "      <th>Nombre tipo zona</th>\n",
       "    </tr>\n",
       "  </thead>\n",
       "  <tbody>\n",
       "    <tr>\n",
       "      <th>0</th>\n",
       "      <td>10</td>\n",
       "      <td>1</td>\n",
       "      <td>1077871537-1</td>\n",
       "      <td>2022</td>\n",
       "      <td>8</td>\n",
       "      <td>20</td>\n",
       "      <td>22599528</td>\n",
       "      <td>1</td>\n",
       "      <td>Artes graficas</td>\n",
       "    </tr>\n",
       "    <tr>\n",
       "      <th>1</th>\n",
       "      <td>10</td>\n",
       "      <td>1</td>\n",
       "      <td>17172243-1</td>\n",
       "      <td>2022</td>\n",
       "      <td>3</td>\n",
       "      <td>15</td>\n",
       "      <td>976752</td>\n",
       "      <td>1</td>\n",
       "      <td>Artes graficas</td>\n",
       "    </tr>\n",
       "    <tr>\n",
       "      <th>2</th>\n",
       "      <td>10</td>\n",
       "      <td>1</td>\n",
       "      <td>19322486-1</td>\n",
       "      <td>2021</td>\n",
       "      <td>2</td>\n",
       "      <td>2</td>\n",
       "      <td>1848088</td>\n",
       "      <td>1</td>\n",
       "      <td>Artes graficas</td>\n",
       "    </tr>\n",
       "    <tr>\n",
       "      <th>3</th>\n",
       "      <td>10</td>\n",
       "      <td>1</td>\n",
       "      <td>19322486-1</td>\n",
       "      <td>2022</td>\n",
       "      <td>1</td>\n",
       "      <td>13</td>\n",
       "      <td>4350769</td>\n",
       "      <td>1</td>\n",
       "      <td>Artes graficas</td>\n",
       "    </tr>\n",
       "    <tr>\n",
       "      <th>4</th>\n",
       "      <td>10</td>\n",
       "      <td>1</td>\n",
       "      <td>19322486-1</td>\n",
       "      <td>2022</td>\n",
       "      <td>8</td>\n",
       "      <td>20</td>\n",
       "      <td>1470204</td>\n",
       "      <td>1</td>\n",
       "      <td>Artes graficas</td>\n",
       "    </tr>\n",
       "    <tr>\n",
       "      <th>...</th>\n",
       "      <td>...</td>\n",
       "      <td>...</td>\n",
       "      <td>...</td>\n",
       "      <td>...</td>\n",
       "      <td>...</td>\n",
       "      <td>...</td>\n",
       "      <td>...</td>\n",
       "      <td>...</td>\n",
       "      <td>...</td>\n",
       "    </tr>\n",
       "    <tr>\n",
       "      <th>125935</th>\n",
       "      <td>90</td>\n",
       "      <td>68</td>\n",
       "      <td>93387740-1</td>\n",
       "      <td>2021</td>\n",
       "      <td>10</td>\n",
       "      <td>10</td>\n",
       "      <td>28515</td>\n",
       "      <td>1</td>\n",
       "      <td>Institucional</td>\n",
       "    </tr>\n",
       "    <tr>\n",
       "      <th>125936</th>\n",
       "      <td>90</td>\n",
       "      <td>68</td>\n",
       "      <td>93387740-1</td>\n",
       "      <td>2022</td>\n",
       "      <td>3</td>\n",
       "      <td>15</td>\n",
       "      <td>24943</td>\n",
       "      <td>1</td>\n",
       "      <td>Institucional</td>\n",
       "    </tr>\n",
       "    <tr>\n",
       "      <th>125937</th>\n",
       "      <td>90</td>\n",
       "      <td>68</td>\n",
       "      <td>93387740-1</td>\n",
       "      <td>2022</td>\n",
       "      <td>6</td>\n",
       "      <td>18</td>\n",
       "      <td>191452</td>\n",
       "      <td>1</td>\n",
       "      <td>Institucional</td>\n",
       "    </tr>\n",
       "    <tr>\n",
       "      <th>125938</th>\n",
       "      <td>90</td>\n",
       "      <td>68</td>\n",
       "      <td>93387740-1</td>\n",
       "      <td>2022</td>\n",
       "      <td>9</td>\n",
       "      <td>21</td>\n",
       "      <td>214812</td>\n",
       "      <td>1</td>\n",
       "      <td>Institucional</td>\n",
       "    </tr>\n",
       "    <tr>\n",
       "      <th>125939</th>\n",
       "      <td>90</td>\n",
       "      <td>68</td>\n",
       "      <td>93387740-1</td>\n",
       "      <td>2022</td>\n",
       "      <td>12</td>\n",
       "      <td>24</td>\n",
       "      <td>112301</td>\n",
       "      <td>1</td>\n",
       "      <td>Institucional</td>\n",
       "    </tr>\n",
       "  </tbody>\n",
       "</table>\n",
       "<p>123486 rows × 9 columns</p>\n",
       "</div>"
      ],
      "text/plain": [
       "        Codigo distrito  Codigo zona actual Nit cliente-sucursal   Ano  Mes  \\\n",
       "0                    10                   1         1077871537-1  2022    8   \n",
       "1                    10                   1           17172243-1  2022    3   \n",
       "2                    10                   1           19322486-1  2021    2   \n",
       "3                    10                   1           19322486-1  2022    1   \n",
       "4                    10                   1           19322486-1  2022    8   \n",
       "...                 ...                 ...                  ...   ...  ...   \n",
       "125935               90                  68           93387740-1  2021   10   \n",
       "125936               90                  68           93387740-1  2022    3   \n",
       "125937               90                  68           93387740-1  2022    6   \n",
       "125938               90                  68           93387740-1  2022    9   \n",
       "125939               90                  68           93387740-1  2022   12   \n",
       "\n",
       "        Recency  Monetary  Frequency Nombre tipo zona  \n",
       "0            20  22599528          1   Artes graficas  \n",
       "1            15    976752          1   Artes graficas  \n",
       "2             2   1848088          1   Artes graficas  \n",
       "3            13   4350769          1   Artes graficas  \n",
       "4            20   1470204          1   Artes graficas  \n",
       "...         ...       ...        ...              ...  \n",
       "125935       10     28515          1    Institucional  \n",
       "125936       15     24943          1    Institucional  \n",
       "125937       18    191452          1    Institucional  \n",
       "125938       21    214812          1    Institucional  \n",
       "125939       24    112301          1    Institucional  \n",
       "\n",
       "[123486 rows x 9 columns]"
      ]
     },
     "execution_count": 21,
     "metadata": {},
     "output_type": "execute_result"
    }
   ],
   "source": [
    "df_vta"
   ]
  },
  {
   "cell_type": "code",
   "execution_count": 18,
   "metadata": {},
   "outputs": [
    {
     "data": {
      "text/plain": [
       "Decimal('0.13')"
      ]
     },
     "execution_count": 18,
     "metadata": {},
     "output_type": "execute_result"
    }
   ],
   "source": [
    "df_rdo[\"Monetary\"].min()"
   ]
  },
  {
   "attachments": {},
   "cell_type": "markdown",
   "metadata": {},
   "source": [
    "##### Tranformaciones"
   ]
  },
  {
   "cell_type": "code",
   "execution_count": 20,
   "metadata": {},
   "outputs": [
    {
     "ename": "KeyError",
     "evalue": "'Nombre tipo zona'",
     "output_type": "error",
     "traceback": [
      "\u001b[1;31m---------------------------------------------------------------------------\u001b[0m",
      "\u001b[1;31mKeyError\u001b[0m                                  Traceback (most recent call last)",
      "File \u001b[1;32mc:\\Users\\tcardenas\\.conda\\envs\\py38\\lib\\site-packages\\pandas\\core\\indexes\\base.py:3803\u001b[0m, in \u001b[0;36mIndex.get_loc\u001b[1;34m(self, key, method, tolerance)\u001b[0m\n\u001b[0;32m   3802\u001b[0m \u001b[39mtry\u001b[39;00m:\n\u001b[1;32m-> 3803\u001b[0m     \u001b[39mreturn\u001b[39;00m \u001b[39mself\u001b[39;49m\u001b[39m.\u001b[39;49m_engine\u001b[39m.\u001b[39;49mget_loc(casted_key)\n\u001b[0;32m   3804\u001b[0m \u001b[39mexcept\u001b[39;00m \u001b[39mKeyError\u001b[39;00m \u001b[39mas\u001b[39;00m err:\n",
      "File \u001b[1;32mc:\\Users\\tcardenas\\.conda\\envs\\py38\\lib\\site-packages\\pandas\\_libs\\index.pyx:138\u001b[0m, in \u001b[0;36mpandas._libs.index.IndexEngine.get_loc\u001b[1;34m()\u001b[0m\n",
      "File \u001b[1;32mc:\\Users\\tcardenas\\.conda\\envs\\py38\\lib\\site-packages\\pandas\\_libs\\index.pyx:165\u001b[0m, in \u001b[0;36mpandas._libs.index.IndexEngine.get_loc\u001b[1;34m()\u001b[0m\n",
      "File \u001b[1;32mpandas\\_libs\\hashtable_class_helper.pxi:5745\u001b[0m, in \u001b[0;36mpandas._libs.hashtable.PyObjectHashTable.get_item\u001b[1;34m()\u001b[0m\n",
      "File \u001b[1;32mpandas\\_libs\\hashtable_class_helper.pxi:5753\u001b[0m, in \u001b[0;36mpandas._libs.hashtable.PyObjectHashTable.get_item\u001b[1;34m()\u001b[0m\n",
      "\u001b[1;31mKeyError\u001b[0m: 'Nombre tipo zona'",
      "\nThe above exception was the direct cause of the following exception:\n",
      "\u001b[1;31mKeyError\u001b[0m                                  Traceback (most recent call last)",
      "\u001b[1;32mc:\\Users\\tcardenas\\OneDrive\\OneDrive - Grupo DISPAPELES\\Documents\\ML-Dispapeles-TomasCaLo\\Clustering\\Clustering pycaret kmeans - v4 vta + rcd.ipynb Cell 15\u001b[0m in \u001b[0;36m1\n\u001b[0;32m      <a href='vscode-notebook-cell:/c%3A/Users/tcardenas/OneDrive/OneDrive%20-%20Grupo%20DISPAPELES/Documents/ML-Dispapeles-TomasCaLo/Clustering/Clustering%20pycaret%20kmeans%20-%20v4%20vta%20%2B%20rcd.ipynb#X15sZmlsZQ%3D%3D?line=8'>9</a>\u001b[0m \u001b[39m# Filtro de la informacion para excluir zonas no relevantes\u001b[39;00m\n\u001b[0;32m     <a href='vscode-notebook-cell:/c%3A/Users/tcardenas/OneDrive/OneDrive%20-%20Grupo%20DISPAPELES/Documents/ML-Dispapeles-TomasCaLo/Clustering/Clustering%20pycaret%20kmeans%20-%20v4%20vta%20%2B%20rcd.ipynb#X15sZmlsZQ%3D%3D?line=9'>10</a>\u001b[0m list_filter \u001b[39m=\u001b[39m [\u001b[39m'\u001b[39m\u001b[39mArtes graficas\u001b[39m\u001b[39m'\u001b[39m, \u001b[39m'\u001b[39m\u001b[39mTIG\u001b[39m\u001b[39m'\u001b[39m, \u001b[39m'\u001b[39m\u001b[39mV Horeca\u001b[39m\u001b[39m'\u001b[39m, \u001b[39m'\u001b[39m\u001b[39mInstitucional\u001b[39m\u001b[39m'\u001b[39m, \u001b[39m'\u001b[39m\u001b[39mV SyE\u001b[39m\u001b[39m'\u001b[39m,\n\u001b[0;32m     <a href='vscode-notebook-cell:/c%3A/Users/tcardenas/OneDrive/OneDrive%20-%20Grupo%20DISPAPELES/Documents/ML-Dispapeles-TomasCaLo/Clustering/Clustering%20pycaret%20kmeans%20-%20v4%20vta%20%2B%20rcd.ipynb#X15sZmlsZQ%3D%3D?line=10'>11</a>\u001b[0m                 \u001b[39m'\u001b[39m\u001b[39mV Industria\u001b[39m\u001b[39m'\u001b[39m, \u001b[39m'\u001b[39m\u001b[39mMayorista\u001b[39m\u001b[39m'\u001b[39m]\n\u001b[1;32m---> <a href='vscode-notebook-cell:/c%3A/Users/tcardenas/OneDrive/OneDrive%20-%20Grupo%20DISPAPELES/Documents/ML-Dispapeles-TomasCaLo/Clustering/Clustering%20pycaret%20kmeans%20-%20v4%20vta%20%2B%20rcd.ipynb#X15sZmlsZQ%3D%3D?line=11'>12</a>\u001b[0m df_vta \u001b[39m=\u001b[39m df_vta2[df_vta2[\u001b[39m\"\u001b[39;49m\u001b[39mNombre tipo zona\u001b[39;49m\u001b[39m\"\u001b[39;49m]\u001b[39m.\u001b[39misin(list_filter)]\n\u001b[0;32m     <a href='vscode-notebook-cell:/c%3A/Users/tcardenas/OneDrive/OneDrive%20-%20Grupo%20DISPAPELES/Documents/ML-Dispapeles-TomasCaLo/Clustering/Clustering%20pycaret%20kmeans%20-%20v4%20vta%20%2B%20rcd.ipynb#X15sZmlsZQ%3D%3D?line=12'>13</a>\u001b[0m df_rdo \u001b[39m=\u001b[39m df_rdo2[df_rdo2[\u001b[39m\"\u001b[39m\u001b[39mNombre tipo zona\u001b[39m\u001b[39m\"\u001b[39m]\u001b[39m.\u001b[39misin(list_filter)]\n\u001b[0;32m     <a href='vscode-notebook-cell:/c%3A/Users/tcardenas/OneDrive/OneDrive%20-%20Grupo%20DISPAPELES/Documents/ML-Dispapeles-TomasCaLo/Clustering/Clustering%20pycaret%20kmeans%20-%20v4%20vta%20%2B%20rcd.ipynb#X15sZmlsZQ%3D%3D?line=14'>15</a>\u001b[0m \u001b[39m# DF final agregada por tipo de zona\u001b[39;00m\n",
      "File \u001b[1;32mc:\\Users\\tcardenas\\.conda\\envs\\py38\\lib\\site-packages\\pandas\\core\\frame.py:3804\u001b[0m, in \u001b[0;36mDataFrame.__getitem__\u001b[1;34m(self, key)\u001b[0m\n\u001b[0;32m   3802\u001b[0m \u001b[39mif\u001b[39;00m \u001b[39mself\u001b[39m\u001b[39m.\u001b[39mcolumns\u001b[39m.\u001b[39mnlevels \u001b[39m>\u001b[39m \u001b[39m1\u001b[39m:\n\u001b[0;32m   3803\u001b[0m     \u001b[39mreturn\u001b[39;00m \u001b[39mself\u001b[39m\u001b[39m.\u001b[39m_getitem_multilevel(key)\n\u001b[1;32m-> 3804\u001b[0m indexer \u001b[39m=\u001b[39m \u001b[39mself\u001b[39;49m\u001b[39m.\u001b[39;49mcolumns\u001b[39m.\u001b[39;49mget_loc(key)\n\u001b[0;32m   3805\u001b[0m \u001b[39mif\u001b[39;00m is_integer(indexer):\n\u001b[0;32m   3806\u001b[0m     indexer \u001b[39m=\u001b[39m [indexer]\n",
      "File \u001b[1;32mc:\\Users\\tcardenas\\.conda\\envs\\py38\\lib\\site-packages\\pandas\\core\\indexes\\base.py:3805\u001b[0m, in \u001b[0;36mIndex.get_loc\u001b[1;34m(self, key, method, tolerance)\u001b[0m\n\u001b[0;32m   3803\u001b[0m     \u001b[39mreturn\u001b[39;00m \u001b[39mself\u001b[39m\u001b[39m.\u001b[39m_engine\u001b[39m.\u001b[39mget_loc(casted_key)\n\u001b[0;32m   3804\u001b[0m \u001b[39mexcept\u001b[39;00m \u001b[39mKeyError\u001b[39;00m \u001b[39mas\u001b[39;00m err:\n\u001b[1;32m-> 3805\u001b[0m     \u001b[39mraise\u001b[39;00m \u001b[39mKeyError\u001b[39;00m(key) \u001b[39mfrom\u001b[39;00m \u001b[39merr\u001b[39;00m\n\u001b[0;32m   3806\u001b[0m \u001b[39mexcept\u001b[39;00m \u001b[39mTypeError\u001b[39;00m:\n\u001b[0;32m   3807\u001b[0m     \u001b[39m# If we have a listlike key, _check_indexing_error will raise\u001b[39;00m\n\u001b[0;32m   3808\u001b[0m     \u001b[39m#  InvalidIndexError. Otherwise we fall through and re-raise\u001b[39;00m\n\u001b[0;32m   3809\u001b[0m     \u001b[39m#  the TypeError.\u001b[39;00m\n\u001b[0;32m   3810\u001b[0m     \u001b[39mself\u001b[39m\u001b[39m.\u001b[39m_check_indexing_error(key)\n",
      "\u001b[1;31mKeyError\u001b[0m: 'Nombre tipo zona'"
     ]
    }
   ],
   "source": [
    "# Conversion de tipo de la columna Monetary\n",
    "df_vta[\"Monetary\"] = df_vta[\"Monetary\"].astype(int)\n",
    "# df_rdo[\"Monetary\"] = df_rdo[\"Monetary\"].astype(int)\n",
    "\n",
    "# Join con la maestra de zonas para determinar el tipo de zona\n",
    "df_vta2 = pd.merge(df_vta, maestra_zonas, on= [\"Codigo distrito\", \"Codigo zona actual\"])\n",
    "df_rdo2 = pd.merge(df_rdo, maestra_zonas, on= [\"Codigo distrito\", \"Codigo zona actual\"])\n",
    "\n",
    "# Filtro de la informacion para excluir zonas no relevantes\n",
    "list_filter = ['Artes graficas', 'TIG', 'V Horeca', 'Institucional', 'V SyE',\n",
    "                'V Industria', 'Mayorista']\n",
    "df_vta = df_vta2[df_vta2[\"Nombre tipo zona\"].isin(list_filter)]\n",
    "df_rdo = df_rdo2[df_rdo2[\"Nombre tipo zona\"].isin(list_filter)]\n",
    "\n",
    "# DF final agregada por tipo de zona\n",
    "df_vta3 = df_vta.groupby([\"Codigo distrito\", \"Nombre tipo zona\", \"Nit cliente-sucursal\"]).agg({\"Recency\": np.max,\n",
    "                                                                            \"Monetary\": np.sum,\n",
    "                                                                            \"Frequency\": np.sum\n",
    "                                                                            })\n",
    "df_rdo3 = df_rdo.groupby([\"Codigo distrito\", \"Nombre tipo zona\", \"Nit cliente-sucursal\"]).agg({\"Recency\": np.max,\n",
    "                                                                            \"Monetary\": np.sum,\n",
    "                                                                            \"Frequency\": np.sum\n",
    "                                                                            })\n",
    "df_vta3 = df_vta3.reset_index(col_level= 1)\n",
    "df_rdo3 = df_rdo3.reset_index(col_level= 1)\n",
    "\n",
    "# df_3 = pd.merge(df_vta3, df_rdo3, on=[\"Codigo distrito\", \"Codigo zona actual\", \"nit\"], how=\"left\")"
   ]
  },
  {
   "cell_type": "code",
   "execution_count": null,
   "metadata": {},
   "outputs": [],
   "source": []
  },
  {
   "cell_type": "code",
   "execution_count": null,
   "metadata": {},
   "outputs": [],
   "source": [
    "# Se añade una key de Distrito-Nombretipozona para hacer mas facil la identificacion cuando se usa todo el pais\n",
    "df_3['Distrito-Nombretipozona'] = df_3['Codigo distrito'].astype(str) + '-' + df_3['Nombre tipo zona']\n",
    "\n",
    "# Aplicar la función para asignar etiquetas a una nueva columna \"Etiqueta\"\n",
    "escalas_M = np.percentile(df_3[\"Monetary\"].values, [0, 20, 50, 80, 95, 100])\n",
    "\n",
    "df_est = df_3\n",
    "df_est[\"Escala R\"] = df_3[\"Recency\"].apply(asignar_escala_R, escalas_R= [24, 21, 15, 8, 0])\n",
    "df_est[\"Escala F\"] = df_3[\"Frequency\"].apply(asignar_escala_F, escalas_F= [24, 21, 15, 8, 0])\n",
    "df_est[\"Escala M\"] = df_3[\"Monetary\"].apply(asignar_escala_M)\n",
    "df_est = df_est.drop([\"Recency\", \"Frequency\", \"Monetary\"], axis=1)\n",
    "df_est"
   ]
  },
  {
   "attachments": {},
   "cell_type": "markdown",
   "metadata": {},
   "source": [
    "##### Creacion, ajuste y descarga de los modelos de clustering por cada distrito-tipo de zona"
   ]
  },
  {
   "cell_type": "code",
   "execution_count": null,
   "metadata": {},
   "outputs": [],
   "source": [
    "list_dtos = df_est[\"Distrito-Nombretipozona\"].unique()\n",
    "numeric_features = [\"Escala R\", \"Escala F\", \"Escala M\"]\n",
    "ignore_columns = [\"Codigo distrito\", \"Nombre tipo zona\", \"Nit cliente-sucursal\", \"Distrito-Nombretipozona\"]"
   ]
  },
  {
   "attachments": {},
   "cell_type": "markdown",
   "metadata": {},
   "source": [
    "#### EDA"
   ]
  },
  {
   "cell_type": "code",
   "execution_count": null,
   "metadata": {},
   "outputs": [],
   "source": [
    "df_EDA = df_est[df_est[\"Distrito-Nombretipozona\"] == '10-Artes graficas']"
   ]
  },
  {
   "cell_type": "code",
   "execution_count": null,
   "metadata": {},
   "outputs": [],
   "source": [
    "EDA(df_EDA)"
   ]
  },
  {
   "cell_type": "code",
   "execution_count": null,
   "metadata": {},
   "outputs": [],
   "source": [
    "# list_dtos = ['10-Artes graficas', '10-Institucional', '10-Mayorista', '10-TIG', '10-V Horeca', '10-V Industria', '10-V SyE']\n",
    "# list_dtos = ['10-Artes graficas']"
   ]
  },
  {
   "attachments": {},
   "cell_type": "markdown",
   "metadata": {},
   "source": [
    "##### Un modelo"
   ]
  },
  {
   "cell_type": "code",
   "execution_count": null,
   "metadata": {},
   "outputs": [],
   "source": [
    "# Variables iniciales\n",
    "metrics = []\n",
    "bd_predicted_all = pd.DataFrame()\n",
    "\n",
    "# Fecha para guardar resultados\n",
    "fecha = '12-04-23'\n",
    "\n",
    "# Ciclo para realizar el modelo de clustering por cada tipo de zona del pais\n",
    "for n, dto in enumerate(list_dtos):\n",
    "    print(f\"Procesando modelo {n+1} de {len(list_dtos)}. {(n+1) / (len(list_dtos)):.1%}\")\n",
    "    \n",
    "    #BD filtrada\n",
    "    df_dto = df_est[df_est[\"Distrito-Nombretipozona\"] == dto]\n",
    "\n",
    "    #Setup del modelo \n",
    "    s = setup(\n",
    "                df_dto,\n",
    "                verbose= False,\n",
    "                preprocess= False,\n",
    "                profile= False,\n",
    "                ignore_features= ignore_columns,\n",
    "                numeric_features= numeric_features\n",
    "                )\n",
    "    \n",
    "    #Creacion y prediccion de modelo\n",
    "    model_kmeans = create_model(\n",
    "                                'kmeans',\n",
    "                                num_clusters= 5,\n",
    "                                verbose= False,\n",
    "                                )\n",
    "    pull()\n",
    "    df_pred_km = predict_model(\n",
    "                                model_kmeans,\n",
    "                                data = df_dto\n",
    "                                )\n",
    "    \n",
    "    # Reasignacion de los nombres de los clusters\n",
    "    trans = df_pred_km.groupby(\n",
    "                                [\"Cluster\"]).agg({\n",
    "                                                \"Escala R\": np.mean, \"Escala F\": np.mean, \"Escala M\": np.mean,\n",
    "                                            }).reset_index()\n",
    "    trans[\"avg\"] = (trans[\"Escala R\"] + trans[\"Escala F\"] + trans[\"Escala M\"]) / 3\n",
    "    trans = trans.sort_values(by= [\"avg\"], ascending= False)\n",
    "    trans[\"Letra cluster\"] = [\"A\", \"B\", \"C\", \"D\", \"E\"]\n",
    "    trans = trans[[\"Cluster\", \"Letra cluster\"]]\n",
    "    \n",
    "    df_pred_km = pd.merge(df_pred_km, trans, on= [\"Cluster\"])\n",
    "    df_pred_km = df_pred_km.drop_duplicates(subset=[\"Escala R\", \"Escala F\", \"Escala M\"])\n",
    "    \n",
    "    # Descarga del modelo\n",
    "    bd_predicted = pd.merge(df_dto, df_pred_km, on= [\"Escala R\", \"Escala F\", \"Escala M\"])\n",
    "\n",
    "    bd_predicted_all = pd.concat([bd_predicted_all, bd_predicted], ignore_index=  True)\n",
    "\n",
    "    #Append a la variable incial de metricas\n",
    "    metrics.append({\n",
    "                    \"Distrito-zona\": dto,\n",
    "                    \"Silhouette\": pull().Silhouette[0],\n",
    "                    \"Calinski-Harabasz\": pull()[\"Calinski-Harabasz\"][0],\n",
    "                    \"Davies-Bouldin\": pull()[\"Davies-Bouldin\"][0]\n",
    "                    })\n",
    "    # save_model(model_kmeans, f\"C:/Users/tcardenas/OneDrive/OneDrive - Grupo DISPAPELES/Documents/ML-Dispapeles-TomasCaLo/Clustering/Modelos {fecha}/Modelo {dto} {fecha}\")\n",
    "\n",
    "# Transformacion de la variable de metricas\n",
    "metrics = pd.DataFrame(metrics)\n",
    "metrics[\"Tipo zona\"] = metrics[\"Distrito-zona\"].str[3:]\n",
    "\n",
    "print(\"Proceso completo 100%\")"
   ]
  },
  {
   "cell_type": "code",
   "execution_count": null,
   "metadata": {},
   "outputs": [],
   "source": [
    "# Descarga de bd predicha y metricas calculadas\n",
    "bd_predicted_all.to_csv(f\"C:/Users/tcardenas/OneDrive/OneDrive - Grupo DISPAPELES/Documents/ML-Dispapeles-TomasCaLo/Clustering/Clustering {fecha}.csv\",\n",
    "                        encoding= 'utf-8', index= False, decimal= \",\", sep= \";\")\n",
    "metrics.to_csv(f\"C:/Users/tcardenas/OneDrive/OneDrive - Grupo DISPAPELES/Documents/ML-Dispapeles-TomasCaLo/Clustering/Metricas {fecha}.csv\",\n",
    "                        encoding= 'utf-8', index= False, decimal= \",\",  sep= \";\")"
   ]
  },
  {
   "cell_type": "code",
   "execution_count": null,
   "metadata": {},
   "outputs": [],
   "source": [
    "fig = px.scatter_3d(df_pred_km.sort_values(by= \"Letra cluster\"), x= \"Escala R\", y= \"Escala F\", z= \"Escala M\",\n",
    "                    color= \"Letra cluster\")\n",
    "fig.show()"
   ]
  },
  {
   "cell_type": "code",
   "execution_count": null,
   "metadata": {},
   "outputs": [],
   "source": [
    "plot_model(model_kmeans, plot = 'cluster')"
   ]
  },
  {
   "cell_type": "code",
   "execution_count": null,
   "metadata": {},
   "outputs": [],
   "source": [
    "plot_model(model_kmeans, plot = 'silhouette')"
   ]
  },
  {
   "cell_type": "code",
   "execution_count": null,
   "metadata": {},
   "outputs": [],
   "source": [
    "plot_model(model_kmeans, plot = 'distribution')"
   ]
  },
  {
   "cell_type": "code",
   "execution_count": null,
   "metadata": {},
   "outputs": [],
   "source": [
    "trans"
   ]
  }
 ],
 "metadata": {
  "kernelspec": {
   "display_name": "Python 3.8.13 ('py38')",
   "language": "python",
   "name": "python3"
  },
  "language_info": {
   "codemirror_mode": {
    "name": "ipython",
    "version": 3
   },
   "file_extension": ".py",
   "mimetype": "text/x-python",
   "name": "python",
   "nbconvert_exporter": "python",
   "pygments_lexer": "ipython3",
   "version": "3.8.13"
  },
  "orig_nbformat": 4,
  "vscode": {
   "interpreter": {
    "hash": "d6c6a9368ffd28e969f7d90a4d7c29e7466278b3cb1a367b914bbfe92c83c635"
   }
  }
 },
 "nbformat": 4,
 "nbformat_minor": 2
}
