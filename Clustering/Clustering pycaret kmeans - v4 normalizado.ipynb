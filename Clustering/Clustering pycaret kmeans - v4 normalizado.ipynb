{
 "cells": [
  {
   "attachments": {},
   "cell_type": "markdown",
   "metadata": {},
   "source": [
    "##### Cargue de librerias"
   ]
  },
  {
   "cell_type": "code",
   "execution_count": 1,
   "metadata": {},
   "outputs": [],
   "source": [
    "from pycaret.clustering import *\n",
    "import pyodbc\n",
    "import pandas as pd\n",
    "import numpy as np\n",
    "import matplotlib.pyplot as plt\n",
    "import seaborn as sns\n",
    "from random import randint\n",
    "\n",
    "import warnings\n",
    "warnings.filterwarnings(\"ignore\")"
   ]
  },
  {
   "attachments": {},
   "cell_type": "markdown",
   "metadata": {},
   "source": [
    "##### Conexion al DWH de Dispapeles y carga de bds adicionales"
   ]
  },
  {
   "cell_type": "code",
   "execution_count": 2,
   "metadata": {},
   "outputs": [],
   "source": [
    "def df_clustering(consulta_SQL):\n",
    "    ## Conexion al DWH\n",
    "    cnxn = pyodbc.connect(\n",
    "        driver='{SQL Server}',\n",
    "        server='192.168.100.58',\n",
    "        uid='bilectura',\n",
    "        pwd='D1sp@p3l3s')\n",
    "    cursor = cnxn.cursor()\n",
    "    \n",
    "    #Cargue de la data desde el ERP de Dispapeles y se guarda en df\n",
    "    cursor.execute(consulta_SQL)\n",
    "    rows = cursor.fetchall()\n",
    "    \n",
    "    df = pd.DataFrame.from_records(rows, columns=[col[0] for col in cursor.description])\n",
    "\n",
    "    return df\n",
    "def min_max_scaler_custom_scale(df, col_name, min_scale= 1, max_scale= 24):\n",
    "    df_copy = df.copy()  # Se crea una copia del DataFrame original\n",
    "    x_min = df_copy[col_name].min()\n",
    "    x_max = df_copy[col_name].max()\n",
    "    col_norm = ((df_copy[col_name] - x_min) / (x_max - x_min)) * (max_scale - min_scale) + min_scale\n",
    "    df_copy[col_name] = col_norm  # Se asignan los valores normalizados a la columna Monetary\n",
    "    return df_copy"
   ]
  },
  {
   "attachments": {},
   "cell_type": "markdown",
   "metadata": {},
   "source": [
    "##### Funcion EDA"
   ]
  },
  {
   "cell_type": "code",
   "execution_count": 73,
   "metadata": {},
   "outputs": [],
   "source": [
    "def histograma(bd):\n",
    "    fig, ax = plt.subplots(1, 3, figsize= (15,5))\n",
    "    sns.kdeplot(bd['Recency'], ax= ax[0], color= 'blue', fill= True)\n",
    "    sns.kdeplot(bd['Frequency'], ax= ax[1], color= 'red', fill= True)\n",
    "    sns.kdeplot(bd['Monetary'], ax= ax[2], color= 'yellow', fill= True)\n",
    "    fig.suptitle(\"Distribuciones del modelo RFM\")\n",
    "    plt.show()\n",
    "\n",
    "def scatter(bd):\n",
    "    fig, ax = plt.subplots(1, 1, figsize= (8,5))\n",
    "    sns.scatterplot(x= 'Recency', size= 'Frequency', y= 'Monetary', data= bd)\n",
    "    fig.suptitle(\"Scatter del modelo RFM\")\n",
    "    plt.show()\n",
    "\n",
    "def matrix(bd, col):\n",
    "    corr_matrix = bd[col].corr()\n",
    "    fig, ax = plt.subplots(figsize=(8, 6))\n",
    "    sns.heatmap(corr_matrix, annot=True, cmap='coolwarm', vmin=-1, vmax=1, ax=ax)\n",
    "    plt.title('Matriz de correlación')\n",
    "    plt.show()\n",
    "\n",
    "def EDA(bd):\n",
    "    bd = bd.reset_index()\n",
    "    print(f\"Esta base de datos tiene {len(bd)} registros,\")\n",
    "    print(f\"hace parte del distrito {bd['Codigo distrito'][0]}\")\n",
    "    print(f\"y el tipo de zona es {bd['Nombre tipo zona'][0]}\")\n",
    "    \n",
    "    print(\" \")\n",
    "    print(\"Describe de la base de datos\")\n",
    "    describe = bd.describe().applymap(\"{:,.0f}\".format)\n",
    "    print(describe[['Recency', 'Frequency', 'Monetary']][1:])\n",
    "    \n",
    "    print(\" \")\n",
    "    \n",
    "    # Variables auxiliares\n",
    "    max = bd['Monetary'].max()\n",
    "    min = bd['Monetary'].min()\n",
    "    rango = max - min\n",
    "    # mean = \n",
    "    # sd =\n",
    "        \n",
    "    print(f\"El valor máx del campo Monetary es: {max:,.0f}\")\n",
    "    print(f\"y el valor min es: {min:,.0f}\")\n",
    "    print(f\"por lo tanto su rango es de: {rango:,.0f}\")\n",
    "\n",
    "    histograma(bd)\n",
    "    scatter(bd)\n",
    "    matrix(bd, [\"Recency\", \"Frequency\", \"Monetary\"])"
   ]
  },
  {
   "cell_type": "code",
   "execution_count": 4,
   "metadata": {},
   "outputs": [],
   "source": [
    "# Consulta SQL para descargar la informacion a usar\n",
    "codigo_SQL = \"SELECT A.DSTCOD AS 'Codigo distrito', B.VNDZNA AS 'Codigo zona actual', CONCAT(CONCAT(A.VTANIT,'-'),A.VTASUC) AS 'Nit cliente-sucursal', A.VTAANO AS 'Ano', A.VTAMES AS 'Mes', (((2021 - MAX(A.VTAANO)) * 12 ) + (0 - MAX(A.VTAMES))) * -1 AS 'Recency', SUM(A.VTAVLRVTA) AS 'Monetary', COUNT( DISTINCT A.VTAMES) AS 'Frequency' FROM V_VTA_VTAHEC A LEFT JOIN\tDIM_CLIENTES B ON A.PRMCOD = B.PRMCOD AND A.DSTCOD = B.DSTCOD AND A.VTANIT = B.CLTNIT AND A.VTASUC = B.CLTSUC WHERE A.PRMCOD = 1 AND A.DSTCOD NOT IN (30,35) AND A.VTAZNA < 96 AND A.VTAFCH BETWEEN '2021-01-01' AND '2022-12-31' GROUP BY A.DSTCOD, B.VNDZNA, CONCAT(CONCAT(A.VTANIT,'-'),A.VTASUC), A.VTAANO, A.VTAMES HAVING SUM(A.VTAVLRVTA) > 0\"\n",
    "\n",
    "# Consulta adicional para establecer el tipo de zona\n",
    "maestra_zonas = pd.read_csv('C:/Users/tcardenas/OneDrive/OneDrive - Grupo DISPAPELES/Documents/Análisis clustering/Maestra_zonas.csv', delimiter= \";\")"
   ]
  },
  {
   "cell_type": "code",
   "execution_count": 5,
   "metadata": {},
   "outputs": [],
   "source": [
    "df = df_clustering(codigo_SQL)"
   ]
  },
  {
   "attachments": {},
   "cell_type": "markdown",
   "metadata": {},
   "source": [
    "##### Tranformaciones"
   ]
  },
  {
   "cell_type": "code",
   "execution_count": 6,
   "metadata": {},
   "outputs": [],
   "source": [
    "# Conversion de tipo de la columna Monetary\n",
    "df[\"Monetary\"] = df[\"Monetary\"].astype(int)\n",
    "\n",
    "# Join con la maestra de zonas para determinar el tipo de zona\n",
    "df_2 = pd.merge(df, maestra_zonas, on= [\"Codigo distrito\", \"Codigo zona actual\"])\n",
    "\n",
    "# Filtro de la informacion para excluir zonas no relevantes\n",
    "list_filter = ['Artes graficas', 'TIG', 'V Horeca', 'Institucional', 'V SyE',\n",
    "                'V Industria', 'Mayorista']\n",
    "df = df_2[df_2[\"Nombre tipo zona\"].isin(list_filter)]\n",
    "\n",
    "# DF final agregada por tipo de zona\n",
    "df_3 = df.groupby([\"Codigo distrito\", \"Nombre tipo zona\", \"Nit cliente-sucursal\"]).agg({\"Recency\": np.max,\n",
    "                                                                            \"Monetary\": np.sum,\n",
    "                                                                            \"Frequency\": np.sum\n",
    "                                                                            })\n",
    "df_3 = df_3.reset_index(col_level= 1)"
   ]
  },
  {
   "cell_type": "code",
   "execution_count": 7,
   "metadata": {},
   "outputs": [],
   "source": [
    "# Se añade una key de Distrito-Nombretipozona para hacer mas facil la identificacion cuando se usa todo el pais\n",
    "# Se genera la calificacion de Recency basado en los valores máximos\n",
    "# Se divide por millón la columna Monetary para disminuir el rango de los valores\n",
    "df_3['Distrito-Nombretipozona'] = df_3['Codigo distrito'].astype(str) + '-' + df_3['Nombre tipo zona']\n",
    "df_3['Monetary'] = (df_3['Monetary'] / 1000).astype(int)\n",
    "df_3['Frequency'] = (df_3['Frequency']).astype(int)"
   ]
  },
  {
   "attachments": {},
   "cell_type": "markdown",
   "metadata": {},
   "source": [
    "##### Creacion, ajuste y descarga de los modelos de clustering por cada distrito-tipo de zona"
   ]
  },
  {
   "cell_type": "code",
   "execution_count": 37,
   "metadata": {},
   "outputs": [],
   "source": [
    "list_dtos = df_3[\"Distrito-Nombretipozona\"].unique()\n",
    "numeric_features = [\"Recency\", \"Monetary\", \"Frequency\"]\n",
    "ignore_columns = [\"Codigo distrito\", \"Nombre tipo zona\", \"Nit cliente-sucursal\", \"Distrito-Nombretipozona\"]\n",
    "normalizar = [False, True]"
   ]
  },
  {
   "attachments": {},
   "cell_type": "markdown",
   "metadata": {},
   "source": [
    "#### EDA"
   ]
  },
  {
   "cell_type": "code",
   "execution_count": 53,
   "metadata": {},
   "outputs": [],
   "source": [
    "df_EDA = df_3[df_3[\"Distrito-Nombretipozona\"] == '90-Mayorista']"
   ]
  },
  {
   "cell_type": "code",
   "execution_count": 72,
   "metadata": {},
   "outputs": [
    {
     "data": {
      "text/plain": [
       "90"
      ]
     },
     "execution_count": 72,
     "metadata": {},
     "output_type": "execute_result"
    }
   ],
   "source": [
    "a = df_EDA.reset_index()\n",
    "a[\"Codigo distrito\"][0]"
   ]
  },
  {
   "cell_type": "code",
   "execution_count": 74,
   "metadata": {},
   "outputs": [
    {
     "name": "stdout",
     "output_type": "stream",
     "text": [
      "Esta base de datos tiene 136 registros,\n",
      "hace parte del distrito 90\n",
      "y el tipo de zona es Mayorista\n",
      " \n",
      "Describe de la base de datos\n",
      "     Recency Frequency   Monetary\n",
      "mean      18         8     62,439\n",
      "std        7         8    238,579\n",
      "min        1         1        102\n",
      "25%       13         1        902\n",
      "50%       21         5      4,807\n",
      "75%       24        15     30,217\n",
      "max       24        24  2,432,909\n",
      " \n",
      "El valor máx del campo Monetary es: 2,432,909\n",
      "y el valor min es: 102\n",
      "por lo tanto su rango es de: 2,432,807\n"
     ]
    },
    {
     "data": {
      "image/png": "[encoded data removed]",
      "text/plain": [
       "<Figure size 1500x500 with 3 Axes>"
      ]
     },
     "metadata": {},
     "output_type": "display_data"
    },
    {
     "data": {
      "image/png": "[encoded data removed]",
      "text/plain": [
       "<Figure size 800x500 with 1 Axes>"
      ]
     },
     "metadata": {},
     "output_type": "display_data"
    },
    {
     "data": {
      "image/png": "[encoded data removed]",
      "text/plain": [
       "<Figure size 800x600 with 2 Axes>"
      ]
     },
     "metadata": {},
     "output_type": "display_data"
    }
   ],
   "source": [
    "EDA(df_EDA)"
   ]
  },
  {
   "cell_type": "code",
   "execution_count": 36,
   "metadata": {},
   "outputs": [
    {
     "data": {
      "text/plain": [
       "['10-Artes graficas']"
      ]
     },
     "execution_count": 36,
     "metadata": {},
     "output_type": "execute_result"
    }
   ],
   "source": [
    "list_dtos"
   ]
  },
  {
   "cell_type": "code",
   "execution_count": 12,
   "metadata": {},
   "outputs": [],
   "source": [
    "list_dtos = ['10-Artes graficas']"
   ]
  },
  {
   "attachments": {},
   "cell_type": "markdown",
   "metadata": {},
   "source": [
    "##### Dos modelos, norm= True y norm= False"
   ]
  },
  {
   "cell_type": "code",
   "execution_count": 38,
   "metadata": {},
   "outputs": [
    {
     "name": "stdout",
     "output_type": "stream",
     "text": [
      "Procesando modelo normalizado False 1 de 67. 1.5%\n",
      "Procesando modelo normalizado False 2 de 67. 3.0%\n",
      "Procesando modelo normalizado False 3 de 67. 4.5%\n",
      "Procesando modelo normalizado False 4 de 67. 6.0%\n",
      "Procesando modelo normalizado False 5 de 67. 7.5%\n",
      "Procesando modelo normalizado False 6 de 67. 9.0%\n",
      "Procesando modelo normalizado False 7 de 67. 10.4%\n",
      "Procesando modelo normalizado False 8 de 67. 11.9%\n",
      "Procesando modelo normalizado False 9 de 67. 13.4%\n",
      "Procesando modelo normalizado False 10 de 67. 14.9%\n",
      "Procesando modelo normalizado False 11 de 67. 16.4%\n",
      "Procesando modelo normalizado False 12 de 67. 17.9%\n",
      "Procesando modelo normalizado False 13 de 67. 19.4%\n",
      "Procesando modelo normalizado False 14 de 67. 20.9%\n",
      "Procesando modelo normalizado False 15 de 67. 22.4%\n",
      "Procesando modelo normalizado False 16 de 67. 23.9%\n",
      "Procesando modelo normalizado False 17 de 67. 25.4%\n",
      "Procesando modelo normalizado False 18 de 67. 26.9%\n",
      "Procesando modelo normalizado False 19 de 67. 28.4%\n",
      "Procesando modelo normalizado False 20 de 67. 29.9%\n",
      "Procesando modelo normalizado False 21 de 67. 31.3%\n",
      "Procesando modelo normalizado False 22 de 67. 32.8%\n",
      "Procesando modelo normalizado False 23 de 67. 34.3%\n",
      "Procesando modelo normalizado False 24 de 67. 35.8%\n",
      "Procesando modelo normalizado False 25 de 67. 37.3%\n",
      "Procesando modelo normalizado False 26 de 67. 38.8%\n",
      "Procesando modelo normalizado False 27 de 67. 40.3%\n",
      "Procesando modelo normalizado False 28 de 67. 41.8%\n",
      "Procesando modelo normalizado False 29 de 67. 43.3%\n",
      "Procesando modelo normalizado False 30 de 67. 44.8%\n",
      "Procesando modelo normalizado False 31 de 67. 46.3%\n",
      "Procesando modelo normalizado False 32 de 67. 47.8%\n",
      "Procesando modelo normalizado False 33 de 67. 49.3%\n",
      "Procesando modelo normalizado False 34 de 67. 50.7%\n",
      "Procesando modelo normalizado False 35 de 67. 52.2%\n",
      "Procesando modelo normalizado False 36 de 67. 53.7%\n",
      "Procesando modelo normalizado False 37 de 67. 55.2%\n",
      "Procesando modelo normalizado False 38 de 67. 56.7%\n",
      "Procesando modelo normalizado False 39 de 67. 58.2%\n",
      "Procesando modelo normalizado False 40 de 67. 59.7%\n",
      "Procesando modelo normalizado False 41 de 67. 61.2%\n",
      "Procesando modelo normalizado False 42 de 67. 62.7%\n",
      "Procesando modelo normalizado False 43 de 67. 64.2%\n",
      "Procesando modelo normalizado False 44 de 67. 65.7%\n",
      "Procesando modelo normalizado False 45 de 67. 67.2%\n",
      "Procesando modelo normalizado False 46 de 67. 68.7%\n",
      "Procesando modelo normalizado False 47 de 67. 70.1%\n",
      "Procesando modelo normalizado False 48 de 67. 71.6%\n",
      "Procesando modelo normalizado False 49 de 67. 73.1%\n",
      "Procesando modelo normalizado False 50 de 67. 74.6%\n",
      "Procesando modelo normalizado False 51 de 67. 76.1%\n",
      "Procesando modelo normalizado False 52 de 67. 77.6%\n",
      "Procesando modelo normalizado False 53 de 67. 79.1%\n",
      "Procesando modelo normalizado False 54 de 67. 80.6%\n",
      "Procesando modelo normalizado False 55 de 67. 82.1%\n",
      "Procesando modelo normalizado False 56 de 67. 83.6%\n",
      "Procesando modelo normalizado False 57 de 67. 85.1%\n",
      "Procesando modelo normalizado False 58 de 67. 86.6%\n",
      "Procesando modelo normalizado False 59 de 67. 88.1%\n",
      "Procesando modelo normalizado False 60 de 67. 89.6%\n",
      "Procesando modelo normalizado False 61 de 67. 91.0%\n",
      "Procesando modelo normalizado False 62 de 67. 92.5%\n",
      "Procesando modelo normalizado False 63 de 67. 94.0%\n",
      "Procesando modelo normalizado False 64 de 67. 95.5%\n",
      "Procesando modelo normalizado False 65 de 67. 97.0%\n",
      "Procesando modelo normalizado False 66 de 67. 98.5%\n",
      "Procesando modelo normalizado False 67 de 67. 100.0%\n",
      "Procesando modelo normalizado True 1 de 67. 1.5%\n",
      "Procesando modelo normalizado True 2 de 67. 3.0%\n",
      "Procesando modelo normalizado True 3 de 67. 4.5%\n",
      "Procesando modelo normalizado True 4 de 67. 6.0%\n",
      "Procesando modelo normalizado True 5 de 67. 7.5%\n",
      "Procesando modelo normalizado True 6 de 67. 9.0%\n",
      "Procesando modelo normalizado True 7 de 67. 10.4%\n",
      "Procesando modelo normalizado True 8 de 67. 11.9%\n",
      "Procesando modelo normalizado True 9 de 67. 13.4%\n",
      "Procesando modelo normalizado True 10 de 67. 14.9%\n",
      "Procesando modelo normalizado True 11 de 67. 16.4%\n",
      "Procesando modelo normalizado True 12 de 67. 17.9%\n",
      "Procesando modelo normalizado True 13 de 67. 19.4%\n",
      "Procesando modelo normalizado True 14 de 67. 20.9%\n",
      "Procesando modelo normalizado True 15 de 67. 22.4%\n",
      "Procesando modelo normalizado True 16 de 67. 23.9%\n",
      "Procesando modelo normalizado True 17 de 67. 25.4%\n",
      "Procesando modelo normalizado True 18 de 67. 26.9%\n",
      "Procesando modelo normalizado True 19 de 67. 28.4%\n",
      "Procesando modelo normalizado True 20 de 67. 29.9%\n",
      "Procesando modelo normalizado True 21 de 67. 31.3%\n",
      "Procesando modelo normalizado True 22 de 67. 32.8%\n",
      "Procesando modelo normalizado True 23 de 67. 34.3%\n",
      "Procesando modelo normalizado True 24 de 67. 35.8%\n",
      "Procesando modelo normalizado True 25 de 67. 37.3%\n",
      "Procesando modelo normalizado True 26 de 67. 38.8%\n",
      "Procesando modelo normalizado True 27 de 67. 40.3%\n",
      "Procesando modelo normalizado True 28 de 67. 41.8%\n",
      "Procesando modelo normalizado True 29 de 67. 43.3%\n",
      "Procesando modelo normalizado True 30 de 67. 44.8%\n",
      "Procesando modelo normalizado True 31 de 67. 46.3%\n",
      "Procesando modelo normalizado True 32 de 67. 47.8%\n",
      "Procesando modelo normalizado True 33 de 67. 49.3%\n",
      "Procesando modelo normalizado True 34 de 67. 50.7%\n",
      "Procesando modelo normalizado True 35 de 67. 52.2%\n",
      "Procesando modelo normalizado True 36 de 67. 53.7%\n",
      "Procesando modelo normalizado True 37 de 67. 55.2%\n",
      "Procesando modelo normalizado True 38 de 67. 56.7%\n",
      "Procesando modelo normalizado True 39 de 67. 58.2%\n",
      "Procesando modelo normalizado True 40 de 67. 59.7%\n",
      "Procesando modelo normalizado True 41 de 67. 61.2%\n",
      "Procesando modelo normalizado True 42 de 67. 62.7%\n",
      "Procesando modelo normalizado True 43 de 67. 64.2%\n",
      "Procesando modelo normalizado True 44 de 67. 65.7%\n",
      "Procesando modelo normalizado True 45 de 67. 67.2%\n",
      "Procesando modelo normalizado True 46 de 67. 68.7%\n",
      "Procesando modelo normalizado True 47 de 67. 70.1%\n",
      "Procesando modelo normalizado True 48 de 67. 71.6%\n",
      "Procesando modelo normalizado True 49 de 67. 73.1%\n",
      "Procesando modelo normalizado True 50 de 67. 74.6%\n",
      "Procesando modelo normalizado True 51 de 67. 76.1%\n",
      "Procesando modelo normalizado True 52 de 67. 77.6%\n",
      "Procesando modelo normalizado True 53 de 67. 79.1%\n",
      "Procesando modelo normalizado True 54 de 67. 80.6%\n",
      "Procesando modelo normalizado True 55 de 67. 82.1%\n",
      "Procesando modelo normalizado True 56 de 67. 83.6%\n",
      "Procesando modelo normalizado True 57 de 67. 85.1%\n",
      "Procesando modelo normalizado True 58 de 67. 86.6%\n",
      "Procesando modelo normalizado True 59 de 67. 88.1%\n",
      "Procesando modelo normalizado True 60 de 67. 89.6%\n",
      "Procesando modelo normalizado True 61 de 67. 91.0%\n",
      "Procesando modelo normalizado True 62 de 67. 92.5%\n",
      "Procesando modelo normalizado True 63 de 67. 94.0%\n",
      "Procesando modelo normalizado True 64 de 67. 95.5%\n",
      "Procesando modelo normalizado True 65 de 67. 97.0%\n",
      "Procesando modelo normalizado True 66 de 67. 98.5%\n",
      "Procesando modelo normalizado True 67 de 67. 100.0%\n",
      "Proceso completo 100%\n"
     ]
    }
   ],
   "source": [
    "# Variables iniciales\n",
    "bd_predicted = pd.DataFrame([])\n",
    "metrics = []\n",
    "\n",
    "# Fecha para guardar resultados\n",
    "fecha = '22-03-23'\n",
    "\n",
    "# Ciclo para realizar el modelo de clustering por cada tipo de zona del pais\n",
    "for norm in normalizar:\n",
    "    for n, dto in enumerate(list_dtos):\n",
    "        print(f\"Procesando modelo normalizado {norm} {n+1} de {len(list_dtos)}. {(n+1) / (len(list_dtos)):.1%}\")\n",
    "        \n",
    "        #BD filtrada\n",
    "        df_dto = df_3[df_3[\"Distrito-Nombretipozona\"] == dto]\n",
    "        \n",
    "        if norm:\n",
    "            df_dto = min_max_scaler_custom_scale(df_dto, \"Monetary\")\n",
    "        else:\n",
    "            df_dto\n",
    "\n",
    "        #Setup del modelo \n",
    "        s = setup(\n",
    "                    df_dto,\n",
    "                    verbose= False,\n",
    "                    preprocess= False,\n",
    "                    silent= True,\n",
    "                    profile= False,\n",
    "                    ignore_features= ignore_columns,\n",
    "                    numeric_features= numeric_features\n",
    "                    )\n",
    "        \n",
    "        #Creacion y prediccion de modelo\n",
    "        model_kmeans = create_model(\n",
    "                                    'kmeans',\n",
    "                                    num_clusters= 5,\n",
    "                                    verbose= False,\n",
    "                                    )\n",
    "        pull()\n",
    "        df_pred_km = predict_model(\n",
    "                                    model_kmeans,\n",
    "                                    data = df_dto\n",
    "                                    )\n",
    "        \n",
    "        # Reasignacion de los nombres de los clusters\n",
    "        trans = df_pred_km.groupby(\n",
    "                                    [\"Cluster\"]).agg({\n",
    "                                                    \"Recency\": np.mean, \"Monetary\": np.mean, \"Frequency\": np.mean,\n",
    "                                                    }).sort_values(\n",
    "                                                                    by= [\"Monetary\", \"Frequency\", \"Recency\"],\n",
    "                                                                    ascending= False\n",
    "                                                                    ).reset_index()\n",
    "        trans[\"Letra cluster\"] = [\"A\", \"B\", \"C\", \"D\", \"E\"]\n",
    "        trans = trans[[\"Cluster\", \"Letra cluster\"]]\n",
    "        \n",
    "        df_pred_km = pd.merge(df_pred_km, trans, on= [\"Cluster\"])\n",
    "        df_pred_km[\"Normalizado\"] = norm\n",
    "        \n",
    "        # Descarga del modelo\n",
    "        bd_predicted = bd_predicted.append(df_pred_km)\n",
    "\n",
    "        #Append a la variable incial de metricas\n",
    "        metrics.append({\n",
    "                        \"Distrito-zona\": dto,\n",
    "                        \"Normalizado\": norm,\n",
    "                        \"Silhouette\": pull().Silhouette[0],\n",
    "                        \"Calinski-Harabasz\": pull()[\"Calinski-Harabasz\"][0],\n",
    "                        \"Davies-Bouldin\": pull()[\"Davies-Bouldin\"][0]\n",
    "                        })\n",
    "        # save_model(model_kmeans, f\"C:/Users/tcardenas/OneDrive/OneDrive - Grupo DISPAPELES/Documents/ML-Dispapeles-TomasCaLo/Clustering/Modelos {fecha}/Modelo {dto} {fecha}\")\n",
    "\n",
    "# Transformacion de la variable de metricas\n",
    "metrics = pd.DataFrame(metrics)\n",
    "metrics[\"Normalizado\"] = metrics[\"Normalizado\"].replace([True, False], [\"Si\",\"No\"])\n",
    "metrics[\"Tipo zona\"] = metrics[\"Distrito-zona\"].str[3:]\n",
    "\n",
    "print(\"Proceso completo 100%\")"
   ]
  },
  {
   "attachments": {},
   "cell_type": "markdown",
   "metadata": {},
   "source": [
    "##### Funcion"
   ]
  },
  {
   "cell_type": "code",
   "execution_count": 15,
   "metadata": {},
   "outputs": [],
   "source": [
    "def clustering(df, list_dtos, ignore_columns, numeric_features, norm= True, ):\n",
    "    \n",
    "    # Variables iniciales\n",
    "    bd_predicted = pd.DataFrame([])\n",
    "    metrics = []\n",
    "    \n",
    "    for n, dto in enumerate(list_dtos):\n",
    "        print(f\"Procesando modelo normalizado {norm} {n+1} de {len(list_dtos)}. {(n+1) / (len(list_dtos)):.1%}\")\n",
    "        \n",
    "        #BD filtrada\n",
    "        df_dto = df[df[\"Distrito-Nombretipozona\"] == dto]\n",
    "        \n",
    "        if norm:\n",
    "            df_dto = min_max_scaler_custom_scale(df_dto, \"Monetary\")\n",
    "        else:\n",
    "            df_dto\n",
    "\n",
    "        #Setup del modelo \n",
    "        s = setup(\n",
    "                    df_dto,\n",
    "                    verbose= False,\n",
    "                    preprocess= False,\n",
    "                    silent= True,\n",
    "                    profile= False,\n",
    "                    ignore_features= ignore_columns,\n",
    "                    numeric_features= numeric_features\n",
    "                    )\n",
    "        \n",
    "        #Creacion y prediccion de modelo\n",
    "        model_kmeans = create_model(\n",
    "                                    'kmeans',\n",
    "                                    num_clusters= 5,\n",
    "                                    verbose= False,\n",
    "                                    )\n",
    "        pull()\n",
    "        df_pred_km = predict_model(\n",
    "                                    model_kmeans,\n",
    "                                    data = df_dto\n",
    "                                    )\n",
    "        \n",
    "        # Reasignacion de los nombres de los clusters\n",
    "        trans = df_pred_km.groupby(\n",
    "                                    [\"Cluster\"]).agg({\n",
    "                                                    \"Recency\": np.mean, \"Monetary\": np.mean, \"Frequency\": np.mean,\n",
    "                                                    }).sort_values(\n",
    "                                                                    by= [\"Monetary\", \"Frequency\", \"Recency\"],\n",
    "                                                                    ascending= False\n",
    "                                                                    ).reset_index()\n",
    "        trans[\"Letra cluster\"] = [\"A\", \"B\", \"C\", \"D\", \"E\"]\n",
    "        trans = trans[[\"Cluster\", \"Letra cluster\"]]\n",
    "        \n",
    "        df_pred_km = pd.merge(df_pred_km, trans, on= [\"Cluster\"])\n",
    "        \n",
    "        # Descarga del modelo\n",
    "        bd_predicted = bd_predicted.append(df_pred_km)\n",
    "\n",
    "        #Append a la variable incial de metricas\n",
    "        metrics.append({\n",
    "                        \"Distrito-zona\": dto,\n",
    "                        \"Normalizado\": norm,\n",
    "                        \"Silhouette\": pull().Silhouette[0],\n",
    "                        \"Calinski-Harabasz\": pull()[\"Calinski-Harabasz\"][0],\n",
    "                        \"Davies-Bouldin\": pull()[\"Davies-Bouldin\"][0]\n",
    "                        })\n",
    "        # save_model(model_kmeans, f\"C:/Users/tcardenas/OneDrive/OneDrive - Grupo DISPAPELES/Documents/ML-Dispapeles-TomasCaLo/Clustering/Modelos {fecha}/Modelo {dto} {fecha}\")\n",
    "\n",
    "    # Transformacion de la variable de metricas\n",
    "    metrics = pd.DataFrame(metrics)\n",
    "    metrics[\"Normalizado\"] = metrics[\"Normalizado\"].replace([True, False], [\"Si\",\"No\"])\n",
    "    metrics[\"Tipo zona\"] = metrics[\"Distrito-zona\"].str[3:]\n",
    "\n",
    "    print(\"Proceso completo 100%\")\n",
    "    return bd_predicted, metrics, model_kmeans, s"
   ]
  },
  {
   "cell_type": "code",
   "execution_count": 16,
   "metadata": {},
   "outputs": [
    {
     "name": "stdout",
     "output_type": "stream",
     "text": [
      "Procesando modelo normalizado True 1 de 1. 100.0%\n",
      "Proceso completo 100%\n",
      "Procesando modelo normalizado False 1 de 1. 100.0%\n",
      "Proceso completo 100%\n"
     ]
    }
   ],
   "source": [
    "bd_predicted_norm, metrics_norm, model_kmeans_norm, s_norm = clustering(df= df_3, list_dtos= list_dtos, ignore_columns= ignore_columns, numeric_features= numeric_features, norm= True)\n",
    "bd_predicted_no_norm, metrics_no_norm, model_kmeans_no_norm, s_no_norm = clustering(df= df_3, list_dtos= list_dtos, ignore_columns= ignore_columns, numeric_features= numeric_features, norm= False)"
   ]
  },
  {
   "cell_type": "markdown",
   "metadata": {},
   "source": []
  },
  {
   "attachments": {},
   "cell_type": "markdown",
   "metadata": {},
   "source": [
    "##### Visualizacion y validacion clustering"
   ]
  },
  {
   "cell_type": "code",
   "execution_count": 39,
   "metadata": {},
   "outputs": [
    {
     "data": {
      "image/png": "[encoded data removed]",
      "text/plain": [
       "<Figure size 2500x1000 with 6 Axes>"
      ]
     },
     "metadata": {},
     "output_type": "display_data"
    }
   ],
   "source": [
    "# Plots para validar si hay diferencia o no entre la data normalizada o no\n",
    "f, axarr = plt.subplots(2,3)\n",
    "f.set_figheight(10)\n",
    "f.set_figwidth(25)\n",
    "\n",
    "metricas = [\"Silhouette\", \"Calinski-Harabasz\", \"Davies-Bouldin\"]\n",
    "\n",
    "for n, met in enumerate(metricas):\n",
    "    f.add_subplot(axarr[0,n])\n",
    "    plt.title(f\"Distribución {met}\").set_fontsize(15)\n",
    "    sns.set_theme(style=\"darkgrid\", palette= \"pastel\")\n",
    "    sns.boxplot(data= metrics, x= met, y= \"Tipo zona\", hue= 'Normalizado')\n",
    "\n",
    "    f.add_subplot(axarr[1,n])\n",
    "    sns.set_theme(style=\"darkgrid\", palette= \"pastel\")\n",
    "    sns.histplot(data= metrics, x= met, hue= 'Normalizado')\n",
    "plt.show()"
   ]
  },
  {
   "cell_type": "code",
   "execution_count": 50,
   "metadata": {},
   "outputs": [
    {
     "name": "stdout",
     "output_type": "stream",
     "text": [
      "Estadísticas de las métricas aplicando normalización de los datos\n"
     ]
    },
    {
     "data": {
      "text/html": [
       "<div>\n",
       "<style scoped>\n",
       "    .dataframe tbody tr th:only-of-type {\n",
       "        vertical-align: middle;\n",
       "    }\n",
       "\n",
       "    .dataframe tbody tr th {\n",
       "        vertical-align: top;\n",
       "    }\n",
       "\n",
       "    .dataframe thead th {\n",
       "        text-align: right;\n",
       "    }\n",
       "</style>\n",
       "<table border=\"1\" class=\"dataframe\">\n",
       "  <thead>\n",
       "    <tr style=\"text-align: right;\">\n",
       "      <th></th>\n",
       "      <th>Silhouette</th>\n",
       "      <th>Calinski-Harabasz</th>\n",
       "      <th>Davies-Bouldin</th>\n",
       "    </tr>\n",
       "  </thead>\n",
       "  <tbody>\n",
       "    <tr>\n",
       "      <th>count</th>\n",
       "      <td>67.00</td>\n",
       "      <td>67.00</td>\n",
       "      <td>67.00</td>\n",
       "    </tr>\n",
       "    <tr>\n",
       "      <th>mean</th>\n",
       "      <td>0.50</td>\n",
       "      <td>444.45</td>\n",
       "      <td>0.64</td>\n",
       "    </tr>\n",
       "    <tr>\n",
       "      <th>std</th>\n",
       "      <td>0.04</td>\n",
       "      <td>597.63</td>\n",
       "      <td>0.09</td>\n",
       "    </tr>\n",
       "    <tr>\n",
       "      <th>min</th>\n",
       "      <td>0.36</td>\n",
       "      <td>59.69</td>\n",
       "      <td>0.32</td>\n",
       "    </tr>\n",
       "    <tr>\n",
       "      <th>25%</th>\n",
       "      <td>0.48</td>\n",
       "      <td>129.92</td>\n",
       "      <td>0.58</td>\n",
       "    </tr>\n",
       "    <tr>\n",
       "      <th>50%</th>\n",
       "      <td>0.50</td>\n",
       "      <td>232.88</td>\n",
       "      <td>0.67</td>\n",
       "    </tr>\n",
       "    <tr>\n",
       "      <th>75%</th>\n",
       "      <td>0.52</td>\n",
       "      <td>450.80</td>\n",
       "      <td>0.70</td>\n",
       "    </tr>\n",
       "    <tr>\n",
       "      <th>max</th>\n",
       "      <td>0.59</td>\n",
       "      <td>3,202.61</td>\n",
       "      <td>0.78</td>\n",
       "    </tr>\n",
       "  </tbody>\n",
       "</table>\n",
       "</div>"
      ],
      "text/plain": [
       "      Silhouette Calinski-Harabasz Davies-Bouldin\n",
       "count      67.00             67.00          67.00\n",
       "mean        0.50            444.45           0.64\n",
       "std         0.04            597.63           0.09\n",
       "min         0.36             59.69           0.32\n",
       "25%         0.48            129.92           0.58\n",
       "50%         0.50            232.88           0.67\n",
       "75%         0.52            450.80           0.70\n",
       "max         0.59          3,202.61           0.78"
      ]
     },
     "execution_count": 50,
     "metadata": {},
     "output_type": "execute_result"
    }
   ],
   "source": [
    "# Describe de las metricas normalizadas\n",
    "print(\"Estadísticas de las métricas aplicando normalización de los datos\")\n",
    "metrics[metrics[\"Normalizado\"] == \"Si\"].describe().applymap('{:,.2f}'.format)"
   ]
  },
  {
   "cell_type": "code",
   "execution_count": 49,
   "metadata": {},
   "outputs": [
    {
     "name": "stdout",
     "output_type": "stream",
     "text": [
      "Estadísticas de las métricas sin aplicar normalización de los datos\n"
     ]
    },
    {
     "data": {
      "text/html": [
       "<div>\n",
       "<style scoped>\n",
       "    .dataframe tbody tr th:only-of-type {\n",
       "        vertical-align: middle;\n",
       "    }\n",
       "\n",
       "    .dataframe tbody tr th {\n",
       "        vertical-align: top;\n",
       "    }\n",
       "\n",
       "    .dataframe thead th {\n",
       "        text-align: right;\n",
       "    }\n",
       "</style>\n",
       "<table border=\"1\" class=\"dataframe\">\n",
       "  <thead>\n",
       "    <tr style=\"text-align: right;\">\n",
       "      <th></th>\n",
       "      <th>Silhouette</th>\n",
       "      <th>Calinski-Harabasz</th>\n",
       "      <th>Davies-Bouldin</th>\n",
       "    </tr>\n",
       "  </thead>\n",
       "  <tbody>\n",
       "    <tr>\n",
       "      <th>count</th>\n",
       "      <td>67.00</td>\n",
       "      <td>67.00</td>\n",
       "      <td>67.00</td>\n",
       "    </tr>\n",
       "    <tr>\n",
       "      <th>mean</th>\n",
       "      <td>0.79</td>\n",
       "      <td>4,255.33</td>\n",
       "      <td>0.34</td>\n",
       "    </tr>\n",
       "    <tr>\n",
       "      <th>std</th>\n",
       "      <td>0.07</td>\n",
       "      <td>11,327.36</td>\n",
       "      <td>0.09</td>\n",
       "    </tr>\n",
       "    <tr>\n",
       "      <th>min</th>\n",
       "      <td>0.53</td>\n",
       "      <td>233.69</td>\n",
       "      <td>0.15</td>\n",
       "    </tr>\n",
       "    <tr>\n",
       "      <th>25%</th>\n",
       "      <td>0.75</td>\n",
       "      <td>1,257.73</td>\n",
       "      <td>0.27</td>\n",
       "    </tr>\n",
       "    <tr>\n",
       "      <th>50%</th>\n",
       "      <td>0.79</td>\n",
       "      <td>2,011.51</td>\n",
       "      <td>0.35</td>\n",
       "    </tr>\n",
       "    <tr>\n",
       "      <th>75%</th>\n",
       "      <td>0.83</td>\n",
       "      <td>3,166.28</td>\n",
       "      <td>0.41</td>\n",
       "    </tr>\n",
       "    <tr>\n",
       "      <th>max</th>\n",
       "      <td>0.94</td>\n",
       "      <td>90,125.86</td>\n",
       "      <td>0.51</td>\n",
       "    </tr>\n",
       "  </tbody>\n",
       "</table>\n",
       "</div>"
      ],
      "text/plain": [
       "      Silhouette Calinski-Harabasz Davies-Bouldin\n",
       "count      67.00             67.00          67.00\n",
       "mean        0.79          4,255.33           0.34\n",
       "std         0.07         11,327.36           0.09\n",
       "min         0.53            233.69           0.15\n",
       "25%         0.75          1,257.73           0.27\n",
       "50%         0.79          2,011.51           0.35\n",
       "75%         0.83          3,166.28           0.41\n",
       "max         0.94         90,125.86           0.51"
      ]
     },
     "execution_count": 49,
     "metadata": {},
     "output_type": "execute_result"
    }
   ],
   "source": [
    "# Describe de las metricas NO normalizadas\n",
    "print(\"Estadísticas de las métricas sin aplicar normalización de los datos\")\n",
    "metrics[metrics[\"Normalizado\"] == \"No\"].describe().applymap('{:,.2f}'.format)"
   ]
  },
  {
   "cell_type": "code",
   "execution_count": 42,
   "metadata": {},
   "outputs": [],
   "source": [
    "# Descarga de bd predicha y metricas calculadas\n",
    "bd_predicted.to_csv(f\"C:/Users/tcardenas/OneDrive/OneDrive - Grupo DISPAPELES/Documents/ML-Dispapeles-TomasCaLo/Clustering/Clustering {fecha}.csv\",\n",
    "                        encoding= 'utf-8', index= False, decimal= \",\", sep= \";\")\n",
    "metrics.to_csv(f\"C:/Users/tcardenas/OneDrive/OneDrive - Grupo DISPAPELES/Documents/ML-Dispapeles-TomasCaLo/Clustering/Metricas {fecha}.csv\",\n",
    "                        encoding= 'utf-8', index= False, decimal= \",\",  sep= \";\")"
   ]
  },
  {
   "cell_type": "code",
   "execution_count": 52,
   "metadata": {},
   "outputs": [
    {
     "data": {
      "text/html": [
       "<div>\n",
       "<style scoped>\n",
       "    .dataframe tbody tr th:only-of-type {\n",
       "        vertical-align: middle;\n",
       "    }\n",
       "\n",
       "    .dataframe tbody tr th {\n",
       "        vertical-align: top;\n",
       "    }\n",
       "\n",
       "    .dataframe thead th {\n",
       "        text-align: right;\n",
       "    }\n",
       "</style>\n",
       "<table border=\"1\" class=\"dataframe\">\n",
       "  <thead>\n",
       "    <tr style=\"text-align: right;\">\n",
       "      <th></th>\n",
       "      <th>Codigo distrito</th>\n",
       "      <th>Nombre tipo zona</th>\n",
       "      <th>Nit cliente-sucursal</th>\n",
       "      <th>Recency</th>\n",
       "      <th>Monetary</th>\n",
       "      <th>Frequency</th>\n",
       "      <th>Distrito-Nombretipozona</th>\n",
       "      <th>Cluster</th>\n",
       "      <th>Letra cluster</th>\n",
       "      <th>Normalizado</th>\n",
       "    </tr>\n",
       "  </thead>\n",
       "  <tbody>\n",
       "    <tr>\n",
       "      <th>0</th>\n",
       "      <td>90</td>\n",
       "      <td>Mayorista</td>\n",
       "      <td>1007934252-1</td>\n",
       "      <td>14</td>\n",
       "      <td>1.019305</td>\n",
       "      <td>5</td>\n",
       "      <td>90-Mayorista</td>\n",
       "      <td>Cluster 0</td>\n",
       "      <td>D</td>\n",
       "      <td>True</td>\n",
       "    </tr>\n",
       "    <tr>\n",
       "      <th>1</th>\n",
       "      <td>90</td>\n",
       "      <td>Mayorista</td>\n",
       "      <td>10091164-1</td>\n",
       "      <td>17</td>\n",
       "      <td>1.096318</td>\n",
       "      <td>1</td>\n",
       "      <td>90-Mayorista</td>\n",
       "      <td>Cluster 0</td>\n",
       "      <td>D</td>\n",
       "      <td>True</td>\n",
       "    </tr>\n",
       "    <tr>\n",
       "      <th>2</th>\n",
       "      <td>90</td>\n",
       "      <td>Mayorista</td>\n",
       "      <td>1055916959-1</td>\n",
       "      <td>17</td>\n",
       "      <td>1.046372</td>\n",
       "      <td>8</td>\n",
       "      <td>90-Mayorista</td>\n",
       "      <td>Cluster 0</td>\n",
       "      <td>D</td>\n",
       "      <td>True</td>\n",
       "    </tr>\n",
       "    <tr>\n",
       "      <th>3</th>\n",
       "      <td>90</td>\n",
       "      <td>Mayorista</td>\n",
       "      <td>1070594547-1</td>\n",
       "      <td>13</td>\n",
       "      <td>1.343987</td>\n",
       "      <td>4</td>\n",
       "      <td>90-Mayorista</td>\n",
       "      <td>Cluster 0</td>\n",
       "      <td>D</td>\n",
       "      <td>True</td>\n",
       "    </tr>\n",
       "    <tr>\n",
       "      <th>4</th>\n",
       "      <td>90</td>\n",
       "      <td>Mayorista</td>\n",
       "      <td>1105670924-1</td>\n",
       "      <td>13</td>\n",
       "      <td>1.028703</td>\n",
       "      <td>11</td>\n",
       "      <td>90-Mayorista</td>\n",
       "      <td>Cluster 0</td>\n",
       "      <td>D</td>\n",
       "      <td>True</td>\n",
       "    </tr>\n",
       "    <tr>\n",
       "      <th>...</th>\n",
       "      <td>...</td>\n",
       "      <td>...</td>\n",
       "      <td>...</td>\n",
       "      <td>...</td>\n",
       "      <td>...</td>\n",
       "      <td>...</td>\n",
       "      <td>...</td>\n",
       "      <td>...</td>\n",
       "      <td>...</td>\n",
       "      <td>...</td>\n",
       "    </tr>\n",
       "    <tr>\n",
       "      <th>131</th>\n",
       "      <td>90</td>\n",
       "      <td>Mayorista</td>\n",
       "      <td>901416140-1</td>\n",
       "      <td>24</td>\n",
       "      <td>1.702799</td>\n",
       "      <td>19</td>\n",
       "      <td>90-Mayorista</td>\n",
       "      <td>Cluster 1</td>\n",
       "      <td>B</td>\n",
       "      <td>True</td>\n",
       "    </tr>\n",
       "    <tr>\n",
       "      <th>132</th>\n",
       "      <td>90</td>\n",
       "      <td>Mayorista</td>\n",
       "      <td>93370623-1</td>\n",
       "      <td>24</td>\n",
       "      <td>1.184497</td>\n",
       "      <td>23</td>\n",
       "      <td>90-Mayorista</td>\n",
       "      <td>Cluster 1</td>\n",
       "      <td>B</td>\n",
       "      <td>True</td>\n",
       "    </tr>\n",
       "    <tr>\n",
       "      <th>133</th>\n",
       "      <td>90</td>\n",
       "      <td>Mayorista</td>\n",
       "      <td>93386132-1</td>\n",
       "      <td>22</td>\n",
       "      <td>7.824215</td>\n",
       "      <td>19</td>\n",
       "      <td>90-Mayorista</td>\n",
       "      <td>Cluster 1</td>\n",
       "      <td>B</td>\n",
       "      <td>True</td>\n",
       "    </tr>\n",
       "    <tr>\n",
       "      <th>134</th>\n",
       "      <td>90</td>\n",
       "      <td>Mayorista</td>\n",
       "      <td>93414007-1</td>\n",
       "      <td>24</td>\n",
       "      <td>1.170004</td>\n",
       "      <td>15</td>\n",
       "      <td>90-Mayorista</td>\n",
       "      <td>Cluster 1</td>\n",
       "      <td>B</td>\n",
       "      <td>True</td>\n",
       "    </tr>\n",
       "    <tr>\n",
       "      <th>135</th>\n",
       "      <td>90</td>\n",
       "      <td>Mayorista</td>\n",
       "      <td>809011022-1</td>\n",
       "      <td>24</td>\n",
       "      <td>24.000000</td>\n",
       "      <td>24</td>\n",
       "      <td>90-Mayorista</td>\n",
       "      <td>Cluster 3</td>\n",
       "      <td>A</td>\n",
       "      <td>True</td>\n",
       "    </tr>\n",
       "  </tbody>\n",
       "</table>\n",
       "<p>136 rows × 10 columns</p>\n",
       "</div>"
      ],
      "text/plain": [
       "     Codigo distrito Nombre tipo zona Nit cliente-sucursal  Recency  \\\n",
       "0                 90        Mayorista         1007934252-1       14   \n",
       "1                 90        Mayorista           10091164-1       17   \n",
       "2                 90        Mayorista         1055916959-1       17   \n",
       "3                 90        Mayorista         1070594547-1       13   \n",
       "4                 90        Mayorista         1105670924-1       13   \n",
       "..               ...              ...                  ...      ...   \n",
       "131               90        Mayorista          901416140-1       24   \n",
       "132               90        Mayorista           93370623-1       24   \n",
       "133               90        Mayorista           93386132-1       22   \n",
       "134               90        Mayorista           93414007-1       24   \n",
       "135               90        Mayorista          809011022-1       24   \n",
       "\n",
       "      Monetary  Frequency Distrito-Nombretipozona    Cluster Letra cluster  \\\n",
       "0     1.019305          5            90-Mayorista  Cluster 0             D   \n",
       "1     1.096318          1            90-Mayorista  Cluster 0             D   \n",
       "2     1.046372          8            90-Mayorista  Cluster 0             D   \n",
       "3     1.343987          4            90-Mayorista  Cluster 0             D   \n",
       "4     1.028703         11            90-Mayorista  Cluster 0             D   \n",
       "..         ...        ...                     ...        ...           ...   \n",
       "131   1.702799         19            90-Mayorista  Cluster 1             B   \n",
       "132   1.184497         23            90-Mayorista  Cluster 1             B   \n",
       "133   7.824215         19            90-Mayorista  Cluster 1             B   \n",
       "134   1.170004         15            90-Mayorista  Cluster 1             B   \n",
       "135  24.000000         24            90-Mayorista  Cluster 3             A   \n",
       "\n",
       "     Normalizado  \n",
       "0           True  \n",
       "1           True  \n",
       "2           True  \n",
       "3           True  \n",
       "4           True  \n",
       "..           ...  \n",
       "131         True  \n",
       "132         True  \n",
       "133         True  \n",
       "134         True  \n",
       "135         True  \n",
       "\n",
       "[136 rows x 10 columns]"
      ]
     },
     "execution_count": 52,
     "metadata": {},
     "output_type": "execute_result"
    }
   ],
   "source": [
    "df_pred_km"
   ]
  },
  {
   "cell_type": "code",
   "execution_count": 43,
   "metadata": {},
   "outputs": [
    {
     "data": {
      "text/plain": [
       "Text(0.5, 0, 'Frequency')"
      ]
     },
     "execution_count": 43,
     "metadata": {},
     "output_type": "execute_result"
    },
    {
     "data": {
      "image/png": "[encoded data removed]",
      "text/plain": [
       "<Figure size 700x1000 with 1 Axes>"
      ]
     },
     "metadata": {},
     "output_type": "display_data"
    }
   ],
   "source": [
    "col =  ['blueviolet', 'limegreen', 'indianred', 'royalblue', 'magenta']\n",
    "leg = ['A', 'B', 'C', 'D', 'E']\n",
    "cluster = list(np.unique(df_pred_km['Letra cluster']))\n",
    "\n",
    "# fig, ax = plt.subplots(1, 2, figsize= (15,5))\n",
    "fig = plt.figure(figsize=(7,10))\n",
    "ax = fig.gca(projection='3d')\n",
    "\n",
    "for c in range(5):\n",
    "    df_plot = df_pred_km[df_pred_km['Letra cluster'] == cluster[c]]\n",
    "    ax.scatter(df_plot['Monetary'],df_plot['Frequency'], df_plot['Recency'], c= col[c])\n",
    "    \n",
    "ax.legend(leg)\n",
    "ax.set_xlabel('Monetary')\n",
    "ax.set_ylabel('Recency')\n",
    "ax.set_zlabel('Frequency')"
   ]
  },
  {
   "cell_type": "code",
   "execution_count": 51,
   "metadata": {},
   "outputs": [
    {
     "data": {
      "application/vnd.plotly.v1+json": {
       "config": {
        "plotlyServerURL": "https://plot.ly"
       },
       "data": [
        {
         "customdata": [
          [
           null
          ],
          [
           null
          ],
          [
           null
          ],
          [
           null
          ],
          [
           null
          ],
          [
           null
          ],
          [
           null
          ],
          [
           null
          ],
          [
           null
          ],
          [
           null
          ],
          [
           null
          ],
          [
           null
          ],
          [
           null
          ],
          [
           null
          ],
          [
           null
          ],
          [
           null
          ],
          [
           null
          ],
          [
           null
          ],
          [
           null
          ],
          [
           null
          ],
          [
           null
          ],
          [
           null
          ],
          [
           null
          ],
          [
           null
          ],
          [
           null
          ],
          [
           null
          ],
          [
           null
          ],
          [
           null
          ],
          [
           null
          ],
          [
           null
          ],
          [
           null
          ],
          [
           null
          ],
          [
           null
          ]
         ],
         "hovertemplate": "Cluster=Cluster 0<br>PCA1=%{x}<br>PCA2=%{y}<br>Feature=%{customdata[0]}<extra></extra>",
         "legendgroup": "Cluster 0",
         "marker": {
          "color": "#636efa",
          "opacity": 0.5,
          "symbol": "circle"
         },
         "mode": "markers",
         "name": "Cluster 0",
         "orientation": "v",
         "showlegend": true,
         "textposition": "top center",
         "type": "scatter",
         "x": [
          -5.0263166,
          -5.165901,
          -6.376941,
          -5.771692,
          -5.610353,
          -4.188217,
          -5.5845804,
          -3.1578417,
          -7.401641,
          -4.0026455,
          -9.40524,
          -3.7689455,
          -7.821286,
          -2.7858016,
          -5.1658735,
          -3.5749452,
          -3.8062825,
          -8.795969,
          -4.7939453,
          -6.374302,
          -8.007272,
          -6.7965956,
          -3.2096717,
          -4.373922,
          -5.771938,
          -8.194172,
          -6.3774347,
          -6.397102,
          -0.8815518,
          -5.5833764,
          -0.8325461,
          -6.3696985,
          -6.375357
         ],
         "xaxis": "x",
         "y": [
          -0.81964904,
          5.540616,
          3.9510083,
          4.7461896,
          -1.644432,
          3.5532193,
          3.3536549,
          6.5263724,
          0.9699419,
          2.1628315,
          -0.022033712,
          5.7393556,
          -1.2156721,
          3.7443457,
          5.540576,
          4.337213,
          0.75739515,
          0.7675399,
          2.7587068,
          3.9473283,
          0.17529376,
          1.7654074,
          1.5646228,
          4.9437933,
          4.746533,
          1.5675336,
          3.9516976,
          -1.0549028,
          -5.193188,
          3.3519754,
          -0.22750114,
          3.9409044,
          3.9487996
         ],
         "yaxis": "y"
        },
        {
         "customdata": [
          [
           null
          ],
          [
           null
          ],
          [
           null
          ],
          [
           null
          ],
          [
           null
          ],
          [
           null
          ],
          [
           null
          ],
          [
           null
          ],
          [
           null
          ],
          [
           null
          ],
          [
           null
          ],
          [
           null
          ],
          [
           null
          ],
          [
           null
          ],
          [
           null
          ],
          [
           null
          ],
          [
           null
          ],
          [
           null
          ],
          [
           null
          ],
          [
           null
          ],
          [
           null
          ],
          [
           null
          ],
          [
           null
          ],
          [
           null
          ],
          [
           null
          ],
          [
           null
          ],
          [
           null
          ],
          [
           null
          ],
          [
           null
          ],
          [
           null
          ],
          [
           null
          ],
          [
           null
          ],
          [
           null
          ],
          [
           null
          ],
          [
           null
          ],
          [
           null
          ],
          [
           null
          ]
         ],
         "hovertemplate": "Cluster=Cluster 1<br>PCA1=%{x}<br>PCA2=%{y}<br>Feature=%{customdata[0]}<extra></extra>",
         "legendgroup": "Cluster 1",
         "marker": {
          "color": "#EF553B",
          "opacity": 0.5,
          "symbol": "circle"
         },
         "mode": "markers",
         "name": "Cluster 1",
         "orientation": "v",
         "showlegend": true,
         "textposition": "top center",
         "type": "scatter",
         "x": [
          16.134567,
          15.291869,
          12.945766,
          8.957879,
          16.088324,
          8.9615345,
          11.454674,
          13.904726,
          11.508024,
          10.645495,
          14.567191,
          8.155572,
          12.167648,
          16.097906,
          10.861535,
          15.762994,
          16.265001,
          11.400438,
          15.323489,
          5.3252316,
          13.165752,
          16.675247,
          11.655184,
          16.40785,
          16.085941,
          16.084963,
          16.11605,
          15.35707,
          10.530605,
          16.106392,
          16.113739,
          12.120133,
          14.711647,
          9.029124,
          16.098711,
          12.314446,
          10.559392
         ],
         "xaxis": "x",
         "y": [
          -4.29225,
          -3.6247005,
          -1.8758385,
          1.1473085,
          -4.2277637,
          1.1422107,
          -3.5825033,
          -3.8371222,
          -2.0177007,
          -0.19088712,
          -3.121729,
          1.7585317,
          -1.298344,
          -4.2411256,
          -0.49215513,
          -4.2816834,
          -4.4741397,
          -0.7360638,
          -3.6687932,
          -3.6221719,
          -2.182608,
          -5.046227,
          -2.2229154,
          -4.6733418,
          -4.22444,
          -4.2230754,
          -4.266428,
          -3.7156224,
          -0.030674214,
          -4.2529573,
          -4.263203,
          -1.2320845,
          -4.454781,
          1.0479548,
          -4.242249,
          -2.6346624,
          -0.07081722
         ],
         "yaxis": "y"
        },
        {
         "customdata": [
          [
           null
          ],
          [
           null
          ],
          [
           null
          ],
          [
           null
          ],
          [
           null
          ],
          [
           null
          ],
          [
           null
          ],
          [
           null
          ],
          [
           null
          ],
          [
           null
          ],
          [
           null
          ],
          [
           null
          ],
          [
           null
          ],
          [
           null
          ],
          [
           null
          ],
          [
           null
          ],
          [
           null
          ],
          [
           null
          ],
          [
           null
          ],
          [
           null
          ],
          [
           null
          ],
          [
           null
          ],
          [
           null
          ],
          [
           null
          ],
          [
           null
          ],
          [
           null
          ],
          [
           null
          ],
          [
           null
          ],
          [
           null
          ],
          [
           null
          ],
          [
           null
          ],
          [
           null
          ]
         ],
         "hovertemplate": "Cluster=Cluster 2<br>PCA1=%{x}<br>PCA2=%{y}<br>Feature=%{customdata[0]}<extra></extra>",
         "legendgroup": "Cluster 2",
         "marker": {
          "color": "#00cc96",
          "opacity": 0.5,
          "symbol": "circle"
         },
         "mode": "markers",
         "name": "Cluster 2",
         "orientation": "v",
         "showlegend": true,
         "textposition": "top center",
         "type": "scatter",
         "x": [
          -10.004631,
          -10.6166,
          -10.010824,
          -14.855568,
          -14.854919,
          -13.038674,
          -12.433366,
          -15.461394,
          -11.64119,
          -12.246263,
          -16.066435,
          -11.220065,
          -14.668146,
          -14.249202,
          -11.209358,
          -10.616472,
          -13.644516,
          -13.03877,
          -14.855373,
          -14.855562,
          -10.010859,
          -12.43284,
          -10.008596,
          -12.417947,
          -10.008616,
          -11.827433,
          -7.635734,
          -11.824159,
          -11.035894,
          -10.427836,
          -12.053955,
          -13.6424885
         ],
         "xaxis": "x",
         "y": [
          -0.8253845,
          -1.6111923,
          -0.816748,
          -7.1743617,
          -7.1752677,
          -4.790417,
          -3.9953194,
          -7.968737,
          -4.5924163,
          -5.3878417,
          -8.764211,
          -2.408863,
          -8.56733,
          -6.380734,
          -2.423794,
          -1.6113735,
          -5.5847716,
          -4.790284,
          -7.174631,
          -7.174369,
          -0.81670076,
          -3.996051,
          -0.81985533,
          -4.01682,
          -0.81982744,
          -3.2010915,
          -2.6060326,
          -3.205656,
          -3.797299,
          -3.006032,
          -6.787625,
          -5.5875998
         ],
         "yaxis": "y"
        },
        {
         "customdata": [
          [
           null
          ]
         ],
         "hovertemplate": "Cluster=Cluster 3<br>PCA1=%{x}<br>PCA2=%{y}<br>Feature=%{customdata[0]}<extra></extra>",
         "legendgroup": "Cluster 3",
         "marker": {
          "color": "#ab63fa",
          "opacity": 0.5,
          "symbol": "circle"
         },
         "mode": "markers",
         "name": "Cluster 3",
         "orientation": "v",
         "showlegend": true,
         "textposition": "top center",
         "type": "scatter",
         "x": [
          17.940384
         ],
         "xaxis": "x",
         "y": [
          -6.8104663
         ],
         "yaxis": "y"
        },
        {
         "customdata": [
          [
           null
          ],
          [
           null
          ],
          [
           null
          ],
          [
           null
          ],
          [
           null
          ],
          [
           null
          ],
          [
           null
          ],
          [
           null
          ],
          [
           null
          ],
          [
           null
          ],
          [
           null
          ],
          [
           null
          ],
          [
           null
          ],
          [
           null
          ],
          [
           null
          ],
          [
           null
          ],
          [
           null
          ],
          [
           null
          ],
          [
           null
          ],
          [
           null
          ],
          [
           null
          ],
          [
           null
          ],
          [
           null
          ],
          [
           null
          ],
          [
           null
          ],
          [
           null
          ],
          [
           null
          ],
          [
           null
          ],
          [
           null
          ],
          [
           null
          ],
          [
           null
          ],
          [
           null
          ],
          [
           null
          ]
         ],
         "hovertemplate": "Cluster=Cluster 4<br>PCA1=%{x}<br>PCA2=%{y}<br>Feature=%{customdata[0]}<extra></extra>",
         "legendgroup": "Cluster 4",
         "marker": {
          "color": "#FFA15A",
          "opacity": 0.5,
          "symbol": "circle"
         },
         "mode": "markers",
         "name": "Cluster 4",
         "orientation": "v",
         "showlegend": true,
         "textposition": "top center",
         "type": "scatter",
         "x": [
          6.156772,
          -2.13779,
          0.65703547,
          5.7943296,
          3.4074433,
          1.2383751,
          4.987046,
          -0.78748375,
          1.2178785,
          1.2175659,
          1.8286406,
          -0.51570076,
          4.0070376,
          1.5907346,
          5.800892,
          5.3974404,
          -1.7650839,
          2.990119,
          -2.1380696,
          -0.55457884,
          2.152832,
          -2.1381576,
          4.198322,
          1.401427,
          1.4980124,
          5.7959685,
          6.573877,
          -0.4128065,
          1.8205688,
          2.6133394,
          -2.5575583,
          2.6144023,
          -0.1823067
         ],
         "xaxis": "x",
         "y": [
          0.75986373,
          9.51392,
          4.8760977,
          3.5285068,
          5.334241,
          5.7046204,
          4.1466713,
          4.743686,
          5.7332025,
          5.7336392,
          6.520696,
          8.267101,
          1.1032827,
          2.9500384,
          3.5193548,
          1.3111587,
          6.7309656,
          3.1453905,
          9.51431,
          8.321318,
          -1.2286317,
          9.514433,
          4.738954,
          4.3456364,
          4.210948,
          3.5262213,
          2.949021,
          1.9579816,
          6.5319524,
          5.9340262,
          7.328478,
          5.9325438,
          5.538968
         ],
         "yaxis": "y"
        }
       ],
       "layout": {
        "height": 600,
        "legend": {
         "title": {
          "text": "Cluster"
         },
         "tracegroupgap": 0
        },
        "margin": {
         "t": 60
        },
        "plot_bgcolor": "rgb(240,240,240)",
        "template": {
         "data": {
          "bar": [
           {
            "error_x": {
             "color": "#2a3f5f"
            },
            "error_y": {
             "color": "#2a3f5f"
            },
            "marker": {
             "line": {
              "color": "#E5ECF6",
              "width": 0.5
             },
             "pattern": {
              "fillmode": "overlay",
              "size": 10,
              "solidity": 0.2
             }
            },
            "type": "bar"
           }
          ],
          "barpolar": [
           {
            "marker": {
             "line": {
              "color": "#E5ECF6",
              "width": 0.5
             },
             "pattern": {
              "fillmode": "overlay",
              "size": 10,
              "solidity": 0.2
             }
            },
            "type": "barpolar"
           }
          ],
          "carpet": [
           {
            "aaxis": {
             "endlinecolor": "#2a3f5f",
             "gridcolor": "white",
             "linecolor": "white",
             "minorgridcolor": "white",
             "startlinecolor": "#2a3f5f"
            },
            "baxis": {
             "endlinecolor": "#2a3f5f",
             "gridcolor": "white",
             "linecolor": "white",
             "minorgridcolor": "white",
             "startlinecolor": "#2a3f5f"
            },
            "type": "carpet"
           }
          ],
          "choropleth": [
           {
            "colorbar": {
             "outlinewidth": 0,
             "ticks": ""
            },
            "type": "choropleth"
           }
          ],
          "contour": [
           {
            "colorbar": {
             "outlinewidth": 0,
             "ticks": ""
            },
            "colorscale": [
             [
              0,
              "#0d0887"
             ],
             [
              0.1111111111111111,
              "#46039f"
             ],
             [
              0.2222222222222222,
              "#7201a8"
             ],
             [
              0.3333333333333333,
              "#9c179e"
             ],
             [
              0.4444444444444444,
              "#bd3786"
             ],
             [
              0.5555555555555556,
              "#d8576b"
             ],
             [
              0.6666666666666666,
              "#ed7953"
             ],
             [
              0.7777777777777778,
              "#fb9f3a"
             ],
             [
              0.8888888888888888,
              "#fdca26"
             ],
             [
              1,
              "#f0f921"
             ]
            ],
            "type": "contour"
           }
          ],
          "contourcarpet": [
           {
            "colorbar": {
             "outlinewidth": 0,
             "ticks": ""
            },
            "type": "contourcarpet"
           }
          ],
          "heatmap": [
           {
            "colorbar": {
             "outlinewidth": 0,
             "ticks": ""
            },
            "colorscale": [
             [
              0,
              "#0d0887"
             ],
             [
              0.1111111111111111,
              "#46039f"
             ],
             [
              0.2222222222222222,
              "#7201a8"
             ],
             [
              0.3333333333333333,
              "#9c179e"
             ],
             [
              0.4444444444444444,
              "#bd3786"
             ],
             [
              0.5555555555555556,
              "#d8576b"
             ],
             [
              0.6666666666666666,
              "#ed7953"
             ],
             [
              0.7777777777777778,
              "#fb9f3a"
             ],
             [
              0.8888888888888888,
              "#fdca26"
             ],
             [
              1,
              "#f0f921"
             ]
            ],
            "type": "heatmap"
           }
          ],
          "heatmapgl": [
           {
            "colorbar": {
             "outlinewidth": 0,
             "ticks": ""
            },
            "colorscale": [
             [
              0,
              "#0d0887"
             ],
             [
              0.1111111111111111,
              "#46039f"
             ],
             [
              0.2222222222222222,
              "#7201a8"
             ],
             [
              0.3333333333333333,
              "#9c179e"
             ],
             [
              0.4444444444444444,
              "#bd3786"
             ],
             [
              0.5555555555555556,
              "#d8576b"
             ],
             [
              0.6666666666666666,
              "#ed7953"
             ],
             [
              0.7777777777777778,
              "#fb9f3a"
             ],
             [
              0.8888888888888888,
              "#fdca26"
             ],
             [
              1,
              "#f0f921"
             ]
            ],
            "type": "heatmapgl"
           }
          ],
          "histogram": [
           {
            "marker": {
             "pattern": {
              "fillmode": "overlay",
              "size": 10,
              "solidity": 0.2
             }
            },
            "type": "histogram"
           }
          ],
          "histogram2d": [
           {
            "colorbar": {
             "outlinewidth": 0,
             "ticks": ""
            },
            "colorscale": [
             [
              0,
              "#0d0887"
             ],
             [
              0.1111111111111111,
              "#46039f"
             ],
             [
              0.2222222222222222,
              "#7201a8"
             ],
             [
              0.3333333333333333,
              "#9c179e"
             ],
             [
              0.4444444444444444,
              "#bd3786"
             ],
             [
              0.5555555555555556,
              "#d8576b"
             ],
             [
              0.6666666666666666,
              "#ed7953"
             ],
             [
              0.7777777777777778,
              "#fb9f3a"
             ],
             [
              0.8888888888888888,
              "#fdca26"
             ],
             [
              1,
              "#f0f921"
             ]
            ],
            "type": "histogram2d"
           }
          ],
          "histogram2dcontour": [
           {
            "colorbar": {
             "outlinewidth": 0,
             "ticks": ""
            },
            "colorscale": [
             [
              0,
              "#0d0887"
             ],
             [
              0.1111111111111111,
              "#46039f"
             ],
             [
              0.2222222222222222,
              "#7201a8"
             ],
             [
              0.3333333333333333,
              "#9c179e"
             ],
             [
              0.4444444444444444,
              "#bd3786"
             ],
             [
              0.5555555555555556,
              "#d8576b"
             ],
             [
              0.6666666666666666,
              "#ed7953"
             ],
             [
              0.7777777777777778,
              "#fb9f3a"
             ],
             [
              0.8888888888888888,
              "#fdca26"
             ],
             [
              1,
              "#f0f921"
             ]
            ],
            "type": "histogram2dcontour"
           }
          ],
          "mesh3d": [
           {
            "colorbar": {
             "outlinewidth": 0,
             "ticks": ""
            },
            "type": "mesh3d"
           }
          ],
          "parcoords": [
           {
            "line": {
             "colorbar": {
              "outlinewidth": 0,
              "ticks": ""
             }
            },
            "type": "parcoords"
           }
          ],
          "pie": [
           {
            "automargin": true,
            "type": "pie"
           }
          ],
          "scatter": [
           {
            "fillpattern": {
             "fillmode": "overlay",
             "size": 10,
             "solidity": 0.2
            },
            "type": "scatter"
           }
          ],
          "scatter3d": [
           {
            "line": {
             "colorbar": {
              "outlinewidth": 0,
              "ticks": ""
             }
            },
            "marker": {
             "colorbar": {
              "outlinewidth": 0,
              "ticks": ""
             }
            },
            "type": "scatter3d"
           }
          ],
          "scattercarpet": [
           {
            "marker": {
             "colorbar": {
              "outlinewidth": 0,
              "ticks": ""
             }
            },
            "type": "scattercarpet"
           }
          ],
          "scattergeo": [
           {
            "marker": {
             "colorbar": {
              "outlinewidth": 0,
              "ticks": ""
             }
            },
            "type": "scattergeo"
           }
          ],
          "scattergl": [
           {
            "marker": {
             "colorbar": {
              "outlinewidth": 0,
              "ticks": ""
             }
            },
            "type": "scattergl"
           }
          ],
          "scattermapbox": [
           {
            "marker": {
             "colorbar": {
              "outlinewidth": 0,
              "ticks": ""
             }
            },
            "type": "scattermapbox"
           }
          ],
          "scatterpolar": [
           {
            "marker": {
             "colorbar": {
              "outlinewidth": 0,
              "ticks": ""
             }
            },
            "type": "scatterpolar"
           }
          ],
          "scatterpolargl": [
           {
            "marker": {
             "colorbar": {
              "outlinewidth": 0,
              "ticks": ""
             }
            },
            "type": "scatterpolargl"
           }
          ],
          "scatterternary": [
           {
            "marker": {
             "colorbar": {
              "outlinewidth": 0,
              "ticks": ""
             }
            },
            "type": "scatterternary"
           }
          ],
          "surface": [
           {
            "colorbar": {
             "outlinewidth": 0,
             "ticks": ""
            },
            "colorscale": [
             [
              0,
              "#0d0887"
             ],
             [
              0.1111111111111111,
              "#46039f"
             ],
             [
              0.2222222222222222,
              "#7201a8"
             ],
             [
              0.3333333333333333,
              "#9c179e"
             ],
             [
              0.4444444444444444,
              "#bd3786"
             ],
             [
              0.5555555555555556,
              "#d8576b"
             ],
             [
              0.6666666666666666,
              "#ed7953"
             ],
             [
              0.7777777777777778,
              "#fb9f3a"
             ],
             [
              0.8888888888888888,
              "#fdca26"
             ],
             [
              1,
              "#f0f921"
             ]
            ],
            "type": "surface"
           }
          ],
          "table": [
           {
            "cells": {
             "fill": {
              "color": "#EBF0F8"
             },
             "line": {
              "color": "white"
             }
            },
            "header": {
             "fill": {
              "color": "#C8D4E3"
             },
             "line": {
              "color": "white"
             }
            },
            "type": "table"
           }
          ]
         },
         "layout": {
          "annotationdefaults": {
           "arrowcolor": "#2a3f5f",
           "arrowhead": 0,
           "arrowwidth": 1
          },
          "autotypenumbers": "strict",
          "coloraxis": {
           "colorbar": {
            "outlinewidth": 0,
            "ticks": ""
           }
          },
          "colorscale": {
           "diverging": [
            [
             0,
             "#8e0152"
            ],
            [
             0.1,
             "#c51b7d"
            ],
            [
             0.2,
             "#de77ae"
            ],
            [
             0.3,
             "#f1b6da"
            ],
            [
             0.4,
             "#fde0ef"
            ],
            [
             0.5,
             "#f7f7f7"
            ],
            [
             0.6,
             "#e6f5d0"
            ],
            [
             0.7,
             "#b8e186"
            ],
            [
             0.8,
             "#7fbc41"
            ],
            [
             0.9,
             "#4d9221"
            ],
            [
             1,
             "#276419"
            ]
           ],
           "sequential": [
            [
             0,
             "#0d0887"
            ],
            [
             0.1111111111111111,
             "#46039f"
            ],
            [
             0.2222222222222222,
             "#7201a8"
            ],
            [
             0.3333333333333333,
             "#9c179e"
            ],
            [
             0.4444444444444444,
             "#bd3786"
            ],
            [
             0.5555555555555556,
             "#d8576b"
            ],
            [
             0.6666666666666666,
             "#ed7953"
            ],
            [
             0.7777777777777778,
             "#fb9f3a"
            ],
            [
             0.8888888888888888,
             "#fdca26"
            ],
            [
             1,
             "#f0f921"
            ]
           ],
           "sequentialminus": [
            [
             0,
             "#0d0887"
            ],
            [
             0.1111111111111111,
             "#46039f"
            ],
            [
             0.2222222222222222,
             "#7201a8"
            ],
            [
             0.3333333333333333,
             "#9c179e"
            ],
            [
             0.4444444444444444,
             "#bd3786"
            ],
            [
             0.5555555555555556,
             "#d8576b"
            ],
            [
             0.6666666666666666,
             "#ed7953"
            ],
            [
             0.7777777777777778,
             "#fb9f3a"
            ],
            [
             0.8888888888888888,
             "#fdca26"
            ],
            [
             1,
             "#f0f921"
            ]
           ]
          },
          "colorway": [
           "#636efa",
           "#EF553B",
           "#00cc96",
           "#ab63fa",
           "#FFA15A",
           "#19d3f3",
           "#FF6692",
           "#B6E880",
           "#FF97FF",
           "#FECB52"
          ],
          "font": {
           "color": "#2a3f5f"
          },
          "geo": {
           "bgcolor": "white",
           "lakecolor": "white",
           "landcolor": "#E5ECF6",
           "showlakes": true,
           "showland": true,
           "subunitcolor": "white"
          },
          "hoverlabel": {
           "align": "left"
          },
          "hovermode": "closest",
          "mapbox": {
           "style": "light"
          },
          "paper_bgcolor": "white",
          "plot_bgcolor": "#E5ECF6",
          "polar": {
           "angularaxis": {
            "gridcolor": "white",
            "linecolor": "white",
            "ticks": ""
           },
           "bgcolor": "#E5ECF6",
           "radialaxis": {
            "gridcolor": "white",
            "linecolor": "white",
            "ticks": ""
           }
          },
          "scene": {
           "xaxis": {
            "backgroundcolor": "#E5ECF6",
            "gridcolor": "white",
            "gridwidth": 2,
            "linecolor": "white",
            "showbackground": true,
            "ticks": "",
            "zerolinecolor": "white"
           },
           "yaxis": {
            "backgroundcolor": "#E5ECF6",
            "gridcolor": "white",
            "gridwidth": 2,
            "linecolor": "white",
            "showbackground": true,
            "ticks": "",
            "zerolinecolor": "white"
           },
           "zaxis": {
            "backgroundcolor": "#E5ECF6",
            "gridcolor": "white",
            "gridwidth": 2,
            "linecolor": "white",
            "showbackground": true,
            "ticks": "",
            "zerolinecolor": "white"
           }
          },
          "shapedefaults": {
           "line": {
            "color": "#2a3f5f"
           }
          },
          "ternary": {
           "aaxis": {
            "gridcolor": "white",
            "linecolor": "white",
            "ticks": ""
           },
           "baxis": {
            "gridcolor": "white",
            "linecolor": "white",
            "ticks": ""
           },
           "bgcolor": "#E5ECF6",
           "caxis": {
            "gridcolor": "white",
            "linecolor": "white",
            "ticks": ""
           }
          },
          "title": {
           "x": 0.05
          },
          "xaxis": {
           "automargin": true,
           "gridcolor": "white",
           "linecolor": "white",
           "ticks": "",
           "title": {
            "standoff": 15
           },
           "zerolinecolor": "white",
           "zerolinewidth": 2
          },
          "yaxis": {
           "automargin": true,
           "gridcolor": "white",
           "linecolor": "white",
           "ticks": "",
           "title": {
            "standoff": 15
           },
           "zerolinecolor": "white",
           "zerolinewidth": 2
          }
         }
        },
        "title": {
         "text": "2D Cluster PCA Plot"
        },
        "xaxis": {
         "anchor": "y",
         "domain": [
          0,
          1
         ],
         "title": {
          "text": "PCA1"
         }
        },
        "yaxis": {
         "anchor": "x",
         "domain": [
          0,
          1
         ],
         "title": {
          "text": "PCA2"
         }
        }
       }
      }
     },
     "metadata": {},
     "output_type": "display_data"
    }
   ],
   "source": [
    "plot_model(model_kmeans, plot = 'cluster')"
   ]
  },
  {
   "cell_type": "code",
   "execution_count": 45,
   "metadata": {},
   "outputs": [
    {
     "data": {
      "image/png": "[encoded data removed]",
      "text/plain": [
       "<Figure size 800x550 with 1 Axes>"
      ]
     },
     "metadata": {},
     "output_type": "display_data"
    }
   ],
   "source": [
    "plot_model(model_kmeans, plot = 'silhouette')"
   ]
  },
  {
   "cell_type": "code",
   "execution_count": 46,
   "metadata": {},
   "outputs": [
    {
     "data": {
      "application/vnd.plotly.v1+json": {
       "config": {
        "plotlyServerURL": "https://plot.ly"
       },
       "data": [
        {
         "alignmentgroup": "True",
         "bingroup": "x",
         "hovertemplate": "Cluster=%{x}<br>count=%{y}<extra></extra>",
         "legendgroup": "Cluster 0",
         "marker": {
          "color": "#636efa",
          "opacity": 0.7,
          "pattern": {
           "shape": ""
          }
         },
         "name": "Cluster 0",
         "offsetgroup": "Cluster 0",
         "orientation": "v",
         "showlegend": true,
         "type": "histogram",
         "x": [
          "Cluster 0",
          "Cluster 0",
          "Cluster 0",
          "Cluster 0",
          "Cluster 0",
          "Cluster 0",
          "Cluster 0",
          "Cluster 0",
          "Cluster 0",
          "Cluster 0",
          "Cluster 0",
          "Cluster 0",
          "Cluster 0",
          "Cluster 0",
          "Cluster 0",
          "Cluster 0",
          "Cluster 0",
          "Cluster 0",
          "Cluster 0",
          "Cluster 0",
          "Cluster 0",
          "Cluster 0",
          "Cluster 0",
          "Cluster 0",
          "Cluster 0",
          "Cluster 0",
          "Cluster 0",
          "Cluster 0",
          "Cluster 0",
          "Cluster 0",
          "Cluster 0",
          "Cluster 0",
          "Cluster 0"
         ],
         "xaxis": "x",
         "yaxis": "y"
        },
        {
         "alignmentgroup": "True",
         "customdata": [
          [
           90,
           "Mayorista",
           "1007934252-1",
           14,
           1.0193052716471138,
           5,
           "90-Mayorista"
          ],
          [
           90,
           "Mayorista",
           "900209523-1",
           19,
           1.0054455614440438,
           1,
           "90-Mayorista"
          ],
          [
           90,
           "Mayorista",
           "900204033-1",
           17,
           1.0072512944923293,
           1,
           "90-Mayorista"
          ],
          [
           90,
           "Mayorista",
           "900181419-1",
           18,
           1.0030253119133576,
           1,
           "90-Mayorista"
          ],
          [
           90,
           "Mayorista",
           "890706823-1",
           13,
           1.2843698657558944,
           5,
           "90-Mayorista"
          ],
          [
           90,
           "Mayorista",
           "890705657-1",
           18,
           1.0063626091177804,
           3,
           "90-Mayorista"
          ],
          [
           90,
           "Mayorista",
           "28993442-1",
           17,
           1.0165730368253627,
           2,
           "90-Mayorista"
          ],
          [
           90,
           "Mayorista",
           "890702122-1",
           21,
           1.0702155986890862,
           2,
           "90-Mayorista"
          ],
          [
           90,
           "Mayorista",
           "14321111-1",
           14,
           1.013122290424189,
           2,
           "90-Mayorista"
          ],
          [
           90,
           "Mayorista",
           "38142430-1",
           17,
           1.0009926804715705,
           4,
           "90-Mayorista"
          ],
          [
           90,
           "Mayorista",
           "39550821-1",
           12,
           1.0031482152098379,
           1,
           "90-Mayorista"
          ],
          [
           90,
           "Mayorista",
           "890600394-1",
           20,
           1.0025053364282492,
           2,
           "90-Mayorista"
          ],
          [
           90,
           "Mayorista",
           "860533413-3",
           12,
           1.012375416545579,
           3,
           "90-Mayorista"
          ],
          [
           90,
           "Mayorista",
           "5887776-1",
           19,
           1.0704992216809637,
           4,
           "90-Mayorista"
          ],
          [
           90,
           "Mayorista",
           "65630950-1",
           19,
           1.0057953631340257,
           1,
           "90-Mayorista"
          ],
          [
           90,
           "Mayorista",
           "65811790-1",
           19,
           1.1007050703158943,
           3,
           "90-Mayorista"
          ],
          [
           90,
           "Mayorista",
           "65698821-1",
           16,
           1.128216500527991,
           5,
           "90-Mayorista"
          ],
          [
           90,
           "Mayorista",
           "890701576-1",
           13,
           1.0483293578158892,
           1,
           "90-Mayorista"
          ],
          [
           90,
           "Mayorista",
           "900595056-1",
           17,
           1.0046986875654336,
           3,
           "90-Mayorista"
          ],
          [
           90,
           "Mayorista",
           "65699300-1",
           17,
           1.0396694024639028,
           1,
           "90-Mayorista"
          ],
          [
           90,
           "Mayorista",
           "93291054-1",
           13,
           1.0126495854377269,
           2,
           "90-Mayorista"
          ],
          [
           90,
           "Mayorista",
           "1105791853-1",
           15,
           1.006390971416968,
           2,
           "90-Mayorista"
          ],
          [
           90,
           "Mayorista",
           "93300278-1",
           17,
           1.0178493402888105,
           5,
           "90-Mayorista"
          ],
          [
           90,
           "Mayorista",
           "1110450289-1",
           19,
           1.010087524411102,
           2,
           "90-Mayorista"
          ],
          [
           90,
           "Mayorista",
           "93133703-1",
           18,
           1,
           1,
           "90-Mayorista"
          ],
          [
           90,
           "Mayorista",
           "93119645-1",
           14,
           1.0017017379512636,
           1,
           "90-Mayorista"
          ],
          [
           90,
           "Mayorista",
           "93089248-1",
           17,
           1.0011723083664261,
           1,
           "90-Mayorista"
          ],
          [
           90,
           "Mayorista",
           "1070594547-1",
           13,
           1.3439874186484995,
           4,
           "90-Mayorista"
          ],
          [
           90,
           "Mayorista",
           "1105670924-1",
           13,
           1.0287026467779812,
           11,
           "90-Mayorista"
          ],
          [
           90,
           "Mayorista",
           "901528475-1",
           17,
           1.0313687029016276,
           2,
           "90-Mayorista"
          ],
          [
           90,
           "Mayorista",
           "1055916959-1",
           17,
           1.046372359171936,
           8,
           "90-Mayorista"
          ],
          [
           90,
           "Mayorista",
           "10091164-1",
           17,
           1.0963183680415256,
           1,
           "90-Mayorista"
          ],
          [
           90,
           "Mayorista",
           "11205384-1",
           17,
           1.0267078317351108,
           1,
           "90-Mayorista"
          ]
         ],
         "hovertemplate": "Cluster=%{x}<br>Codigo distrito=%{customdata[0]}<br>Nombre tipo zona=%{customdata[1]}<br>Nit cliente-sucursal=%{customdata[2]}<br>Recency=%{customdata[3]}<br>Monetary=%{customdata[4]}<br>Frequency=%{customdata[5]}<br>Distrito-Nombretipozona=%{customdata[6]}<extra></extra>",
         "legendgroup": "Cluster 0",
         "marker": {
          "color": "#636efa"
         },
         "name": "Cluster 0",
         "notched": true,
         "offsetgroup": "Cluster 0",
         "showlegend": false,
         "type": "box",
         "x": [
          "Cluster 0",
          "Cluster 0",
          "Cluster 0",
          "Cluster 0",
          "Cluster 0",
          "Cluster 0",
          "Cluster 0",
          "Cluster 0",
          "Cluster 0",
          "Cluster 0",
          "Cluster 0",
          "Cluster 0",
          "Cluster 0",
          "Cluster 0",
          "Cluster 0",
          "Cluster 0",
          "Cluster 0",
          "Cluster 0",
          "Cluster 0",
          "Cluster 0",
          "Cluster 0",
          "Cluster 0",
          "Cluster 0",
          "Cluster 0",
          "Cluster 0",
          "Cluster 0",
          "Cluster 0",
          "Cluster 0",
          "Cluster 0",
          "Cluster 0",
          "Cluster 0",
          "Cluster 0",
          "Cluster 0"
         ],
         "xaxis": "x2",
         "yaxis": "y2"
        },
        {
         "alignmentgroup": "True",
         "bingroup": "x",
         "hovertemplate": "Cluster=%{x}<br>count=%{y}<extra></extra>",
         "legendgroup": "Cluster 1",
         "marker": {
          "color": "#EF553B",
          "opacity": 0.7,
          "pattern": {
           "shape": ""
          }
         },
         "name": "Cluster 1",
         "offsetgroup": "Cluster 1",
         "orientation": "v",
         "showlegend": true,
         "type": "histogram",
         "x": [
          "Cluster 1",
          "Cluster 1",
          "Cluster 1",
          "Cluster 1",
          "Cluster 1",
          "Cluster 1",
          "Cluster 1",
          "Cluster 1",
          "Cluster 1",
          "Cluster 1",
          "Cluster 1",
          "Cluster 1",
          "Cluster 1",
          "Cluster 1",
          "Cluster 1",
          "Cluster 1",
          "Cluster 1",
          "Cluster 1",
          "Cluster 1",
          "Cluster 1",
          "Cluster 1",
          "Cluster 1",
          "Cluster 1",
          "Cluster 1",
          "Cluster 1",
          "Cluster 1",
          "Cluster 1",
          "Cluster 1",
          "Cluster 1",
          "Cluster 1",
          "Cluster 1",
          "Cluster 1",
          "Cluster 1",
          "Cluster 1",
          "Cluster 1",
          "Cluster 1",
          "Cluster 1"
         ],
         "xaxis": "x",
         "yaxis": "y"
        },
        {
         "alignmentgroup": "True",
         "customdata": [
          [
           90,
           "Mayorista",
           "809010543-1",
           24,
           1.812305702836271,
           24,
           "90-Mayorista"
          ],
          [
           90,
           "Mayorista",
           "93370623-1",
           24,
           1.1844967562161735,
           23,
           "90-Mayorista"
          ],
          [
           90,
           "Mayorista",
           "890600003-1",
           24,
           1.5371441302166593,
           20,
           "90-Mayorista"
          ],
          [
           90,
           "Mayorista",
           "93414007-1",
           24,
           1.1700036213312441,
           15,
           "90-Mayorista"
          ],
          [
           90,
           "Mayorista",
           "809005090-1",
           24,
           1.2441143091087785,
           24,
           "90-Mayorista"
          ],
          [
           90,
           "Mayorista",
           "800125697-1",
           24,
           1.2149200491448766,
           15,
           "90-Mayorista"
          ],
          [
           90,
           "Mayorista",
           "93386132-1",
           22,
           7.824214991160417,
           19,
           "90-Mayorista"
          ],
          [
           90,
           "Mayorista",
           "890701017-1",
           23,
           1.307986206879543,
           22,
           "90-Mayorista"
          ],
          [
           90,
           "Mayorista",
           "900888422-1",
           23,
           1.0389414367847511,
           19,
           "90-Mayorista"
          ],
          [
           90,
           "Mayorista",
           "901109937-1",
           24,
           2.452906046390034,
           17,
           "90-Mayorista"
          ],
          [
           90,
           "Mayorista",
           "900098215-1",
           24,
           2.006757626067337,
           22,
           "90-Mayorista"
          ],
          [
           90,
           "Mayorista",
           "900117068-1",
           24,
           1.0384781858980183,
           14,
           "90-Mayorista"
          ],
          [
           90,
           "Mayorista",
           "901416140-1",
           24,
           1.7027988656724515,
           19,
           "90-Mayorista"
          ],
          [
           90,
           "Mayorista",
           "65701880-1",
           24,
           1.361846213037039,
           24,
           "90-Mayorista"
          ],
          [
           90,
           "Mayorista",
           "901391713-1",
           24,
           5.107343081469266,
           17,
           "90-Mayorista"
          ],
          [
           90,
           "Mayorista",
           "900363900-1",
           24,
           6.973090754835876,
           23,
           "90-Mayorista"
          ],
          [
           90,
           "Mayorista",
           "900396551-1",
           24,
           3.414907964339136,
           24,
           "90-Mayorista"
          ],
          [
           90,
           "Mayorista",
           "901164974-1",
           24,
           2.0025032811891776,
           18,
           "90-Mayorista"
          ],
          [
           90,
           "Mayorista",
           "900630253-1",
           24,
           1.5729846222902188,
           23,
           "90-Mayorista"
          ],
          [
           90,
           "Mayorista",
           "900660030-1",
           18,
           1.1812067295103967,
           15,
           "90-Mayorista"
          ],
          [
           90,
           "Mayorista",
           "890701033-1",
           24,
           4.240052334607719,
           20,
           "90-Mayorista"
          ],
          [
           90,
           "Mayorista",
           "900241288-1",
           24,
           8.455503046480874,
           24,
           "90-Mayorista"
          ],
          [
           90,
           "Mayorista",
           "809007555-1",
           23,
           2.847066372301625,
           19,
           "90-Mayorista"
          ],
          [
           90,
           "Mayorista",
           "19280328-1",
           24,
           5.170052124973334,
           24,
           "90-Mayorista"
          ],
          [
           90,
           "Mayorista",
           "28814745-1",
           24,
           1.2148349622473136,
           24,
           "90-Mayorista"
          ],
          [
           90,
           "Mayorista",
           "39562450-1",
           24,
           1.2028093473917167,
           24,
           "90-Mayorista"
          ],
          [
           90,
           "Mayorista",
           "39579537-1",
           24,
           1.5847927928520429,
           24,
           "90-Mayorista"
          ],
          [
           90,
           "Mayorista",
           "28741139-1",
           24,
           1.9855898967735623,
           23,
           "90-Mayorista"
          ],
          [
           90,
           "Mayorista",
           "28717147-1",
           24,
           1.0412955076173325,
           17,
           "90-Mayorista"
          ],
          [
           90,
           "Mayorista",
           "52845233-1",
           24,
           1.4660965707513995,
           24,
           "90-Mayorista"
          ],
          [
           90,
           "Mayorista",
           "5881952-1",
           24,
           1.5563737690659392,
           24,
           "90-Mayorista"
          ],
          [
           90,
           "Mayorista",
           "11321481-1",
           24,
           1.1189987532919792,
           19,
           "90-Mayorista"
          ],
          [
           90,
           "Mayorista",
           "11321207-1",
           23,
           1.496217332488767,
           23,
           "90-Mayorista"
          ],
          [
           90,
           "Mayorista",
           "11317731-1",
           24,
           2.045396531660752,
           15,
           "90-Mayorista"
          ],
          [
           90,
           "Mayorista",
           "30343334-1",
           24,
           1.3717541095532855,
           24,
           "90-Mayorista"
          ],
          [
           90,
           "Mayorista",
           "11310882-1",
           23,
           1.2210273975699675,
           20,
           "90-Mayorista"
          ],
          [
           90,
           "Mayorista",
           "5913095-1",
           24,
           1.3949828325880351,
           17,
           "90-Mayorista"
          ]
         ],
         "hovertemplate": "Cluster=%{x}<br>Codigo distrito=%{customdata[0]}<br>Nombre tipo zona=%{customdata[1]}<br>Nit cliente-sucursal=%{customdata[2]}<br>Recency=%{customdata[3]}<br>Monetary=%{customdata[4]}<br>Frequency=%{customdata[5]}<br>Distrito-Nombretipozona=%{customdata[6]}<extra></extra>",
         "legendgroup": "Cluster 1",
         "marker": {
          "color": "#EF553B"
         },
         "name": "Cluster 1",
         "notched": true,
         "offsetgroup": "Cluster 1",
         "showlegend": false,
         "type": "box",
         "x": [
          "Cluster 1",
          "Cluster 1",
          "Cluster 1",
          "Cluster 1",
          "Cluster 1",
          "Cluster 1",
          "Cluster 1",
          "Cluster 1",
          "Cluster 1",
          "Cluster 1",
          "Cluster 1",
          "Cluster 1",
          "Cluster 1",
          "Cluster 1",
          "Cluster 1",
          "Cluster 1",
          "Cluster 1",
          "Cluster 1",
          "Cluster 1",
          "Cluster 1",
          "Cluster 1",
          "Cluster 1",
          "Cluster 1",
          "Cluster 1",
          "Cluster 1",
          "Cluster 1",
          "Cluster 1",
          "Cluster 1",
          "Cluster 1",
          "Cluster 1",
          "Cluster 1",
          "Cluster 1",
          "Cluster 1",
          "Cluster 1",
          "Cluster 1",
          "Cluster 1",
          "Cluster 1"
         ],
         "xaxis": "x2",
         "yaxis": "y2"
        },
        {
         "alignmentgroup": "True",
         "bingroup": "x",
         "hovertemplate": "Cluster=%{x}<br>count=%{y}<extra></extra>",
         "legendgroup": "Cluster 2",
         "marker": {
          "color": "#00cc96",
          "opacity": 0.7,
          "pattern": {
           "shape": ""
          }
         },
         "name": "Cluster 2",
         "offsetgroup": "Cluster 2",
         "orientation": "v",
         "showlegend": true,
         "type": "histogram",
         "x": [
          "Cluster 2",
          "Cluster 2",
          "Cluster 2",
          "Cluster 2",
          "Cluster 2",
          "Cluster 2",
          "Cluster 2",
          "Cluster 2",
          "Cluster 2",
          "Cluster 2",
          "Cluster 2",
          "Cluster 2",
          "Cluster 2",
          "Cluster 2",
          "Cluster 2",
          "Cluster 2",
          "Cluster 2",
          "Cluster 2",
          "Cluster 2",
          "Cluster 2",
          "Cluster 2",
          "Cluster 2",
          "Cluster 2",
          "Cluster 2",
          "Cluster 2",
          "Cluster 2",
          "Cluster 2",
          "Cluster 2",
          "Cluster 2",
          "Cluster 2",
          "Cluster 2",
          "Cluster 2"
         ],
         "xaxis": "x",
         "yaxis": "y"
        },
        {
         "alignmentgroup": "True",
         "customdata": [
          [
           90,
           "Mayorista",
           "901100223-1",
           11,
           1.079357713127264,
           1,
           "90-Mayorista"
          ],
          [
           90,
           "Mayorista",
           "100934252-1",
           10,
           1.000973772272112,
           1,
           "90-Mayorista"
          ],
          [
           90,
           "Mayorista",
           "93235836-1",
           11,
           1.0032616644065888,
           1,
           "90-Mayorista"
          ],
          [
           90,
           "Mayorista",
           "1110453231-1",
           3,
           1.0032805726060472,
           1,
           "90-Mayorista"
          ],
          [
           90,
           "Mayorista",
           "1110547572-1",
           3,
           1.0112598327775282,
           1,
           "90-Mayorista"
          ],
          [
           90,
           "Mayorista",
           "901481056-1",
           6,
           1.0046892334657045,
           1,
           "90-Mayorista"
          ],
          [
           90,
           "Mayorista",
           "19468645-1",
           7,
           1.0011912165658845,
           1,
           "90-Mayorista"
          ],
          [
           90,
           "Mayorista",
           "17645064-1",
           2,
           1.0004159803880868,
           1,
           "90-Mayorista"
          ],
          [
           90,
           "Mayorista",
           "901416478-1",
           7,
           1.008253429063629,
           2,
           "90-Mayorista"
          ],
          [
           90,
           "Mayorista",
           "11302341-1",
           6,
           1.014634946380868,
           2,
           "90-Mayorista"
          ],
          [
           90,
           "Mayorista",
           "14273590-1",
           1,
           1.007204023993683,
           1,
           "90-Mayorista"
          ],
          [
           90,
           "Mayorista",
           "900438870-1",
           9,
           1.0271616285221146,
           1,
           "90-Mayorista"
          ],
          [
           90,
           "Mayorista",
           "900512347-1",
           2,
           1.0206572079083955,
           2,
           "90-Mayorista"
          ],
          [
           90,
           "Mayorista",
           "28963359-1",
           4,
           1.0127441264350192,
           1,
           "90-Mayorista"
          ],
          [
           90,
           "Mayorista",
           "901260567-1",
           9,
           1.1587154262545283,
           1,
           "90-Mayorista"
          ],
          [
           90,
           "Mayorista",
           "900311356-1",
           10,
           1.0025904233258125,
           1,
           "90-Mayorista"
          ],
          [
           90,
           "Mayorista",
           "14212809-1",
           5,
           1.0016261051534299,
           1,
           "90-Mayorista"
          ],
          [
           90,
           "Mayorista",
           "65691822-1",
           6,
           1.0035169250992784,
           1,
           "90-Mayorista"
          ],
          [
           90,
           "Mayorista",
           "93437671-1",
           3,
           1.0056535516380871,
           1,
           "90-Mayorista"
          ],
          [
           90,
           "Mayorista",
           "5892465-1",
           3,
           1.0033467513041519,
           1,
           "90-Mayorista"
          ],
          [
           90,
           "Mayorista",
           "800194669-1",
           11,
           1.002845684018502,
           1,
           "90-Mayorista"
          ],
          [
           90,
           "Mayorista",
           "5968426-1",
           7,
           1.0076389125812282,
           1,
           "90-Mayorista"
          ],
          [
           90,
           "Mayorista",
           "800100058-1",
           11,
           1.030640737222476,
           1,
           "90-Mayorista"
          ],
          [
           90,
           "Mayorista",
           "810006053-1",
           7,
           1.190632466940452,
           1,
           "90-Mayorista"
          ],
          [
           90,
           "Mayorista",
           "830001338-1",
           11,
           1.0303949306295157,
           1,
           "90-Mayorista"
          ],
          [
           90,
           "Mayorista",
           "80099943-1",
           8,
           1.0053699286462099,
           1,
           "90-Mayorista"
          ],
          [
           90,
           "Mayorista",
           "860533413-2",
           11,
           1.0067691354061379,
           4,
           "90-Mayorista"
          ],
          [
           90,
           "Mayorista",
           "80275610-1",
           8,
           1.0455876688944088,
           1,
           "90-Mayorista"
          ],
          [
           90,
           "Mayorista",
           "890702080-1",
           8,
           1.004594692468412,
           2,
           "90-Mayorista"
          ],
          [
           90,
           "Mayorista",
           "65828899-1",
           9,
           1.0348572657017183,
           2,
           "90-Mayorista"
          ],
          [
           90,
           "Mayorista",
           "79538236-1",
           5,
           1.0920451149639079,
           3,
           "90-Mayorista"
          ],
          [
           90,
           "Mayorista",
           "890680378-1",
           5,
           1.0265471120397138,
           1,
           "90-Mayorista"
          ]
         ],
         "hovertemplate": "Cluster=%{x}<br>Codigo distrito=%{customdata[0]}<br>Nombre tipo zona=%{customdata[1]}<br>Nit cliente-sucursal=%{customdata[2]}<br>Recency=%{customdata[3]}<br>Monetary=%{customdata[4]}<br>Frequency=%{customdata[5]}<br>Distrito-Nombretipozona=%{customdata[6]}<extra></extra>",
         "legendgroup": "Cluster 2",
         "marker": {
          "color": "#00cc96"
         },
         "name": "Cluster 2",
         "notched": true,
         "offsetgroup": "Cluster 2",
         "showlegend": false,
         "type": "box",
         "x": [
          "Cluster 2",
          "Cluster 2",
          "Cluster 2",
          "Cluster 2",
          "Cluster 2",
          "Cluster 2",
          "Cluster 2",
          "Cluster 2",
          "Cluster 2",
          "Cluster 2",
          "Cluster 2",
          "Cluster 2",
          "Cluster 2",
          "Cluster 2",
          "Cluster 2",
          "Cluster 2",
          "Cluster 2",
          "Cluster 2",
          "Cluster 2",
          "Cluster 2",
          "Cluster 2",
          "Cluster 2",
          "Cluster 2",
          "Cluster 2",
          "Cluster 2",
          "Cluster 2",
          "Cluster 2",
          "Cluster 2",
          "Cluster 2",
          "Cluster 2",
          "Cluster 2",
          "Cluster 2"
         ],
         "xaxis": "x2",
         "yaxis": "y2"
        },
        {
         "alignmentgroup": "True",
         "bingroup": "x",
         "hovertemplate": "Cluster=%{x}<br>count=%{y}<extra></extra>",
         "legendgroup": "Cluster 3",
         "marker": {
          "color": "#ab63fa",
          "opacity": 0.7,
          "pattern": {
           "shape": ""
          }
         },
         "name": "Cluster 3",
         "offsetgroup": "Cluster 3",
         "orientation": "v",
         "showlegend": true,
         "type": "histogram",
         "x": [
          "Cluster 3"
         ],
         "xaxis": "x",
         "yaxis": "y"
        },
        {
         "alignmentgroup": "True",
         "customdata": [
          [
           90,
           "Mayorista",
           "809011022-1",
           24,
           24,
           24,
           "90-Mayorista"
          ]
         ],
         "hovertemplate": "Cluster=%{x}<br>Codigo distrito=%{customdata[0]}<br>Nombre tipo zona=%{customdata[1]}<br>Nit cliente-sucursal=%{customdata[2]}<br>Recency=%{customdata[3]}<br>Monetary=%{customdata[4]}<br>Frequency=%{customdata[5]}<br>Distrito-Nombretipozona=%{customdata[6]}<extra></extra>",
         "legendgroup": "Cluster 3",
         "marker": {
          "color": "#ab63fa"
         },
         "name": "Cluster 3",
         "notched": true,
         "offsetgroup": "Cluster 3",
         "showlegend": false,
         "type": "box",
         "x": [
          "Cluster 3"
         ],
         "xaxis": "x2",
         "yaxis": "y2"
        },
        {
         "alignmentgroup": "True",
         "bingroup": "x",
         "hovertemplate": "Cluster=%{x}<br>count=%{y}<extra></extra>",
         "legendgroup": "Cluster 4",
         "marker": {
          "color": "#FFA15A",
          "opacity": 0.7,
          "pattern": {
           "shape": ""
          }
         },
         "name": "Cluster 4",
         "offsetgroup": "Cluster 4",
         "orientation": "v",
         "showlegend": true,
         "type": "histogram",
         "x": [
          "Cluster 4",
          "Cluster 4",
          "Cluster 4",
          "Cluster 4",
          "Cluster 4",
          "Cluster 4",
          "Cluster 4",
          "Cluster 4",
          "Cluster 4",
          "Cluster 4",
          "Cluster 4",
          "Cluster 4",
          "Cluster 4",
          "Cluster 4",
          "Cluster 4",
          "Cluster 4",
          "Cluster 4",
          "Cluster 4",
          "Cluster 4",
          "Cluster 4",
          "Cluster 4",
          "Cluster 4",
          "Cluster 4",
          "Cluster 4",
          "Cluster 4",
          "Cluster 4",
          "Cluster 4",
          "Cluster 4",
          "Cluster 4",
          "Cluster 4",
          "Cluster 4",
          "Cluster 4",
          "Cluster 4"
         ],
         "xaxis": "x",
         "yaxis": "y"
        },
        {
         "alignmentgroup": "True",
         "customdata": [
          [
           90,
           "Mayorista",
           "11206404-1",
           22,
           1.0874693306949543,
           13,
           "90-Mayorista"
          ],
          [
           90,
           "Mayorista",
           "1070586102-1",
           24,
           1.0072418403926,
           1,
           "90-Mayorista"
          ],
          [
           90,
           "Mayorista",
           "1070626697-1",
           22,
           1.5970547602008707,
           6,
           "90-Mayorista"
          ],
          [
           90,
           "Mayorista",
           "93134880-1",
           24,
           1.2051066936259227,
           11,
           "90-Mayorista"
          ],
          [
           90,
           "Mayorista",
           "93293302-1",
           24,
           1.0566678737770814,
           8,
           "90-Mayorista"
          ],
          [
           90,
           "Mayorista",
           "1110526435-1",
           23,
           1.2990520826354084,
           6,
           "90-Mayorista"
          ],
          [
           90,
           "Mayorista",
           "1106738738-1",
           24,
           1.012422687044225,
           10,
           "90-Mayorista"
          ],
          [
           90,
           "Mayorista",
           "1110472250-1",
           21,
           1.0155803563537922,
           5,
           "90-Mayorista"
          ],
          [
           90,
           "Mayorista",
           "93121251-1",
           23,
           1.0472232281475677,
           6,
           "90-Mayorista"
          ],
          [
           90,
           "Mayorista",
           "79574696-1",
           23,
           1.043375409557766,
           6,
           "90-Mayorista"
          ],
          [
           90,
           "Mayorista",
           "901602379-1",
           24,
           1.110735870128621,
           6,
           "90-Mayorista"
          ],
          [
           90,
           "Mayorista",
           "901623625-1",
           24,
           1.4850236784093436,
           3,
           "90-Mayorista"
          ],
          [
           90,
           "Mayorista",
           "890706067-1",
           21,
           1.5674067034499655,
           11,
           "90-Mayorista"
          ],
          [
           90,
           "Mayorista",
           "809000383-1",
           21,
           1.0575281968524424,
           8,
           "90-Mayorista"
          ],
          [
           90,
           "Mayorista",
           "38231148-1",
           24,
           1.2857407102166345,
           11,
           "90-Mayorista"
          ],
          [
           90,
           "Mayorista",
           "890700901-1",
           22,
           1.4839648192396684,
           12,
           "90-Mayorista"
          ],
          [
           90,
           "Mayorista",
           "900139457-1",
           22,
           1.0156938055505431,
           3,
           "90-Mayorista"
          ],
          [
           90,
           "Mayorista",
           "890700642-1",
           22,
           1.0844345646818674,
           9,
           "90-Mayorista"
          ],
          [
           90,
           "Mayorista",
           "890680391-1",
           24,
           1.003810002190885,
           1,
           "90-Mayorista"
          ],
          [
           90,
           "Mayorista",
           "65698998-1",
           24,
           1.0073458354896216,
           3,
           "90-Mayorista"
          ],
          [
           90,
           "Mayorista",
           "52982012-1",
           18,
           1.1075687467193247,
           11,
           "90-Mayorista"
          ],
          [
           90,
           "Mayorista",
           "900319135-1",
           24,
           1.0027322348217511,
           1,
           "90-Mayorista"
          ],
          [
           90,
           "Mayorista",
           "14316727-1",
           24,
           1.0477810200315931,
           9,
           "90-Mayorista"
          ],
          [
           90,
           "Mayorista",
           "900383879-1",
           22,
           1.0169890172134493,
           7,
           "90-Mayorista"
          ],
          [
           90,
           "Mayorista",
           "900491649-1",
           22,
           2.2037148857266526,
           7,
           "90-Mayorista"
          ],
          [
           90,
           "Mayorista",
           "14236800-1",
           24,
           1.2252439260492098,
           11,
           "90-Mayorista"
          ],
          [
           90,
           "Mayorista",
           "900596674-1",
           24,
           1.0569987672676049,
           12,
           "90-Mayorista"
          ],
          [
           90,
           "Mayorista",
           "809012458-1",
           19,
           1.0482726332175138,
           7,
           "90-Mayorista"
          ],
          [
           90,
           "Mayorista",
           "900637721-1",
           24,
           1.0115529098691347,
           6,
           "90-Mayorista"
          ],
          [
           90,
           "Mayorista",
           "5884674-1",
           24,
           1.0259231414575838,
           7,
           "90-Mayorista"
          ],
          [
           90,
           "Mayorista",
           "28963395-1",
           22,
           1.004982310557311,
           2,
           "90-Mayorista"
          ],
          [
           90,
           "Mayorista",
           "901280300-1",
           24,
           1.0389792531836681,
           7,
           "90-Mayorista"
          ],
          [
           90,
           "Mayorista",
           "809008799-1",
           22,
           1.0104656884002718,
           5,
           "90-Mayorista"
          ]
         ],
         "hovertemplate": "Cluster=%{x}<br>Codigo distrito=%{customdata[0]}<br>Nombre tipo zona=%{customdata[1]}<br>Nit cliente-sucursal=%{customdata[2]}<br>Recency=%{customdata[3]}<br>Monetary=%{customdata[4]}<br>Frequency=%{customdata[5]}<br>Distrito-Nombretipozona=%{customdata[6]}<extra></extra>",
         "legendgroup": "Cluster 4",
         "marker": {
          "color": "#FFA15A"
         },
         "name": "Cluster 4",
         "notched": true,
         "offsetgroup": "Cluster 4",
         "showlegend": false,
         "type": "box",
         "x": [
          "Cluster 4",
          "Cluster 4",
          "Cluster 4",
          "Cluster 4",
          "Cluster 4",
          "Cluster 4",
          "Cluster 4",
          "Cluster 4",
          "Cluster 4",
          "Cluster 4",
          "Cluster 4",
          "Cluster 4",
          "Cluster 4",
          "Cluster 4",
          "Cluster 4",
          "Cluster 4",
          "Cluster 4",
          "Cluster 4",
          "Cluster 4",
          "Cluster 4",
          "Cluster 4",
          "Cluster 4",
          "Cluster 4",
          "Cluster 4",
          "Cluster 4",
          "Cluster 4",
          "Cluster 4",
          "Cluster 4",
          "Cluster 4",
          "Cluster 4",
          "Cluster 4",
          "Cluster 4",
          "Cluster 4"
         ],
         "xaxis": "x2",
         "yaxis": "y2"
        }
       ],
       "layout": {
        "barmode": "relative",
        "height": 600,
        "legend": {
         "title": {
          "text": "Cluster"
         },
         "tracegroupgap": 0
        },
        "margin": {
         "t": 60
        },
        "template": {
         "data": {
          "bar": [
           {
            "error_x": {
             "color": "#2a3f5f"
            },
            "error_y": {
             "color": "#2a3f5f"
            },
            "marker": {
             "line": {
              "color": "#E5ECF6",
              "width": 0.5
             },
             "pattern": {
              "fillmode": "overlay",
              "size": 10,
              "solidity": 0.2
             }
            },
            "type": "bar"
           }
          ],
          "barpolar": [
           {
            "marker": {
             "line": {
              "color": "#E5ECF6",
              "width": 0.5
             },
             "pattern": {
              "fillmode": "overlay",
              "size": 10,
              "solidity": 0.2
             }
            },
            "type": "barpolar"
           }
          ],
          "carpet": [
           {
            "aaxis": {
             "endlinecolor": "#2a3f5f",
             "gridcolor": "white",
             "linecolor": "white",
             "minorgridcolor": "white",
             "startlinecolor": "#2a3f5f"
            },
            "baxis": {
             "endlinecolor": "#2a3f5f",
             "gridcolor": "white",
             "linecolor": "white",
             "minorgridcolor": "white",
             "startlinecolor": "#2a3f5f"
            },
            "type": "carpet"
           }
          ],
          "choropleth": [
           {
            "colorbar": {
             "outlinewidth": 0,
             "ticks": ""
            },
            "type": "choropleth"
           }
          ],
          "contour": [
           {
            "colorbar": {
             "outlinewidth": 0,
             "ticks": ""
            },
            "colorscale": [
             [
              0,
              "#0d0887"
             ],
             [
              0.1111111111111111,
              "#46039f"
             ],
             [
              0.2222222222222222,
              "#7201a8"
             ],
             [
              0.3333333333333333,
              "#9c179e"
             ],
             [
              0.4444444444444444,
              "#bd3786"
             ],
             [
              0.5555555555555556,
              "#d8576b"
             ],
             [
              0.6666666666666666,
              "#ed7953"
             ],
             [
              0.7777777777777778,
              "#fb9f3a"
             ],
             [
              0.8888888888888888,
              "#fdca26"
             ],
             [
              1,
              "#f0f921"
             ]
            ],
            "type": "contour"
           }
          ],
          "contourcarpet": [
           {
            "colorbar": {
             "outlinewidth": 0,
             "ticks": ""
            },
            "type": "contourcarpet"
           }
          ],
          "heatmap": [
           {
            "colorbar": {
             "outlinewidth": 0,
             "ticks": ""
            },
            "colorscale": [
             [
              0,
              "#0d0887"
             ],
             [
              0.1111111111111111,
              "#46039f"
             ],
             [
              0.2222222222222222,
              "#7201a8"
             ],
             [
              0.3333333333333333,
              "#9c179e"
             ],
             [
              0.4444444444444444,
              "#bd3786"
             ],
             [
              0.5555555555555556,
              "#d8576b"
             ],
             [
              0.6666666666666666,
              "#ed7953"
             ],
             [
              0.7777777777777778,
              "#fb9f3a"
             ],
             [
              0.8888888888888888,
              "#fdca26"
             ],
             [
              1,
              "#f0f921"
             ]
            ],
            "type": "heatmap"
           }
          ],
          "heatmapgl": [
           {
            "colorbar": {
             "outlinewidth": 0,
             "ticks": ""
            },
            "colorscale": [
             [
              0,
              "#0d0887"
             ],
             [
              0.1111111111111111,
              "#46039f"
             ],
             [
              0.2222222222222222,
              "#7201a8"
             ],
             [
              0.3333333333333333,
              "#9c179e"
             ],
             [
              0.4444444444444444,
              "#bd3786"
             ],
             [
              0.5555555555555556,
              "#d8576b"
             ],
             [
              0.6666666666666666,
              "#ed7953"
             ],
             [
              0.7777777777777778,
              "#fb9f3a"
             ],
             [
              0.8888888888888888,
              "#fdca26"
             ],
             [
              1,
              "#f0f921"
             ]
            ],
            "type": "heatmapgl"
           }
          ],
          "histogram": [
           {
            "marker": {
             "pattern": {
              "fillmode": "overlay",
              "size": 10,
              "solidity": 0.2
             }
            },
            "type": "histogram"
           }
          ],
          "histogram2d": [
           {
            "colorbar": {
             "outlinewidth": 0,
             "ticks": ""
            },
            "colorscale": [
             [
              0,
              "#0d0887"
             ],
             [
              0.1111111111111111,
              "#46039f"
             ],
             [
              0.2222222222222222,
              "#7201a8"
             ],
             [
              0.3333333333333333,
              "#9c179e"
             ],
             [
              0.4444444444444444,
              "#bd3786"
             ],
             [
              0.5555555555555556,
              "#d8576b"
             ],
             [
              0.6666666666666666,
              "#ed7953"
             ],
             [
              0.7777777777777778,
              "#fb9f3a"
             ],
             [
              0.8888888888888888,
              "#fdca26"
             ],
             [
              1,
              "#f0f921"
             ]
            ],
            "type": "histogram2d"
           }
          ],
          "histogram2dcontour": [
           {
            "colorbar": {
             "outlinewidth": 0,
             "ticks": ""
            },
            "colorscale": [
             [
              0,
              "#0d0887"
             ],
             [
              0.1111111111111111,
              "#46039f"
             ],
             [
              0.2222222222222222,
              "#7201a8"
             ],
             [
              0.3333333333333333,
              "#9c179e"
             ],
             [
              0.4444444444444444,
              "#bd3786"
             ],
             [
              0.5555555555555556,
              "#d8576b"
             ],
             [
              0.6666666666666666,
              "#ed7953"
             ],
             [
              0.7777777777777778,
              "#fb9f3a"
             ],
             [
              0.8888888888888888,
              "#fdca26"
             ],
             [
              1,
              "#f0f921"
             ]
            ],
            "type": "histogram2dcontour"
           }
          ],
          "mesh3d": [
           {
            "colorbar": {
             "outlinewidth": 0,
             "ticks": ""
            },
            "type": "mesh3d"
           }
          ],
          "parcoords": [
           {
            "line": {
             "colorbar": {
              "outlinewidth": 0,
              "ticks": ""
             }
            },
            "type": "parcoords"
           }
          ],
          "pie": [
           {
            "automargin": true,
            "type": "pie"
           }
          ],
          "scatter": [
           {
            "fillpattern": {
             "fillmode": "overlay",
             "size": 10,
             "solidity": 0.2
            },
            "type": "scatter"
           }
          ],
          "scatter3d": [
           {
            "line": {
             "colorbar": {
              "outlinewidth": 0,
              "ticks": ""
             }
            },
            "marker": {
             "colorbar": {
              "outlinewidth": 0,
              "ticks": ""
             }
            },
            "type": "scatter3d"
           }
          ],
          "scattercarpet": [
           {
            "marker": {
             "colorbar": {
              "outlinewidth": 0,
              "ticks": ""
             }
            },
            "type": "scattercarpet"
           }
          ],
          "scattergeo": [
           {
            "marker": {
             "colorbar": {
              "outlinewidth": 0,
              "ticks": ""
             }
            },
            "type": "scattergeo"
           }
          ],
          "scattergl": [
           {
            "marker": {
             "colorbar": {
              "outlinewidth": 0,
              "ticks": ""
             }
            },
            "type": "scattergl"
           }
          ],
          "scattermapbox": [
           {
            "marker": {
             "colorbar": {
              "outlinewidth": 0,
              "ticks": ""
             }
            },
            "type": "scattermapbox"
           }
          ],
          "scatterpolar": [
           {
            "marker": {
             "colorbar": {
              "outlinewidth": 0,
              "ticks": ""
             }
            },
            "type": "scatterpolar"
           }
          ],
          "scatterpolargl": [
           {
            "marker": {
             "colorbar": {
              "outlinewidth": 0,
              "ticks": ""
             }
            },
            "type": "scatterpolargl"
           }
          ],
          "scatterternary": [
           {
            "marker": {
             "colorbar": {
              "outlinewidth": 0,
              "ticks": ""
             }
            },
            "type": "scatterternary"
           }
          ],
          "surface": [
           {
            "colorbar": {
             "outlinewidth": 0,
             "ticks": ""
            },
            "colorscale": [
             [
              0,
              "#0d0887"
             ],
             [
              0.1111111111111111,
              "#46039f"
             ],
             [
              0.2222222222222222,
              "#7201a8"
             ],
             [
              0.3333333333333333,
              "#9c179e"
             ],
             [
              0.4444444444444444,
              "#bd3786"
             ],
             [
              0.5555555555555556,
              "#d8576b"
             ],
             [
              0.6666666666666666,
              "#ed7953"
             ],
             [
              0.7777777777777778,
              "#fb9f3a"
             ],
             [
              0.8888888888888888,
              "#fdca26"
             ],
             [
              1,
              "#f0f921"
             ]
            ],
            "type": "surface"
           }
          ],
          "table": [
           {
            "cells": {
             "fill": {
              "color": "#EBF0F8"
             },
             "line": {
              "color": "white"
             }
            },
            "header": {
             "fill": {
              "color": "#C8D4E3"
             },
             "line": {
              "color": "white"
             }
            },
            "type": "table"
           }
          ]
         },
         "layout": {
          "annotationdefaults": {
           "arrowcolor": "#2a3f5f",
           "arrowhead": 0,
           "arrowwidth": 1
          },
          "autotypenumbers": "strict",
          "coloraxis": {
           "colorbar": {
            "outlinewidth": 0,
            "ticks": ""
           }
          },
          "colorscale": {
           "diverging": [
            [
             0,
             "#8e0152"
            ],
            [
             0.1,
             "#c51b7d"
            ],
            [
             0.2,
             "#de77ae"
            ],
            [
             0.3,
             "#f1b6da"
            ],
            [
             0.4,
             "#fde0ef"
            ],
            [
             0.5,
             "#f7f7f7"
            ],
            [
             0.6,
             "#e6f5d0"
            ],
            [
             0.7,
             "#b8e186"
            ],
            [
             0.8,
             "#7fbc41"
            ],
            [
             0.9,
             "#4d9221"
            ],
            [
             1,
             "#276419"
            ]
           ],
           "sequential": [
            [
             0,
             "#0d0887"
            ],
            [
             0.1111111111111111,
             "#46039f"
            ],
            [
             0.2222222222222222,
             "#7201a8"
            ],
            [
             0.3333333333333333,
             "#9c179e"
            ],
            [
             0.4444444444444444,
             "#bd3786"
            ],
            [
             0.5555555555555556,
             "#d8576b"
            ],
            [
             0.6666666666666666,
             "#ed7953"
            ],
            [
             0.7777777777777778,
             "#fb9f3a"
            ],
            [
             0.8888888888888888,
             "#fdca26"
            ],
            [
             1,
             "#f0f921"
            ]
           ],
           "sequentialminus": [
            [
             0,
             "#0d0887"
            ],
            [
             0.1111111111111111,
             "#46039f"
            ],
            [
             0.2222222222222222,
             "#7201a8"
            ],
            [
             0.3333333333333333,
             "#9c179e"
            ],
            [
             0.4444444444444444,
             "#bd3786"
            ],
            [
             0.5555555555555556,
             "#d8576b"
            ],
            [
             0.6666666666666666,
             "#ed7953"
            ],
            [
             0.7777777777777778,
             "#fb9f3a"
            ],
            [
             0.8888888888888888,
             "#fdca26"
            ],
            [
             1,
             "#f0f921"
            ]
           ]
          },
          "colorway": [
           "#636efa",
           "#EF553B",
           "#00cc96",
           "#ab63fa",
           "#FFA15A",
           "#19d3f3",
           "#FF6692",
           "#B6E880",
           "#FF97FF",
           "#FECB52"
          ],
          "font": {
           "color": "#2a3f5f"
          },
          "geo": {
           "bgcolor": "white",
           "lakecolor": "white",
           "landcolor": "#E5ECF6",
           "showlakes": true,
           "showland": true,
           "subunitcolor": "white"
          },
          "hoverlabel": {
           "align": "left"
          },
          "hovermode": "closest",
          "mapbox": {
           "style": "light"
          },
          "paper_bgcolor": "white",
          "plot_bgcolor": "#E5ECF6",
          "polar": {
           "angularaxis": {
            "gridcolor": "white",
            "linecolor": "white",
            "ticks": ""
           },
           "bgcolor": "#E5ECF6",
           "radialaxis": {
            "gridcolor": "white",
            "linecolor": "white",
            "ticks": ""
           }
          },
          "scene": {
           "xaxis": {
            "backgroundcolor": "#E5ECF6",
            "gridcolor": "white",
            "gridwidth": 2,
            "linecolor": "white",
            "showbackground": true,
            "ticks": "",
            "zerolinecolor": "white"
           },
           "yaxis": {
            "backgroundcolor": "#E5ECF6",
            "gridcolor": "white",
            "gridwidth": 2,
            "linecolor": "white",
            "showbackground": true,
            "ticks": "",
            "zerolinecolor": "white"
           },
           "zaxis": {
            "backgroundcolor": "#E5ECF6",
            "gridcolor": "white",
            "gridwidth": 2,
            "linecolor": "white",
            "showbackground": true,
            "ticks": "",
            "zerolinecolor": "white"
           }
          },
          "shapedefaults": {
           "line": {
            "color": "#2a3f5f"
           }
          },
          "ternary": {
           "aaxis": {
            "gridcolor": "white",
            "linecolor": "white",
            "ticks": ""
           },
           "baxis": {
            "gridcolor": "white",
            "linecolor": "white",
            "ticks": ""
           },
           "bgcolor": "#E5ECF6",
           "caxis": {
            "gridcolor": "white",
            "linecolor": "white",
            "ticks": ""
           }
          },
          "title": {
           "x": 0.05
          },
          "xaxis": {
           "automargin": true,
           "gridcolor": "white",
           "linecolor": "white",
           "ticks": "",
           "title": {
            "standoff": 15
           },
           "zerolinecolor": "white",
           "zerolinewidth": 2
          },
          "yaxis": {
           "automargin": true,
           "gridcolor": "white",
           "linecolor": "white",
           "ticks": "",
           "title": {
            "standoff": 15
           },
           "zerolinecolor": "white",
           "zerolinewidth": 2
          }
         }
        },
        "xaxis": {
         "anchor": "y",
         "categoryarray": [
          "Cluster 0",
          "Cluster 1",
          "Cluster 2",
          "Cluster 3",
          "Cluster 4"
         ],
         "categoryorder": "array",
         "domain": [
          0,
          1
         ],
         "title": {
          "text": "Cluster"
         }
        },
        "xaxis2": {
         "anchor": "y2",
         "domain": [
          0,
          1
         ],
         "matches": "x",
         "showgrid": true,
         "showticklabels": false
        },
        "yaxis": {
         "anchor": "x",
         "domain": [
          0,
          0.7326
         ],
         "title": {
          "text": "count"
         }
        },
        "yaxis2": {
         "anchor": "x2",
         "domain": [
          0.7426,
          1
         ],
         "matches": "y2",
         "showgrid": false,
         "showline": false,
         "showticklabels": false,
         "ticks": ""
        }
       }
      }
     },
     "metadata": {},
     "output_type": "display_data"
    }
   ],
   "source": [
    "plot_model(model_kmeans, plot = 'distribution')"
   ]
  }
 ],
 "metadata": {
  "kernelspec": {
   "display_name": "Python 3.8.13 ('py38')",
   "language": "python",
   "name": "python3"
  },
  "language_info": {
   "codemirror_mode": {
    "name": "ipython",
    "version": 3
   },
   "file_extension": ".py",
   "mimetype": "text/x-python",
   "name": "python",
   "nbconvert_exporter": "python",
   "pygments_lexer": "ipython3",
   "version": "3.8.13"
  },
  "orig_nbformat": 4,
  "vscode": {
   "interpreter": {
    "hash": "d6c6a9368ffd28e969f7d90a4d7c29e7466278b3cb1a367b914bbfe92c83c635"
   }
  }
 },
 "nbformat": 4,
 "nbformat_minor": 2
}
