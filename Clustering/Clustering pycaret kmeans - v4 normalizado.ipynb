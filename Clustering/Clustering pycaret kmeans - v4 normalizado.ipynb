{
 "cells": [
  {
   "attachments": {},
   "cell_type": "markdown",
   "metadata": {},
   "source": [
    "##### Cargue de librerias"
   ]
  },
  {
   "cell_type": "code",
   "execution_count": 1,
   "metadata": {},
   "outputs": [],
   "source": [
    "from pycaret.clustering import *\n",
    "import pyodbc\n",
    "import pandas as pd\n",
    "import numpy as np\n",
    "import matplotlib.pyplot as plt\n",
    "import seaborn as sns\n",
    "from random import randint\n",
    "\n",
    "import warnings\n",
    "warnings.filterwarnings(\"ignore\")"
   ]
  },
  {
   "attachments": {},
   "cell_type": "markdown",
   "metadata": {},
   "source": [
    "##### Conexion al DWH de Dispapeles y carga de bds adicionales"
   ]
  },
  {
   "cell_type": "code",
   "execution_count": 2,
   "metadata": {},
   "outputs": [],
   "source": [
    "def df_clustering(consulta_SQL):\n",
    "    ## Conexion al DWH\n",
    "    cnxn = pyodbc.connect(\n",
    "        driver='{SQL Server}',\n",
    "        server='192.168.100.58',\n",
    "        uid='bilectura',\n",
    "        pwd='D1sp@p3l3s')\n",
    "    cursor = cnxn.cursor()\n",
    "    \n",
    "    #Cargue de la data desde el ERP de Dispapeles y se guarda en df\n",
    "    cursor.execute(consulta_SQL)\n",
    "    rows = cursor.fetchall()\n",
    "    \n",
    "    df = pd.DataFrame.from_records(rows, columns=[col[0] for col in cursor.description])\n",
    "\n",
    "    return df"
   ]
  },
  {
   "attachments": {},
   "cell_type": "markdown",
   "metadata": {},
   "source": [
    "##### Funcion EDA"
   ]
  },
  {
   "cell_type": "code",
   "execution_count": 3,
   "metadata": {},
   "outputs": [],
   "source": [
    "def histograma(bd):\n",
    "    fig, ax = plt.subplots(1, 3, figsize= (15,5))\n",
    "    sns.kdeplot(bd[\"Escala R\"], ax= ax[0], color= \"blue\", fill= True)\n",
    "    sns.kdeplot(bd[\"Escala F\"], ax= ax[1], color= \"red\", fill= True)\n",
    "    sns.kdeplot(bd[\"Escala M\"], ax= ax[2], color= \"yellow\", fill= True)\n",
    "    fig.suptitle(\"Distribuciones del modelo RFM\")\n",
    "    plt.show()\n",
    "\n",
    "def scatter(bd):\n",
    "    fig, ax = plt.subplots(1, 1, figsize= (8,5))\n",
    "    sns.scatterplot(x= \"Escala R\", size= \"Escala F\", y= \"Escala M\", data= bd)\n",
    "    fig.suptitle(\"Scatter del modelo RFM\")\n",
    "    plt.show()\n",
    "\n",
    "def matrix(bd, col):\n",
    "    corr_matrix = bd[col].corr()\n",
    "    fig, ax = plt.subplots(figsize=(8, 6))\n",
    "    sns.heatmap(corr_matrix, annot=True, cmap=\"coolwarm\", vmin=-1, vmax=1, ax=ax)\n",
    "    plt.title(\"Matriz de correlación\")\n",
    "    plt.show()\n",
    "\n",
    "def EDA(bd):\n",
    "    bd = bd.reset_index()\n",
    "    print(f\"Esta base de datos tiene {len(bd)} registros,\")\n",
    "    print(f\"hace parte del distrito {bd['Codigo distrito'][0]}\")\n",
    "    print(f\"y el tipo de zona es {bd['Nombre tipo zona'][0]}\")\n",
    "    \n",
    "    print(\" \")\n",
    "    print(\"Describe de la base de datos\")\n",
    "    describe = bd.describe().applymap(\"{:,.0f}\".format)\n",
    "    print(describe[[\"Escala R\", \"Escala F\", \"Escala M\"]][1:])\n",
    "    \n",
    "    print(\" \")\n",
    "    \n",
    "    # Variables auxiliares\n",
    "    max = bd[\"Escala M\"].max()\n",
    "    min = bd[\"Escala M\"].min()\n",
    "    rango = max - min\n",
    "    # mean = \n",
    "    # sd =\n",
    "        \n",
    "    print(f\"El valor máx del campo Escala M es: {max:,.0f}\")\n",
    "    print(f\"y el valor min es: {min:,.0f}\")\n",
    "    print(f\"por lo tanto su rango es de: {rango:,.0f}\")\n",
    "\n",
    "    histograma(bd)\n",
    "    scatter(bd)\n",
    "    matrix(bd, [\"Escala R\", \"Escala F\", \"Escala M\"])"
   ]
  },
  {
   "attachments": {},
   "cell_type": "markdown",
   "metadata": {},
   "source": [
    "##### Funciones estandarizacion"
   ]
  },
  {
   "cell_type": "code",
   "execution_count": 21,
   "metadata": {},
   "outputs": [],
   "source": [
    "# Crear una función para asignar etiquetas basadas en percentiles\n",
    "def asignar_escala_R(valor, escalas_R= [21, 18, 12, 6, 0]):\n",
    "    if valor >= escalas_R[0]:\n",
    "        return 5\n",
    "    elif valor >= escalas_R[1]:\n",
    "        return 4\n",
    "    elif valor >= escalas_R[2]:\n",
    "        return 3\n",
    "    elif valor >= escalas_R[3]:\n",
    "        return 2\n",
    "    else:\n",
    "        return 1\n",
    "    \n",
    "def asignar_escala_F(valor, escalas_F= [21, 18, 12, 6, 0]):\n",
    "    if valor >= escalas_F[0]:\n",
    "        return 5\n",
    "    elif valor >= escalas_F[1]:\n",
    "        return 4\n",
    "    elif valor >= escalas_F[2]:\n",
    "        return 3\n",
    "    elif valor >= escalas_F[3]:\n",
    "        return 2\n",
    "    else:\n",
    "        return 1\n",
    "    \n",
    "def asignar_escala_M(valor):\n",
    "    if valor <= escalas_M[1]:\n",
    "        return 1\n",
    "    elif valor <= escalas_M[2]:\n",
    "        return 2\n",
    "    elif valor <= escalas_M[3]:\n",
    "        return 3\n",
    "    elif valor <= escalas_M[4]:\n",
    "        return 4\n",
    "    else:\n",
    "        return 5\n",
    "    "
   ]
  },
  {
   "attachments": {},
   "cell_type": "markdown",
   "metadata": {},
   "source": [
    "##### Carga de la base de datos"
   ]
  },
  {
   "cell_type": "code",
   "execution_count": 5,
   "metadata": {},
   "outputs": [],
   "source": [
    "# Consulta SQL para descargar la informacion a usar\n",
    "codigo_SQL = \"SELECT A.DSTCOD AS 'Codigo distrito', B.VNDZNA AS 'Codigo zona actual', CONCAT(CONCAT(A.VTANIT,'-'),A.VTASUC) AS 'Nit cliente-sucursal', A.VTAANO AS 'Ano', A.VTAMES AS 'Mes', (((2021 - MAX(A.VTAANO)) * 12 ) + (0 - MAX(A.VTAMES))) * -1 AS 'Recency', SUM(A.VTAVLRVTA) AS 'Monetary', COUNT( DISTINCT A.VTAMES) AS 'Frequency' FROM V_VTA_VTAHEC A LEFT JOIN\tDIM_CLIENTES B ON A.PRMCOD = B.PRMCOD AND A.DSTCOD = B.DSTCOD AND A.VTANIT = B.CLTNIT AND A.VTASUC = B.CLTSUC WHERE A.PRMCOD = 1 AND A.DSTCOD NOT IN (30,35) AND A.VTAZNA < 96 AND A.VTAFCH BETWEEN '2021-01-01' AND '2022-12-31' GROUP BY A.DSTCOD, B.VNDZNA, CONCAT(CONCAT(A.VTANIT,'-'),A.VTASUC), A.VTAANO, A.VTAMES HAVING SUM(A.VTAVLRVTA) > 0\"\n",
    "\n",
    "# Consulta adicional para establecer el tipo de zona\n",
    "maestra_zonas = pd.read_csv('C:/Users/tcardenas/OneDrive/OneDrive - Grupo DISPAPELES/Documents/Análisis clustering/Maestra_zonas.csv', delimiter= \";\")"
   ]
  },
  {
   "cell_type": "code",
   "execution_count": 6,
   "metadata": {},
   "outputs": [],
   "source": [
    "df = df_clustering(codigo_SQL)"
   ]
  },
  {
   "attachments": {},
   "cell_type": "markdown",
   "metadata": {},
   "source": [
    "##### Tranformaciones"
   ]
  },
  {
   "cell_type": "code",
   "execution_count": 7,
   "metadata": {},
   "outputs": [],
   "source": [
    "# Conversion de tipo de la columna Monetary\n",
    "df[\"Monetary\"] = df[\"Monetary\"].astype(int)\n",
    "\n",
    "# Join con la maestra de zonas para determinar el tipo de zona\n",
    "df_2 = pd.merge(df, maestra_zonas, on= [\"Codigo distrito\", \"Codigo zona actual\"])\n",
    "\n",
    "# Filtro de la informacion para excluir zonas no relevantes\n",
    "list_filter = ['Artes graficas', 'TIG', 'V Horeca', 'Institucional', 'V SyE',\n",
    "                'V Industria', 'Mayorista']\n",
    "df = df_2[df_2[\"Nombre tipo zona\"].isin(list_filter)]\n",
    "\n",
    "# DF final agregada por tipo de zona\n",
    "df_3 = df.groupby([\"Codigo distrito\", \"Nombre tipo zona\", \"Nit cliente-sucursal\"]).agg({\"Recency\": np.max,\n",
    "                                                                            \"Monetary\": np.sum,\n",
    "                                                                            \"Frequency\": np.sum\n",
    "                                                                            })\n",
    "df_3 = df_3.reset_index(col_level= 1)"
   ]
  },
  {
   "cell_type": "code",
   "execution_count": 37,
   "metadata": {},
   "outputs": [
    {
     "data": {
      "text/html": [
       "<div>\n",
       "<style scoped>\n",
       "    .dataframe tbody tr th:only-of-type {\n",
       "        vertical-align: middle;\n",
       "    }\n",
       "\n",
       "    .dataframe tbody tr th {\n",
       "        vertical-align: top;\n",
       "    }\n",
       "\n",
       "    .dataframe thead th {\n",
       "        text-align: right;\n",
       "    }\n",
       "</style>\n",
       "<table border=\"1\" class=\"dataframe\">\n",
       "  <thead>\n",
       "    <tr style=\"text-align: right;\">\n",
       "      <th></th>\n",
       "      <th>Codigo distrito</th>\n",
       "      <th>Nombre tipo zona</th>\n",
       "      <th>Nit cliente-sucursal</th>\n",
       "      <th>Distrito-Nombretipozona</th>\n",
       "      <th>Escala R</th>\n",
       "      <th>Escala F</th>\n",
       "      <th>Escala M</th>\n",
       "    </tr>\n",
       "  </thead>\n",
       "  <tbody>\n",
       "    <tr>\n",
       "      <th>0</th>\n",
       "      <td>10</td>\n",
       "      <td>Artes graficas</td>\n",
       "      <td>1010197660-1</td>\n",
       "      <td>10-Artes graficas</td>\n",
       "      <td>2</td>\n",
       "      <td>1</td>\n",
       "      <td>2</td>\n",
       "    </tr>\n",
       "    <tr>\n",
       "      <th>1</th>\n",
       "      <td>10</td>\n",
       "      <td>Artes graficas</td>\n",
       "      <td>1010208977-1</td>\n",
       "      <td>10-Artes graficas</td>\n",
       "      <td>1</td>\n",
       "      <td>1</td>\n",
       "      <td>2</td>\n",
       "    </tr>\n",
       "    <tr>\n",
       "      <th>2</th>\n",
       "      <td>10</td>\n",
       "      <td>Artes graficas</td>\n",
       "      <td>1012348815-1</td>\n",
       "      <td>10-Artes graficas</td>\n",
       "      <td>1</td>\n",
       "      <td>1</td>\n",
       "      <td>1</td>\n",
       "    </tr>\n",
       "    <tr>\n",
       "      <th>3</th>\n",
       "      <td>10</td>\n",
       "      <td>Artes graficas</td>\n",
       "      <td>1013637504-1</td>\n",
       "      <td>10-Artes graficas</td>\n",
       "      <td>1</td>\n",
       "      <td>1</td>\n",
       "      <td>1</td>\n",
       "    </tr>\n",
       "    <tr>\n",
       "      <th>4</th>\n",
       "      <td>10</td>\n",
       "      <td>Artes graficas</td>\n",
       "      <td>1013642113-1</td>\n",
       "      <td>10-Artes graficas</td>\n",
       "      <td>4</td>\n",
       "      <td>1</td>\n",
       "      <td>3</td>\n",
       "    </tr>\n",
       "    <tr>\n",
       "      <th>...</th>\n",
       "      <td>...</td>\n",
       "      <td>...</td>\n",
       "      <td>...</td>\n",
       "      <td>...</td>\n",
       "      <td>...</td>\n",
       "      <td>...</td>\n",
       "      <td>...</td>\n",
       "    </tr>\n",
       "    <tr>\n",
       "      <th>14386</th>\n",
       "      <td>90</td>\n",
       "      <td>Mayorista</td>\n",
       "      <td>93300278-1</td>\n",
       "      <td>90-Mayorista</td>\n",
       "      <td>3</td>\n",
       "      <td>1</td>\n",
       "      <td>2</td>\n",
       "    </tr>\n",
       "    <tr>\n",
       "      <th>14387</th>\n",
       "      <td>90</td>\n",
       "      <td>Mayorista</td>\n",
       "      <td>93370623-1</td>\n",
       "      <td>90-Mayorista</td>\n",
       "      <td>4</td>\n",
       "      <td>4</td>\n",
       "      <td>3</td>\n",
       "    </tr>\n",
       "    <tr>\n",
       "      <th>14388</th>\n",
       "      <td>90</td>\n",
       "      <td>Mayorista</td>\n",
       "      <td>93386132-1</td>\n",
       "      <td>90-Mayorista</td>\n",
       "      <td>4</td>\n",
       "      <td>3</td>\n",
       "      <td>5</td>\n",
       "    </tr>\n",
       "    <tr>\n",
       "      <th>14389</th>\n",
       "      <td>90</td>\n",
       "      <td>Mayorista</td>\n",
       "      <td>93414007-1</td>\n",
       "      <td>90-Mayorista</td>\n",
       "      <td>4</td>\n",
       "      <td>3</td>\n",
       "      <td>3</td>\n",
       "    </tr>\n",
       "    <tr>\n",
       "      <th>14390</th>\n",
       "      <td>90</td>\n",
       "      <td>Mayorista</td>\n",
       "      <td>93437671-1</td>\n",
       "      <td>90-Mayorista</td>\n",
       "      <td>1</td>\n",
       "      <td>1</td>\n",
       "      <td>2</td>\n",
       "    </tr>\n",
       "  </tbody>\n",
       "</table>\n",
       "<p>14391 rows × 7 columns</p>\n",
       "</div>"
      ],
      "text/plain": [
       "       Codigo distrito Nombre tipo zona Nit cliente-sucursal  \\\n",
       "0                   10   Artes graficas         1010197660-1   \n",
       "1                   10   Artes graficas         1010208977-1   \n",
       "2                   10   Artes graficas         1012348815-1   \n",
       "3                   10   Artes graficas         1013637504-1   \n",
       "4                   10   Artes graficas         1013642113-1   \n",
       "...                ...              ...                  ...   \n",
       "14386               90        Mayorista           93300278-1   \n",
       "14387               90        Mayorista           93370623-1   \n",
       "14388               90        Mayorista           93386132-1   \n",
       "14389               90        Mayorista           93414007-1   \n",
       "14390               90        Mayorista           93437671-1   \n",
       "\n",
       "      Distrito-Nombretipozona  Escala R  Escala F  Escala M  \n",
       "0           10-Artes graficas         2         1         2  \n",
       "1           10-Artes graficas         1         1         2  \n",
       "2           10-Artes graficas         1         1         1  \n",
       "3           10-Artes graficas         1         1         1  \n",
       "4           10-Artes graficas         4         1         3  \n",
       "...                       ...       ...       ...       ...  \n",
       "14386            90-Mayorista         3         1         2  \n",
       "14387            90-Mayorista         4         4         3  \n",
       "14388            90-Mayorista         4         3         5  \n",
       "14389            90-Mayorista         4         3         3  \n",
       "14390            90-Mayorista         1         1         2  \n",
       "\n",
       "[14391 rows x 7 columns]"
      ]
     },
     "execution_count": 37,
     "metadata": {},
     "output_type": "execute_result"
    }
   ],
   "source": [
    "# Se añade una key de Distrito-Nombretipozona para hacer mas facil la identificacion cuando se usa todo el pais\n",
    "df_3['Distrito-Nombretipozona'] = df_3['Codigo distrito'].astype(str) + '-' + df_3['Nombre tipo zona']\n",
    "\n",
    "# Aplicar la función para asignar etiquetas a una nueva columna \"Etiqueta\"\n",
    "escalas_M = np.percentile(df_3[\"Monetary\"].values, [0, 20, 50, 80, 95, 100])\n",
    "\n",
    "df_est = df_3\n",
    "df_est[\"Escala R\"] = df_3[\"Recency\"].apply(asignar_escala_R, escalas_R= [25, 21, 15, 8, 0])\n",
    "df_est[\"Escala F\"] = df_3[\"Frequency\"].apply(asignar_escala_F, escalas_F= [25, 21, 15, 8, 0])\n",
    "df_est[\"Escala M\"] = df_3[\"Monetary\"].apply(asignar_escala_M)\n",
    "df_est = df_est.drop([\"Recency\", \"Frequency\", \"Monetary\"], axis=1)\n",
    "df_est"
   ]
  },
  {
   "attachments": {},
   "cell_type": "markdown",
   "metadata": {},
   "source": [
    "##### Creacion, ajuste y descarga de los modelos de clustering por cada distrito-tipo de zona"
   ]
  },
  {
   "cell_type": "code",
   "execution_count": 23,
   "metadata": {},
   "outputs": [],
   "source": [
    "list_dtos = df_est[\"Distrito-Nombretipozona\"].unique()\n",
    "numeric_features = [\"Escala R\", \"Escala F\", \"Escala M\"]\n",
    "ignore_columns = [\"Codigo distrito\", \"Nombre tipo zona\", \"Nit cliente-sucursal\", \"Distrito-Nombretipozona\"]"
   ]
  },
  {
   "attachments": {},
   "cell_type": "markdown",
   "metadata": {},
   "source": [
    "#### EDA"
   ]
  },
  {
   "cell_type": "code",
   "execution_count": 38,
   "metadata": {},
   "outputs": [],
   "source": [
    "df_EDA = df_est[df_est[\"Distrito-Nombretipozona\"] == '10-Artes graficas']"
   ]
  },
  {
   "cell_type": "code",
   "execution_count": 39,
   "metadata": {},
   "outputs": [
    {
     "name": "stdout",
     "output_type": "stream",
     "text": [
      "Esta base de datos tiene 523 registros,\n",
      "hace parte del distrito 10\n",
      "y el tipo de zona es Artes graficas\n",
      " \n",
      "Describe de la base de datos\n",
      "     Escala R Escala F Escala M\n",
      "mean        3        2        3\n",
      "std         1        1        1\n",
      "min         1        1        1\n",
      "25%         3        1        2\n",
      "50%         4        1        3\n",
      "75%         4        3        4\n",
      "max         4        4        5\n",
      " \n",
      "El valor máx del campo Escala M es: 5\n",
      "y el valor min es: 1\n",
      "por lo tanto su rango es de: 4\n"
     ]
    },
    {
     "data": {
      "image/png": "[encoded data removed]",
      "text/plain": [
       "<Figure size 1500x500 with 3 Axes>"
      ]
     },
     "metadata": {},
     "output_type": "display_data"
    },
    {
     "data": {
      "image/png": "[encoded data removed]",
      "text/plain": [
       "<Figure size 800x500 with 1 Axes>"
      ]
     },
     "metadata": {},
     "output_type": "display_data"
    },
    {
     "data": {
      "image/png": "[encoded data removed]",
      "text/plain": [
       "<Figure size 800x600 with 2 Axes>"
      ]
     },
     "metadata": {},
     "output_type": "display_data"
    }
   ],
   "source": [
    "EDA(df_EDA)"
   ]
  },
  {
   "cell_type": "code",
   "execution_count": null,
   "metadata": {},
   "outputs": [],
   "source": [
    "list_dtos"
   ]
  },
  {
   "cell_type": "code",
   "execution_count": 40,
   "metadata": {},
   "outputs": [],
   "source": [
    "# list_dtos = ['10-Artes graficas', '10-Institucional', '10-Mayorista', '10-TIG', '10-V Horeca', '10-V Industria', '10-V SyE']\n",
    "list_dtos = ['10-Artes graficas']"
   ]
  },
  {
   "attachments": {},
   "cell_type": "markdown",
   "metadata": {},
   "source": [
    "##### Un modelo"
   ]
  },
  {
   "cell_type": "code",
   "execution_count": 50,
   "metadata": {},
   "outputs": [
    {
     "name": "stdout",
     "output_type": "stream",
     "text": [
      "Procesando modelo 1 de 1. 100.0%\n",
      "Proceso completo 100%\n"
     ]
    }
   ],
   "source": [
    "# Variables iniciales\n",
    "metrics = []\n",
    "\n",
    "# Fecha para guardar resultados\n",
    "fecha = '12-04-23'\n",
    "\n",
    "# Ciclo para realizar el modelo de clustering por cada tipo de zona del pais\n",
    "for n, dto in enumerate(list_dtos):\n",
    "    print(f\"Procesando modelo {n+1} de {len(list_dtos)}. {(n+1) / (len(list_dtos)):.1%}\")\n",
    "    \n",
    "    #BD filtrada\n",
    "    df_dto = df_est[df_est[\"Distrito-Nombretipozona\"] == dto]\n",
    "\n",
    "    #Setup del modelo \n",
    "    s = setup(\n",
    "                df_dto,\n",
    "                verbose= False,\n",
    "                preprocess= False,\n",
    "                profile= False,\n",
    "                ignore_features= ignore_columns,\n",
    "                numeric_features= numeric_features\n",
    "                )\n",
    "    \n",
    "    #Creacion y prediccion de modelo\n",
    "    model_kmeans = create_model(\n",
    "                                'kmeans',\n",
    "                                num_clusters= 5,\n",
    "                                verbose= False,\n",
    "                                )\n",
    "    pull()\n",
    "    df_pred_km = predict_model(\n",
    "                                model_kmeans,\n",
    "                                data = df_dto\n",
    "                                )\n",
    "    \n",
    "    # Reasignacion de los nombres de los clusters\n",
    "    trans = df_pred_km.groupby(\n",
    "                                [\"Cluster\"]).agg({\n",
    "                                                \"Escala R\": np.mean, \"Escala F\": np.mean, \"Escala M\": np.mean,\n",
    "                                            }).reset_index()\n",
    "    trans[\"avg\"] = (trans[\"Escala R\"] + trans[\"Escala F\"] + trans[\"Escala M\"]) / 3\n",
    "    trans = trans.sort_values(by= [\"avg\"], ascending= False)\n",
    "    trans[\"Letra cluster\"] = [\"A\", \"B\", \"C\", \"D\", \"E\"]\n",
    "    trans = trans[[\"Cluster\", \"Letra cluster\"]]\n",
    "    \n",
    "    df_pred_km = pd.merge(df_pred_km, trans, on= [\"Cluster\"])\n",
    "    df_pred_km = df_pred_km.drop_duplicates(subset=[\"Escala R\", \"Escala F\", \"Escala M\"])\n",
    "    \n",
    "    # Descarga del modelo\n",
    "    bd_predicted = pd.merge(df_dto, df_pred_km, on= [\"Escala R\", \"Escala F\", \"Escala M\"])\n",
    "\n",
    "    #Append a la variable incial de metricas\n",
    "    metrics.append({\n",
    "                    \"Distrito-zona\": dto,\n",
    "                    \"Silhouette\": pull().Silhouette[0],\n",
    "                    \"Calinski-Harabasz\": pull()[\"Calinski-Harabasz\"][0],\n",
    "                    \"Davies-Bouldin\": pull()[\"Davies-Bouldin\"][0]\n",
    "                    })\n",
    "    # save_model(model_kmeans, f\"C:/Users/tcardenas/OneDrive/OneDrive - Grupo DISPAPELES/Documents/ML-Dispapeles-TomasCaLo/Clustering/Modelos {fecha}/Modelo {dto} {fecha}\")\n",
    "\n",
    "# Transformacion de la variable de metricas\n",
    "metrics = pd.DataFrame(metrics)\n",
    "metrics[\"Tipo zona\"] = metrics[\"Distrito-zona\"].str[3:]\n",
    "\n",
    "print(\"Proceso completo 100%\")"
   ]
  },
  {
   "cell_type": "code",
   "execution_count": 52,
   "metadata": {},
   "outputs": [],
   "source": [
    "# Descarga de bd predicha y metricas calculadas\n",
    "bd_predicted.to_csv(f\"C:/Users/tcardenas/OneDrive/OneDrive - Grupo DISPAPELES/Documents/ML-Dispapeles-TomasCaLo/Clustering/Clustering {fecha}.csv\",\n",
    "                        encoding= 'utf-8', index= False, decimal= \",\", sep= \";\")\n",
    "metrics.to_csv(f\"C:/Users/tcardenas/OneDrive/OneDrive - Grupo DISPAPELES/Documents/ML-Dispapeles-TomasCaLo/Clustering/Metricas {fecha}.csv\",\n",
    "                        encoding= 'utf-8', index= False, decimal= \",\",  sep= \";\")"
   ]
  },
  {
   "cell_type": "code",
   "execution_count": 51,
   "metadata": {},
   "outputs": [
    {
     "data": {
      "image/png": "[encoded data removed]",
      "text/plain": [
       "<Figure size 700x1000 with 1 Axes>"
      ]
     },
     "metadata": {},
     "output_type": "display_data"
    }
   ],
   "source": [
    "col =  [\"blueviolet\", \"limegreen\", \"indianred\", \"royalblue\", \"magenta\", \"blueviolet\"]\n",
    "leg = [\"A\", \"B\", \"C\", \"D\", \"E\"]\n",
    "cluster = list(np.unique(df_pred_km[\"Letra cluster\"]))\n",
    "\n",
    "fig = plt.figure(figsize=(7,10))\n",
    "ax = fig.gca(projection='3d')\n",
    "\n",
    "for c in range(5):\n",
    "    df_plot = df_pred_km[df_pred_km['Letra cluster'] == cluster[c]]\n",
    "    ax.scatter(df_plot['Escala R'],df_plot['Escala F'], df_plot['Escala M'], c= col[c])\n",
    "    \n",
    "ax.legend(leg)\n",
    "ax.set_xlabel('Escala R')\n",
    "ax.set_ylabel('Escala F')\n",
    "ax.set_zlabel('Escala M')\n",
    "plt.show()"
   ]
  },
  {
   "cell_type": "code",
   "execution_count": 53,
   "metadata": {},
   "outputs": [
    {
     "data": {
      "text/html": [],
      "text/plain": [
       "<IPython.core.display.HTML object>"
      ]
     },
     "metadata": {},
     "output_type": "display_data"
    },
    {
     "data": {
      "application/vnd.plotly.v1+json": {
       "config": {
        "plotlyServerURL": "https://plot.ly"
       },
       "data": [
        {
         "customdata": [
          [
           10
          ],
          [
           10
          ],
          [
           10
          ],
          [
           10
          ],
          [
           10
          ],
          [
           10
          ],
          [
           10
          ],
          [
           10
          ],
          [
           10
          ],
          [
           10
          ],
          [
           10
          ],
          [
           10
          ],
          [
           10
          ],
          [
           10
          ],
          [
           10
          ],
          [
           10
          ],
          [
           10
          ],
          [
           10
          ],
          [
           10
          ],
          [
           10
          ],
          [
           10
          ],
          [
           10
          ],
          [
           10
          ],
          [
           10
          ],
          [
           10
          ],
          [
           10
          ],
          [
           10
          ],
          [
           10
          ],
          [
           10
          ],
          [
           10
          ],
          [
           10
          ],
          [
           10
          ],
          [
           10
          ],
          [
           10
          ],
          [
           10
          ],
          [
           10
          ],
          [
           10
          ],
          [
           10
          ],
          [
           10
          ],
          [
           10
          ],
          [
           10
          ],
          [
           10
          ],
          [
           10
          ],
          [
           10
          ],
          [
           10
          ],
          [
           10
          ],
          [
           10
          ],
          [
           10
          ],
          [
           10
          ],
          [
           10
          ],
          [
           10
          ],
          [
           10
          ],
          [
           10
          ],
          [
           10
          ],
          [
           10
          ],
          [
           10
          ],
          [
           10
          ],
          [
           10
          ],
          [
           10
          ],
          [
           10
          ],
          [
           10
          ],
          [
           10
          ],
          [
           10
          ],
          [
           10
          ],
          [
           10
          ],
          [
           10
          ],
          [
           10
          ],
          [
           10
          ],
          [
           10
          ],
          [
           10
          ],
          [
           10
          ],
          [
           10
          ],
          [
           10
          ],
          [
           10
          ],
          [
           10
          ],
          [
           10
          ],
          [
           10
          ],
          [
           10
          ],
          [
           10
          ],
          [
           10
          ],
          [
           10
          ],
          [
           10
          ],
          [
           10
          ],
          [
           10
          ],
          [
           10
          ],
          [
           10
          ],
          [
           10
          ],
          [
           10
          ],
          [
           10
          ],
          [
           10
          ],
          [
           10
          ],
          [
           10
          ],
          [
           10
          ],
          [
           10
          ],
          [
           10
          ],
          [
           10
          ],
          [
           10
          ],
          [
           10
          ],
          [
           10
          ],
          [
           10
          ],
          [
           10
          ],
          [
           10
          ],
          [
           10
          ],
          [
           10
          ],
          [
           10
          ],
          [
           10
          ],
          [
           10
          ],
          [
           10
          ],
          [
           10
          ],
          [
           10
          ],
          [
           10
          ],
          [
           10
          ],
          [
           10
          ],
          [
           10
          ],
          [
           10
          ],
          [
           10
          ],
          [
           10
          ],
          [
           10
          ],
          [
           10
          ],
          [
           10
          ],
          [
           10
          ],
          [
           10
          ],
          [
           10
          ],
          [
           10
          ],
          [
           10
          ],
          [
           10
          ],
          [
           10
          ],
          [
           10
          ],
          [
           10
          ],
          [
           10
          ],
          [
           10
          ],
          [
           10
          ],
          [
           10
          ],
          [
           10
          ],
          [
           10
          ],
          [
           10
          ],
          [
           10
          ],
          [
           10
          ],
          [
           10
          ],
          [
           10
          ],
          [
           10
          ],
          [
           10
          ],
          [
           10
          ],
          [
           10
          ],
          [
           10
          ]
         ],
         "hovertemplate": "Cluster=Cluster 0<br>PCA1=%{x}<br>PCA2=%{y}<br>Feature=%{customdata[0]}<extra></extra>",
         "legendgroup": "Cluster 0",
         "marker": {
          "color": "#636efa",
          "opacity": 0.5,
          "symbol": "circle"
         },
         "mode": "markers",
         "name": "Cluster 0",
         "orientation": "v",
         "showlegend": true,
         "textposition": "top center",
         "type": "scatter",
         "x": [
          1.0685717212095929,
          1.5418052717132453,
          1.5418052717132453,
          0.39678534091865975,
          0.39678534091865975,
          0.39678534091865975,
          1.5418052717132453,
          0.39678534091865975,
          0.39678534091865975,
          0.39678534091865975,
          0.39678534091865975,
          1.0685717212095929,
          0.8700188914223125,
          1.0685717212095929,
          1.0685717212095929,
          0.8700188914223125,
          0.39678534091865975,
          0.39678534091865975,
          0.39678534091865975,
          0.39678534091865975,
          1.5418052717132453,
          1.0685717212095929,
          2.2135916520041787,
          1.0685717212095929,
          1.5418052717132453,
          0.8700188914223125,
          0.8700188914223125,
          0.8700188914223125,
          0.39678534091865975,
          0.8700188914223125,
          0.8700188914223125,
          1.0685717212095929,
          1.5418052717132453,
          1.0685717212095929,
          0.39678534091865975,
          1.5418052717132453,
          0.39678534091865975,
          0.39678534091865975,
          1.0685717212095929,
          0.8700188914223125,
          1.7403581015005258,
          0.8700188914223125,
          0.39678534091865975,
          0.39678534091865975,
          1.5418052717132453,
          0.39678534091865975,
          1.0685717212095929,
          0.39678534091865975,
          1.5418052717132453,
          2.2135916520041787,
          0.39678534091865975,
          0.39678534091865975,
          0.8700188914223125,
          1.0685717212095929,
          1.0685717212095929,
          0.39678534091865975,
          1.5418052717132453,
          0.39678534091865975,
          0.8700188914223125,
          1.0685717212095929,
          1.0685717212095929,
          0.8700188914223125,
          0.39678534091865975,
          0.8700188914223125,
          0.39678534091865975,
          0.39678534091865975,
          0.39678534091865975,
          0.39678534091865975,
          1.0685717212095929,
          1.0685717212095929,
          1.0685717212095929,
          0.39678534091865975,
          0.8700188914223125,
          0.39678534091865975,
          1.5418052717132453,
          0.39678534091865975,
          1.5418052717132453,
          1.0685717212095929,
          2.2135916520041787,
          1.0685717212095929,
          0.39678534091865975,
          0.8700188914223125,
          1.5418052717132453,
          1.0685717212095929,
          0.39678534091865975,
          0.39678534091865975,
          1.0685717212095929,
          0.8700188914223125,
          1.5418052717132453,
          1.0685717212095929,
          0.8700188914223125,
          0.39678534091865975,
          0.39678534091865975,
          0.39678534091865975,
          1.0685717212095929,
          0.39678534091865975,
          1.5418052717132453,
          1.0685717212095929,
          0.8700188914223125,
          1.5418052717132453,
          0.8700188914223125,
          0.39678534091865975,
          1.0685717212095929,
          1.5418052717132453,
          1.7403581015005258,
          1.0685717212095929,
          0.39678534091865975,
          1.5418052717132453,
          0.39678534091865975,
          1.0685717212095929,
          0.39678534091865975,
          0.39678534091865975,
          0.8700188914223125,
          1.0685717212095929,
          1.5418052717132453,
          1.5418052717132453,
          1.7403581015005258,
          0.39678534091865975,
          0.8700188914223125,
          0.39678534091865975,
          0.39678534091865975,
          2.2135916520041787,
          1.5418052717132453,
          0.8700188914223125,
          0.39678534091865975,
          1.0685717212095929,
          1.0685717212095929,
          1.0685717212095929,
          1.0685717212095929,
          0.39678534091865975,
          0.8700188914223125,
          1.5418052717132453,
          1.5418052717132453,
          1.0685717212095929,
          0.39678534091865975,
          0.39678534091865975,
          0.39678534091865975,
          0.8700188914223125,
          0.39678534091865975,
          1.0685717212095929,
          0.8700188914223125,
          2.2135916520041787,
          1.0685717212095929,
          0.8700188914223125,
          2.2135916520041787
         ],
         "xaxis": "x",
         "y": [
          -1.162396685743052,
          -0.3310269087725355,
          -0.3310269087725355,
          -1.0357545196348237,
          -1.0357545196348237,
          -1.0357545196348237,
          -0.3310269087725355,
          -1.0357545196348237,
          -1.0357545196348237,
          -1.0357545196348237,
          -1.0357545196348237,
          -1.162396685743052,
          -0.20438474266430698,
          -1.162396685743052,
          -1.162396685743052,
          -0.20438474266430698,
          -1.0357545196348237,
          -1.0357545196348237,
          -1.0357545196348237,
          -1.0357545196348237,
          -0.3310269087725355,
          -1.162396685743052,
          -0.4576690748807641,
          -1.162396685743052,
          -0.3310269087725355,
          -0.20438474266430698,
          -0.20438474266430698,
          -0.20438474266430698,
          -1.0357545196348237,
          -0.20438474266430698,
          -0.20438474266430698,
          -1.162396685743052,
          -0.3310269087725355,
          -1.162396685743052,
          -1.0357545196348237,
          -0.3310269087725355,
          -1.0357545196348237,
          -1.0357545196348237,
          -1.162396685743052,
          -0.20438474266430698,
          -1.2890388518512808,
          -0.20438474266430698,
          -1.0357545196348237,
          -1.0357545196348237,
          -0.3310269087725355,
          -1.0357545196348237,
          -1.162396685743052,
          -1.0357545196348237,
          -0.3310269087725355,
          -0.4576690748807641,
          -1.0357545196348237,
          -1.0357545196348237,
          -0.20438474266430698,
          -1.162396685743052,
          -1.162396685743052,
          -1.0357545196348237,
          -0.3310269087725355,
          -1.0357545196348237,
          -0.20438474266430698,
          -1.162396685743052,
          -1.162396685743052,
          -0.20438474266430698,
          -1.0357545196348237,
          -0.20438474266430698,
          -1.0357545196348237,
          -1.0357545196348237,
          -1.0357545196348237,
          -1.0357545196348237,
          -1.162396685743052,
          -1.162396685743052,
          -1.162396685743052,
          -1.0357545196348237,
          -0.20438474266430698,
          -1.0357545196348237,
          -0.3310269087725355,
          -1.0357545196348237,
          -0.3310269087725355,
          -1.162396685743052,
          -0.4576690748807641,
          -1.162396685743052,
          -1.0357545196348237,
          -0.20438474266430698,
          -0.3310269087725355,
          -1.162396685743052,
          -1.0357545196348237,
          -1.0357545196348237,
          -1.162396685743052,
          -0.20438474266430698,
          -0.3310269087725355,
          -1.162396685743052,
          -0.20438474266430698,
          -1.0357545196348237,
          -1.0357545196348237,
          -1.0357545196348237,
          -1.162396685743052,
          -1.0357545196348237,
          -0.3310269087725355,
          -1.162396685743052,
          -0.20438474266430698,
          -0.3310269087725355,
          -0.20438474266430698,
          -1.0357545196348237,
          -1.162396685743052,
          -0.3310269087725355,
          -1.2890388518512808,
          -1.162396685743052,
          -1.0357545196348237,
          -0.3310269087725355,
          -1.0357545196348237,
          -1.162396685743052,
          -1.0357545196348237,
          -1.0357545196348237,
          -0.20438474266430698,
          -1.162396685743052,
          -0.3310269087725355,
          -0.3310269087725355,
          -1.2890388518512808,
          -1.0357545196348237,
          -0.20438474266430698,
          -1.0357545196348237,
          -1.0357545196348237,
          -0.4576690748807641,
          -0.3310269087725355,
          -0.20438474266430698,
          -1.0357545196348237,
          -1.162396685743052,
          -1.162396685743052,
          -1.162396685743052,
          -1.162396685743052,
          -1.0357545196348237,
          -0.20438474266430698,
          -0.3310269087725355,
          -0.3310269087725355,
          -1.162396685743052,
          -1.0357545196348237,
          -1.0357545196348237,
          -1.0357545196348237,
          -0.20438474266430698,
          -1.0357545196348237,
          -1.162396685743052,
          -0.20438474266430698,
          -0.4576690748807641,
          -1.162396685743052,
          -0.20438474266430698,
          -0.4576690748807641
         ],
         "yaxis": "y"
        },
        {
         "customdata": [
          [
           10
          ],
          [
           10
          ],
          [
           10
          ],
          [
           10
          ],
          [
           10
          ],
          [
           10
          ],
          [
           10
          ],
          [
           10
          ],
          [
           10
          ],
          [
           10
          ],
          [
           10
          ],
          [
           10
          ],
          [
           10
          ],
          [
           10
          ],
          [
           10
          ],
          [
           10
          ],
          [
           10
          ],
          [
           10
          ],
          [
           10
          ],
          [
           10
          ],
          [
           10
          ],
          [
           10
          ],
          [
           10
          ],
          [
           10
          ],
          [
           10
          ],
          [
           10
          ],
          [
           10
          ],
          [
           10
          ],
          [
           10
          ],
          [
           10
          ],
          [
           10
          ],
          [
           10
          ],
          [
           10
          ],
          [
           10
          ],
          [
           10
          ],
          [
           10
          ],
          [
           10
          ],
          [
           10
          ],
          [
           10
          ],
          [
           10
          ],
          [
           10
          ],
          [
           10
          ],
          [
           10
          ],
          [
           10
          ],
          [
           10
          ],
          [
           10
          ],
          [
           10
          ],
          [
           10
          ],
          [
           10
          ],
          [
           10
          ],
          [
           10
          ],
          [
           10
          ],
          [
           10
          ],
          [
           10
          ],
          [
           10
          ],
          [
           10
          ],
          [
           10
          ],
          [
           10
          ],
          [
           10
          ],
          [
           10
          ],
          [
           10
          ],
          [
           10
          ],
          [
           10
          ],
          [
           10
          ],
          [
           10
          ],
          [
           10
          ]
         ],
         "hovertemplate": "Cluster=Cluster 1<br>PCA1=%{x}<br>PCA2=%{y}<br>Feature=%{customdata[0]}<extra></extra>",
         "legendgroup": "Cluster 1",
         "marker": {
          "color": "#EF553B",
          "opacity": 0.5,
          "symbol": "circle"
         },
         "mode": "markers",
         "name": "Cluster 1",
         "orientation": "v",
         "showlegend": true,
         "textposition": "top center",
         "type": "scatter",
         "x": [
          -2.6564007073396385,
          -2.6564007073396385,
          -2.0865296114474945,
          -2.6564007073396385,
          -2.0865296114474945,
          -2.6564007073396385,
          -2.6564007073396385,
          -2.0865296114474945,
          -2.0865296114474945,
          -2.0865296114474945,
          -2.6564007073396385,
          -2.0865296114474945,
          -2.6564007073396385,
          -2.6564007073396385,
          -2.0865296114474945,
          -2.6564007073396385,
          -2.6564007073396385,
          -2.0865296114474945,
          -2.6564007073396385,
          -2.6564007073396385,
          -2.6564007073396385,
          -2.6564007073396385,
          -2.0865296114474945,
          -2.6564007073396385,
          -2.0865296114474945,
          -2.6564007073396385,
          -2.6564007073396385,
          -2.0865296114474945,
          -2.6564007073396385,
          -2.6564007073396385,
          -2.0865296114474945,
          -2.0865296114474945,
          -2.0865296114474945,
          -2.6564007073396385,
          -2.6564007073396385,
          -2.0865296114474945,
          -2.6564007073396385,
          -2.0865296114474945,
          -2.6564007073396385,
          -2.0865296114474945,
          -2.0865296114474945,
          -2.6564007073396385,
          -2.6564007073396385,
          -2.0865296114474945,
          -2.6564007073396385,
          -2.0865296114474945,
          -2.0865296114474945,
          -2.0865296114474945,
          -2.0865296114474945,
          -2.6564007073396385,
          -2.0865296114474945,
          -2.6564007073396385,
          -2.6564007073396385,
          -2.0865296114474945,
          -2.6564007073396385,
          -2.6564007073396385,
          -2.6564007073396385,
          -2.6564007073396385,
          -2.0865296114474945,
          -2.0865296114474945,
          -2.0865296114474945,
          -2.6564007073396385,
          -2.0865296114474945,
          -2.0865296114474945,
          -2.6564007073396385,
          -2.0865296114474945
         ],
         "xaxis": "x",
         "y": [
          0.840821068435213,
          0.840821068435213,
          0.2997239831506865,
          0.840821068435213,
          0.2997239831506865,
          0.840821068435213,
          0.840821068435213,
          0.2997239831506865,
          0.2997239831506865,
          0.2997239831506865,
          0.840821068435213,
          0.2997239831506865,
          0.840821068435213,
          0.840821068435213,
          0.2997239831506865,
          0.840821068435213,
          0.840821068435213,
          0.2997239831506865,
          0.840821068435213,
          0.840821068435213,
          0.840821068435213,
          0.840821068435213,
          0.2997239831506865,
          0.840821068435213,
          0.2997239831506865,
          0.840821068435213,
          0.840821068435213,
          0.2997239831506865,
          0.840821068435213,
          0.840821068435213,
          0.2997239831506865,
          0.2997239831506865,
          0.2997239831506865,
          0.840821068435213,
          0.840821068435213,
          0.2997239831506865,
          0.840821068435213,
          0.2997239831506865,
          0.840821068435213,
          0.2997239831506865,
          0.2997239831506865,
          0.840821068435213,
          0.840821068435213,
          0.2997239831506865,
          0.840821068435213,
          0.2997239831506865,
          0.2997239831506865,
          0.2997239831506865,
          0.2997239831506865,
          0.840821068435213,
          0.2997239831506865,
          0.840821068435213,
          0.840821068435213,
          0.2997239831506865,
          0.840821068435213,
          0.840821068435213,
          0.840821068435213,
          0.840821068435213,
          0.2997239831506865,
          0.2997239831506865,
          0.2997239831506865,
          0.840821068435213,
          0.2997239831506865,
          0.2997239831506865,
          0.840821068435213,
          0.2997239831506865
         ],
         "yaxis": "y"
        },
        {
         "customdata": [
          [
           10
          ],
          [
           10
          ],
          [
           10
          ],
          [
           10
          ],
          [
           10
          ],
          [
           10
          ],
          [
           10
          ],
          [
           10
          ],
          [
           10
          ],
          [
           10
          ],
          [
           10
          ],
          [
           10
          ],
          [
           10
          ],
          [
           10
          ],
          [
           10
          ],
          [
           10
          ],
          [
           10
          ],
          [
           10
          ],
          [
           10
          ],
          [
           10
          ],
          [
           10
          ],
          [
           10
          ],
          [
           10
          ],
          [
           10
          ],
          [
           10
          ],
          [
           10
          ],
          [
           10
          ],
          [
           10
          ],
          [
           10
          ],
          [
           10
          ],
          [
           10
          ],
          [
           10
          ],
          [
           10
          ],
          [
           10
          ],
          [
           10
          ],
          [
           10
          ],
          [
           10
          ],
          [
           10
          ],
          [
           10
          ],
          [
           10
          ],
          [
           10
          ],
          [
           10
          ],
          [
           10
          ],
          [
           10
          ],
          [
           10
          ],
          [
           10
          ],
          [
           10
          ],
          [
           10
          ],
          [
           10
          ],
          [
           10
          ],
          [
           10
          ],
          [
           10
          ],
          [
           10
          ],
          [
           10
          ],
          [
           10
          ],
          [
           10
          ],
          [
           10
          ],
          [
           10
          ],
          [
           10
          ],
          [
           10
          ],
          [
           10
          ],
          [
           10
          ],
          [
           10
          ],
          [
           10
          ],
          [
           10
          ],
          [
           10
          ],
          [
           10
          ],
          [
           10
          ],
          [
           10
          ],
          [
           10
          ],
          [
           10
          ],
          [
           10
          ],
          [
           10
          ],
          [
           10
          ],
          [
           10
          ],
          [
           10
          ],
          [
           10
          ],
          [
           10
          ],
          [
           10
          ],
          [
           10
          ],
          [
           10
          ],
          [
           10
          ],
          [
           10
          ],
          [
           10
          ],
          [
           10
          ],
          [
           10
          ],
          [
           10
          ],
          [
           10
          ],
          [
           10
          ],
          [
           10
          ],
          [
           10
          ],
          [
           10
          ],
          [
           10
          ],
          [
           10
          ],
          [
           10
          ],
          [
           10
          ],
          [
           10
          ]
         ],
         "hovertemplate": "Cluster=Cluster 2<br>PCA1=%{x}<br>PCA2=%{y}<br>Feature=%{customdata[0]}<extra></extra>",
         "legendgroup": "Cluster 2",
         "marker": {
          "color": "#00cc96",
          "opacity": 0.5,
          "symbol": "circle"
         },
         "mode": "markers",
         "name": "Cluster 2",
         "orientation": "v",
         "showlegend": true,
         "textposition": "top center",
         "type": "scatter",
         "x": [
          3.160058753011484,
          1.8164859924296186,
          0.7733813460338214,
          3.160058753011484,
          2.015038822216899,
          2.015038822216899,
          2.015038822216899,
          2.4882723727205516,
          3.160058753011484,
          1.3432524419259655,
          3.160058753011484,
          1.3432524419259655,
          2.015038822216899,
          2.015038822216899,
          2.4882723727205516,
          1.8164859924296186,
          1.3432524419259655,
          2.686825202507832,
          2.4882723727205516,
          1.8164859924296186,
          3.160058753011484,
          1.8164859924296186,
          2.015038822216899,
          1.3432524419259655,
          2.686825202507832,
          2.4882723727205516,
          0.7733813460338214,
          1.3432524419259655,
          2.015038822216899,
          3.160058753011484,
          2.015038822216899,
          2.015038822216899,
          2.4882723727205516,
          1.3432524419259655,
          1.8164859924296186,
          1.8164859924296186,
          2.4882723727205516,
          1.3432524419259655,
          2.4882723727205516,
          1.3432524419259655,
          1.3432524419259655,
          2.4882723727205516,
          2.4882723727205516,
          2.4882723727205516,
          3.160058753011484,
          2.015038822216899,
          3.160058753011484,
          2.686825202507832,
          1.3432524419259655,
          2.686825202507832,
          2.4882723727205516,
          2.4882723727205516,
          2.686825202507832,
          2.686825202507832,
          2.686825202507832,
          3.160058753011484,
          2.0150388222168933,
          1.3432524419259655,
          2.015038822216899,
          2.015038822216899,
          3.160058753011484,
          1.4451677263247544,
          3.160058753011484,
          2.015038822216899,
          2.4882723727205516,
          1.4451677263247544,
          3.160058753011484,
          1.3432524419259655,
          1.3432524419259655,
          2.4882723727205516,
          2.4882723727205516,
          3.160058753011484,
          2.4882723727205516,
          2.4882723727205516,
          3.160058753011484,
          2.4882723727205516,
          1.8164859924296186,
          2.015038822216899,
          2.686825202507832,
          1.3432524419259655,
          2.686825202507832,
          1.3432524419259655,
          2.4882723727205516,
          1.8164859924296186,
          3.160058753011484,
          2.686825202507832,
          3.160058753011484,
          3.160058753011484,
          2.015038822216899,
          2.686825202507832,
          3.160058753011484,
          3.160058753011484,
          2.4882723727205516,
          2.015038822216899,
          1.3432524419259655,
          2.015038822216899,
          2.4882723727205516
         ],
         "xaxis": "x",
         "y": [
          1.2050704790602693,
          1.4583548112767262,
          1.1680821195907363,
          1.2050704790602693,
          0.500342868197981,
          0.500342868197981,
          0.500342868197981,
          1.331712645168498,
          1.2050704790602693,
          0.6269850343062098,
          1.2050704790602693,
          0.6269850343062098,
          0.500342868197981,
          0.500342868197981,
          1.331712645168498,
          1.4583548112767262,
          0.6269850343062098,
          0.37370070208975253,
          1.331712645168498,
          1.4583548112767262,
          1.2050704790602693,
          1.4583548112767262,
          0.500342868197981,
          0.6269850343062098,
          0.37370070208975253,
          1.331712645168498,
          1.1680821195907363,
          0.6269850343062098,
          0.500342868197981,
          1.2050704790602693,
          0.500342868197981,
          0.500342868197981,
          1.331712645168498,
          0.6269850343062098,
          1.4583548112767262,
          1.4583548112767262,
          1.331712645168498,
          0.6269850343062098,
          1.331712645168498,
          0.6269850343062098,
          0.6269850343062098,
          1.331712645168498,
          1.331712645168498,
          1.331712645168498,
          1.2050704790602693,
          0.500342868197981,
          1.2050704790602693,
          0.37370070208975253,
          0.6269850343062098,
          0.37370070208975253,
          1.331712645168498,
          1.331712645168498,
          0.37370070208975253,
          0.37370070208975253,
          0.37370070208975253,
          1.2050704790602693,
          0.5003428681979896,
          0.6269850343062098,
          0.500342868197981,
          0.500342868197981,
          1.2050704790602693,
          1.0414399534825076,
          1.2050704790602693,
          0.500342868197981,
          1.331712645168498,
          1.0414399534825076,
          1.2050704790602693,
          0.6269850343062098,
          0.6269850343062098,
          1.331712645168498,
          1.331712645168498,
          1.2050704790602693,
          1.331712645168498,
          1.331712645168498,
          1.2050704790602693,
          1.331712645168498,
          1.4583548112767262,
          0.500342868197981,
          0.37370070208975253,
          0.6269850343062098,
          0.37370070208975253,
          0.6269850343062098,
          1.331712645168498,
          1.4583548112767262,
          1.2050704790602693,
          0.37370070208975253,
          1.2050704790602693,
          1.2050704790602693,
          0.500342868197981,
          0.37370070208975253,
          1.2050704790602693,
          1.2050704790602693,
          1.331712645168498,
          0.500342868197981,
          0.6269850343062098,
          0.500342868197981,
          1.331712645168498
         ],
         "yaxis": "y"
        },
        {
         "customdata": [
          [
           10
          ],
          [
           10
          ],
          [
           10
          ],
          [
           10
          ],
          [
           10
          ],
          [
           10
          ],
          [
           10
          ],
          [
           10
          ],
          [
           10
          ],
          [
           10
          ],
          [
           10
          ],
          [
           10
          ],
          [
           10
          ],
          [
           10
          ],
          [
           10
          ],
          [
           10
          ],
          [
           10
          ],
          [
           10
          ],
          [
           10
          ],
          [
           10
          ],
          [
           10
          ],
          [
           10
          ],
          [
           10
          ],
          [
           10
          ],
          [
           10
          ],
          [
           10
          ],
          [
           10
          ],
          [
           10
          ],
          [
           10
          ],
          [
           10
          ],
          [
           10
          ],
          [
           10
          ],
          [
           10
          ],
          [
           10
          ],
          [
           10
          ],
          [
           10
          ],
          [
           10
          ],
          [
           10
          ],
          [
           10
          ],
          [
           10
          ],
          [
           10
          ],
          [
           10
          ],
          [
           10
          ],
          [
           10
          ],
          [
           10
          ],
          [
           10
          ],
          [
           10
          ],
          [
           10
          ],
          [
           10
          ],
          [
           10
          ],
          [
           10
          ],
          [
           10
          ],
          [
           10
          ],
          [
           10
          ],
          [
           10
          ],
          [
           10
          ],
          [
           10
          ],
          [
           10
          ],
          [
           10
          ],
          [
           10
          ],
          [
           10
          ],
          [
           10
          ],
          [
           10
          ],
          [
           10
          ],
          [
           10
          ],
          [
           10
          ],
          [
           10
          ],
          [
           10
          ],
          [
           10
          ],
          [
           10
          ],
          [
           10
          ],
          [
           10
          ],
          [
           10
          ],
          [
           10
          ],
          [
           10
          ],
          [
           10
          ],
          [
           10
          ],
          [
           10
          ],
          [
           10
          ],
          [
           10
          ],
          [
           10
          ],
          [
           10
          ],
          [
           10
          ],
          [
           10
          ],
          [
           10
          ],
          [
           10
          ],
          [
           10
          ],
          [
           10
          ],
          [
           10
          ],
          [
           10
          ],
          [
           10
          ],
          [
           10
          ],
          [
           10
          ],
          [
           10
          ],
          [
           10
          ],
          [
           10
          ],
          [
           10
          ],
          [
           10
          ],
          [
           10
          ],
          [
           10
          ],
          [
           10
          ],
          [
           10
          ],
          [
           10
          ],
          [
           10
          ],
          [
           10
          ],
          [
           10
          ],
          [
           10
          ],
          [
           10
          ],
          [
           10
          ],
          [
           10
          ],
          [
           10
          ],
          [
           10
          ],
          [
           10
          ],
          [
           10
          ],
          [
           10
          ],
          [
           10
          ],
          [
           10
          ],
          [
           10
          ],
          [
           10
          ],
          [
           10
          ],
          [
           10
          ],
          [
           10
          ],
          [
           10
          ],
          [
           10
          ],
          [
           10
          ],
          [
           10
          ],
          [
           10
          ],
          [
           10
          ],
          [
           10
          ],
          [
           10
          ],
          [
           10
          ],
          [
           10
          ],
          [
           10
          ]
         ],
         "hovertemplate": "Cluster=Cluster 3<br>PCA1=%{x}<br>PCA2=%{y}<br>Feature=%{customdata[0]}<extra></extra>",
         "legendgroup": "Cluster 3",
         "marker": {
          "color": "#ab63fa",
          "opacity": 0.5,
          "symbol": "circle"
         },
         "mode": "markers",
         "name": "Cluster 3",
         "orientation": "v",
         "showlegend": true,
         "textposition": "top center",
         "type": "scatter",
         "x": [
          -0.1730857549734844,
          -0.8448721352644174,
          -1.5166585155553505,
          -0.8448721352644174,
          -0.1730857549734844,
          -1.5166585155553505,
          -0.1730857549734844,
          -0.2750010393722733,
          -0.2750010393722733,
          -0.3716385847607646,
          -0.8448721352644174,
          -0.8448721352644174,
          -1.5166585155553505,
          -0.8448721352644174,
          -0.2750010393722733,
          -0.3716385847607646,
          -1.5166585155553505,
          -0.2750010393722733,
          -1.0434249650516976,
          -0.8448721352644174,
          -0.2750010393722733,
          -0.8448721352644174,
          -0.1730857549734844,
          0.3001477955301685,
          -0.2750010393722733,
          0.6714660616350324,
          -0.2750010393722733,
          -0.8448721352644174,
          -0.8448721352644174,
          -0.8448721352644174,
          0.3001477955301685,
          -0.1730857549734844,
          -0.8448721352644174,
          -0.8448721352644174,
          -0.8448721352644174,
          -0.1730857549734844,
          -0.1730857549734844,
          0.10159496574288832,
          -0.8448721352644174,
          -1.5166585155553505,
          -0.8448721352644174,
          -0.8448721352644174,
          0.1982325111313795,
          -0.8448721352644174,
          -0.1730857549734844,
          -0.1730857549734844,
          -0.1730857549734844,
          -0.8448721352644174,
          -0.8448721352644174,
          -0.2750010393722733,
          -0.1730857549734844,
          -0.1730857549734844,
          -0.1730857549734844,
          -0.8448721352644174,
          -0.8448721352644174,
          -0.8448721352644174,
          -0.8448721352644174,
          0.1982325111313795,
          -1.5166585155553505,
          -0.1730857549734844,
          -0.8448721352644174,
          -0.8448721352644174,
          -0.8448721352644174,
          -0.8448721352644174,
          0.3001477955301685,
          -0.8448721352644174,
          -0.1730857549734844,
          -1.5166585155553505,
          -0.8448721352644174,
          -0.1730857549734844,
          -0.2750010393722733,
          0.1982325111313795,
          -0.8448721352644174,
          -0.8448721352644174,
          -0.2750010393722733,
          -0.2750010393722733,
          -1.0434249650516976,
          -0.8448721352644174,
          -0.1730857549734844,
          -0.8448721352644174,
          -0.8448721352644174,
          -0.2750010393722733,
          -0.8448721352644174,
          -0.1730857549734844,
          -0.1730857549734844,
          -0.9467874196632063,
          -0.3716385847607646,
          -0.8448721352644174,
          -0.3716385847607646,
          -0.8448721352644174,
          -0.8448721352644174,
          -0.8448721352644174,
          -0.1730857549734844,
          -0.1730857549734844,
          -0.3716385847607646,
          -0.3716385847607646,
          -0.8448721352644174,
          -0.8448721352644174,
          -1.5166585155553505,
          -0.2750010393722733,
          0.10159496574288832,
          -0.8448721352644174,
          -0.9467874196632063,
          -0.8448721352644174,
          -0.8448721352644174,
          -0.8448721352644174,
          -0.8448721352644174,
          -0.8448721352644174,
          -0.2750010393722733,
          -0.2750010393722733,
          -0.8448721352644174,
          0.1982325111313795,
          -0.1730857549734844,
          -0.1730857549734844,
          -0.1730857549734844,
          -0.3716385847607646,
          -0.8448721352644174,
          -0.3716385847607646,
          -0.8448721352644174,
          -0.1730857549734844,
          -0.47355386915955355,
          0.1982325111313795,
          -1.5166585155553505,
          -0.1730857549734844,
          -0.1730857549734844,
          -0.1730857549734844,
          -0.1730857549734844,
          -0.8448721352644174,
          -0.8448721352644174,
          0.1982325111313795,
          -1.5166585155553505,
          -0.1730857549734844,
          -1.5166585155553505
         ],
         "xaxis": "x",
         "y": [
          -0.4946574343502972,
          -0.3680152682420686,
          -0.24137310213384003,
          -0.3680152682420686,
          -0.4946574343502972,
          -0.24137310213384003,
          -0.4946574343502972,
          -0.909112353526595,
          -0.909112353526595,
          0.4633545087284481,
          -0.3680152682420686,
          -0.3680152682420686,
          -0.24137310213384003,
          -0.3680152682420686,
          -0.909112353526595,
          0.4633545087284481,
          -0.24137310213384003,
          -0.909112353526595,
          0.5899966748366766,
          -0.3680152682420686,
          -0.909112353526595,
          -0.3680152682420686,
          -0.4946574343502972,
          0.33671234262021954,
          -0.909112353526595,
          0.7536272004144383,
          -0.909112353526595,
          -0.3680152682420686,
          -0.3680152682420686,
          -0.3680152682420686,
          0.33671234262021954,
          -0.4946574343502972,
          -0.3680152682420686,
          -0.3680152682420686,
          -0.3680152682420686,
          -0.4946574343502972,
          -0.4946574343502972,
          1.2947242856989645,
          -0.3680152682420686,
          -0.24137310213384003,
          -0.3680152682420686,
          -0.3680152682420686,
          -0.07774257655607841,
          -0.3680152682420686,
          -0.4946574343502972,
          -0.4946574343502972,
          -0.4946574343502972,
          -0.3680152682420686,
          -0.3680152682420686,
          -0.909112353526595,
          -0.4946574343502972,
          -0.4946574343502972,
          -0.4946574343502972,
          -0.3680152682420686,
          -0.3680152682420686,
          -0.3680152682420686,
          -0.3680152682420686,
          -0.07774257655607841,
          -0.24137310213384003,
          -0.4946574343502972,
          -0.3680152682420686,
          -0.3680152682420686,
          -0.3680152682420686,
          -0.3680152682420686,
          0.33671234262021954,
          -0.3680152682420686,
          -0.4946574343502972,
          -0.24137310213384003,
          -0.3680152682420686,
          -0.4946574343502972,
          -0.909112353526595,
          -0.07774257655607841,
          -0.3680152682420686,
          -0.3680152682420686,
          -0.909112353526595,
          -0.909112353526595,
          0.5899966748366766,
          -0.3680152682420686,
          -0.4946574343502972,
          -0.3680152682420686,
          -0.3680152682420686,
          -0.909112353526595,
          -0.3680152682420686,
          -0.4946574343502972,
          -0.4946574343502972,
          -0.7824701874183665,
          0.4633545087284481,
          -0.3680152682420686,
          0.4633545087284481,
          -0.3680152682420686,
          -0.3680152682420686,
          -0.3680152682420686,
          -0.4946574343502972,
          -0.4946574343502972,
          0.4633545087284481,
          0.4633545087284481,
          -0.3680152682420686,
          -0.3680152682420686,
          -0.24137310213384003,
          -0.909112353526595,
          1.2947242856989645,
          -0.3680152682420686,
          -0.7824701874183665,
          -0.3680152682420686,
          -0.3680152682420686,
          -0.3680152682420686,
          -0.3680152682420686,
          -0.3680152682420686,
          -0.909112353526595,
          -0.909112353526595,
          -0.3680152682420686,
          -0.07774257655607841,
          -0.4946574343502972,
          -0.4946574343502972,
          -0.4946574343502972,
          0.4633545087284481,
          -0.3680152682420686,
          0.4633545087284481,
          -0.3680152682420686,
          -0.4946574343502972,
          0.04889958955215016,
          -0.07774257655607841,
          -0.24137310213384003,
          -0.4946574343502972,
          -0.4946574343502972,
          -0.4946574343502972,
          -0.4946574343502972,
          -0.3680152682420686,
          -0.3680152682420686,
          -0.07774257655607841,
          -0.24137310213384003,
          -0.4946574343502972,
          -0.24137310213384003
         ],
         "yaxis": "y"
        },
        {
         "customdata": [
          [
           10
          ],
          [
           10
          ],
          [
           10
          ],
          [
           10
          ],
          [
           10
          ],
          [
           10
          ],
          [
           10
          ],
          [
           10
          ],
          [
           10
          ],
          [
           10
          ],
          [
           10
          ],
          [
           10
          ],
          [
           10
          ],
          [
           10
          ],
          [
           10
          ],
          [
           10
          ],
          [
           10
          ],
          [
           10
          ],
          [
           10
          ],
          [
           10
          ],
          [
           10
          ],
          [
           10
          ],
          [
           10
          ],
          [
           10
          ],
          [
           10
          ],
          [
           10
          ],
          [
           10
          ],
          [
           10
          ],
          [
           10
          ],
          [
           10
          ],
          [
           10
          ],
          [
           10
          ],
          [
           10
          ],
          [
           10
          ],
          [
           10
          ],
          [
           10
          ],
          [
           10
          ],
          [
           10
          ],
          [
           10
          ],
          [
           10
          ],
          [
           10
          ],
          [
           10
          ],
          [
           10
          ],
          [
           10
          ],
          [
           10
          ],
          [
           10
          ],
          [
           10
          ],
          [
           10
          ],
          [
           10
          ],
          [
           10
          ],
          [
           10
          ],
          [
           10
          ],
          [
           10
          ],
          [
           10
          ],
          [
           10
          ],
          [
           10
          ],
          [
           10
          ],
          [
           10
          ],
          [
           10
          ],
          [
           10
          ],
          [
           10
          ],
          [
           10
          ],
          [
           10
          ],
          [
           10
          ],
          [
           10
          ],
          [
           10
          ],
          [
           10
          ],
          [
           10
          ],
          [
           10
          ],
          [
           10
          ],
          [
           10
          ],
          [
           10
          ],
          [
           10
          ],
          [
           10
          ],
          [
           10
          ],
          [
           10
          ],
          [
           10
          ],
          [
           10
          ],
          [
           10
          ],
          [
           10
          ],
          [
           10
          ],
          [
           10
          ]
         ],
         "hovertemplate": "Cluster=Cluster 4<br>PCA1=%{x}<br>PCA2=%{y}<br>Feature=%{customdata[0]}<extra></extra>",
         "legendgroup": "Cluster 4",
         "marker": {
          "color": "#FFA15A",
          "opacity": 0.5,
          "symbol": "circle"
         },
         "mode": "markers",
         "name": "Cluster 4",
         "orientation": "v",
         "showlegend": true,
         "textposition": "top center",
         "type": "scatter",
         "x": [
          -1.4147432311565613,
          -1.4147432311565613,
          -1.3128279467577728,
          -0.7429568508656285,
          -1.4147432311565613,
          -1.984614327048706,
          -1.984614327048706,
          -1.4147432311565613,
          -1.4147432311565613,
          -1.4147432311565613,
          -1.4147432311565613,
          -1.4147432311565613,
          -1.4147432311565613,
          -1.984614327048706,
          -1.4147432311565613,
          -1.4147432311565613,
          -1.984614327048706,
          -1.4147432311565613,
          -1.4147432311565613,
          -1.4147432311565613,
          -1.4147432311565613,
          -1.4147432311565613,
          -1.4147432311565613,
          -1.984614327048706,
          -1.3128279467577728,
          -1.4147432311565613,
          -1.984614327048706,
          -1.4147432311565613,
          -1.4147432311565613,
          -1.984614327048706,
          -1.4147432311565613,
          -0.9415096806529089,
          -1.4147432311565613,
          -1.984614327048706,
          -1.984614327048706,
          -1.4147432311565613,
          -0.7429568508656285,
          -1.984614327048706,
          -1.4147432311565613,
          -0.7429568508656285,
          -1.984614327048706,
          -1.4147432311565613,
          -1.984614327048706,
          -1.984614327048706,
          -1.4147432311565613,
          -1.4147432311565613,
          -1.4147432311565613,
          -1.984614327048706,
          -1.4147432311565613,
          -1.4147432311565613,
          -1.4147432311565613,
          -1.4147432311565613,
          -1.984614327048706,
          -1.4147432311565613,
          -1.4147432311565613,
          -1.984614327048706,
          -1.4147432311565613,
          -1.4147432311565613,
          -1.4147432311565613,
          -1.3128279467577728,
          -0.9415096806529089,
          -1.4147432311565613,
          -1.4147432311565613,
          -1.984614327048706,
          -1.984614327048706,
          -1.3128279467577728,
          -1.4147432311565613,
          -0.6410415664668396,
          -1.4147432311565613,
          -0.6410415664668396,
          -1.4147432311565613,
          -1.4147432311565613,
          -0.6410415664668396,
          -1.4147432311565613,
          -1.4147432311565613,
          -1.4147432311565613,
          -1.4147432311565613,
          -1.4147432311565613,
          -1.984614327048706,
          -1.4147432311565613,
          -1.4147432311565613,
          -1.4147432311565613
         ],
         "xaxis": "x",
         "y": [
          0.17308181704245795,
          0.17308181704245795,
          0.587536736218756,
          0.04643965093422943,
          0.17308181704245795,
          0.7141789023269848,
          0.7141789023269848,
          0.17308181704245795,
          0.17308181704245795,
          0.17308181704245795,
          0.17308181704245795,
          0.17308181704245795,
          0.17308181704245795,
          0.7141789023269848,
          0.17308181704245795,
          0.17308181704245795,
          0.7141789023269848,
          0.17308181704245795,
          0.17308181704245795,
          0.17308181704245795,
          0.17308181704245795,
          0.17308181704245795,
          0.17308181704245795,
          0.7141789023269848,
          0.587536736218756,
          0.17308181704245795,
          0.7141789023269848,
          0.17308181704245795,
          0.17308181704245795,
          0.7141789023269848,
          0.17308181704245795,
          1.0044515940129746,
          0.17308181704245795,
          0.7141789023269848,
          0.7141789023269848,
          0.17308181704245795,
          0.04643965093422943,
          0.7141789023269848,
          0.17308181704245795,
          0.04643965093422943,
          0.7141789023269848,
          0.17308181704245795,
          0.7141789023269848,
          0.7141789023269848,
          0.17308181704245795,
          0.17308181704245795,
          0.17308181704245795,
          0.7141789023269848,
          0.17308181704245795,
          0.17308181704245795,
          0.17308181704245795,
          0.17308181704245795,
          0.7141789023269848,
          0.17308181704245795,
          0.17308181704245795,
          0.7141789023269848,
          0.17308181704245795,
          0.17308181704245795,
          0.17308181704245795,
          0.587536736218756,
          1.0044515940129746,
          0.17308181704245795,
          0.17308181704245795,
          0.7141789023269848,
          0.7141789023269848,
          0.587536736218756,
          0.17308181704245795,
          0.4608945701105274,
          0.17308181704245795,
          0.4608945701105274,
          0.17308181704245795,
          0.17308181704245795,
          0.4608945701105274,
          0.17308181704245795,
          0.17308181704245795,
          0.17308181704245795,
          0.17308181704245795,
          0.17308181704245795,
          0.7141789023269848,
          0.17308181704245795,
          0.17308181704245795,
          0.17308181704245795
         ],
         "yaxis": "y"
        }
       ],
       "layout": {
        "height": 600,
        "legend": {
         "title": {
          "text": "Cluster"
         },
         "tracegroupgap": 0
        },
        "margin": {
         "t": 60
        },
        "plot_bgcolor": "rgb(240,240,240)",
        "template": {
         "data": {
          "bar": [
           {
            "error_x": {
             "color": "#2a3f5f"
            },
            "error_y": {
             "color": "#2a3f5f"
            },
            "marker": {
             "line": {
              "color": "#E5ECF6",
              "width": 0.5
             },
             "pattern": {
              "fillmode": "overlay",
              "size": 10,
              "solidity": 0.2
             }
            },
            "type": "bar"
           }
          ],
          "barpolar": [
           {
            "marker": {
             "line": {
              "color": "#E5ECF6",
              "width": 0.5
             },
             "pattern": {
              "fillmode": "overlay",
              "size": 10,
              "solidity": 0.2
             }
            },
            "type": "barpolar"
           }
          ],
          "carpet": [
           {
            "aaxis": {
             "endlinecolor": "#2a3f5f",
             "gridcolor": "white",
             "linecolor": "white",
             "minorgridcolor": "white",
             "startlinecolor": "#2a3f5f"
            },
            "baxis": {
             "endlinecolor": "#2a3f5f",
             "gridcolor": "white",
             "linecolor": "white",
             "minorgridcolor": "white",
             "startlinecolor": "#2a3f5f"
            },
            "type": "carpet"
           }
          ],
          "choropleth": [
           {
            "colorbar": {
             "outlinewidth": 0,
             "ticks": ""
            },
            "type": "choropleth"
           }
          ],
          "contour": [
           {
            "colorbar": {
             "outlinewidth": 0,
             "ticks": ""
            },
            "colorscale": [
             [
              0,
              "#0d0887"
             ],
             [
              0.1111111111111111,
              "#46039f"
             ],
             [
              0.2222222222222222,
              "#7201a8"
             ],
             [
              0.3333333333333333,
              "#9c179e"
             ],
             [
              0.4444444444444444,
              "#bd3786"
             ],
             [
              0.5555555555555556,
              "#d8576b"
             ],
             [
              0.6666666666666666,
              "#ed7953"
             ],
             [
              0.7777777777777778,
              "#fb9f3a"
             ],
             [
              0.8888888888888888,
              "#fdca26"
             ],
             [
              1,
              "#f0f921"
             ]
            ],
            "type": "contour"
           }
          ],
          "contourcarpet": [
           {
            "colorbar": {
             "outlinewidth": 0,
             "ticks": ""
            },
            "type": "contourcarpet"
           }
          ],
          "heatmap": [
           {
            "colorbar": {
             "outlinewidth": 0,
             "ticks": ""
            },
            "colorscale": [
             [
              0,
              "#0d0887"
             ],
             [
              0.1111111111111111,
              "#46039f"
             ],
             [
              0.2222222222222222,
              "#7201a8"
             ],
             [
              0.3333333333333333,
              "#9c179e"
             ],
             [
              0.4444444444444444,
              "#bd3786"
             ],
             [
              0.5555555555555556,
              "#d8576b"
             ],
             [
              0.6666666666666666,
              "#ed7953"
             ],
             [
              0.7777777777777778,
              "#fb9f3a"
             ],
             [
              0.8888888888888888,
              "#fdca26"
             ],
             [
              1,
              "#f0f921"
             ]
            ],
            "type": "heatmap"
           }
          ],
          "heatmapgl": [
           {
            "colorbar": {
             "outlinewidth": 0,
             "ticks": ""
            },
            "colorscale": [
             [
              0,
              "#0d0887"
             ],
             [
              0.1111111111111111,
              "#46039f"
             ],
             [
              0.2222222222222222,
              "#7201a8"
             ],
             [
              0.3333333333333333,
              "#9c179e"
             ],
             [
              0.4444444444444444,
              "#bd3786"
             ],
             [
              0.5555555555555556,
              "#d8576b"
             ],
             [
              0.6666666666666666,
              "#ed7953"
             ],
             [
              0.7777777777777778,
              "#fb9f3a"
             ],
             [
              0.8888888888888888,
              "#fdca26"
             ],
             [
              1,
              "#f0f921"
             ]
            ],
            "type": "heatmapgl"
           }
          ],
          "histogram": [
           {
            "marker": {
             "pattern": {
              "fillmode": "overlay",
              "size": 10,
              "solidity": 0.2
             }
            },
            "type": "histogram"
           }
          ],
          "histogram2d": [
           {
            "colorbar": {
             "outlinewidth": 0,
             "ticks": ""
            },
            "colorscale": [
             [
              0,
              "#0d0887"
             ],
             [
              0.1111111111111111,
              "#46039f"
             ],
             [
              0.2222222222222222,
              "#7201a8"
             ],
             [
              0.3333333333333333,
              "#9c179e"
             ],
             [
              0.4444444444444444,
              "#bd3786"
             ],
             [
              0.5555555555555556,
              "#d8576b"
             ],
             [
              0.6666666666666666,
              "#ed7953"
             ],
             [
              0.7777777777777778,
              "#fb9f3a"
             ],
             [
              0.8888888888888888,
              "#fdca26"
             ],
             [
              1,
              "#f0f921"
             ]
            ],
            "type": "histogram2d"
           }
          ],
          "histogram2dcontour": [
           {
            "colorbar": {
             "outlinewidth": 0,
             "ticks": ""
            },
            "colorscale": [
             [
              0,
              "#0d0887"
             ],
             [
              0.1111111111111111,
              "#46039f"
             ],
             [
              0.2222222222222222,
              "#7201a8"
             ],
             [
              0.3333333333333333,
              "#9c179e"
             ],
             [
              0.4444444444444444,
              "#bd3786"
             ],
             [
              0.5555555555555556,
              "#d8576b"
             ],
             [
              0.6666666666666666,
              "#ed7953"
             ],
             [
              0.7777777777777778,
              "#fb9f3a"
             ],
             [
              0.8888888888888888,
              "#fdca26"
             ],
             [
              1,
              "#f0f921"
             ]
            ],
            "type": "histogram2dcontour"
           }
          ],
          "mesh3d": [
           {
            "colorbar": {
             "outlinewidth": 0,
             "ticks": ""
            },
            "type": "mesh3d"
           }
          ],
          "parcoords": [
           {
            "line": {
             "colorbar": {
              "outlinewidth": 0,
              "ticks": ""
             }
            },
            "type": "parcoords"
           }
          ],
          "pie": [
           {
            "automargin": true,
            "type": "pie"
           }
          ],
          "scatter": [
           {
            "fillpattern": {
             "fillmode": "overlay",
             "size": 10,
             "solidity": 0.2
            },
            "type": "scatter"
           }
          ],
          "scatter3d": [
           {
            "line": {
             "colorbar": {
              "outlinewidth": 0,
              "ticks": ""
             }
            },
            "marker": {
             "colorbar": {
              "outlinewidth": 0,
              "ticks": ""
             }
            },
            "type": "scatter3d"
           }
          ],
          "scattercarpet": [
           {
            "marker": {
             "colorbar": {
              "outlinewidth": 0,
              "ticks": ""
             }
            },
            "type": "scattercarpet"
           }
          ],
          "scattergeo": [
           {
            "marker": {
             "colorbar": {
              "outlinewidth": 0,
              "ticks": ""
             }
            },
            "type": "scattergeo"
           }
          ],
          "scattergl": [
           {
            "marker": {
             "colorbar": {
              "outlinewidth": 0,
              "ticks": ""
             }
            },
            "type": "scattergl"
           }
          ],
          "scattermapbox": [
           {
            "marker": {
             "colorbar": {
              "outlinewidth": 0,
              "ticks": ""
             }
            },
            "type": "scattermapbox"
           }
          ],
          "scatterpolar": [
           {
            "marker": {
             "colorbar": {
              "outlinewidth": 0,
              "ticks": ""
             }
            },
            "type": "scatterpolar"
           }
          ],
          "scatterpolargl": [
           {
            "marker": {
             "colorbar": {
              "outlinewidth": 0,
              "ticks": ""
             }
            },
            "type": "scatterpolargl"
           }
          ],
          "scatterternary": [
           {
            "marker": {
             "colorbar": {
              "outlinewidth": 0,
              "ticks": ""
             }
            },
            "type": "scatterternary"
           }
          ],
          "surface": [
           {
            "colorbar": {
             "outlinewidth": 0,
             "ticks": ""
            },
            "colorscale": [
             [
              0,
              "#0d0887"
             ],
             [
              0.1111111111111111,
              "#46039f"
             ],
             [
              0.2222222222222222,
              "#7201a8"
             ],
             [
              0.3333333333333333,
              "#9c179e"
             ],
             [
              0.4444444444444444,
              "#bd3786"
             ],
             [
              0.5555555555555556,
              "#d8576b"
             ],
             [
              0.6666666666666666,
              "#ed7953"
             ],
             [
              0.7777777777777778,
              "#fb9f3a"
             ],
             [
              0.8888888888888888,
              "#fdca26"
             ],
             [
              1,
              "#f0f921"
             ]
            ],
            "type": "surface"
           }
          ],
          "table": [
           {
            "cells": {
             "fill": {
              "color": "#EBF0F8"
             },
             "line": {
              "color": "white"
             }
            },
            "header": {
             "fill": {
              "color": "#C8D4E3"
             },
             "line": {
              "color": "white"
             }
            },
            "type": "table"
           }
          ]
         },
         "layout": {
          "annotationdefaults": {
           "arrowcolor": "#2a3f5f",
           "arrowhead": 0,
           "arrowwidth": 1
          },
          "autotypenumbers": "strict",
          "coloraxis": {
           "colorbar": {
            "outlinewidth": 0,
            "ticks": ""
           }
          },
          "colorscale": {
           "diverging": [
            [
             0,
             "#8e0152"
            ],
            [
             0.1,
             "#c51b7d"
            ],
            [
             0.2,
             "#de77ae"
            ],
            [
             0.3,
             "#f1b6da"
            ],
            [
             0.4,
             "#fde0ef"
            ],
            [
             0.5,
             "#f7f7f7"
            ],
            [
             0.6,
             "#e6f5d0"
            ],
            [
             0.7,
             "#b8e186"
            ],
            [
             0.8,
             "#7fbc41"
            ],
            [
             0.9,
             "#4d9221"
            ],
            [
             1,
             "#276419"
            ]
           ],
           "sequential": [
            [
             0,
             "#0d0887"
            ],
            [
             0.1111111111111111,
             "#46039f"
            ],
            [
             0.2222222222222222,
             "#7201a8"
            ],
            [
             0.3333333333333333,
             "#9c179e"
            ],
            [
             0.4444444444444444,
             "#bd3786"
            ],
            [
             0.5555555555555556,
             "#d8576b"
            ],
            [
             0.6666666666666666,
             "#ed7953"
            ],
            [
             0.7777777777777778,
             "#fb9f3a"
            ],
            [
             0.8888888888888888,
             "#fdca26"
            ],
            [
             1,
             "#f0f921"
            ]
           ],
           "sequentialminus": [
            [
             0,
             "#0d0887"
            ],
            [
             0.1111111111111111,
             "#46039f"
            ],
            [
             0.2222222222222222,
             "#7201a8"
            ],
            [
             0.3333333333333333,
             "#9c179e"
            ],
            [
             0.4444444444444444,
             "#bd3786"
            ],
            [
             0.5555555555555556,
             "#d8576b"
            ],
            [
             0.6666666666666666,
             "#ed7953"
            ],
            [
             0.7777777777777778,
             "#fb9f3a"
            ],
            [
             0.8888888888888888,
             "#fdca26"
            ],
            [
             1,
             "#f0f921"
            ]
           ]
          },
          "colorway": [
           "#636efa",
           "#EF553B",
           "#00cc96",
           "#ab63fa",
           "#FFA15A",
           "#19d3f3",
           "#FF6692",
           "#B6E880",
           "#FF97FF",
           "#FECB52"
          ],
          "font": {
           "color": "#2a3f5f"
          },
          "geo": {
           "bgcolor": "white",
           "lakecolor": "white",
           "landcolor": "#E5ECF6",
           "showlakes": true,
           "showland": true,
           "subunitcolor": "white"
          },
          "hoverlabel": {
           "align": "left"
          },
          "hovermode": "closest",
          "mapbox": {
           "style": "light"
          },
          "paper_bgcolor": "white",
          "plot_bgcolor": "#E5ECF6",
          "polar": {
           "angularaxis": {
            "gridcolor": "white",
            "linecolor": "white",
            "ticks": ""
           },
           "bgcolor": "#E5ECF6",
           "radialaxis": {
            "gridcolor": "white",
            "linecolor": "white",
            "ticks": ""
           }
          },
          "scene": {
           "xaxis": {
            "backgroundcolor": "#E5ECF6",
            "gridcolor": "white",
            "gridwidth": 2,
            "linecolor": "white",
            "showbackground": true,
            "ticks": "",
            "zerolinecolor": "white"
           },
           "yaxis": {
            "backgroundcolor": "#E5ECF6",
            "gridcolor": "white",
            "gridwidth": 2,
            "linecolor": "white",
            "showbackground": true,
            "ticks": "",
            "zerolinecolor": "white"
           },
           "zaxis": {
            "backgroundcolor": "#E5ECF6",
            "gridcolor": "white",
            "gridwidth": 2,
            "linecolor": "white",
            "showbackground": true,
            "ticks": "",
            "zerolinecolor": "white"
           }
          },
          "shapedefaults": {
           "line": {
            "color": "#2a3f5f"
           }
          },
          "ternary": {
           "aaxis": {
            "gridcolor": "white",
            "linecolor": "white",
            "ticks": ""
           },
           "baxis": {
            "gridcolor": "white",
            "linecolor": "white",
            "ticks": ""
           },
           "bgcolor": "#E5ECF6",
           "caxis": {
            "gridcolor": "white",
            "linecolor": "white",
            "ticks": ""
           }
          },
          "title": {
           "x": 0.05
          },
          "xaxis": {
           "automargin": true,
           "gridcolor": "white",
           "linecolor": "white",
           "ticks": "",
           "title": {
            "standoff": 15
           },
           "zerolinecolor": "white",
           "zerolinewidth": 2
          },
          "yaxis": {
           "automargin": true,
           "gridcolor": "white",
           "linecolor": "white",
           "ticks": "",
           "title": {
            "standoff": 15
           },
           "zerolinecolor": "white",
           "zerolinewidth": 2
          }
         }
        },
        "title": {
         "text": "2D Cluster PCA Plot"
        },
        "xaxis": {
         "anchor": "y",
         "domain": [
          0,
          1
         ],
         "title": {
          "text": "PCA1"
         }
        },
        "yaxis": {
         "anchor": "x",
         "domain": [
          0,
          1
         ],
         "title": {
          "text": "PCA2"
         }
        }
       }
      }
     },
     "metadata": {},
     "output_type": "display_data"
    }
   ],
   "source": [
    "plot_model(model_kmeans, plot = 'cluster')"
   ]
  },
  {
   "cell_type": "code",
   "execution_count": 54,
   "metadata": {},
   "outputs": [
    {
     "data": {
      "text/html": [],
      "text/plain": [
       "<IPython.core.display.HTML object>"
      ]
     },
     "metadata": {},
     "output_type": "display_data"
    },
    {
     "data": {
      "image/png": "[encoded data removed]",
      "text/plain": [
       "<Figure size 800x550 with 1 Axes>"
      ]
     },
     "metadata": {},
     "output_type": "display_data"
    }
   ],
   "source": [
    "plot_model(model_kmeans, plot = 'silhouette')"
   ]
  },
  {
   "cell_type": "code",
   "execution_count": 55,
   "metadata": {},
   "outputs": [
    {
     "data": {
      "text/html": [],
      "text/plain": [
       "<IPython.core.display.HTML object>"
      ]
     },
     "metadata": {},
     "output_type": "display_data"
    },
    {
     "data": {
      "application/vnd.plotly.v1+json": {
       "config": {
        "plotlyServerURL": "https://plot.ly"
       },
       "data": [
        {
         "alignmentgroup": "True",
         "bingroup": "x",
         "hovertemplate": "Cluster=%{x}<br>count=%{y}<extra></extra>",
         "legendgroup": "Cluster 0",
         "marker": {
          "color": "#636efa",
          "opacity": 0.7,
          "pattern": {
           "shape": ""
          }
         },
         "name": "Cluster 0",
         "offsetgroup": "Cluster 0",
         "orientation": "v",
         "showlegend": true,
         "type": "histogram",
         "x": [
          "Cluster 0",
          "Cluster 0",
          "Cluster 0",
          "Cluster 0",
          "Cluster 0",
          "Cluster 0",
          "Cluster 0",
          "Cluster 0",
          "Cluster 0",
          "Cluster 0",
          "Cluster 0",
          "Cluster 0",
          "Cluster 0",
          "Cluster 0",
          "Cluster 0",
          "Cluster 0",
          "Cluster 0",
          "Cluster 0",
          "Cluster 0",
          "Cluster 0",
          "Cluster 0",
          "Cluster 0",
          "Cluster 0",
          "Cluster 0",
          "Cluster 0",
          "Cluster 0",
          "Cluster 0",
          "Cluster 0",
          "Cluster 0",
          "Cluster 0",
          "Cluster 0",
          "Cluster 0",
          "Cluster 0",
          "Cluster 0",
          "Cluster 0",
          "Cluster 0",
          "Cluster 0",
          "Cluster 0",
          "Cluster 0",
          "Cluster 0",
          "Cluster 0",
          "Cluster 0",
          "Cluster 0",
          "Cluster 0",
          "Cluster 0",
          "Cluster 0",
          "Cluster 0",
          "Cluster 0",
          "Cluster 0",
          "Cluster 0",
          "Cluster 0",
          "Cluster 0",
          "Cluster 0",
          "Cluster 0",
          "Cluster 0",
          "Cluster 0",
          "Cluster 0",
          "Cluster 0",
          "Cluster 0",
          "Cluster 0",
          "Cluster 0",
          "Cluster 0",
          "Cluster 0",
          "Cluster 0",
          "Cluster 0",
          "Cluster 0",
          "Cluster 0",
          "Cluster 0",
          "Cluster 0",
          "Cluster 0",
          "Cluster 0",
          "Cluster 0",
          "Cluster 0",
          "Cluster 0",
          "Cluster 0",
          "Cluster 0",
          "Cluster 0",
          "Cluster 0",
          "Cluster 0",
          "Cluster 0",
          "Cluster 0",
          "Cluster 0",
          "Cluster 0",
          "Cluster 0",
          "Cluster 0",
          "Cluster 0",
          "Cluster 0",
          "Cluster 0",
          "Cluster 0",
          "Cluster 0",
          "Cluster 0",
          "Cluster 0",
          "Cluster 0",
          "Cluster 0",
          "Cluster 0",
          "Cluster 0",
          "Cluster 0",
          "Cluster 0",
          "Cluster 0",
          "Cluster 0",
          "Cluster 0",
          "Cluster 0",
          "Cluster 0",
          "Cluster 0",
          "Cluster 0",
          "Cluster 0",
          "Cluster 0",
          "Cluster 0",
          "Cluster 0",
          "Cluster 0",
          "Cluster 0",
          "Cluster 0",
          "Cluster 0",
          "Cluster 0",
          "Cluster 0",
          "Cluster 0",
          "Cluster 0",
          "Cluster 0",
          "Cluster 0",
          "Cluster 0",
          "Cluster 0",
          "Cluster 0",
          "Cluster 0",
          "Cluster 0",
          "Cluster 0",
          "Cluster 0",
          "Cluster 0",
          "Cluster 0",
          "Cluster 0",
          "Cluster 0",
          "Cluster 0",
          "Cluster 0",
          "Cluster 0",
          "Cluster 0",
          "Cluster 0",
          "Cluster 0",
          "Cluster 0",
          "Cluster 0",
          "Cluster 0",
          "Cluster 0",
          "Cluster 0",
          "Cluster 0",
          "Cluster 0",
          "Cluster 0",
          "Cluster 0"
         ],
         "xaxis": "x",
         "yaxis": "y"
        },
        {
         "alignmentgroup": "True",
         "customdata": [
          [
           4,
           1,
           2
          ],
          [
           3,
           1,
           2
          ],
          [
           3,
           1,
           2
          ],
          [
           4,
           1,
           3
          ],
          [
           4,
           1,
           3
          ],
          [
           4,
           1,
           3
          ],
          [
           3,
           1,
           2
          ],
          [
           4,
           1,
           3
          ],
          [
           4,
           1,
           3
          ],
          [
           4,
           1,
           3
          ],
          [
           4,
           1,
           3
          ],
          [
           4,
           1,
           2
          ],
          [
           3,
           1,
           3
          ],
          [
           4,
           1,
           2
          ],
          [
           4,
           1,
           2
          ],
          [
           3,
           1,
           3
          ],
          [
           4,
           1,
           3
          ],
          [
           4,
           1,
           3
          ],
          [
           4,
           1,
           3
          ],
          [
           4,
           1,
           3
          ],
          [
           3,
           1,
           2
          ],
          [
           4,
           1,
           2
          ],
          [
           3,
           1,
           1
          ],
          [
           4,
           1,
           2
          ],
          [
           3,
           1,
           2
          ],
          [
           3,
           1,
           3
          ],
          [
           3,
           1,
           3
          ],
          [
           3,
           1,
           3
          ],
          [
           4,
           1,
           3
          ],
          [
           3,
           1,
           3
          ],
          [
           3,
           1,
           3
          ],
          [
           4,
           1,
           2
          ],
          [
           3,
           1,
           2
          ],
          [
           4,
           1,
           2
          ],
          [
           4,
           1,
           3
          ],
          [
           3,
           1,
           2
          ],
          [
           4,
           1,
           3
          ],
          [
           4,
           1,
           3
          ],
          [
           4,
           1,
           2
          ],
          [
           3,
           1,
           3
          ],
          [
           4,
           1,
           1
          ],
          [
           3,
           1,
           3
          ],
          [
           4,
           1,
           3
          ],
          [
           4,
           1,
           3
          ],
          [
           3,
           1,
           2
          ],
          [
           4,
           1,
           3
          ],
          [
           4,
           1,
           2
          ],
          [
           4,
           1,
           3
          ],
          [
           3,
           1,
           2
          ],
          [
           3,
           1,
           1
          ],
          [
           4,
           1,
           3
          ],
          [
           4,
           1,
           3
          ],
          [
           3,
           1,
           3
          ],
          [
           4,
           1,
           2
          ],
          [
           4,
           1,
           2
          ],
          [
           4,
           1,
           3
          ],
          [
           3,
           1,
           2
          ],
          [
           4,
           1,
           3
          ],
          [
           3,
           1,
           3
          ],
          [
           4,
           1,
           2
          ],
          [
           4,
           1,
           2
          ],
          [
           3,
           1,
           3
          ],
          [
           4,
           1,
           3
          ],
          [
           3,
           1,
           3
          ],
          [
           4,
           1,
           3
          ],
          [
           4,
           1,
           3
          ],
          [
           4,
           1,
           3
          ],
          [
           4,
           1,
           3
          ],
          [
           4,
           1,
           2
          ],
          [
           4,
           1,
           2
          ],
          [
           4,
           1,
           2
          ],
          [
           4,
           1,
           3
          ],
          [
           3,
           1,
           3
          ],
          [
           4,
           1,
           3
          ],
          [
           3,
           1,
           2
          ],
          [
           4,
           1,
           3
          ],
          [
           3,
           1,
           2
          ],
          [
           4,
           1,
           2
          ],
          [
           3,
           1,
           1
          ],
          [
           4,
           1,
           2
          ],
          [
           4,
           1,
           3
          ],
          [
           3,
           1,
           3
          ],
          [
           3,
           1,
           2
          ],
          [
           4,
           1,
           2
          ],
          [
           4,
           1,
           3
          ],
          [
           4,
           1,
           3
          ],
          [
           4,
           1,
           2
          ],
          [
           3,
           1,
           3
          ],
          [
           3,
           1,
           2
          ],
          [
           4,
           1,
           2
          ],
          [
           3,
           1,
           3
          ],
          [
           4,
           1,
           3
          ],
          [
           4,
           1,
           3
          ],
          [
           4,
           1,
           3
          ],
          [
           4,
           1,
           2
          ],
          [
           4,
           1,
           3
          ],
          [
           3,
           1,
           2
          ],
          [
           4,
           1,
           2
          ],
          [
           3,
           1,
           3
          ],
          [
           3,
           1,
           2
          ],
          [
           3,
           1,
           3
          ],
          [
           4,
           1,
           3
          ],
          [
           4,
           1,
           2
          ],
          [
           3,
           1,
           2
          ],
          [
           4,
           1,
           1
          ],
          [
           4,
           1,
           2
          ],
          [
           4,
           1,
           3
          ],
          [
           3,
           1,
           2
          ],
          [
           4,
           1,
           3
          ],
          [
           4,
           1,
           2
          ],
          [
           4,
           1,
           3
          ],
          [
           4,
           1,
           3
          ],
          [
           3,
           1,
           3
          ],
          [
           4,
           1,
           2
          ],
          [
           3,
           1,
           2
          ],
          [
           3,
           1,
           2
          ],
          [
           4,
           1,
           1
          ],
          [
           4,
           1,
           3
          ],
          [
           3,
           1,
           3
          ],
          [
           4,
           1,
           3
          ],
          [
           4,
           1,
           3
          ],
          [
           3,
           1,
           1
          ],
          [
           3,
           1,
           2
          ],
          [
           3,
           1,
           3
          ],
          [
           4,
           1,
           3
          ],
          [
           4,
           1,
           2
          ],
          [
           4,
           1,
           2
          ],
          [
           4,
           1,
           2
          ],
          [
           4,
           1,
           2
          ],
          [
           4,
           1,
           3
          ],
          [
           3,
           1,
           3
          ],
          [
           3,
           1,
           2
          ],
          [
           3,
           1,
           2
          ],
          [
           4,
           1,
           2
          ],
          [
           4,
           1,
           3
          ],
          [
           4,
           1,
           3
          ],
          [
           4,
           1,
           3
          ],
          [
           3,
           1,
           3
          ],
          [
           4,
           1,
           3
          ],
          [
           4,
           1,
           2
          ],
          [
           3,
           1,
           3
          ],
          [
           3,
           1,
           1
          ],
          [
           4,
           1,
           2
          ],
          [
           3,
           1,
           3
          ],
          [
           3,
           1,
           1
          ]
         ],
         "hovertemplate": "Cluster=%{x}<br>Escala R=%{customdata[0]}<br>Escala F=%{customdata[1]}<br>Escala M=%{customdata[2]}<extra></extra>",
         "legendgroup": "Cluster 0",
         "marker": {
          "color": "#636efa"
         },
         "name": "Cluster 0",
         "notched": true,
         "offsetgroup": "Cluster 0",
         "showlegend": false,
         "type": "box",
         "x": [
          "Cluster 0",
          "Cluster 0",
          "Cluster 0",
          "Cluster 0",
          "Cluster 0",
          "Cluster 0",
          "Cluster 0",
          "Cluster 0",
          "Cluster 0",
          "Cluster 0",
          "Cluster 0",
          "Cluster 0",
          "Cluster 0",
          "Cluster 0",
          "Cluster 0",
          "Cluster 0",
          "Cluster 0",
          "Cluster 0",
          "Cluster 0",
          "Cluster 0",
          "Cluster 0",
          "Cluster 0",
          "Cluster 0",
          "Cluster 0",
          "Cluster 0",
          "Cluster 0",
          "Cluster 0",
          "Cluster 0",
          "Cluster 0",
          "Cluster 0",
          "Cluster 0",
          "Cluster 0",
          "Cluster 0",
          "Cluster 0",
          "Cluster 0",
          "Cluster 0",
          "Cluster 0",
          "Cluster 0",
          "Cluster 0",
          "Cluster 0",
          "Cluster 0",
          "Cluster 0",
          "Cluster 0",
          "Cluster 0",
          "Cluster 0",
          "Cluster 0",
          "Cluster 0",
          "Cluster 0",
          "Cluster 0",
          "Cluster 0",
          "Cluster 0",
          "Cluster 0",
          "Cluster 0",
          "Cluster 0",
          "Cluster 0",
          "Cluster 0",
          "Cluster 0",
          "Cluster 0",
          "Cluster 0",
          "Cluster 0",
          "Cluster 0",
          "Cluster 0",
          "Cluster 0",
          "Cluster 0",
          "Cluster 0",
          "Cluster 0",
          "Cluster 0",
          "Cluster 0",
          "Cluster 0",
          "Cluster 0",
          "Cluster 0",
          "Cluster 0",
          "Cluster 0",
          "Cluster 0",
          "Cluster 0",
          "Cluster 0",
          "Cluster 0",
          "Cluster 0",
          "Cluster 0",
          "Cluster 0",
          "Cluster 0",
          "Cluster 0",
          "Cluster 0",
          "Cluster 0",
          "Cluster 0",
          "Cluster 0",
          "Cluster 0",
          "Cluster 0",
          "Cluster 0",
          "Cluster 0",
          "Cluster 0",
          "Cluster 0",
          "Cluster 0",
          "Cluster 0",
          "Cluster 0",
          "Cluster 0",
          "Cluster 0",
          "Cluster 0",
          "Cluster 0",
          "Cluster 0",
          "Cluster 0",
          "Cluster 0",
          "Cluster 0",
          "Cluster 0",
          "Cluster 0",
          "Cluster 0",
          "Cluster 0",
          "Cluster 0",
          "Cluster 0",
          "Cluster 0",
          "Cluster 0",
          "Cluster 0",
          "Cluster 0",
          "Cluster 0",
          "Cluster 0",
          "Cluster 0",
          "Cluster 0",
          "Cluster 0",
          "Cluster 0",
          "Cluster 0",
          "Cluster 0",
          "Cluster 0",
          "Cluster 0",
          "Cluster 0",
          "Cluster 0",
          "Cluster 0",
          "Cluster 0",
          "Cluster 0",
          "Cluster 0",
          "Cluster 0",
          "Cluster 0",
          "Cluster 0",
          "Cluster 0",
          "Cluster 0",
          "Cluster 0",
          "Cluster 0",
          "Cluster 0",
          "Cluster 0",
          "Cluster 0",
          "Cluster 0",
          "Cluster 0",
          "Cluster 0",
          "Cluster 0",
          "Cluster 0",
          "Cluster 0"
         ],
         "xaxis": "x2",
         "yaxis": "y2"
        },
        {
         "alignmentgroup": "True",
         "bingroup": "x",
         "hovertemplate": "Cluster=%{x}<br>count=%{y}<extra></extra>",
         "legendgroup": "Cluster 1",
         "marker": {
          "color": "#EF553B",
          "opacity": 0.7,
          "pattern": {
           "shape": ""
          }
         },
         "name": "Cluster 1",
         "offsetgroup": "Cluster 1",
         "orientation": "v",
         "showlegend": true,
         "type": "histogram",
         "x": [
          "Cluster 1",
          "Cluster 1",
          "Cluster 1",
          "Cluster 1",
          "Cluster 1",
          "Cluster 1",
          "Cluster 1",
          "Cluster 1",
          "Cluster 1",
          "Cluster 1",
          "Cluster 1",
          "Cluster 1",
          "Cluster 1",
          "Cluster 1",
          "Cluster 1",
          "Cluster 1",
          "Cluster 1",
          "Cluster 1",
          "Cluster 1",
          "Cluster 1",
          "Cluster 1",
          "Cluster 1",
          "Cluster 1",
          "Cluster 1",
          "Cluster 1",
          "Cluster 1",
          "Cluster 1",
          "Cluster 1",
          "Cluster 1",
          "Cluster 1",
          "Cluster 1",
          "Cluster 1",
          "Cluster 1",
          "Cluster 1",
          "Cluster 1",
          "Cluster 1",
          "Cluster 1",
          "Cluster 1",
          "Cluster 1",
          "Cluster 1",
          "Cluster 1",
          "Cluster 1",
          "Cluster 1",
          "Cluster 1",
          "Cluster 1",
          "Cluster 1",
          "Cluster 1",
          "Cluster 1",
          "Cluster 1",
          "Cluster 1",
          "Cluster 1",
          "Cluster 1",
          "Cluster 1",
          "Cluster 1",
          "Cluster 1",
          "Cluster 1",
          "Cluster 1",
          "Cluster 1",
          "Cluster 1",
          "Cluster 1",
          "Cluster 1",
          "Cluster 1",
          "Cluster 1",
          "Cluster 1",
          "Cluster 1",
          "Cluster 1"
         ],
         "xaxis": "x",
         "yaxis": "y"
        },
        {
         "alignmentgroup": "True",
         "customdata": [
          [
           4,
           4,
           5
          ],
          [
           4,
           4,
           5
          ],
          [
           4,
           3,
           5
          ],
          [
           4,
           4,
           5
          ],
          [
           4,
           3,
           5
          ],
          [
           4,
           4,
           5
          ],
          [
           4,
           4,
           5
          ],
          [
           4,
           3,
           5
          ],
          [
           4,
           3,
           5
          ],
          [
           4,
           3,
           5
          ],
          [
           4,
           4,
           5
          ],
          [
           4,
           3,
           5
          ],
          [
           4,
           4,
           5
          ],
          [
           4,
           4,
           5
          ],
          [
           4,
           3,
           5
          ],
          [
           4,
           4,
           5
          ],
          [
           4,
           4,
           5
          ],
          [
           4,
           3,
           5
          ],
          [
           4,
           4,
           5
          ],
          [
           4,
           4,
           5
          ],
          [
           4,
           4,
           5
          ],
          [
           4,
           4,
           5
          ],
          [
           4,
           3,
           5
          ],
          [
           4,
           4,
           5
          ],
          [
           4,
           3,
           5
          ],
          [
           4,
           4,
           5
          ],
          [
           4,
           4,
           5
          ],
          [
           4,
           3,
           5
          ],
          [
           4,
           4,
           5
          ],
          [
           4,
           4,
           5
          ],
          [
           4,
           3,
           5
          ],
          [
           4,
           3,
           5
          ],
          [
           4,
           3,
           5
          ],
          [
           4,
           4,
           5
          ],
          [
           4,
           4,
           5
          ],
          [
           4,
           3,
           5
          ],
          [
           4,
           4,
           5
          ],
          [
           4,
           3,
           5
          ],
          [
           4,
           4,
           5
          ],
          [
           4,
           3,
           5
          ],
          [
           4,
           3,
           5
          ],
          [
           4,
           4,
           5
          ],
          [
           4,
           4,
           5
          ],
          [
           4,
           3,
           5
          ],
          [
           4,
           4,
           5
          ],
          [
           4,
           3,
           5
          ],
          [
           4,
           3,
           5
          ],
          [
           4,
           3,
           5
          ],
          [
           4,
           3,
           5
          ],
          [
           4,
           4,
           5
          ],
          [
           4,
           3,
           5
          ],
          [
           4,
           4,
           5
          ],
          [
           4,
           4,
           5
          ],
          [
           4,
           3,
           5
          ],
          [
           4,
           4,
           5
          ],
          [
           4,
           4,
           5
          ],
          [
           4,
           4,
           5
          ],
          [
           4,
           4,
           5
          ],
          [
           4,
           3,
           5
          ],
          [
           4,
           3,
           5
          ],
          [
           4,
           3,
           5
          ],
          [
           4,
           4,
           5
          ],
          [
           4,
           3,
           5
          ],
          [
           4,
           3,
           5
          ],
          [
           4,
           4,
           5
          ],
          [
           4,
           3,
           5
          ]
         ],
         "hovertemplate": "Cluster=%{x}<br>Escala R=%{customdata[0]}<br>Escala F=%{customdata[1]}<br>Escala M=%{customdata[2]}<extra></extra>",
         "legendgroup": "Cluster 1",
         "marker": {
          "color": "#EF553B"
         },
         "name": "Cluster 1",
         "notched": true,
         "offsetgroup": "Cluster 1",
         "showlegend": false,
         "type": "box",
         "x": [
          "Cluster 1",
          "Cluster 1",
          "Cluster 1",
          "Cluster 1",
          "Cluster 1",
          "Cluster 1",
          "Cluster 1",
          "Cluster 1",
          "Cluster 1",
          "Cluster 1",
          "Cluster 1",
          "Cluster 1",
          "Cluster 1",
          "Cluster 1",
          "Cluster 1",
          "Cluster 1",
          "Cluster 1",
          "Cluster 1",
          "Cluster 1",
          "Cluster 1",
          "Cluster 1",
          "Cluster 1",
          "Cluster 1",
          "Cluster 1",
          "Cluster 1",
          "Cluster 1",
          "Cluster 1",
          "Cluster 1",
          "Cluster 1",
          "Cluster 1",
          "Cluster 1",
          "Cluster 1",
          "Cluster 1",
          "Cluster 1",
          "Cluster 1",
          "Cluster 1",
          "Cluster 1",
          "Cluster 1",
          "Cluster 1",
          "Cluster 1",
          "Cluster 1",
          "Cluster 1",
          "Cluster 1",
          "Cluster 1",
          "Cluster 1",
          "Cluster 1",
          "Cluster 1",
          "Cluster 1",
          "Cluster 1",
          "Cluster 1",
          "Cluster 1",
          "Cluster 1",
          "Cluster 1",
          "Cluster 1",
          "Cluster 1",
          "Cluster 1",
          "Cluster 1",
          "Cluster 1",
          "Cluster 1",
          "Cluster 1",
          "Cluster 1",
          "Cluster 1",
          "Cluster 1",
          "Cluster 1",
          "Cluster 1",
          "Cluster 1"
         ],
         "xaxis": "x2",
         "yaxis": "y2"
        },
        {
         "alignmentgroup": "True",
         "bingroup": "x",
         "hovertemplate": "Cluster=%{x}<br>count=%{y}<extra></extra>",
         "legendgroup": "Cluster 2",
         "marker": {
          "color": "#00cc96",
          "opacity": 0.7,
          "pattern": {
           "shape": ""
          }
         },
         "name": "Cluster 2",
         "offsetgroup": "Cluster 2",
         "orientation": "v",
         "showlegend": true,
         "type": "histogram",
         "x": [
          "Cluster 2",
          "Cluster 2",
          "Cluster 2",
          "Cluster 2",
          "Cluster 2",
          "Cluster 2",
          "Cluster 2",
          "Cluster 2",
          "Cluster 2",
          "Cluster 2",
          "Cluster 2",
          "Cluster 2",
          "Cluster 2",
          "Cluster 2",
          "Cluster 2",
          "Cluster 2",
          "Cluster 2",
          "Cluster 2",
          "Cluster 2",
          "Cluster 2",
          "Cluster 2",
          "Cluster 2",
          "Cluster 2",
          "Cluster 2",
          "Cluster 2",
          "Cluster 2",
          "Cluster 2",
          "Cluster 2",
          "Cluster 2",
          "Cluster 2",
          "Cluster 2",
          "Cluster 2",
          "Cluster 2",
          "Cluster 2",
          "Cluster 2",
          "Cluster 2",
          "Cluster 2",
          "Cluster 2",
          "Cluster 2",
          "Cluster 2",
          "Cluster 2",
          "Cluster 2",
          "Cluster 2",
          "Cluster 2",
          "Cluster 2",
          "Cluster 2",
          "Cluster 2",
          "Cluster 2",
          "Cluster 2",
          "Cluster 2",
          "Cluster 2",
          "Cluster 2",
          "Cluster 2",
          "Cluster 2",
          "Cluster 2",
          "Cluster 2",
          "Cluster 2",
          "Cluster 2",
          "Cluster 2",
          "Cluster 2",
          "Cluster 2",
          "Cluster 2",
          "Cluster 2",
          "Cluster 2",
          "Cluster 2",
          "Cluster 2",
          "Cluster 2",
          "Cluster 2",
          "Cluster 2",
          "Cluster 2",
          "Cluster 2",
          "Cluster 2",
          "Cluster 2",
          "Cluster 2",
          "Cluster 2",
          "Cluster 2",
          "Cluster 2",
          "Cluster 2",
          "Cluster 2",
          "Cluster 2",
          "Cluster 2",
          "Cluster 2",
          "Cluster 2",
          "Cluster 2",
          "Cluster 2",
          "Cluster 2",
          "Cluster 2",
          "Cluster 2",
          "Cluster 2",
          "Cluster 2",
          "Cluster 2",
          "Cluster 2",
          "Cluster 2",
          "Cluster 2",
          "Cluster 2",
          "Cluster 2",
          "Cluster 2"
         ],
         "xaxis": "x",
         "yaxis": "y"
        },
        {
         "alignmentgroup": "True",
         "customdata": [
          [
           1,
           1,
           1
          ],
          [
           1,
           1,
           3
          ],
          [
           2,
           2,
           3
          ],
          [
           1,
           1,
           1
          ],
          [
           2,
           1,
           2
          ],
          [
           2,
           1,
           2
          ],
          [
           2,
           1,
           2
          ],
          [
           1,
           1,
           2
          ],
          [
           1,
           1,
           1
          ],
          [
           2,
           1,
           3
          ],
          [
           1,
           1,
           1
          ],
          [
           2,
           1,
           3
          ],
          [
           2,
           1,
           2
          ],
          [
           2,
           1,
           2
          ],
          [
           1,
           1,
           2
          ],
          [
           1,
           1,
           3
          ],
          [
           2,
           1,
           3
          ],
          [
           2,
           1,
           1
          ],
          [
           1,
           1,
           2
          ],
          [
           1,
           1,
           3
          ],
          [
           1,
           1,
           1
          ],
          [
           1,
           1,
           3
          ],
          [
           2,
           1,
           2
          ],
          [
           2,
           1,
           3
          ],
          [
           2,
           1,
           1
          ],
          [
           1,
           1,
           2
          ],
          [
           2,
           2,
           3
          ],
          [
           2,
           1,
           3
          ],
          [
           2,
           1,
           2
          ],
          [
           1,
           1,
           1
          ],
          [
           2,
           1,
           2
          ],
          [
           2,
           1,
           2
          ],
          [
           1,
           1,
           2
          ],
          [
           2,
           1,
           3
          ],
          [
           1,
           1,
           3
          ],
          [
           1,
           1,
           3
          ],
          [
           1,
           1,
           2
          ],
          [
           2,
           1,
           3
          ],
          [
           1,
           1,
           2
          ],
          [
           2,
           1,
           3
          ],
          [
           2,
           1,
           3
          ],
          [
           1,
           1,
           2
          ],
          [
           1,
           1,
           2
          ],
          [
           1,
           1,
           2
          ],
          [
           1,
           1,
           1
          ],
          [
           2,
           1,
           2
          ],
          [
           1,
           1,
           1
          ],
          [
           2,
           1,
           1
          ],
          [
           2,
           1,
           3
          ],
          [
           2,
           1,
           1
          ],
          [
           1,
           1,
           2
          ],
          [
           1,
           1,
           2
          ],
          [
           2,
           1,
           1
          ],
          [
           2,
           1,
           1
          ],
          [
           2,
           1,
           1
          ],
          [
           1,
           1,
           1
          ],
          [
           2,
           1,
           2
          ],
          [
           2,
           1,
           3
          ],
          [
           2,
           1,
           2
          ],
          [
           2,
           1,
           2
          ],
          [
           1,
           1,
           1
          ],
          [
           2,
           2,
           2
          ],
          [
           1,
           1,
           1
          ],
          [
           2,
           1,
           2
          ],
          [
           1,
           1,
           2
          ],
          [
           2,
           2,
           2
          ],
          [
           1,
           1,
           1
          ],
          [
           2,
           1,
           3
          ],
          [
           2,
           1,
           3
          ],
          [
           1,
           1,
           2
          ],
          [
           1,
           1,
           2
          ],
          [
           1,
           1,
           1
          ],
          [
           1,
           1,
           2
          ],
          [
           1,
           1,
           2
          ],
          [
           1,
           1,
           1
          ],
          [
           1,
           1,
           2
          ],
          [
           1,
           1,
           3
          ],
          [
           2,
           1,
           2
          ],
          [
           2,
           1,
           1
          ],
          [
           2,
           1,
           3
          ],
          [
           2,
           1,
           1
          ],
          [
           2,
           1,
           3
          ],
          [
           1,
           1,
           2
          ],
          [
           1,
           1,
           3
          ],
          [
           1,
           1,
           1
          ],
          [
           2,
           1,
           1
          ],
          [
           1,
           1,
           1
          ],
          [
           1,
           1,
           1
          ],
          [
           2,
           1,
           2
          ],
          [
           2,
           1,
           1
          ],
          [
           1,
           1,
           1
          ],
          [
           1,
           1,
           1
          ],
          [
           1,
           1,
           2
          ],
          [
           2,
           1,
           2
          ],
          [
           2,
           1,
           3
          ],
          [
           2,
           1,
           2
          ],
          [
           1,
           1,
           2
          ]
         ],
         "hovertemplate": "Cluster=%{x}<br>Escala R=%{customdata[0]}<br>Escala F=%{customdata[1]}<br>Escala M=%{customdata[2]}<extra></extra>",
         "legendgroup": "Cluster 2",
         "marker": {
          "color": "#00cc96"
         },
         "name": "Cluster 2",
         "notched": true,
         "offsetgroup": "Cluster 2",
         "showlegend": false,
         "type": "box",
         "x": [
          "Cluster 2",
          "Cluster 2",
          "Cluster 2",
          "Cluster 2",
          "Cluster 2",
          "Cluster 2",
          "Cluster 2",
          "Cluster 2",
          "Cluster 2",
          "Cluster 2",
          "Cluster 2",
          "Cluster 2",
          "Cluster 2",
          "Cluster 2",
          "Cluster 2",
          "Cluster 2",
          "Cluster 2",
          "Cluster 2",
          "Cluster 2",
          "Cluster 2",
          "Cluster 2",
          "Cluster 2",
          "Cluster 2",
          "Cluster 2",
          "Cluster 2",
          "Cluster 2",
          "Cluster 2",
          "Cluster 2",
          "Cluster 2",
          "Cluster 2",
          "Cluster 2",
          "Cluster 2",
          "Cluster 2",
          "Cluster 2",
          "Cluster 2",
          "Cluster 2",
          "Cluster 2",
          "Cluster 2",
          "Cluster 2",
          "Cluster 2",
          "Cluster 2",
          "Cluster 2",
          "Cluster 2",
          "Cluster 2",
          "Cluster 2",
          "Cluster 2",
          "Cluster 2",
          "Cluster 2",
          "Cluster 2",
          "Cluster 2",
          "Cluster 2",
          "Cluster 2",
          "Cluster 2",
          "Cluster 2",
          "Cluster 2",
          "Cluster 2",
          "Cluster 2",
          "Cluster 2",
          "Cluster 2",
          "Cluster 2",
          "Cluster 2",
          "Cluster 2",
          "Cluster 2",
          "Cluster 2",
          "Cluster 2",
          "Cluster 2",
          "Cluster 2",
          "Cluster 2",
          "Cluster 2",
          "Cluster 2",
          "Cluster 2",
          "Cluster 2",
          "Cluster 2",
          "Cluster 2",
          "Cluster 2",
          "Cluster 2",
          "Cluster 2",
          "Cluster 2",
          "Cluster 2",
          "Cluster 2",
          "Cluster 2",
          "Cluster 2",
          "Cluster 2",
          "Cluster 2",
          "Cluster 2",
          "Cluster 2",
          "Cluster 2",
          "Cluster 2",
          "Cluster 2",
          "Cluster 2",
          "Cluster 2",
          "Cluster 2",
          "Cluster 2",
          "Cluster 2",
          "Cluster 2",
          "Cluster 2",
          "Cluster 2"
         ],
         "xaxis": "x2",
         "yaxis": "y2"
        },
        {
         "alignmentgroup": "True",
         "bingroup": "x",
         "hovertemplate": "Cluster=%{x}<br>count=%{y}<extra></extra>",
         "legendgroup": "Cluster 3",
         "marker": {
          "color": "#ab63fa",
          "opacity": 0.7,
          "pattern": {
           "shape": ""
          }
         },
         "name": "Cluster 3",
         "offsetgroup": "Cluster 3",
         "orientation": "v",
         "showlegend": true,
         "type": "histogram",
         "x": [
          "Cluster 3",
          "Cluster 3",
          "Cluster 3",
          "Cluster 3",
          "Cluster 3",
          "Cluster 3",
          "Cluster 3",
          "Cluster 3",
          "Cluster 3",
          "Cluster 3",
          "Cluster 3",
          "Cluster 3",
          "Cluster 3",
          "Cluster 3",
          "Cluster 3",
          "Cluster 3",
          "Cluster 3",
          "Cluster 3",
          "Cluster 3",
          "Cluster 3",
          "Cluster 3",
          "Cluster 3",
          "Cluster 3",
          "Cluster 3",
          "Cluster 3",
          "Cluster 3",
          "Cluster 3",
          "Cluster 3",
          "Cluster 3",
          "Cluster 3",
          "Cluster 3",
          "Cluster 3",
          "Cluster 3",
          "Cluster 3",
          "Cluster 3",
          "Cluster 3",
          "Cluster 3",
          "Cluster 3",
          "Cluster 3",
          "Cluster 3",
          "Cluster 3",
          "Cluster 3",
          "Cluster 3",
          "Cluster 3",
          "Cluster 3",
          "Cluster 3",
          "Cluster 3",
          "Cluster 3",
          "Cluster 3",
          "Cluster 3",
          "Cluster 3",
          "Cluster 3",
          "Cluster 3",
          "Cluster 3",
          "Cluster 3",
          "Cluster 3",
          "Cluster 3",
          "Cluster 3",
          "Cluster 3",
          "Cluster 3",
          "Cluster 3",
          "Cluster 3",
          "Cluster 3",
          "Cluster 3",
          "Cluster 3",
          "Cluster 3",
          "Cluster 3",
          "Cluster 3",
          "Cluster 3",
          "Cluster 3",
          "Cluster 3",
          "Cluster 3",
          "Cluster 3",
          "Cluster 3",
          "Cluster 3",
          "Cluster 3",
          "Cluster 3",
          "Cluster 3",
          "Cluster 3",
          "Cluster 3",
          "Cluster 3",
          "Cluster 3",
          "Cluster 3",
          "Cluster 3",
          "Cluster 3",
          "Cluster 3",
          "Cluster 3",
          "Cluster 3",
          "Cluster 3",
          "Cluster 3",
          "Cluster 3",
          "Cluster 3",
          "Cluster 3",
          "Cluster 3",
          "Cluster 3",
          "Cluster 3",
          "Cluster 3",
          "Cluster 3",
          "Cluster 3",
          "Cluster 3",
          "Cluster 3",
          "Cluster 3",
          "Cluster 3",
          "Cluster 3",
          "Cluster 3",
          "Cluster 3",
          "Cluster 3",
          "Cluster 3",
          "Cluster 3",
          "Cluster 3",
          "Cluster 3",
          "Cluster 3",
          "Cluster 3",
          "Cluster 3",
          "Cluster 3",
          "Cluster 3",
          "Cluster 3",
          "Cluster 3",
          "Cluster 3",
          "Cluster 3",
          "Cluster 3",
          "Cluster 3",
          "Cluster 3",
          "Cluster 3",
          "Cluster 3",
          "Cluster 3",
          "Cluster 3",
          "Cluster 3",
          "Cluster 3",
          "Cluster 3",
          "Cluster 3",
          "Cluster 3",
          "Cluster 3"
         ],
         "xaxis": "x",
         "yaxis": "y"
        },
        {
         "alignmentgroup": "True",
         "customdata": [
          [
           4,
           2,
           3
          ],
          [
           4,
           2,
           4
          ],
          [
           4,
           2,
           5
          ],
          [
           4,
           2,
           4
          ],
          [
           4,
           2,
           3
          ],
          [
           4,
           2,
           5
          ],
          [
           4,
           2,
           3
          ],
          [
           4,
           1,
           4
          ],
          [
           4,
           1,
           4
          ],
          [
           3,
           2,
           4
          ],
          [
           4,
           2,
           4
          ],
          [
           4,
           2,
           4
          ],
          [
           4,
           2,
           5
          ],
          [
           4,
           2,
           4
          ],
          [
           4,
           1,
           4
          ],
          [
           3,
           2,
           4
          ],
          [
           4,
           2,
           5
          ],
          [
           4,
           1,
           4
          ],
          [
           3,
           2,
           5
          ],
          [
           4,
           2,
           4
          ],
          [
           4,
           1,
           4
          ],
          [
           4,
           2,
           4
          ],
          [
           4,
           2,
           3
          ],
          [
           3,
           2,
           3
          ],
          [
           4,
           1,
           4
          ],
          [
           2,
           1,
           4
          ],
          [
           4,
           1,
           4
          ],
          [
           4,
           2,
           4
          ],
          [
           4,
           2,
           4
          ],
          [
           4,
           2,
           4
          ],
          [
           3,
           2,
           3
          ],
          [
           4,
           2,
           3
          ],
          [
           4,
           2,
           4
          ],
          [
           4,
           2,
           4
          ],
          [
           4,
           2,
           4
          ],
          [
           4,
           2,
           3
          ],
          [
           4,
           2,
           3
          ],
          [
           2,
           2,
           4
          ],
          [
           4,
           2,
           4
          ],
          [
           4,
           2,
           5
          ],
          [
           4,
           2,
           4
          ],
          [
           4,
           2,
           4
          ],
          [
           3,
           1,
           4
          ],
          [
           4,
           2,
           4
          ],
          [
           4,
           2,
           3
          ],
          [
           4,
           2,
           3
          ],
          [
           4,
           2,
           3
          ],
          [
           4,
           2,
           4
          ],
          [
           4,
           2,
           4
          ],
          [
           4,
           1,
           4
          ],
          [
           4,
           2,
           3
          ],
          [
           4,
           2,
           3
          ],
          [
           4,
           2,
           3
          ],
          [
           4,
           2,
           4
          ],
          [
           4,
           2,
           4
          ],
          [
           4,
           2,
           4
          ],
          [
           4,
           2,
           4
          ],
          [
           3,
           1,
           4
          ],
          [
           4,
           2,
           5
          ],
          [
           4,
           2,
           3
          ],
          [
           4,
           2,
           4
          ],
          [
           4,
           2,
           4
          ],
          [
           4,
           2,
           4
          ],
          [
           4,
           2,
           4
          ],
          [
           3,
           2,
           3
          ],
          [
           4,
           2,
           4
          ],
          [
           4,
           2,
           3
          ],
          [
           4,
           2,
           5
          ],
          [
           4,
           2,
           4
          ],
          [
           4,
           2,
           3
          ],
          [
           4,
           1,
           4
          ],
          [
           3,
           1,
           4
          ],
          [
           4,
           2,
           4
          ],
          [
           4,
           2,
           4
          ],
          [
           4,
           1,
           4
          ],
          [
           4,
           1,
           4
          ],
          [
           3,
           2,
           5
          ],
          [
           4,
           2,
           4
          ],
          [
           4,
           2,
           3
          ],
          [
           4,
           2,
           4
          ],
          [
           4,
           2,
           4
          ],
          [
           4,
           1,
           4
          ],
          [
           4,
           2,
           4
          ],
          [
           4,
           2,
           3
          ],
          [
           4,
           2,
           3
          ],
          [
           4,
           1,
           5
          ],
          [
           3,
           2,
           4
          ],
          [
           4,
           2,
           4
          ],
          [
           3,
           2,
           4
          ],
          [
           4,
           2,
           4
          ],
          [
           4,
           2,
           4
          ],
          [
           4,
           2,
           4
          ],
          [
           4,
           2,
           3
          ],
          [
           4,
           2,
           3
          ],
          [
           3,
           2,
           4
          ],
          [
           3,
           2,
           4
          ],
          [
           4,
           2,
           4
          ],
          [
           4,
           2,
           4
          ],
          [
           4,
           2,
           5
          ],
          [
           4,
           1,
           4
          ],
          [
           2,
           2,
           4
          ],
          [
           4,
           2,
           4
          ],
          [
           4,
           1,
           5
          ],
          [
           4,
           2,
           4
          ],
          [
           4,
           2,
           4
          ],
          [
           4,
           2,
           4
          ],
          [
           4,
           2,
           4
          ],
          [
           4,
           2,
           4
          ],
          [
           4,
           1,
           4
          ],
          [
           4,
           1,
           4
          ],
          [
           4,
           2,
           4
          ],
          [
           3,
           1,
           4
          ],
          [
           4,
           2,
           3
          ],
          [
           4,
           2,
           3
          ],
          [
           4,
           2,
           3
          ],
          [
           3,
           2,
           4
          ],
          [
           4,
           2,
           4
          ],
          [
           3,
           2,
           4
          ],
          [
           4,
           2,
           4
          ],
          [
           4,
           2,
           3
          ],
          [
           3,
           1,
           5
          ],
          [
           3,
           1,
           4
          ],
          [
           4,
           2,
           5
          ],
          [
           4,
           2,
           3
          ],
          [
           4,
           2,
           3
          ],
          [
           4,
           2,
           3
          ],
          [
           4,
           2,
           3
          ],
          [
           4,
           2,
           4
          ],
          [
           4,
           2,
           4
          ],
          [
           3,
           1,
           4
          ],
          [
           4,
           2,
           5
          ],
          [
           4,
           2,
           3
          ],
          [
           4,
           2,
           5
          ]
         ],
         "hovertemplate": "Cluster=%{x}<br>Escala R=%{customdata[0]}<br>Escala F=%{customdata[1]}<br>Escala M=%{customdata[2]}<extra></extra>",
         "legendgroup": "Cluster 3",
         "marker": {
          "color": "#ab63fa"
         },
         "name": "Cluster 3",
         "notched": true,
         "offsetgroup": "Cluster 3",
         "showlegend": false,
         "type": "box",
         "x": [
          "Cluster 3",
          "Cluster 3",
          "Cluster 3",
          "Cluster 3",
          "Cluster 3",
          "Cluster 3",
          "Cluster 3",
          "Cluster 3",
          "Cluster 3",
          "Cluster 3",
          "Cluster 3",
          "Cluster 3",
          "Cluster 3",
          "Cluster 3",
          "Cluster 3",
          "Cluster 3",
          "Cluster 3",
          "Cluster 3",
          "Cluster 3",
          "Cluster 3",
          "Cluster 3",
          "Cluster 3",
          "Cluster 3",
          "Cluster 3",
          "Cluster 3",
          "Cluster 3",
          "Cluster 3",
          "Cluster 3",
          "Cluster 3",
          "Cluster 3",
          "Cluster 3",
          "Cluster 3",
          "Cluster 3",
          "Cluster 3",
          "Cluster 3",
          "Cluster 3",
          "Cluster 3",
          "Cluster 3",
          "Cluster 3",
          "Cluster 3",
          "Cluster 3",
          "Cluster 3",
          "Cluster 3",
          "Cluster 3",
          "Cluster 3",
          "Cluster 3",
          "Cluster 3",
          "Cluster 3",
          "Cluster 3",
          "Cluster 3",
          "Cluster 3",
          "Cluster 3",
          "Cluster 3",
          "Cluster 3",
          "Cluster 3",
          "Cluster 3",
          "Cluster 3",
          "Cluster 3",
          "Cluster 3",
          "Cluster 3",
          "Cluster 3",
          "Cluster 3",
          "Cluster 3",
          "Cluster 3",
          "Cluster 3",
          "Cluster 3",
          "Cluster 3",
          "Cluster 3",
          "Cluster 3",
          "Cluster 3",
          "Cluster 3",
          "Cluster 3",
          "Cluster 3",
          "Cluster 3",
          "Cluster 3",
          "Cluster 3",
          "Cluster 3",
          "Cluster 3",
          "Cluster 3",
          "Cluster 3",
          "Cluster 3",
          "Cluster 3",
          "Cluster 3",
          "Cluster 3",
          "Cluster 3",
          "Cluster 3",
          "Cluster 3",
          "Cluster 3",
          "Cluster 3",
          "Cluster 3",
          "Cluster 3",
          "Cluster 3",
          "Cluster 3",
          "Cluster 3",
          "Cluster 3",
          "Cluster 3",
          "Cluster 3",
          "Cluster 3",
          "Cluster 3",
          "Cluster 3",
          "Cluster 3",
          "Cluster 3",
          "Cluster 3",
          "Cluster 3",
          "Cluster 3",
          "Cluster 3",
          "Cluster 3",
          "Cluster 3",
          "Cluster 3",
          "Cluster 3",
          "Cluster 3",
          "Cluster 3",
          "Cluster 3",
          "Cluster 3",
          "Cluster 3",
          "Cluster 3",
          "Cluster 3",
          "Cluster 3",
          "Cluster 3",
          "Cluster 3",
          "Cluster 3",
          "Cluster 3",
          "Cluster 3",
          "Cluster 3",
          "Cluster 3",
          "Cluster 3",
          "Cluster 3",
          "Cluster 3",
          "Cluster 3",
          "Cluster 3",
          "Cluster 3",
          "Cluster 3",
          "Cluster 3"
         ],
         "xaxis": "x2",
         "yaxis": "y2"
        },
        {
         "alignmentgroup": "True",
         "bingroup": "x",
         "hovertemplate": "Cluster=%{x}<br>count=%{y}<extra></extra>",
         "legendgroup": "Cluster 4",
         "marker": {
          "color": "#FFA15A",
          "opacity": 0.7,
          "pattern": {
           "shape": ""
          }
         },
         "name": "Cluster 4",
         "offsetgroup": "Cluster 4",
         "orientation": "v",
         "showlegend": true,
         "type": "histogram",
         "x": [
          "Cluster 4",
          "Cluster 4",
          "Cluster 4",
          "Cluster 4",
          "Cluster 4",
          "Cluster 4",
          "Cluster 4",
          "Cluster 4",
          "Cluster 4",
          "Cluster 4",
          "Cluster 4",
          "Cluster 4",
          "Cluster 4",
          "Cluster 4",
          "Cluster 4",
          "Cluster 4",
          "Cluster 4",
          "Cluster 4",
          "Cluster 4",
          "Cluster 4",
          "Cluster 4",
          "Cluster 4",
          "Cluster 4",
          "Cluster 4",
          "Cluster 4",
          "Cluster 4",
          "Cluster 4",
          "Cluster 4",
          "Cluster 4",
          "Cluster 4",
          "Cluster 4",
          "Cluster 4",
          "Cluster 4",
          "Cluster 4",
          "Cluster 4",
          "Cluster 4",
          "Cluster 4",
          "Cluster 4",
          "Cluster 4",
          "Cluster 4",
          "Cluster 4",
          "Cluster 4",
          "Cluster 4",
          "Cluster 4",
          "Cluster 4",
          "Cluster 4",
          "Cluster 4",
          "Cluster 4",
          "Cluster 4",
          "Cluster 4",
          "Cluster 4",
          "Cluster 4",
          "Cluster 4",
          "Cluster 4",
          "Cluster 4",
          "Cluster 4",
          "Cluster 4",
          "Cluster 4",
          "Cluster 4",
          "Cluster 4",
          "Cluster 4",
          "Cluster 4",
          "Cluster 4",
          "Cluster 4",
          "Cluster 4",
          "Cluster 4",
          "Cluster 4",
          "Cluster 4",
          "Cluster 4",
          "Cluster 4",
          "Cluster 4",
          "Cluster 4",
          "Cluster 4",
          "Cluster 4",
          "Cluster 4",
          "Cluster 4",
          "Cluster 4",
          "Cluster 4",
          "Cluster 4",
          "Cluster 4",
          "Cluster 4",
          "Cluster 4"
         ],
         "xaxis": "x",
         "yaxis": "y"
        },
        {
         "alignmentgroup": "True",
         "customdata": [
          [
           4,
           3,
           4
          ],
          [
           4,
           3,
           4
          ],
          [
           4,
           4,
           3
          ],
          [
           4,
           3,
           3
          ],
          [
           4,
           3,
           4
          ],
          [
           4,
           4,
           4
          ],
          [
           4,
           4,
           4
          ],
          [
           4,
           3,
           4
          ],
          [
           4,
           3,
           4
          ],
          [
           4,
           3,
           4
          ],
          [
           4,
           3,
           4
          ],
          [
           4,
           3,
           4
          ],
          [
           4,
           3,
           4
          ],
          [
           4,
           4,
           4
          ],
          [
           4,
           3,
           4
          ],
          [
           4,
           3,
           4
          ],
          [
           4,
           4,
           4
          ],
          [
           4,
           3,
           4
          ],
          [
           4,
           3,
           4
          ],
          [
           4,
           3,
           4
          ],
          [
           4,
           3,
           4
          ],
          [
           4,
           3,
           4
          ],
          [
           4,
           3,
           4
          ],
          [
           4,
           4,
           4
          ],
          [
           4,
           4,
           3
          ],
          [
           4,
           3,
           4
          ],
          [
           4,
           4,
           4
          ],
          [
           4,
           3,
           4
          ],
          [
           4,
           3,
           4
          ],
          [
           4,
           4,
           4
          ],
          [
           4,
           3,
           4
          ],
          [
           3,
           3,
           4
          ],
          [
           4,
           3,
           4
          ],
          [
           4,
           4,
           4
          ],
          [
           4,
           4,
           4
          ],
          [
           4,
           3,
           4
          ],
          [
           4,
           3,
           3
          ],
          [
           4,
           4,
           4
          ],
          [
           4,
           3,
           4
          ],
          [
           4,
           3,
           3
          ],
          [
           4,
           4,
           4
          ],
          [
           4,
           3,
           4
          ],
          [
           4,
           4,
           4
          ],
          [
           4,
           4,
           4
          ],
          [
           4,
           3,
           4
          ],
          [
           4,
           3,
           4
          ],
          [
           4,
           3,
           4
          ],
          [
           4,
           4,
           4
          ],
          [
           4,
           3,
           4
          ],
          [
           4,
           3,
           4
          ],
          [
           4,
           3,
           4
          ],
          [
           4,
           3,
           4
          ],
          [
           4,
           4,
           4
          ],
          [
           4,
           3,
           4
          ],
          [
           4,
           3,
           4
          ],
          [
           4,
           4,
           4
          ],
          [
           4,
           3,
           4
          ],
          [
           4,
           3,
           4
          ],
          [
           4,
           3,
           4
          ],
          [
           4,
           4,
           3
          ],
          [
           3,
           3,
           4
          ],
          [
           4,
           3,
           4
          ],
          [
           4,
           3,
           4
          ],
          [
           4,
           4,
           4
          ],
          [
           4,
           4,
           4
          ],
          [
           4,
           4,
           3
          ],
          [
           4,
           3,
           4
          ],
          [
           4,
           4,
           2
          ],
          [
           4,
           3,
           4
          ],
          [
           4,
           4,
           2
          ],
          [
           4,
           3,
           4
          ],
          [
           4,
           3,
           4
          ],
          [
           4,
           4,
           2
          ],
          [
           4,
           3,
           4
          ],
          [
           4,
           3,
           4
          ],
          [
           4,
           3,
           4
          ],
          [
           4,
           3,
           4
          ],
          [
           4,
           3,
           4
          ],
          [
           4,
           4,
           4
          ],
          [
           4,
           3,
           4
          ],
          [
           4,
           3,
           4
          ],
          [
           4,
           3,
           4
          ]
         ],
         "hovertemplate": "Cluster=%{x}<br>Escala R=%{customdata[0]}<br>Escala F=%{customdata[1]}<br>Escala M=%{customdata[2]}<extra></extra>",
         "legendgroup": "Cluster 4",
         "marker": {
          "color": "#FFA15A"
         },
         "name": "Cluster 4",
         "notched": true,
         "offsetgroup": "Cluster 4",
         "showlegend": false,
         "type": "box",
         "x": [
          "Cluster 4",
          "Cluster 4",
          "Cluster 4",
          "Cluster 4",
          "Cluster 4",
          "Cluster 4",
          "Cluster 4",
          "Cluster 4",
          "Cluster 4",
          "Cluster 4",
          "Cluster 4",
          "Cluster 4",
          "Cluster 4",
          "Cluster 4",
          "Cluster 4",
          "Cluster 4",
          "Cluster 4",
          "Cluster 4",
          "Cluster 4",
          "Cluster 4",
          "Cluster 4",
          "Cluster 4",
          "Cluster 4",
          "Cluster 4",
          "Cluster 4",
          "Cluster 4",
          "Cluster 4",
          "Cluster 4",
          "Cluster 4",
          "Cluster 4",
          "Cluster 4",
          "Cluster 4",
          "Cluster 4",
          "Cluster 4",
          "Cluster 4",
          "Cluster 4",
          "Cluster 4",
          "Cluster 4",
          "Cluster 4",
          "Cluster 4",
          "Cluster 4",
          "Cluster 4",
          "Cluster 4",
          "Cluster 4",
          "Cluster 4",
          "Cluster 4",
          "Cluster 4",
          "Cluster 4",
          "Cluster 4",
          "Cluster 4",
          "Cluster 4",
          "Cluster 4",
          "Cluster 4",
          "Cluster 4",
          "Cluster 4",
          "Cluster 4",
          "Cluster 4",
          "Cluster 4",
          "Cluster 4",
          "Cluster 4",
          "Cluster 4",
          "Cluster 4",
          "Cluster 4",
          "Cluster 4",
          "Cluster 4",
          "Cluster 4",
          "Cluster 4",
          "Cluster 4",
          "Cluster 4",
          "Cluster 4",
          "Cluster 4",
          "Cluster 4",
          "Cluster 4",
          "Cluster 4",
          "Cluster 4",
          "Cluster 4",
          "Cluster 4",
          "Cluster 4",
          "Cluster 4",
          "Cluster 4",
          "Cluster 4",
          "Cluster 4"
         ],
         "xaxis": "x2",
         "yaxis": "y2"
        }
       ],
       "layout": {
        "barmode": "relative",
        "height": 600,
        "legend": {
         "title": {
          "text": "Cluster"
         },
         "tracegroupgap": 0
        },
        "margin": {
         "t": 60
        },
        "template": {
         "data": {
          "bar": [
           {
            "error_x": {
             "color": "#2a3f5f"
            },
            "error_y": {
             "color": "#2a3f5f"
            },
            "marker": {
             "line": {
              "color": "#E5ECF6",
              "width": 0.5
             },
             "pattern": {
              "fillmode": "overlay",
              "size": 10,
              "solidity": 0.2
             }
            },
            "type": "bar"
           }
          ],
          "barpolar": [
           {
            "marker": {
             "line": {
              "color": "#E5ECF6",
              "width": 0.5
             },
             "pattern": {
              "fillmode": "overlay",
              "size": 10,
              "solidity": 0.2
             }
            },
            "type": "barpolar"
           }
          ],
          "carpet": [
           {
            "aaxis": {
             "endlinecolor": "#2a3f5f",
             "gridcolor": "white",
             "linecolor": "white",
             "minorgridcolor": "white",
             "startlinecolor": "#2a3f5f"
            },
            "baxis": {
             "endlinecolor": "#2a3f5f",
             "gridcolor": "white",
             "linecolor": "white",
             "minorgridcolor": "white",
             "startlinecolor": "#2a3f5f"
            },
            "type": "carpet"
           }
          ],
          "choropleth": [
           {
            "colorbar": {
             "outlinewidth": 0,
             "ticks": ""
            },
            "type": "choropleth"
           }
          ],
          "contour": [
           {
            "colorbar": {
             "outlinewidth": 0,
             "ticks": ""
            },
            "colorscale": [
             [
              0,
              "#0d0887"
             ],
             [
              0.1111111111111111,
              "#46039f"
             ],
             [
              0.2222222222222222,
              "#7201a8"
             ],
             [
              0.3333333333333333,
              "#9c179e"
             ],
             [
              0.4444444444444444,
              "#bd3786"
             ],
             [
              0.5555555555555556,
              "#d8576b"
             ],
             [
              0.6666666666666666,
              "#ed7953"
             ],
             [
              0.7777777777777778,
              "#fb9f3a"
             ],
             [
              0.8888888888888888,
              "#fdca26"
             ],
             [
              1,
              "#f0f921"
             ]
            ],
            "type": "contour"
           }
          ],
          "contourcarpet": [
           {
            "colorbar": {
             "outlinewidth": 0,
             "ticks": ""
            },
            "type": "contourcarpet"
           }
          ],
          "heatmap": [
           {
            "colorbar": {
             "outlinewidth": 0,
             "ticks": ""
            },
            "colorscale": [
             [
              0,
              "#0d0887"
             ],
             [
              0.1111111111111111,
              "#46039f"
             ],
             [
              0.2222222222222222,
              "#7201a8"
             ],
             [
              0.3333333333333333,
              "#9c179e"
             ],
             [
              0.4444444444444444,
              "#bd3786"
             ],
             [
              0.5555555555555556,
              "#d8576b"
             ],
             [
              0.6666666666666666,
              "#ed7953"
             ],
             [
              0.7777777777777778,
              "#fb9f3a"
             ],
             [
              0.8888888888888888,
              "#fdca26"
             ],
             [
              1,
              "#f0f921"
             ]
            ],
            "type": "heatmap"
           }
          ],
          "heatmapgl": [
           {
            "colorbar": {
             "outlinewidth": 0,
             "ticks": ""
            },
            "colorscale": [
             [
              0,
              "#0d0887"
             ],
             [
              0.1111111111111111,
              "#46039f"
             ],
             [
              0.2222222222222222,
              "#7201a8"
             ],
             [
              0.3333333333333333,
              "#9c179e"
             ],
             [
              0.4444444444444444,
              "#bd3786"
             ],
             [
              0.5555555555555556,
              "#d8576b"
             ],
             [
              0.6666666666666666,
              "#ed7953"
             ],
             [
              0.7777777777777778,
              "#fb9f3a"
             ],
             [
              0.8888888888888888,
              "#fdca26"
             ],
             [
              1,
              "#f0f921"
             ]
            ],
            "type": "heatmapgl"
           }
          ],
          "histogram": [
           {
            "marker": {
             "pattern": {
              "fillmode": "overlay",
              "size": 10,
              "solidity": 0.2
             }
            },
            "type": "histogram"
           }
          ],
          "histogram2d": [
           {
            "colorbar": {
             "outlinewidth": 0,
             "ticks": ""
            },
            "colorscale": [
             [
              0,
              "#0d0887"
             ],
             [
              0.1111111111111111,
              "#46039f"
             ],
             [
              0.2222222222222222,
              "#7201a8"
             ],
             [
              0.3333333333333333,
              "#9c179e"
             ],
             [
              0.4444444444444444,
              "#bd3786"
             ],
             [
              0.5555555555555556,
              "#d8576b"
             ],
             [
              0.6666666666666666,
              "#ed7953"
             ],
             [
              0.7777777777777778,
              "#fb9f3a"
             ],
             [
              0.8888888888888888,
              "#fdca26"
             ],
             [
              1,
              "#f0f921"
             ]
            ],
            "type": "histogram2d"
           }
          ],
          "histogram2dcontour": [
           {
            "colorbar": {
             "outlinewidth": 0,
             "ticks": ""
            },
            "colorscale": [
             [
              0,
              "#0d0887"
             ],
             [
              0.1111111111111111,
              "#46039f"
             ],
             [
              0.2222222222222222,
              "#7201a8"
             ],
             [
              0.3333333333333333,
              "#9c179e"
             ],
             [
              0.4444444444444444,
              "#bd3786"
             ],
             [
              0.5555555555555556,
              "#d8576b"
             ],
             [
              0.6666666666666666,
              "#ed7953"
             ],
             [
              0.7777777777777778,
              "#fb9f3a"
             ],
             [
              0.8888888888888888,
              "#fdca26"
             ],
             [
              1,
              "#f0f921"
             ]
            ],
            "type": "histogram2dcontour"
           }
          ],
          "mesh3d": [
           {
            "colorbar": {
             "outlinewidth": 0,
             "ticks": ""
            },
            "type": "mesh3d"
           }
          ],
          "parcoords": [
           {
            "line": {
             "colorbar": {
              "outlinewidth": 0,
              "ticks": ""
             }
            },
            "type": "parcoords"
           }
          ],
          "pie": [
           {
            "automargin": true,
            "type": "pie"
           }
          ],
          "scatter": [
           {
            "fillpattern": {
             "fillmode": "overlay",
             "size": 10,
             "solidity": 0.2
            },
            "type": "scatter"
           }
          ],
          "scatter3d": [
           {
            "line": {
             "colorbar": {
              "outlinewidth": 0,
              "ticks": ""
             }
            },
            "marker": {
             "colorbar": {
              "outlinewidth": 0,
              "ticks": ""
             }
            },
            "type": "scatter3d"
           }
          ],
          "scattercarpet": [
           {
            "marker": {
             "colorbar": {
              "outlinewidth": 0,
              "ticks": ""
             }
            },
            "type": "scattercarpet"
           }
          ],
          "scattergeo": [
           {
            "marker": {
             "colorbar": {
              "outlinewidth": 0,
              "ticks": ""
             }
            },
            "type": "scattergeo"
           }
          ],
          "scattergl": [
           {
            "marker": {
             "colorbar": {
              "outlinewidth": 0,
              "ticks": ""
             }
            },
            "type": "scattergl"
           }
          ],
          "scattermapbox": [
           {
            "marker": {
             "colorbar": {
              "outlinewidth": 0,
              "ticks": ""
             }
            },
            "type": "scattermapbox"
           }
          ],
          "scatterpolar": [
           {
            "marker": {
             "colorbar": {
              "outlinewidth": 0,
              "ticks": ""
             }
            },
            "type": "scatterpolar"
           }
          ],
          "scatterpolargl": [
           {
            "marker": {
             "colorbar": {
              "outlinewidth": 0,
              "ticks": ""
             }
            },
            "type": "scatterpolargl"
           }
          ],
          "scatterternary": [
           {
            "marker": {
             "colorbar": {
              "outlinewidth": 0,
              "ticks": ""
             }
            },
            "type": "scatterternary"
           }
          ],
          "surface": [
           {
            "colorbar": {
             "outlinewidth": 0,
             "ticks": ""
            },
            "colorscale": [
             [
              0,
              "#0d0887"
             ],
             [
              0.1111111111111111,
              "#46039f"
             ],
             [
              0.2222222222222222,
              "#7201a8"
             ],
             [
              0.3333333333333333,
              "#9c179e"
             ],
             [
              0.4444444444444444,
              "#bd3786"
             ],
             [
              0.5555555555555556,
              "#d8576b"
             ],
             [
              0.6666666666666666,
              "#ed7953"
             ],
             [
              0.7777777777777778,
              "#fb9f3a"
             ],
             [
              0.8888888888888888,
              "#fdca26"
             ],
             [
              1,
              "#f0f921"
             ]
            ],
            "type": "surface"
           }
          ],
          "table": [
           {
            "cells": {
             "fill": {
              "color": "#EBF0F8"
             },
             "line": {
              "color": "white"
             }
            },
            "header": {
             "fill": {
              "color": "#C8D4E3"
             },
             "line": {
              "color": "white"
             }
            },
            "type": "table"
           }
          ]
         },
         "layout": {
          "annotationdefaults": {
           "arrowcolor": "#2a3f5f",
           "arrowhead": 0,
           "arrowwidth": 1
          },
          "autotypenumbers": "strict",
          "coloraxis": {
           "colorbar": {
            "outlinewidth": 0,
            "ticks": ""
           }
          },
          "colorscale": {
           "diverging": [
            [
             0,
             "#8e0152"
            ],
            [
             0.1,
             "#c51b7d"
            ],
            [
             0.2,
             "#de77ae"
            ],
            [
             0.3,
             "#f1b6da"
            ],
            [
             0.4,
             "#fde0ef"
            ],
            [
             0.5,
             "#f7f7f7"
            ],
            [
             0.6,
             "#e6f5d0"
            ],
            [
             0.7,
             "#b8e186"
            ],
            [
             0.8,
             "#7fbc41"
            ],
            [
             0.9,
             "#4d9221"
            ],
            [
             1,
             "#276419"
            ]
           ],
           "sequential": [
            [
             0,
             "#0d0887"
            ],
            [
             0.1111111111111111,
             "#46039f"
            ],
            [
             0.2222222222222222,
             "#7201a8"
            ],
            [
             0.3333333333333333,
             "#9c179e"
            ],
            [
             0.4444444444444444,
             "#bd3786"
            ],
            [
             0.5555555555555556,
             "#d8576b"
            ],
            [
             0.6666666666666666,
             "#ed7953"
            ],
            [
             0.7777777777777778,
             "#fb9f3a"
            ],
            [
             0.8888888888888888,
             "#fdca26"
            ],
            [
             1,
             "#f0f921"
            ]
           ],
           "sequentialminus": [
            [
             0,
             "#0d0887"
            ],
            [
             0.1111111111111111,
             "#46039f"
            ],
            [
             0.2222222222222222,
             "#7201a8"
            ],
            [
             0.3333333333333333,
             "#9c179e"
            ],
            [
             0.4444444444444444,
             "#bd3786"
            ],
            [
             0.5555555555555556,
             "#d8576b"
            ],
            [
             0.6666666666666666,
             "#ed7953"
            ],
            [
             0.7777777777777778,
             "#fb9f3a"
            ],
            [
             0.8888888888888888,
             "#fdca26"
            ],
            [
             1,
             "#f0f921"
            ]
           ]
          },
          "colorway": [
           "#636efa",
           "#EF553B",
           "#00cc96",
           "#ab63fa",
           "#FFA15A",
           "#19d3f3",
           "#FF6692",
           "#B6E880",
           "#FF97FF",
           "#FECB52"
          ],
          "font": {
           "color": "#2a3f5f"
          },
          "geo": {
           "bgcolor": "white",
           "lakecolor": "white",
           "landcolor": "#E5ECF6",
           "showlakes": true,
           "showland": true,
           "subunitcolor": "white"
          },
          "hoverlabel": {
           "align": "left"
          },
          "hovermode": "closest",
          "mapbox": {
           "style": "light"
          },
          "paper_bgcolor": "white",
          "plot_bgcolor": "#E5ECF6",
          "polar": {
           "angularaxis": {
            "gridcolor": "white",
            "linecolor": "white",
            "ticks": ""
           },
           "bgcolor": "#E5ECF6",
           "radialaxis": {
            "gridcolor": "white",
            "linecolor": "white",
            "ticks": ""
           }
          },
          "scene": {
           "xaxis": {
            "backgroundcolor": "#E5ECF6",
            "gridcolor": "white",
            "gridwidth": 2,
            "linecolor": "white",
            "showbackground": true,
            "ticks": "",
            "zerolinecolor": "white"
           },
           "yaxis": {
            "backgroundcolor": "#E5ECF6",
            "gridcolor": "white",
            "gridwidth": 2,
            "linecolor": "white",
            "showbackground": true,
            "ticks": "",
            "zerolinecolor": "white"
           },
           "zaxis": {
            "backgroundcolor": "#E5ECF6",
            "gridcolor": "white",
            "gridwidth": 2,
            "linecolor": "white",
            "showbackground": true,
            "ticks": "",
            "zerolinecolor": "white"
           }
          },
          "shapedefaults": {
           "line": {
            "color": "#2a3f5f"
           }
          },
          "ternary": {
           "aaxis": {
            "gridcolor": "white",
            "linecolor": "white",
            "ticks": ""
           },
           "baxis": {
            "gridcolor": "white",
            "linecolor": "white",
            "ticks": ""
           },
           "bgcolor": "#E5ECF6",
           "caxis": {
            "gridcolor": "white",
            "linecolor": "white",
            "ticks": ""
           }
          },
          "title": {
           "x": 0.05
          },
          "xaxis": {
           "automargin": true,
           "gridcolor": "white",
           "linecolor": "white",
           "ticks": "",
           "title": {
            "standoff": 15
           },
           "zerolinecolor": "white",
           "zerolinewidth": 2
          },
          "yaxis": {
           "automargin": true,
           "gridcolor": "white",
           "linecolor": "white",
           "ticks": "",
           "title": {
            "standoff": 15
           },
           "zerolinecolor": "white",
           "zerolinewidth": 2
          }
         }
        },
        "xaxis": {
         "anchor": "y",
         "categoryarray": [
          "Cluster 0",
          "Cluster 1",
          "Cluster 2",
          "Cluster 3",
          "Cluster 4"
         ],
         "categoryorder": "array",
         "domain": [
          0,
          1
         ],
         "title": {
          "text": "Cluster"
         }
        },
        "xaxis2": {
         "anchor": "y2",
         "domain": [
          0,
          1
         ],
         "matches": "x",
         "showgrid": true,
         "showticklabels": false
        },
        "yaxis": {
         "anchor": "x",
         "domain": [
          0,
          0.7326
         ],
         "title": {
          "text": "count"
         }
        },
        "yaxis2": {
         "anchor": "x2",
         "domain": [
          0.7426,
          1
         ],
         "matches": "y2",
         "showgrid": false,
         "showline": false,
         "showticklabels": false,
         "ticks": ""
        }
       }
      }
     },
     "metadata": {},
     "output_type": "display_data"
    }
   ],
   "source": [
    "plot_model(model_kmeans, plot = 'distribution')"
   ]
  }
 ],
 "metadata": {
  "kernelspec": {
   "display_name": "Python 3.8.13 ('py38')",
   "language": "python",
   "name": "python3"
  },
  "language_info": {
   "codemirror_mode": {
    "name": "ipython",
    "version": 3
   },
   "file_extension": ".py",
   "mimetype": "text/x-python",
   "name": "python",
   "nbconvert_exporter": "python",
   "pygments_lexer": "ipython3",
   "version": "3.8.13"
  },
  "orig_nbformat": 4,
  "vscode": {
   "interpreter": {
    "hash": "d6c6a9368ffd28e969f7d90a4d7c29e7466278b3cb1a367b914bbfe92c83c635"
   }
  }
 },
 "nbformat": 4,
 "nbformat_minor": 2
}
