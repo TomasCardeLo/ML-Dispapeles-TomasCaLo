{
 "cells": [
  {
   "attachments": {},
   "cell_type": "markdown",
   "metadata": {},
   "source": [
    "##### Cargue de librerias"
   ]
  },
  {
   "cell_type": "code",
   "execution_count": 1,
   "metadata": {},
   "outputs": [],
   "source": [
    "from pycaret.clustering import *\n",
    "import pyodbc\n",
    "import pandas as pd\n",
    "import numpy as np\n",
    "import matplotlib.pyplot as plt\n",
    "import seaborn as sns\n",
    "from random import randint\n",
    "import plotly.express as px\n",
    "import plotly.figure_factory as ff\n",
    "import plotly.subplots as sp\n",
    "import plotly.graph_objs as go\n",
    "\n",
    "import warnings\n",
    "warnings.filterwarnings(\"ignore\")"
   ]
  },
  {
   "attachments": {},
   "cell_type": "markdown",
   "metadata": {},
   "source": [
    "##### Conexion al DWH de Dispapeles y carga de bds adicionales"
   ]
  },
  {
   "cell_type": "code",
   "execution_count": 2,
   "metadata": {},
   "outputs": [],
   "source": [
    "def df_clustering(consulta_SQL):\n",
    "    ## Conexion al DWH\n",
    "    cnxn = pyodbc.connect(\n",
    "        driver='{SQL Server}',\n",
    "        server='192.168.100.58',\n",
    "        uid='bilectura',\n",
    "        pwd='D1sp@p3l3s')\n",
    "    cursor = cnxn.cursor()\n",
    "    \n",
    "    #Cargue de la data desde el ERP de Dispapeles y se guarda en df\n",
    "    cursor.execute(consulta_SQL)\n",
    "    rows = cursor.fetchall()\n",
    "    \n",
    "    df = pd.DataFrame.from_records(rows, columns=[col[0] for col in cursor.description])\n",
    "\n",
    "    return df"
   ]
  },
  {
   "attachments": {},
   "cell_type": "markdown",
   "metadata": {},
   "source": [
    "##### Funcion EDA"
   ]
  },
  {
   "cell_type": "code",
   "execution_count": 3,
   "metadata": {},
   "outputs": [],
   "source": [
    "# def histograma(bd):\n",
    "#     fig, ax = plt.subplots(1, 3, figsize= (15,5))\n",
    "#     sns.hist(bd[\"Escala R\"], ax= ax[0], color= \"blue\", fill= True)\n",
    "#     sns.hist(bd[\"Escala F\"], ax= ax[1], color= \"red\", fill= True)\n",
    "#     sns.hist(bd[\"Escala M\"], ax= ax[2], color= \"yellow\", fill= True)\n",
    "#     fig.suptitle(\"Distribuciones del modelo RFM\")\n",
    "#     plt.show()\n",
    "\n",
    "def histograma(bd):\n",
    "    hist_data = [bd[\"Escala R\"], bd[\"Escala F\"], bd[\"Escala M\"]]\n",
    "    group_labels = [\"Escala R\", \"Escala F\", \"Escala M\"]\n",
    "    fig = sp.make_subplots(rows=1, cols=3)\n",
    "    \n",
    "    for i in range(3):\n",
    "        fig.add_trace(go.Histogram(x=hist_data[i], showlegend=False, histfunc=\"avg\"), row=1, col=i+1)\n",
    "    fig.update_layout(\n",
    "        title=\"Histogramas de Escala R, Escala F y Escala M\",\n",
    "        xaxis=dict(title=\"Valor\"),\n",
    "        yaxis=dict(title=\"Frecuencia\"),\n",
    "        showlegend=False\n",
    "    )\n",
    "    fig.show()\n",
    "\n",
    "# def scatter(bd):\n",
    "#     fig, ax = plt.subplots(1, 1, figsize= (8,5))\n",
    "#     sns.scatterplot(x= \"Escala R\", size= \"Escala F\", y= \"Escala M\", data= bd)\n",
    "#     fig.suptitle(\"Scatter del modelo RFM\")\n",
    "#     plt.show()\n",
    "\n",
    "def scatter(bd):\n",
    "    fig = px.scatter(bd, x= \"Escala R\", y= \"Escala F\", color= \"Escala M\")\n",
    "    fig.show()\n",
    "\n",
    "# def matrix(bd, col):\n",
    "#     corr_matrix = bd[col].corr()\n",
    "#     fig, ax = plt.subplots(figsize=(8, 6))\n",
    "#     sns.heatmap(corr_matrix, annot=True, cmap=\"coolwarm\", vmin=-1, vmax=1, ax=ax)\n",
    "#     plt.title(\"Matriz de correlación\")\n",
    "#     plt.show()\n",
    "\n",
    "def matrix(bd, col):\n",
    "    corr_matrix = bd[col].corr()\n",
    "    fig = px.imshow(corr_matrix, text_auto=True)\n",
    "    fig.show()\n",
    "    \n",
    "def EDA(bd):\n",
    "    bd = bd.reset_index()\n",
    "    print(f\"Esta base de datos tiene {len(bd)} registros,\")\n",
    "    print(f\"hace parte del distrito {bd['Codigo distrito'][0]}\")\n",
    "    print(f\"y el tipo de zona es {bd['Nombre tipo zona'][0]}\")\n",
    "    \n",
    "    print(\" \")\n",
    "    print(\"Describe de la base de datos\")\n",
    "    describe = bd.describe().applymap(\"{:,.0f}\".format)\n",
    "    print(describe[[\"Escala R\", \"Escala F\", \"Escala M\"]][1:])\n",
    "    \n",
    "    print(\" \")\n",
    "    \n",
    "    histograma(bd)\n",
    "    scatter(bd)\n",
    "    matrix(bd, [\"Escala R\", \"Escala F\", \"Escala M\"])"
   ]
  },
  {
   "attachments": {},
   "cell_type": "markdown",
   "metadata": {},
   "source": [
    "##### Funciones estandarizacion"
   ]
  },
  {
   "cell_type": "code",
   "execution_count": 4,
   "metadata": {},
   "outputs": [],
   "source": [
    "# Crear una función para asignar etiquetas basadas en percentiles\n",
    "def asignar_escala_R(valor, escalas_R= [24, 21, 15, 8, 0]):\n",
    "    if valor >= escalas_R[0]:\n",
    "        return 5\n",
    "    elif valor >= escalas_R[1]:\n",
    "        return 4\n",
    "    elif valor >= escalas_R[2]:\n",
    "        return 3\n",
    "    elif valor >= escalas_R[3]:\n",
    "        return 2\n",
    "    else:\n",
    "        return 1\n",
    "    \n",
    "def asignar_escala_F(valor, escalas_F= [24, 21, 15, 8, 0]):\n",
    "    if valor >= escalas_F[0]:\n",
    "        return 5\n",
    "    elif valor >= escalas_F[1]:\n",
    "        return 4\n",
    "    elif valor >= escalas_F[2]:\n",
    "        return 3\n",
    "    elif valor >= escalas_F[3]:\n",
    "        return 2\n",
    "    else:\n",
    "        return 1\n",
    "    \n",
    "def asignar_escala_M(valor):\n",
    "    if valor <= escalas_M[1]:\n",
    "        return 1\n",
    "    elif valor <= escalas_M[2]:\n",
    "        return 2\n",
    "    elif valor <= escalas_M[3]:\n",
    "        return 3\n",
    "    elif valor <= escalas_M[4]:\n",
    "        return 4\n",
    "    else:\n",
    "        return 5\n",
    "    "
   ]
  },
  {
   "attachments": {},
   "cell_type": "markdown",
   "metadata": {},
   "source": [
    "##### Carga de la base de datos"
   ]
  },
  {
   "cell_type": "code",
   "execution_count": 5,
   "metadata": {},
   "outputs": [],
   "source": [
    "# Consulta SQL para descargar la informacion a usar\n",
    "codigo_SQL = \"SELECT A.DSTCOD AS 'Codigo distrito', B.VNDZNA AS 'Codigo zona actual', CONCAT(CONCAT(A.VTANIT,'-'),A.VTASUC) AS 'Nit cliente-sucursal', A.VTAANO AS 'Ano', A.VTAMES AS 'Mes', (((2021 - MAX(A.VTAANO)) * 12 ) + (0 - MAX(A.VTAMES))) * -1 AS 'Recency', SUM(A.VTAVLRVTA) AS 'Monetary', COUNT( DISTINCT A.VTAMES) AS 'Frequency' FROM V_VTA_VTAHEC A LEFT JOIN\tDIM_CLIENTES B ON A.PRMCOD = B.PRMCOD AND A.DSTCOD = B.DSTCOD AND A.VTANIT = B.CLTNIT AND A.VTASUC = B.CLTSUC WHERE A.PRMCOD = 1 AND A.DSTCOD NOT IN (30,35) AND A.VTAZNA < 96 AND A.VTAFCH BETWEEN '2021-01-01' AND '2022-12-31' GROUP BY A.DSTCOD, B.VNDZNA, CONCAT(CONCAT(A.VTANIT,'-'),A.VTASUC), A.VTAANO, A.VTAMES HAVING SUM(A.VTAVLRVTA) > 0\"\n",
    "\n",
    "# Consulta adicional para establecer el tipo de zona\n",
    "maestra_zonas = pd.read_csv('C:/Users/tcardenas/OneDrive/OneDrive - Grupo DISPAPELES/Documents/Análisis clustering/Maestra_zonas.csv', delimiter= \";\")"
   ]
  },
  {
   "cell_type": "code",
   "execution_count": 6,
   "metadata": {},
   "outputs": [],
   "source": [
    "df = df_clustering(codigo_SQL)"
   ]
  },
  {
   "attachments": {},
   "cell_type": "markdown",
   "metadata": {},
   "source": [
    "##### Tranformaciones"
   ]
  },
  {
   "cell_type": "code",
   "execution_count": 7,
   "metadata": {},
   "outputs": [],
   "source": [
    "# Conversion de tipo de la columna Monetary\n",
    "df[\"Monetary\"] = df[\"Monetary\"].astype(int)\n",
    "\n",
    "# Join con la maestra de zonas para determinar el tipo de zona\n",
    "df_2 = pd.merge(df, maestra_zonas, on= [\"Codigo distrito\", \"Codigo zona actual\"])\n",
    "\n",
    "# Filtro de la informacion para excluir zonas no relevantes\n",
    "list_filter = ['Artes graficas', 'TIG', 'V Horeca', 'Institucional', 'V SyE',\n",
    "                'V Industria', 'Mayorista']\n",
    "df = df_2[df_2[\"Nombre tipo zona\"].isin(list_filter)]\n",
    "\n",
    "# DF final agregada por tipo de zona\n",
    "df_3 = df.groupby([\"Codigo distrito\", \"Nombre tipo zona\", \"Nit cliente-sucursal\"]).agg({\"Recency\": np.max,\n",
    "                                                                            \"Monetary\": np.sum,\n",
    "                                                                            \"Frequency\": np.sum\n",
    "                                                                            })\n",
    "df_3 = df_3.reset_index(col_level= 1)"
   ]
  },
  {
   "cell_type": "code",
   "execution_count": 8,
   "metadata": {},
   "outputs": [
    {
     "data": {
      "text/html": [
       "<div>\n",
       "<style scoped>\n",
       "    .dataframe tbody tr th:only-of-type {\n",
       "        vertical-align: middle;\n",
       "    }\n",
       "\n",
       "    .dataframe tbody tr th {\n",
       "        vertical-align: top;\n",
       "    }\n",
       "\n",
       "    .dataframe thead th {\n",
       "        text-align: right;\n",
       "    }\n",
       "</style>\n",
       "<table border=\"1\" class=\"dataframe\">\n",
       "  <thead>\n",
       "    <tr style=\"text-align: right;\">\n",
       "      <th></th>\n",
       "      <th>Codigo distrito</th>\n",
       "      <th>Nombre tipo zona</th>\n",
       "      <th>Nit cliente-sucursal</th>\n",
       "      <th>Distrito-Nombretipozona</th>\n",
       "      <th>Escala R</th>\n",
       "      <th>Escala F</th>\n",
       "      <th>Escala M</th>\n",
       "    </tr>\n",
       "  </thead>\n",
       "  <tbody>\n",
       "    <tr>\n",
       "      <th>0</th>\n",
       "      <td>10</td>\n",
       "      <td>Artes graficas</td>\n",
       "      <td>1010197660-1</td>\n",
       "      <td>10-Artes graficas</td>\n",
       "      <td>2</td>\n",
       "      <td>1</td>\n",
       "      <td>2</td>\n",
       "    </tr>\n",
       "    <tr>\n",
       "      <th>1</th>\n",
       "      <td>10</td>\n",
       "      <td>Artes graficas</td>\n",
       "      <td>1010208977-1</td>\n",
       "      <td>10-Artes graficas</td>\n",
       "      <td>1</td>\n",
       "      <td>1</td>\n",
       "      <td>2</td>\n",
       "    </tr>\n",
       "    <tr>\n",
       "      <th>2</th>\n",
       "      <td>10</td>\n",
       "      <td>Artes graficas</td>\n",
       "      <td>1012348815-1</td>\n",
       "      <td>10-Artes graficas</td>\n",
       "      <td>1</td>\n",
       "      <td>1</td>\n",
       "      <td>1</td>\n",
       "    </tr>\n",
       "    <tr>\n",
       "      <th>3</th>\n",
       "      <td>10</td>\n",
       "      <td>Artes graficas</td>\n",
       "      <td>1013637504-1</td>\n",
       "      <td>10-Artes graficas</td>\n",
       "      <td>1</td>\n",
       "      <td>1</td>\n",
       "      <td>1</td>\n",
       "    </tr>\n",
       "    <tr>\n",
       "      <th>4</th>\n",
       "      <td>10</td>\n",
       "      <td>Artes graficas</td>\n",
       "      <td>1013642113-1</td>\n",
       "      <td>10-Artes graficas</td>\n",
       "      <td>5</td>\n",
       "      <td>1</td>\n",
       "      <td>3</td>\n",
       "    </tr>\n",
       "    <tr>\n",
       "      <th>...</th>\n",
       "      <td>...</td>\n",
       "      <td>...</td>\n",
       "      <td>...</td>\n",
       "      <td>...</td>\n",
       "      <td>...</td>\n",
       "      <td>...</td>\n",
       "      <td>...</td>\n",
       "    </tr>\n",
       "    <tr>\n",
       "      <th>14387</th>\n",
       "      <td>90</td>\n",
       "      <td>Mayorista</td>\n",
       "      <td>93300278-1</td>\n",
       "      <td>90-Mayorista</td>\n",
       "      <td>3</td>\n",
       "      <td>1</td>\n",
       "      <td>2</td>\n",
       "    </tr>\n",
       "    <tr>\n",
       "      <th>14388</th>\n",
       "      <td>90</td>\n",
       "      <td>Mayorista</td>\n",
       "      <td>93370623-1</td>\n",
       "      <td>90-Mayorista</td>\n",
       "      <td>5</td>\n",
       "      <td>4</td>\n",
       "      <td>3</td>\n",
       "    </tr>\n",
       "    <tr>\n",
       "      <th>14389</th>\n",
       "      <td>90</td>\n",
       "      <td>Mayorista</td>\n",
       "      <td>93386132-1</td>\n",
       "      <td>90-Mayorista</td>\n",
       "      <td>4</td>\n",
       "      <td>3</td>\n",
       "      <td>5</td>\n",
       "    </tr>\n",
       "    <tr>\n",
       "      <th>14390</th>\n",
       "      <td>90</td>\n",
       "      <td>Mayorista</td>\n",
       "      <td>93414007-1</td>\n",
       "      <td>90-Mayorista</td>\n",
       "      <td>5</td>\n",
       "      <td>3</td>\n",
       "      <td>3</td>\n",
       "    </tr>\n",
       "    <tr>\n",
       "      <th>14391</th>\n",
       "      <td>90</td>\n",
       "      <td>Mayorista</td>\n",
       "      <td>93437671-1</td>\n",
       "      <td>90-Mayorista</td>\n",
       "      <td>1</td>\n",
       "      <td>1</td>\n",
       "      <td>2</td>\n",
       "    </tr>\n",
       "  </tbody>\n",
       "</table>\n",
       "<p>14392 rows × 7 columns</p>\n",
       "</div>"
      ],
      "text/plain": [
       "       Codigo distrito Nombre tipo zona Nit cliente-sucursal  \\\n",
       "0                   10   Artes graficas         1010197660-1   \n",
       "1                   10   Artes graficas         1010208977-1   \n",
       "2                   10   Artes graficas         1012348815-1   \n",
       "3                   10   Artes graficas         1013637504-1   \n",
       "4                   10   Artes graficas         1013642113-1   \n",
       "...                ...              ...                  ...   \n",
       "14387               90        Mayorista           93300278-1   \n",
       "14388               90        Mayorista           93370623-1   \n",
       "14389               90        Mayorista           93386132-1   \n",
       "14390               90        Mayorista           93414007-1   \n",
       "14391               90        Mayorista           93437671-1   \n",
       "\n",
       "      Distrito-Nombretipozona  Escala R  Escala F  Escala M  \n",
       "0           10-Artes graficas         2         1         2  \n",
       "1           10-Artes graficas         1         1         2  \n",
       "2           10-Artes graficas         1         1         1  \n",
       "3           10-Artes graficas         1         1         1  \n",
       "4           10-Artes graficas         5         1         3  \n",
       "...                       ...       ...       ...       ...  \n",
       "14387            90-Mayorista         3         1         2  \n",
       "14388            90-Mayorista         5         4         3  \n",
       "14389            90-Mayorista         4         3         5  \n",
       "14390            90-Mayorista         5         3         3  \n",
       "14391            90-Mayorista         1         1         2  \n",
       "\n",
       "[14392 rows x 7 columns]"
      ]
     },
     "execution_count": 8,
     "metadata": {},
     "output_type": "execute_result"
    }
   ],
   "source": [
    "# Se añade una key de Distrito-Nombretipozona para hacer mas facil la identificacion cuando se usa todo el pais\n",
    "df_3['Distrito-Nombretipozona'] = df_3['Codigo distrito'].astype(str) + '-' + df_3['Nombre tipo zona']\n",
    "\n",
    "# Aplicar la función para asignar etiquetas a una nueva columna \"Etiqueta\"\n",
    "escalas_M = np.percentile(df_3[\"Monetary\"].values, [0, 20, 50, 80, 95, 100])\n",
    "\n",
    "df_est = df_3\n",
    "df_est[\"Escala R\"] = df_3[\"Recency\"].apply(asignar_escala_R, escalas_R= [24, 21, 15, 8, 0])\n",
    "df_est[\"Escala F\"] = df_3[\"Frequency\"].apply(asignar_escala_F, escalas_F= [24, 21, 15, 8, 0])\n",
    "df_est[\"Escala M\"] = df_3[\"Monetary\"].apply(asignar_escala_M)\n",
    "df_est = df_est.drop([\"Recency\", \"Frequency\", \"Monetary\"], axis=1)\n",
    "df_est"
   ]
  },
  {
   "attachments": {},
   "cell_type": "markdown",
   "metadata": {},
   "source": [
    "##### Creacion, ajuste y descarga de los modelos de clustering por cada distrito-tipo de zona"
   ]
  },
  {
   "cell_type": "code",
   "execution_count": 9,
   "metadata": {},
   "outputs": [],
   "source": [
    "list_dtos = df_est[\"Distrito-Nombretipozona\"].unique()\n",
    "numeric_features = [\"Escala R\", \"Escala F\", \"Escala M\"]\n",
    "ignore_columns = [\"Codigo distrito\", \"Nombre tipo zona\", \"Nit cliente-sucursal\", \"Distrito-Nombretipozona\"]"
   ]
  },
  {
   "attachments": {},
   "cell_type": "markdown",
   "metadata": {},
   "source": [
    "#### EDA"
   ]
  },
  {
   "cell_type": "code",
   "execution_count": 10,
   "metadata": {},
   "outputs": [],
   "source": [
    "df_EDA = df_est[df_est[\"Distrito-Nombretipozona\"] == '10-Artes graficas']"
   ]
  },
  {
   "cell_type": "code",
   "execution_count": 11,
   "metadata": {},
   "outputs": [
    {
     "name": "stdout",
     "output_type": "stream",
     "text": [
      "Esta base de datos tiene 523 registros,\n",
      "hace parte del distrito 10\n",
      "y el tipo de zona es Artes graficas\n",
      " \n",
      "Describe de la base de datos\n",
      "     Escala R Escala F Escala M\n",
      "mean        4        2        3\n",
      "std         1        1        1\n",
      "min         1        1        1\n",
      "25%         3        1        2\n",
      "50%         4        1        3\n",
      "75%         5        3        4\n",
      "max         5        5        5\n",
      " \n"
     ]
    },
    {
     "data": {
      "application/vnd.plotly.v1+json": {
       "config": {
        "plotlyServerURL": "https://plot.ly"
       },
       "data": [
        {
         "histfunc": "avg",
         "showlegend": false,
         "type": "histogram",
         "x": [
          2,
          1,
          1,
          1,
          5,
          1,
          1,
          3,
          4,
          1,
          5,
          5,
          5,
          4,
          3,
          5,
          3,
          4,
          4,
          4,
          1,
          3,
          5,
          4,
          3,
          2,
          5,
          4,
          5,
          5,
          3,
          3,
          1,
          4,
          4,
          5,
          4,
          2,
          2,
          5,
          4,
          2,
          1,
          2,
          3,
          2,
          3,
          4,
          3,
          5,
          5,
          4,
          4,
          2,
          5,
          2,
          5,
          5,
          5,
          3,
          4,
          5,
          4,
          4,
          4,
          3,
          1,
          3,
          4,
          5,
          5,
          1,
          3,
          4,
          4,
          5,
          1,
          5,
          4,
          3,
          3,
          5,
          4,
          5,
          5,
          5,
          5,
          5,
          4,
          3,
          5,
          5,
          5,
          5,
          3,
          5,
          4,
          4,
          5,
          5,
          5,
          5,
          5,
          3,
          4,
          5,
          4,
          5,
          5,
          4,
          5,
          1,
          4,
          5,
          3,
          4,
          5,
          5,
          5,
          4,
          4,
          4,
          5,
          5,
          5,
          5,
          5,
          3,
          1,
          1,
          4,
          2,
          1,
          2,
          3,
          5,
          4,
          5,
          2,
          2,
          5,
          5,
          5,
          5,
          3,
          4,
          4,
          4,
          5,
          3,
          5,
          4,
          5,
          5,
          5,
          4,
          4,
          5,
          4,
          4,
          4,
          3,
          4,
          5,
          4,
          5,
          3,
          2,
          5,
          5,
          4,
          2,
          5,
          5,
          5,
          4,
          4,
          5,
          2,
          5,
          3,
          5,
          5,
          3,
          4,
          5,
          4,
          1,
          4,
          4,
          5,
          5,
          5,
          4,
          5,
          1,
          3,
          3,
          4,
          1,
          1,
          5,
          5,
          4,
          5,
          2,
          4,
          2,
          3,
          5,
          5,
          3,
          2,
          4,
          5,
          5,
          3,
          4,
          4,
          4,
          3,
          4,
          5,
          5,
          2,
          5,
          4,
          5,
          3,
          5,
          3,
          4,
          4,
          4,
          5,
          4,
          2,
          5,
          5,
          5,
          5,
          5,
          5,
          5,
          5,
          5,
          5,
          5,
          5,
          3,
          4,
          5,
          5,
          5,
          1,
          5,
          2,
          5,
          5,
          5,
          3,
          5,
          4,
          4,
          4,
          5,
          4,
          4,
          5,
          5,
          4,
          5,
          4,
          3,
          4,
          5,
          4,
          5,
          2,
          5,
          5,
          3,
          2,
          2,
          4,
          5,
          5,
          3,
          5,
          4,
          5,
          1,
          5,
          4,
          5,
          4,
          4,
          5,
          5,
          5,
          3,
          1,
          1,
          5,
          4,
          2,
          4,
          5,
          4,
          3,
          2,
          3,
          4,
          5,
          1,
          4,
          5,
          5,
          4,
          1,
          5,
          3,
          4,
          3,
          4,
          5,
          3,
          5,
          4,
          4,
          2,
          4,
          5,
          5,
          4,
          5,
          5,
          3,
          4,
          5,
          4,
          4,
          1,
          5,
          5,
          2,
          2,
          5,
          3,
          5,
          4,
          4,
          1,
          5,
          5,
          4,
          5,
          5,
          5,
          5,
          5,
          2,
          4,
          4,
          1,
          4,
          1,
          2,
          2,
          3,
          5,
          4,
          5,
          5,
          4,
          4,
          3,
          5,
          5,
          4,
          1,
          2,
          3,
          2,
          5,
          2,
          4,
          5,
          4,
          4,
          4,
          1,
          4,
          5,
          3,
          5,
          4,
          3,
          4,
          5,
          4,
          5,
          2,
          5,
          2,
          1,
          5,
          3,
          4,
          1,
          1,
          5,
          5,
          1,
          2,
          1,
          1,
          4,
          5,
          5,
          1,
          4,
          5,
          2,
          3,
          2,
          5,
          2,
          2,
          4,
          4,
          3,
          3,
          4,
          5,
          5,
          1,
          3,
          3,
          5,
          3,
          4,
          4,
          5,
          3,
          5,
          5,
          3,
          5,
          4,
          4,
          4,
          5,
          3,
          3,
          5,
          3,
          1,
          1,
          3,
          5,
          3,
          4,
          2,
          5,
          5,
          5,
          4,
          5,
          5,
          5,
          5,
          5,
          5,
          3,
          2,
          5,
          3,
          1,
          4,
          1,
          4,
          4,
          1,
          3,
          1,
          1,
          2,
          5,
          5,
          2,
          4,
          3,
          5,
          2,
          4,
          5,
          2,
          2,
          2,
          4,
          4,
          3,
          5,
          5,
          5,
          5,
          4,
          3,
          4,
          4,
          3,
          2,
          1,
          4,
          4,
          5,
          5,
          3,
          4,
          3,
          4,
          4
         ],
         "xaxis": "x",
         "yaxis": "y"
        },
        {
         "histfunc": "avg",
         "showlegend": false,
         "type": "histogram",
         "x": [
          1,
          1,
          1,
          1,
          1,
          1,
          1,
          1,
          1,
          1,
          2,
          2,
          2,
          1,
          1,
          2,
          1,
          1,
          3,
          1,
          1,
          1,
          4,
          2,
          1,
          1,
          2,
          1,
          3,
          1,
          1,
          1,
          1,
          1,
          2,
          2,
          3,
          1,
          1,
          1,
          1,
          1,
          1,
          2,
          1,
          1,
          2,
          1,
          1,
          2,
          1,
          1,
          2,
          1,
          3,
          1,
          4,
          1,
          2,
          1,
          2,
          2,
          1,
          1,
          1,
          2,
          1,
          1,
          1,
          2,
          5,
          1,
          1,
          2,
          1,
          4,
          1,
          4,
          1,
          3,
          1,
          2,
          2,
          3,
          5,
          2,
          2,
          2,
          2,
          2,
          3,
          2,
          5,
          3,
          1,
          3,
          2,
          2,
          2,
          3,
          3,
          3,
          5,
          1,
          3,
          4,
          3,
          4,
          4,
          1,
          1,
          1,
          1,
          3,
          1,
          2,
          4,
          3,
          3,
          2,
          1,
          1,
          4,
          4,
          4,
          3,
          3,
          2,
          1,
          1,
          1,
          1,
          1,
          1,
          1,
          2,
          3,
          4,
          1,
          1,
          2,
          3,
          4,
          4,
          2,
          1,
          2,
          3,
          1,
          1,
          3,
          2,
          1,
          3,
          4,
          3,
          2,
          5,
          1,
          4,
          3,
          1,
          1,
          3,
          3,
          2,
          1,
          1,
          1,
          2,
          2,
          1,
          1,
          3,
          4,
          2,
          1,
          1,
          1,
          2,
          1,
          3,
          3,
          1,
          1,
          4,
          2,
          1,
          1,
          3,
          1,
          1,
          3,
          1,
          4,
          1,
          1,
          1,
          1,
          1,
          1,
          5,
          2,
          3,
          2,
          1,
          2,
          1,
          1,
          2,
          2,
          1,
          1,
          3,
          3,
          2,
          1,
          1,
          1,
          1,
          1,
          1,
          1,
          5,
          2,
          3,
          3,
          5,
          2,
          3,
          1,
          2,
          1,
          1,
          3,
          2,
          2,
          5,
          3,
          1,
          4,
          3,
          5,
          3,
          2,
          4,
          3,
          5,
          4,
          1,
          2,
          3,
          4,
          3,
          1,
          2,
          1,
          3,
          2,
          2,
          2,
          1,
          3,
          3,
          2,
          2,
          3,
          4,
          1,
          2,
          2,
          3,
          3,
          1,
          2,
          4,
          2,
          2,
          1,
          5,
          5,
          1,
          1,
          1,
          4,
          5,
          3,
          1,
          3,
          3,
          3,
          1,
          2,
          1,
          4,
          2,
          4,
          4,
          4,
          1,
          2,
          1,
          1,
          3,
          4,
          1,
          1,
          3,
          3,
          1,
          1,
          1,
          1,
          2,
          1,
          1,
          2,
          1,
          3,
          1,
          2,
          1,
          1,
          2,
          1,
          3,
          2,
          3,
          1,
          2,
          1,
          2,
          2,
          3,
          3,
          5,
          1,
          2,
          1,
          5,
          3,
          2,
          1,
          1,
          4,
          1,
          1,
          2,
          1,
          3,
          1,
          4,
          1,
          2,
          1,
          1,
          1,
          5,
          3,
          4,
          1,
          1,
          2,
          1,
          1,
          3,
          1,
          1,
          1,
          1,
          3,
          1,
          3,
          2,
          2,
          2,
          2,
          3,
          3,
          3,
          1,
          1,
          3,
          1,
          4,
          1,
          1,
          2,
          1,
          1,
          2,
          1,
          1,
          3,
          1,
          4,
          2,
          1,
          1,
          3,
          1,
          1,
          1,
          5,
          1,
          1,
          1,
          1,
          2,
          1,
          1,
          3,
          1,
          1,
          1,
          1,
          1,
          1,
          5,
          3,
          1,
          1,
          3,
          1,
          1,
          1,
          3,
          2,
          1,
          2,
          2,
          2,
          1,
          1,
          1,
          1,
          1,
          1,
          1,
          4,
          1,
          1,
          3,
          5,
          1,
          2,
          4,
          1,
          4,
          1,
          2,
          2,
          3,
          1,
          1,
          1,
          1,
          1,
          1,
          1,
          2,
          1,
          1,
          1,
          1,
          3,
          1,
          1,
          2,
          2,
          1,
          1,
          3,
          5,
          1,
          1,
          2,
          1,
          1,
          1,
          1,
          3,
          2,
          1,
          1,
          1,
          1,
          1,
          2,
          1,
          2,
          1,
          1,
          2,
          1,
          1,
          1,
          1,
          2,
          1,
          1,
          2,
          1,
          2,
          2,
          4,
          3,
          3,
          1,
          1,
          1,
          1,
          1,
          1,
          1,
          1,
          1,
          2,
          1,
          1,
          1,
          1,
          1
         ],
         "xaxis": "x2",
         "yaxis": "y2"
        },
        {
         "histfunc": "avg",
         "showlegend": false,
         "type": "histogram",
         "x": [
          2,
          2,
          1,
          1,
          3,
          3,
          1,
          3,
          2,
          1,
          3,
          3,
          3,
          3,
          2,
          4,
          2,
          2,
          4,
          3,
          2,
          3,
          4,
          5,
          3,
          2,
          3,
          3,
          4,
          1,
          2,
          2,
          2,
          3,
          4,
          4,
          4,
          1,
          2,
          2,
          1,
          2,
          1,
          2,
          2,
          3,
          3,
          3,
          2,
          4,
          2,
          4,
          3,
          3,
          5,
          3,
          5,
          4,
          3,
          2,
          3,
          4,
          3,
          3,
          2,
          3,
          2,
          3,
          2,
          4,
          5,
          1,
          2,
          4,
          2,
          3,
          3,
          5,
          2,
          4,
          3,
          3,
          5,
          5,
          5,
          4,
          4,
          3,
          4,
          3,
          4,
          3,
          5,
          4,
          3,
          5,
          3,
          5,
          4,
          4,
          5,
          4,
          5,
          3,
          4,
          4,
          5,
          5,
          5,
          2,
          4,
          2,
          2,
          4,
          2,
          5,
          4,
          5,
          4,
          4,
          3,
          2,
          5,
          5,
          5,
          5,
          5,
          4,
          2,
          1,
          4,
          2,
          1,
          4,
          2,
          4,
          4,
          4,
          2,
          1,
          4,
          5,
          5,
          4,
          5,
          3,
          5,
          4,
          3,
          2,
          5,
          3,
          3,
          4,
          5,
          4,
          4,
          5,
          3,
          4,
          4,
          4,
          2,
          5,
          4,
          4,
          3,
          1,
          2,
          3,
          3,
          3,
          4,
          4,
          4,
          4,
          3,
          3,
          3,
          3,
          3,
          5,
          5,
          3,
          3,
          5,
          5,
          2,
          3,
          3,
          3,
          3,
          3,
          2,
          5,
          2,
          4,
          3,
          3,
          1,
          2,
          5,
          4,
          4,
          4,
          2,
          4,
          1,
          2,
          4,
          3,
          1,
          3,
          5,
          4,
          4,
          3,
          3,
          2,
          3,
          2,
          4,
          3,
          5,
          4,
          5,
          4,
          5,
          5,
          5,
          2,
          4,
          3,
          3,
          3,
          4,
          2,
          4,
          4,
          2,
          4,
          4,
          5,
          5,
          3,
          5,
          4,
          5,
          5,
          2,
          4,
          4,
          3,
          4,
          1,
          4,
          2,
          4,
          4,
          3,
          4,
          2,
          5,
          4,
          4,
          4,
          5,
          5,
          2,
          3,
          5,
          4,
          4,
          5,
          3,
          5,
          3,
          4,
          2,
          5,
          5,
          4,
          3,
          2,
          5,
          5,
          5,
          3,
          4,
          5,
          4,
          3,
          4,
          3,
          3,
          3,
          5,
          5,
          4,
          3,
          4,
          2,
          1,
          4,
          4,
          3,
          2,
          4,
          4,
          3,
          2,
          1,
          3,
          4,
          3,
          5,
          4,
          2,
          4,
          1,
          5,
          3,
          3,
          4,
          2,
          4,
          4,
          4,
          2,
          3,
          1,
          4,
          4,
          5,
          4,
          2,
          3,
          4,
          5,
          2,
          4,
          4,
          2,
          4,
          5,
          1,
          1,
          3,
          2,
          4,
          4,
          4,
          2,
          4,
          3,
          2,
          2,
          4,
          5,
          5,
          3,
          3,
          5,
          3,
          1,
          5,
          3,
          2,
          2,
          3,
          4,
          2,
          5,
          3,
          4,
          3,
          4,
          5,
          5,
          5,
          2,
          1,
          4,
          2,
          4,
          2,
          3,
          4,
          3,
          3,
          4,
          2,
          4,
          5,
          2,
          5,
          4,
          2,
          3,
          4,
          4,
          4,
          1,
          4,
          2,
          1,
          2,
          3,
          3,
          2,
          2,
          4,
          2,
          2,
          3,
          2,
          1,
          3,
          4,
          4,
          3,
          3,
          4,
          1,
          2,
          2,
          5,
          3,
          2,
          4,
          5,
          4,
          3,
          3,
          4,
          4,
          1,
          3,
          3,
          5,
          2,
          2,
          4,
          2,
          4,
          4,
          3,
          1,
          4,
          1,
          4,
          4,
          4,
          2,
          4,
          3,
          2,
          3,
          2,
          3,
          4,
          1,
          3,
          3,
          3,
          5,
          3,
          2,
          5,
          4,
          3,
          3,
          4,
          4,
          2,
          3,
          3,
          3,
          1,
          2,
          1,
          4,
          3,
          2,
          3,
          3,
          2,
          3,
          4,
          3,
          3,
          3,
          3,
          3,
          3,
          3,
          2,
          3,
          4,
          1,
          2,
          4,
          3,
          4,
          4,
          4,
          4,
          4,
          4,
          3,
          2,
          1,
          3,
          1,
          2,
          3,
          3,
          4,
          1,
          2,
          3,
          4,
          4
         ],
         "xaxis": "x3",
         "yaxis": "y3"
        }
       ],
       "layout": {
        "showlegend": false,
        "template": {
         "data": {
          "bar": [
           {
            "error_x": {
             "color": "#2a3f5f"
            },
            "error_y": {
             "color": "#2a3f5f"
            },
            "marker": {
             "line": {
              "color": "#E5ECF6",
              "width": 0.5
             },
             "pattern": {
              "fillmode": "overlay",
              "size": 10,
              "solidity": 0.2
             }
            },
            "type": "bar"
           }
          ],
          "barpolar": [
           {
            "marker": {
             "line": {
              "color": "#E5ECF6",
              "width": 0.5
             },
             "pattern": {
              "fillmode": "overlay",
              "size": 10,
              "solidity": 0.2
             }
            },
            "type": "barpolar"
           }
          ],
          "carpet": [
           {
            "aaxis": {
             "endlinecolor": "#2a3f5f",
             "gridcolor": "white",
             "linecolor": "white",
             "minorgridcolor": "white",
             "startlinecolor": "#2a3f5f"
            },
            "baxis": {
             "endlinecolor": "#2a3f5f",
             "gridcolor": "white",
             "linecolor": "white",
             "minorgridcolor": "white",
             "startlinecolor": "#2a3f5f"
            },
            "type": "carpet"
           }
          ],
          "choropleth": [
           {
            "colorbar": {
             "outlinewidth": 0,
             "ticks": ""
            },
            "type": "choropleth"
           }
          ],
          "contour": [
           {
            "colorbar": {
             "outlinewidth": 0,
             "ticks": ""
            },
            "colorscale": [
             [
              0,
              "#0d0887"
             ],
             [
              0.1111111111111111,
              "#46039f"
             ],
             [
              0.2222222222222222,
              "#7201a8"
             ],
             [
              0.3333333333333333,
              "#9c179e"
             ],
             [
              0.4444444444444444,
              "#bd3786"
             ],
             [
              0.5555555555555556,
              "#d8576b"
             ],
             [
              0.6666666666666666,
              "#ed7953"
             ],
             [
              0.7777777777777778,
              "#fb9f3a"
             ],
             [
              0.8888888888888888,
              "#fdca26"
             ],
             [
              1,
              "#f0f921"
             ]
            ],
            "type": "contour"
           }
          ],
          "contourcarpet": [
           {
            "colorbar": {
             "outlinewidth": 0,
             "ticks": ""
            },
            "type": "contourcarpet"
           }
          ],
          "heatmap": [
           {
            "colorbar": {
             "outlinewidth": 0,
             "ticks": ""
            },
            "colorscale": [
             [
              0,
              "#0d0887"
             ],
             [
              0.1111111111111111,
              "#46039f"
             ],
             [
              0.2222222222222222,
              "#7201a8"
             ],
             [
              0.3333333333333333,
              "#9c179e"
             ],
             [
              0.4444444444444444,
              "#bd3786"
             ],
             [
              0.5555555555555556,
              "#d8576b"
             ],
             [
              0.6666666666666666,
              "#ed7953"
             ],
             [
              0.7777777777777778,
              "#fb9f3a"
             ],
             [
              0.8888888888888888,
              "#fdca26"
             ],
             [
              1,
              "#f0f921"
             ]
            ],
            "type": "heatmap"
           }
          ],
          "heatmapgl": [
           {
            "colorbar": {
             "outlinewidth": 0,
             "ticks": ""
            },
            "colorscale": [
             [
              0,
              "#0d0887"
             ],
             [
              0.1111111111111111,
              "#46039f"
             ],
             [
              0.2222222222222222,
              "#7201a8"
             ],
             [
              0.3333333333333333,
              "#9c179e"
             ],
             [
              0.4444444444444444,
              "#bd3786"
             ],
             [
              0.5555555555555556,
              "#d8576b"
             ],
             [
              0.6666666666666666,
              "#ed7953"
             ],
             [
              0.7777777777777778,
              "#fb9f3a"
             ],
             [
              0.8888888888888888,
              "#fdca26"
             ],
             [
              1,
              "#f0f921"
             ]
            ],
            "type": "heatmapgl"
           }
          ],
          "histogram": [
           {
            "marker": {
             "pattern": {
              "fillmode": "overlay",
              "size": 10,
              "solidity": 0.2
             }
            },
            "type": "histogram"
           }
          ],
          "histogram2d": [
           {
            "colorbar": {
             "outlinewidth": 0,
             "ticks": ""
            },
            "colorscale": [
             [
              0,
              "#0d0887"
             ],
             [
              0.1111111111111111,
              "#46039f"
             ],
             [
              0.2222222222222222,
              "#7201a8"
             ],
             [
              0.3333333333333333,
              "#9c179e"
             ],
             [
              0.4444444444444444,
              "#bd3786"
             ],
             [
              0.5555555555555556,
              "#d8576b"
             ],
             [
              0.6666666666666666,
              "#ed7953"
             ],
             [
              0.7777777777777778,
              "#fb9f3a"
             ],
             [
              0.8888888888888888,
              "#fdca26"
             ],
             [
              1,
              "#f0f921"
             ]
            ],
            "type": "histogram2d"
           }
          ],
          "histogram2dcontour": [
           {
            "colorbar": {
             "outlinewidth": 0,
             "ticks": ""
            },
            "colorscale": [
             [
              0,
              "#0d0887"
             ],
             [
              0.1111111111111111,
              "#46039f"
             ],
             [
              0.2222222222222222,
              "#7201a8"
             ],
             [
              0.3333333333333333,
              "#9c179e"
             ],
             [
              0.4444444444444444,
              "#bd3786"
             ],
             [
              0.5555555555555556,
              "#d8576b"
             ],
             [
              0.6666666666666666,
              "#ed7953"
             ],
             [
              0.7777777777777778,
              "#fb9f3a"
             ],
             [
              0.8888888888888888,
              "#fdca26"
             ],
             [
              1,
              "#f0f921"
             ]
            ],
            "type": "histogram2dcontour"
           }
          ],
          "mesh3d": [
           {
            "colorbar": {
             "outlinewidth": 0,
             "ticks": ""
            },
            "type": "mesh3d"
           }
          ],
          "parcoords": [
           {
            "line": {
             "colorbar": {
              "outlinewidth": 0,
              "ticks": ""
             }
            },
            "type": "parcoords"
           }
          ],
          "pie": [
           {
            "automargin": true,
            "type": "pie"
           }
          ],
          "scatter": [
           {
            "fillpattern": {
             "fillmode": "overlay",
             "size": 10,
             "solidity": 0.2
            },
            "type": "scatter"
           }
          ],
          "scatter3d": [
           {
            "line": {
             "colorbar": {
              "outlinewidth": 0,
              "ticks": ""
             }
            },
            "marker": {
             "colorbar": {
              "outlinewidth": 0,
              "ticks": ""
             }
            },
            "type": "scatter3d"
           }
          ],
          "scattercarpet": [
           {
            "marker": {
             "colorbar": {
              "outlinewidth": 0,
              "ticks": ""
             }
            },
            "type": "scattercarpet"
           }
          ],
          "scattergeo": [
           {
            "marker": {
             "colorbar": {
              "outlinewidth": 0,
              "ticks": ""
             }
            },
            "type": "scattergeo"
           }
          ],
          "scattergl": [
           {
            "marker": {
             "colorbar": {
              "outlinewidth": 0,
              "ticks": ""
             }
            },
            "type": "scattergl"
           }
          ],
          "scattermapbox": [
           {
            "marker": {
             "colorbar": {
              "outlinewidth": 0,
              "ticks": ""
             }
            },
            "type": "scattermapbox"
           }
          ],
          "scatterpolar": [
           {
            "marker": {
             "colorbar": {
              "outlinewidth": 0,
              "ticks": ""
             }
            },
            "type": "scatterpolar"
           }
          ],
          "scatterpolargl": [
           {
            "marker": {
             "colorbar": {
              "outlinewidth": 0,
              "ticks": ""
             }
            },
            "type": "scatterpolargl"
           }
          ],
          "scatterternary": [
           {
            "marker": {
             "colorbar": {
              "outlinewidth": 0,
              "ticks": ""
             }
            },
            "type": "scatterternary"
           }
          ],
          "surface": [
           {
            "colorbar": {
             "outlinewidth": 0,
             "ticks": ""
            },
            "colorscale": [
             [
              0,
              "#0d0887"
             ],
             [
              0.1111111111111111,
              "#46039f"
             ],
             [
              0.2222222222222222,
              "#7201a8"
             ],
             [
              0.3333333333333333,
              "#9c179e"
             ],
             [
              0.4444444444444444,
              "#bd3786"
             ],
             [
              0.5555555555555556,
              "#d8576b"
             ],
             [
              0.6666666666666666,
              "#ed7953"
             ],
             [
              0.7777777777777778,
              "#fb9f3a"
             ],
             [
              0.8888888888888888,
              "#fdca26"
             ],
             [
              1,
              "#f0f921"
             ]
            ],
            "type": "surface"
           }
          ],
          "table": [
           {
            "cells": {
             "fill": {
              "color": "#EBF0F8"
             },
             "line": {
              "color": "white"
             }
            },
            "header": {
             "fill": {
              "color": "#C8D4E3"
             },
             "line": {
              "color": "white"
             }
            },
            "type": "table"
           }
          ]
         },
         "layout": {
          "annotationdefaults": {
           "arrowcolor": "#2a3f5f",
           "arrowhead": 0,
           "arrowwidth": 1
          },
          "autotypenumbers": "strict",
          "coloraxis": {
           "colorbar": {
            "outlinewidth": 0,
            "ticks": ""
           }
          },
          "colorscale": {
           "diverging": [
            [
             0,
             "#8e0152"
            ],
            [
             0.1,
             "#c51b7d"
            ],
            [
             0.2,
             "#de77ae"
            ],
            [
             0.3,
             "#f1b6da"
            ],
            [
             0.4,
             "#fde0ef"
            ],
            [
             0.5,
             "#f7f7f7"
            ],
            [
             0.6,
             "#e6f5d0"
            ],
            [
             0.7,
             "#b8e186"
            ],
            [
             0.8,
             "#7fbc41"
            ],
            [
             0.9,
             "#4d9221"
            ],
            [
             1,
             "#276419"
            ]
           ],
           "sequential": [
            [
             0,
             "#0d0887"
            ],
            [
             0.1111111111111111,
             "#46039f"
            ],
            [
             0.2222222222222222,
             "#7201a8"
            ],
            [
             0.3333333333333333,
             "#9c179e"
            ],
            [
             0.4444444444444444,
             "#bd3786"
            ],
            [
             0.5555555555555556,
             "#d8576b"
            ],
            [
             0.6666666666666666,
             "#ed7953"
            ],
            [
             0.7777777777777778,
             "#fb9f3a"
            ],
            [
             0.8888888888888888,
             "#fdca26"
            ],
            [
             1,
             "#f0f921"
            ]
           ],
           "sequentialminus": [
            [
             0,
             "#0d0887"
            ],
            [
             0.1111111111111111,
             "#46039f"
            ],
            [
             0.2222222222222222,
             "#7201a8"
            ],
            [
             0.3333333333333333,
             "#9c179e"
            ],
            [
             0.4444444444444444,
             "#bd3786"
            ],
            [
             0.5555555555555556,
             "#d8576b"
            ],
            [
             0.6666666666666666,
             "#ed7953"
            ],
            [
             0.7777777777777778,
             "#fb9f3a"
            ],
            [
             0.8888888888888888,
             "#fdca26"
            ],
            [
             1,
             "#f0f921"
            ]
           ]
          },
          "colorway": [
           "#636efa",
           "#EF553B",
           "#00cc96",
           "#ab63fa",
           "#FFA15A",
           "#19d3f3",
           "#FF6692",
           "#B6E880",
           "#FF97FF",
           "#FECB52"
          ],
          "font": {
           "color": "#2a3f5f"
          },
          "geo": {
           "bgcolor": "white",
           "lakecolor": "white",
           "landcolor": "#E5ECF6",
           "showlakes": true,
           "showland": true,
           "subunitcolor": "white"
          },
          "hoverlabel": {
           "align": "left"
          },
          "hovermode": "closest",
          "mapbox": {
           "style": "light"
          },
          "paper_bgcolor": "white",
          "plot_bgcolor": "#E5ECF6",
          "polar": {
           "angularaxis": {
            "gridcolor": "white",
            "linecolor": "white",
            "ticks": ""
           },
           "bgcolor": "#E5ECF6",
           "radialaxis": {
            "gridcolor": "white",
            "linecolor": "white",
            "ticks": ""
           }
          },
          "scene": {
           "xaxis": {
            "backgroundcolor": "#E5ECF6",
            "gridcolor": "white",
            "gridwidth": 2,
            "linecolor": "white",
            "showbackground": true,
            "ticks": "",
            "zerolinecolor": "white"
           },
           "yaxis": {
            "backgroundcolor": "#E5ECF6",
            "gridcolor": "white",
            "gridwidth": 2,
            "linecolor": "white",
            "showbackground": true,
            "ticks": "",
            "zerolinecolor": "white"
           },
           "zaxis": {
            "backgroundcolor": "#E5ECF6",
            "gridcolor": "white",
            "gridwidth": 2,
            "linecolor": "white",
            "showbackground": true,
            "ticks": "",
            "zerolinecolor": "white"
           }
          },
          "shapedefaults": {
           "line": {
            "color": "#2a3f5f"
           }
          },
          "ternary": {
           "aaxis": {
            "gridcolor": "white",
            "linecolor": "white",
            "ticks": ""
           },
           "baxis": {
            "gridcolor": "white",
            "linecolor": "white",
            "ticks": ""
           },
           "bgcolor": "#E5ECF6",
           "caxis": {
            "gridcolor": "white",
            "linecolor": "white",
            "ticks": ""
           }
          },
          "title": {
           "x": 0.05
          },
          "xaxis": {
           "automargin": true,
           "gridcolor": "white",
           "linecolor": "white",
           "ticks": "",
           "title": {
            "standoff": 15
           },
           "zerolinecolor": "white",
           "zerolinewidth": 2
          },
          "yaxis": {
           "automargin": true,
           "gridcolor": "white",
           "linecolor": "white",
           "ticks": "",
           "title": {
            "standoff": 15
           },
           "zerolinecolor": "white",
           "zerolinewidth": 2
          }
         }
        },
        "title": {
         "text": "Histogramas de Escala R, Escala F y Escala M"
        },
        "xaxis": {
         "anchor": "y",
         "domain": [
          0,
          0.2888888888888889
         ],
         "title": {
          "text": "Valor"
         }
        },
        "xaxis2": {
         "anchor": "y2",
         "domain": [
          0.35555555555555557,
          0.6444444444444445
         ]
        },
        "xaxis3": {
         "anchor": "y3",
         "domain": [
          0.7111111111111111,
          1
         ]
        },
        "yaxis": {
         "anchor": "x",
         "domain": [
          0,
          1
         ],
         "title": {
          "text": "Frecuencia"
         }
        },
        "yaxis2": {
         "anchor": "x2",
         "domain": [
          0,
          1
         ]
        },
        "yaxis3": {
         "anchor": "x3",
         "domain": [
          0,
          1
         ]
        }
       }
      }
     },
     "metadata": {},
     "output_type": "display_data"
    },
    {
     "data": {
      "application/vnd.plotly.v1+json": {
       "config": {
        "plotlyServerURL": "https://plot.ly"
       },
       "data": [
        {
         "hovertemplate": "Escala R=%{x}<br>Escala F=%{y}<br>Escala M=%{marker.color}<extra></extra>",
         "legendgroup": "",
         "marker": {
          "color": [
           2,
           2,
           1,
           1,
           3,
           3,
           1,
           3,
           2,
           1,
           3,
           3,
           3,
           3,
           2,
           4,
           2,
           2,
           4,
           3,
           2,
           3,
           4,
           5,
           3,
           2,
           3,
           3,
           4,
           1,
           2,
           2,
           2,
           3,
           4,
           4,
           4,
           1,
           2,
           2,
           1,
           2,
           1,
           2,
           2,
           3,
           3,
           3,
           2,
           4,
           2,
           4,
           3,
           3,
           5,
           3,
           5,
           4,
           3,
           2,
           3,
           4,
           3,
           3,
           2,
           3,
           2,
           3,
           2,
           4,
           5,
           1,
           2,
           4,
           2,
           3,
           3,
           5,
           2,
           4,
           3,
           3,
           5,
           5,
           5,
           4,
           4,
           3,
           4,
           3,
           4,
           3,
           5,
           4,
           3,
           5,
           3,
           5,
           4,
           4,
           5,
           4,
           5,
           3,
           4,
           4,
           5,
           5,
           5,
           2,
           4,
           2,
           2,
           4,
           2,
           5,
           4,
           5,
           4,
           4,
           3,
           2,
           5,
           5,
           5,
           5,
           5,
           4,
           2,
           1,
           4,
           2,
           1,
           4,
           2,
           4,
           4,
           4,
           2,
           1,
           4,
           5,
           5,
           4,
           5,
           3,
           5,
           4,
           3,
           2,
           5,
           3,
           3,
           4,
           5,
           4,
           4,
           5,
           3,
           4,
           4,
           4,
           2,
           5,
           4,
           4,
           3,
           1,
           2,
           3,
           3,
           3,
           4,
           4,
           4,
           4,
           3,
           3,
           3,
           3,
           3,
           5,
           5,
           3,
           3,
           5,
           5,
           2,
           3,
           3,
           3,
           3,
           3,
           2,
           5,
           2,
           4,
           3,
           3,
           1,
           2,
           5,
           4,
           4,
           4,
           2,
           4,
           1,
           2,
           4,
           3,
           1,
           3,
           5,
           4,
           4,
           3,
           3,
           2,
           3,
           2,
           4,
           3,
           5,
           4,
           5,
           4,
           5,
           5,
           5,
           2,
           4,
           3,
           3,
           3,
           4,
           2,
           4,
           4,
           2,
           4,
           4,
           5,
           5,
           3,
           5,
           4,
           5,
           5,
           2,
           4,
           4,
           3,
           4,
           1,
           4,
           2,
           4,
           4,
           3,
           4,
           2,
           5,
           4,
           4,
           4,
           5,
           5,
           2,
           3,
           5,
           4,
           4,
           5,
           3,
           5,
           3,
           4,
           2,
           5,
           5,
           4,
           3,
           2,
           5,
           5,
           5,
           3,
           4,
           5,
           4,
           3,
           4,
           3,
           3,
           3,
           5,
           5,
           4,
           3,
           4,
           2,
           1,
           4,
           4,
           3,
           2,
           4,
           4,
           3,
           2,
           1,
           3,
           4,
           3,
           5,
           4,
           2,
           4,
           1,
           5,
           3,
           3,
           4,
           2,
           4,
           4,
           4,
           2,
           3,
           1,
           4,
           4,
           5,
           4,
           2,
           3,
           4,
           5,
           2,
           4,
           4,
           2,
           4,
           5,
           1,
           1,
           3,
           2,
           4,
           4,
           4,
           2,
           4,
           3,
           2,
           2,
           4,
           5,
           5,
           3,
           3,
           5,
           3,
           1,
           5,
           3,
           2,
           2,
           3,
           4,
           2,
           5,
           3,
           4,
           3,
           4,
           5,
           5,
           5,
           2,
           1,
           4,
           2,
           4,
           2,
           3,
           4,
           3,
           3,
           4,
           2,
           4,
           5,
           2,
           5,
           4,
           2,
           3,
           4,
           4,
           4,
           1,
           4,
           2,
           1,
           2,
           3,
           3,
           2,
           2,
           4,
           2,
           2,
           3,
           2,
           1,
           3,
           4,
           4,
           3,
           3,
           4,
           1,
           2,
           2,
           5,
           3,
           2,
           4,
           5,
           4,
           3,
           3,
           4,
           4,
           1,
           3,
           3,
           5,
           2,
           2,
           4,
           2,
           4,
           4,
           3,
           1,
           4,
           1,
           4,
           4,
           4,
           2,
           4,
           3,
           2,
           3,
           2,
           3,
           4,
           1,
           3,
           3,
           3,
           5,
           3,
           2,
           5,
           4,
           3,
           3,
           4,
           4,
           2,
           3,
           3,
           3,
           1,
           2,
           1,
           4,
           3,
           2,
           3,
           3,
           2,
           3,
           4,
           3,
           3,
           3,
           3,
           3,
           3,
           3,
           2,
           3,
           4,
           1,
           2,
           4,
           3,
           4,
           4,
           4,
           4,
           4,
           4,
           3,
           2,
           1,
           3,
           1,
           2,
           3,
           3,
           4,
           1,
           2,
           3,
           4,
           4
          ],
          "coloraxis": "coloraxis",
          "symbol": "circle"
         },
         "mode": "markers",
         "name": "",
         "orientation": "v",
         "showlegend": false,
         "type": "scatter",
         "x": [
          2,
          1,
          1,
          1,
          5,
          1,
          1,
          3,
          4,
          1,
          5,
          5,
          5,
          4,
          3,
          5,
          3,
          4,
          4,
          4,
          1,
          3,
          5,
          4,
          3,
          2,
          5,
          4,
          5,
          5,
          3,
          3,
          1,
          4,
          4,
          5,
          4,
          2,
          2,
          5,
          4,
          2,
          1,
          2,
          3,
          2,
          3,
          4,
          3,
          5,
          5,
          4,
          4,
          2,
          5,
          2,
          5,
          5,
          5,
          3,
          4,
          5,
          4,
          4,
          4,
          3,
          1,
          3,
          4,
          5,
          5,
          1,
          3,
          4,
          4,
          5,
          1,
          5,
          4,
          3,
          3,
          5,
          4,
          5,
          5,
          5,
          5,
          5,
          4,
          3,
          5,
          5,
          5,
          5,
          3,
          5,
          4,
          4,
          5,
          5,
          5,
          5,
          5,
          3,
          4,
          5,
          4,
          5,
          5,
          4,
          5,
          1,
          4,
          5,
          3,
          4,
          5,
          5,
          5,
          4,
          4,
          4,
          5,
          5,
          5,
          5,
          5,
          3,
          1,
          1,
          4,
          2,
          1,
          2,
          3,
          5,
          4,
          5,
          2,
          2,
          5,
          5,
          5,
          5,
          3,
          4,
          4,
          4,
          5,
          3,
          5,
          4,
          5,
          5,
          5,
          4,
          4,
          5,
          4,
          4,
          4,
          3,
          4,
          5,
          4,
          5,
          3,
          2,
          5,
          5,
          4,
          2,
          5,
          5,
          5,
          4,
          4,
          5,
          2,
          5,
          3,
          5,
          5,
          3,
          4,
          5,
          4,
          1,
          4,
          4,
          5,
          5,
          5,
          4,
          5,
          1,
          3,
          3,
          4,
          1,
          1,
          5,
          5,
          4,
          5,
          2,
          4,
          2,
          3,
          5,
          5,
          3,
          2,
          4,
          5,
          5,
          3,
          4,
          4,
          4,
          3,
          4,
          5,
          5,
          2,
          5,
          4,
          5,
          3,
          5,
          3,
          4,
          4,
          4,
          5,
          4,
          2,
          5,
          5,
          5,
          5,
          5,
          5,
          5,
          5,
          5,
          5,
          5,
          5,
          3,
          4,
          5,
          5,
          5,
          1,
          5,
          2,
          5,
          5,
          5,
          3,
          5,
          4,
          4,
          4,
          5,
          4,
          4,
          5,
          5,
          4,
          5,
          4,
          3,
          4,
          5,
          4,
          5,
          2,
          5,
          5,
          3,
          2,
          2,
          4,
          5,
          5,
          3,
          5,
          4,
          5,
          1,
          5,
          4,
          5,
          4,
          4,
          5,
          5,
          5,
          3,
          1,
          1,
          5,
          4,
          2,
          4,
          5,
          4,
          3,
          2,
          3,
          4,
          5,
          1,
          4,
          5,
          5,
          4,
          1,
          5,
          3,
          4,
          3,
          4,
          5,
          3,
          5,
          4,
          4,
          2,
          4,
          5,
          5,
          4,
          5,
          5,
          3,
          4,
          5,
          4,
          4,
          1,
          5,
          5,
          2,
          2,
          5,
          3,
          5,
          4,
          4,
          1,
          5,
          5,
          4,
          5,
          5,
          5,
          5,
          5,
          2,
          4,
          4,
          1,
          4,
          1,
          2,
          2,
          3,
          5,
          4,
          5,
          5,
          4,
          4,
          3,
          5,
          5,
          4,
          1,
          2,
          3,
          2,
          5,
          2,
          4,
          5,
          4,
          4,
          4,
          1,
          4,
          5,
          3,
          5,
          4,
          3,
          4,
          5,
          4,
          5,
          2,
          5,
          2,
          1,
          5,
          3,
          4,
          1,
          1,
          5,
          5,
          1,
          2,
          1,
          1,
          4,
          5,
          5,
          1,
          4,
          5,
          2,
          3,
          2,
          5,
          2,
          2,
          4,
          4,
          3,
          3,
          4,
          5,
          5,
          1,
          3,
          3,
          5,
          3,
          4,
          4,
          5,
          3,
          5,
          5,
          3,
          5,
          4,
          4,
          4,
          5,
          3,
          3,
          5,
          3,
          1,
          1,
          3,
          5,
          3,
          4,
          2,
          5,
          5,
          5,
          4,
          5,
          5,
          5,
          5,
          5,
          5,
          3,
          2,
          5,
          3,
          1,
          4,
          1,
          4,
          4,
          1,
          3,
          1,
          1,
          2,
          5,
          5,
          2,
          4,
          3,
          5,
          2,
          4,
          5,
          2,
          2,
          2,
          4,
          4,
          3,
          5,
          5,
          5,
          5,
          4,
          3,
          4,
          4,
          3,
          2,
          1,
          4,
          4,
          5,
          5,
          3,
          4,
          3,
          4,
          4
         ],
         "xaxis": "x",
         "y": [
          1,
          1,
          1,
          1,
          1,
          1,
          1,
          1,
          1,
          1,
          2,
          2,
          2,
          1,
          1,
          2,
          1,
          1,
          3,
          1,
          1,
          1,
          4,
          2,
          1,
          1,
          2,
          1,
          3,
          1,
          1,
          1,
          1,
          1,
          2,
          2,
          3,
          1,
          1,
          1,
          1,
          1,
          1,
          2,
          1,
          1,
          2,
          1,
          1,
          2,
          1,
          1,
          2,
          1,
          3,
          1,
          4,
          1,
          2,
          1,
          2,
          2,
          1,
          1,
          1,
          2,
          1,
          1,
          1,
          2,
          5,
          1,
          1,
          2,
          1,
          4,
          1,
          4,
          1,
          3,
          1,
          2,
          2,
          3,
          5,
          2,
          2,
          2,
          2,
          2,
          3,
          2,
          5,
          3,
          1,
          3,
          2,
          2,
          2,
          3,
          3,
          3,
          5,
          1,
          3,
          4,
          3,
          4,
          4,
          1,
          1,
          1,
          1,
          3,
          1,
          2,
          4,
          3,
          3,
          2,
          1,
          1,
          4,
          4,
          4,
          3,
          3,
          2,
          1,
          1,
          1,
          1,
          1,
          1,
          1,
          2,
          3,
          4,
          1,
          1,
          2,
          3,
          4,
          4,
          2,
          1,
          2,
          3,
          1,
          1,
          3,
          2,
          1,
          3,
          4,
          3,
          2,
          5,
          1,
          4,
          3,
          1,
          1,
          3,
          3,
          2,
          1,
          1,
          1,
          2,
          2,
          1,
          1,
          3,
          4,
          2,
          1,
          1,
          1,
          2,
          1,
          3,
          3,
          1,
          1,
          4,
          2,
          1,
          1,
          3,
          1,
          1,
          3,
          1,
          4,
          1,
          1,
          1,
          1,
          1,
          1,
          5,
          2,
          3,
          2,
          1,
          2,
          1,
          1,
          2,
          2,
          1,
          1,
          3,
          3,
          2,
          1,
          1,
          1,
          1,
          1,
          1,
          1,
          5,
          2,
          3,
          3,
          5,
          2,
          3,
          1,
          2,
          1,
          1,
          3,
          2,
          2,
          5,
          3,
          1,
          4,
          3,
          5,
          3,
          2,
          4,
          3,
          5,
          4,
          1,
          2,
          3,
          4,
          3,
          1,
          2,
          1,
          3,
          2,
          2,
          2,
          1,
          3,
          3,
          2,
          2,
          3,
          4,
          1,
          2,
          2,
          3,
          3,
          1,
          2,
          4,
          2,
          2,
          1,
          5,
          5,
          1,
          1,
          1,
          4,
          5,
          3,
          1,
          3,
          3,
          3,
          1,
          2,
          1,
          4,
          2,
          4,
          4,
          4,
          1,
          2,
          1,
          1,
          3,
          4,
          1,
          1,
          3,
          3,
          1,
          1,
          1,
          1,
          2,
          1,
          1,
          2,
          1,
          3,
          1,
          2,
          1,
          1,
          2,
          1,
          3,
          2,
          3,
          1,
          2,
          1,
          2,
          2,
          3,
          3,
          5,
          1,
          2,
          1,
          5,
          3,
          2,
          1,
          1,
          4,
          1,
          1,
          2,
          1,
          3,
          1,
          4,
          1,
          2,
          1,
          1,
          1,
          5,
          3,
          4,
          1,
          1,
          2,
          1,
          1,
          3,
          1,
          1,
          1,
          1,
          3,
          1,
          3,
          2,
          2,
          2,
          2,
          3,
          3,
          3,
          1,
          1,
          3,
          1,
          4,
          1,
          1,
          2,
          1,
          1,
          2,
          1,
          1,
          3,
          1,
          4,
          2,
          1,
          1,
          3,
          1,
          1,
          1,
          5,
          1,
          1,
          1,
          1,
          2,
          1,
          1,
          3,
          1,
          1,
          1,
          1,
          1,
          1,
          5,
          3,
          1,
          1,
          3,
          1,
          1,
          1,
          3,
          2,
          1,
          2,
          2,
          2,
          1,
          1,
          1,
          1,
          1,
          1,
          1,
          4,
          1,
          1,
          3,
          5,
          1,
          2,
          4,
          1,
          4,
          1,
          2,
          2,
          3,
          1,
          1,
          1,
          1,
          1,
          1,
          1,
          2,
          1,
          1,
          1,
          1,
          3,
          1,
          1,
          2,
          2,
          1,
          1,
          3,
          5,
          1,
          1,
          2,
          1,
          1,
          1,
          1,
          3,
          2,
          1,
          1,
          1,
          1,
          1,
          2,
          1,
          2,
          1,
          1,
          2,
          1,
          1,
          1,
          1,
          2,
          1,
          1,
          2,
          1,
          2,
          2,
          4,
          3,
          3,
          1,
          1,
          1,
          1,
          1,
          1,
          1,
          1,
          1,
          2,
          1,
          1,
          1,
          1,
          1
         ],
         "yaxis": "y"
        }
       ],
       "layout": {
        "coloraxis": {
         "colorbar": {
          "title": {
           "text": "Escala M"
          }
         },
         "colorscale": [
          [
           0,
           "#0d0887"
          ],
          [
           0.1111111111111111,
           "#46039f"
          ],
          [
           0.2222222222222222,
           "#7201a8"
          ],
          [
           0.3333333333333333,
           "#9c179e"
          ],
          [
           0.4444444444444444,
           "#bd3786"
          ],
          [
           0.5555555555555556,
           "#d8576b"
          ],
          [
           0.6666666666666666,
           "#ed7953"
          ],
          [
           0.7777777777777778,
           "#fb9f3a"
          ],
          [
           0.8888888888888888,
           "#fdca26"
          ],
          [
           1,
           "#f0f921"
          ]
         ]
        },
        "legend": {
         "tracegroupgap": 0
        },
        "margin": {
         "t": 60
        },
        "template": {
         "data": {
          "bar": [
           {
            "error_x": {
             "color": "#2a3f5f"
            },
            "error_y": {
             "color": "#2a3f5f"
            },
            "marker": {
             "line": {
              "color": "#E5ECF6",
              "width": 0.5
             },
             "pattern": {
              "fillmode": "overlay",
              "size": 10,
              "solidity": 0.2
             }
            },
            "type": "bar"
           }
          ],
          "barpolar": [
           {
            "marker": {
             "line": {
              "color": "#E5ECF6",
              "width": 0.5
             },
             "pattern": {
              "fillmode": "overlay",
              "size": 10,
              "solidity": 0.2
             }
            },
            "type": "barpolar"
           }
          ],
          "carpet": [
           {
            "aaxis": {
             "endlinecolor": "#2a3f5f",
             "gridcolor": "white",
             "linecolor": "white",
             "minorgridcolor": "white",
             "startlinecolor": "#2a3f5f"
            },
            "baxis": {
             "endlinecolor": "#2a3f5f",
             "gridcolor": "white",
             "linecolor": "white",
             "minorgridcolor": "white",
             "startlinecolor": "#2a3f5f"
            },
            "type": "carpet"
           }
          ],
          "choropleth": [
           {
            "colorbar": {
             "outlinewidth": 0,
             "ticks": ""
            },
            "type": "choropleth"
           }
          ],
          "contour": [
           {
            "colorbar": {
             "outlinewidth": 0,
             "ticks": ""
            },
            "colorscale": [
             [
              0,
              "#0d0887"
             ],
             [
              0.1111111111111111,
              "#46039f"
             ],
             [
              0.2222222222222222,
              "#7201a8"
             ],
             [
              0.3333333333333333,
              "#9c179e"
             ],
             [
              0.4444444444444444,
              "#bd3786"
             ],
             [
              0.5555555555555556,
              "#d8576b"
             ],
             [
              0.6666666666666666,
              "#ed7953"
             ],
             [
              0.7777777777777778,
              "#fb9f3a"
             ],
             [
              0.8888888888888888,
              "#fdca26"
             ],
             [
              1,
              "#f0f921"
             ]
            ],
            "type": "contour"
           }
          ],
          "contourcarpet": [
           {
            "colorbar": {
             "outlinewidth": 0,
             "ticks": ""
            },
            "type": "contourcarpet"
           }
          ],
          "heatmap": [
           {
            "colorbar": {
             "outlinewidth": 0,
             "ticks": ""
            },
            "colorscale": [
             [
              0,
              "#0d0887"
             ],
             [
              0.1111111111111111,
              "#46039f"
             ],
             [
              0.2222222222222222,
              "#7201a8"
             ],
             [
              0.3333333333333333,
              "#9c179e"
             ],
             [
              0.4444444444444444,
              "#bd3786"
             ],
             [
              0.5555555555555556,
              "#d8576b"
             ],
             [
              0.6666666666666666,
              "#ed7953"
             ],
             [
              0.7777777777777778,
              "#fb9f3a"
             ],
             [
              0.8888888888888888,
              "#fdca26"
             ],
             [
              1,
              "#f0f921"
             ]
            ],
            "type": "heatmap"
           }
          ],
          "heatmapgl": [
           {
            "colorbar": {
             "outlinewidth": 0,
             "ticks": ""
            },
            "colorscale": [
             [
              0,
              "#0d0887"
             ],
             [
              0.1111111111111111,
              "#46039f"
             ],
             [
              0.2222222222222222,
              "#7201a8"
             ],
             [
              0.3333333333333333,
              "#9c179e"
             ],
             [
              0.4444444444444444,
              "#bd3786"
             ],
             [
              0.5555555555555556,
              "#d8576b"
             ],
             [
              0.6666666666666666,
              "#ed7953"
             ],
             [
              0.7777777777777778,
              "#fb9f3a"
             ],
             [
              0.8888888888888888,
              "#fdca26"
             ],
             [
              1,
              "#f0f921"
             ]
            ],
            "type": "heatmapgl"
           }
          ],
          "histogram": [
           {
            "marker": {
             "pattern": {
              "fillmode": "overlay",
              "size": 10,
              "solidity": 0.2
             }
            },
            "type": "histogram"
           }
          ],
          "histogram2d": [
           {
            "colorbar": {
             "outlinewidth": 0,
             "ticks": ""
            },
            "colorscale": [
             [
              0,
              "#0d0887"
             ],
             [
              0.1111111111111111,
              "#46039f"
             ],
             [
              0.2222222222222222,
              "#7201a8"
             ],
             [
              0.3333333333333333,
              "#9c179e"
             ],
             [
              0.4444444444444444,
              "#bd3786"
             ],
             [
              0.5555555555555556,
              "#d8576b"
             ],
             [
              0.6666666666666666,
              "#ed7953"
             ],
             [
              0.7777777777777778,
              "#fb9f3a"
             ],
             [
              0.8888888888888888,
              "#fdca26"
             ],
             [
              1,
              "#f0f921"
             ]
            ],
            "type": "histogram2d"
           }
          ],
          "histogram2dcontour": [
           {
            "colorbar": {
             "outlinewidth": 0,
             "ticks": ""
            },
            "colorscale": [
             [
              0,
              "#0d0887"
             ],
             [
              0.1111111111111111,
              "#46039f"
             ],
             [
              0.2222222222222222,
              "#7201a8"
             ],
             [
              0.3333333333333333,
              "#9c179e"
             ],
             [
              0.4444444444444444,
              "#bd3786"
             ],
             [
              0.5555555555555556,
              "#d8576b"
             ],
             [
              0.6666666666666666,
              "#ed7953"
             ],
             [
              0.7777777777777778,
              "#fb9f3a"
             ],
             [
              0.8888888888888888,
              "#fdca26"
             ],
             [
              1,
              "#f0f921"
             ]
            ],
            "type": "histogram2dcontour"
           }
          ],
          "mesh3d": [
           {
            "colorbar": {
             "outlinewidth": 0,
             "ticks": ""
            },
            "type": "mesh3d"
           }
          ],
          "parcoords": [
           {
            "line": {
             "colorbar": {
              "outlinewidth": 0,
              "ticks": ""
             }
            },
            "type": "parcoords"
           }
          ],
          "pie": [
           {
            "automargin": true,
            "type": "pie"
           }
          ],
          "scatter": [
           {
            "fillpattern": {
             "fillmode": "overlay",
             "size": 10,
             "solidity": 0.2
            },
            "type": "scatter"
           }
          ],
          "scatter3d": [
           {
            "line": {
             "colorbar": {
              "outlinewidth": 0,
              "ticks": ""
             }
            },
            "marker": {
             "colorbar": {
              "outlinewidth": 0,
              "ticks": ""
             }
            },
            "type": "scatter3d"
           }
          ],
          "scattercarpet": [
           {
            "marker": {
             "colorbar": {
              "outlinewidth": 0,
              "ticks": ""
             }
            },
            "type": "scattercarpet"
           }
          ],
          "scattergeo": [
           {
            "marker": {
             "colorbar": {
              "outlinewidth": 0,
              "ticks": ""
             }
            },
            "type": "scattergeo"
           }
          ],
          "scattergl": [
           {
            "marker": {
             "colorbar": {
              "outlinewidth": 0,
              "ticks": ""
             }
            },
            "type": "scattergl"
           }
          ],
          "scattermapbox": [
           {
            "marker": {
             "colorbar": {
              "outlinewidth": 0,
              "ticks": ""
             }
            },
            "type": "scattermapbox"
           }
          ],
          "scatterpolar": [
           {
            "marker": {
             "colorbar": {
              "outlinewidth": 0,
              "ticks": ""
             }
            },
            "type": "scatterpolar"
           }
          ],
          "scatterpolargl": [
           {
            "marker": {
             "colorbar": {
              "outlinewidth": 0,
              "ticks": ""
             }
            },
            "type": "scatterpolargl"
           }
          ],
          "scatterternary": [
           {
            "marker": {
             "colorbar": {
              "outlinewidth": 0,
              "ticks": ""
             }
            },
            "type": "scatterternary"
           }
          ],
          "surface": [
           {
            "colorbar": {
             "outlinewidth": 0,
             "ticks": ""
            },
            "colorscale": [
             [
              0,
              "#0d0887"
             ],
             [
              0.1111111111111111,
              "#46039f"
             ],
             [
              0.2222222222222222,
              "#7201a8"
             ],
             [
              0.3333333333333333,
              "#9c179e"
             ],
             [
              0.4444444444444444,
              "#bd3786"
             ],
             [
              0.5555555555555556,
              "#d8576b"
             ],
             [
              0.6666666666666666,
              "#ed7953"
             ],
             [
              0.7777777777777778,
              "#fb9f3a"
             ],
             [
              0.8888888888888888,
              "#fdca26"
             ],
             [
              1,
              "#f0f921"
             ]
            ],
            "type": "surface"
           }
          ],
          "table": [
           {
            "cells": {
             "fill": {
              "color": "#EBF0F8"
             },
             "line": {
              "color": "white"
             }
            },
            "header": {
             "fill": {
              "color": "#C8D4E3"
             },
             "line": {
              "color": "white"
             }
            },
            "type": "table"
           }
          ]
         },
         "layout": {
          "annotationdefaults": {
           "arrowcolor": "#2a3f5f",
           "arrowhead": 0,
           "arrowwidth": 1
          },
          "autotypenumbers": "strict",
          "coloraxis": {
           "colorbar": {
            "outlinewidth": 0,
            "ticks": ""
           }
          },
          "colorscale": {
           "diverging": [
            [
             0,
             "#8e0152"
            ],
            [
             0.1,
             "#c51b7d"
            ],
            [
             0.2,
             "#de77ae"
            ],
            [
             0.3,
             "#f1b6da"
            ],
            [
             0.4,
             "#fde0ef"
            ],
            [
             0.5,
             "#f7f7f7"
            ],
            [
             0.6,
             "#e6f5d0"
            ],
            [
             0.7,
             "#b8e186"
            ],
            [
             0.8,
             "#7fbc41"
            ],
            [
             0.9,
             "#4d9221"
            ],
            [
             1,
             "#276419"
            ]
           ],
           "sequential": [
            [
             0,
             "#0d0887"
            ],
            [
             0.1111111111111111,
             "#46039f"
            ],
            [
             0.2222222222222222,
             "#7201a8"
            ],
            [
             0.3333333333333333,
             "#9c179e"
            ],
            [
             0.4444444444444444,
             "#bd3786"
            ],
            [
             0.5555555555555556,
             "#d8576b"
            ],
            [
             0.6666666666666666,
             "#ed7953"
            ],
            [
             0.7777777777777778,
             "#fb9f3a"
            ],
            [
             0.8888888888888888,
             "#fdca26"
            ],
            [
             1,
             "#f0f921"
            ]
           ],
           "sequentialminus": [
            [
             0,
             "#0d0887"
            ],
            [
             0.1111111111111111,
             "#46039f"
            ],
            [
             0.2222222222222222,
             "#7201a8"
            ],
            [
             0.3333333333333333,
             "#9c179e"
            ],
            [
             0.4444444444444444,
             "#bd3786"
            ],
            [
             0.5555555555555556,
             "#d8576b"
            ],
            [
             0.6666666666666666,
             "#ed7953"
            ],
            [
             0.7777777777777778,
             "#fb9f3a"
            ],
            [
             0.8888888888888888,
             "#fdca26"
            ],
            [
             1,
             "#f0f921"
            ]
           ]
          },
          "colorway": [
           "#636efa",
           "#EF553B",
           "#00cc96",
           "#ab63fa",
           "#FFA15A",
           "#19d3f3",
           "#FF6692",
           "#B6E880",
           "#FF97FF",
           "#FECB52"
          ],
          "font": {
           "color": "#2a3f5f"
          },
          "geo": {
           "bgcolor": "white",
           "lakecolor": "white",
           "landcolor": "#E5ECF6",
           "showlakes": true,
           "showland": true,
           "subunitcolor": "white"
          },
          "hoverlabel": {
           "align": "left"
          },
          "hovermode": "closest",
          "mapbox": {
           "style": "light"
          },
          "paper_bgcolor": "white",
          "plot_bgcolor": "#E5ECF6",
          "polar": {
           "angularaxis": {
            "gridcolor": "white",
            "linecolor": "white",
            "ticks": ""
           },
           "bgcolor": "#E5ECF6",
           "radialaxis": {
            "gridcolor": "white",
            "linecolor": "white",
            "ticks": ""
           }
          },
          "scene": {
           "xaxis": {
            "backgroundcolor": "#E5ECF6",
            "gridcolor": "white",
            "gridwidth": 2,
            "linecolor": "white",
            "showbackground": true,
            "ticks": "",
            "zerolinecolor": "white"
           },
           "yaxis": {
            "backgroundcolor": "#E5ECF6",
            "gridcolor": "white",
            "gridwidth": 2,
            "linecolor": "white",
            "showbackground": true,
            "ticks": "",
            "zerolinecolor": "white"
           },
           "zaxis": {
            "backgroundcolor": "#E5ECF6",
            "gridcolor": "white",
            "gridwidth": 2,
            "linecolor": "white",
            "showbackground": true,
            "ticks": "",
            "zerolinecolor": "white"
           }
          },
          "shapedefaults": {
           "line": {
            "color": "#2a3f5f"
           }
          },
          "ternary": {
           "aaxis": {
            "gridcolor": "white",
            "linecolor": "white",
            "ticks": ""
           },
           "baxis": {
            "gridcolor": "white",
            "linecolor": "white",
            "ticks": ""
           },
           "bgcolor": "#E5ECF6",
           "caxis": {
            "gridcolor": "white",
            "linecolor": "white",
            "ticks": ""
           }
          },
          "title": {
           "x": 0.05
          },
          "xaxis": {
           "automargin": true,
           "gridcolor": "white",
           "linecolor": "white",
           "ticks": "",
           "title": {
            "standoff": 15
           },
           "zerolinecolor": "white",
           "zerolinewidth": 2
          },
          "yaxis": {
           "automargin": true,
           "gridcolor": "white",
           "linecolor": "white",
           "ticks": "",
           "title": {
            "standoff": 15
           },
           "zerolinecolor": "white",
           "zerolinewidth": 2
          }
         }
        },
        "xaxis": {
         "anchor": "y",
         "domain": [
          0,
          1
         ],
         "title": {
          "text": "Escala R"
         }
        },
        "yaxis": {
         "anchor": "x",
         "domain": [
          0,
          1
         ],
         "title": {
          "text": "Escala F"
         }
        }
       }
      }
     },
     "metadata": {},
     "output_type": "display_data"
    },
    {
     "data": {
      "application/vnd.plotly.v1+json": {
       "config": {
        "plotlyServerURL": "https://plot.ly"
       },
       "data": [
        {
         "coloraxis": "coloraxis",
         "hovertemplate": "x: %{x}<br>y: %{y}<br>color: %{z}<extra></extra>",
         "name": "0",
         "texttemplate": "%{z}",
         "type": "heatmap",
         "x": [
          "Escala R",
          "Escala F",
          "Escala M"
         ],
         "xaxis": "x",
         "y": [
          "Escala R",
          "Escala F",
          "Escala M"
         ],
         "yaxis": "y",
         "z": [
          [
           1,
           0.558965516049836,
           0.616159087664187
          ],
          [
           0.558965516049836,
           1,
           0.6719374662279453
          ],
          [
           0.616159087664187,
           0.6719374662279453,
           1
          ]
         ]
        }
       ],
       "layout": {
        "coloraxis": {
         "colorscale": [
          [
           0,
           "#0d0887"
          ],
          [
           0.1111111111111111,
           "#46039f"
          ],
          [
           0.2222222222222222,
           "#7201a8"
          ],
          [
           0.3333333333333333,
           "#9c179e"
          ],
          [
           0.4444444444444444,
           "#bd3786"
          ],
          [
           0.5555555555555556,
           "#d8576b"
          ],
          [
           0.6666666666666666,
           "#ed7953"
          ],
          [
           0.7777777777777778,
           "#fb9f3a"
          ],
          [
           0.8888888888888888,
           "#fdca26"
          ],
          [
           1,
           "#f0f921"
          ]
         ]
        },
        "margin": {
         "t": 60
        },
        "template": {
         "data": {
          "bar": [
           {
            "error_x": {
             "color": "#2a3f5f"
            },
            "error_y": {
             "color": "#2a3f5f"
            },
            "marker": {
             "line": {
              "color": "#E5ECF6",
              "width": 0.5
             },
             "pattern": {
              "fillmode": "overlay",
              "size": 10,
              "solidity": 0.2
             }
            },
            "type": "bar"
           }
          ],
          "barpolar": [
           {
            "marker": {
             "line": {
              "color": "#E5ECF6",
              "width": 0.5
             },
             "pattern": {
              "fillmode": "overlay",
              "size": 10,
              "solidity": 0.2
             }
            },
            "type": "barpolar"
           }
          ],
          "carpet": [
           {
            "aaxis": {
             "endlinecolor": "#2a3f5f",
             "gridcolor": "white",
             "linecolor": "white",
             "minorgridcolor": "white",
             "startlinecolor": "#2a3f5f"
            },
            "baxis": {
             "endlinecolor": "#2a3f5f",
             "gridcolor": "white",
             "linecolor": "white",
             "minorgridcolor": "white",
             "startlinecolor": "#2a3f5f"
            },
            "type": "carpet"
           }
          ],
          "choropleth": [
           {
            "colorbar": {
             "outlinewidth": 0,
             "ticks": ""
            },
            "type": "choropleth"
           }
          ],
          "contour": [
           {
            "colorbar": {
             "outlinewidth": 0,
             "ticks": ""
            },
            "colorscale": [
             [
              0,
              "#0d0887"
             ],
             [
              0.1111111111111111,
              "#46039f"
             ],
             [
              0.2222222222222222,
              "#7201a8"
             ],
             [
              0.3333333333333333,
              "#9c179e"
             ],
             [
              0.4444444444444444,
              "#bd3786"
             ],
             [
              0.5555555555555556,
              "#d8576b"
             ],
             [
              0.6666666666666666,
              "#ed7953"
             ],
             [
              0.7777777777777778,
              "#fb9f3a"
             ],
             [
              0.8888888888888888,
              "#fdca26"
             ],
             [
              1,
              "#f0f921"
             ]
            ],
            "type": "contour"
           }
          ],
          "contourcarpet": [
           {
            "colorbar": {
             "outlinewidth": 0,
             "ticks": ""
            },
            "type": "contourcarpet"
           }
          ],
          "heatmap": [
           {
            "colorbar": {
             "outlinewidth": 0,
             "ticks": ""
            },
            "colorscale": [
             [
              0,
              "#0d0887"
             ],
             [
              0.1111111111111111,
              "#46039f"
             ],
             [
              0.2222222222222222,
              "#7201a8"
             ],
             [
              0.3333333333333333,
              "#9c179e"
             ],
             [
              0.4444444444444444,
              "#bd3786"
             ],
             [
              0.5555555555555556,
              "#d8576b"
             ],
             [
              0.6666666666666666,
              "#ed7953"
             ],
             [
              0.7777777777777778,
              "#fb9f3a"
             ],
             [
              0.8888888888888888,
              "#fdca26"
             ],
             [
              1,
              "#f0f921"
             ]
            ],
            "type": "heatmap"
           }
          ],
          "heatmapgl": [
           {
            "colorbar": {
             "outlinewidth": 0,
             "ticks": ""
            },
            "colorscale": [
             [
              0,
              "#0d0887"
             ],
             [
              0.1111111111111111,
              "#46039f"
             ],
             [
              0.2222222222222222,
              "#7201a8"
             ],
             [
              0.3333333333333333,
              "#9c179e"
             ],
             [
              0.4444444444444444,
              "#bd3786"
             ],
             [
              0.5555555555555556,
              "#d8576b"
             ],
             [
              0.6666666666666666,
              "#ed7953"
             ],
             [
              0.7777777777777778,
              "#fb9f3a"
             ],
             [
              0.8888888888888888,
              "#fdca26"
             ],
             [
              1,
              "#f0f921"
             ]
            ],
            "type": "heatmapgl"
           }
          ],
          "histogram": [
           {
            "marker": {
             "pattern": {
              "fillmode": "overlay",
              "size": 10,
              "solidity": 0.2
             }
            },
            "type": "histogram"
           }
          ],
          "histogram2d": [
           {
            "colorbar": {
             "outlinewidth": 0,
             "ticks": ""
            },
            "colorscale": [
             [
              0,
              "#0d0887"
             ],
             [
              0.1111111111111111,
              "#46039f"
             ],
             [
              0.2222222222222222,
              "#7201a8"
             ],
             [
              0.3333333333333333,
              "#9c179e"
             ],
             [
              0.4444444444444444,
              "#bd3786"
             ],
             [
              0.5555555555555556,
              "#d8576b"
             ],
             [
              0.6666666666666666,
              "#ed7953"
             ],
             [
              0.7777777777777778,
              "#fb9f3a"
             ],
             [
              0.8888888888888888,
              "#fdca26"
             ],
             [
              1,
              "#f0f921"
             ]
            ],
            "type": "histogram2d"
           }
          ],
          "histogram2dcontour": [
           {
            "colorbar": {
             "outlinewidth": 0,
             "ticks": ""
            },
            "colorscale": [
             [
              0,
              "#0d0887"
             ],
             [
              0.1111111111111111,
              "#46039f"
             ],
             [
              0.2222222222222222,
              "#7201a8"
             ],
             [
              0.3333333333333333,
              "#9c179e"
             ],
             [
              0.4444444444444444,
              "#bd3786"
             ],
             [
              0.5555555555555556,
              "#d8576b"
             ],
             [
              0.6666666666666666,
              "#ed7953"
             ],
             [
              0.7777777777777778,
              "#fb9f3a"
             ],
             [
              0.8888888888888888,
              "#fdca26"
             ],
             [
              1,
              "#f0f921"
             ]
            ],
            "type": "histogram2dcontour"
           }
          ],
          "mesh3d": [
           {
            "colorbar": {
             "outlinewidth": 0,
             "ticks": ""
            },
            "type": "mesh3d"
           }
          ],
          "parcoords": [
           {
            "line": {
             "colorbar": {
              "outlinewidth": 0,
              "ticks": ""
             }
            },
            "type": "parcoords"
           }
          ],
          "pie": [
           {
            "automargin": true,
            "type": "pie"
           }
          ],
          "scatter": [
           {
            "fillpattern": {
             "fillmode": "overlay",
             "size": 10,
             "solidity": 0.2
            },
            "type": "scatter"
           }
          ],
          "scatter3d": [
           {
            "line": {
             "colorbar": {
              "outlinewidth": 0,
              "ticks": ""
             }
            },
            "marker": {
             "colorbar": {
              "outlinewidth": 0,
              "ticks": ""
             }
            },
            "type": "scatter3d"
           }
          ],
          "scattercarpet": [
           {
            "marker": {
             "colorbar": {
              "outlinewidth": 0,
              "ticks": ""
             }
            },
            "type": "scattercarpet"
           }
          ],
          "scattergeo": [
           {
            "marker": {
             "colorbar": {
              "outlinewidth": 0,
              "ticks": ""
             }
            },
            "type": "scattergeo"
           }
          ],
          "scattergl": [
           {
            "marker": {
             "colorbar": {
              "outlinewidth": 0,
              "ticks": ""
             }
            },
            "type": "scattergl"
           }
          ],
          "scattermapbox": [
           {
            "marker": {
             "colorbar": {
              "outlinewidth": 0,
              "ticks": ""
             }
            },
            "type": "scattermapbox"
           }
          ],
          "scatterpolar": [
           {
            "marker": {
             "colorbar": {
              "outlinewidth": 0,
              "ticks": ""
             }
            },
            "type": "scatterpolar"
           }
          ],
          "scatterpolargl": [
           {
            "marker": {
             "colorbar": {
              "outlinewidth": 0,
              "ticks": ""
             }
            },
            "type": "scatterpolargl"
           }
          ],
          "scatterternary": [
           {
            "marker": {
             "colorbar": {
              "outlinewidth": 0,
              "ticks": ""
             }
            },
            "type": "scatterternary"
           }
          ],
          "surface": [
           {
            "colorbar": {
             "outlinewidth": 0,
             "ticks": ""
            },
            "colorscale": [
             [
              0,
              "#0d0887"
             ],
             [
              0.1111111111111111,
              "#46039f"
             ],
             [
              0.2222222222222222,
              "#7201a8"
             ],
             [
              0.3333333333333333,
              "#9c179e"
             ],
             [
              0.4444444444444444,
              "#bd3786"
             ],
             [
              0.5555555555555556,
              "#d8576b"
             ],
             [
              0.6666666666666666,
              "#ed7953"
             ],
             [
              0.7777777777777778,
              "#fb9f3a"
             ],
             [
              0.8888888888888888,
              "#fdca26"
             ],
             [
              1,
              "#f0f921"
             ]
            ],
            "type": "surface"
           }
          ],
          "table": [
           {
            "cells": {
             "fill": {
              "color": "#EBF0F8"
             },
             "line": {
              "color": "white"
             }
            },
            "header": {
             "fill": {
              "color": "#C8D4E3"
             },
             "line": {
              "color": "white"
             }
            },
            "type": "table"
           }
          ]
         },
         "layout": {
          "annotationdefaults": {
           "arrowcolor": "#2a3f5f",
           "arrowhead": 0,
           "arrowwidth": 1
          },
          "autotypenumbers": "strict",
          "coloraxis": {
           "colorbar": {
            "outlinewidth": 0,
            "ticks": ""
           }
          },
          "colorscale": {
           "diverging": [
            [
             0,
             "#8e0152"
            ],
            [
             0.1,
             "#c51b7d"
            ],
            [
             0.2,
             "#de77ae"
            ],
            [
             0.3,
             "#f1b6da"
            ],
            [
             0.4,
             "#fde0ef"
            ],
            [
             0.5,
             "#f7f7f7"
            ],
            [
             0.6,
             "#e6f5d0"
            ],
            [
             0.7,
             "#b8e186"
            ],
            [
             0.8,
             "#7fbc41"
            ],
            [
             0.9,
             "#4d9221"
            ],
            [
             1,
             "#276419"
            ]
           ],
           "sequential": [
            [
             0,
             "#0d0887"
            ],
            [
             0.1111111111111111,
             "#46039f"
            ],
            [
             0.2222222222222222,
             "#7201a8"
            ],
            [
             0.3333333333333333,
             "#9c179e"
            ],
            [
             0.4444444444444444,
             "#bd3786"
            ],
            [
             0.5555555555555556,
             "#d8576b"
            ],
            [
             0.6666666666666666,
             "#ed7953"
            ],
            [
             0.7777777777777778,
             "#fb9f3a"
            ],
            [
             0.8888888888888888,
             "#fdca26"
            ],
            [
             1,
             "#f0f921"
            ]
           ],
           "sequentialminus": [
            [
             0,
             "#0d0887"
            ],
            [
             0.1111111111111111,
             "#46039f"
            ],
            [
             0.2222222222222222,
             "#7201a8"
            ],
            [
             0.3333333333333333,
             "#9c179e"
            ],
            [
             0.4444444444444444,
             "#bd3786"
            ],
            [
             0.5555555555555556,
             "#d8576b"
            ],
            [
             0.6666666666666666,
             "#ed7953"
            ],
            [
             0.7777777777777778,
             "#fb9f3a"
            ],
            [
             0.8888888888888888,
             "#fdca26"
            ],
            [
             1,
             "#f0f921"
            ]
           ]
          },
          "colorway": [
           "#636efa",
           "#EF553B",
           "#00cc96",
           "#ab63fa",
           "#FFA15A",
           "#19d3f3",
           "#FF6692",
           "#B6E880",
           "#FF97FF",
           "#FECB52"
          ],
          "font": {
           "color": "#2a3f5f"
          },
          "geo": {
           "bgcolor": "white",
           "lakecolor": "white",
           "landcolor": "#E5ECF6",
           "showlakes": true,
           "showland": true,
           "subunitcolor": "white"
          },
          "hoverlabel": {
           "align": "left"
          },
          "hovermode": "closest",
          "mapbox": {
           "style": "light"
          },
          "paper_bgcolor": "white",
          "plot_bgcolor": "#E5ECF6",
          "polar": {
           "angularaxis": {
            "gridcolor": "white",
            "linecolor": "white",
            "ticks": ""
           },
           "bgcolor": "#E5ECF6",
           "radialaxis": {
            "gridcolor": "white",
            "linecolor": "white",
            "ticks": ""
           }
          },
          "scene": {
           "xaxis": {
            "backgroundcolor": "#E5ECF6",
            "gridcolor": "white",
            "gridwidth": 2,
            "linecolor": "white",
            "showbackground": true,
            "ticks": "",
            "zerolinecolor": "white"
           },
           "yaxis": {
            "backgroundcolor": "#E5ECF6",
            "gridcolor": "white",
            "gridwidth": 2,
            "linecolor": "white",
            "showbackground": true,
            "ticks": "",
            "zerolinecolor": "white"
           },
           "zaxis": {
            "backgroundcolor": "#E5ECF6",
            "gridcolor": "white",
            "gridwidth": 2,
            "linecolor": "white",
            "showbackground": true,
            "ticks": "",
            "zerolinecolor": "white"
           }
          },
          "shapedefaults": {
           "line": {
            "color": "#2a3f5f"
           }
          },
          "ternary": {
           "aaxis": {
            "gridcolor": "white",
            "linecolor": "white",
            "ticks": ""
           },
           "baxis": {
            "gridcolor": "white",
            "linecolor": "white",
            "ticks": ""
           },
           "bgcolor": "#E5ECF6",
           "caxis": {
            "gridcolor": "white",
            "linecolor": "white",
            "ticks": ""
           }
          },
          "title": {
           "x": 0.05
          },
          "xaxis": {
           "automargin": true,
           "gridcolor": "white",
           "linecolor": "white",
           "ticks": "",
           "title": {
            "standoff": 15
           },
           "zerolinecolor": "white",
           "zerolinewidth": 2
          },
          "yaxis": {
           "automargin": true,
           "gridcolor": "white",
           "linecolor": "white",
           "ticks": "",
           "title": {
            "standoff": 15
           },
           "zerolinecolor": "white",
           "zerolinewidth": 2
          }
         }
        },
        "xaxis": {
         "anchor": "y",
         "constrain": "domain",
         "domain": [
          0,
          1
         ],
         "scaleanchor": "y"
        },
        "yaxis": {
         "anchor": "x",
         "autorange": "reversed",
         "constrain": "domain",
         "domain": [
          0,
          1
         ]
        }
       }
      }
     },
     "metadata": {},
     "output_type": "display_data"
    }
   ],
   "source": [
    "EDA(df_EDA)"
   ]
  },
  {
   "cell_type": "code",
   "execution_count": 12,
   "metadata": {},
   "outputs": [],
   "source": [
    "# list_dtos = ['10-Artes graficas', '10-Institucional', '10-Mayorista', '10-TIG', '10-V Horeca', '10-V Industria', '10-V SyE']\n",
    "# list_dtos = ['10-Artes graficas']"
   ]
  },
  {
   "attachments": {},
   "cell_type": "markdown",
   "metadata": {},
   "source": [
    "##### Un modelo"
   ]
  },
  {
   "cell_type": "code",
   "execution_count": 13,
   "metadata": {},
   "outputs": [
    {
     "name": "stdout",
     "output_type": "stream",
     "text": [
      "Procesando modelo 1 de 67. 1.5%\n",
      "Procesando modelo 2 de 67. 3.0%\n",
      "Procesando modelo 3 de 67. 4.5%\n",
      "Procesando modelo 4 de 67. 6.0%\n",
      "Procesando modelo 5 de 67. 7.5%\n",
      "Procesando modelo 6 de 67. 9.0%\n",
      "Procesando modelo 7 de 67. 10.4%\n",
      "Procesando modelo 8 de 67. 11.9%\n",
      "Procesando modelo 9 de 67. 13.4%\n",
      "Procesando modelo 10 de 67. 14.9%\n",
      "Procesando modelo 11 de 67. 16.4%\n",
      "Procesando modelo 12 de 67. 17.9%\n",
      "Procesando modelo 13 de 67. 19.4%\n",
      "Procesando modelo 14 de 67. 20.9%\n",
      "Procesando modelo 15 de 67. 22.4%\n",
      "Procesando modelo 16 de 67. 23.9%\n",
      "Procesando modelo 17 de 67. 25.4%\n",
      "Procesando modelo 18 de 67. 26.9%\n",
      "Procesando modelo 19 de 67. 28.4%\n",
      "Procesando modelo 20 de 67. 29.9%\n",
      "Procesando modelo 21 de 67. 31.3%\n",
      "Procesando modelo 22 de 67. 32.8%\n",
      "Procesando modelo 23 de 67. 34.3%\n",
      "Procesando modelo 24 de 67. 35.8%\n",
      "Procesando modelo 25 de 67. 37.3%\n",
      "Procesando modelo 26 de 67. 38.8%\n",
      "Procesando modelo 27 de 67. 40.3%\n",
      "Procesando modelo 28 de 67. 41.8%\n",
      "Procesando modelo 29 de 67. 43.3%\n",
      "Procesando modelo 30 de 67. 44.8%\n",
      "Procesando modelo 31 de 67. 46.3%\n",
      "Procesando modelo 32 de 67. 47.8%\n",
      "Procesando modelo 33 de 67. 49.3%\n",
      "Procesando modelo 34 de 67. 50.7%\n",
      "Procesando modelo 35 de 67. 52.2%\n",
      "Procesando modelo 36 de 67. 53.7%\n",
      "Procesando modelo 37 de 67. 55.2%\n",
      "Procesando modelo 38 de 67. 56.7%\n",
      "Procesando modelo 39 de 67. 58.2%\n",
      "Procesando modelo 40 de 67. 59.7%\n",
      "Procesando modelo 41 de 67. 61.2%\n",
      "Procesando modelo 42 de 67. 62.7%\n",
      "Procesando modelo 43 de 67. 64.2%\n",
      "Procesando modelo 44 de 67. 65.7%\n",
      "Procesando modelo 45 de 67. 67.2%\n",
      "Procesando modelo 46 de 67. 68.7%\n",
      "Procesando modelo 47 de 67. 70.1%\n",
      "Procesando modelo 48 de 67. 71.6%\n",
      "Procesando modelo 49 de 67. 73.1%\n",
      "Procesando modelo 50 de 67. 74.6%\n",
      "Procesando modelo 51 de 67. 76.1%\n",
      "Procesando modelo 52 de 67. 77.6%\n",
      "Procesando modelo 53 de 67. 79.1%\n",
      "Procesando modelo 54 de 67. 80.6%\n",
      "Procesando modelo 55 de 67. 82.1%\n",
      "Procesando modelo 56 de 67. 83.6%\n",
      "Procesando modelo 57 de 67. 85.1%\n",
      "Procesando modelo 58 de 67. 86.6%\n",
      "Procesando modelo 59 de 67. 88.1%\n",
      "Procesando modelo 60 de 67. 89.6%\n",
      "Procesando modelo 61 de 67. 91.0%\n",
      "Procesando modelo 62 de 67. 92.5%\n",
      "Procesando modelo 63 de 67. 94.0%\n",
      "Procesando modelo 64 de 67. 95.5%\n",
      "Procesando modelo 65 de 67. 97.0%\n",
      "Procesando modelo 66 de 67. 98.5%\n",
      "Procesando modelo 67 de 67. 100.0%\n",
      "Proceso completo 100%\n"
     ]
    }
   ],
   "source": [
    "# Variables iniciales\n",
    "metrics = []\n",
    "bd_predicted_all = pd.DataFrame()\n",
    "\n",
    "# Fecha para guardar resultados\n",
    "fecha = '12-04-23'\n",
    "\n",
    "# Ciclo para realizar el modelo de clustering por cada tipo de zona del pais\n",
    "for n, dto in enumerate(list_dtos):\n",
    "    print(f\"Procesando modelo {n+1} de {len(list_dtos)}. {(n+1) / (len(list_dtos)):.1%}\")\n",
    "    \n",
    "    #BD filtrada\n",
    "    df_dto = df_est[df_est[\"Distrito-Nombretipozona\"] == dto]\n",
    "\n",
    "    #Setup del modelo \n",
    "    s = setup(\n",
    "                df_dto,\n",
    "                verbose= False,\n",
    "                preprocess= False,\n",
    "                profile= False,\n",
    "                ignore_features= ignore_columns,\n",
    "                numeric_features= numeric_features\n",
    "                )\n",
    "    \n",
    "    #Creacion y prediccion de modelo\n",
    "    model_kmeans = create_model(\n",
    "                                'kmeans',\n",
    "                                num_clusters= 5,\n",
    "                                verbose= False,\n",
    "                                )\n",
    "    pull()\n",
    "    df_pred_km = predict_model(\n",
    "                                model_kmeans,\n",
    "                                data = df_dto\n",
    "                                )\n",
    "    \n",
    "    # Reasignacion de los nombres de los clusters\n",
    "    trans = df_pred_km.groupby(\n",
    "                                [\"Cluster\"]).agg({\n",
    "                                                \"Escala R\": np.mean, \"Escala F\": np.mean, \"Escala M\": np.mean,\n",
    "                                            }).reset_index()\n",
    "    trans[\"avg\"] = (trans[\"Escala R\"] + trans[\"Escala F\"] + trans[\"Escala M\"]) / 3\n",
    "    trans = trans.sort_values(by= [\"avg\"], ascending= False)\n",
    "    trans[\"Letra cluster\"] = [\"A\", \"B\", \"C\", \"D\", \"E\"]\n",
    "    trans = trans[[\"Cluster\", \"Letra cluster\"]]\n",
    "    \n",
    "    df_pred_km = pd.merge(df_pred_km, trans, on= [\"Cluster\"])\n",
    "    df_pred_km = df_pred_km.drop_duplicates(subset=[\"Escala R\", \"Escala F\", \"Escala M\"])\n",
    "    \n",
    "    # Descarga del modelo\n",
    "    bd_predicted = pd.merge(df_dto, df_pred_km, on= [\"Escala R\", \"Escala F\", \"Escala M\"])\n",
    "\n",
    "    bd_predicted_all = pd.concat([bd_predicted_all, bd_predicted], ignore_index=  True)\n",
    "\n",
    "    #Append a la variable incial de metricas\n",
    "    metrics.append({\n",
    "                    \"Distrito-zona\": dto,\n",
    "                    \"Silhouette\": pull().Silhouette[0],\n",
    "                    \"Calinski-Harabasz\": pull()[\"Calinski-Harabasz\"][0],\n",
    "                    \"Davies-Bouldin\": pull()[\"Davies-Bouldin\"][0]\n",
    "                    })\n",
    "    # save_model(model_kmeans, f\"C:/Users/tcardenas/OneDrive/OneDrive - Grupo DISPAPELES/Documents/ML-Dispapeles-TomasCaLo/Clustering/Modelos {fecha}/Modelo {dto} {fecha}\")\n",
    "\n",
    "# Transformacion de la variable de metricas\n",
    "metrics = pd.DataFrame(metrics)\n",
    "metrics[\"Tipo zona\"] = metrics[\"Distrito-zona\"].str[3:]\n",
    "\n",
    "print(\"Proceso completo 100%\")"
   ]
  },
  {
   "cell_type": "code",
   "execution_count": 14,
   "metadata": {},
   "outputs": [],
   "source": [
    "# Descarga de bd predicha y metricas calculadas\n",
    "bd_predicted_all.to_csv(f\"C:/Users/tcardenas/OneDrive/OneDrive - Grupo DISPAPELES/Documents/ML-Dispapeles-TomasCaLo/Clustering/Clustering {fecha}.csv\",\n",
    "                        encoding= 'utf-8', index= False, decimal= \",\", sep= \";\")\n",
    "metrics.to_csv(f\"C:/Users/tcardenas/OneDrive/OneDrive - Grupo DISPAPELES/Documents/ML-Dispapeles-TomasCaLo/Clustering/Metricas {fecha}.csv\",\n",
    "                        encoding= 'utf-8', index= False, decimal= \",\",  sep= \";\")"
   ]
  },
  {
   "cell_type": "code",
   "execution_count": 20,
   "metadata": {},
   "outputs": [
    {
     "data": {
      "application/vnd.plotly.v1+json": {
       "config": {
        "plotlyServerURL": "https://plot.ly"
       },
       "data": [
        {
         "hovertemplate": "Letra cluster=A<br>Escala R=%{x}<br>Escala F=%{y}<br>Escala M=%{z}<extra></extra>",
         "legendgroup": "A",
         "marker": {
          "color": "#636efa",
          "symbol": "circle"
         },
         "mode": "markers",
         "name": "A",
         "scene": "scene",
         "showlegend": true,
         "type": "scatter3d",
         "x": [
          5,
          5,
          5,
          5
         ],
         "y": [
          4,
          5,
          5,
          5
         ],
         "z": [
          5,
          5,
          4,
          3
         ]
        },
        {
         "hovertemplate": "Letra cluster=B<br>Escala R=%{x}<br>Escala F=%{y}<br>Escala M=%{z}<extra></extra>",
         "legendgroup": "B",
         "marker": {
          "color": "#EF553B",
          "symbol": "circle"
         },
         "mode": "markers",
         "name": "B",
         "scene": "scene",
         "showlegend": true,
         "type": "scatter3d",
         "x": [
          4,
          4,
          5,
          4,
          5,
          5,
          4,
          4,
          5,
          3,
          5,
          4
         ],
         "y": [
          3,
          3,
          3,
          4,
          4,
          3,
          2,
          4,
          3,
          3,
          4,
          3
         ],
         "z": [
          5,
          3,
          4,
          4,
          4,
          3,
          4,
          3,
          5,
          3,
          3,
          4
         ]
        },
        {
         "hovertemplate": "Letra cluster=C<br>Escala R=%{x}<br>Escala F=%{y}<br>Escala M=%{z}<extra></extra>",
         "legendgroup": "C",
         "marker": {
          "color": "#00cc96",
          "symbol": "circle"
         },
         "mode": "markers",
         "name": "C",
         "scene": "scene",
         "showlegend": true,
         "type": "scatter3d",
         "x": [
          5,
          5,
          4,
          5,
          4,
          5,
          4,
          4,
          4,
          5,
          4,
          5,
          5
         ],
         "y": [
          1,
          1,
          3,
          1,
          1,
          2,
          2,
          1,
          1,
          2,
          1,
          1,
          3
         ],
         "z": [
          4,
          3,
          2,
          1,
          1,
          3,
          3,
          3,
          2,
          2,
          4,
          2,
          2
         ]
        },
        {
         "hovertemplate": "Letra cluster=D<br>Escala R=%{x}<br>Escala F=%{y}<br>Escala M=%{z}<extra></extra>",
         "legendgroup": "D",
         "marker": {
          "color": "#ab63fa",
          "symbol": "circle"
         },
         "mode": "markers",
         "name": "D",
         "scene": "scene",
         "showlegend": true,
         "type": "scatter3d",
         "x": [
          3,
          3,
          2,
          2,
          3,
          2,
          2,
          3
         ],
         "y": [
          1,
          2,
          1,
          2,
          1,
          1,
          1,
          1
         ],
         "z": [
          3,
          3,
          4,
          2,
          2,
          2,
          3,
          1
         ]
        },
        {
         "hovertemplate": "Letra cluster=E<br>Escala R=%{x}<br>Escala F=%{y}<br>Escala M=%{z}<extra></extra>",
         "legendgroup": "E",
         "marker": {
          "color": "#FFA15A",
          "symbol": "circle"
         },
         "mode": "markers",
         "name": "E",
         "scene": "scene",
         "showlegend": true,
         "type": "scatter3d",
         "x": [
          2,
          1,
          1,
          1
         ],
         "y": [
          1,
          1,
          1,
          1
         ],
         "z": [
          1,
          2,
          3,
          1
         ]
        }
       ],
       "layout": {
        "legend": {
         "title": {
          "text": "Letra cluster"
         },
         "tracegroupgap": 0
        },
        "margin": {
         "t": 60
        },
        "scene": {
         "domain": {
          "x": [
           0,
           1
          ],
          "y": [
           0,
           1
          ]
         },
         "xaxis": {
          "title": {
           "text": "Escala R"
          }
         },
         "yaxis": {
          "title": {
           "text": "Escala F"
          }
         },
         "zaxis": {
          "title": {
           "text": "Escala M"
          }
         }
        },
        "template": {
         "data": {
          "bar": [
           {
            "error_x": {
             "color": "#2a3f5f"
            },
            "error_y": {
             "color": "#2a3f5f"
            },
            "marker": {
             "line": {
              "color": "#E5ECF6",
              "width": 0.5
             },
             "pattern": {
              "fillmode": "overlay",
              "size": 10,
              "solidity": 0.2
             }
            },
            "type": "bar"
           }
          ],
          "barpolar": [
           {
            "marker": {
             "line": {
              "color": "#E5ECF6",
              "width": 0.5
             },
             "pattern": {
              "fillmode": "overlay",
              "size": 10,
              "solidity": 0.2
             }
            },
            "type": "barpolar"
           }
          ],
          "carpet": [
           {
            "aaxis": {
             "endlinecolor": "#2a3f5f",
             "gridcolor": "white",
             "linecolor": "white",
             "minorgridcolor": "white",
             "startlinecolor": "#2a3f5f"
            },
            "baxis": {
             "endlinecolor": "#2a3f5f",
             "gridcolor": "white",
             "linecolor": "white",
             "minorgridcolor": "white",
             "startlinecolor": "#2a3f5f"
            },
            "type": "carpet"
           }
          ],
          "choropleth": [
           {
            "colorbar": {
             "outlinewidth": 0,
             "ticks": ""
            },
            "type": "choropleth"
           }
          ],
          "contour": [
           {
            "colorbar": {
             "outlinewidth": 0,
             "ticks": ""
            },
            "colorscale": [
             [
              0,
              "#0d0887"
             ],
             [
              0.1111111111111111,
              "#46039f"
             ],
             [
              0.2222222222222222,
              "#7201a8"
             ],
             [
              0.3333333333333333,
              "#9c179e"
             ],
             [
              0.4444444444444444,
              "#bd3786"
             ],
             [
              0.5555555555555556,
              "#d8576b"
             ],
             [
              0.6666666666666666,
              "#ed7953"
             ],
             [
              0.7777777777777778,
              "#fb9f3a"
             ],
             [
              0.8888888888888888,
              "#fdca26"
             ],
             [
              1,
              "#f0f921"
             ]
            ],
            "type": "contour"
           }
          ],
          "contourcarpet": [
           {
            "colorbar": {
             "outlinewidth": 0,
             "ticks": ""
            },
            "type": "contourcarpet"
           }
          ],
          "heatmap": [
           {
            "colorbar": {
             "outlinewidth": 0,
             "ticks": ""
            },
            "colorscale": [
             [
              0,
              "#0d0887"
             ],
             [
              0.1111111111111111,
              "#46039f"
             ],
             [
              0.2222222222222222,
              "#7201a8"
             ],
             [
              0.3333333333333333,
              "#9c179e"
             ],
             [
              0.4444444444444444,
              "#bd3786"
             ],
             [
              0.5555555555555556,
              "#d8576b"
             ],
             [
              0.6666666666666666,
              "#ed7953"
             ],
             [
              0.7777777777777778,
              "#fb9f3a"
             ],
             [
              0.8888888888888888,
              "#fdca26"
             ],
             [
              1,
              "#f0f921"
             ]
            ],
            "type": "heatmap"
           }
          ],
          "heatmapgl": [
           {
            "colorbar": {
             "outlinewidth": 0,
             "ticks": ""
            },
            "colorscale": [
             [
              0,
              "#0d0887"
             ],
             [
              0.1111111111111111,
              "#46039f"
             ],
             [
              0.2222222222222222,
              "#7201a8"
             ],
             [
              0.3333333333333333,
              "#9c179e"
             ],
             [
              0.4444444444444444,
              "#bd3786"
             ],
             [
              0.5555555555555556,
              "#d8576b"
             ],
             [
              0.6666666666666666,
              "#ed7953"
             ],
             [
              0.7777777777777778,
              "#fb9f3a"
             ],
             [
              0.8888888888888888,
              "#fdca26"
             ],
             [
              1,
              "#f0f921"
             ]
            ],
            "type": "heatmapgl"
           }
          ],
          "histogram": [
           {
            "marker": {
             "pattern": {
              "fillmode": "overlay",
              "size": 10,
              "solidity": 0.2
             }
            },
            "type": "histogram"
           }
          ],
          "histogram2d": [
           {
            "colorbar": {
             "outlinewidth": 0,
             "ticks": ""
            },
            "colorscale": [
             [
              0,
              "#0d0887"
             ],
             [
              0.1111111111111111,
              "#46039f"
             ],
             [
              0.2222222222222222,
              "#7201a8"
             ],
             [
              0.3333333333333333,
              "#9c179e"
             ],
             [
              0.4444444444444444,
              "#bd3786"
             ],
             [
              0.5555555555555556,
              "#d8576b"
             ],
             [
              0.6666666666666666,
              "#ed7953"
             ],
             [
              0.7777777777777778,
              "#fb9f3a"
             ],
             [
              0.8888888888888888,
              "#fdca26"
             ],
             [
              1,
              "#f0f921"
             ]
            ],
            "type": "histogram2d"
           }
          ],
          "histogram2dcontour": [
           {
            "colorbar": {
             "outlinewidth": 0,
             "ticks": ""
            },
            "colorscale": [
             [
              0,
              "#0d0887"
             ],
             [
              0.1111111111111111,
              "#46039f"
             ],
             [
              0.2222222222222222,
              "#7201a8"
             ],
             [
              0.3333333333333333,
              "#9c179e"
             ],
             [
              0.4444444444444444,
              "#bd3786"
             ],
             [
              0.5555555555555556,
              "#d8576b"
             ],
             [
              0.6666666666666666,
              "#ed7953"
             ],
             [
              0.7777777777777778,
              "#fb9f3a"
             ],
             [
              0.8888888888888888,
              "#fdca26"
             ],
             [
              1,
              "#f0f921"
             ]
            ],
            "type": "histogram2dcontour"
           }
          ],
          "mesh3d": [
           {
            "colorbar": {
             "outlinewidth": 0,
             "ticks": ""
            },
            "type": "mesh3d"
           }
          ],
          "parcoords": [
           {
            "line": {
             "colorbar": {
              "outlinewidth": 0,
              "ticks": ""
             }
            },
            "type": "parcoords"
           }
          ],
          "pie": [
           {
            "automargin": true,
            "type": "pie"
           }
          ],
          "scatter": [
           {
            "fillpattern": {
             "fillmode": "overlay",
             "size": 10,
             "solidity": 0.2
            },
            "type": "scatter"
           }
          ],
          "scatter3d": [
           {
            "line": {
             "colorbar": {
              "outlinewidth": 0,
              "ticks": ""
             }
            },
            "marker": {
             "colorbar": {
              "outlinewidth": 0,
              "ticks": ""
             }
            },
            "type": "scatter3d"
           }
          ],
          "scattercarpet": [
           {
            "marker": {
             "colorbar": {
              "outlinewidth": 0,
              "ticks": ""
             }
            },
            "type": "scattercarpet"
           }
          ],
          "scattergeo": [
           {
            "marker": {
             "colorbar": {
              "outlinewidth": 0,
              "ticks": ""
             }
            },
            "type": "scattergeo"
           }
          ],
          "scattergl": [
           {
            "marker": {
             "colorbar": {
              "outlinewidth": 0,
              "ticks": ""
             }
            },
            "type": "scattergl"
           }
          ],
          "scattermapbox": [
           {
            "marker": {
             "colorbar": {
              "outlinewidth": 0,
              "ticks": ""
             }
            },
            "type": "scattermapbox"
           }
          ],
          "scatterpolar": [
           {
            "marker": {
             "colorbar": {
              "outlinewidth": 0,
              "ticks": ""
             }
            },
            "type": "scatterpolar"
           }
          ],
          "scatterpolargl": [
           {
            "marker": {
             "colorbar": {
              "outlinewidth": 0,
              "ticks": ""
             }
            },
            "type": "scatterpolargl"
           }
          ],
          "scatterternary": [
           {
            "marker": {
             "colorbar": {
              "outlinewidth": 0,
              "ticks": ""
             }
            },
            "type": "scatterternary"
           }
          ],
          "surface": [
           {
            "colorbar": {
             "outlinewidth": 0,
             "ticks": ""
            },
            "colorscale": [
             [
              0,
              "#0d0887"
             ],
             [
              0.1111111111111111,
              "#46039f"
             ],
             [
              0.2222222222222222,
              "#7201a8"
             ],
             [
              0.3333333333333333,
              "#9c179e"
             ],
             [
              0.4444444444444444,
              "#bd3786"
             ],
             [
              0.5555555555555556,
              "#d8576b"
             ],
             [
              0.6666666666666666,
              "#ed7953"
             ],
             [
              0.7777777777777778,
              "#fb9f3a"
             ],
             [
              0.8888888888888888,
              "#fdca26"
             ],
             [
              1,
              "#f0f921"
             ]
            ],
            "type": "surface"
           }
          ],
          "table": [
           {
            "cells": {
             "fill": {
              "color": "#EBF0F8"
             },
             "line": {
              "color": "white"
             }
            },
            "header": {
             "fill": {
              "color": "#C8D4E3"
             },
             "line": {
              "color": "white"
             }
            },
            "type": "table"
           }
          ]
         },
         "layout": {
          "annotationdefaults": {
           "arrowcolor": "#2a3f5f",
           "arrowhead": 0,
           "arrowwidth": 1
          },
          "autotypenumbers": "strict",
          "coloraxis": {
           "colorbar": {
            "outlinewidth": 0,
            "ticks": ""
           }
          },
          "colorscale": {
           "diverging": [
            [
             0,
             "#8e0152"
            ],
            [
             0.1,
             "#c51b7d"
            ],
            [
             0.2,
             "#de77ae"
            ],
            [
             0.3,
             "#f1b6da"
            ],
            [
             0.4,
             "#fde0ef"
            ],
            [
             0.5,
             "#f7f7f7"
            ],
            [
             0.6,
             "#e6f5d0"
            ],
            [
             0.7,
             "#b8e186"
            ],
            [
             0.8,
             "#7fbc41"
            ],
            [
             0.9,
             "#4d9221"
            ],
            [
             1,
             "#276419"
            ]
           ],
           "sequential": [
            [
             0,
             "#0d0887"
            ],
            [
             0.1111111111111111,
             "#46039f"
            ],
            [
             0.2222222222222222,
             "#7201a8"
            ],
            [
             0.3333333333333333,
             "#9c179e"
            ],
            [
             0.4444444444444444,
             "#bd3786"
            ],
            [
             0.5555555555555556,
             "#d8576b"
            ],
            [
             0.6666666666666666,
             "#ed7953"
            ],
            [
             0.7777777777777778,
             "#fb9f3a"
            ],
            [
             0.8888888888888888,
             "#fdca26"
            ],
            [
             1,
             "#f0f921"
            ]
           ],
           "sequentialminus": [
            [
             0,
             "#0d0887"
            ],
            [
             0.1111111111111111,
             "#46039f"
            ],
            [
             0.2222222222222222,
             "#7201a8"
            ],
            [
             0.3333333333333333,
             "#9c179e"
            ],
            [
             0.4444444444444444,
             "#bd3786"
            ],
            [
             0.5555555555555556,
             "#d8576b"
            ],
            [
             0.6666666666666666,
             "#ed7953"
            ],
            [
             0.7777777777777778,
             "#fb9f3a"
            ],
            [
             0.8888888888888888,
             "#fdca26"
            ],
            [
             1,
             "#f0f921"
            ]
           ]
          },
          "colorway": [
           "#636efa",
           "#EF553B",
           "#00cc96",
           "#ab63fa",
           "#FFA15A",
           "#19d3f3",
           "#FF6692",
           "#B6E880",
           "#FF97FF",
           "#FECB52"
          ],
          "font": {
           "color": "#2a3f5f"
          },
          "geo": {
           "bgcolor": "white",
           "lakecolor": "white",
           "landcolor": "#E5ECF6",
           "showlakes": true,
           "showland": true,
           "subunitcolor": "white"
          },
          "hoverlabel": {
           "align": "left"
          },
          "hovermode": "closest",
          "mapbox": {
           "style": "light"
          },
          "paper_bgcolor": "white",
          "plot_bgcolor": "#E5ECF6",
          "polar": {
           "angularaxis": {
            "gridcolor": "white",
            "linecolor": "white",
            "ticks": ""
           },
           "bgcolor": "#E5ECF6",
           "radialaxis": {
            "gridcolor": "white",
            "linecolor": "white",
            "ticks": ""
           }
          },
          "scene": {
           "xaxis": {
            "backgroundcolor": "#E5ECF6",
            "gridcolor": "white",
            "gridwidth": 2,
            "linecolor": "white",
            "showbackground": true,
            "ticks": "",
            "zerolinecolor": "white"
           },
           "yaxis": {
            "backgroundcolor": "#E5ECF6",
            "gridcolor": "white",
            "gridwidth": 2,
            "linecolor": "white",
            "showbackground": true,
            "ticks": "",
            "zerolinecolor": "white"
           },
           "zaxis": {
            "backgroundcolor": "#E5ECF6",
            "gridcolor": "white",
            "gridwidth": 2,
            "linecolor": "white",
            "showbackground": true,
            "ticks": "",
            "zerolinecolor": "white"
           }
          },
          "shapedefaults": {
           "line": {
            "color": "#2a3f5f"
           }
          },
          "ternary": {
           "aaxis": {
            "gridcolor": "white",
            "linecolor": "white",
            "ticks": ""
           },
           "baxis": {
            "gridcolor": "white",
            "linecolor": "white",
            "ticks": ""
           },
           "bgcolor": "#E5ECF6",
           "caxis": {
            "gridcolor": "white",
            "linecolor": "white",
            "ticks": ""
           }
          },
          "title": {
           "x": 0.05
          },
          "xaxis": {
           "automargin": true,
           "gridcolor": "white",
           "linecolor": "white",
           "ticks": "",
           "title": {
            "standoff": 15
           },
           "zerolinecolor": "white",
           "zerolinewidth": 2
          },
          "yaxis": {
           "automargin": true,
           "gridcolor": "white",
           "linecolor": "white",
           "ticks": "",
           "title": {
            "standoff": 15
           },
           "zerolinecolor": "white",
           "zerolinewidth": 2
          }
         }
        }
       }
      }
     },
     "metadata": {},
     "output_type": "display_data"
    }
   ],
   "source": [
    "fig = px.scatter_3d(df_pred_km.sort_values(by= \"Letra cluster\"), x= \"Escala R\", y= \"Escala F\", z= \"Escala M\",\n",
    "                    color= \"Letra cluster\")\n",
    "fig.show()"
   ]
  },
  {
   "cell_type": "code",
   "execution_count": 21,
   "metadata": {},
   "outputs": [
    {
     "data": {
      "text/html": [],
      "text/plain": [
       "<IPython.core.display.HTML object>"
      ]
     },
     "metadata": {},
     "output_type": "display_data"
    },
    {
     "data": {
      "application/vnd.plotly.v1+json": {
       "config": {
        "plotlyServerURL": "https://plot.ly"
       },
       "data": [
        {
         "customdata": [
          [
           null
          ],
          [
           null
          ],
          [
           null
          ],
          [
           null
          ],
          [
           null
          ],
          [
           null
          ],
          [
           null
          ],
          [
           null
          ],
          [
           null
          ],
          [
           null
          ],
          [
           null
          ],
          [
           null
          ],
          [
           null
          ],
          [
           null
          ],
          [
           null
          ],
          [
           null
          ],
          [
           null
          ],
          [
           null
          ],
          [
           null
          ],
          [
           null
          ],
          [
           null
          ],
          [
           null
          ],
          [
           null
          ],
          [
           null
          ],
          [
           null
          ],
          [
           null
          ]
         ],
         "hovertemplate": "Cluster=Cluster 0<br>PCA1=%{x}<br>PCA2=%{y}<br>Feature=%{customdata[0]}<extra></extra>",
         "legendgroup": "Cluster 0",
         "marker": {
          "color": "#636efa",
          "opacity": 0.5,
          "symbol": "circle"
         },
         "mode": "markers",
         "name": "Cluster 0",
         "orientation": "v",
         "showlegend": true,
         "textposition": "top center",
         "type": "scatter",
         "x": [
          -2.387356371140162,
          -2.387356371140162,
          -2.205825117413669,
          -2.8528949256856215,
          -1.9218178165947026,
          -2.205825117413669,
          -2.205825117413669,
          -2.387356371140162,
          -1.9218178165947026,
          -2.8528949256856215,
          -2.387356371140162,
          -2.8528949256856215,
          -2.387356371140162,
          -2.8528949256856215,
          -2.205825117413669,
          -2.387356371140162,
          -2.205825117413669,
          -2.8528949256856215,
          -2.387356371140162,
          -2.2058251174136685,
          -2.205825117413669,
          -2.205825117413669,
          -2.8528949256856215,
          -2.387356371140162,
          -2.8528949256856215,
          -2.387356371140162
         ],
         "xaxis": "x",
         "y": [
          -1.137559180701493,
          -1.137559180701493,
          0.02478287324520855,
          -0.7376336859241135,
          -1.5374846754788725,
          0.02478287324520855,
          0.02478287324520855,
          -1.137559180701493,
          -1.5374846754788725,
          -0.7376336859241135,
          -1.137559180701493,
          -0.7376336859241135,
          -1.137559180701493,
          -0.7376336859241135,
          0.02478287324520855,
          -1.137559180701493,
          0.02478287324520855,
          -0.7376336859241135,
          -1.137559180701493,
          0.02478287324520819,
          0.02478287324520855,
          0.02478287324520855,
          -0.7376336859241135,
          -1.137559180701493,
          -0.7376336859241135,
          -1.137559180701493
         ],
         "yaxis": "y"
        },
        {
         "customdata": [
          [
           null
          ],
          [
           null
          ],
          [
           null
          ],
          [
           null
          ],
          [
           null
          ],
          [
           null
          ],
          [
           null
          ],
          [
           null
          ],
          [
           null
          ],
          [
           null
          ],
          [
           null
          ],
          [
           null
          ],
          [
           null
          ],
          [
           null
          ],
          [
           null
          ],
          [
           null
          ],
          [
           null
          ],
          [
           null
          ],
          [
           null
          ],
          [
           null
          ],
          [
           null
          ],
          [
           null
          ],
          [
           null
          ]
         ],
         "hovertemplate": "Cluster=Cluster 1<br>PCA1=%{x}<br>PCA2=%{y}<br>Feature=%{customdata[0]}<extra></extra>",
         "legendgroup": "Cluster 1",
         "marker": {
          "color": "#EF553B",
          "opacity": 0.5,
          "symbol": "circle"
         },
         "mode": "markers",
         "name": "Cluster 1",
         "orientation": "v",
         "showlegend": true,
         "textposition": "top center",
         "type": "scatter",
         "x": [
          2.158068845590674,
          2.4778616089110077,
          1.8740615447717084,
          1.8740615447717084,
          2.3396000993171677,
          2.9434001634564675,
          2.3396000993171677,
          1.088730226905915,
          1.8307918006390553,
          2.3396000993171677,
          2.805138653862627,
          0.5799219282278024,
          2.3396000993171677,
          1.088730226905915,
          2.9434001634564675,
          2.3396000993171677,
          2.805138653862627,
          1.6925302910452147,
          2.9434001634564675,
          1.2269917364997553,
          1.8740615447717084,
          2.3396000993171677,
          2.296330355184515
         ],
         "xaxis": "x",
         "y": [
          -1.0674956177759003,
          -0.013932884176936926,
          0.4947719309481805,
          0.4947719309481805,
          0.09484643617080099,
          -0.41385837895431643,
          0.09484643617080099,
          -0.15886530787340353,
          -0.7763494433462589,
          0.09484643617080099,
          -0.3050790586065785,
          -1.030061187390463,
          0.09484643617080099,
          -0.15886530787340353,
          -0.41385837895431643,
          0.09484643617080099,
          -0.3050790586065785,
          -0.6675701229985209,
          -0.41385837895431643,
          -0.2676446282211413,
          0.4947719309481805,
          0.09484643617080099,
          -1.1762749381236384
         ],
         "yaxis": "y"
        },
        {
         "customdata": [
          [
           null
          ],
          [
           null
          ],
          [
           null
          ],
          [
           null
          ],
          [
           null
          ],
          [
           null
          ],
          [
           null
          ],
          [
           null
          ],
          [
           null
          ],
          [
           null
          ],
          [
           null
          ],
          [
           null
          ],
          [
           null
          ],
          [
           null
          ],
          [
           null
          ],
          [
           null
          ],
          [
           null
          ],
          [
           null
          ],
          [
           null
          ],
          [
           null
          ],
          [
           null
          ],
          [
           null
          ],
          [
           null
          ],
          [
           null
          ],
          [
           null
          ],
          [
           null
          ],
          [
           null
          ],
          [
           null
          ],
          [
           null
          ],
          [
           null
          ],
          [
           null
          ],
          [
           null
          ],
          [
           null
          ]
         ],
         "hovertemplate": "Cluster=Cluster 2<br>PCA1=%{x}<br>PCA2=%{y}<br>Feature=%{customdata[0]}<extra></extra>",
         "legendgroup": "Cluster 2",
         "marker": {
          "color": "#00cc96",
          "opacity": 0.5,
          "symbol": "circle"
         },
         "mode": "markers",
         "name": "Cluster 2",
         "orientation": "v",
         "showlegend": true,
         "textposition": "top center",
         "type": "scatter",
         "x": [
          0.6664614164931084,
          0.01939160822115569,
          0.4849301627666151,
          -0.2646156925978102,
          0.6231916723604555,
          1.2702614806324086,
          1.2702614806324086,
          0.01939160822115569,
          0.8047229260869492,
          1.408522990226249,
          0.8047229260869492,
          -0.44614694632430363,
          -0.44614694632430363,
          -0.2646156925978102,
          -0.44614694632430363,
          0.4849301627666151,
          0.6231916723604555,
          0.7614531819542961,
          1.2702614806324086,
          1.1319999710385678,
          0.20092286194764913,
          0.20092286194764913,
          1.2702614806324086,
          -0.44614694632430363,
          0.20092286194764913,
          0.6231916723604555,
          0.20092286194764913,
          1.2702614806324086,
          -0.911685500869763,
          0.01939160822115569,
          0.20092286194764913,
          1.2702614806324086,
          -0.44614694632430363
         ],
         "xaxis": "x",
         "y": [
          1.5121815611984153,
          0.7497650020290934,
          0.34983950725171387,
          2.3120325507531745,
          0.24106018690397607,
          1.0034767460732978,
          1.0034767460732978,
          0.7497650020290934,
          1.4034022408506774,
          0.89469742572556,
          1.4034022408506774,
          1.1496904968064727,
          1.1496904968064727,
          2.3120325507531745,
          1.1496904968064727,
          0.34983950725171387,
          0.24106018690397607,
          0.13228086655623808,
          1.0034767460732978,
          1.112256066421036,
          1.912107055975795,
          1.912107055975795,
          1.0034767460732978,
          1.1496904968064727,
          1.912107055975795,
          0.24106018690397607,
          1.912107055975795,
          1.0034767460732978,
          1.549615991583852,
          0.7497650020290934,
          1.912107055975795,
          1.0034767460732978,
          1.1496904968064727
         ],
         "yaxis": "y"
        },
        {
         "customdata": [
          [
           null
          ],
          [
           null
          ],
          [
           null
          ],
          [
           null
          ],
          [
           null
          ],
          [
           null
          ],
          [
           null
          ],
          [
           null
          ],
          [
           null
          ],
          [
           null
          ],
          [
           null
          ],
          [
           null
          ],
          [
           null
          ],
          [
           null
          ]
         ],
         "hovertemplate": "Cluster=Cluster 3<br>PCA1=%{x}<br>PCA2=%{y}<br>Feature=%{customdata[0]}<extra></extra>",
         "legendgroup": "Cluster 3",
         "marker": {
          "color": "#ab63fa",
          "opacity": 0.5,
          "symbol": "circle"
         },
         "mode": "markers",
         "name": "Cluster 3",
         "orientation": "v",
         "showlegend": true,
         "textposition": "top center",
         "type": "scatter",
         "x": [
          3.408938718001927,
          3.081661673050309,
          3.5472002275957677,
          3.5472002275957677,
          4.012738782141227,
          3.5472002275957677,
          4.012738782141227,
          3.5472002275957677,
          3.5472002275957677,
          4.012738782141227,
          3.081661673050309,
          3.081661673050309,
          3.5472002275957677,
          3.5472002275957677
         ],
         "xaxis": "x",
         "y": [
          -0.813783873731696,
          -0.5226376993020544,
          -0.9225631940794338,
          -0.9225631940794338,
          -1.3224886888568135,
          -0.9225631940794338,
          -1.3224886888568135,
          -0.9225631940794338,
          -0.9225631940794338,
          -1.3224886888568135,
          -0.5226376993020544,
          -0.5226376993020544,
          -0.9225631940794338,
          -0.9225631940794338
         ],
         "yaxis": "y"
        },
        {
         "customdata": [
          [
           null
          ],
          [
           null
          ],
          [
           null
          ],
          [
           null
          ],
          [
           null
          ],
          [
           null
          ],
          [
           null
          ],
          [
           null
          ],
          [
           null
          ],
          [
           null
          ],
          [
           null
          ],
          [
           null
          ],
          [
           null
          ],
          [
           null
          ],
          [
           null
          ],
          [
           null
          ],
          [
           null
          ],
          [
           null
          ],
          [
           null
          ],
          [
           null
          ],
          [
           null
          ],
          [
           null
          ],
          [
           null
          ],
          [
           null
          ],
          [
           null
          ],
          [
           null
          ],
          [
           null
          ],
          [
           null
          ],
          [
           null
          ],
          [
           null
          ],
          [
           null
          ],
          [
           null
          ],
          [
           null
          ],
          [
           null
          ],
          [
           null
          ],
          [
           null
          ],
          [
           null
          ],
          [
           null
          ],
          [
           null
          ],
          [
           null
          ]
         ],
         "hovertemplate": "Cluster=Cluster 4<br>PCA1=%{x}<br>PCA2=%{y}<br>Feature=%{customdata[0]}<extra></extra>",
         "legendgroup": "Cluster 4",
         "marker": {
          "color": "#FFA15A",
          "opacity": 0.5,
          "symbol": "circle"
         },
         "mode": "markers",
         "name": "Cluster 4",
         "orientation": "v",
         "showlegend": true,
         "textposition": "top center",
         "type": "scatter",
         "x": [
          -0.6276782000507961,
          -1.2747480083227503,
          -1.558755309141716,
          -1.0932167545962563,
          -1.0932167545962563,
          -1.2747480083227503,
          -1.558755309141716,
          -1.0932167545962563,
          -1.1364864987289096,
          -0.8092094537772909,
          -1.0932167545962563,
          -0.02387813591149739,
          -1.7402865628682096,
          -1.2747480083227503,
          -1.558755309141716,
          -0.6276782000507971,
          -1.0932167545962563,
          -0.6276782000507971,
          -1.0932167545962563,
          -0.6276782000507971,
          -1.7402865628682096,
          -1.558755309141716,
          -1.7402865628682096,
          -1.0932167545962563,
          -1.2747480083227503,
          -0.6276782000507971,
          -1.7402865628682096,
          -1.7402865628682096,
          -1.7402865628682096,
          -1.558755309141716,
          -1.7402865628682096,
          -1.2747480083227503,
          -1.0932167545962563,
          -0.02387813591149739,
          -1.558755309141716,
          -1.0932167545962563,
          -1.0932167545962563,
          -1.7402865628682096,
          -1.0932167545962563,
          -1.7402865628682016
         ],
         "xaxis": "x",
         "y": [
          -0.012651557140229376,
          -0.7750681163095505,
          0.7871994324145305,
          0.38727393763715096,
          0.38727393763715096,
          -0.7750681163095505,
          0.7871994324145305,
          0.38727393763715096,
          -0.8838474366572884,
          -1.17499361108693,
          0.38727393763715096,
          -0.5213563722653458,
          -0.37514262153217093,
          -0.7750681163095505,
          0.7871994324145305,
          -0.012651557140228448,
          0.38727393763715096,
          -0.012651557140228448,
          0.38727393763715096,
          -0.012651557140228448,
          -0.37514262153217093,
          0.7871994324145305,
          -0.37514262153217093,
          0.38727393763715096,
          -0.7750681163095505,
          -0.012651557140228448,
          -0.37514262153217093,
          -0.37514262153217093,
          -0.37514262153217093,
          0.7871994324145305,
          -0.37514262153217093,
          -0.7750681163095505,
          0.38727393763715096,
          -0.5213563722653458,
          0.7871994324145305,
          0.38727393763715096,
          0.38727393763715096,
          -0.37514262153217093,
          0.38727393763715096,
          -0.37514262153217426
         ],
         "yaxis": "y"
        }
       ],
       "layout": {
        "height": 600,
        "legend": {
         "title": {
          "text": "Cluster"
         },
         "tracegroupgap": 0
        },
        "margin": {
         "t": 60
        },
        "plot_bgcolor": "rgb(240,240,240)",
        "template": {
         "data": {
          "bar": [
           {
            "error_x": {
             "color": "#2a3f5f"
            },
            "error_y": {
             "color": "#2a3f5f"
            },
            "marker": {
             "line": {
              "color": "#E5ECF6",
              "width": 0.5
             },
             "pattern": {
              "fillmode": "overlay",
              "size": 10,
              "solidity": 0.2
             }
            },
            "type": "bar"
           }
          ],
          "barpolar": [
           {
            "marker": {
             "line": {
              "color": "#E5ECF6",
              "width": 0.5
             },
             "pattern": {
              "fillmode": "overlay",
              "size": 10,
              "solidity": 0.2
             }
            },
            "type": "barpolar"
           }
          ],
          "carpet": [
           {
            "aaxis": {
             "endlinecolor": "#2a3f5f",
             "gridcolor": "white",
             "linecolor": "white",
             "minorgridcolor": "white",
             "startlinecolor": "#2a3f5f"
            },
            "baxis": {
             "endlinecolor": "#2a3f5f",
             "gridcolor": "white",
             "linecolor": "white",
             "minorgridcolor": "white",
             "startlinecolor": "#2a3f5f"
            },
            "type": "carpet"
           }
          ],
          "choropleth": [
           {
            "colorbar": {
             "outlinewidth": 0,
             "ticks": ""
            },
            "type": "choropleth"
           }
          ],
          "contour": [
           {
            "colorbar": {
             "outlinewidth": 0,
             "ticks": ""
            },
            "colorscale": [
             [
              0,
              "#0d0887"
             ],
             [
              0.1111111111111111,
              "#46039f"
             ],
             [
              0.2222222222222222,
              "#7201a8"
             ],
             [
              0.3333333333333333,
              "#9c179e"
             ],
             [
              0.4444444444444444,
              "#bd3786"
             ],
             [
              0.5555555555555556,
              "#d8576b"
             ],
             [
              0.6666666666666666,
              "#ed7953"
             ],
             [
              0.7777777777777778,
              "#fb9f3a"
             ],
             [
              0.8888888888888888,
              "#fdca26"
             ],
             [
              1,
              "#f0f921"
             ]
            ],
            "type": "contour"
           }
          ],
          "contourcarpet": [
           {
            "colorbar": {
             "outlinewidth": 0,
             "ticks": ""
            },
            "type": "contourcarpet"
           }
          ],
          "heatmap": [
           {
            "colorbar": {
             "outlinewidth": 0,
             "ticks": ""
            },
            "colorscale": [
             [
              0,
              "#0d0887"
             ],
             [
              0.1111111111111111,
              "#46039f"
             ],
             [
              0.2222222222222222,
              "#7201a8"
             ],
             [
              0.3333333333333333,
              "#9c179e"
             ],
             [
              0.4444444444444444,
              "#bd3786"
             ],
             [
              0.5555555555555556,
              "#d8576b"
             ],
             [
              0.6666666666666666,
              "#ed7953"
             ],
             [
              0.7777777777777778,
              "#fb9f3a"
             ],
             [
              0.8888888888888888,
              "#fdca26"
             ],
             [
              1,
              "#f0f921"
             ]
            ],
            "type": "heatmap"
           }
          ],
          "heatmapgl": [
           {
            "colorbar": {
             "outlinewidth": 0,
             "ticks": ""
            },
            "colorscale": [
             [
              0,
              "#0d0887"
             ],
             [
              0.1111111111111111,
              "#46039f"
             ],
             [
              0.2222222222222222,
              "#7201a8"
             ],
             [
              0.3333333333333333,
              "#9c179e"
             ],
             [
              0.4444444444444444,
              "#bd3786"
             ],
             [
              0.5555555555555556,
              "#d8576b"
             ],
             [
              0.6666666666666666,
              "#ed7953"
             ],
             [
              0.7777777777777778,
              "#fb9f3a"
             ],
             [
              0.8888888888888888,
              "#fdca26"
             ],
             [
              1,
              "#f0f921"
             ]
            ],
            "type": "heatmapgl"
           }
          ],
          "histogram": [
           {
            "marker": {
             "pattern": {
              "fillmode": "overlay",
              "size": 10,
              "solidity": 0.2
             }
            },
            "type": "histogram"
           }
          ],
          "histogram2d": [
           {
            "colorbar": {
             "outlinewidth": 0,
             "ticks": ""
            },
            "colorscale": [
             [
              0,
              "#0d0887"
             ],
             [
              0.1111111111111111,
              "#46039f"
             ],
             [
              0.2222222222222222,
              "#7201a8"
             ],
             [
              0.3333333333333333,
              "#9c179e"
             ],
             [
              0.4444444444444444,
              "#bd3786"
             ],
             [
              0.5555555555555556,
              "#d8576b"
             ],
             [
              0.6666666666666666,
              "#ed7953"
             ],
             [
              0.7777777777777778,
              "#fb9f3a"
             ],
             [
              0.8888888888888888,
              "#fdca26"
             ],
             [
              1,
              "#f0f921"
             ]
            ],
            "type": "histogram2d"
           }
          ],
          "histogram2dcontour": [
           {
            "colorbar": {
             "outlinewidth": 0,
             "ticks": ""
            },
            "colorscale": [
             [
              0,
              "#0d0887"
             ],
             [
              0.1111111111111111,
              "#46039f"
             ],
             [
              0.2222222222222222,
              "#7201a8"
             ],
             [
              0.3333333333333333,
              "#9c179e"
             ],
             [
              0.4444444444444444,
              "#bd3786"
             ],
             [
              0.5555555555555556,
              "#d8576b"
             ],
             [
              0.6666666666666666,
              "#ed7953"
             ],
             [
              0.7777777777777778,
              "#fb9f3a"
             ],
             [
              0.8888888888888888,
              "#fdca26"
             ],
             [
              1,
              "#f0f921"
             ]
            ],
            "type": "histogram2dcontour"
           }
          ],
          "mesh3d": [
           {
            "colorbar": {
             "outlinewidth": 0,
             "ticks": ""
            },
            "type": "mesh3d"
           }
          ],
          "parcoords": [
           {
            "line": {
             "colorbar": {
              "outlinewidth": 0,
              "ticks": ""
             }
            },
            "type": "parcoords"
           }
          ],
          "pie": [
           {
            "automargin": true,
            "type": "pie"
           }
          ],
          "scatter": [
           {
            "fillpattern": {
             "fillmode": "overlay",
             "size": 10,
             "solidity": 0.2
            },
            "type": "scatter"
           }
          ],
          "scatter3d": [
           {
            "line": {
             "colorbar": {
              "outlinewidth": 0,
              "ticks": ""
             }
            },
            "marker": {
             "colorbar": {
              "outlinewidth": 0,
              "ticks": ""
             }
            },
            "type": "scatter3d"
           }
          ],
          "scattercarpet": [
           {
            "marker": {
             "colorbar": {
              "outlinewidth": 0,
              "ticks": ""
             }
            },
            "type": "scattercarpet"
           }
          ],
          "scattergeo": [
           {
            "marker": {
             "colorbar": {
              "outlinewidth": 0,
              "ticks": ""
             }
            },
            "type": "scattergeo"
           }
          ],
          "scattergl": [
           {
            "marker": {
             "colorbar": {
              "outlinewidth": 0,
              "ticks": ""
             }
            },
            "type": "scattergl"
           }
          ],
          "scattermapbox": [
           {
            "marker": {
             "colorbar": {
              "outlinewidth": 0,
              "ticks": ""
             }
            },
            "type": "scattermapbox"
           }
          ],
          "scatterpolar": [
           {
            "marker": {
             "colorbar": {
              "outlinewidth": 0,
              "ticks": ""
             }
            },
            "type": "scatterpolar"
           }
          ],
          "scatterpolargl": [
           {
            "marker": {
             "colorbar": {
              "outlinewidth": 0,
              "ticks": ""
             }
            },
            "type": "scatterpolargl"
           }
          ],
          "scatterternary": [
           {
            "marker": {
             "colorbar": {
              "outlinewidth": 0,
              "ticks": ""
             }
            },
            "type": "scatterternary"
           }
          ],
          "surface": [
           {
            "colorbar": {
             "outlinewidth": 0,
             "ticks": ""
            },
            "colorscale": [
             [
              0,
              "#0d0887"
             ],
             [
              0.1111111111111111,
              "#46039f"
             ],
             [
              0.2222222222222222,
              "#7201a8"
             ],
             [
              0.3333333333333333,
              "#9c179e"
             ],
             [
              0.4444444444444444,
              "#bd3786"
             ],
             [
              0.5555555555555556,
              "#d8576b"
             ],
             [
              0.6666666666666666,
              "#ed7953"
             ],
             [
              0.7777777777777778,
              "#fb9f3a"
             ],
             [
              0.8888888888888888,
              "#fdca26"
             ],
             [
              1,
              "#f0f921"
             ]
            ],
            "type": "surface"
           }
          ],
          "table": [
           {
            "cells": {
             "fill": {
              "color": "#EBF0F8"
             },
             "line": {
              "color": "white"
             }
            },
            "header": {
             "fill": {
              "color": "#C8D4E3"
             },
             "line": {
              "color": "white"
             }
            },
            "type": "table"
           }
          ]
         },
         "layout": {
          "annotationdefaults": {
           "arrowcolor": "#2a3f5f",
           "arrowhead": 0,
           "arrowwidth": 1
          },
          "autotypenumbers": "strict",
          "coloraxis": {
           "colorbar": {
            "outlinewidth": 0,
            "ticks": ""
           }
          },
          "colorscale": {
           "diverging": [
            [
             0,
             "#8e0152"
            ],
            [
             0.1,
             "#c51b7d"
            ],
            [
             0.2,
             "#de77ae"
            ],
            [
             0.3,
             "#f1b6da"
            ],
            [
             0.4,
             "#fde0ef"
            ],
            [
             0.5,
             "#f7f7f7"
            ],
            [
             0.6,
             "#e6f5d0"
            ],
            [
             0.7,
             "#b8e186"
            ],
            [
             0.8,
             "#7fbc41"
            ],
            [
             0.9,
             "#4d9221"
            ],
            [
             1,
             "#276419"
            ]
           ],
           "sequential": [
            [
             0,
             "#0d0887"
            ],
            [
             0.1111111111111111,
             "#46039f"
            ],
            [
             0.2222222222222222,
             "#7201a8"
            ],
            [
             0.3333333333333333,
             "#9c179e"
            ],
            [
             0.4444444444444444,
             "#bd3786"
            ],
            [
             0.5555555555555556,
             "#d8576b"
            ],
            [
             0.6666666666666666,
             "#ed7953"
            ],
            [
             0.7777777777777778,
             "#fb9f3a"
            ],
            [
             0.8888888888888888,
             "#fdca26"
            ],
            [
             1,
             "#f0f921"
            ]
           ],
           "sequentialminus": [
            [
             0,
             "#0d0887"
            ],
            [
             0.1111111111111111,
             "#46039f"
            ],
            [
             0.2222222222222222,
             "#7201a8"
            ],
            [
             0.3333333333333333,
             "#9c179e"
            ],
            [
             0.4444444444444444,
             "#bd3786"
            ],
            [
             0.5555555555555556,
             "#d8576b"
            ],
            [
             0.6666666666666666,
             "#ed7953"
            ],
            [
             0.7777777777777778,
             "#fb9f3a"
            ],
            [
             0.8888888888888888,
             "#fdca26"
            ],
            [
             1,
             "#f0f921"
            ]
           ]
          },
          "colorway": [
           "#636efa",
           "#EF553B",
           "#00cc96",
           "#ab63fa",
           "#FFA15A",
           "#19d3f3",
           "#FF6692",
           "#B6E880",
           "#FF97FF",
           "#FECB52"
          ],
          "font": {
           "color": "#2a3f5f"
          },
          "geo": {
           "bgcolor": "white",
           "lakecolor": "white",
           "landcolor": "#E5ECF6",
           "showlakes": true,
           "showland": true,
           "subunitcolor": "white"
          },
          "hoverlabel": {
           "align": "left"
          },
          "hovermode": "closest",
          "mapbox": {
           "style": "light"
          },
          "paper_bgcolor": "white",
          "plot_bgcolor": "#E5ECF6",
          "polar": {
           "angularaxis": {
            "gridcolor": "white",
            "linecolor": "white",
            "ticks": ""
           },
           "bgcolor": "#E5ECF6",
           "radialaxis": {
            "gridcolor": "white",
            "linecolor": "white",
            "ticks": ""
           }
          },
          "scene": {
           "xaxis": {
            "backgroundcolor": "#E5ECF6",
            "gridcolor": "white",
            "gridwidth": 2,
            "linecolor": "white",
            "showbackground": true,
            "ticks": "",
            "zerolinecolor": "white"
           },
           "yaxis": {
            "backgroundcolor": "#E5ECF6",
            "gridcolor": "white",
            "gridwidth": 2,
            "linecolor": "white",
            "showbackground": true,
            "ticks": "",
            "zerolinecolor": "white"
           },
           "zaxis": {
            "backgroundcolor": "#E5ECF6",
            "gridcolor": "white",
            "gridwidth": 2,
            "linecolor": "white",
            "showbackground": true,
            "ticks": "",
            "zerolinecolor": "white"
           }
          },
          "shapedefaults": {
           "line": {
            "color": "#2a3f5f"
           }
          },
          "ternary": {
           "aaxis": {
            "gridcolor": "white",
            "linecolor": "white",
            "ticks": ""
           },
           "baxis": {
            "gridcolor": "white",
            "linecolor": "white",
            "ticks": ""
           },
           "bgcolor": "#E5ECF6",
           "caxis": {
            "gridcolor": "white",
            "linecolor": "white",
            "ticks": ""
           }
          },
          "title": {
           "x": 0.05
          },
          "xaxis": {
           "automargin": true,
           "gridcolor": "white",
           "linecolor": "white",
           "ticks": "",
           "title": {
            "standoff": 15
           },
           "zerolinecolor": "white",
           "zerolinewidth": 2
          },
          "yaxis": {
           "automargin": true,
           "gridcolor": "white",
           "linecolor": "white",
           "ticks": "",
           "title": {
            "standoff": 15
           },
           "zerolinecolor": "white",
           "zerolinewidth": 2
          }
         }
        },
        "title": {
         "text": "2D Cluster PCA Plot"
        },
        "xaxis": {
         "anchor": "y",
         "domain": [
          0,
          1
         ],
         "title": {
          "text": "PCA1"
         }
        },
        "yaxis": {
         "anchor": "x",
         "domain": [
          0,
          1
         ],
         "title": {
          "text": "PCA2"
         }
        }
       }
      }
     },
     "metadata": {},
     "output_type": "display_data"
    }
   ],
   "source": [
    "plot_model(model_kmeans, plot = 'cluster')"
   ]
  },
  {
   "cell_type": "code",
   "execution_count": 22,
   "metadata": {},
   "outputs": [
    {
     "data": {
      "text/html": [],
      "text/plain": [
       "<IPython.core.display.HTML object>"
      ]
     },
     "metadata": {},
     "output_type": "display_data"
    },
    {
     "data": {
      "image/png": "[encoded data removed]",
      "text/plain": [
       "<Figure size 800x550 with 1 Axes>"
      ]
     },
     "metadata": {},
     "output_type": "display_data"
    }
   ],
   "source": [
    "plot_model(model_kmeans, plot = 'silhouette')"
   ]
  },
  {
   "cell_type": "code",
   "execution_count": 23,
   "metadata": {},
   "outputs": [
    {
     "data": {
      "text/html": [],
      "text/plain": [
       "<IPython.core.display.HTML object>"
      ]
     },
     "metadata": {},
     "output_type": "display_data"
    },
    {
     "data": {
      "application/vnd.plotly.v1+json": {
       "config": {
        "plotlyServerURL": "https://plot.ly"
       },
       "data": [
        {
         "alignmentgroup": "True",
         "bingroup": "x",
         "hovertemplate": "Cluster=%{x}<br>count=%{y}<extra></extra>",
         "legendgroup": "Cluster 0",
         "marker": {
          "color": "#636efa",
          "opacity": 0.7,
          "pattern": {
           "shape": ""
          }
         },
         "name": "Cluster 0",
         "offsetgroup": "Cluster 0",
         "orientation": "v",
         "showlegend": true,
         "type": "histogram",
         "x": [
          "Cluster 0",
          "Cluster 0",
          "Cluster 0",
          "Cluster 0",
          "Cluster 0",
          "Cluster 0",
          "Cluster 0",
          "Cluster 0",
          "Cluster 0",
          "Cluster 0",
          "Cluster 0",
          "Cluster 0",
          "Cluster 0",
          "Cluster 0",
          "Cluster 0",
          "Cluster 0",
          "Cluster 0",
          "Cluster 0",
          "Cluster 0",
          "Cluster 0",
          "Cluster 0",
          "Cluster 0",
          "Cluster 0",
          "Cluster 0",
          "Cluster 0",
          "Cluster 0"
         ],
         "xaxis": "x",
         "yaxis": "y"
        },
        {
         "alignmentgroup": "True",
         "customdata": [
          [
           1,
           1,
           2
          ],
          [
           1,
           1,
           2
          ],
          [
           2,
           1,
           1
          ],
          [
           1,
           1,
           1
          ],
          [
           1,
           1,
           3
          ],
          [
           2,
           1,
           1
          ],
          [
           2,
           1,
           1
          ],
          [
           1,
           1,
           2
          ],
          [
           1,
           1,
           3
          ],
          [
           1,
           1,
           1
          ],
          [
           1,
           1,
           2
          ],
          [
           1,
           1,
           1
          ],
          [
           1,
           1,
           2
          ],
          [
           1,
           1,
           1
          ],
          [
           2,
           1,
           1
          ],
          [
           1,
           1,
           2
          ],
          [
           2,
           1,
           1
          ],
          [
           1,
           1,
           1
          ],
          [
           1,
           1,
           2
          ],
          [
           2,
           1,
           1
          ],
          [
           2,
           1,
           1
          ],
          [
           2,
           1,
           1
          ],
          [
           1,
           1,
           1
          ],
          [
           1,
           1,
           2
          ],
          [
           1,
           1,
           1
          ],
          [
           1,
           1,
           2
          ]
         ],
         "hovertemplate": "Cluster=%{x}<br>Escala R=%{customdata[0]}<br>Escala F=%{customdata[1]}<br>Escala M=%{customdata[2]}<extra></extra>",
         "legendgroup": "Cluster 0",
         "marker": {
          "color": "#636efa"
         },
         "name": "Cluster 0",
         "notched": true,
         "offsetgroup": "Cluster 0",
         "showlegend": false,
         "type": "box",
         "x": [
          "Cluster 0",
          "Cluster 0",
          "Cluster 0",
          "Cluster 0",
          "Cluster 0",
          "Cluster 0",
          "Cluster 0",
          "Cluster 0",
          "Cluster 0",
          "Cluster 0",
          "Cluster 0",
          "Cluster 0",
          "Cluster 0",
          "Cluster 0",
          "Cluster 0",
          "Cluster 0",
          "Cluster 0",
          "Cluster 0",
          "Cluster 0",
          "Cluster 0",
          "Cluster 0",
          "Cluster 0",
          "Cluster 0",
          "Cluster 0",
          "Cluster 0",
          "Cluster 0"
         ],
         "xaxis": "x2",
         "yaxis": "y2"
        },
        {
         "alignmentgroup": "True",
         "bingroup": "x",
         "hovertemplate": "Cluster=%{x}<br>count=%{y}<extra></extra>",
         "legendgroup": "Cluster 1",
         "marker": {
          "color": "#EF553B",
          "opacity": 0.7,
          "pattern": {
           "shape": ""
          }
         },
         "name": "Cluster 1",
         "offsetgroup": "Cluster 1",
         "orientation": "v",
         "showlegend": true,
         "type": "histogram",
         "x": [
          "Cluster 1",
          "Cluster 1",
          "Cluster 1",
          "Cluster 1",
          "Cluster 1",
          "Cluster 1",
          "Cluster 1",
          "Cluster 1",
          "Cluster 1",
          "Cluster 1",
          "Cluster 1",
          "Cluster 1",
          "Cluster 1",
          "Cluster 1",
          "Cluster 1",
          "Cluster 1",
          "Cluster 1",
          "Cluster 1",
          "Cluster 1",
          "Cluster 1",
          "Cluster 1",
          "Cluster 1",
          "Cluster 1"
         ],
         "xaxis": "x",
         "yaxis": "y"
        },
        {
         "alignmentgroup": "True",
         "customdata": [
          [
           4,
           3,
           5
          ],
          [
           5,
           4,
           3
          ],
          [
           5,
           3,
           3
          ],
          [
           5,
           3,
           3
          ],
          [
           5,
           3,
           4
          ],
          [
           5,
           4,
           4
          ],
          [
           5,
           3,
           4
          ],
          [
           4,
           2,
           4
          ],
          [
           4,
           4,
           3
          ],
          [
           5,
           3,
           4
          ],
          [
           5,
           3,
           5
          ],
          [
           3,
           3,
           3
          ],
          [
           5,
           3,
           4
          ],
          [
           4,
           2,
           4
          ],
          [
           5,
           4,
           4
          ],
          [
           5,
           3,
           4
          ],
          [
           5,
           3,
           5
          ],
          [
           4,
           3,
           4
          ],
          [
           5,
           4,
           4
          ],
          [
           4,
           3,
           3
          ],
          [
           5,
           3,
           3
          ],
          [
           5,
           3,
           4
          ],
          [
           4,
           4,
           4
          ]
         ],
         "hovertemplate": "Cluster=%{x}<br>Escala R=%{customdata[0]}<br>Escala F=%{customdata[1]}<br>Escala M=%{customdata[2]}<extra></extra>",
         "legendgroup": "Cluster 1",
         "marker": {
          "color": "#EF553B"
         },
         "name": "Cluster 1",
         "notched": true,
         "offsetgroup": "Cluster 1",
         "showlegend": false,
         "type": "box",
         "x": [
          "Cluster 1",
          "Cluster 1",
          "Cluster 1",
          "Cluster 1",
          "Cluster 1",
          "Cluster 1",
          "Cluster 1",
          "Cluster 1",
          "Cluster 1",
          "Cluster 1",
          "Cluster 1",
          "Cluster 1",
          "Cluster 1",
          "Cluster 1",
          "Cluster 1",
          "Cluster 1",
          "Cluster 1",
          "Cluster 1",
          "Cluster 1",
          "Cluster 1",
          "Cluster 1",
          "Cluster 1",
          "Cluster 1"
         ],
         "xaxis": "x2",
         "yaxis": "y2"
        },
        {
         "alignmentgroup": "True",
         "bingroup": "x",
         "hovertemplate": "Cluster=%{x}<br>count=%{y}<extra></extra>",
         "legendgroup": "Cluster 2",
         "marker": {
          "color": "#00cc96",
          "opacity": 0.7,
          "pattern": {
           "shape": ""
          }
         },
         "name": "Cluster 2",
         "offsetgroup": "Cluster 2",
         "orientation": "v",
         "showlegend": true,
         "type": "histogram",
         "x": [
          "Cluster 2",
          "Cluster 2",
          "Cluster 2",
          "Cluster 2",
          "Cluster 2",
          "Cluster 2",
          "Cluster 2",
          "Cluster 2",
          "Cluster 2",
          "Cluster 2",
          "Cluster 2",
          "Cluster 2",
          "Cluster 2",
          "Cluster 2",
          "Cluster 2",
          "Cluster 2",
          "Cluster 2",
          "Cluster 2",
          "Cluster 2",
          "Cluster 2",
          "Cluster 2",
          "Cluster 2",
          "Cluster 2",
          "Cluster 2",
          "Cluster 2",
          "Cluster 2",
          "Cluster 2",
          "Cluster 2",
          "Cluster 2",
          "Cluster 2",
          "Cluster 2",
          "Cluster 2",
          "Cluster 2"
         ],
         "xaxis": "x",
         "yaxis": "y"
        },
        {
         "alignmentgroup": "True",
         "customdata": [
          [
           5,
           1,
           3
          ],
          [
           4,
           1,
           3
          ],
          [
           4,
           1,
           4
          ],
          [
           5,
           1,
           1
          ],
          [
           4,
           2,
           3
          ],
          [
           5,
           2,
           3
          ],
          [
           5,
           2,
           3
          ],
          [
           4,
           1,
           3
          ],
          [
           5,
           2,
           2
          ],
          [
           5,
           3,
           2
          ],
          [
           5,
           2,
           2
          ],
          [
           4,
           1,
           2
          ],
          [
           4,
           1,
           2
          ],
          [
           5,
           1,
           1
          ],
          [
           4,
           1,
           2
          ],
          [
           4,
           1,
           4
          ],
          [
           4,
           2,
           3
          ],
          [
           4,
           3,
           2
          ],
          [
           5,
           2,
           3
          ],
          [
           5,
           1,
           4
          ],
          [
           5,
           1,
           2
          ],
          [
           5,
           1,
           2
          ],
          [
           5,
           2,
           3
          ],
          [
           4,
           1,
           2
          ],
          [
           5,
           1,
           2
          ],
          [
           4,
           2,
           3
          ],
          [
           5,
           1,
           2
          ],
          [
           5,
           2,
           3
          ],
          [
           4,
           1,
           1
          ],
          [
           4,
           1,
           3
          ],
          [
           5,
           1,
           2
          ],
          [
           5,
           2,
           3
          ],
          [
           4,
           1,
           2
          ]
         ],
         "hovertemplate": "Cluster=%{x}<br>Escala R=%{customdata[0]}<br>Escala F=%{customdata[1]}<br>Escala M=%{customdata[2]}<extra></extra>",
         "legendgroup": "Cluster 2",
         "marker": {
          "color": "#00cc96"
         },
         "name": "Cluster 2",
         "notched": true,
         "offsetgroup": "Cluster 2",
         "showlegend": false,
         "type": "box",
         "x": [
          "Cluster 2",
          "Cluster 2",
          "Cluster 2",
          "Cluster 2",
          "Cluster 2",
          "Cluster 2",
          "Cluster 2",
          "Cluster 2",
          "Cluster 2",
          "Cluster 2",
          "Cluster 2",
          "Cluster 2",
          "Cluster 2",
          "Cluster 2",
          "Cluster 2",
          "Cluster 2",
          "Cluster 2",
          "Cluster 2",
          "Cluster 2",
          "Cluster 2",
          "Cluster 2",
          "Cluster 2",
          "Cluster 2",
          "Cluster 2",
          "Cluster 2",
          "Cluster 2",
          "Cluster 2",
          "Cluster 2",
          "Cluster 2",
          "Cluster 2",
          "Cluster 2",
          "Cluster 2",
          "Cluster 2"
         ],
         "xaxis": "x2",
         "yaxis": "y2"
        },
        {
         "alignmentgroup": "True",
         "bingroup": "x",
         "hovertemplate": "Cluster=%{x}<br>count=%{y}<extra></extra>",
         "legendgroup": "Cluster 3",
         "marker": {
          "color": "#ab63fa",
          "opacity": 0.7,
          "pattern": {
           "shape": ""
          }
         },
         "name": "Cluster 3",
         "offsetgroup": "Cluster 3",
         "orientation": "v",
         "showlegend": true,
         "type": "histogram",
         "x": [
          "Cluster 3",
          "Cluster 3",
          "Cluster 3",
          "Cluster 3",
          "Cluster 3",
          "Cluster 3",
          "Cluster 3",
          "Cluster 3",
          "Cluster 3",
          "Cluster 3",
          "Cluster 3",
          "Cluster 3",
          "Cluster 3",
          "Cluster 3"
         ],
         "xaxis": "x",
         "yaxis": "y"
        },
        {
         "alignmentgroup": "True",
         "customdata": [
          [
           5,
           4,
           5
          ],
          [
           5,
           5,
           3
          ],
          [
           5,
           5,
           4
          ],
          [
           5,
           5,
           4
          ],
          [
           5,
           5,
           5
          ],
          [
           5,
           5,
           4
          ],
          [
           5,
           5,
           5
          ],
          [
           5,
           5,
           4
          ],
          [
           5,
           5,
           4
          ],
          [
           5,
           5,
           5
          ],
          [
           5,
           5,
           3
          ],
          [
           5,
           5,
           3
          ],
          [
           5,
           5,
           4
          ],
          [
           5,
           5,
           4
          ]
         ],
         "hovertemplate": "Cluster=%{x}<br>Escala R=%{customdata[0]}<br>Escala F=%{customdata[1]}<br>Escala M=%{customdata[2]}<extra></extra>",
         "legendgroup": "Cluster 3",
         "marker": {
          "color": "#ab63fa"
         },
         "name": "Cluster 3",
         "notched": true,
         "offsetgroup": "Cluster 3",
         "showlegend": false,
         "type": "box",
         "x": [
          "Cluster 3",
          "Cluster 3",
          "Cluster 3",
          "Cluster 3",
          "Cluster 3",
          "Cluster 3",
          "Cluster 3",
          "Cluster 3",
          "Cluster 3",
          "Cluster 3",
          "Cluster 3",
          "Cluster 3",
          "Cluster 3",
          "Cluster 3"
         ],
         "xaxis": "x2",
         "yaxis": "y2"
        },
        {
         "alignmentgroup": "True",
         "bingroup": "x",
         "hovertemplate": "Cluster=%{x}<br>count=%{y}<extra></extra>",
         "legendgroup": "Cluster 4",
         "marker": {
          "color": "#FFA15A",
          "opacity": 0.7,
          "pattern": {
           "shape": ""
          }
         },
         "name": "Cluster 4",
         "offsetgroup": "Cluster 4",
         "orientation": "v",
         "showlegend": true,
         "type": "histogram",
         "x": [
          "Cluster 4",
          "Cluster 4",
          "Cluster 4",
          "Cluster 4",
          "Cluster 4",
          "Cluster 4",
          "Cluster 4",
          "Cluster 4",
          "Cluster 4",
          "Cluster 4",
          "Cluster 4",
          "Cluster 4",
          "Cluster 4",
          "Cluster 4",
          "Cluster 4",
          "Cluster 4",
          "Cluster 4",
          "Cluster 4",
          "Cluster 4",
          "Cluster 4",
          "Cluster 4",
          "Cluster 4",
          "Cluster 4",
          "Cluster 4",
          "Cluster 4",
          "Cluster 4",
          "Cluster 4",
          "Cluster 4",
          "Cluster 4",
          "Cluster 4",
          "Cluster 4",
          "Cluster 4",
          "Cluster 4",
          "Cluster 4",
          "Cluster 4",
          "Cluster 4",
          "Cluster 4",
          "Cluster 4",
          "Cluster 4",
          "Cluster 4"
         ],
         "xaxis": "x",
         "yaxis": "y"
        },
        {
         "alignmentgroup": "True",
         "customdata": [
          [
           3,
           1,
           3
          ],
          [
           2,
           1,
           3
          ],
          [
           3,
           1,
           1
          ],
          [
           3,
           1,
           2
          ],
          [
           3,
           1,
           2
          ],
          [
           2,
           1,
           3
          ],
          [
           3,
           1,
           1
          ],
          [
           3,
           1,
           2
          ],
          [
           2,
           2,
           2
          ],
          [
           2,
           1,
           4
          ],
          [
           3,
           1,
           2
          ],
          [
           3,
           2,
           3
          ],
          [
           2,
           1,
           2
          ],
          [
           2,
           1,
           3
          ],
          [
           3,
           1,
           1
          ],
          [
           3,
           1,
           3
          ],
          [
           3,
           1,
           2
          ],
          [
           3,
           1,
           3
          ],
          [
           3,
           1,
           2
          ],
          [
           3,
           1,
           3
          ],
          [
           2,
           1,
           2
          ],
          [
           3,
           1,
           1
          ],
          [
           2,
           1,
           2
          ],
          [
           3,
           1,
           2
          ],
          [
           2,
           1,
           3
          ],
          [
           3,
           1,
           3
          ],
          [
           2,
           1,
           2
          ],
          [
           2,
           1,
           2
          ],
          [
           2,
           1,
           2
          ],
          [
           3,
           1,
           1
          ],
          [
           2,
           1,
           2
          ],
          [
           2,
           1,
           3
          ],
          [
           3,
           1,
           2
          ],
          [
           3,
           2,
           3
          ],
          [
           3,
           1,
           1
          ],
          [
           3,
           1,
           2
          ],
          [
           3,
           1,
           2
          ],
          [
           2,
           1,
           2
          ],
          [
           3,
           1,
           2
          ],
          [
           2,
           1,
           2
          ]
         ],
         "hovertemplate": "Cluster=%{x}<br>Escala R=%{customdata[0]}<br>Escala F=%{customdata[1]}<br>Escala M=%{customdata[2]}<extra></extra>",
         "legendgroup": "Cluster 4",
         "marker": {
          "color": "#FFA15A"
         },
         "name": "Cluster 4",
         "notched": true,
         "offsetgroup": "Cluster 4",
         "showlegend": false,
         "type": "box",
         "x": [
          "Cluster 4",
          "Cluster 4",
          "Cluster 4",
          "Cluster 4",
          "Cluster 4",
          "Cluster 4",
          "Cluster 4",
          "Cluster 4",
          "Cluster 4",
          "Cluster 4",
          "Cluster 4",
          "Cluster 4",
          "Cluster 4",
          "Cluster 4",
          "Cluster 4",
          "Cluster 4",
          "Cluster 4",
          "Cluster 4",
          "Cluster 4",
          "Cluster 4",
          "Cluster 4",
          "Cluster 4",
          "Cluster 4",
          "Cluster 4",
          "Cluster 4",
          "Cluster 4",
          "Cluster 4",
          "Cluster 4",
          "Cluster 4",
          "Cluster 4",
          "Cluster 4",
          "Cluster 4",
          "Cluster 4",
          "Cluster 4",
          "Cluster 4",
          "Cluster 4",
          "Cluster 4",
          "Cluster 4",
          "Cluster 4",
          "Cluster 4"
         ],
         "xaxis": "x2",
         "yaxis": "y2"
        }
       ],
       "layout": {
        "barmode": "relative",
        "height": 600,
        "legend": {
         "title": {
          "text": "Cluster"
         },
         "tracegroupgap": 0
        },
        "margin": {
         "t": 60
        },
        "template": {
         "data": {
          "bar": [
           {
            "error_x": {
             "color": "#2a3f5f"
            },
            "error_y": {
             "color": "#2a3f5f"
            },
            "marker": {
             "line": {
              "color": "#E5ECF6",
              "width": 0.5
             },
             "pattern": {
              "fillmode": "overlay",
              "size": 10,
              "solidity": 0.2
             }
            },
            "type": "bar"
           }
          ],
          "barpolar": [
           {
            "marker": {
             "line": {
              "color": "#E5ECF6",
              "width": 0.5
             },
             "pattern": {
              "fillmode": "overlay",
              "size": 10,
              "solidity": 0.2
             }
            },
            "type": "barpolar"
           }
          ],
          "carpet": [
           {
            "aaxis": {
             "endlinecolor": "#2a3f5f",
             "gridcolor": "white",
             "linecolor": "white",
             "minorgridcolor": "white",
             "startlinecolor": "#2a3f5f"
            },
            "baxis": {
             "endlinecolor": "#2a3f5f",
             "gridcolor": "white",
             "linecolor": "white",
             "minorgridcolor": "white",
             "startlinecolor": "#2a3f5f"
            },
            "type": "carpet"
           }
          ],
          "choropleth": [
           {
            "colorbar": {
             "outlinewidth": 0,
             "ticks": ""
            },
            "type": "choropleth"
           }
          ],
          "contour": [
           {
            "colorbar": {
             "outlinewidth": 0,
             "ticks": ""
            },
            "colorscale": [
             [
              0,
              "#0d0887"
             ],
             [
              0.1111111111111111,
              "#46039f"
             ],
             [
              0.2222222222222222,
              "#7201a8"
             ],
             [
              0.3333333333333333,
              "#9c179e"
             ],
             [
              0.4444444444444444,
              "#bd3786"
             ],
             [
              0.5555555555555556,
              "#d8576b"
             ],
             [
              0.6666666666666666,
              "#ed7953"
             ],
             [
              0.7777777777777778,
              "#fb9f3a"
             ],
             [
              0.8888888888888888,
              "#fdca26"
             ],
             [
              1,
              "#f0f921"
             ]
            ],
            "type": "contour"
           }
          ],
          "contourcarpet": [
           {
            "colorbar": {
             "outlinewidth": 0,
             "ticks": ""
            },
            "type": "contourcarpet"
           }
          ],
          "heatmap": [
           {
            "colorbar": {
             "outlinewidth": 0,
             "ticks": ""
            },
            "colorscale": [
             [
              0,
              "#0d0887"
             ],
             [
              0.1111111111111111,
              "#46039f"
             ],
             [
              0.2222222222222222,
              "#7201a8"
             ],
             [
              0.3333333333333333,
              "#9c179e"
             ],
             [
              0.4444444444444444,
              "#bd3786"
             ],
             [
              0.5555555555555556,
              "#d8576b"
             ],
             [
              0.6666666666666666,
              "#ed7953"
             ],
             [
              0.7777777777777778,
              "#fb9f3a"
             ],
             [
              0.8888888888888888,
              "#fdca26"
             ],
             [
              1,
              "#f0f921"
             ]
            ],
            "type": "heatmap"
           }
          ],
          "heatmapgl": [
           {
            "colorbar": {
             "outlinewidth": 0,
             "ticks": ""
            },
            "colorscale": [
             [
              0,
              "#0d0887"
             ],
             [
              0.1111111111111111,
              "#46039f"
             ],
             [
              0.2222222222222222,
              "#7201a8"
             ],
             [
              0.3333333333333333,
              "#9c179e"
             ],
             [
              0.4444444444444444,
              "#bd3786"
             ],
             [
              0.5555555555555556,
              "#d8576b"
             ],
             [
              0.6666666666666666,
              "#ed7953"
             ],
             [
              0.7777777777777778,
              "#fb9f3a"
             ],
             [
              0.8888888888888888,
              "#fdca26"
             ],
             [
              1,
              "#f0f921"
             ]
            ],
            "type": "heatmapgl"
           }
          ],
          "histogram": [
           {
            "marker": {
             "pattern": {
              "fillmode": "overlay",
              "size": 10,
              "solidity": 0.2
             }
            },
            "type": "histogram"
           }
          ],
          "histogram2d": [
           {
            "colorbar": {
             "outlinewidth": 0,
             "ticks": ""
            },
            "colorscale": [
             [
              0,
              "#0d0887"
             ],
             [
              0.1111111111111111,
              "#46039f"
             ],
             [
              0.2222222222222222,
              "#7201a8"
             ],
             [
              0.3333333333333333,
              "#9c179e"
             ],
             [
              0.4444444444444444,
              "#bd3786"
             ],
             [
              0.5555555555555556,
              "#d8576b"
             ],
             [
              0.6666666666666666,
              "#ed7953"
             ],
             [
              0.7777777777777778,
              "#fb9f3a"
             ],
             [
              0.8888888888888888,
              "#fdca26"
             ],
             [
              1,
              "#f0f921"
             ]
            ],
            "type": "histogram2d"
           }
          ],
          "histogram2dcontour": [
           {
            "colorbar": {
             "outlinewidth": 0,
             "ticks": ""
            },
            "colorscale": [
             [
              0,
              "#0d0887"
             ],
             [
              0.1111111111111111,
              "#46039f"
             ],
             [
              0.2222222222222222,
              "#7201a8"
             ],
             [
              0.3333333333333333,
              "#9c179e"
             ],
             [
              0.4444444444444444,
              "#bd3786"
             ],
             [
              0.5555555555555556,
              "#d8576b"
             ],
             [
              0.6666666666666666,
              "#ed7953"
             ],
             [
              0.7777777777777778,
              "#fb9f3a"
             ],
             [
              0.8888888888888888,
              "#fdca26"
             ],
             [
              1,
              "#f0f921"
             ]
            ],
            "type": "histogram2dcontour"
           }
          ],
          "mesh3d": [
           {
            "colorbar": {
             "outlinewidth": 0,
             "ticks": ""
            },
            "type": "mesh3d"
           }
          ],
          "parcoords": [
           {
            "line": {
             "colorbar": {
              "outlinewidth": 0,
              "ticks": ""
             }
            },
            "type": "parcoords"
           }
          ],
          "pie": [
           {
            "automargin": true,
            "type": "pie"
           }
          ],
          "scatter": [
           {
            "fillpattern": {
             "fillmode": "overlay",
             "size": 10,
             "solidity": 0.2
            },
            "type": "scatter"
           }
          ],
          "scatter3d": [
           {
            "line": {
             "colorbar": {
              "outlinewidth": 0,
              "ticks": ""
             }
            },
            "marker": {
             "colorbar": {
              "outlinewidth": 0,
              "ticks": ""
             }
            },
            "type": "scatter3d"
           }
          ],
          "scattercarpet": [
           {
            "marker": {
             "colorbar": {
              "outlinewidth": 0,
              "ticks": ""
             }
            },
            "type": "scattercarpet"
           }
          ],
          "scattergeo": [
           {
            "marker": {
             "colorbar": {
              "outlinewidth": 0,
              "ticks": ""
             }
            },
            "type": "scattergeo"
           }
          ],
          "scattergl": [
           {
            "marker": {
             "colorbar": {
              "outlinewidth": 0,
              "ticks": ""
             }
            },
            "type": "scattergl"
           }
          ],
          "scattermapbox": [
           {
            "marker": {
             "colorbar": {
              "outlinewidth": 0,
              "ticks": ""
             }
            },
            "type": "scattermapbox"
           }
          ],
          "scatterpolar": [
           {
            "marker": {
             "colorbar": {
              "outlinewidth": 0,
              "ticks": ""
             }
            },
            "type": "scatterpolar"
           }
          ],
          "scatterpolargl": [
           {
            "marker": {
             "colorbar": {
              "outlinewidth": 0,
              "ticks": ""
             }
            },
            "type": "scatterpolargl"
           }
          ],
          "scatterternary": [
           {
            "marker": {
             "colorbar": {
              "outlinewidth": 0,
              "ticks": ""
             }
            },
            "type": "scatterternary"
           }
          ],
          "surface": [
           {
            "colorbar": {
             "outlinewidth": 0,
             "ticks": ""
            },
            "colorscale": [
             [
              0,
              "#0d0887"
             ],
             [
              0.1111111111111111,
              "#46039f"
             ],
             [
              0.2222222222222222,
              "#7201a8"
             ],
             [
              0.3333333333333333,
              "#9c179e"
             ],
             [
              0.4444444444444444,
              "#bd3786"
             ],
             [
              0.5555555555555556,
              "#d8576b"
             ],
             [
              0.6666666666666666,
              "#ed7953"
             ],
             [
              0.7777777777777778,
              "#fb9f3a"
             ],
             [
              0.8888888888888888,
              "#fdca26"
             ],
             [
              1,
              "#f0f921"
             ]
            ],
            "type": "surface"
           }
          ],
          "table": [
           {
            "cells": {
             "fill": {
              "color": "#EBF0F8"
             },
             "line": {
              "color": "white"
             }
            },
            "header": {
             "fill": {
              "color": "#C8D4E3"
             },
             "line": {
              "color": "white"
             }
            },
            "type": "table"
           }
          ]
         },
         "layout": {
          "annotationdefaults": {
           "arrowcolor": "#2a3f5f",
           "arrowhead": 0,
           "arrowwidth": 1
          },
          "autotypenumbers": "strict",
          "coloraxis": {
           "colorbar": {
            "outlinewidth": 0,
            "ticks": ""
           }
          },
          "colorscale": {
           "diverging": [
            [
             0,
             "#8e0152"
            ],
            [
             0.1,
             "#c51b7d"
            ],
            [
             0.2,
             "#de77ae"
            ],
            [
             0.3,
             "#f1b6da"
            ],
            [
             0.4,
             "#fde0ef"
            ],
            [
             0.5,
             "#f7f7f7"
            ],
            [
             0.6,
             "#e6f5d0"
            ],
            [
             0.7,
             "#b8e186"
            ],
            [
             0.8,
             "#7fbc41"
            ],
            [
             0.9,
             "#4d9221"
            ],
            [
             1,
             "#276419"
            ]
           ],
           "sequential": [
            [
             0,
             "#0d0887"
            ],
            [
             0.1111111111111111,
             "#46039f"
            ],
            [
             0.2222222222222222,
             "#7201a8"
            ],
            [
             0.3333333333333333,
             "#9c179e"
            ],
            [
             0.4444444444444444,
             "#bd3786"
            ],
            [
             0.5555555555555556,
             "#d8576b"
            ],
            [
             0.6666666666666666,
             "#ed7953"
            ],
            [
             0.7777777777777778,
             "#fb9f3a"
            ],
            [
             0.8888888888888888,
             "#fdca26"
            ],
            [
             1,
             "#f0f921"
            ]
           ],
           "sequentialminus": [
            [
             0,
             "#0d0887"
            ],
            [
             0.1111111111111111,
             "#46039f"
            ],
            [
             0.2222222222222222,
             "#7201a8"
            ],
            [
             0.3333333333333333,
             "#9c179e"
            ],
            [
             0.4444444444444444,
             "#bd3786"
            ],
            [
             0.5555555555555556,
             "#d8576b"
            ],
            [
             0.6666666666666666,
             "#ed7953"
            ],
            [
             0.7777777777777778,
             "#fb9f3a"
            ],
            [
             0.8888888888888888,
             "#fdca26"
            ],
            [
             1,
             "#f0f921"
            ]
           ]
          },
          "colorway": [
           "#636efa",
           "#EF553B",
           "#00cc96",
           "#ab63fa",
           "#FFA15A",
           "#19d3f3",
           "#FF6692",
           "#B6E880",
           "#FF97FF",
           "#FECB52"
          ],
          "font": {
           "color": "#2a3f5f"
          },
          "geo": {
           "bgcolor": "white",
           "lakecolor": "white",
           "landcolor": "#E5ECF6",
           "showlakes": true,
           "showland": true,
           "subunitcolor": "white"
          },
          "hoverlabel": {
           "align": "left"
          },
          "hovermode": "closest",
          "mapbox": {
           "style": "light"
          },
          "paper_bgcolor": "white",
          "plot_bgcolor": "#E5ECF6",
          "polar": {
           "angularaxis": {
            "gridcolor": "white",
            "linecolor": "white",
            "ticks": ""
           },
           "bgcolor": "#E5ECF6",
           "radialaxis": {
            "gridcolor": "white",
            "linecolor": "white",
            "ticks": ""
           }
          },
          "scene": {
           "xaxis": {
            "backgroundcolor": "#E5ECF6",
            "gridcolor": "white",
            "gridwidth": 2,
            "linecolor": "white",
            "showbackground": true,
            "ticks": "",
            "zerolinecolor": "white"
           },
           "yaxis": {
            "backgroundcolor": "#E5ECF6",
            "gridcolor": "white",
            "gridwidth": 2,
            "linecolor": "white",
            "showbackground": true,
            "ticks": "",
            "zerolinecolor": "white"
           },
           "zaxis": {
            "backgroundcolor": "#E5ECF6",
            "gridcolor": "white",
            "gridwidth": 2,
            "linecolor": "white",
            "showbackground": true,
            "ticks": "",
            "zerolinecolor": "white"
           }
          },
          "shapedefaults": {
           "line": {
            "color": "#2a3f5f"
           }
          },
          "ternary": {
           "aaxis": {
            "gridcolor": "white",
            "linecolor": "white",
            "ticks": ""
           },
           "baxis": {
            "gridcolor": "white",
            "linecolor": "white",
            "ticks": ""
           },
           "bgcolor": "#E5ECF6",
           "caxis": {
            "gridcolor": "white",
            "linecolor": "white",
            "ticks": ""
           }
          },
          "title": {
           "x": 0.05
          },
          "xaxis": {
           "automargin": true,
           "gridcolor": "white",
           "linecolor": "white",
           "ticks": "",
           "title": {
            "standoff": 15
           },
           "zerolinecolor": "white",
           "zerolinewidth": 2
          },
          "yaxis": {
           "automargin": true,
           "gridcolor": "white",
           "linecolor": "white",
           "ticks": "",
           "title": {
            "standoff": 15
           },
           "zerolinecolor": "white",
           "zerolinewidth": 2
          }
         }
        },
        "xaxis": {
         "anchor": "y",
         "categoryarray": [
          "Cluster 0",
          "Cluster 1",
          "Cluster 2",
          "Cluster 3",
          "Cluster 4"
         ],
         "categoryorder": "array",
         "domain": [
          0,
          1
         ],
         "title": {
          "text": "Cluster"
         }
        },
        "xaxis2": {
         "anchor": "y2",
         "domain": [
          0,
          1
         ],
         "matches": "x",
         "showgrid": true,
         "showticklabels": false
        },
        "yaxis": {
         "anchor": "x",
         "domain": [
          0,
          0.7326
         ],
         "title": {
          "text": "count"
         }
        },
        "yaxis2": {
         "anchor": "x2",
         "domain": [
          0.7426,
          1
         ],
         "matches": "y2",
         "showgrid": false,
         "showline": false,
         "showticklabels": false,
         "ticks": ""
        }
       }
      }
     },
     "metadata": {},
     "output_type": "display_data"
    }
   ],
   "source": [
    "plot_model(model_kmeans, plot = 'distribution')"
   ]
  },
  {
   "cell_type": "code",
   "execution_count": 24,
   "metadata": {},
   "outputs": [
    {
     "data": {
      "text/html": [
       "<div>\n",
       "<style scoped>\n",
       "    .dataframe tbody tr th:only-of-type {\n",
       "        vertical-align: middle;\n",
       "    }\n",
       "\n",
       "    .dataframe tbody tr th {\n",
       "        vertical-align: top;\n",
       "    }\n",
       "\n",
       "    .dataframe thead th {\n",
       "        text-align: right;\n",
       "    }\n",
       "</style>\n",
       "<table border=\"1\" class=\"dataframe\">\n",
       "  <thead>\n",
       "    <tr style=\"text-align: right;\">\n",
       "      <th></th>\n",
       "      <th>Cluster</th>\n",
       "      <th>Letra cluster</th>\n",
       "    </tr>\n",
       "  </thead>\n",
       "  <tbody>\n",
       "    <tr>\n",
       "      <th>3</th>\n",
       "      <td>Cluster 3</td>\n",
       "      <td>A</td>\n",
       "    </tr>\n",
       "    <tr>\n",
       "      <th>1</th>\n",
       "      <td>Cluster 1</td>\n",
       "      <td>B</td>\n",
       "    </tr>\n",
       "    <tr>\n",
       "      <th>2</th>\n",
       "      <td>Cluster 2</td>\n",
       "      <td>C</td>\n",
       "    </tr>\n",
       "    <tr>\n",
       "      <th>4</th>\n",
       "      <td>Cluster 4</td>\n",
       "      <td>D</td>\n",
       "    </tr>\n",
       "    <tr>\n",
       "      <th>0</th>\n",
       "      <td>Cluster 0</td>\n",
       "      <td>E</td>\n",
       "    </tr>\n",
       "  </tbody>\n",
       "</table>\n",
       "</div>"
      ],
      "text/plain": [
       "     Cluster Letra cluster\n",
       "3  Cluster 3             A\n",
       "1  Cluster 1             B\n",
       "2  Cluster 2             C\n",
       "4  Cluster 4             D\n",
       "0  Cluster 0             E"
      ]
     },
     "execution_count": 24,
     "metadata": {},
     "output_type": "execute_result"
    }
   ],
   "source": [
    "trans"
   ]
  }
 ],
 "metadata": {
  "kernelspec": {
   "display_name": "Python 3.8.13 ('py38')",
   "language": "python",
   "name": "python3"
  },
  "language_info": {
   "codemirror_mode": {
    "name": "ipython",
    "version": 3
   },
   "file_extension": ".py",
   "mimetype": "text/x-python",
   "name": "python",
   "nbconvert_exporter": "python",
   "pygments_lexer": "ipython3",
   "version": "3.8.13"
  },
  "orig_nbformat": 4,
  "vscode": {
   "interpreter": {
    "hash": "d6c6a9368ffd28e969f7d90a4d7c29e7466278b3cb1a367b914bbfe92c83c635"
   }
  }
 },
 "nbformat": 4,
 "nbformat_minor": 2
}
