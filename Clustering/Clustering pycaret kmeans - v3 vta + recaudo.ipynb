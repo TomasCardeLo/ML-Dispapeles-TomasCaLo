{
 "cells": [
  {
   "attachments": {},
   "cell_type": "markdown",
   "metadata": {},
   "source": [
    "##### Cargue de librerias"
   ]
  },
  {
   "cell_type": "code",
   "execution_count": 1,
   "metadata": {},
   "outputs": [],
   "source": [
    "from pycaret.clustering import *\n",
    "\n",
    "import pyodbc\n",
    "import pandas as pd\n",
    "import numpy as np\n",
    "import matplotlib.pyplot as plt\n",
    "import seaborn as sns\n",
    "from random import randint\n",
    "\n",
    "import warnings\n",
    "warnings.filterwarnings(\"ignore\")"
   ]
  },
  {
   "attachments": {},
   "cell_type": "markdown",
   "metadata": {},
   "source": [
    "##### Conexion al ERP/DWH de Dispapeles y cargue de bds adicionales"
   ]
  },
  {
   "cell_type": "code",
   "execution_count": null,
   "metadata": {},
   "outputs": [],
   "source": [
    "# Conexion al AS\n",
    "cnxn = pyodbc.connect(\n",
    "    driver='{iSeries Access ODBC Driver}',\n",
    "    system='192.168.100.2',\n",
    "    uid='TBLPRDUSR',\n",
    "    pwd='bbbb')\n",
    "cursor = cnxn.cursor()\n",
    "#cnxn.close()\n",
    "\n",
    "# Cargue de la data desde el ERP de Dispapeles y se guarda en df\n",
    "cursor.execute('SELECT DSTCOD AS \"Codigo distrito\", VTAZNA AS \"Codigo zona\", VTANIT AS \"Nit cliente\", ((2022 - LEFT(MAX(VTAFCH),4)) * 12 ) + (6 - SUBSTRING(MAX(VTAFCH),5,2)) AS \"Recency\", SUM(A.VTAVLRVTA) AS \"Monetary\", COUNT( DISTINCT LEFT(VTAFCH, 6)) AS \"Frequency\" FROM SIDPRDDTA.VTAHEC A WHERE PRMCOD = 1 AND A.DSTCOD = 10 AND A.VTAZNA < 96 AND LEFT(VTAFCH,6) BETWEEN 202011 AND 202210 GROUP BY DSTCOD, VTAZNA, VTANIT')\n",
    "rows = cursor.fetchall()\n",
    "df_rdo = pd.DataFrame.from_records(rows, columns=[col[0] for col in cursor.description])"
   ]
  },
  {
   "attachments": {},
   "cell_type": "markdown",
   "metadata": {},
   "source": [
    "SELECT \n",
    "\tTMPDST AS \"Codigo distrito\",\n",
    "\tTMPLL4 AS \"Codigo zona actual\",\n",
    "\tCONCAT(CONCAT(TMPN5, '-'), TMPFLG3) AS \"Nit cliente-sucursal\",\n",
    "\tLEFT(TMPFEC, 4) AS \"Ano\",\n",
    "\tSUBSTRING(TMPFEC, 5, 2) AS \"Mes\",\n",
    "\t(((2021 - MAX(LEFT(TMPFEC, 4))) * 12 ) + (0 - MAX(SUBSTRING(TMPFEC, 5, 2)))) * -1 AS \"Recency rcd\",\n",
    "\t(SUM(TMPN1) + SUM(TMPN7) + SUM(TMPN10) + SUM(TMPN11) + SUM(TMPN14) + SUM(TMPN12)) AS \"Monetary rcd\",\n",
    "\tCOUNT( DISTINCT SUBSTRING(TMPFEC, 5, 2)) AS \"Frequency rcd\"\n",
    "FROM\n",
    "\tSIDPRDDTA.TMPRPT\n",
    "WHERE\t\n",
    "\tTMPRPT = 'PRCDVNDE' AND\n",
    "\tTMPPRM = 1 AND\n",
    "\tTMPDST NOT IN (30, 35) AND\n",
    "\tTMPLL4 < 96 \n",
    "GROUP BY\n",
    "\tTMPDST,\n",
    "\tTMPLL4,\n",
    "\tCONCAT(CONCAT(TMPN5, '-'), TMPFLG3),\n",
    "\tLEFT(TMPFEC, 4),\n",
    "\tSUBSTRING(TMPFEC, 5, 2)\n",
    "HAVING\n",
    "\t(SUM(TMPN1) + SUM(TMPN7) + SUM(TMPN10) + SUM(TMPN11) + SUM(TMPN14) + SUM(TMPN12)) > 0"
   ]
  },
  {
   "cell_type": "code",
   "execution_count": 2,
   "metadata": {},
   "outputs": [],
   "source": [
    "## Conexion al DWH\n",
    "cnxn = pyodbc.connect(\n",
    "    driver='{SQL Server}',\n",
    "    server='192.168.100.58',\n",
    "    uid='bilectura',\n",
    "    pwd='D1sp@p3l3s')\n",
    "cursor = cnxn.cursor()\n",
    "#cnxn.close()"
   ]
  },
  {
   "cell_type": "code",
   "execution_count": 3,
   "metadata": {},
   "outputs": [],
   "source": [
    "codigo_SQL = \"SELECT A.DSTCOD AS 'Codigo distrito', B.VNDZNA AS 'Codigo zona actual', CONCAT(CONCAT(A.VTANIT,'-'),A.VTASUC) AS 'Nit cliente-sucursal', A.VTAANO AS 'Ano', A.VTAMES AS 'Mes', (((2021 - MAX(A.VTAANO)) * 12 ) + (0 - MAX(A.VTAMES))) * -1 AS 'Recency', SUM(A.VTAVLRVTA) AS 'Monetary', COUNT( DISTINCT A.VTAMES) AS 'Frequency' FROM V_VTA_VTAHEC A LEFT JOIN\tDIM_CLIENTES B ON A.PRMCOD = B.PRMCOD AND A.DSTCOD = B.DSTCOD AND A.VTANIT = B.CLTNIT AND A.VTASUC = B.CLTSUC WHERE A.PRMCOD = 1 AND A.DSTCOD NOT IN (30,35) AND A.VTAZNA < 96 AND A.VTAFCH BETWEEN '2021-01-01' AND '2022-12-31' GROUP BY A.DSTCOD, B.VNDZNA, CONCAT(CONCAT(A.VTANIT,'-'),A.VTASUC),\tA.VTAANO, A.VTAMES HAVING SUM(A.VTAVLRVTA) > 0\""
   ]
  },
  {
   "cell_type": "code",
   "execution_count": 4,
   "metadata": {},
   "outputs": [],
   "source": [
    "#Cargue de la data desde el ERP de Dispapeles y se guarda en df\n",
    "cursor.execute(codigo_SQL)\n",
    "rows = cursor.fetchall()\n",
    "df = pd.DataFrame.from_records(rows, columns=[col[0] for col in cursor.description])"
   ]
  },
  {
   "cell_type": "code",
   "execution_count": 5,
   "metadata": {},
   "outputs": [
    {
     "data": {
      "text/html": [
       "<div>\n",
       "<style scoped>\n",
       "    .dataframe tbody tr th:only-of-type {\n",
       "        vertical-align: middle;\n",
       "    }\n",
       "\n",
       "    .dataframe tbody tr th {\n",
       "        vertical-align: top;\n",
       "    }\n",
       "\n",
       "    .dataframe thead th {\n",
       "        text-align: right;\n",
       "    }\n",
       "</style>\n",
       "<table border=\"1\" class=\"dataframe\">\n",
       "  <thead>\n",
       "    <tr style=\"text-align: right;\">\n",
       "      <th></th>\n",
       "      <th>Codigo distrito</th>\n",
       "      <th>Codigo zona actual</th>\n",
       "      <th>Nit cliente-sucursal</th>\n",
       "      <th>Ano</th>\n",
       "      <th>Mes</th>\n",
       "      <th>Recency</th>\n",
       "      <th>Monetary</th>\n",
       "      <th>Frequency</th>\n",
       "    </tr>\n",
       "  </thead>\n",
       "  <tbody>\n",
       "    <tr>\n",
       "      <th>0</th>\n",
       "      <td>10</td>\n",
       "      <td>1</td>\n",
       "      <td>1077871537-1</td>\n",
       "      <td>2022</td>\n",
       "      <td>8</td>\n",
       "      <td>20</td>\n",
       "      <td>22599528.0000</td>\n",
       "      <td>1</td>\n",
       "    </tr>\n",
       "    <tr>\n",
       "      <th>1</th>\n",
       "      <td>10</td>\n",
       "      <td>1</td>\n",
       "      <td>17172243-1</td>\n",
       "      <td>2022</td>\n",
       "      <td>3</td>\n",
       "      <td>15</td>\n",
       "      <td>976752.0000</td>\n",
       "      <td>1</td>\n",
       "    </tr>\n",
       "    <tr>\n",
       "      <th>2</th>\n",
       "      <td>10</td>\n",
       "      <td>1</td>\n",
       "      <td>19322486-1</td>\n",
       "      <td>2021</td>\n",
       "      <td>2</td>\n",
       "      <td>2</td>\n",
       "      <td>1848088.2400</td>\n",
       "      <td>1</td>\n",
       "    </tr>\n",
       "    <tr>\n",
       "      <th>3</th>\n",
       "      <td>10</td>\n",
       "      <td>1</td>\n",
       "      <td>19322486-1</td>\n",
       "      <td>2022</td>\n",
       "      <td>1</td>\n",
       "      <td>13</td>\n",
       "      <td>4350769.7400</td>\n",
       "      <td>1</td>\n",
       "    </tr>\n",
       "    <tr>\n",
       "      <th>4</th>\n",
       "      <td>10</td>\n",
       "      <td>1</td>\n",
       "      <td>19322486-1</td>\n",
       "      <td>2022</td>\n",
       "      <td>8</td>\n",
       "      <td>20</td>\n",
       "      <td>1470204.9600</td>\n",
       "      <td>1</td>\n",
       "    </tr>\n",
       "  </tbody>\n",
       "</table>\n",
       "</div>"
      ],
      "text/plain": [
       "   Codigo distrito  Codigo zona actual Nit cliente-sucursal   Ano  Mes  \\\n",
       "0               10                   1         1077871537-1  2022    8   \n",
       "1               10                   1           17172243-1  2022    3   \n",
       "2               10                   1           19322486-1  2021    2   \n",
       "3               10                   1           19322486-1  2022    1   \n",
       "4               10                   1           19322486-1  2022    8   \n",
       "\n",
       "   Recency       Monetary  Frequency  \n",
       "0       20  22599528.0000          1  \n",
       "1       15    976752.0000          1  \n",
       "2        2   1848088.2400          1  \n",
       "3       13   4350769.7400          1  \n",
       "4       20   1470204.9600          1  "
      ]
     },
     "execution_count": 5,
     "metadata": {},
     "output_type": "execute_result"
    }
   ],
   "source": [
    "df.head()"
   ]
  },
  {
   "cell_type": "code",
   "execution_count": null,
   "metadata": {},
   "outputs": [],
   "source": [
    "maestra_zonas = pd.read_csv('C:/Users/tcardenas/OneDrive/OneDrive - Grupo DISPAPELES/Documents/Análisis clustering/Maestra_zonas.csv', delimiter= \";\")"
   ]
  },
  {
   "attachments": {},
   "cell_type": "markdown",
   "metadata": {},
   "source": [
    "##### Tranformaciones"
   ]
  },
  {
   "cell_type": "code",
   "execution_count": null,
   "metadata": {},
   "outputs": [],
   "source": [
    "df[\"Monetary\"] = df[\"Monetary\"].astype(int)"
   ]
  },
  {
   "cell_type": "code",
   "execution_count": null,
   "metadata": {},
   "outputs": [],
   "source": [
    "df_2 = pd.merge(df, maestra_zonas, on= [\"Codigo distrito\", \"Codigo zona actual\"])"
   ]
  },
  {
   "cell_type": "code",
   "execution_count": null,
   "metadata": {},
   "outputs": [],
   "source": [
    "list_filter = ['Artes graficas', 'V Horeca', 'Institucional', 'V SyE',\n",
    "                'V Industria', 'Mayorista']"
   ]
  },
  {
   "cell_type": "code",
   "execution_count": null,
   "metadata": {},
   "outputs": [],
   "source": [
    "df = df_2[df_2[\"Nombre tipo zona\"].isin(list_filter)]"
   ]
  },
  {
   "cell_type": "code",
   "execution_count": null,
   "metadata": {},
   "outputs": [],
   "source": [
    "df.describe()"
   ]
  },
  {
   "cell_type": "code",
   "execution_count": null,
   "metadata": {},
   "outputs": [],
   "source": [
    "df_3 = df.groupby([\"Codigo distrito\", \"Nombre tipo zona\", \"Nit cliente-sucursal\"]).agg({\"Recency\": np.max,\n",
    "                                                                            \"Monetary\": np.sum,\n",
    "                                                                            \"Frequency\": np.sum\n",
    "                                                                            })\n",
    "df_3 = df_3.reset_index(col_level= 1)\n",
    "df_3"
   ]
  },
  {
   "cell_type": "code",
   "execution_count": null,
   "metadata": {},
   "outputs": [],
   "source": [
    "#Se añade una key de Distrito-Nombretipozona para hacer mas facil la identificacion cuando se usa todo el pais\n",
    "#Se genera la calificacion de Recency basado en los valores máximos\n",
    "#Se divide por millón la columna Monetary para disminuir el rango de los valores\n",
    "df_3['Distrito-Nombretipozona'] = df_3['Codigo distrito'].astype(str) + '-' + df_3['Nombre tipo zona']\n",
    "df_3['Monetary'] = (df_3['Monetary'] / 1000).astype(int)\n",
    "df_3['Frequency'] = (df_3['Frequency']).astype(int)"
   ]
  },
  {
   "cell_type": "code",
   "execution_count": null,
   "metadata": {},
   "outputs": [],
   "source": [
    "df_3.describe()"
   ]
  },
  {
   "attachments": {},
   "cell_type": "markdown",
   "metadata": {},
   "source": [
    "##### Creacion, ajuste y descarga de los modelos de clustering por cada distrito-tipo de zona"
   ]
  },
  {
   "cell_type": "code",
   "execution_count": null,
   "metadata": {},
   "outputs": [],
   "source": [
    "list_dtos = df_3[\"Distrito-Nombretipozona\"].unique()"
   ]
  },
  {
   "cell_type": "code",
   "execution_count": null,
   "metadata": {},
   "outputs": [],
   "source": [
    "list_dtos = ['10-Artes graficas', '10-Institucional']"
   ]
  },
  {
   "cell_type": "code",
   "execution_count": null,
   "metadata": {},
   "outputs": [],
   "source": [
    "numeric_features = [\"Recency\", \"Monetary\", \"Frequency\"]\n",
    "ignore_columns = [\"Codigo distrito\", \"Nombre tipo zona\", \"Nit cliente-sucursal\", \"Distrito-Nombretipozona\"]\n",
    "normalizar = [False, True]"
   ]
  },
  {
   "attachments": {},
   "cell_type": "markdown",
   "metadata": {},
   "source": [
    "##### Dos modelos, norm= True y norm= False"
   ]
  },
  {
   "cell_type": "code",
   "execution_count": null,
   "metadata": {},
   "outputs": [],
   "source": [
    "bd_predicted = pd.DataFrame([])\n",
    "metrics = []\n",
    "fecha = '1-2-23'\n",
    "\n",
    "for norm in normalizar:\n",
    "    for n, dto in enumerate(list_dtos):\n",
    "        print(f\"Procesando modelo normalizado {norm} {n+1} de {len(list_dtos)}. {(n+1) / (len(list_dtos)):.1%}\")\n",
    "        \n",
    "        #BD filtrada\n",
    "        df_dto = df_3[df_3[\"Distrito-Nombretipozona\"] == dto]\n",
    "        \n",
    "        #Setup del modelo \n",
    "        s = setup(\n",
    "                    df_dto,\n",
    "                    normalize = norm,\n",
    "                    verbose= False,\n",
    "                    preprocess= False,\n",
    "                    silent= True,\n",
    "                    profile= False,\n",
    "                    ignore_features= ignore_columns,\n",
    "                    numeric_features= numeric_features\n",
    "                    )\n",
    "        \n",
    "        #Creacion y prediccion de modelo\n",
    "        model_kmeans = create_model(\n",
    "                                    'kmeans',\n",
    "                                    num_clusters= 5,\n",
    "                                    verbose= False,\n",
    "                                    )\n",
    "        pull()\n",
    "        df_pred_km = predict_model(\n",
    "                                    model_kmeans,\n",
    "                                    data = df_dto\n",
    "                                    )\n",
    "        \n",
    "        # Reasignacion de los nombres de los clusters\n",
    "        trans = df_pred_km.groupby(\n",
    "                                    [\"Cluster\"]).agg({\n",
    "                                                    \"Recency\": np.mean, \"Monetary\": np.mean, \"Frequency\": np.mean,\n",
    "                                                    }).sort_values(\n",
    "                                                                    by= [\"Recency\", \"Frequency\", \"Monetary\"],\n",
    "                                                                    ascending= False\n",
    "                                                                    ).reset_index()\n",
    "        trans[\"Letra cluster\"] = [\"A\", \"B\", \"C\", \"D\", \"E\"]\n",
    "        trans = trans[[\"Cluster\", \"Letra cluster\"]]\n",
    "        \n",
    "        df_pred_km = pd.merge(df_pred_km, trans, on= [\"Cluster\"])\n",
    "        \n",
    "        # Descargue del modelo\n",
    "        bd_predicted = bd_predicted.append(df_pred_km)\n",
    "\n",
    "        #Append a una base general\n",
    "        metrics.append({\n",
    "                        \"Distrito-zona\": dto,\n",
    "                        \"Normalizado\": norm,\n",
    "                        \"Silhouette\": pull().Silhouette[0],\n",
    "                        \"Calinski-Harabasz\": pull()[\"Calinski-Harabasz\"][0],\n",
    "                        \"Davies-Bouldin\": pull()[\"Davies-Bouldin\"][0]\n",
    "                        })\n",
    "        # save_model(model_kmeans, f\"C:/Users/tcardenas/OneDrive/OneDrive - Grupo DISPAPELES/Documents/ML-Dispapeles-TomasCaLo/Clustering/Modelos {fecha}/Modelo {dto} {fecha}\")\n",
    "\n",
    "metrics = pd.DataFrame(metrics)\n",
    "metrics[\"Normalizado\"] = metrics[\"Normalizado\"].replace([True, False], [\"Si\",\"No\"])\n",
    "metrics[\"Tipo zona\"] = metrics[\"Distrito-zona\"].str[3:]\n",
    "\n",
    "print(\"Proceso completo 100%\")"
   ]
  },
  {
   "attachments": {},
   "cell_type": "markdown",
   "metadata": {},
   "source": [
    "##### Un solo modelo, norm= False"
   ]
  },
  {
   "cell_type": "code",
   "execution_count": null,
   "metadata": {},
   "outputs": [],
   "source": [
    "bd_predicted = pd.DataFrame([])\n",
    "metrics = []\n",
    "fecha = '1-2-23'\n",
    "\n",
    "for n, dto in enumerate(list_dtos):\n",
    "    print(f\"Procesando modelo {n+1} de {len(list_dtos)}. {(n+1) / (len(list_dtos)):.1%}\")\n",
    "    \n",
    "    #BD filtrada\n",
    "    df_dto = df_3[df_3[\"Distrito-Nombretipozona\"] == dto]\n",
    "    \n",
    "    #Setup del modelo \n",
    "    s = setup(\n",
    "                df_dto,\n",
    "                normalize = False,\n",
    "                verbose= False,\n",
    "                preprocess= False,\n",
    "                silent= True,\n",
    "                profile= False,\n",
    "                ignore_features= ignore_columns,\n",
    "                numeric_features= numeric_features\n",
    "                )\n",
    "    \n",
    "    #Creacion y prediccion de modelo\n",
    "    model_kmeans = create_model(\n",
    "                                'kmeans',\n",
    "                                num_clusters= 5,\n",
    "                                verbose= False,\n",
    "                                )\n",
    "    pull()\n",
    "    df_pred_km = predict_model(\n",
    "                                model_kmeans,\n",
    "                                data = df_dto\n",
    "                                )\n",
    "    \n",
    "    # Reasignacion de los nombres de los clusters\n",
    "    trans = df_pred_km.groupby(\n",
    "                                [\"Cluster\"]).agg({\n",
    "                                                \"Recency\": np.mean, \"Monetary\": np.mean, \"Frequency\": np.mean,\n",
    "                                                }).sort_values(\n",
    "                                                                by= [\"Recency\", \"Frequency\", \"Monetary\"],\n",
    "                                                                ascending= False\n",
    "                                                                ).reset_index()\n",
    "    trans[\"Letra cluster\"] = [\"A\", \"B\", \"C\", \"D\", \"E\"]\n",
    "    trans = trans[[\"Cluster\", \"Letra cluster\"]]\n",
    "    \n",
    "    df_pred_km = pd.merge(df_pred_km, trans, on= [\"Cluster\"])\n",
    "    \n",
    "    # Descargue del modelo\n",
    "    bd_predicted = bd_predicted.append(df_pred_km)\n",
    "\n",
    "    #Append a una base general\n",
    "    metrics.append({\n",
    "                    \"Distrito-zona\": dto,\n",
    "                    \"Silhouette\": pull().Silhouette[0],\n",
    "                    \"Calinski-Harabasz\": pull()[\"Calinski-Harabasz\"][0],\n",
    "                    \"Davies-Bouldin\": pull()[\"Davies-Bouldin\"][0]\n",
    "                    })\n",
    "    # save_model(model_kmeans, f\"C:/Users/tcardenas/OneDrive/OneDrive - Grupo DISPAPELES/Documents/ML-Dispapeles-TomasCaLo/Clustering/Modelos {fecha}/Modelo {dto} {fecha}\")\n",
    "\n",
    "metrics = pd.DataFrame(metrics)\n",
    "metrics[\"Tipo zona\"] = metrics[\"Distrito-zona\"].str[3:]\n",
    "\n",
    "print(\"Proceso completo 100%\")"
   ]
  },
  {
   "cell_type": "code",
   "execution_count": null,
   "metadata": {},
   "outputs": [],
   "source": [
    "metrics"
   ]
  },
  {
   "cell_type": "code",
   "execution_count": null,
   "metadata": {},
   "outputs": [],
   "source": [
    "f, axarr = plt.subplots(2,3)\n",
    "f.set_figheight(10)\n",
    "f.set_figwidth(25)\n",
    "\n",
    "metricas = [\"Silhouette\", \"Calinski-Harabasz\", \"Davies-Bouldin\"]\n",
    "\n",
    "for n, met in enumerate(metricas):\n",
    "    f.add_subplot(axarr[0,n])\n",
    "    plt.title(f\"Distribución {met}\").set_fontsize(15)\n",
    "    sns.set_theme(style=\"darkgrid\", palette= \"pastel\")\n",
    "    sns.boxplot(data= metrics, x= met, y= \"Tipo zona\", hue= 'Normalizado')\n",
    "\n",
    "    f.add_subplot(axarr[1,n])\n",
    "    sns.set_theme(style=\"darkgrid\", palette= \"pastel\")\n",
    "    sns.histplot(data= metrics, x= met, hue= 'Normalizado')\n",
    "plt.show()\n",
    "\n"
   ]
  },
  {
   "cell_type": "code",
   "execution_count": null,
   "metadata": {},
   "outputs": [],
   "source": [
    "metrics[metrics['Normalizado'] == \"Si\"].describe()"
   ]
  },
  {
   "cell_type": "code",
   "execution_count": null,
   "metadata": {},
   "outputs": [],
   "source": [
    "metrics[metrics['Normalizado'] == \"No\"].describe()"
   ]
  },
  {
   "cell_type": "code",
   "execution_count": null,
   "metadata": {},
   "outputs": [],
   "source": [
    "#Descargue de bd predicha y metricas calculadas\n",
    "bd_predicted.to_csv(f\"C:/Users/tcardenas/OneDrive/OneDrive - Grupo DISPAPELES/Documents/ML-Dispapeles-TomasCaLo/Clustering/Clustering {fecha}.csv\",\n",
    "                        encoding= 'utf-8', index= False, decimal= \",\", sep= \";\")\n",
    "metrics.to_csv(f\"C:/Users/tcardenas/OneDrive/OneDrive - Grupo DISPAPELES/Documents/ML-Dispapeles-TomasCaLo/Clustering/Metricas {fecha}.csv\",\n",
    "                        encoding= 'utf-8', index= False, decimal= \",\",  sep= \";\")"
   ]
  },
  {
   "cell_type": "code",
   "execution_count": null,
   "metadata": {},
   "outputs": [],
   "source": [
    "fig = plt.figure(figsize=(7,10))\n",
    "ax = fig.gca(projection='3d')\n",
    "\n",
    "m = ['o', 'v', 's', 'p', '*']\n",
    "col =  ['blueviolet', 'limegreen', 'indianred', 'royalblue', 'magenta']\n",
    "leg = ['Cluster 0','Cluster 1','Cluster 2','Cluster 3', 'Cluster 4']\n",
    "cluster = list(np.unique(df_pred_km['Cluster']))\n",
    "\n",
    "for c in range(5):\n",
    "    df_plot = df_pred_km[df_pred_km['Cluster'] == cluster[c]]\n",
    "    ax.scatter(df_plot['Monetary'],df_plot['Frequency'], df_plot['Recency'] , marker= m[c], c= col[c])\n",
    "    \n",
    "ax.legend(leg)\n",
    "ax.set_xlabel('Monetary')\n",
    "ax.set_ylabel('Recency')\n",
    "ax.set_zlabel('Frequency')"
   ]
  },
  {
   "cell_type": "code",
   "execution_count": null,
   "metadata": {},
   "outputs": [],
   "source": [
    "plot_model(model_kmeans, plot = 'cluster')"
   ]
  },
  {
   "cell_type": "code",
   "execution_count": null,
   "metadata": {},
   "outputs": [],
   "source": [
    "# saved_model =  load_model('Model Version random 9-11')"
   ]
  }
 ],
 "metadata": {
  "kernelspec": {
   "display_name": "Python 3.8.13 ('py38')",
   "language": "python",
   "name": "python3"
  },
  "language_info": {
   "codemirror_mode": {
    "name": "ipython",
    "version": 3
   },
   "file_extension": ".py",
   "mimetype": "text/x-python",
   "name": "python",
   "nbconvert_exporter": "python",
   "pygments_lexer": "ipython3",
   "version": "3.8.13"
  },
  "orig_nbformat": 4,
  "vscode": {
   "interpreter": {
    "hash": "d6c6a9368ffd28e969f7d90a4d7c29e7466278b3cb1a367b914bbfe92c83c635"
   }
  }
 },
 "nbformat": 4,
 "nbformat_minor": 2
}
