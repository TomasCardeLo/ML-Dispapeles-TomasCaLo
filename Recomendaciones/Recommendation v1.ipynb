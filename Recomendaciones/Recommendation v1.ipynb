{
 "cells": [
  {
   "cell_type": "code",
   "execution_count": 1,
   "metadata": {},
   "outputs": [],
   "source": [
    "import pyodbc\n",
    "import pandas as pd\n",
    "import numpy as np\n",
    "from datetime import datetime\n",
    "from sklearn.metrics.pairwise import cosine_similarity\n",
    "\n",
    "import warnings\n",
    "warnings.filterwarnings(\"ignore\")"
   ]
  },
  {
   "cell_type": "code",
   "execution_count": 2,
   "metadata": {},
   "outputs": [],
   "source": [
    "def df_cluster(nits_clientes, distrito, fecha_inicial, fecha_final):\n",
    "    # Conexion al dwh\n",
    "    cnxn = pyodbc.connect(\n",
    "        driver='{SQL Server}',\n",
    "        server='192.168.100.58',\n",
    "        uid='bilectura',\n",
    "        pwd='D1sp@p3l3s')\n",
    "    cursor = cnxn.cursor()\n",
    "\n",
    "    df_SQL_nits = pd.DataFrame()\n",
    "\n",
    "    for nit in nits_clientes:\n",
    "        #Consulta SQL\n",
    "        consulta_SQL = f\"SELECT A.VTANIT AS 'Nitcliente', B.NITNOM AS 'Nombre cliente', A.VTAPRDCOD AS 'Codigo producto', SUM(A.VTAUNDINV) AS 'Unidades' FROM V_VTA_VTAHEC A LEFT JOIN DIM_NITS B ON A.VTANIT = B.NITNIT WHERE A.VTANIT = '{nit}' AND A.VTAFCH BETWEEN '{fecha_inicial}' AND '{fecha_final}' AND A.DSTCOD = {distrito} GROUP BY A.VTANIT, B.NITNOM, A.VTAPRDCOD HAVING SUM(A.VTAUNDINV) > 0\"\n",
    "\n",
    "        #Carga de la data desde el dwh de Dispapeles y se guarda en df\n",
    "        cursor.execute(consulta_SQL)\n",
    "        rows = cursor.fetchall()\n",
    "        df_SQL_int = pd.DataFrame.from_records(rows, columns=[col[0] for col in cursor.description])\n",
    "        df_SQL_int[\"Unidades\"] = df_SQL_int[\"Unidades\"].astype(int)\n",
    "\n",
    "        df_SQL_nits = pd.concat([df_SQL_nits, df_SQL_int], ignore_index= True)\n",
    "\n",
    "    # df_SQL = df_SQL_nits.groupby(\"Fecha\").sum().reset_index()\n",
    "    df_SQL_nits\n",
    "    df_productos = df_SQL_nits.groupby(\"Codigo producto\").sum().reset_index()\n",
    "    df_productos = df_productos.drop(\"Unidades\", axis= 1)\n",
    "    df_nits = df_SQL_nits.groupby([\"Nitcliente\", \"Nombre cliente\"]).sum().reset_index()\n",
    "    df_nits = df_nits.drop(\"Unidades\", axis= 1)\n",
    "\n",
    "    return df_SQL_nits, df_productos, df_nits"
   ]
  },
  {
   "cell_type": "code",
   "execution_count": 37,
   "metadata": {},
   "outputs": [],
   "source": [
    "def nombre_cliente(df, nit):\n",
    "    a = df[df[\"Nitcliente\"] == nit][\"Nombre cliente\"].values\n",
    "    \n",
    "    return a[0]\n"
   ]
  },
  {
   "cell_type": "code",
   "execution_count": 3,
   "metadata": {},
   "outputs": [],
   "source": [
    "df_productos = pd.read_excel(\"C:/Users/tcardenas/OneDrive/OneDrive - Grupo DISPAPELES/Databases/Maestra gerencias.xlsx\", sheet_name= \"Maestra productos BI\")\n",
    "col = [\"PRDCOD\", \"PRDNOM\", \"Gerente\", \"Línea CAM\"]\n",
    "df_productos = df_productos[col]\n",
    "df_productos.columns = [\"Codigo producto\", \"Nombre producto\", \"Gerencia\", \"Linea CAM\"]"
   ]
  },
  {
   "cell_type": "code",
   "execution_count": 4,
   "metadata": {},
   "outputs": [],
   "source": [
    "df_clusters = pd.read_csv(\"C:/Users/tcardenas/OneDrive/OneDrive - Grupo DISPAPELES/Documents/ML-Dispapeles-TomasCaLo/Clustering/Clustering 12-04-23.csv\",\n",
    "                            encoding= 'utf-8', decimal= \",\", sep= \";\")\n",
    "col_eliminar = [\"Escala R\", \"Escala M\", \"Escala F\", \"Distrito-Nombretipozona\", \"Cluster\"]\n",
    "df_clusters = df_clusters.drop(col_eliminar, axis= 1)\n",
    "\n",
    "filtro_distrito = 10\n",
    "filtro_tipozona = \"Artes graficas\"\n",
    "filtro_cluster = \"A\"\n",
    "\n",
    "df_clusters_f = df_clusters[\n",
    "                            (df_clusters[\"Codigo distrito\"] == filtro_distrito) &\n",
    "                            (df_clusters[\"Nombre tipo zona\"] == filtro_tipozona) &\n",
    "                            (df_clusters[\"Letra cluster\"] == filtro_cluster)\n",
    "                            ]"
   ]
  },
  {
   "cell_type": "code",
   "execution_count": 5,
   "metadata": {},
   "outputs": [],
   "source": [
    "# Variables auxiliares\n",
    "lista_nits = []\n",
    "for nit_suc in df_clusters_f[\"Nit cliente-sucursal\"].tolist():\n",
    "    lista_nits.append(nit_suc.split(\"-\")[0])\n",
    "\n",
    "fecha_final = '2023-03-31'\n",
    "fecha_inicial = '2022-04-01'\n",
    "fecha_final = datetime.strptime(fecha_final, '%Y-%m-%d').strftime('%Y-%m-%d')\n",
    "fecha_inicial = datetime.strptime(fecha_inicial, '%Y-%m-%d').strftime('%Y-%m-%d')"
   ]
  },
  {
   "cell_type": "code",
   "execution_count": 6,
   "metadata": {},
   "outputs": [],
   "source": [
    "#dfs para EDA y forecast\n",
    "ventas_cluster, ventas_productos, ventas_nits = df_cluster(nits_clientes= lista_nits, distrito= filtro_distrito, fecha_inicial= fecha_inicial, fecha_final= fecha_final)"
   ]
  },
  {
   "cell_type": "code",
   "execution_count": 8,
   "metadata": {},
   "outputs": [],
   "source": [
    "productos_cluster = pd.merge(ventas_productos, df_productos, on= \"Codigo producto\", how= \"left\")"
   ]
  },
  {
   "attachments": {},
   "cell_type": "markdown",
   "metadata": {},
   "source": [
    "### Filtro colaborativo basado en usuario:"
   ]
  },
  {
   "cell_type": "code",
   "execution_count": 10,
   "metadata": {},
   "outputs": [],
   "source": [
    "# Crear una matriz de utilidad de usuarios y películas\n",
    "utility_matrix = ventas_cluster.pivot(index='Nitcliente', columns='Codigo producto', values='Unidades').fillna(0)\n",
    "# Calcular la similitud del coseno entre los usuarios\n",
    "user_similarity = cosine_similarity(utility_matrix)"
   ]
  },
  {
   "cell_type": "code",
   "execution_count": 11,
   "metadata": {},
   "outputs": [],
   "source": [
    "# Función para obtener las películas recomendadas para un usuario específico\n",
    "def get_user_recommendations(Nitcliente, num_recommendations=10):\n",
    "    # Obtener la fila de similitud del usuario\n",
    "    index = utility_matrix.index.tolist()\n",
    "    user_similarities = user_similarity[index.index(Nitcliente)]\n",
    "\n",
    "    # Calcular el promedio ponderado de las clasificaciones de películas de los usuarios similares\n",
    "    weighted_productos = np.dot(user_similarities, utility_matrix.values) / np.sum(np.abs(user_similarities))\n",
    "\n",
    "    # Excluir las películas que el usuario ya ha visto\n",
    "    producto_comprado = utility_matrix.loc[Nitcliente] > 0\n",
    "    weighted_productos[producto_comprado] = 0\n",
    "\n",
    "    # Ordenar las películas recomendadas por la clasificación ponderada\n",
    "    codigos_productos = np.argsort(weighted_productos)[::-1][:num_recommendations+1]\n",
    "\n",
    "    # Obtener los títulos de las películas recomendadas\n",
    "    recommended_productos = productos_cluster.iloc[productos_cluster.index.isin(codigos_productos)]\n",
    "\n",
    "    return recommended_productos\n",
    "\n"
   ]
  },
  {
   "cell_type": "code",
   "execution_count": 36,
   "metadata": {},
   "outputs": [
    {
     "data": {
      "text/plain": [
       "'FOTOLITO HEL LTDA.                      '"
      ]
     },
     "execution_count": 36,
     "metadata": {},
     "output_type": "execute_result"
    }
   ],
   "source": [
    "a = ventas_nits[ventas_nits[\"Nitcliente\"] == 800170615][\"Nombre cliente\"].values\n",
    "a[0]"
   ]
  },
  {
   "cell_type": "code",
   "execution_count": 38,
   "metadata": {},
   "outputs": [
    {
     "name": "stdout",
     "output_type": "stream",
     "text": [
      "Productos recomendados para el cliente 800170615 FOTOLITO HEL LTDA.                      :\n"
     ]
    },
    {
     "data": {
      "text/html": [
       "<div>\n",
       "<style scoped>\n",
       "    .dataframe tbody tr th:only-of-type {\n",
       "        vertical-align: middle;\n",
       "    }\n",
       "\n",
       "    .dataframe tbody tr th {\n",
       "        vertical-align: top;\n",
       "    }\n",
       "\n",
       "    .dataframe thead th {\n",
       "        text-align: right;\n",
       "    }\n",
       "</style>\n",
       "<table border=\"1\" class=\"dataframe\">\n",
       "  <thead>\n",
       "    <tr style=\"text-align: right;\">\n",
       "      <th></th>\n",
       "      <th>Codigo producto</th>\n",
       "      <th>Nombre producto</th>\n",
       "      <th>Gerencia</th>\n",
       "      <th>Linea CAM</th>\n",
       "    </tr>\n",
       "  </thead>\n",
       "  <tbody>\n",
       "    <tr>\n",
       "      <th>0</th>\n",
       "      <td>20</td>\n",
       "      <td>BOND BLANCO</td>\n",
       "      <td>Papel para escritura</td>\n",
       "      <td>Bond</td>\n",
       "    </tr>\n",
       "    <tr>\n",
       "      <th>41</th>\n",
       "      <td>839</td>\n",
       "      <td>REPROGRAF  A.B. RESMILLA OFICIO</td>\n",
       "      <td>Resmilla</td>\n",
       "      <td>Resmilla - Reprograf</td>\n",
       "    </tr>\n",
       "    <tr>\n",
       "      <th>42</th>\n",
       "      <td>1000</td>\n",
       "      <td>PAPEL PERIODICO</td>\n",
       "      <td>Periódico</td>\n",
       "      <td>Periódico</td>\n",
       "    </tr>\n",
       "    <tr>\n",
       "      <th>79</th>\n",
       "      <td>5995</td>\n",
       "      <td>FASSON ESM80 SEGURIDAD S1600 SCK 85</td>\n",
       "      <td>Papeles especiales</td>\n",
       "      <td>Autoadhesivos</td>\n",
       "    </tr>\n",
       "    <tr>\n",
       "      <th>118</th>\n",
       "      <td>10675</td>\n",
       "      <td>REPROGRAF NATURAL CARTA</td>\n",
       "      <td>Resmilla</td>\n",
       "      <td>Resmilla - Natural</td>\n",
       "    </tr>\n",
       "    <tr>\n",
       "      <th>341</th>\n",
       "      <td>50600</td>\n",
       "      <td>PROPALCOTE C2S GLOSS-70.5 Y 141</td>\n",
       "      <td>Papel para escritura</td>\n",
       "      <td>Esmaltado</td>\n",
       "    </tr>\n",
       "  </tbody>\n",
       "</table>\n",
       "</div>"
      ],
      "text/plain": [
       "    Codigo producto                           Nombre producto  \\\n",
       "0                20  BOND BLANCO                                \n",
       "41              839  REPROGRAF  A.B. RESMILLA OFICIO            \n",
       "42             1000  PAPEL PERIODICO                            \n",
       "79             5995  FASSON ESM80 SEGURIDAD S1600 SCK 85        \n",
       "118           10675  REPROGRAF NATURAL CARTA                    \n",
       "341           50600  PROPALCOTE C2S GLOSS-70.5 Y 141            \n",
       "\n",
       "                 Gerencia             Linea CAM  \n",
       "0    Papel para escritura                  Bond  \n",
       "41               Resmilla  Resmilla - Reprograf  \n",
       "42              Periódico             Periódico  \n",
       "79     Papeles especiales         Autoadhesivos  \n",
       "118              Resmilla    Resmilla - Natural  \n",
       "341  Papel para escritura             Esmaltado  "
      ]
     },
     "execution_count": 38,
     "metadata": {},
     "output_type": "execute_result"
    }
   ],
   "source": [
    "Nitcliente = 800170615\n",
    "Nombre_cliente = nombre_cliente(ventas_nits, Nitcliente)\n",
    "recommended_productos = get_user_recommendations(Nitcliente= Nitcliente, num_recommendations= 5)\n",
    "print(f\"Productos recomendados para el cliente {Nitcliente} {Nombre_cliente}:\")\n",
    "recommended_productos"
   ]
  }
 ],
 "metadata": {
  "kernelspec": {
   "display_name": "base",
   "language": "python",
   "name": "python3"
  },
  "language_info": {
   "codemirror_mode": {
    "name": "ipython",
    "version": 3
   },
   "file_extension": ".py",
   "mimetype": "text/x-python",
   "name": "python",
   "nbconvert_exporter": "python",
   "pygments_lexer": "ipython3",
   "version": "3.9.13"
  },
  "orig_nbformat": 4
 },
 "nbformat": 4,
 "nbformat_minor": 2
}
