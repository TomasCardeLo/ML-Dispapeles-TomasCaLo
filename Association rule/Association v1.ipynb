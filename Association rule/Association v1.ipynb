{
 "cells": [
  {
   "cell_type": "code",
   "execution_count": 1,
   "metadata": {},
   "outputs": [],
   "source": [
    "from pycaret.arules import *\n",
    "\n",
    "import pyodbc\n",
    "import pandas as pd\n",
    "import numpy as np\n",
    "import matplotlib.pyplot as plt\n",
    "import seaborn as sns\n",
    "from random import randint\n",
    "\n",
    "import warnings\n",
    "warnings.filterwarnings(\"ignore\")"
   ]
  },
  {
   "cell_type": "code",
   "execution_count": 2,
   "metadata": {},
   "outputs": [],
   "source": [
    "## Conexion al DWH\n",
    "cnxn = pyodbc.connect(\n",
    "    driver='{SQL Server}',\n",
    "    server='192.168.100.58',\n",
    "    uid='bilectura',\n",
    "    pwd='D1sp@p3l3s')\n",
    "cursor = cnxn.cursor()\n",
    "#cnxn.close()"
   ]
  },
  {
   "cell_type": "code",
   "execution_count": 46,
   "metadata": {},
   "outputs": [],
   "source": [
    "codigo_SQL = \"SELECT A.VTANUMDOC 'Documento', A.VTAPRDCOD AS 'Codigo producto', B.PRDNOM AS 'Nombre producto', DATEFROMPARTS(A.VTAANO, A.VTAMES, 1) AS 'Fecha', A.VTANIT AS 'Nit cliente', C.NITNOM AS 'Nombre cliente', A.DSTCOD AS 'Codigo distrito', SUM(A.VTAUNDINV) AS 'Unidades' FROM V_VTA_VTAHEC A LEFT JOIN DIM_PRODUCTOS B ON A.PRMCOD = B.PRMCOD AND A.VTAPRDCOD = B.PRDCOD LEFT JOIN DIM_NITS C ON A.VTANIT = C.NITNIT WHERE A.PRMCOD = 1 AND A.DSTCOD = 10 AND A.VTADCMCOD = 402 AND A.VTAANO >= 2021 GROUP BY A.VTANUMDOC, A.VTAPRDCOD, B.PRDNOM, DATEFROMPARTS(A.VTAANO, A.VTAMES, 1), A.VTANIT, C.NITNOM, A.DSTCOD HAVING SUM(A.VTAUNDINV) > 0\"\n",
    "codigo_SQL = \"SELECT A.VTANUMDOC AS 'Documento', A.VTAPRDCOD AS 'Codigo producto', B.PRDNOM AS 'Nombre producto', DATEFROMPARTS(A.VTAANO, A.VTAMES, 1) AS 'Fecha', A.VTANIT AS 'Nit cliente', C.NITNOM AS 'Nombre cliente', A.DSTCOD AS 'Codigo distrito', SUM(A.VTAUNDINV) AS 'Unidades' FROM V_VTA_VTAHEC A LEFT JOIN DIM_PRODUCTOS B ON A.PRMCOD = B.PRMCOD AND A.VTAPRDCOD = B.PRDCOD LEFT JOIN DIM_NITS C ON A.VTANIT = C.NITNIT WHERE A.PRMCOD = 1 AND A.DSTCOD = 10 AND A.VTADCMCOD = 402 AND A.VTAANO >= 2022 AND A.VTAZNA <= 5 GROUP BY A.VTANUMDOC, A.VTAPRDCOD, B.PRDNOM, DATEFROMPARTS(A.VTAANO, A.VTAMES, 1), A.VTANIT, C.NITNOM, A.DSTCOD HAVING SUM(A.VTAUNDINV) > 0\""
   ]
  },
  {
   "cell_type": "code",
   "execution_count": 47,
   "metadata": {},
   "outputs": [],
   "source": [
    "#Cargue de la data desde el ERP de Dispapeles y se guarda en df\n",
    "cursor.execute(codigo_SQL)\n",
    "rows = cursor.fetchall()\n",
    "df = pd.DataFrame.from_records(rows, columns=[col[0] for col in cursor.description])"
   ]
  },
  {
   "cell_type": "code",
   "execution_count": 48,
   "metadata": {},
   "outputs": [
    {
     "data": {
      "text/html": [
       "<div>\n",
       "<style scoped>\n",
       "    .dataframe tbody tr th:only-of-type {\n",
       "        vertical-align: middle;\n",
       "    }\n",
       "\n",
       "    .dataframe tbody tr th {\n",
       "        vertical-align: top;\n",
       "    }\n",
       "\n",
       "    .dataframe thead th {\n",
       "        text-align: right;\n",
       "    }\n",
       "</style>\n",
       "<table border=\"1\" class=\"dataframe\">\n",
       "  <thead>\n",
       "    <tr style=\"text-align: right;\">\n",
       "      <th></th>\n",
       "      <th>Documento</th>\n",
       "      <th>Codigo producto</th>\n",
       "      <th>Nombre producto</th>\n",
       "      <th>Fecha</th>\n",
       "      <th>Nit cliente</th>\n",
       "      <th>Nombre cliente</th>\n",
       "      <th>Codigo distrito</th>\n",
       "      <th>Unidades</th>\n",
       "    </tr>\n",
       "  </thead>\n",
       "  <tbody>\n",
       "    <tr>\n",
       "      <th>0</th>\n",
       "      <td>1463018</td>\n",
       "      <td>12753</td>\n",
       "      <td>PROPALCOTE ESMALTADO C2S GLOSS</td>\n",
       "      <td>2022-11-01</td>\n",
       "      <td>901401673</td>\n",
       "      <td>IMPREYA PUBLICIDAD SAS</td>\n",
       "      <td>10</td>\n",
       "      <td>1.000</td>\n",
       "    </tr>\n",
       "    <tr>\n",
       "      <th>1</th>\n",
       "      <td>1462486</td>\n",
       "      <td>20106</td>\n",
       "      <td>PH.JUMBO SCOTT BLANCO DH.4ROLX250MT</td>\n",
       "      <td>2022-10-01</td>\n",
       "      <td>860534277</td>\n",
       "      <td>NUEVAS EDICIONES S.A.S</td>\n",
       "      <td>10</td>\n",
       "      <td>1.000</td>\n",
       "    </tr>\n",
       "    <tr>\n",
       "      <th>2</th>\n",
       "      <td>1443778</td>\n",
       "      <td>27015</td>\n",
       "      <td>BANNER BLANCO MATE13 OZ 2,2X50</td>\n",
       "      <td>2022-05-01</td>\n",
       "      <td>900655337</td>\n",
       "      <td>GRAPHIC CITY S.A.S</td>\n",
       "      <td>10</td>\n",
       "      <td>1.000</td>\n",
       "    </tr>\n",
       "    <tr>\n",
       "      <th>3</th>\n",
       "      <td>1458252</td>\n",
       "      <td>554</td>\n",
       "      <td>PROPALCOTE C1S S.B.S.</td>\n",
       "      <td>2022-09-01</td>\n",
       "      <td>800032769</td>\n",
       "      <td>GAMACOLOR EDITORIAL S.A.S</td>\n",
       "      <td>10</td>\n",
       "      <td>0.400</td>\n",
       "    </tr>\n",
       "    <tr>\n",
       "      <th>4</th>\n",
       "      <td>1469526</td>\n",
       "      <td>23637</td>\n",
       "      <td>KCP PAÑO IND WYPALL X-70 RR 6X1X88</td>\n",
       "      <td>2022-12-01</td>\n",
       "      <td>860534277</td>\n",
       "      <td>NUEVAS EDICIONES S.A.S</td>\n",
       "      <td>10</td>\n",
       "      <td>1.000</td>\n",
       "    </tr>\n",
       "    <tr>\n",
       "      <th>...</th>\n",
       "      <td>...</td>\n",
       "      <td>...</td>\n",
       "      <td>...</td>\n",
       "      <td>...</td>\n",
       "      <td>...</td>\n",
       "      <td>...</td>\n",
       "      <td>...</td>\n",
       "      <td>...</td>\n",
       "    </tr>\n",
       "    <tr>\n",
       "      <th>8767</th>\n",
       "      <td>1456907</td>\n",
       "      <td>1091</td>\n",
       "      <td>GRAPHICS REV. BLANCO CAL 16 CMPC MAULE</td>\n",
       "      <td>2022-09-01</td>\n",
       "      <td>900662607</td>\n",
       "      <td>LITOFORMAS Y ROLLOS S.A.S</td>\n",
       "      <td>10</td>\n",
       "      <td>0.400</td>\n",
       "    </tr>\n",
       "    <tr>\n",
       "      <th>8768</th>\n",
       "      <td>1470489</td>\n",
       "      <td>53054</td>\n",
       "      <td>TA.PAPEL QMC BCO. CFB GHS 24.1</td>\n",
       "      <td>2023-01-01</td>\n",
       "      <td>901083833</td>\n",
       "      <td>COOMPLEMENTO LITOGRAFICO S.A.S</td>\n",
       "      <td>10</td>\n",
       "      <td>144.000</td>\n",
       "    </tr>\n",
       "    <tr>\n",
       "      <th>8769</th>\n",
       "      <td>1466382</td>\n",
       "      <td>12873</td>\n",
       "      <td>PROPALCOTE ESMALTADO C2S GLOSS</td>\n",
       "      <td>2022-11-01</td>\n",
       "      <td>800032769</td>\n",
       "      <td>GAMACOLOR EDITORIAL S.A.S</td>\n",
       "      <td>10</td>\n",
       "      <td>4.400</td>\n",
       "    </tr>\n",
       "    <tr>\n",
       "      <th>8770</th>\n",
       "      <td>1464906</td>\n",
       "      <td>432</td>\n",
       "      <td>EARTH PACT NATURAL X 100 HOJAS</td>\n",
       "      <td>2022-11-01</td>\n",
       "      <td>900438464</td>\n",
       "      <td>OPR DIGITAL SAS</td>\n",
       "      <td>10</td>\n",
       "      <td>2.000</td>\n",
       "    </tr>\n",
       "    <tr>\n",
       "      <th>8771</th>\n",
       "      <td>1438987</td>\n",
       "      <td>838</td>\n",
       "      <td>REPROGRAF  A.B. RESMILLA CARTA</td>\n",
       "      <td>2022-03-01</td>\n",
       "      <td>900850490</td>\n",
       "      <td>INDUSTRIAS GRAFICAS IMPRECOL SAS</td>\n",
       "      <td>10</td>\n",
       "      <td>30.000</td>\n",
       "    </tr>\n",
       "  </tbody>\n",
       "</table>\n",
       "<p>8772 rows × 8 columns</p>\n",
       "</div>"
      ],
      "text/plain": [
       "     Documento Codigo producto                           Nombre producto  \\\n",
       "0      1463018           12753  PROPALCOTE ESMALTADO C2S GLOSS             \n",
       "1      1462486           20106  PH.JUMBO SCOTT BLANCO DH.4ROLX250MT        \n",
       "2      1443778           27015  BANNER BLANCO MATE13 OZ 2,2X50             \n",
       "3      1458252             554  PROPALCOTE C1S S.B.S.                      \n",
       "4      1469526           23637  KCP PAÑO IND WYPALL X-70 RR 6X1X88         \n",
       "...        ...             ...                                       ...   \n",
       "8767   1456907            1091  GRAPHICS REV. BLANCO CAL 16 CMPC MAULE     \n",
       "8768   1470489           53054  TA.PAPEL QMC BCO. CFB GHS 24.1             \n",
       "8769   1466382           12873  PROPALCOTE ESMALTADO C2S GLOSS             \n",
       "8770   1464906             432  EARTH PACT NATURAL X 100 HOJAS             \n",
       "8771   1438987             838  REPROGRAF  A.B. RESMILLA CARTA             \n",
       "\n",
       "           Fecha Nit cliente                            Nombre cliente  \\\n",
       "0     2022-11-01   901401673  IMPREYA PUBLICIDAD SAS                     \n",
       "1     2022-10-01   860534277  NUEVAS EDICIONES S.A.S                     \n",
       "2     2022-05-01   900655337  GRAPHIC CITY S.A.S                         \n",
       "3     2022-09-01   800032769  GAMACOLOR EDITORIAL S.A.S                  \n",
       "4     2022-12-01   860534277  NUEVAS EDICIONES S.A.S                     \n",
       "...          ...         ...                                       ...   \n",
       "8767  2022-09-01   900662607  LITOFORMAS Y ROLLOS S.A.S                  \n",
       "8768  2023-01-01   901083833  COOMPLEMENTO LITOGRAFICO S.A.S             \n",
       "8769  2022-11-01   800032769  GAMACOLOR EDITORIAL S.A.S                  \n",
       "8770  2022-11-01   900438464  OPR DIGITAL SAS                            \n",
       "8771  2022-03-01   900850490  INDUSTRIAS GRAFICAS IMPRECOL SAS           \n",
       "\n",
       "      Codigo distrito Unidades  \n",
       "0                  10    1.000  \n",
       "1                  10    1.000  \n",
       "2                  10    1.000  \n",
       "3                  10    0.400  \n",
       "4                  10    1.000  \n",
       "...               ...      ...  \n",
       "8767               10    0.400  \n",
       "8768               10  144.000  \n",
       "8769               10    4.400  \n",
       "8770               10    2.000  \n",
       "8771               10   30.000  \n",
       "\n",
       "[8772 rows x 8 columns]"
      ]
     },
     "execution_count": 48,
     "metadata": {},
     "output_type": "execute_result"
    }
   ],
   "source": [
    "df"
   ]
  },
  {
   "cell_type": "code",
   "execution_count": 49,
   "metadata": {},
   "outputs": [
    {
     "data": {
      "text/html": [
       "<style type=\"text/css\">\n",
       "</style>\n",
       "<table id=\"T_0c12a\">\n",
       "  <thead>\n",
       "    <tr>\n",
       "      <th id=\"T_0c12a_level0_col0\" class=\"col_heading level0 col0\" >Description</th>\n",
       "      <th id=\"T_0c12a_level0_col1\" class=\"col_heading level0 col1\" >Value</th>\n",
       "    </tr>\n",
       "  </thead>\n",
       "  <tbody>\n",
       "    <tr>\n",
       "      <td id=\"T_0c12a_row0_col0\" class=\"data row0 col0\" >session_id</td>\n",
       "      <td id=\"T_0c12a_row0_col1\" class=\"data row0 col1\" >7056</td>\n",
       "    </tr>\n",
       "    <tr>\n",
       "      <td id=\"T_0c12a_row1_col0\" class=\"data row1 col0\" ># Transactions</td>\n",
       "      <td id=\"T_0c12a_row1_col1\" class=\"data row1 col1\" >1</td>\n",
       "    </tr>\n",
       "    <tr>\n",
       "      <td id=\"T_0c12a_row2_col0\" class=\"data row2 col0\" ># Items</td>\n",
       "      <td id=\"T_0c12a_row2_col1\" class=\"data row2 col1\" >565</td>\n",
       "    </tr>\n",
       "    <tr>\n",
       "      <td id=\"T_0c12a_row3_col0\" class=\"data row3 col0\" >Ignore Items</td>\n",
       "      <td id=\"T_0c12a_row3_col1\" class=\"data row3 col1\" >None</td>\n",
       "    </tr>\n",
       "  </tbody>\n",
       "</table>\n"
      ],
      "text/plain": [
       "<pandas.io.formats.style.Styler at 0x1c166c42940>"
      ]
     },
     "metadata": {},
     "output_type": "display_data"
    }
   ],
   "source": [
    "s = setup(data= df,\n",
    "            transaction_id= 'Codigo distrito',\n",
    "            item_id= 'Codigo producto'\n",
    "            )"
   ]
  },
  {
   "cell_type": "code",
   "execution_count": 50,
   "metadata": {},
   "outputs": [
    {
     "ename": "MemoryError",
     "evalue": "cannot allocate array memory",
     "output_type": "error",
     "traceback": [
      "\u001b[1;31m---------------------------------------------------------------------------\u001b[0m",
      "\u001b[1;31mMemoryError\u001b[0m                               Traceback (most recent call last)",
      "Cell \u001b[1;32mIn [50], line 1\u001b[0m\n\u001b[1;32m----> 1\u001b[0m model_1 \u001b[39m=\u001b[39m create_model()\n",
      "File \u001b[1;32mc:\\Users\\tcardenas\\.conda\\envs\\py38\\lib\\site-packages\\pycaret\\arules.py:210\u001b[0m, in \u001b[0;36mcreate_model\u001b[1;34m(metric, threshold, min_support, round, low_memory, max_len)\u001b[0m\n\u001b[0;32m    206\u001b[0m         \u001b[39mreturn\u001b[39;00m \u001b[39m1\u001b[39m\n\u001b[0;32m    208\u001b[0m basket \u001b[39m=\u001b[39m basket\u001b[39m.\u001b[39mapplymap(encode_units)\n\u001b[1;32m--> 210\u001b[0m frequent_itemsets \u001b[39m=\u001b[39m apriori(basket, min_support\u001b[39m=\u001b[39;49mmin_support, use_colnames\u001b[39m=\u001b[39;49m\u001b[39mTrue\u001b[39;49;00m, low_memory\u001b[39m=\u001b[39;49mlow_memory, max_len\u001b[39m=\u001b[39;49mmax_len)\n\u001b[0;32m    211\u001b[0m rules \u001b[39m=\u001b[39m association_rules(frequent_itemsets, metric\u001b[39m=\u001b[39mmetric, min_threshold\u001b[39m=\u001b[39mthreshold)\n\u001b[0;32m    212\u001b[0m rules \u001b[39m=\u001b[39m rules\u001b[39m.\u001b[39msort_values(by\u001b[39m=\u001b[39m[metric], ascending\u001b[39m=\u001b[39m\u001b[39mFalse\u001b[39;00m)\u001b[39m.\u001b[39mreset_index(drop\u001b[39m=\u001b[39m\u001b[39mTrue\u001b[39;00m)\n",
      "File \u001b[1;32mc:\\Users\\tcardenas\\.conda\\envs\\py38\\lib\\site-packages\\mlxtend\\frequent_patterns\\apriori.py:287\u001b[0m, in \u001b[0;36mapriori\u001b[1;34m(df, min_support, use_colnames, max_len, verbose, low_memory)\u001b[0m\n\u001b[0;32m    285\u001b[0m \u001b[39melse\u001b[39;00m:\n\u001b[0;32m    286\u001b[0m     combin \u001b[39m=\u001b[39m generate_new_combinations(itemset_dict[max_itemset])\n\u001b[1;32m--> 287\u001b[0m     combin \u001b[39m=\u001b[39m np\u001b[39m.\u001b[39;49mfromiter(combin, dtype\u001b[39m=\u001b[39;49m\u001b[39mint\u001b[39;49m)\n\u001b[0;32m    288\u001b[0m     combin \u001b[39m=\u001b[39m combin\u001b[39m.\u001b[39mreshape(\u001b[39m-\u001b[39m\u001b[39m1\u001b[39m, next_max_itemset)\n\u001b[0;32m    290\u001b[0m     \u001b[39mif\u001b[39;00m combin\u001b[39m.\u001b[39msize \u001b[39m==\u001b[39m \u001b[39m0\u001b[39m:\n",
      "\u001b[1;31mMemoryError\u001b[0m: cannot allocate array memory"
     ]
    }
   ],
   "source": [
    "model_1 = create_model()"
   ]
  },
  {
   "cell_type": "code",
   "execution_count": null,
   "metadata": {},
   "outputs": [
    {
     "name": "stdout",
     "output_type": "stream",
     "text": [
      "(0, 9)\n"
     ]
    }
   ],
   "source": [
    "print(model_1.shape)"
   ]
  },
  {
   "cell_type": "code",
   "execution_count": 17,
   "metadata": {},
   "outputs": [
    {
     "data": {
      "text/html": [
       "<div>\n",
       "<style scoped>\n",
       "    .dataframe tbody tr th:only-of-type {\n",
       "        vertical-align: middle;\n",
       "    }\n",
       "\n",
       "    .dataframe tbody tr th {\n",
       "        vertical-align: top;\n",
       "    }\n",
       "\n",
       "    .dataframe thead th {\n",
       "        text-align: right;\n",
       "    }\n",
       "</style>\n",
       "<table border=\"1\" class=\"dataframe\">\n",
       "  <thead>\n",
       "    <tr style=\"text-align: right;\">\n",
       "      <th></th>\n",
       "      <th>antecedents</th>\n",
       "      <th>consequents</th>\n",
       "      <th>antecedent support</th>\n",
       "      <th>consequent support</th>\n",
       "      <th>support</th>\n",
       "      <th>confidence</th>\n",
       "      <th>lift</th>\n",
       "      <th>leverage</th>\n",
       "      <th>conviction</th>\n",
       "    </tr>\n",
       "  </thead>\n",
       "  <tbody>\n",
       "  </tbody>\n",
       "</table>\n",
       "</div>"
      ],
      "text/plain": [
       "Empty DataFrame\n",
       "Columns: [antecedents, consequents, antecedent support, consequent support, support, confidence, lift, leverage, conviction]\n",
       "Index: []"
      ]
     },
     "execution_count": 17,
     "metadata": {},
     "output_type": "execute_result"
    }
   ],
   "source": [
    "model_1"
   ]
  }
 ],
 "metadata": {
  "kernelspec": {
   "display_name": "py38",
   "language": "python",
   "name": "python3"
  },
  "language_info": {
   "codemirror_mode": {
    "name": "ipython",
    "version": 3
   },
   "file_extension": ".py",
   "mimetype": "text/x-python",
   "name": "python",
   "nbconvert_exporter": "python",
   "pygments_lexer": "ipython3",
   "version": "3.8.13"
  },
  "orig_nbformat": 4,
  "vscode": {
   "interpreter": {
    "hash": "d6c6a9368ffd28e969f7d90a4d7c29e7466278b3cb1a367b914bbfe92c83c635"
   }
  }
 },
 "nbformat": 4,
 "nbformat_minor": 2
}
