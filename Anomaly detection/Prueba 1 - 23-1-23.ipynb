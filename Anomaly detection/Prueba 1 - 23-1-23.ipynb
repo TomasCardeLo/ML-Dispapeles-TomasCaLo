{
 "cells": [
  {
   "cell_type": "code",
   "execution_count": 1,
   "metadata": {},
   "outputs": [],
   "source": [
    "import pyodbc\n",
    "\n",
    "import pandas as pd\n",
    "import numpy as np\n",
    "import matplotlib.pyplot as plt\n",
    "import seaborn as sns\n",
    "\n",
    "from pycaret.anomaly import *"
   ]
  },
  {
   "cell_type": "code",
   "execution_count": 2,
   "metadata": {},
   "outputs": [],
   "source": [
    "## Conexion al DWH\n",
    "cnxn = pyodbc.connect(\n",
    "    driver='{SQL Server}',\n",
    "    server='192.168.100.58',\n",
    "    uid='bilectura',\n",
    "    pwd='D1sp@p3l3s')\n",
    "cursor = cnxn.cursor()\n",
    "#cnxn.close()"
   ]
  },
  {
   "cell_type": "code",
   "execution_count": 3,
   "metadata": {},
   "outputs": [],
   "source": [
    "fecha_inicio = \"'2021-01-01'\"\n",
    "fecha_final = \"'2022-12-31'\""
   ]
  },
  {
   "cell_type": "code",
   "execution_count": 4,
   "metadata": {},
   "outputs": [],
   "source": [
    "codigo_SQL = f\"SELECT A.VTAANO AS 'Ano', A.VTAMES AS 'Mes', A.DSTCOD AS 'Codigo distrito', A.VTAZNA AS 'Codigo zona', A.VTANIT AS 'Nit cliente', C.NITNOM AS 'Nombre cliente', A.VTAPRDCOD AS 'Codigo producto', B.TPOCOD AS 'Codigo tipo', B.LNACOD AS 'Codigo linea', B.GRPCOD AS 'Codigo grupo', B.CLDCOD AS 'Codigo calidad', SUM(A.VTAVLRVTA) AS 'Ventas', SUM(A.VTACST) AS 'Costo' FROM V_VTA_VTAHEC A LEFT JOIN DIM_PRODUCTOS B ON A.PRMCOD = B.PRMCOD AND A.VTAPRDCOD = B.PRDCOD LEFT JOIN DIM_NITS C ON A.VTANIT = C.NITNIT WHERE A.PRMCOD = 1 AND A.DSTCOD != 30 AND A.VTAZNA < 96 AND A.VTAFCH BETWEEN {fecha_inicio} AND {fecha_final} AND  B.TPOCOD NOT IN (990,999) GROUP BY A.VTAANO, A.VTAMES, A.DSTCOD, A.VTAZNA, A.VTANIT, C.NITNOM, A.VTAPRDCOD, B.TPOCOD, B.LNACOD, B.GRPCOD, B.CLDCOD\""
   ]
  },
  {
   "cell_type": "code",
   "execution_count": null,
   "metadata": {},
   "outputs": [],
   "source": [
    "codigo_SQL"
   ]
  },
  {
   "cell_type": "code",
   "execution_count": 5,
   "metadata": {},
   "outputs": [],
   "source": [
    "#Cargue de la data desde el ERP de Dispapeles y se guarda en df\n",
    "cursor.execute(codigo_SQL)\n",
    "rows = cursor.fetchall()\n",
    "df = pd.DataFrame.from_records(rows, columns=[col[0] for col in cursor.description])"
   ]
  },
  {
   "cell_type": "code",
   "execution_count": 6,
   "metadata": {},
   "outputs": [],
   "source": [
    "maestra_gerencias = pd.read_csv('C:/Users/tcardenas/OneDrive/OneDrive - Grupo DISPAPELES/Documents/ML-Dispapeles-TomasCaLo/Anomaly detection/Maestra_gerencias.csv', delimiter= \";\")"
   ]
  },
  {
   "cell_type": "code",
   "execution_count": 7,
   "metadata": {},
   "outputs": [],
   "source": [
    "df_merged = pd.merge(df, maestra_gerencias, on= \"Codigo producto\")"
   ]
  },
  {
   "cell_type": "code",
   "execution_count": 8,
   "metadata": {},
   "outputs": [],
   "source": [
    "df_gb = df_merged.groupby([\"Ano\", \"Mes\", \"Codigo distrito\", \"Codigo zona\", \"Nit cliente\", \"Nombre cliente\", \"Codigo tipo\",\n",
    "                            \"Codigo linea\", \"Codigo grupo\", \"Codigo calidad\", \"Gerente\", \"Línea CAM\"]).agg({\"Ventas\": np.sum,\n",
    "                                                                                                            \"Costo\": np.sum})\n",
    "df_gb = df_gb.reset_index(col_level= 1)\n",
    "df_gb[\"Codigo distrito-zona\"] = df_gb[\"Codigo distrito\"].astype(str) + \"-\" + df_gb[\"Codigo zona\"].astype(str)\n",
    "df_gb[\"Margen\"] = df_gb[\"Ventas\"] - df_gb[\"Costo\"]\n",
    "df_gb[\"Ventas\"] = df_gb[\"Ventas\"].astype(int)\n",
    "df_gb[\"Margen\"] = df_gb[\"Margen\"].astype(int)"
   ]
  },
  {
   "cell_type": "code",
   "execution_count": 9,
   "metadata": {},
   "outputs": [
    {
     "data": {
      "text/html": [
       "<div>\n",
       "<style scoped>\n",
       "    .dataframe tbody tr th:only-of-type {\n",
       "        vertical-align: middle;\n",
       "    }\n",
       "\n",
       "    .dataframe tbody tr th {\n",
       "        vertical-align: top;\n",
       "    }\n",
       "\n",
       "    .dataframe thead th {\n",
       "        text-align: right;\n",
       "    }\n",
       "</style>\n",
       "<table border=\"1\" class=\"dataframe\">\n",
       "  <thead>\n",
       "    <tr style=\"text-align: right;\">\n",
       "      <th></th>\n",
       "      <th>Ano</th>\n",
       "      <th>Mes</th>\n",
       "      <th>Codigo distrito</th>\n",
       "      <th>Codigo zona</th>\n",
       "      <th>Nit cliente</th>\n",
       "      <th>Nombre cliente</th>\n",
       "      <th>Codigo tipo</th>\n",
       "      <th>Codigo linea</th>\n",
       "      <th>Codigo grupo</th>\n",
       "      <th>Codigo calidad</th>\n",
       "      <th>Gerente</th>\n",
       "      <th>Línea CAM</th>\n",
       "      <th>Ventas</th>\n",
       "      <th>Costo</th>\n",
       "      <th>Codigo distrito-zona</th>\n",
       "      <th>Margen</th>\n",
       "    </tr>\n",
       "  </thead>\n",
       "  <tbody>\n",
       "    <tr>\n",
       "      <th>0</th>\n",
       "      <td>2021</td>\n",
       "      <td>1</td>\n",
       "      <td>10</td>\n",
       "      <td>1</td>\n",
       "      <td>52798044</td>\n",
       "      <td>ALVAREZ GINA MILENA</td>\n",
       "      <td>235</td>\n",
       "      <td>103</td>\n",
       "      <td>180</td>\n",
       "      <td>334</td>\n",
       "      <td>Elementos de Protección Personal</td>\n",
       "      <td>Protección personal</td>\n",
       "      <td>284227</td>\n",
       "      <td>224390</td>\n",
       "      <td>10-1</td>\n",
       "      <td>59837</td>\n",
       "    </tr>\n",
       "    <tr>\n",
       "      <th>1</th>\n",
       "      <td>2021</td>\n",
       "      <td>1</td>\n",
       "      <td>10</td>\n",
       "      <td>1</td>\n",
       "      <td>79571067</td>\n",
       "      <td>GARCES HEREDIA MAURICIO</td>\n",
       "      <td>180</td>\n",
       "      <td>160</td>\n",
       "      <td>59</td>\n",
       "      <td>25</td>\n",
       "      <td>Comunicación visual</td>\n",
       "      <td>Tintas</td>\n",
       "      <td>832743</td>\n",
       "      <td>669435</td>\n",
       "      <td>10-1</td>\n",
       "      <td>163308</td>\n",
       "    </tr>\n",
       "    <tr>\n",
       "      <th>2</th>\n",
       "      <td>2021</td>\n",
       "      <td>1</td>\n",
       "      <td>10</td>\n",
       "      <td>1</td>\n",
       "      <td>79743894</td>\n",
       "      <td>RODRIGUEZ YOVANNI</td>\n",
       "      <td>180</td>\n",
       "      <td>160</td>\n",
       "      <td>59</td>\n",
       "      <td>25</td>\n",
       "      <td>Comunicación visual</td>\n",
       "      <td>Tintas</td>\n",
       "      <td>278095</td>\n",
       "      <td>222240</td>\n",
       "      <td>10-1</td>\n",
       "      <td>55855</td>\n",
       "    </tr>\n",
       "    <tr>\n",
       "      <th>3</th>\n",
       "      <td>2021</td>\n",
       "      <td>1</td>\n",
       "      <td>10</td>\n",
       "      <td>1</td>\n",
       "      <td>800032769</td>\n",
       "      <td>GAMACOLOR EDITORIAL S.A.S</td>\n",
       "      <td>105</td>\n",
       "      <td>1</td>\n",
       "      <td>1</td>\n",
       "      <td>50</td>\n",
       "      <td>Cartulina</td>\n",
       "      <td>Propal</td>\n",
       "      <td>16182936</td>\n",
       "      <td>14611847</td>\n",
       "      <td>10-1</td>\n",
       "      <td>1571089</td>\n",
       "    </tr>\n",
       "    <tr>\n",
       "      <th>4</th>\n",
       "      <td>2021</td>\n",
       "      <td>1</td>\n",
       "      <td>10</td>\n",
       "      <td>1</td>\n",
       "      <td>800032769</td>\n",
       "      <td>GAMACOLOR EDITORIAL S.A.S</td>\n",
       "      <td>160</td>\n",
       "      <td>168</td>\n",
       "      <td>203</td>\n",
       "      <td>73</td>\n",
       "      <td>Flexografía</td>\n",
       "      <td>Insumos Flexografía</td>\n",
       "      <td>322407</td>\n",
       "      <td>291087</td>\n",
       "      <td>10-1</td>\n",
       "      <td>31320</td>\n",
       "    </tr>\n",
       "  </tbody>\n",
       "</table>\n",
       "</div>"
      ],
      "text/plain": [
       "    Ano  Mes  Codigo distrito  Codigo zona Nit cliente  \\\n",
       "0  2021    1               10            1    52798044   \n",
       "1  2021    1               10            1    79571067   \n",
       "2  2021    1               10            1    79743894   \n",
       "3  2021    1               10            1   800032769   \n",
       "4  2021    1               10            1   800032769   \n",
       "\n",
       "                             Nombre cliente  Codigo tipo  Codigo linea  \\\n",
       "0  ALVAREZ GINA MILENA                               235           103   \n",
       "1  GARCES HEREDIA MAURICIO                           180           160   \n",
       "2  RODRIGUEZ YOVANNI                                 180           160   \n",
       "3  GAMACOLOR EDITORIAL S.A.S                         105             1   \n",
       "4  GAMACOLOR EDITORIAL S.A.S                         160           168   \n",
       "\n",
       "   Codigo grupo  Codigo calidad                           Gerente  \\\n",
       "0           180             334  Elementos de Protección Personal   \n",
       "1            59              25               Comunicación visual   \n",
       "2            59              25               Comunicación visual   \n",
       "3             1              50                         Cartulina   \n",
       "4           203              73                       Flexografía   \n",
       "\n",
       "             Línea CAM    Ventas     Costo Codigo distrito-zona   Margen  \n",
       "0  Protección personal    284227    224390                 10-1    59837  \n",
       "1               Tintas    832743    669435                 10-1   163308  \n",
       "2               Tintas    278095    222240                 10-1    55855  \n",
       "3               Propal  16182936  14611847                 10-1  1571089  \n",
       "4  Insumos Flexografía    322407    291087                 10-1    31320  "
      ]
     },
     "execution_count": 9,
     "metadata": {},
     "output_type": "execute_result"
    }
   ],
   "source": [
    "df_gb.head()"
   ]
  },
  {
   "cell_type": "code",
   "execution_count": null,
   "metadata": {},
   "outputs": [],
   "source": [
    "df_gb.corr()*100"
   ]
  },
  {
   "cell_type": "code",
   "execution_count": 24,
   "metadata": {},
   "outputs": [
    {
     "data": {
      "text/plain": [
       "<AxesSubplot:>"
      ]
     },
     "execution_count": 24,
     "metadata": {},
     "output_type": "execute_result"
    },
    {
     "data": {
      "image/png": "[encoded data removed]",
      "text/plain": [
       "<Figure size 800x550 with 2 Axes>"
      ]
     },
     "metadata": {},
     "output_type": "display_data"
    }
   ],
   "source": [
    "corr_matrix = df_gb.corr()\n",
    "mask = np.zeros_like(corr_matrix)\n",
    "mask[np.triu_indices_from(mask)] = True\n",
    "sns.heatmap(corr_matrix, mask= mask, square= True)"
   ]
  },
  {
   "cell_type": "code",
   "execution_count": 11,
   "metadata": {},
   "outputs": [],
   "source": [
    "list_dst_znas = (df_gb[\"Codigo distrito\"].astype(str) + \"-\" + df_gb[\"Codigo zona\"].astype(str)).unique()\n",
    "categorical_columns = [\"Ano\", \"Mes\", \"Codigo distrito\", \"Codigo zona\", \"Nit cliente\",\"Nombre cliente\", \"Codigo tipo\",\n",
    "                        \"Codigo linea\", \"Codigo grupo\", \"Codigo calidad\", \"Gerente\", \"Línea CAM\", \"Codigo distrito-zona\"]\n",
    "ignore_columns = [\"Ano\", \"Mes\", \"Codigo grupo\", \"Codigo calidad\", \"Codigo distrito-zona\"]\n",
    "numerical_columns = [\"Ventas\", \"Costo\", \"Margen\"]"
   ]
  },
  {
   "cell_type": "code",
   "execution_count": 23,
   "metadata": {},
   "outputs": [
    {
     "data": {
      "text/html": [
       "<div>\n",
       "<style scoped>\n",
       "    .dataframe tbody tr th:only-of-type {\n",
       "        vertical-align: middle;\n",
       "    }\n",
       "\n",
       "    .dataframe tbody tr th {\n",
       "        vertical-align: top;\n",
       "    }\n",
       "\n",
       "    .dataframe thead th {\n",
       "        text-align: right;\n",
       "    }\n",
       "</style>\n",
       "<table border=\"1\" class=\"dataframe\">\n",
       "  <thead>\n",
       "    <tr style=\"text-align: right;\">\n",
       "      <th></th>\n",
       "      <th>Name</th>\n",
       "      <th>Reference</th>\n",
       "    </tr>\n",
       "    <tr>\n",
       "      <th>ID</th>\n",
       "      <th></th>\n",
       "      <th></th>\n",
       "    </tr>\n",
       "  </thead>\n",
       "  <tbody>\n",
       "    <tr>\n",
       "      <th>abod</th>\n",
       "      <td>Angle-base Outlier Detection</td>\n",
       "      <td>pyod.models.abod.ABOD</td>\n",
       "    </tr>\n",
       "    <tr>\n",
       "      <th>cluster</th>\n",
       "      <td>Clustering-Based Local Outlier</td>\n",
       "      <td>pyod.models.cblof.CBLOF</td>\n",
       "    </tr>\n",
       "    <tr>\n",
       "      <th>cof</th>\n",
       "      <td>Connectivity-Based Local Outlier</td>\n",
       "      <td>pyod.models.cof.COF</td>\n",
       "    </tr>\n",
       "    <tr>\n",
       "      <th>iforest</th>\n",
       "      <td>Isolation Forest</td>\n",
       "      <td>pyod.models.iforest.IForest</td>\n",
       "    </tr>\n",
       "    <tr>\n",
       "      <th>histogram</th>\n",
       "      <td>Histogram-based Outlier Detection</td>\n",
       "      <td>pyod.models.hbos.HBOS</td>\n",
       "    </tr>\n",
       "    <tr>\n",
       "      <th>knn</th>\n",
       "      <td>K-Nearest Neighbors Detector</td>\n",
       "      <td>pyod.models.knn.KNN</td>\n",
       "    </tr>\n",
       "    <tr>\n",
       "      <th>lof</th>\n",
       "      <td>Local Outlier Factor</td>\n",
       "      <td>pyod.models.lof.LOF</td>\n",
       "    </tr>\n",
       "    <tr>\n",
       "      <th>svm</th>\n",
       "      <td>One-class SVM detector</td>\n",
       "      <td>pyod.models.ocsvm.OCSVM</td>\n",
       "    </tr>\n",
       "    <tr>\n",
       "      <th>pca</th>\n",
       "      <td>Principal Component Analysis</td>\n",
       "      <td>pyod.models.pca.PCA</td>\n",
       "    </tr>\n",
       "    <tr>\n",
       "      <th>mcd</th>\n",
       "      <td>Minimum Covariance Determinant</td>\n",
       "      <td>pyod.models.mcd.MCD</td>\n",
       "    </tr>\n",
       "    <tr>\n",
       "      <th>sod</th>\n",
       "      <td>Subspace Outlier Detection</td>\n",
       "      <td>pyod.models.sod.SOD</td>\n",
       "    </tr>\n",
       "    <tr>\n",
       "      <th>sos</th>\n",
       "      <td>Stochastic Outlier Selection</td>\n",
       "      <td>pyod.models.sos.SOS</td>\n",
       "    </tr>\n",
       "  </tbody>\n",
       "</table>\n",
       "</div>"
      ],
      "text/plain": [
       "                                        Name                    Reference\n",
       "ID                                                                       \n",
       "abod            Angle-base Outlier Detection        pyod.models.abod.ABOD\n",
       "cluster       Clustering-Based Local Outlier      pyod.models.cblof.CBLOF\n",
       "cof         Connectivity-Based Local Outlier          pyod.models.cof.COF\n",
       "iforest                     Isolation Forest  pyod.models.iforest.IForest\n",
       "histogram  Histogram-based Outlier Detection        pyod.models.hbos.HBOS\n",
       "knn             K-Nearest Neighbors Detector          pyod.models.knn.KNN\n",
       "lof                     Local Outlier Factor          pyod.models.lof.LOF\n",
       "svm                   One-class SVM detector      pyod.models.ocsvm.OCSVM\n",
       "pca             Principal Component Analysis          pyod.models.pca.PCA\n",
       "mcd           Minimum Covariance Determinant          pyod.models.mcd.MCD\n",
       "sod               Subspace Outlier Detection          pyod.models.sod.SOD\n",
       "sos             Stochastic Outlier Selection          pyod.models.sos.SOS"
      ]
     },
     "execution_count": 23,
     "metadata": {},
     "output_type": "execute_result"
    }
   ],
   "source": [
    "models()"
   ]
  },
  {
   "cell_type": "code",
   "execution_count": 22,
   "metadata": {},
   "outputs": [
    {
     "name": "stdout",
     "output_type": "stream",
     "text": [
      "Proceso completo 100%\n"
     ]
    }
   ],
   "source": [
    "consolidado = pd.DataFrame([])\n",
    "for n, dtozna in enumerate(list_dst_znas):\n",
    "    print(f\"Procesando {n+1} de {len(list_dst_znas)+1}. {(n+1) / (len(list_dst_znas)+1):.1%}\")\n",
    "    #Creacion del subdataset\n",
    "    df_dto = df_gb[df_gb[\"Codigo distrito-zona\"] == dtozna]\n",
    "    \n",
    "    #Setup modelo\n",
    "    exp_ano101 = setup(df_dto, \n",
    "                        session_id = 42,\n",
    "                        silent=True,\n",
    "                        categorical_features = categorical_columns,\n",
    "                        numeric_features = numerical_columns,\n",
    "                        ignore_features = ignore_columns,\n",
    "                        normalize = True,\n",
    "                        normalize_method = 'robust',\n",
    "                        verbose = False)\n",
    "    \n",
    "    #Modelo iforest\n",
    "    iforest = create_model('iforest')\n",
    "    iforest_results = assign_model(iforest)\n",
    "    resultado_iforest = iforest_results.loc[(iforest_results[\"Anomaly\"] == 1) & \n",
    "                                            (iforest_results[\"Anomaly_Score\"] >= 0.02) &\n",
    "                                            ((iforest_results[\"Ventas\"] >= 2000000) | (iforest_results[\"Margen\"] < 0)) &\n",
    "                                            (iforest_results[\"Ano\"] == 2022) & \n",
    "                                            (iforest_results[\"Mes\"] == 11)\n",
    "                                            ]\n",
    "\n",
    "    #Append a una base general\n",
    "    consolidado = consolidado.append(resultado_iforest)\n",
    "\n",
    "#Descarga de la base general\n",
    "consolidado.index = pd.RangeIndex(len(consolidado.index))\n",
    "consolidado.to_csv(f\"C:/Users/tcardenas/OneDrive/OneDrive - Grupo DISPAPELES/Documents/ML-Dispapeles-TomasCaLo/Anomaly detection/Anomalies_iforest/Anomalies nov 25-1-23.csv\",\n",
    "                    encoding= 'utf-8', index= False, sep= \";\", decimal = \",\")\n",
    "\n",
    "print(\"Proceso completo 100%\")"
   ]
  },
  {
   "cell_type": "code",
   "execution_count": null,
   "metadata": {},
   "outputs": [],
   "source": [
    "consolidado = pd.DataFrame([])\n",
    "for n, dtozna in enumerate(list_dst_znas):\n",
    "    print(f\"Procesando {n+1} de {len(list_dst_znas)+1}. {(n+1) / (len(list_dst_znas)+1):.1%}\")\n",
    "    #Creacion del subdataset\n",
    "    df_dto = df_gb[df_gb[\"Codigo distrito-zona\"] == dtozna]\n",
    "    \n",
    "    #Setup modelo\n",
    "    exp_ano101 = setup(df_dto, \n",
    "                        session_id = 42,\n",
    "                        silent=True,\n",
    "                        categorical_features = categorical_columns,\n",
    "                        numeric_features = numerical_columns,\n",
    "                        ignore_features = ignore_columns,\n",
    "                        normalize = True,\n",
    "                        normalize_method = 'robust',\n",
    "                        verbose = False)\n",
    "    \n",
    "    #Modelo iforest\n",
    "    iforest = create_model('iforest')\n",
    "    iforest_results = assign_model(iforest)\n",
    "    resultado_iforest = iforest_results.loc[(iforest_results[\"Anomaly\"] == 1) & \n",
    "                                            (iforest_results[\"Anomaly_Score\"] >= 0.04) &\n",
    "                                            ((iforest_results[\"Ventas\"] >= 2000000) | (iforest_results[\"Margen\"] < 0)) &\n",
    "                                            (iforest_results[\"Ano\"] == 2022) & \n",
    "                                            (iforest_results[\"Mes\"] == 12)\n",
    "                                            ]\n",
    "\n",
    "    #Append a una base general\n",
    "    consolidado = consolidado.append(resultado_iforest)\n",
    "\n",
    "#Descarga de la base general\n",
    "consolidado.index = pd.RangeIndex(len(consolidado.index))\n",
    "consolidado.to_csv(f\"C:/Users/tcardenas/OneDrive/OneDrive - Grupo DISPAPELES/Documents/ML-Dispapeles-TomasCaLo/Anomaly detection/Anomalies_iforest/Anomalies dic 25-1-23.csv\",\n",
    "                    encoding= 'utf-8', index= False, sep= \";\", decimal = \",\")\n",
    "\n",
    "print(\"Proceso completo 100%\")"
   ]
  }
 ],
 "metadata": {
  "kernelspec": {
   "display_name": "Python 3.8.13 ('py38')",
   "language": "python",
   "name": "python3"
  },
  "language_info": {
   "codemirror_mode": {
    "name": "ipython",
    "version": 3
   },
   "file_extension": ".py",
   "mimetype": "text/x-python",
   "name": "python",
   "nbconvert_exporter": "python",
   "pygments_lexer": "ipython3",
   "version": "3.8.13"
  },
  "orig_nbformat": 4,
  "vscode": {
   "interpreter": {
    "hash": "d6c6a9368ffd28e969f7d90a4d7c29e7466278b3cb1a367b914bbfe92c83c635"
   }
  }
 },
 "nbformat": 4,
 "nbformat_minor": 2
}
