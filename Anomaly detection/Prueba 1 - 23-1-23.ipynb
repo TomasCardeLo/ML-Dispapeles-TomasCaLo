{
 "cells": [
  {
   "cell_type": "code",
   "execution_count": 1,
   "metadata": {},
   "outputs": [],
   "source": [
    "import pyodbc\n",
    "\n",
    "import pandas as pd\n",
    "import numpy as np\n",
    "import matplotlib.pyplot as plt\n",
    "\n",
    "from pycaret.anomaly import *"
   ]
  },
  {
   "cell_type": "code",
   "execution_count": 2,
   "metadata": {},
   "outputs": [],
   "source": [
    "## Conexion al DWH\n",
    "cnxn = pyodbc.connect(\n",
    "    driver='{SQL Server}',\n",
    "    server='192.168.100.58',\n",
    "    uid='bilectura',\n",
    "    pwd='D1sp@p3l3s')\n",
    "cursor = cnxn.cursor()\n",
    "#cnxn.close()"
   ]
  },
  {
   "cell_type": "code",
   "execution_count": 3,
   "metadata": {},
   "outputs": [],
   "source": [
    "codigo_SQL = \"SELECT A.VTAANO AS 'Ano', A.VTAMES AS 'Mes', A.DSTCOD AS 'Codigo distrito', A.VTAZNA AS 'Codigo zona', A.VTANIT AS 'Nit cliente', A.VTAPRDCOD AS 'Codigo producto', B.TPOCOD AS 'Codigo tipo', B.LNACOD AS 'Codigo linea', B.GRPCOD AS 'Codigo grupo', B.CLDCOD AS 'Codigo calidad', SUM(A.VTAVLRVTA) AS 'Ventas' FROM V_VTA_VTAHEC A LEFT JOIN DIM_PRODUCTOS B ON A.PRMCOD = B.PRMCOD AND A.VTAPRDCOD = B.PRDCOD WHERE A.PRMCOD = 1 AND A.DSTCOD != 30 AND A.VTAZNA < 400 AND A.VTAFCH BETWEEN '2021-01-01' AND '2022-12-31' GROUP BY A.VTAANO, A.VTAMES, A.DSTCOD, A.VTAZNA, A.VTANIT, A.VTAPRDCOD, B.TPOCOD, B.LNACOD, B.GRPCOD, B.CLDCOD\""
   ]
  },
  {
   "cell_type": "code",
   "execution_count": 4,
   "metadata": {},
   "outputs": [],
   "source": [
    "#Cargue de la data desde el ERP de Dispapeles y se guarda en df\n",
    "cursor.execute(codigo_SQL)\n",
    "rows = cursor.fetchall()\n",
    "df = pd.DataFrame.from_records(rows, columns=[col[0] for col in cursor.description])"
   ]
  },
  {
   "cell_type": "code",
   "execution_count": 5,
   "metadata": {},
   "outputs": [],
   "source": [
    "maestra_gerencias = pd.read_csv('C:/Users/tcardenas/OneDrive/OneDrive - Grupo DISPAPELES/Documents/ML-Dispapeles-TomasCaLo/Anomaly detection/Maestra_gerencias.csv', delimiter= \";\")"
   ]
  },
  {
   "cell_type": "code",
   "execution_count": 6,
   "metadata": {},
   "outputs": [],
   "source": [
    "df_merged = pd.merge(df, maestra_gerencias, on= \"Codigo producto\")"
   ]
  },
  {
   "cell_type": "code",
   "execution_count": 7,
   "metadata": {},
   "outputs": [
    {
     "data": {
      "text/plain": [
       "Index(['Ano', 'Mes', 'Codigo distrito', 'Codigo zona', 'Nit cliente',\n",
       "       'Codigo producto', 'Codigo tipo', 'Codigo linea', 'Codigo grupo',\n",
       "       'Codigo calidad', 'Ventas', 'Gerente', 'Línea CAM'],\n",
       "      dtype='object')"
      ]
     },
     "execution_count": 7,
     "metadata": {},
     "output_type": "execute_result"
    }
   ],
   "source": [
    "df_merged.columns"
   ]
  },
  {
   "cell_type": "code",
   "execution_count": 8,
   "metadata": {},
   "outputs": [
    {
     "data": {
      "text/html": [
       "<div>\n",
       "<style scoped>\n",
       "    .dataframe tbody tr th:only-of-type {\n",
       "        vertical-align: middle;\n",
       "    }\n",
       "\n",
       "    .dataframe tbody tr th {\n",
       "        vertical-align: top;\n",
       "    }\n",
       "\n",
       "    .dataframe thead th {\n",
       "        text-align: right;\n",
       "    }\n",
       "</style>\n",
       "<table border=\"1\" class=\"dataframe\">\n",
       "  <thead>\n",
       "    <tr style=\"text-align: right;\">\n",
       "      <th></th>\n",
       "      <th>Ano</th>\n",
       "      <th>Mes</th>\n",
       "      <th>Codigo distrito</th>\n",
       "      <th>Codigo zona</th>\n",
       "      <th>Nit cliente</th>\n",
       "      <th>Codigo tipo</th>\n",
       "      <th>Codigo linea</th>\n",
       "      <th>Codigo grupo</th>\n",
       "      <th>Codigo calidad</th>\n",
       "      <th>Gerente</th>\n",
       "      <th>Línea CAM</th>\n",
       "      <th>Ventas</th>\n",
       "      <th>Codigo distrito-zona</th>\n",
       "    </tr>\n",
       "  </thead>\n",
       "  <tbody>\n",
       "    <tr>\n",
       "      <th>0</th>\n",
       "      <td>2021</td>\n",
       "      <td>1</td>\n",
       "      <td>10</td>\n",
       "      <td>1</td>\n",
       "      <td>52798044</td>\n",
       "      <td>235</td>\n",
       "      <td>103</td>\n",
       "      <td>180</td>\n",
       "      <td>334</td>\n",
       "      <td>Elementos de Protección Personal</td>\n",
       "      <td>Protección personal</td>\n",
       "      <td>284227.9900</td>\n",
       "      <td>10-1</td>\n",
       "    </tr>\n",
       "    <tr>\n",
       "      <th>1</th>\n",
       "      <td>2021</td>\n",
       "      <td>1</td>\n",
       "      <td>10</td>\n",
       "      <td>1</td>\n",
       "      <td>79571067</td>\n",
       "      <td>180</td>\n",
       "      <td>160</td>\n",
       "      <td>59</td>\n",
       "      <td>25</td>\n",
       "      <td>Comunicación visual</td>\n",
       "      <td>Tintas</td>\n",
       "      <td>832743.0000</td>\n",
       "      <td>10-1</td>\n",
       "    </tr>\n",
       "    <tr>\n",
       "      <th>2</th>\n",
       "      <td>2021</td>\n",
       "      <td>1</td>\n",
       "      <td>10</td>\n",
       "      <td>1</td>\n",
       "      <td>79743894</td>\n",
       "      <td>180</td>\n",
       "      <td>160</td>\n",
       "      <td>59</td>\n",
       "      <td>25</td>\n",
       "      <td>Comunicación visual</td>\n",
       "      <td>Tintas</td>\n",
       "      <td>278095.0000</td>\n",
       "      <td>10-1</td>\n",
       "    </tr>\n",
       "    <tr>\n",
       "      <th>3</th>\n",
       "      <td>2021</td>\n",
       "      <td>1</td>\n",
       "      <td>10</td>\n",
       "      <td>1</td>\n",
       "      <td>800032769</td>\n",
       "      <td>105</td>\n",
       "      <td>1</td>\n",
       "      <td>1</td>\n",
       "      <td>50</td>\n",
       "      <td>Cartulina</td>\n",
       "      <td>Propal</td>\n",
       "      <td>16182936.0000</td>\n",
       "      <td>10-1</td>\n",
       "    </tr>\n",
       "    <tr>\n",
       "      <th>4</th>\n",
       "      <td>2021</td>\n",
       "      <td>1</td>\n",
       "      <td>10</td>\n",
       "      <td>1</td>\n",
       "      <td>800032769</td>\n",
       "      <td>160</td>\n",
       "      <td>168</td>\n",
       "      <td>203</td>\n",
       "      <td>73</td>\n",
       "      <td>Flexografía</td>\n",
       "      <td>Insumos Flexografía</td>\n",
       "      <td>322407.2000</td>\n",
       "      <td>10-1</td>\n",
       "    </tr>\n",
       "    <tr>\n",
       "      <th>...</th>\n",
       "      <td>...</td>\n",
       "      <td>...</td>\n",
       "      <td>...</td>\n",
       "      <td>...</td>\n",
       "      <td>...</td>\n",
       "      <td>...</td>\n",
       "      <td>...</td>\n",
       "      <td>...</td>\n",
       "      <td>...</td>\n",
       "      <td>...</td>\n",
       "      <td>...</td>\n",
       "      <td>...</td>\n",
       "      <td>...</td>\n",
       "    </tr>\n",
       "    <tr>\n",
       "      <th>364903</th>\n",
       "      <td>2022</td>\n",
       "      <td>12</td>\n",
       "      <td>90</td>\n",
       "      <td>97</td>\n",
       "      <td>901667148</td>\n",
       "      <td>235</td>\n",
       "      <td>126</td>\n",
       "      <td>179</td>\n",
       "      <td>315</td>\n",
       "      <td>Limpieza y Desinfección</td>\n",
       "      <td>Cuidado Institucional</td>\n",
       "      <td>771.0000</td>\n",
       "      <td>90-97</td>\n",
       "    </tr>\n",
       "    <tr>\n",
       "      <th>364904</th>\n",
       "      <td>2022</td>\n",
       "      <td>12</td>\n",
       "      <td>90</td>\n",
       "      <td>97</td>\n",
       "      <td>901667148</td>\n",
       "      <td>235</td>\n",
       "      <td>126</td>\n",
       "      <td>179</td>\n",
       "      <td>319</td>\n",
       "      <td>Limpieza y Desinfección</td>\n",
       "      <td>Cuidado Institucional</td>\n",
       "      <td>1067.0000</td>\n",
       "      <td>90-97</td>\n",
       "    </tr>\n",
       "    <tr>\n",
       "      <th>364905</th>\n",
       "      <td>2022</td>\n",
       "      <td>12</td>\n",
       "      <td>90</td>\n",
       "      <td>97</td>\n",
       "      <td>901667148</td>\n",
       "      <td>240</td>\n",
       "      <td>170</td>\n",
       "      <td>13</td>\n",
       "      <td>34</td>\n",
       "      <td>Tecnología Institucional</td>\n",
       "      <td>Tecnología institucional</td>\n",
       "      <td>17976.0000</td>\n",
       "      <td>90-97</td>\n",
       "    </tr>\n",
       "    <tr>\n",
       "      <th>364906</th>\n",
       "      <td>2022</td>\n",
       "      <td>12</td>\n",
       "      <td>90</td>\n",
       "      <td>97</td>\n",
       "      <td>901667148</td>\n",
       "      <td>240</td>\n",
       "      <td>170</td>\n",
       "      <td>13</td>\n",
       "      <td>35</td>\n",
       "      <td>Tecnología Institucional</td>\n",
       "      <td>Tecnología institucional</td>\n",
       "      <td>56800.0000</td>\n",
       "      <td>90-97</td>\n",
       "    </tr>\n",
       "    <tr>\n",
       "      <th>364907</th>\n",
       "      <td>2022</td>\n",
       "      <td>12</td>\n",
       "      <td>90</td>\n",
       "      <td>97</td>\n",
       "      <td>901667148</td>\n",
       "      <td>240</td>\n",
       "      <td>170</td>\n",
       "      <td>18</td>\n",
       "      <td>47</td>\n",
       "      <td>Tecnología Institucional</td>\n",
       "      <td>Tecnología institucional</td>\n",
       "      <td>21000.0000</td>\n",
       "      <td>90-97</td>\n",
       "    </tr>\n",
       "  </tbody>\n",
       "</table>\n",
       "<p>364908 rows × 13 columns</p>\n",
       "</div>"
      ],
      "text/plain": [
       "         Ano  Mes  Codigo distrito  Codigo zona Nit cliente  Codigo tipo  \\\n",
       "0       2021    1               10            1    52798044          235   \n",
       "1       2021    1               10            1    79571067          180   \n",
       "2       2021    1               10            1    79743894          180   \n",
       "3       2021    1               10            1   800032769          105   \n",
       "4       2021    1               10            1   800032769          160   \n",
       "...      ...  ...              ...          ...         ...          ...   \n",
       "364903  2022   12               90           97   901667148          235   \n",
       "364904  2022   12               90           97   901667148          235   \n",
       "364905  2022   12               90           97   901667148          240   \n",
       "364906  2022   12               90           97   901667148          240   \n",
       "364907  2022   12               90           97   901667148          240   \n",
       "\n",
       "        Codigo linea  Codigo grupo  Codigo calidad  \\\n",
       "0                103           180             334   \n",
       "1                160            59              25   \n",
       "2                160            59              25   \n",
       "3                  1             1              50   \n",
       "4                168           203              73   \n",
       "...              ...           ...             ...   \n",
       "364903           126           179             315   \n",
       "364904           126           179             319   \n",
       "364905           170            13              34   \n",
       "364906           170            13              35   \n",
       "364907           170            18              47   \n",
       "\n",
       "                                 Gerente                 Línea CAM  \\\n",
       "0       Elementos de Protección Personal       Protección personal   \n",
       "1                    Comunicación visual                    Tintas   \n",
       "2                    Comunicación visual                    Tintas   \n",
       "3                              Cartulina                    Propal   \n",
       "4                            Flexografía       Insumos Flexografía   \n",
       "...                                  ...                       ...   \n",
       "364903           Limpieza y Desinfección     Cuidado Institucional   \n",
       "364904           Limpieza y Desinfección     Cuidado Institucional   \n",
       "364905          Tecnología Institucional  Tecnología institucional   \n",
       "364906          Tecnología Institucional  Tecnología institucional   \n",
       "364907          Tecnología Institucional  Tecnología institucional   \n",
       "\n",
       "               Ventas Codigo distrito-zona  \n",
       "0         284227.9900                 10-1  \n",
       "1         832743.0000                 10-1  \n",
       "2         278095.0000                 10-1  \n",
       "3       16182936.0000                 10-1  \n",
       "4         322407.2000                 10-1  \n",
       "...               ...                  ...  \n",
       "364903       771.0000                90-97  \n",
       "364904      1067.0000                90-97  \n",
       "364905     17976.0000                90-97  \n",
       "364906     56800.0000                90-97  \n",
       "364907     21000.0000                90-97  \n",
       "\n",
       "[364908 rows x 13 columns]"
      ]
     },
     "execution_count": 8,
     "metadata": {},
     "output_type": "execute_result"
    }
   ],
   "source": [
    "df_gb = df_merged.groupby([\"Ano\", \"Mes\", \"Codigo distrito\", \"Codigo zona\", \"Nit cliente\", \"Codigo tipo\",\n",
    "                            \"Codigo linea\", \"Codigo grupo\", \"Codigo calidad\", \"Gerente\", \"Línea CAM\"]).agg({\"Ventas\": np.sum})\n",
    "df_gb = df_gb.reset_index(col_level= 1)\n",
    "df_gb[\"Codigo distrito-zona\"] = df_gb[\"Codigo distrito\"].astype(str) + \"-\" + df_gb[\"Codigo zona\"].astype(str)\n",
    "df_gb"
   ]
  },
  {
   "cell_type": "code",
   "execution_count": 121,
   "metadata": {},
   "outputs": [],
   "source": [
    "list_dst_znas = (df_gb[\"Codigo distrito\"].astype(str) + \"-\" + df_gb[\"Codigo zona\"].astype(str)).unique()"
   ]
  },
  {
   "cell_type": "code",
   "execution_count": 116,
   "metadata": {},
   "outputs": [],
   "source": [
    "list_dst_znas = [\"10-18\", \"10-60\", \"10-4\"]\n"
   ]
  },
  {
   "cell_type": "code",
   "execution_count": 126,
   "metadata": {},
   "outputs": [],
   "source": [
    "consolidado = pd.DataFrame([])\n",
    "for dtozna in list_dst_znas:\n",
    "    #Creacion del subdataset\n",
    "    df_dto = df_gb[df_gb[\"Codigo distrito-zona\"] == dtozna]\n",
    "    \n",
    "    #Setup modelo\n",
    "    exp_ano101 = setup(df_dto, normalize = True, session_id = 123)\n",
    "    \n",
    "    #Modelo iforest\n",
    "    iforest = create_model('iforest')\n",
    "    iforest_results = assign_model(iforest)\n",
    "    resultado_iforest = iforest_results[iforest_results[\"Anomaly\"] == 1]\n",
    "    resultado_iforest = resultado_iforest[resultado_iforest[\"Anomaly_Score\"] >= 0.04]\n",
    "    resultado_iforest = resultado_iforest[resultado_iforest[\"Ventas\"] >= 4000000]\n",
    "    resultado_iforest = resultado_iforest[resultado_iforest[\"Ano\"] == 2022]\n",
    "    resultado_iforest = resultado_iforest[resultado_iforest[\"Mes\"] >= 10]\n",
    "    consolidado = consolidado.append(resultado_iforest)\n",
    "consolidado.index = pd.RangeIndex(len(consolidado.index))\n",
    "consolidado.to_csv(f\"C:/Users/tcardenas/OneDrive/OneDrive - Grupo DISPAPELES/Documents/ML-Dispapeles-TomasCaLo/Anomaly detection/Anomalies_iforest/Anomalies 24-1-23.csv\",\n",
    "                    encoding= 'utf-8', index= False, sep= \";\")"
   ]
  },
  {
   "cell_type": "code",
   "execution_count": null,
   "metadata": {},
   "outputs": [],
   "source": [
    "exp_ano101 = setup(df, normalize = True, \n",
    "                   session_id = 123)"
   ]
  },
  {
   "cell_type": "code",
   "execution_count": null,
   "metadata": {},
   "outputs": [],
   "source": [
    "iforest = create_model('iforest')"
   ]
  },
  {
   "cell_type": "code",
   "execution_count": null,
   "metadata": {},
   "outputs": [],
   "source": [
    "print(iforest)"
   ]
  },
  {
   "cell_type": "code",
   "execution_count": null,
   "metadata": {},
   "outputs": [],
   "source": [
    "svm = create_model('svm', fraction = 0.025)"
   ]
  },
  {
   "cell_type": "code",
   "execution_count": null,
   "metadata": {},
   "outputs": [],
   "source": [
    "print(svm)"
   ]
  },
  {
   "cell_type": "code",
   "execution_count": null,
   "metadata": {},
   "outputs": [],
   "source": [
    "models()"
   ]
  },
  {
   "cell_type": "code",
   "execution_count": null,
   "metadata": {},
   "outputs": [],
   "source": [
    "iforest_results = assign_model(iforest)"
   ]
  },
  {
   "cell_type": "code",
   "execution_count": null,
   "metadata": {},
   "outputs": [],
   "source": [
    "resultado = iforest_results[iforest_results[\"Anomaly\"] == 1]\n",
    "resultado = resultado[resultado[\"Anomaly_Score\"] >= 0.04]\n",
    "resultado"
   ]
  },
  {
   "cell_type": "code",
   "execution_count": null,
   "metadata": {},
   "outputs": [],
   "source": [
    "plot_model(iforest)"
   ]
  },
  {
   "cell_type": "code",
   "execution_count": null,
   "metadata": {},
   "outputs": [],
   "source": [
    "plot_model(iforest, plot = 'umap')"
   ]
  },
  {
   "cell_type": "code",
   "execution_count": null,
   "metadata": {},
   "outputs": [],
   "source": [
    "iforest_results.to_csv(\"Anomalias detectadas.csv\", encoding= 'utf-8', index= False)"
   ]
  }
 ],
 "metadata": {
  "kernelspec": {
   "display_name": "Python 3.8.13 ('py38')",
   "language": "python",
   "name": "python3"
  },
  "language_info": {
   "codemirror_mode": {
    "name": "ipython",
    "version": 3
   },
   "file_extension": ".py",
   "mimetype": "text/x-python",
   "name": "python",
   "nbconvert_exporter": "python",
   "pygments_lexer": "ipython3",
   "version": "3.8.13"
  },
  "orig_nbformat": 4,
  "vscode": {
   "interpreter": {
    "hash": "d6c6a9368ffd28e969f7d90a4d7c29e7466278b3cb1a367b914bbfe92c83c635"
   }
  }
 },
 "nbformat": 4,
 "nbformat_minor": 2
}
