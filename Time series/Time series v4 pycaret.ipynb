{
 "cells": [
  {
   "cell_type": "code",
   "execution_count": 2,
   "metadata": {},
   "outputs": [],
   "source": [
    "import pyodbc\n",
    "import numpy as np\n",
    "import pandas as pd\n",
    "import statsmodels.api as sm\n",
    "import matplotlib.pyplot as plt\n",
    "\n",
    "from statsmodels.tsa.arima.model import ARIMA\n",
    "from sklearn.metrics import mean_absolute_error, mean_squared_error, r2_score, mean_absolute_percentage_error\n",
    "from sklearn.preprocessing import MaxAbsScaler\n",
    "\n",
    "import warnings\n",
    "warnings.filterwarnings(\"ignore\")\n",
    "\n",
    "from pycaret.time_series import *"
   ]
  },
  {
   "cell_type": "code",
   "execution_count": 83,
   "metadata": {},
   "outputs": [],
   "source": [
    "def df_cluster(nits_clientes, fecha_final):\n",
    "    # Conexion al dwh\n",
    "    cnxn = pyodbc.connect(\n",
    "        driver='{SQL Server}',\n",
    "        server='192.168.100.58',\n",
    "        uid='bilectura',\n",
    "        pwd='D1sp@p3l3s')\n",
    "    cursor = cnxn.cursor()\n",
    "\n",
    "    df_SQL = []\n",
    "\n",
    "    for nit in nits_clientes:\n",
    "        #Consulta SQL\n",
    "        consulta_SQL = f\"SELECT DATEFROMPARTS(VTAANO, VTAMES, 1) AS 'Fecha', SUM(VTAVLRVTA) AS 'Ventas' FROM V_VTA_VTAHEC WHERE CONCAT(CONCAT(VTANIT, '-'), VTASUC) = '{nit}' AND VTAFCH < '{fecha_final}' GROUP BY DATEFROMPARTS(VTAANO, VTAMES, 1)\"\n",
    "\n",
    "        #Carga de la data desde el dwh de Dispapeles y se guarda en df\n",
    "        cursor.execute(consulta_SQL)\n",
    "        rows = cursor.fetchall()\n",
    "        df_SQL_int = pd.DataFrame.from_records(rows, columns=[col[0] for col in cursor.description])\n",
    "        df_SQL_int[\"Ventas\"] = df_SQL_int[\"Ventas\"].astype(int)\n",
    "        df_SQL_int[\"Fecha\"] = pd.to_datetime(df_SQL_int[\"Fecha\"])\n",
    "\n",
    "        df_SQL.append(df_SQL_int)\n",
    "\n",
    "    #Convertir el arreglo, de 3D a 2D\n",
    "    arr_df_SQL = np.array(df_SQL)\n",
    "    n_filas = arr_df_SQL.shape[0] * arr_df_SQL.shape[1]\n",
    "    df_SQL = arr_df_SQL.reshape(n_filas, 2)\n",
    "\n",
    "    #Tranformaciones para convertir a pd DF\n",
    "    df_SQL = pd.DataFrame(df_SQL, columns= [\"Fecha\", \"Ventas\"])\n",
    "    df_SQL[\"Ventas\"] = pd.to_numeric(df_SQL[\"Ventas\"])\n",
    "    # df_SQL[\"Fecha\"] = pd.to_numeric(df_SQL[\"Fecha\"])\n",
    "    df_SQL = df_SQL.groupby(\"Fecha\").sum()\n",
    "\n",
    "    return df_SQL"
   ]
  },
  {
   "cell_type": "code",
   "execution_count": 94,
   "metadata": {},
   "outputs": [],
   "source": [
    "df_clusters = pd.read_csv(\"C:/Users/tcardenas/OneDrive/OneDrive - Grupo DISPAPELES/Documents/ML-Dispapeles-TomasCaLo/Clustering/Clustering 27-1-23.csv\",\n",
    "                            encoding= 'utf-8', decimal= \",\", sep= \";\")\n",
    "col_eliminar = [\"Recency\", \"Monetary\", \"Frequency\", \"Distrito-Nombretipozona\", \"Cluster\"]\n",
    "df_clusters = df_clusters.drop(col_eliminar, axis= 1)\n",
    "\n",
    "filtro_distrito = 10\n",
    "filtro_tipozona = \"Institucional\"\n",
    "filtro_cluster = \"A\"\n",
    "\n",
    "df_clusters_f = df_clusters[\n",
    "                    (df_clusters[\"Codigo distrito\"] == filtro_distrito) &\n",
    "                    (df_clusters[\"Nombre tipo zona\"] == filtro_tipozona) &\n",
    "                    (df_clusters[\"Letra cluster\"] == filtro_cluster)\n",
    "                ]"
   ]
  },
  {
   "cell_type": "code",
   "execution_count": 96,
   "metadata": {},
   "outputs": [],
   "source": [
    "from datetime import datetime\n",
    "lista_nits = df_clusters_f[\"Nit cliente-sucursal\"].tolist()\n",
    "fecha_final = '2023-03-31'\n",
    "fecha_final = datetime.strptime(fecha_final, '%Y-%m-%d').strftime('%Y-%m-%d')"
   ]
  },
  {
   "cell_type": "code",
   "execution_count": 97,
   "metadata": {},
   "outputs": [],
   "source": [
    "ventas_cluster = df_cluster(nits_clientes= lista_nits, fecha_final= fecha_final)"
   ]
  },
  {
   "cell_type": "code",
   "execution_count": 98,
   "metadata": {},
   "outputs": [
    {
     "data": {
      "text/html": [
       "<div>\n",
       "<style scoped>\n",
       "    .dataframe tbody tr th:only-of-type {\n",
       "        vertical-align: middle;\n",
       "    }\n",
       "\n",
       "    .dataframe tbody tr th {\n",
       "        vertical-align: top;\n",
       "    }\n",
       "\n",
       "    .dataframe thead th {\n",
       "        text-align: right;\n",
       "    }\n",
       "</style>\n",
       "<table border=\"1\" class=\"dataframe\">\n",
       "  <thead>\n",
       "    <tr style=\"text-align: right;\">\n",
       "      <th></th>\n",
       "      <th>Ventas</th>\n",
       "    </tr>\n",
       "    <tr>\n",
       "      <th>Fecha</th>\n",
       "      <th></th>\n",
       "    </tr>\n",
       "  </thead>\n",
       "  <tbody>\n",
       "    <tr>\n",
       "      <th>2018-01-01</th>\n",
       "      <td>0</td>\n",
       "    </tr>\n",
       "    <tr>\n",
       "      <th>2018-02-01</th>\n",
       "      <td>57325910</td>\n",
       "    </tr>\n",
       "    <tr>\n",
       "      <th>2018-03-01</th>\n",
       "      <td>42296947</td>\n",
       "    </tr>\n",
       "    <tr>\n",
       "      <th>2018-04-01</th>\n",
       "      <td>61992674</td>\n",
       "    </tr>\n",
       "    <tr>\n",
       "      <th>2018-05-01</th>\n",
       "      <td>61996231</td>\n",
       "    </tr>\n",
       "    <tr>\n",
       "      <th>...</th>\n",
       "      <td>...</td>\n",
       "    </tr>\n",
       "    <tr>\n",
       "      <th>2022-11-01</th>\n",
       "      <td>485318911</td>\n",
       "    </tr>\n",
       "    <tr>\n",
       "      <th>2022-12-01</th>\n",
       "      <td>423495241</td>\n",
       "    </tr>\n",
       "    <tr>\n",
       "      <th>2023-01-01</th>\n",
       "      <td>516162793</td>\n",
       "    </tr>\n",
       "    <tr>\n",
       "      <th>2023-02-01</th>\n",
       "      <td>478651558</td>\n",
       "    </tr>\n",
       "    <tr>\n",
       "      <th>2023-03-01</th>\n",
       "      <td>480967294</td>\n",
       "    </tr>\n",
       "  </tbody>\n",
       "</table>\n",
       "<p>63 rows × 1 columns</p>\n",
       "</div>"
      ],
      "text/plain": [
       "               Ventas\n",
       "Fecha                \n",
       "2018-01-01          0\n",
       "2018-02-01   57325910\n",
       "2018-03-01   42296947\n",
       "2018-04-01   61992674\n",
       "2018-05-01   61996231\n",
       "...               ...\n",
       "2022-11-01  485318911\n",
       "2022-12-01  423495241\n",
       "2023-01-01  516162793\n",
       "2023-02-01  478651558\n",
       "2023-03-01  480967294\n",
       "\n",
       "[63 rows x 1 columns]"
      ]
     },
     "execution_count": 98,
     "metadata": {},
     "output_type": "execute_result"
    }
   ],
   "source": [
    "ventas_cluster"
   ]
  },
  {
   "cell_type": "code",
   "execution_count": 103,
   "metadata": {},
   "outputs": [],
   "source": [
    "s = setup(ventas_cluster, fh = 6, session_id = 123)"
   ]
  },
  {
   "cell_type": "code",
   "execution_count": 104,
   "metadata": {},
   "outputs": [
    {
     "data": {
      "text/html": [
       "<div>\n",
       "<style scoped>\n",
       "    .dataframe tbody tr th:only-of-type {\n",
       "        vertical-align: middle;\n",
       "    }\n",
       "\n",
       "    .dataframe tbody tr th {\n",
       "        vertical-align: top;\n",
       "    }\n",
       "\n",
       "    .dataframe thead th {\n",
       "        text-align: right;\n",
       "    }\n",
       "</style>\n",
       "<table border=\"1\" class=\"dataframe\">\n",
       "  <thead>\n",
       "    <tr style=\"text-align: right;\">\n",
       "      <th></th>\n",
       "      <th></th>\n",
       "      <th></th>\n",
       "    </tr>\n",
       "    <tr>\n",
       "      <th></th>\n",
       "      <th></th>\n",
       "      <th></th>\n",
       "    </tr>\n",
       "  </thead>\n",
       "  <tbody>\n",
       "    <tr>\n",
       "      <th>Initiated</th>\n",
       "      <td>. . . . . . . . . . . . . . . . . .</td>\n",
       "      <td>20:31:19</td>\n",
       "    </tr>\n",
       "    <tr>\n",
       "      <th>Status</th>\n",
       "      <td>. . . . . . . . . . . . . . . . . .</td>\n",
       "      <td>Fitting 3 Folds</td>\n",
       "    </tr>\n",
       "    <tr>\n",
       "      <th>Estimator</th>\n",
       "      <td>. . . . . . . . . . . . . . . . . .</td>\n",
       "      <td>Naive Forecaster</td>\n",
       "    </tr>\n",
       "  </tbody>\n",
       "</table>\n",
       "</div>"
      ],
      "text/plain": [
       "                                                                \n",
       "                                                                \n",
       "Initiated  . . . . . . . . . . . . . . . . . .          20:31:19\n",
       "Status     . . . . . . . . . . . . . . . . . .   Fitting 3 Folds\n",
       "Estimator  . . . . . . . . . . . . . . . . . .  Naive Forecaster"
      ]
     },
     "metadata": {},
     "output_type": "display_data"
    },
    {
     "data": {
      "text/html": [
       "<style type=\"text/css\">\n",
       "#T_0b37a th {\n",
       "  text-align: left;\n",
       "}\n",
       "#T_0b37a_row0_col0, #T_0b37a_row1_col0, #T_0b37a_row1_col1, #T_0b37a_row1_col2, #T_0b37a_row1_col3, #T_0b37a_row1_col4, #T_0b37a_row1_col5, #T_0b37a_row1_col6, #T_0b37a_row1_col7, #T_0b37a_row2_col0, #T_0b37a_row2_col1, #T_0b37a_row2_col2, #T_0b37a_row2_col3, #T_0b37a_row2_col4, #T_0b37a_row2_col5, #T_0b37a_row2_col6, #T_0b37a_row2_col7, #T_0b37a_row3_col0, #T_0b37a_row3_col1, #T_0b37a_row3_col2, #T_0b37a_row3_col3, #T_0b37a_row3_col4, #T_0b37a_row3_col5, #T_0b37a_row3_col6, #T_0b37a_row3_col7, #T_0b37a_row4_col0, #T_0b37a_row4_col1, #T_0b37a_row4_col2, #T_0b37a_row4_col3, #T_0b37a_row4_col4, #T_0b37a_row4_col5, #T_0b37a_row4_col6, #T_0b37a_row4_col7, #T_0b37a_row5_col0, #T_0b37a_row5_col1, #T_0b37a_row5_col2, #T_0b37a_row5_col3, #T_0b37a_row5_col4, #T_0b37a_row5_col5, #T_0b37a_row5_col6, #T_0b37a_row5_col7, #T_0b37a_row6_col0, #T_0b37a_row6_col1, #T_0b37a_row6_col2, #T_0b37a_row6_col3, #T_0b37a_row6_col4, #T_0b37a_row6_col5, #T_0b37a_row6_col6, #T_0b37a_row6_col7, #T_0b37a_row7_col0, #T_0b37a_row7_col1, #T_0b37a_row7_col2, #T_0b37a_row7_col3, #T_0b37a_row7_col4, #T_0b37a_row7_col5, #T_0b37a_row7_col6, #T_0b37a_row7_col7, #T_0b37a_row8_col0, #T_0b37a_row8_col1, #T_0b37a_row8_col2, #T_0b37a_row8_col3, #T_0b37a_row8_col4, #T_0b37a_row8_col5, #T_0b37a_row8_col6, #T_0b37a_row8_col7, #T_0b37a_row9_col0, #T_0b37a_row9_col1, #T_0b37a_row9_col2, #T_0b37a_row9_col3, #T_0b37a_row9_col4, #T_0b37a_row9_col5, #T_0b37a_row9_col6, #T_0b37a_row9_col7, #T_0b37a_row10_col0, #T_0b37a_row10_col1, #T_0b37a_row10_col2, #T_0b37a_row10_col3, #T_0b37a_row10_col4, #T_0b37a_row10_col5, #T_0b37a_row10_col6, #T_0b37a_row10_col7, #T_0b37a_row11_col0, #T_0b37a_row11_col1, #T_0b37a_row11_col2, #T_0b37a_row11_col3, #T_0b37a_row11_col4, #T_0b37a_row11_col5, #T_0b37a_row11_col6, #T_0b37a_row11_col7, #T_0b37a_row12_col0, #T_0b37a_row12_col1, #T_0b37a_row12_col2, #T_0b37a_row12_col3, #T_0b37a_row12_col4, #T_0b37a_row12_col5, #T_0b37a_row12_col6, #T_0b37a_row12_col7, #T_0b37a_row13_col0, #T_0b37a_row13_col1, #T_0b37a_row13_col2, #T_0b37a_row13_col3, #T_0b37a_row13_col4, #T_0b37a_row13_col5, #T_0b37a_row13_col6, #T_0b37a_row13_col7, #T_0b37a_row14_col0, #T_0b37a_row14_col1, #T_0b37a_row14_col2, #T_0b37a_row14_col3, #T_0b37a_row14_col4, #T_0b37a_row14_col5, #T_0b37a_row14_col6, #T_0b37a_row14_col7, #T_0b37a_row15_col0, #T_0b37a_row15_col1, #T_0b37a_row15_col2, #T_0b37a_row15_col3, #T_0b37a_row15_col4, #T_0b37a_row15_col5, #T_0b37a_row15_col6, #T_0b37a_row15_col7, #T_0b37a_row16_col0, #T_0b37a_row16_col1, #T_0b37a_row16_col2, #T_0b37a_row16_col3, #T_0b37a_row16_col4, #T_0b37a_row16_col5, #T_0b37a_row16_col6, #T_0b37a_row16_col7, #T_0b37a_row17_col0, #T_0b37a_row17_col1, #T_0b37a_row17_col2, #T_0b37a_row17_col3, #T_0b37a_row17_col4, #T_0b37a_row17_col5, #T_0b37a_row17_col6, #T_0b37a_row17_col7, #T_0b37a_row18_col0, #T_0b37a_row18_col1, #T_0b37a_row18_col2, #T_0b37a_row18_col3, #T_0b37a_row18_col4, #T_0b37a_row18_col5, #T_0b37a_row18_col6, #T_0b37a_row18_col7, #T_0b37a_row19_col0, #T_0b37a_row19_col1, #T_0b37a_row19_col2, #T_0b37a_row19_col3, #T_0b37a_row19_col4, #T_0b37a_row19_col5, #T_0b37a_row19_col6, #T_0b37a_row19_col7, #T_0b37a_row20_col0, #T_0b37a_row20_col1, #T_0b37a_row20_col2, #T_0b37a_row20_col3, #T_0b37a_row20_col4, #T_0b37a_row20_col5, #T_0b37a_row20_col6, #T_0b37a_row20_col7, #T_0b37a_row21_col0, #T_0b37a_row21_col1, #T_0b37a_row21_col2, #T_0b37a_row21_col3, #T_0b37a_row21_col4, #T_0b37a_row21_col5, #T_0b37a_row21_col6, #T_0b37a_row21_col7, #T_0b37a_row22_col0, #T_0b37a_row22_col1, #T_0b37a_row22_col2, #T_0b37a_row22_col3, #T_0b37a_row22_col4, #T_0b37a_row22_col5, #T_0b37a_row22_col6, #T_0b37a_row22_col7, #T_0b37a_row23_col0, #T_0b37a_row23_col1, #T_0b37a_row23_col2, #T_0b37a_row23_col3, #T_0b37a_row23_col4, #T_0b37a_row23_col5, #T_0b37a_row23_col6, #T_0b37a_row23_col7, #T_0b37a_row24_col0, #T_0b37a_row24_col1, #T_0b37a_row24_col2, #T_0b37a_row24_col3, #T_0b37a_row24_col4, #T_0b37a_row24_col5, #T_0b37a_row24_col6, #T_0b37a_row24_col7, #T_0b37a_row25_col0, #T_0b37a_row25_col1, #T_0b37a_row25_col2, #T_0b37a_row25_col3, #T_0b37a_row25_col4, #T_0b37a_row25_col5, #T_0b37a_row25_col6, #T_0b37a_row25_col7, #T_0b37a_row26_col0, #T_0b37a_row26_col1, #T_0b37a_row26_col2, #T_0b37a_row26_col3, #T_0b37a_row26_col4, #T_0b37a_row26_col5, #T_0b37a_row26_col6, #T_0b37a_row26_col7, #T_0b37a_row27_col0, #T_0b37a_row27_col1, #T_0b37a_row27_col2, #T_0b37a_row27_col3, #T_0b37a_row27_col4, #T_0b37a_row27_col5, #T_0b37a_row27_col6, #T_0b37a_row27_col7, #T_0b37a_row28_col0, #T_0b37a_row28_col1, #T_0b37a_row28_col2, #T_0b37a_row28_col3, #T_0b37a_row28_col4, #T_0b37a_row28_col5, #T_0b37a_row28_col6, #T_0b37a_row28_col7 {\n",
       "  text-align: left;\n",
       "}\n",
       "#T_0b37a_row0_col1, #T_0b37a_row0_col2, #T_0b37a_row0_col3, #T_0b37a_row0_col4, #T_0b37a_row0_col5, #T_0b37a_row0_col6, #T_0b37a_row0_col7 {\n",
       "  text-align: left;\n",
       "  background-color: yellow;\n",
       "}\n",
       "#T_0b37a_row0_col8, #T_0b37a_row1_col8, #T_0b37a_row2_col8, #T_0b37a_row3_col8, #T_0b37a_row4_col8, #T_0b37a_row5_col8, #T_0b37a_row6_col8, #T_0b37a_row7_col8, #T_0b37a_row8_col8, #T_0b37a_row9_col8, #T_0b37a_row10_col8, #T_0b37a_row12_col8, #T_0b37a_row13_col8, #T_0b37a_row14_col8, #T_0b37a_row15_col8, #T_0b37a_row16_col8, #T_0b37a_row17_col8, #T_0b37a_row18_col8, #T_0b37a_row19_col8, #T_0b37a_row20_col8, #T_0b37a_row21_col8, #T_0b37a_row22_col8, #T_0b37a_row23_col8, #T_0b37a_row24_col8, #T_0b37a_row25_col8, #T_0b37a_row26_col8, #T_0b37a_row27_col8, #T_0b37a_row28_col8 {\n",
       "  text-align: left;\n",
       "  background-color: lightgrey;\n",
       "}\n",
       "#T_0b37a_row11_col8 {\n",
       "  text-align: left;\n",
       "  background-color: yellow;\n",
       "  background-color: lightgrey;\n",
       "}\n",
       "</style>\n",
       "<table id=\"T_0b37a\">\n",
       "  <thead>\n",
       "    <tr>\n",
       "      <th class=\"blank level0\" >&nbsp;</th>\n",
       "      <th id=\"T_0b37a_level0_col0\" class=\"col_heading level0 col0\" >Model</th>\n",
       "      <th id=\"T_0b37a_level0_col1\" class=\"col_heading level0 col1\" >MASE</th>\n",
       "      <th id=\"T_0b37a_level0_col2\" class=\"col_heading level0 col2\" >RMSSE</th>\n",
       "      <th id=\"T_0b37a_level0_col3\" class=\"col_heading level0 col3\" >MAE</th>\n",
       "      <th id=\"T_0b37a_level0_col4\" class=\"col_heading level0 col4\" >RMSE</th>\n",
       "      <th id=\"T_0b37a_level0_col5\" class=\"col_heading level0 col5\" >MAPE</th>\n",
       "      <th id=\"T_0b37a_level0_col6\" class=\"col_heading level0 col6\" >SMAPE</th>\n",
       "      <th id=\"T_0b37a_level0_col7\" class=\"col_heading level0 col7\" >R2</th>\n",
       "      <th id=\"T_0b37a_level0_col8\" class=\"col_heading level0 col8\" >TT (Sec)</th>\n",
       "    </tr>\n",
       "  </thead>\n",
       "  <tbody>\n",
       "    <tr>\n",
       "      <th id=\"T_0b37a_level0_row0\" class=\"row_heading level0 row0\" >snaive</th>\n",
       "      <td id=\"T_0b37a_row0_col0\" class=\"data row0 col0\" >Seasonal Naive Forecaster</td>\n",
       "      <td id=\"T_0b37a_row0_col1\" class=\"data row0 col1\" >0.1816</td>\n",
       "      <td id=\"T_0b37a_row0_col2\" class=\"data row0 col2\" >0.1146</td>\n",
       "      <td id=\"T_0b37a_row0_col3\" class=\"data row0 col3\" >16563919.1111</td>\n",
       "      <td id=\"T_0b37a_row0_col4\" class=\"data row0 col4\" >18951206.7076</td>\n",
       "      <td id=\"T_0b37a_row0_col5\" class=\"data row0 col5\" >0.0326</td>\n",
       "      <td id=\"T_0b37a_row0_col6\" class=\"data row0 col6\" >0.0323</td>\n",
       "      <td id=\"T_0b37a_row0_col7\" class=\"data row0 col7\" >-1.9300</td>\n",
       "      <td id=\"T_0b37a_row0_col8\" class=\"data row0 col8\" >0.0233</td>\n",
       "    </tr>\n",
       "    <tr>\n",
       "      <th id=\"T_0b37a_level0_row1\" class=\"row_heading level0 row1\" >naive</th>\n",
       "      <td id=\"T_0b37a_row1_col0\" class=\"data row1 col0\" >Naive Forecaster</td>\n",
       "      <td id=\"T_0b37a_row1_col1\" class=\"data row1 col1\" >0.2041</td>\n",
       "      <td id=\"T_0b37a_row1_col2\" class=\"data row1 col2\" >0.1264</td>\n",
       "      <td id=\"T_0b37a_row1_col3\" class=\"data row1 col3\" >18876662.0000</td>\n",
       "      <td id=\"T_0b37a_row1_col4\" class=\"data row1 col4\" >21062274.0853</td>\n",
       "      <td id=\"T_0b37a_row1_col5\" class=\"data row1 col5\" >0.0374</td>\n",
       "      <td id=\"T_0b37a_row1_col6\" class=\"data row1 col6\" >0.0368</td>\n",
       "      <td id=\"T_0b37a_row1_col7\" class=\"data row1 col7\" >-2.4037</td>\n",
       "      <td id=\"T_0b37a_row1_col8\" class=\"data row1 col8\" >0.0333</td>\n",
       "    </tr>\n",
       "    <tr>\n",
       "      <th id=\"T_0b37a_level0_row2\" class=\"row_heading level0 row2\" >auto_arima</th>\n",
       "      <td id=\"T_0b37a_row2_col0\" class=\"data row2 col0\" >Auto ARIMA</td>\n",
       "      <td id=\"T_0b37a_row2_col1\" class=\"data row2 col1\" >0.2867</td>\n",
       "      <td id=\"T_0b37a_row2_col2\" class=\"data row2 col2\" >0.1905</td>\n",
       "      <td id=\"T_0b37a_row2_col3\" class=\"data row2 col3\" >27491691.8710</td>\n",
       "      <td id=\"T_0b37a_row2_col4\" class=\"data row2 col4\" >32178422.5448</td>\n",
       "      <td id=\"T_0b37a_row2_col5\" class=\"data row2 col5\" >0.0535</td>\n",
       "      <td id=\"T_0b37a_row2_col6\" class=\"data row2 col6\" >0.0558</td>\n",
       "      <td id=\"T_0b37a_row2_col7\" class=\"data row2 col7\" >-7.2658</td>\n",
       "      <td id=\"T_0b37a_row2_col8\" class=\"data row2 col8\" >2.0300</td>\n",
       "    </tr>\n",
       "    <tr>\n",
       "      <th id=\"T_0b37a_level0_row3\" class=\"row_heading level0 row3\" >theta</th>\n",
       "      <td id=\"T_0b37a_row3_col0\" class=\"data row3 col0\" >Theta Forecaster</td>\n",
       "      <td id=\"T_0b37a_row3_col1\" class=\"data row3 col1\" >0.3401</td>\n",
       "      <td id=\"T_0b37a_row3_col2\" class=\"data row3 col2\" >0.2085</td>\n",
       "      <td id=\"T_0b37a_row3_col3\" class=\"data row3 col3\" >31663104.3222</td>\n",
       "      <td id=\"T_0b37a_row3_col4\" class=\"data row3 col4\" >34703689.3537</td>\n",
       "      <td id=\"T_0b37a_row3_col5\" class=\"data row3 col5\" >0.0628</td>\n",
       "      <td id=\"T_0b37a_row3_col6\" class=\"data row3 col6\" >0.0603</td>\n",
       "      <td id=\"T_0b37a_row3_col7\" class=\"data row3 col7\" >-8.3429</td>\n",
       "      <td id=\"T_0b37a_row3_col8\" class=\"data row3 col8\" >0.0300</td>\n",
       "    </tr>\n",
       "    <tr>\n",
       "      <th id=\"T_0b37a_level0_row4\" class=\"row_heading level0 row4\" >rf_cds_dt</th>\n",
       "      <td id=\"T_0b37a_row4_col0\" class=\"data row4 col0\" >Random Forest w/ Cond. Deseasonalize & Detrending</td>\n",
       "      <td id=\"T_0b37a_row4_col1\" class=\"data row4 col1\" >0.4145</td>\n",
       "      <td id=\"T_0b37a_row4_col2\" class=\"data row4 col2\" >0.2813</td>\n",
       "      <td id=\"T_0b37a_row4_col3\" class=\"data row4 col3\" >37871288.9337</td>\n",
       "      <td id=\"T_0b37a_row4_col4\" class=\"data row4 col4\" >46577182.2134</td>\n",
       "      <td id=\"T_0b37a_row4_col5\" class=\"data row4 col5\" >0.0745</td>\n",
       "      <td id=\"T_0b37a_row4_col6\" class=\"data row4 col6\" >0.0735</td>\n",
       "      <td id=\"T_0b37a_row4_col7\" class=\"data row4 col7\" >-17.0705</td>\n",
       "      <td id=\"T_0b37a_row4_col8\" class=\"data row4 col8\" >0.2333</td>\n",
       "    </tr>\n",
       "    <tr>\n",
       "      <th id=\"T_0b37a_level0_row5\" class=\"row_heading level0 row5\" >ada_cds_dt</th>\n",
       "      <td id=\"T_0b37a_row5_col0\" class=\"data row5 col0\" >AdaBoost w/ Cond. Deseasonalize & Detrending</td>\n",
       "      <td id=\"T_0b37a_row5_col1\" class=\"data row5 col1\" >0.4416</td>\n",
       "      <td id=\"T_0b37a_row5_col2\" class=\"data row5 col2\" >0.2931</td>\n",
       "      <td id=\"T_0b37a_row5_col3\" class=\"data row5 col3\" >40936550.7765</td>\n",
       "      <td id=\"T_0b37a_row5_col4\" class=\"data row5 col4\" >48642950.6495</td>\n",
       "      <td id=\"T_0b37a_row5_col5\" class=\"data row5 col5\" >0.0801</td>\n",
       "      <td id=\"T_0b37a_row5_col6\" class=\"data row5 col6\" >0.0791</td>\n",
       "      <td id=\"T_0b37a_row5_col7\" class=\"data row5 col7\" >-17.7636</td>\n",
       "      <td id=\"T_0b37a_row5_col8\" class=\"data row5 col8\" >0.1633</td>\n",
       "    </tr>\n",
       "    <tr>\n",
       "      <th id=\"T_0b37a_level0_row6\" class=\"row_heading level0 row6\" >exp_smooth</th>\n",
       "      <td id=\"T_0b37a_row6_col0\" class=\"data row6 col0\" >Exponential Smoothing</td>\n",
       "      <td id=\"T_0b37a_row6_col1\" class=\"data row6 col1\" >0.4843</td>\n",
       "      <td id=\"T_0b37a_row6_col2\" class=\"data row6 col2\" >0.2957</td>\n",
       "      <td id=\"T_0b37a_row6_col3\" class=\"data row6 col3\" >46744926.9088</td>\n",
       "      <td id=\"T_0b37a_row6_col4\" class=\"data row6 col4\" >50269284.3748</td>\n",
       "      <td id=\"T_0b37a_row6_col5\" class=\"data row6 col5\" >0.0923</td>\n",
       "      <td id=\"T_0b37a_row6_col6\" class=\"data row6 col6\" >0.0863</td>\n",
       "      <td id=\"T_0b37a_row6_col7\" class=\"data row6 col7\" >-19.0188</td>\n",
       "      <td id=\"T_0b37a_row6_col8\" class=\"data row6 col8\" >0.1000</td>\n",
       "    </tr>\n",
       "    <tr>\n",
       "      <th id=\"T_0b37a_level0_row7\" class=\"row_heading level0 row7\" >ets</th>\n",
       "      <td id=\"T_0b37a_row7_col0\" class=\"data row7 col0\" >ETS</td>\n",
       "      <td id=\"T_0b37a_row7_col1\" class=\"data row7 col1\" >0.4862</td>\n",
       "      <td id=\"T_0b37a_row7_col2\" class=\"data row7 col2\" >0.2999</td>\n",
       "      <td id=\"T_0b37a_row7_col3\" class=\"data row7 col3\" >46950782.0828</td>\n",
       "      <td id=\"T_0b37a_row7_col4\" class=\"data row7 col4\" >50981850.5865</td>\n",
       "      <td id=\"T_0b37a_row7_col5\" class=\"data row7 col5\" >0.0927</td>\n",
       "      <td id=\"T_0b37a_row7_col6\" class=\"data row7 col6\" >0.0866</td>\n",
       "      <td id=\"T_0b37a_row7_col7\" class=\"data row7 col7\" >-19.5198</td>\n",
       "      <td id=\"T_0b37a_row7_col8\" class=\"data row7 col8\" >0.0433</td>\n",
       "    </tr>\n",
       "    <tr>\n",
       "      <th id=\"T_0b37a_level0_row8\" class=\"row_heading level0 row8\" >lightgbm_cds_dt</th>\n",
       "      <td id=\"T_0b37a_row8_col0\" class=\"data row8 col0\" >Light Gradient Boosting w/ Cond. Deseasonalize & Detrending</td>\n",
       "      <td id=\"T_0b37a_row8_col1\" class=\"data row8 col1\" >0.4990</td>\n",
       "      <td id=\"T_0b37a_row8_col2\" class=\"data row8 col2\" >0.3221</td>\n",
       "      <td id=\"T_0b37a_row8_col3\" class=\"data row8 col3\" >45660984.4882</td>\n",
       "      <td id=\"T_0b37a_row8_col4\" class=\"data row8 col4\" >53038284.4289</td>\n",
       "      <td id=\"T_0b37a_row8_col5\" class=\"data row8 col5\" >0.0898</td>\n",
       "      <td id=\"T_0b37a_row8_col6\" class=\"data row8 col6\" >0.0850</td>\n",
       "      <td id=\"T_0b37a_row8_col7\" class=\"data row8 col7\" >-24.4930</td>\n",
       "      <td id=\"T_0b37a_row8_col8\" class=\"data row8 col8\" >0.1133</td>\n",
       "    </tr>\n",
       "    <tr>\n",
       "      <th id=\"T_0b37a_level0_row9\" class=\"row_heading level0 row9\" >arima</th>\n",
       "      <td id=\"T_0b37a_row9_col0\" class=\"data row9 col0\" >ARIMA</td>\n",
       "      <td id=\"T_0b37a_row9_col1\" class=\"data row9 col1\" >0.5288</td>\n",
       "      <td id=\"T_0b37a_row9_col2\" class=\"data row9 col2\" >0.3289</td>\n",
       "      <td id=\"T_0b37a_row9_col3\" class=\"data row9 col3\" >49520312.9711</td>\n",
       "      <td id=\"T_0b37a_row9_col4\" class=\"data row9 col4\" >54912679.7972</td>\n",
       "      <td id=\"T_0b37a_row9_col5\" class=\"data row9 col5\" >0.0979</td>\n",
       "      <td id=\"T_0b37a_row9_col6\" class=\"data row9 col6\" >0.0918</td>\n",
       "      <td id=\"T_0b37a_row9_col7\" class=\"data row9 col7\" >-21.8827</td>\n",
       "      <td id=\"T_0b37a_row9_col8\" class=\"data row9 col8\" >0.0633</td>\n",
       "    </tr>\n",
       "    <tr>\n",
       "      <th id=\"T_0b37a_level0_row10\" class=\"row_heading level0 row10\" >knn_cds_dt</th>\n",
       "      <td id=\"T_0b37a_row10_col0\" class=\"data row10 col0\" >K Neighbors w/ Cond. Deseasonalize & Detrending</td>\n",
       "      <td id=\"T_0b37a_row10_col1\" class=\"data row10 col1\" >0.5614</td>\n",
       "      <td id=\"T_0b37a_row10_col2\" class=\"data row10 col2\" >0.3758</td>\n",
       "      <td id=\"T_0b37a_row10_col3\" class=\"data row10 col3\" >50104981.1606</td>\n",
       "      <td id=\"T_0b37a_row10_col4\" class=\"data row10 col4\" >61027993.9338</td>\n",
       "      <td id=\"T_0b37a_row10_col5\" class=\"data row10 col5\" >0.0983</td>\n",
       "      <td id=\"T_0b37a_row10_col6\" class=\"data row10 col6\" >0.0924</td>\n",
       "      <td id=\"T_0b37a_row10_col7\" class=\"data row10 col7\" >-43.1922</td>\n",
       "      <td id=\"T_0b37a_row10_col8\" class=\"data row10 col8\" >0.1267</td>\n",
       "    </tr>\n",
       "    <tr>\n",
       "      <th id=\"T_0b37a_level0_row11\" class=\"row_heading level0 row11\" >croston</th>\n",
       "      <td id=\"T_0b37a_row11_col0\" class=\"data row11 col0\" >Croston</td>\n",
       "      <td id=\"T_0b37a_row11_col1\" class=\"data row11 col1\" >0.5681</td>\n",
       "      <td id=\"T_0b37a_row11_col2\" class=\"data row11 col2\" >0.3289</td>\n",
       "      <td id=\"T_0b37a_row11_col3\" class=\"data row11 col3\" >54435653.2005</td>\n",
       "      <td id=\"T_0b37a_row11_col4\" class=\"data row11 col4\" >55753752.3516</td>\n",
       "      <td id=\"T_0b37a_row11_col5\" class=\"data row11 col5\" >0.1063</td>\n",
       "      <td id=\"T_0b37a_row11_col6\" class=\"data row11 col6\" >0.1143</td>\n",
       "      <td id=\"T_0b37a_row11_col7\" class=\"data row11 col7\" >-23.9596</td>\n",
       "      <td id=\"T_0b37a_row11_col8\" class=\"data row11 col8\" >0.0133</td>\n",
       "    </tr>\n",
       "    <tr>\n",
       "      <th id=\"T_0b37a_level0_row12\" class=\"row_heading level0 row12\" >gbr_cds_dt</th>\n",
       "      <td id=\"T_0b37a_row12_col0\" class=\"data row12 col0\" >Gradient Boosting w/ Cond. Deseasonalize & Detrending</td>\n",
       "      <td id=\"T_0b37a_row12_col1\" class=\"data row12 col1\" >0.6285</td>\n",
       "      <td id=\"T_0b37a_row12_col2\" class=\"data row12 col2\" >0.4832</td>\n",
       "      <td id=\"T_0b37a_row12_col3\" class=\"data row12 col3\" >55917349.5003</td>\n",
       "      <td id=\"T_0b37a_row12_col4\" class=\"data row12 col4\" >77932777.5403</td>\n",
       "      <td id=\"T_0b37a_row12_col5\" class=\"data row12 col5\" >0.1108</td>\n",
       "      <td id=\"T_0b37a_row12_col6\" class=\"data row12 col6\" >0.1015</td>\n",
       "      <td id=\"T_0b37a_row12_col7\" class=\"data row12 col7\" >-78.4660</td>\n",
       "      <td id=\"T_0b37a_row12_col8\" class=\"data row12 col8\" >0.1333</td>\n",
       "    </tr>\n",
       "    <tr>\n",
       "      <th id=\"T_0b37a_level0_row13\" class=\"row_heading level0 row13\" >huber_cds_dt</th>\n",
       "      <td id=\"T_0b37a_row13_col0\" class=\"data row13 col0\" >Huber w/ Cond. Deseasonalize & Detrending</td>\n",
       "      <td id=\"T_0b37a_row13_col1\" class=\"data row13 col1\" >0.6813</td>\n",
       "      <td id=\"T_0b37a_row13_col2\" class=\"data row13 col2\" >0.4249</td>\n",
       "      <td id=\"T_0b37a_row13_col3\" class=\"data row13 col3\" >61499516.8995</td>\n",
       "      <td id=\"T_0b37a_row13_col4\" class=\"data row13 col4\" >69458106.5928</td>\n",
       "      <td id=\"T_0b37a_row13_col5\" class=\"data row13 col5\" >0.1215</td>\n",
       "      <td id=\"T_0b37a_row13_col6\" class=\"data row13 col6\" >0.1125</td>\n",
       "      <td id=\"T_0b37a_row13_col7\" class=\"data row13 col7\" >-46.0596</td>\n",
       "      <td id=\"T_0b37a_row13_col8\" class=\"data row13 col8\" >0.1167</td>\n",
       "    </tr>\n",
       "    <tr>\n",
       "      <th id=\"T_0b37a_level0_row14\" class=\"row_heading level0 row14\" >dt_cds_dt</th>\n",
       "      <td id=\"T_0b37a_row14_col0\" class=\"data row14 col0\" >Decision Tree w/ Cond. Deseasonalize & Detrending</td>\n",
       "      <td id=\"T_0b37a_row14_col1\" class=\"data row14 col1\" >0.7741</td>\n",
       "      <td id=\"T_0b37a_row14_col2\" class=\"data row14 col2\" >0.5318</td>\n",
       "      <td id=\"T_0b37a_row14_col3\" class=\"data row14 col3\" >71359832.8496</td>\n",
       "      <td id=\"T_0b37a_row14_col4\" class=\"data row14 col4\" >88116242.2383</td>\n",
       "      <td id=\"T_0b37a_row14_col5\" class=\"data row14 col5\" >0.1404</td>\n",
       "      <td id=\"T_0b37a_row14_col6\" class=\"data row14 col6\" >0.1449</td>\n",
       "      <td id=\"T_0b37a_row14_col7\" class=\"data row14 col7\" >-74.5398</td>\n",
       "      <td id=\"T_0b37a_row14_col8\" class=\"data row14 col8\" >0.1067</td>\n",
       "    </tr>\n",
       "    <tr>\n",
       "      <th id=\"T_0b37a_level0_row15\" class=\"row_heading level0 row15\" >en_cds_dt</th>\n",
       "      <td id=\"T_0b37a_row15_col0\" class=\"data row15 col0\" >Elastic Net w/ Cond. Deseasonalize & Detrending</td>\n",
       "      <td id=\"T_0b37a_row15_col1\" class=\"data row15 col1\" >0.8230</td>\n",
       "      <td id=\"T_0b37a_row15_col2\" class=\"data row15 col2\" >0.4944</td>\n",
       "      <td id=\"T_0b37a_row15_col3\" class=\"data row15 col3\" >73976288.0405</td>\n",
       "      <td id=\"T_0b37a_row15_col4\" class=\"data row15 col4\" >80650381.8049</td>\n",
       "      <td id=\"T_0b37a_row15_col5\" class=\"data row15 col5\" >0.1461</td>\n",
       "      <td id=\"T_0b37a_row15_col6\" class=\"data row15 col6\" >0.1340</td>\n",
       "      <td id=\"T_0b37a_row15_col7\" class=\"data row15 col7\" >-65.4480</td>\n",
       "      <td id=\"T_0b37a_row15_col8\" class=\"data row15 col8\" >0.1200</td>\n",
       "    </tr>\n",
       "    <tr>\n",
       "      <th id=\"T_0b37a_level0_row16\" class=\"row_heading level0 row16\" >lar_cds_dt</th>\n",
       "      <td id=\"T_0b37a_row16_col0\" class=\"data row16 col0\" >Least Angular Regressor w/ Cond. Deseasonalize & Detrending</td>\n",
       "      <td id=\"T_0b37a_row16_col1\" class=\"data row16 col1\" >0.8230</td>\n",
       "      <td id=\"T_0b37a_row16_col2\" class=\"data row16 col2\" >0.4944</td>\n",
       "      <td id=\"T_0b37a_row16_col3\" class=\"data row16 col3\" >73976288.0405</td>\n",
       "      <td id=\"T_0b37a_row16_col4\" class=\"data row16 col4\" >80650381.8049</td>\n",
       "      <td id=\"T_0b37a_row16_col5\" class=\"data row16 col5\" >0.1461</td>\n",
       "      <td id=\"T_0b37a_row16_col6\" class=\"data row16 col6\" >0.1340</td>\n",
       "      <td id=\"T_0b37a_row16_col7\" class=\"data row16 col7\" >-65.4480</td>\n",
       "      <td id=\"T_0b37a_row16_col8\" class=\"data row16 col8\" >0.1100</td>\n",
       "    </tr>\n",
       "    <tr>\n",
       "      <th id=\"T_0b37a_level0_row17\" class=\"row_heading level0 row17\" >lr_cds_dt</th>\n",
       "      <td id=\"T_0b37a_row17_col0\" class=\"data row17 col0\" >Linear w/ Cond. Deseasonalize & Detrending</td>\n",
       "      <td id=\"T_0b37a_row17_col1\" class=\"data row17 col1\" >0.8230</td>\n",
       "      <td id=\"T_0b37a_row17_col2\" class=\"data row17 col2\" >0.4944</td>\n",
       "      <td id=\"T_0b37a_row17_col3\" class=\"data row17 col3\" >73976288.0405</td>\n",
       "      <td id=\"T_0b37a_row17_col4\" class=\"data row17 col4\" >80650381.8049</td>\n",
       "      <td id=\"T_0b37a_row17_col5\" class=\"data row17 col5\" >0.1461</td>\n",
       "      <td id=\"T_0b37a_row17_col6\" class=\"data row17 col6\" >0.1340</td>\n",
       "      <td id=\"T_0b37a_row17_col7\" class=\"data row17 col7\" >-65.4480</td>\n",
       "      <td id=\"T_0b37a_row17_col8\" class=\"data row17 col8\" >0.1133</td>\n",
       "    </tr>\n",
       "    <tr>\n",
       "      <th id=\"T_0b37a_level0_row18\" class=\"row_heading level0 row18\" >llar_cds_dt</th>\n",
       "      <td id=\"T_0b37a_row18_col0\" class=\"data row18 col0\" >Lasso Least Angular Regressor w/ Cond. Deseasonalize & Detrending</td>\n",
       "      <td id=\"T_0b37a_row18_col1\" class=\"data row18 col1\" >0.8230</td>\n",
       "      <td id=\"T_0b37a_row18_col2\" class=\"data row18 col2\" >0.4944</td>\n",
       "      <td id=\"T_0b37a_row18_col3\" class=\"data row18 col3\" >73976288.0405</td>\n",
       "      <td id=\"T_0b37a_row18_col4\" class=\"data row18 col4\" >80650381.8049</td>\n",
       "      <td id=\"T_0b37a_row18_col5\" class=\"data row18 col5\" >0.1461</td>\n",
       "      <td id=\"T_0b37a_row18_col6\" class=\"data row18 col6\" >0.1340</td>\n",
       "      <td id=\"T_0b37a_row18_col7\" class=\"data row18 col7\" >-65.4480</td>\n",
       "      <td id=\"T_0b37a_row18_col8\" class=\"data row18 col8\" >0.1133</td>\n",
       "    </tr>\n",
       "    <tr>\n",
       "      <th id=\"T_0b37a_level0_row19\" class=\"row_heading level0 row19\" >ridge_cds_dt</th>\n",
       "      <td id=\"T_0b37a_row19_col0\" class=\"data row19 col0\" >Ridge w/ Cond. Deseasonalize & Detrending</td>\n",
       "      <td id=\"T_0b37a_row19_col1\" class=\"data row19 col1\" >0.8230</td>\n",
       "      <td id=\"T_0b37a_row19_col2\" class=\"data row19 col2\" >0.4944</td>\n",
       "      <td id=\"T_0b37a_row19_col3\" class=\"data row19 col3\" >73976288.0405</td>\n",
       "      <td id=\"T_0b37a_row19_col4\" class=\"data row19 col4\" >80650381.8049</td>\n",
       "      <td id=\"T_0b37a_row19_col5\" class=\"data row19 col5\" >0.1461</td>\n",
       "      <td id=\"T_0b37a_row19_col6\" class=\"data row19 col6\" >0.1340</td>\n",
       "      <td id=\"T_0b37a_row19_col7\" class=\"data row19 col7\" >-65.4480</td>\n",
       "      <td id=\"T_0b37a_row19_col8\" class=\"data row19 col8\" >0.1067</td>\n",
       "    </tr>\n",
       "    <tr>\n",
       "      <th id=\"T_0b37a_level0_row20\" class=\"row_heading level0 row20\" >lasso_cds_dt</th>\n",
       "      <td id=\"T_0b37a_row20_col0\" class=\"data row20 col0\" >Lasso w/ Cond. Deseasonalize & Detrending</td>\n",
       "      <td id=\"T_0b37a_row20_col1\" class=\"data row20 col1\" >0.8230</td>\n",
       "      <td id=\"T_0b37a_row20_col2\" class=\"data row20 col2\" >0.4944</td>\n",
       "      <td id=\"T_0b37a_row20_col3\" class=\"data row20 col3\" >73976288.0405</td>\n",
       "      <td id=\"T_0b37a_row20_col4\" class=\"data row20 col4\" >80650381.8049</td>\n",
       "      <td id=\"T_0b37a_row20_col5\" class=\"data row20 col5\" >0.1461</td>\n",
       "      <td id=\"T_0b37a_row20_col6\" class=\"data row20 col6\" >0.1340</td>\n",
       "      <td id=\"T_0b37a_row20_col7\" class=\"data row20 col7\" >-65.4480</td>\n",
       "      <td id=\"T_0b37a_row20_col8\" class=\"data row20 col8\" >0.1233</td>\n",
       "    </tr>\n",
       "    <tr>\n",
       "      <th id=\"T_0b37a_level0_row21\" class=\"row_heading level0 row21\" >et_cds_dt</th>\n",
       "      <td id=\"T_0b37a_row21_col0\" class=\"data row21 col0\" >Extra Trees w/ Cond. Deseasonalize & Detrending</td>\n",
       "      <td id=\"T_0b37a_row21_col1\" class=\"data row21 col1\" >0.8276</td>\n",
       "      <td id=\"T_0b37a_row21_col2\" class=\"data row21 col2\" >0.5792</td>\n",
       "      <td id=\"T_0b37a_row21_col3\" class=\"data row21 col3\" >75747356.8477</td>\n",
       "      <td id=\"T_0b37a_row21_col4\" class=\"data row21 col4\" >95577199.6333</td>\n",
       "      <td id=\"T_0b37a_row21_col5\" class=\"data row21 col5\" >0.1502</td>\n",
       "      <td id=\"T_0b37a_row21_col6\" class=\"data row21 col6\" >0.1316</td>\n",
       "      <td id=\"T_0b37a_row21_col7\" class=\"data row21 col7\" >-99.2706</td>\n",
       "      <td id=\"T_0b37a_row21_col8\" class=\"data row21 col8\" >0.2133</td>\n",
       "    </tr>\n",
       "    <tr>\n",
       "      <th id=\"T_0b37a_level0_row22\" class=\"row_heading level0 row22\" >omp_cds_dt</th>\n",
       "      <td id=\"T_0b37a_row22_col0\" class=\"data row22 col0\" >Orthogonal Matching Pursuit w/ Cond. Deseasonalize & Detrending</td>\n",
       "      <td id=\"T_0b37a_row22_col1\" class=\"data row22 col1\" >0.8409</td>\n",
       "      <td id=\"T_0b37a_row22_col2\" class=\"data row22 col2\" >0.5008</td>\n",
       "      <td id=\"T_0b37a_row22_col3\" class=\"data row22 col3\" >75257696.0962</td>\n",
       "      <td id=\"T_0b37a_row22_col4\" class=\"data row22 col4\" >81534738.0089</td>\n",
       "      <td id=\"T_0b37a_row22_col5\" class=\"data row22 col5\" >0.1486</td>\n",
       "      <td id=\"T_0b37a_row22_col6\" class=\"data row22 col6\" >0.1361</td>\n",
       "      <td id=\"T_0b37a_row22_col7\" class=\"data row22 col7\" >-69.4371</td>\n",
       "      <td id=\"T_0b37a_row22_col8\" class=\"data row22 col8\" >0.1100</td>\n",
       "    </tr>\n",
       "    <tr>\n",
       "      <th id=\"T_0b37a_level0_row23\" class=\"row_heading level0 row23\" >br_cds_dt</th>\n",
       "      <td id=\"T_0b37a_row23_col0\" class=\"data row23 col0\" >Bayesian Ridge w/ Cond. Deseasonalize & Detrending</td>\n",
       "      <td id=\"T_0b37a_row23_col1\" class=\"data row23 col1\" >0.8509</td>\n",
       "      <td id=\"T_0b37a_row23_col2\" class=\"data row23 col2\" >0.5102</td>\n",
       "      <td id=\"T_0b37a_row23_col3\" class=\"data row23 col3\" >76123583.6523</td>\n",
       "      <td id=\"T_0b37a_row23_col4\" class=\"data row23 col4\" >83040156.2113</td>\n",
       "      <td id=\"T_0b37a_row23_col5\" class=\"data row23 col5\" >0.1503</td>\n",
       "      <td id=\"T_0b37a_row23_col6\" class=\"data row23 col6\" >0.1374</td>\n",
       "      <td id=\"T_0b37a_row23_col7\" class=\"data row23 col7\" >-72.3876</td>\n",
       "      <td id=\"T_0b37a_row23_col8\" class=\"data row23 col8\" >0.1067</td>\n",
       "    </tr>\n",
       "    <tr>\n",
       "      <th id=\"T_0b37a_level0_row24\" class=\"row_heading level0 row24\" >polytrend</th>\n",
       "      <td id=\"T_0b37a_row24_col0\" class=\"data row24 col0\" >Polynomial Trend Forecaster</td>\n",
       "      <td id=\"T_0b37a_row24_col1\" class=\"data row24 col1\" >0.8536</td>\n",
       "      <td id=\"T_0b37a_row24_col2\" class=\"data row24 col2\" >0.4836</td>\n",
       "      <td id=\"T_0b37a_row24_col3\" class=\"data row24 col3\" >75489050.0957</td>\n",
       "      <td id=\"T_0b37a_row24_col4\" class=\"data row24 col4\" >78211454.6391</td>\n",
       "      <td id=\"T_0b37a_row24_col5\" class=\"data row24 col5\" >0.1491</td>\n",
       "      <td id=\"T_0b37a_row24_col6\" class=\"data row24 col6\" >0.1369</td>\n",
       "      <td id=\"T_0b37a_row24_col7\" class=\"data row24 col7\" >-73.2572</td>\n",
       "      <td id=\"T_0b37a_row24_col8\" class=\"data row24 col8\" >0.0167</td>\n",
       "    </tr>\n",
       "    <tr>\n",
       "      <th id=\"T_0b37a_level0_row25\" class=\"row_heading level0 row25\" >par_cds_dt</th>\n",
       "      <td id=\"T_0b37a_row25_col0\" class=\"data row25 col0\" >Passive Aggressive w/ Cond. Deseasonalize & Detrending</td>\n",
       "      <td id=\"T_0b37a_row25_col1\" class=\"data row25 col1\" >0.9079</td>\n",
       "      <td id=\"T_0b37a_row25_col2\" class=\"data row25 col2\" >0.6098</td>\n",
       "      <td id=\"T_0b37a_row25_col3\" class=\"data row25 col3\" >88648436.4261</td>\n",
       "      <td id=\"T_0b37a_row25_col4\" class=\"data row25 col4\" >104713709.9369</td>\n",
       "      <td id=\"T_0b37a_row25_col5\" class=\"data row25 col5\" >0.1733</td>\n",
       "      <td id=\"T_0b37a_row25_col6\" class=\"data row25 col6\" >0.1741</td>\n",
       "      <td id=\"T_0b37a_row25_col7\" class=\"data row25 col7\" >-94.5311</td>\n",
       "      <td id=\"T_0b37a_row25_col8\" class=\"data row25 col8\" >0.1100</td>\n",
       "    </tr>\n",
       "    <tr>\n",
       "      <th id=\"T_0b37a_level0_row26\" class=\"row_heading level0 row26\" >catboost_cds_dt</th>\n",
       "      <td id=\"T_0b37a_row26_col0\" class=\"data row26 col0\" >CatBoost Regressor w/ Cond. Deseasonalize & Detrending</td>\n",
       "      <td id=\"T_0b37a_row26_col1\" class=\"data row26 col1\" >0.9670</td>\n",
       "      <td id=\"T_0b37a_row26_col2\" class=\"data row26 col2\" >0.6706</td>\n",
       "      <td id=\"T_0b37a_row26_col3\" class=\"data row26 col3\" >85529146.6605</td>\n",
       "      <td id=\"T_0b37a_row26_col4\" class=\"data row26 col4\" >108117490.8035</td>\n",
       "      <td id=\"T_0b37a_row26_col5\" class=\"data row26 col5\" >0.1689</td>\n",
       "      <td id=\"T_0b37a_row26_col6\" class=\"data row26 col6\" >0.1523</td>\n",
       "      <td id=\"T_0b37a_row26_col7\" class=\"data row26 col7\" >-151.9720</td>\n",
       "      <td id=\"T_0b37a_row26_col8\" class=\"data row26 col8\" >0.9267</td>\n",
       "    </tr>\n",
       "    <tr>\n",
       "      <th id=\"T_0b37a_level0_row27\" class=\"row_heading level0 row27\" >xgboost_cds_dt</th>\n",
       "      <td id=\"T_0b37a_row27_col0\" class=\"data row27 col0\" >Extreme Gradient Boosting w/ Cond. Deseasonalize & Detrending</td>\n",
       "      <td id=\"T_0b37a_row27_col1\" class=\"data row27 col1\" >1.4253</td>\n",
       "      <td id=\"T_0b37a_row27_col2\" class=\"data row27 col2\" >1.0928</td>\n",
       "      <td id=\"T_0b37a_row27_col3\" class=\"data row27 col3\" >124664388.3440</td>\n",
       "      <td id=\"T_0b37a_row27_col4\" class=\"data row27 col4\" >174694040.2767</td>\n",
       "      <td id=\"T_0b37a_row27_col5\" class=\"data row27 col5\" >0.2464</td>\n",
       "      <td id=\"T_0b37a_row27_col6\" class=\"data row27 col6\" >0.2030</td>\n",
       "      <td id=\"T_0b37a_row27_col7\" class=\"data row27 col7\" >-469.3917</td>\n",
       "      <td id=\"T_0b37a_row27_col8\" class=\"data row27 col8\" >0.1367</td>\n",
       "    </tr>\n",
       "    <tr>\n",
       "      <th id=\"T_0b37a_level0_row28\" class=\"row_heading level0 row28\" >grand_means</th>\n",
       "      <td id=\"T_0b37a_row28_col0\" class=\"data row28 col0\" >Grand Means Forecaster</td>\n",
       "      <td id=\"T_0b37a_row28_col1\" class=\"data row28 col1\" >1.8317</td>\n",
       "      <td id=\"T_0b37a_row28_col2\" class=\"data row28 col2\" >1.0216</td>\n",
       "      <td id=\"T_0b37a_row28_col3\" class=\"data row28 col3\" >169099534.1288</td>\n",
       "      <td id=\"T_0b37a_row28_col4\" class=\"data row28 col4\" >169486220.7286</td>\n",
       "      <td id=\"T_0b37a_row28_col5\" class=\"data row28 col5\" >0.3317</td>\n",
       "      <td id=\"T_0b37a_row28_col6\" class=\"data row28 col6\" >0.3991</td>\n",
       "      <td id=\"T_0b37a_row28_col7\" class=\"data row28 col7\" >-239.1487</td>\n",
       "      <td id=\"T_0b37a_row28_col8\" class=\"data row28 col8\" >0.0233</td>\n",
       "    </tr>\n",
       "  </tbody>\n",
       "</table>\n"
      ],
      "text/plain": [
       "<pandas.io.formats.style.Styler at 0x233362fac40>"
      ]
     },
     "metadata": {},
     "output_type": "display_data"
    }
   ],
   "source": [
    "best = compare_models()"
   ]
  },
  {
   "cell_type": "code",
   "execution_count": 106,
   "metadata": {},
   "outputs": [
    {
     "data": {
      "application/vnd.plotly.v1+json": {
       "config": {
        "plotlyServerURL": "https://plot.ly"
       },
       "data": [
        {
         "line": {
          "color": "#1f77b4"
         },
         "marker": {
          "size": 5
         },
         "mode": "lines+markers",
         "name": "Forecast | Seasonal Naive Forecaster",
         "showlegend": true,
         "type": "scatter",
         "x": [
          "2022-10-01T00:00:00",
          "2022-11-01T00:00:00",
          "2022-12-01T00:00:00",
          "2023-01-01T00:00:00",
          "2023-02-01T00:00:00",
          "2023-03-01T00:00:00"
         ],
         "y": [
          513277088,
          492987253,
          517798934,
          513277088,
          492987253,
          517798934
         ]
        },
        {
         "line": {
          "width": 0
         },
         "marker": {
          "color": "#68BBE3"
         },
         "mode": "lines",
         "name": "Lower Interval",
         "showlegend": false,
         "type": "scatter",
         "x": [
          "2022-10-01T00:00:00",
          "2022-11-01T00:00:00",
          "2022-12-01T00:00:00",
          "2023-01-01T00:00:00",
          "2023-02-01T00:00:00",
          "2023-03-01T00:00:00"
         ],
         "y": [
          274233599.6069,
          253943764.6069,
          278755445.6069,
          175218544.7175,
          154928709.7175,
          179740390.7175
         ]
        },
        {
         "fill": "tonexty",
         "fillcolor": "rgba(104,187,227,0.5)",
         "line": {
          "width": 0
         },
         "marker": {
          "color": "#68BBE3"
         },
         "mode": "lines",
         "name": "Prediction Interval | Seasonal Naive Forecaster",
         "showlegend": true,
         "type": "scatter",
         "x": [
          "2022-10-01T00:00:00",
          "2022-11-01T00:00:00",
          "2022-12-01T00:00:00",
          "2023-01-01T00:00:00",
          "2023-02-01T00:00:00",
          "2023-03-01T00:00:00"
         ],
         "y": [
          752320576.3931,
          732030741.3931,
          756842422.3931,
          851335631.2825,
          831045796.2825,
          855857477.2825
         ]
        },
        {
         "marker": {
          "color": "#3f3f3f",
          "size": 5
         },
         "mode": "lines+markers",
         "name": "Original",
         "showlegend": true,
         "type": "scatter",
         "x": [
          "2018-01-01T00:00:00",
          "2018-02-01T00:00:00",
          "2018-03-01T00:00:00",
          "2018-04-01T00:00:00",
          "2018-05-01T00:00:00",
          "2018-06-01T00:00:00",
          "2018-07-01T00:00:00",
          "2018-08-01T00:00:00",
          "2018-09-01T00:00:00",
          "2018-10-01T00:00:00",
          "2018-11-01T00:00:00",
          "2018-12-01T00:00:00",
          "2019-01-01T00:00:00",
          "2019-02-01T00:00:00",
          "2019-03-01T00:00:00",
          "2019-04-01T00:00:00",
          "2019-05-01T00:00:00",
          "2019-06-01T00:00:00",
          "2019-07-01T00:00:00",
          "2019-08-01T00:00:00",
          "2019-09-01T00:00:00",
          "2019-10-01T00:00:00",
          "2019-11-01T00:00:00",
          "2019-12-01T00:00:00",
          "2020-01-01T00:00:00",
          "2020-02-01T00:00:00",
          "2020-03-01T00:00:00",
          "2020-04-01T00:00:00",
          "2020-05-01T00:00:00",
          "2020-06-01T00:00:00",
          "2020-07-01T00:00:00",
          "2020-08-01T00:00:00",
          "2020-09-01T00:00:00",
          "2020-10-01T00:00:00",
          "2020-11-01T00:00:00",
          "2020-12-01T00:00:00",
          "2021-01-01T00:00:00",
          "2021-02-01T00:00:00",
          "2021-03-01T00:00:00",
          "2021-04-01T00:00:00",
          "2021-05-01T00:00:00",
          "2021-06-01T00:00:00",
          "2021-07-01T00:00:00",
          "2021-08-01T00:00:00",
          "2021-09-01T00:00:00",
          "2021-10-01T00:00:00",
          "2021-11-01T00:00:00",
          "2021-12-01T00:00:00",
          "2022-01-01T00:00:00",
          "2022-02-01T00:00:00",
          "2022-03-01T00:00:00",
          "2022-04-01T00:00:00",
          "2022-05-01T00:00:00",
          "2022-06-01T00:00:00",
          "2022-07-01T00:00:00",
          "2022-08-01T00:00:00",
          "2022-09-01T00:00:00",
          "2022-10-01T00:00:00",
          "2022-11-01T00:00:00",
          "2022-12-01T00:00:00",
          "2023-01-01T00:00:00",
          "2023-02-01T00:00:00",
          "2023-03-01T00:00:00"
         ],
         "y": [
          0,
          57325910,
          42296947,
          61992674,
          61996231,
          65869725,
          59566783,
          716875813,
          383317793,
          47533694,
          684396217,
          389652399,
          262925088,
          278974608,
          272861240,
          256070232,
          270001412,
          325134656,
          344855680,
          325921641,
          257241774,
          277725415,
          128587668,
          173884997,
          187124265,
          136051684,
          204643736,
          540076685,
          439566345,
          473287148,
          540500337,
          496497733,
          500396146,
          527134746,
          504652277,
          495877619,
          494978100,
          512574658,
          531997843,
          501229333,
          518504148,
          495966566,
          502024932,
          529046708,
          528230141,
          533539946,
          501738634,
          503100502,
          499051302,
          498265016,
          498163372,
          507086597,
          515110968,
          509020156,
          513277088,
          492987253,
          517798934,
          501044527,
          485318911,
          423495241,
          516162793,
          478651558,
          480967294
         ]
        }
       ],
       "layout": {
        "showlegend": true,
        "template": {
         "data": {
          "bar": [
           {
            "error_x": {
             "color": "rgb(51,51,51)"
            },
            "error_y": {
             "color": "rgb(51,51,51)"
            },
            "marker": {
             "line": {
              "color": "rgb(237,237,237)",
              "width": 0.5
             },
             "pattern": {
              "fillmode": "overlay",
              "size": 10,
              "solidity": 0.2
             }
            },
            "type": "bar"
           }
          ],
          "barpolar": [
           {
            "marker": {
             "line": {
              "color": "rgb(237,237,237)",
              "width": 0.5
             },
             "pattern": {
              "fillmode": "overlay",
              "size": 10,
              "solidity": 0.2
             }
            },
            "type": "barpolar"
           }
          ],
          "carpet": [
           {
            "aaxis": {
             "endlinecolor": "rgb(51,51,51)",
             "gridcolor": "white",
             "linecolor": "white",
             "minorgridcolor": "white",
             "startlinecolor": "rgb(51,51,51)"
            },
            "baxis": {
             "endlinecolor": "rgb(51,51,51)",
             "gridcolor": "white",
             "linecolor": "white",
             "minorgridcolor": "white",
             "startlinecolor": "rgb(51,51,51)"
            },
            "type": "carpet"
           }
          ],
          "choropleth": [
           {
            "colorbar": {
             "outlinewidth": 0,
             "tickcolor": "rgb(237,237,237)",
             "ticklen": 6,
             "ticks": "inside"
            },
            "type": "choropleth"
           }
          ],
          "contour": [
           {
            "colorbar": {
             "outlinewidth": 0,
             "tickcolor": "rgb(237,237,237)",
             "ticklen": 6,
             "ticks": "inside"
            },
            "colorscale": [
             [
              0,
              "rgb(20,44,66)"
             ],
             [
              1,
              "rgb(90,179,244)"
             ]
            ],
            "type": "contour"
           }
          ],
          "contourcarpet": [
           {
            "colorbar": {
             "outlinewidth": 0,
             "tickcolor": "rgb(237,237,237)",
             "ticklen": 6,
             "ticks": "inside"
            },
            "type": "contourcarpet"
           }
          ],
          "heatmap": [
           {
            "colorbar": {
             "outlinewidth": 0,
             "tickcolor": "rgb(237,237,237)",
             "ticklen": 6,
             "ticks": "inside"
            },
            "colorscale": [
             [
              0,
              "rgb(20,44,66)"
             ],
             [
              1,
              "rgb(90,179,244)"
             ]
            ],
            "type": "heatmap"
           }
          ],
          "heatmapgl": [
           {
            "colorbar": {
             "outlinewidth": 0,
             "tickcolor": "rgb(237,237,237)",
             "ticklen": 6,
             "ticks": "inside"
            },
            "colorscale": [
             [
              0,
              "rgb(20,44,66)"
             ],
             [
              1,
              "rgb(90,179,244)"
             ]
            ],
            "type": "heatmapgl"
           }
          ],
          "histogram": [
           {
            "marker": {
             "pattern": {
              "fillmode": "overlay",
              "size": 10,
              "solidity": 0.2
             }
            },
            "type": "histogram"
           }
          ],
          "histogram2d": [
           {
            "colorbar": {
             "outlinewidth": 0,
             "tickcolor": "rgb(237,237,237)",
             "ticklen": 6,
             "ticks": "inside"
            },
            "colorscale": [
             [
              0,
              "rgb(20,44,66)"
             ],
             [
              1,
              "rgb(90,179,244)"
             ]
            ],
            "type": "histogram2d"
           }
          ],
          "histogram2dcontour": [
           {
            "colorbar": {
             "outlinewidth": 0,
             "tickcolor": "rgb(237,237,237)",
             "ticklen": 6,
             "ticks": "inside"
            },
            "colorscale": [
             [
              0,
              "rgb(20,44,66)"
             ],
             [
              1,
              "rgb(90,179,244)"
             ]
            ],
            "type": "histogram2dcontour"
           }
          ],
          "mesh3d": [
           {
            "colorbar": {
             "outlinewidth": 0,
             "tickcolor": "rgb(237,237,237)",
             "ticklen": 6,
             "ticks": "inside"
            },
            "type": "mesh3d"
           }
          ],
          "parcoords": [
           {
            "line": {
             "colorbar": {
              "outlinewidth": 0,
              "tickcolor": "rgb(237,237,237)",
              "ticklen": 6,
              "ticks": "inside"
             }
            },
            "type": "parcoords"
           }
          ],
          "pie": [
           {
            "automargin": true,
            "type": "pie"
           }
          ],
          "scatter": [
           {
            "fillpattern": {
             "fillmode": "overlay",
             "size": 10,
             "solidity": 0.2
            },
            "type": "scatter"
           }
          ],
          "scatter3d": [
           {
            "line": {
             "colorbar": {
              "outlinewidth": 0,
              "tickcolor": "rgb(237,237,237)",
              "ticklen": 6,
              "ticks": "inside"
             }
            },
            "marker": {
             "colorbar": {
              "outlinewidth": 0,
              "tickcolor": "rgb(237,237,237)",
              "ticklen": 6,
              "ticks": "inside"
             }
            },
            "type": "scatter3d"
           }
          ],
          "scattercarpet": [
           {
            "marker": {
             "colorbar": {
              "outlinewidth": 0,
              "tickcolor": "rgb(237,237,237)",
              "ticklen": 6,
              "ticks": "inside"
             }
            },
            "type": "scattercarpet"
           }
          ],
          "scattergeo": [
           {
            "marker": {
             "colorbar": {
              "outlinewidth": 0,
              "tickcolor": "rgb(237,237,237)",
              "ticklen": 6,
              "ticks": "inside"
             }
            },
            "type": "scattergeo"
           }
          ],
          "scattergl": [
           {
            "marker": {
             "colorbar": {
              "outlinewidth": 0,
              "tickcolor": "rgb(237,237,237)",
              "ticklen": 6,
              "ticks": "inside"
             }
            },
            "type": "scattergl"
           }
          ],
          "scattermapbox": [
           {
            "marker": {
             "colorbar": {
              "outlinewidth": 0,
              "tickcolor": "rgb(237,237,237)",
              "ticklen": 6,
              "ticks": "inside"
             }
            },
            "type": "scattermapbox"
           }
          ],
          "scatterpolar": [
           {
            "marker": {
             "colorbar": {
              "outlinewidth": 0,
              "tickcolor": "rgb(237,237,237)",
              "ticklen": 6,
              "ticks": "inside"
             }
            },
            "type": "scatterpolar"
           }
          ],
          "scatterpolargl": [
           {
            "marker": {
             "colorbar": {
              "outlinewidth": 0,
              "tickcolor": "rgb(237,237,237)",
              "ticklen": 6,
              "ticks": "inside"
             }
            },
            "type": "scatterpolargl"
           }
          ],
          "scatterternary": [
           {
            "marker": {
             "colorbar": {
              "outlinewidth": 0,
              "tickcolor": "rgb(237,237,237)",
              "ticklen": 6,
              "ticks": "inside"
             }
            },
            "type": "scatterternary"
           }
          ],
          "surface": [
           {
            "colorbar": {
             "outlinewidth": 0,
             "tickcolor": "rgb(237,237,237)",
             "ticklen": 6,
             "ticks": "inside"
            },
            "colorscale": [
             [
              0,
              "rgb(20,44,66)"
             ],
             [
              1,
              "rgb(90,179,244)"
             ]
            ],
            "type": "surface"
           }
          ],
          "table": [
           {
            "cells": {
             "fill": {
              "color": "rgb(237,237,237)"
             },
             "line": {
              "color": "white"
             }
            },
            "header": {
             "fill": {
              "color": "rgb(217,217,217)"
             },
             "line": {
              "color": "white"
             }
            },
            "type": "table"
           }
          ]
         },
         "layout": {
          "annotationdefaults": {
           "arrowhead": 0,
           "arrowwidth": 1
          },
          "autotypenumbers": "strict",
          "coloraxis": {
           "colorbar": {
            "outlinewidth": 0,
            "tickcolor": "rgb(237,237,237)",
            "ticklen": 6,
            "ticks": "inside"
           }
          },
          "colorscale": {
           "sequential": [
            [
             0,
             "rgb(20,44,66)"
            ],
            [
             1,
             "rgb(90,179,244)"
            ]
           ],
           "sequentialminus": [
            [
             0,
             "rgb(20,44,66)"
            ],
            [
             1,
             "rgb(90,179,244)"
            ]
           ]
          },
          "colorway": [
           "#F8766D",
           "#A3A500",
           "#00BF7D",
           "#00B0F6",
           "#E76BF3"
          ],
          "font": {
           "color": "rgb(51,51,51)"
          },
          "geo": {
           "bgcolor": "white",
           "lakecolor": "white",
           "landcolor": "rgb(237,237,237)",
           "showlakes": true,
           "showland": true,
           "subunitcolor": "white"
          },
          "hoverlabel": {
           "align": "left"
          },
          "hovermode": "closest",
          "paper_bgcolor": "white",
          "plot_bgcolor": "rgb(237,237,237)",
          "polar": {
           "angularaxis": {
            "gridcolor": "white",
            "linecolor": "white",
            "showgrid": true,
            "tickcolor": "rgb(51,51,51)",
            "ticks": "outside"
           },
           "bgcolor": "rgb(237,237,237)",
           "radialaxis": {
            "gridcolor": "white",
            "linecolor": "white",
            "showgrid": true,
            "tickcolor": "rgb(51,51,51)",
            "ticks": "outside"
           }
          },
          "scene": {
           "xaxis": {
            "backgroundcolor": "rgb(237,237,237)",
            "gridcolor": "white",
            "gridwidth": 2,
            "linecolor": "white",
            "showbackground": true,
            "showgrid": true,
            "tickcolor": "rgb(51,51,51)",
            "ticks": "outside",
            "zerolinecolor": "white"
           },
           "yaxis": {
            "backgroundcolor": "rgb(237,237,237)",
            "gridcolor": "white",
            "gridwidth": 2,
            "linecolor": "white",
            "showbackground": true,
            "showgrid": true,
            "tickcolor": "rgb(51,51,51)",
            "ticks": "outside",
            "zerolinecolor": "white"
           },
           "zaxis": {
            "backgroundcolor": "rgb(237,237,237)",
            "gridcolor": "white",
            "gridwidth": 2,
            "linecolor": "white",
            "showbackground": true,
            "showgrid": true,
            "tickcolor": "rgb(51,51,51)",
            "ticks": "outside",
            "zerolinecolor": "white"
           }
          },
          "shapedefaults": {
           "fillcolor": "black",
           "line": {
            "width": 0
           },
           "opacity": 0.3
          },
          "ternary": {
           "aaxis": {
            "gridcolor": "white",
            "linecolor": "white",
            "showgrid": true,
            "tickcolor": "rgb(51,51,51)",
            "ticks": "outside"
           },
           "baxis": {
            "gridcolor": "white",
            "linecolor": "white",
            "showgrid": true,
            "tickcolor": "rgb(51,51,51)",
            "ticks": "outside"
           },
           "bgcolor": "rgb(237,237,237)",
           "caxis": {
            "gridcolor": "white",
            "linecolor": "white",
            "showgrid": true,
            "tickcolor": "rgb(51,51,51)",
            "ticks": "outside"
           }
          },
          "xaxis": {
           "automargin": true,
           "gridcolor": "white",
           "linecolor": "white",
           "showgrid": true,
           "tickcolor": "rgb(51,51,51)",
           "ticks": "outside",
           "title": {
            "standoff": 15
           },
           "zerolinecolor": "white"
          },
          "yaxis": {
           "automargin": true,
           "gridcolor": "white",
           "linecolor": "white",
           "showgrid": true,
           "tickcolor": "rgb(51,51,51)",
           "ticks": "outside",
           "title": {
            "standoff": 15
           },
           "zerolinecolor": "white"
          }
         }
        },
        "title": {
         "text": "Actual vs. 'Out-of-Sample' Forecast | Ventas"
        },
        "xaxis": {
         "title": {
          "text": "Time"
         }
        },
        "yaxis": {
         "title": {
          "text": "Values"
         }
        }
       }
      }
     },
     "metadata": {},
     "output_type": "display_data"
    }
   ],
   "source": [
    "plot_model(best, plot = 'forecast')"
   ]
  },
  {
   "cell_type": "code",
   "execution_count": 107,
   "metadata": {},
   "outputs": [
    {
     "data": {
      "application/vnd.plotly.v1+json": {
       "config": {
        "plotlyServerURL": "https://plot.ly"
       },
       "data": [
        {
         "line": {
          "color": "rgb(31, 119, 180)",
          "width": 2
         },
         "marker": {
          "color": "rgb(31, 119, 180)",
          "size": 5
         },
         "mode": "lines+markers",
         "name": "Seasonal Naive Forecaster",
         "showlegend": false,
         "type": "scattergl",
         "x": [
          "2018-01-01T00:00:00",
          "2018-04-01T00:00:00",
          "2018-05-01T00:00:00",
          "2018-06-01T00:00:00",
          "2018-07-01T00:00:00",
          "2018-08-01T00:00:00",
          "2018-09-01T00:00:00",
          "2018-10-01T00:00:00",
          "2018-11-01T00:00:00",
          "2018-12-01T00:00:00",
          "2019-01-01T00:00:00",
          "2019-02-01T00:00:00",
          "2019-03-01T00:00:00",
          "2019-04-01T00:00:00",
          "2019-05-01T00:00:00",
          "2019-06-01T00:00:00",
          "2019-07-01T00:00:00",
          "2019-08-01T00:00:00",
          "2019-09-01T00:00:00",
          "2019-10-01T00:00:00",
          "2019-11-01T00:00:00",
          "2019-12-01T00:00:00",
          "2020-01-01T00:00:00",
          "2020-02-01T00:00:00",
          "2020-03-01T00:00:00",
          "2020-04-01T00:00:00",
          "2020-05-01T00:00:00",
          "2020-06-01T00:00:00",
          "2020-07-01T00:00:00",
          "2020-08-01T00:00:00",
          "2020-09-01T00:00:00",
          "2020-10-01T00:00:00",
          "2020-11-01T00:00:00",
          "2020-12-01T00:00:00",
          "2021-01-01T00:00:00",
          "2021-02-01T00:00:00",
          "2021-03-01T00:00:00",
          "2021-04-01T00:00:00",
          "2021-05-01T00:00:00",
          "2021-06-01T00:00:00",
          "2021-07-01T00:00:00",
          "2021-08-01T00:00:00",
          "2021-09-01T00:00:00",
          "2021-10-01T00:00:00",
          "2021-11-01T00:00:00",
          "2021-12-01T00:00:00",
          "2022-01-01T00:00:00",
          "2022-02-01T00:00:00",
          "2022-03-01T00:00:00",
          "2022-04-01T00:00:00",
          "2022-05-01T00:00:00",
          "2022-06-01T00:00:00",
          "2022-07-01T00:00:00",
          "2022-08-01T00:00:00",
          "2022-09-01T00:00:00"
         ],
         "xaxis": "x",
         "y": [
          -57325910,
          61992674,
          4670321,
          23572778,
          -2425891,
          654879582,
          317448068,
          -12033089,
          -32479596,
          6334606,
          215391394,
          -405421609,
          -116791159,
          -6854856,
          -8973196,
          52273416,
          88785448,
          55920229,
          -67892882,
          -67130265,
          -197333973,
          -83356777,
          -90601150,
          7464016,
          30758739,
          352952420,
          303514661,
          268643412,
          423652,
          56931388,
          27108998,
          -13365591,
          8154544,
          -4518527,
          -32156646,
          7922381,
          36120224,
          6251233,
          5929490,
          -36031277,
          795599,
          10542560,
          32263575,
          31515014,
          -27308074,
          -25129639,
          -34488644,
          -3473618,
          -4937130,
          8035295,
          16845952,
          10856784,
          6190491,
          -22123715,
          8778778
         ],
         "yaxis": "y"
        },
        {
         "hoverinfo": "text",
         "hovertext": [
          "Freq: 0.0182<br>Ampl: 164.1246<br>Time period: 55.0",
          "Freq: 0.0364<br>Ampl: 169.8281<br>Time period: 27.5",
          "Freq: 0.0545<br>Ampl: 171.257<br>Time period: 18.3333",
          "Freq: 0.0727<br>Ampl: 171.9127<br>Time period: 13.75",
          "Freq: 0.0909<br>Ampl: 172.606<br>Time period: 11.0",
          "Freq: 0.1091<br>Ampl: 171.7577<br>Time period: 9.1667",
          "Freq: 0.1273<br>Ampl: 168.3912<br>Time period: 7.8571",
          "Freq: 0.1455<br>Ampl: 163.3977<br>Time period: 6.875",
          "Freq: 0.1636<br>Ampl: 162.6753<br>Time period: 6.1111",
          "Freq: 0.1818<br>Ampl: 164.9281<br>Time period: 5.5",
          "Freq: 0.2<br>Ampl: 163.6782<br>Time period: 5.0",
          "Freq: 0.2182<br>Ampl: 161.3499<br>Time period: 4.5833",
          "Freq: 0.2364<br>Ampl: 162.4192<br>Time period: 4.2308",
          "Freq: 0.2545<br>Ampl: 161.3991<br>Time period: 3.9286",
          "Freq: 0.2727<br>Ampl: 156.555<br>Time period: 3.6667",
          "Freq: 0.2909<br>Ampl: 159.0462<br>Time period: 3.4375",
          "Freq: 0.3091<br>Ampl: 159.0347<br>Time period: 3.2353",
          "Freq: 0.3273<br>Ampl: 147.6187<br>Time period: 3.0556",
          "Freq: 0.3455<br>Ampl: 153.4763<br>Time period: 2.8947",
          "Freq: 0.3636<br>Ampl: 155.5334<br>Time period: 2.75",
          "Freq: 0.3818<br>Ampl: 151.8223<br>Time period: 2.619",
          "Freq: 0.4<br>Ampl: 156.3119<br>Time period: 2.5",
          "Freq: 0.4182<br>Ampl: 153.2218<br>Time period: 2.3913",
          "Freq: 0.4364<br>Ampl: 153.5308<br>Time period: 2.2917",
          "Freq: 0.4545<br>Ampl: 162.3662<br>Time period: 2.2",
          "Freq: 0.4727<br>Ampl: 164.2317<br>Time period: 2.1154",
          "Freq: 0.4909<br>Ampl: 163.2542<br>Time period: 2.037"
         ],
         "line": {
          "color": "#1f77b4",
          "width": 2
         },
         "marker": {
          "size": 5
         },
         "mode": "lines+markers",
         "name": "Seasonal Naive Forecaster",
         "showlegend": false,
         "type": "scattergl",
         "x": [
          0.01818181818181818,
          0.03636363636363636,
          0.05454545454545454,
          0.07272727272727272,
          0.09090909090909091,
          0.10909090909090909,
          0.12727272727272726,
          0.14545454545454545,
          0.16363636363636364,
          0.18181818181818182,
          0.19999999999999998,
          0.21818181818181817,
          0.23636363636363636,
          0.2545454545454545,
          0.2727272727272727,
          0.2909090909090909,
          0.3090909090909091,
          0.32727272727272727,
          0.34545454545454546,
          0.36363636363636365,
          0.3818181818181818,
          0.39999999999999997,
          0.41818181818181815,
          0.43636363636363634,
          0.45454545454545453,
          0.4727272727272727,
          0.4909090909090909
         ],
         "xaxis": "x2",
         "y": [
          164.12458254216136,
          169.82806264638157,
          171.25701531726202,
          171.91270712286507,
          172.60598928237243,
          171.7577238083503,
          168.39115990390806,
          163.3976900127809,
          162.67526367233148,
          164.92806501196884,
          163.67824791895913,
          161.34994774245382,
          162.4191968341901,
          161.39905778876482,
          156.55499048573748,
          159.0462081782479,
          159.03472718483857,
          147.61866861508372,
          153.4763393617207,
          155.5333632928126,
          151.8222823148201,
          156.3119229764189,
          153.22181548451567,
          153.5307876039272,
          162.36622695539992,
          164.23171321013325,
          163.25422169039877
         ],
         "yaxis": "y2"
        },
        {
         "alignmentgroup": "True",
         "bingroup": "x",
         "hovertemplate": "variable=Seasonal Naive Forecaster<br>value=%{x}<br>count=%{y}<extra></extra>",
         "legendgroup": "Seasonal Naive Forecaster",
         "marker": {
          "color": "#1f77b4",
          "pattern": {
           "shape": ""
          }
         },
         "name": "Seasonal Naive Forecaster",
         "offsetgroup": "Seasonal Naive Forecaster",
         "orientation": "v",
         "showlegend": false,
         "type": "histogram",
         "x": [
          -57325910,
          61992674,
          4670321,
          23572778,
          -2425891,
          654879582,
          317448068,
          -12033089,
          -32479596,
          6334606,
          215391394,
          -405421609,
          -116791159,
          -6854856,
          -8973196,
          52273416,
          88785448,
          55920229,
          -67892882,
          -67130265,
          -197333973,
          -83356777,
          -90601150,
          7464016,
          30758739,
          352952420,
          303514661,
          268643412,
          423652,
          56931388,
          27108998,
          -13365591,
          8154544,
          -4518527,
          -32156646,
          7922381,
          36120224,
          6251233,
          5929490,
          -36031277,
          795599,
          10542560,
          32263575,
          31515014,
          -27308074,
          -25129639,
          -34488644,
          -3473618,
          -4937130,
          8035295,
          16845952,
          10856784,
          6190491,
          -22123715,
          8778778
         ],
         "xaxis": "x3",
         "yaxis": "y3"
        },
        {
         "marker": {
          "color": "#1f77b4"
         },
         "mode": "markers",
         "name": "Seasonal Naive Forecaster",
         "showlegend": false,
         "type": "scattergl",
         "x": [
          -2.1001654928444697,
          -1.8027430907391904,
          -1.6111691623526774,
          -1.465233792685523,
          -1.3451666341766395,
          -1.2418667918433202,
          -1.1503493803760079,
          -1.0675705238781414,
          -0.9915264746773306,
          -0.9208229763683788,
          -0.8544473986959894,
          -0.7916386077433746,
          -0.7318080838596176,
          -0.6744897501960817,
          -0.6193067695087762,
          -0.5659488219328631,
          -0.5141561007445341,
          -0.463707751457179,
          -0.4144133296000765,
          -0.36610635680056963,
          -0.31863936396437514,
          -0.2718800053992609,
          -0.22570795386015938,
          -0.1800123697927051,
          -0.13468979400891956,
          -0.08964235107576254,
          -0.04477617669551624,
          0,
          0.04477617669551638,
          0.08964235107576254,
          0.1346897940089197,
          0.18001236979270496,
          0.22570795386015938,
          0.27188000539926077,
          0.31863936396437514,
          0.3661063568005698,
          0.4144133296000765,
          0.4637077514571792,
          0.514156100744534,
          0.5659488219328631,
          0.619306769508776,
          0.6744897501960817,
          0.7318080838596178,
          0.7916386077433746,
          0.8544473986959894,
          0.9208229763683788,
          0.9915264746773306,
          1.0675705238781412,
          1.1503493803760079,
          1.2418667918433206,
          1.3451666341766395,
          1.465233792685523,
          1.6111691623526765,
          1.8027430907391908,
          2.100165492844469
         ],
         "xaxis": "x4",
         "y": [
          -405421609,
          -197333973,
          -116791159,
          -90601150,
          -83356777,
          -67892882,
          -67130265,
          -57325910,
          -36031277,
          -34488644,
          -32479596,
          -32156646,
          -27308074,
          -25129639,
          -22123715,
          -13365591,
          -12033089,
          -8973196,
          -6854856,
          -4937130,
          -4518527,
          -3473618,
          -2425891,
          423652,
          795599,
          4670321,
          5929490,
          6190491,
          6251233,
          6334606,
          7464016,
          7922381,
          8035295,
          8154544,
          8778778,
          10542560,
          10856784,
          16845952,
          23572778,
          27108998,
          30758739,
          31515014,
          32263575,
          36120224,
          52273416,
          55920229,
          56931388,
          61992674,
          88785448,
          215391394,
          268643412,
          303514661,
          317448068,
          352952420,
          654879582
         ],
         "yaxis": "y4"
        },
        {
         "line": {
          "color": "#3f3f3f"
         },
         "mode": "lines",
         "name": "Seasonal Naive Forecaster",
         "showlegend": false,
         "type": "scattergl",
         "x": [
          -2.1001654928444697,
          -1.8027430907391904,
          -1.6111691623526774,
          -1.465233792685523,
          -1.3451666341766395,
          -1.2418667918433202,
          -1.1503493803760079,
          -1.0675705238781414,
          -0.9915264746773306,
          -0.9208229763683788,
          -0.8544473986959894,
          -0.7916386077433746,
          -0.7318080838596176,
          -0.6744897501960817,
          -0.6193067695087762,
          -0.5659488219328631,
          -0.5141561007445341,
          -0.463707751457179,
          -0.4144133296000765,
          -0.36610635680056963,
          -0.31863936396437514,
          -0.2718800053992609,
          -0.22570795386015938,
          -0.1800123697927051,
          -0.13468979400891956,
          -0.08964235107576254,
          -0.04477617669551624,
          0,
          0.04477617669551638,
          0.08964235107576254,
          0.1346897940089197,
          0.18001236979270496,
          0.22570795386015938,
          0.27188000539926077,
          0.31863936396437514,
          0.3661063568005698,
          0.4144133296000765,
          0.4637077514571792,
          0.514156100744534,
          0.5659488219328631,
          0.619306769508776,
          0.6744897501960817,
          0.7318080838596178,
          0.7916386077433746,
          0.8544473986959894,
          0.9208229763683788,
          0.9915264746773306,
          1.0675705238781412,
          1.1503493803760079,
          1.2418667918433206,
          1.3451666341766395,
          1.465233792685523,
          1.6111691623526765,
          1.8027430907391908,
          2.100165492844469
         ],
         "xaxis": "x4",
         "y": [
          -273471540.6829754,
          -231222736.63651988,
          -204009691.13786063,
          -183279595.51334807,
          -166224075.09407267,
          -151550349.22178507,
          -138550315.74564937,
          -126791592.58756636,
          -115989547.71521388,
          -105946127.23205729,
          -96517487.17434424,
          -87595508.59247363,
          -79096592.36535342,
          -70954532.35212384,
          -63115798.88331117,
          -55536311.07237676,
          -48179163.41628371,
          -41012983.57098019,
          -34010718.93024595,
          -27148721.26820906,
          -20406042.62391169,
          -13763883.313207913,
          -7205150.870424911,
          -714100.5548174158,
          5723963.994509947,
          12122945.966967957,
          18496178.770844515,
          24856627.418181818,
          31217076.06551914,
          37590308.86939568,
          43989290.84185371,
          50427355.39118104,
          56918405.70678855,
          63477138.14957152,
          70119297.46027532,
          76861976.10457271,
          83723973.76660958,
          90726238.40734386,
          97892418.25264734,
          105249565.9087404,
          112829053.71967478,
          120667787.18848749,
          128809847.2017171,
          137308763.42883727,
          146230742.01070789,
          155659382.06842092,
          165702802.5515775,
          176504847.42392996,
          188263570.58201298,
          201263604.05814874,
          215937329.93043628,
          232992850.3497117,
          253722945.9742241,
          280935991.4728836,
          323184795.51933897
         ],
         "yaxis": "y4"
        },
        {
         "line": {
          "color": "#3f3f3f"
         },
         "mode": "lines",
         "name": "ACF",
         "showlegend": false,
         "type": "scattergl",
         "x": [
          0,
          0
         ],
         "xaxis": "x5",
         "y": [
          0,
          1
         ],
         "yaxis": "y5"
        },
        {
         "line": {
          "color": "#3f3f3f"
         },
         "mode": "lines",
         "name": "ACF",
         "showlegend": false,
         "type": "scattergl",
         "x": [
          1,
          1
         ],
         "xaxis": "x5",
         "y": [
          0,
          0.33852994072188647
         ],
         "yaxis": "y5"
        },
        {
         "line": {
          "color": "#3f3f3f"
         },
         "mode": "lines",
         "name": "ACF",
         "showlegend": false,
         "type": "scattergl",
         "x": [
          2,
          2
         ],
         "xaxis": "x5",
         "y": [
          0,
          0.0688700292696002
         ],
         "yaxis": "y5"
        },
        {
         "line": {
          "color": "#3f3f3f"
         },
         "mode": "lines",
         "name": "ACF",
         "showlegend": false,
         "type": "scattergl",
         "x": [
          3,
          3
         ],
         "xaxis": "x5",
         "y": [
          0,
          -0.049745985479111035
         ],
         "yaxis": "y5"
        },
        {
         "line": {
          "color": "#3f3f3f"
         },
         "mode": "lines",
         "name": "ACF",
         "showlegend": false,
         "type": "scattergl",
         "x": [
          4,
          4
         ],
         "xaxis": "x5",
         "y": [
          0,
          -0.00583150650538622
         ],
         "yaxis": "y5"
        },
        {
         "line": {
          "color": "#3f3f3f"
         },
         "mode": "lines",
         "name": "ACF",
         "showlegend": false,
         "type": "scattergl",
         "x": [
          5,
          5
         ],
         "xaxis": "x5",
         "y": [
          0,
          -0.1861871174605127
         ],
         "yaxis": "y5"
        },
        {
         "line": {
          "color": "#3f3f3f"
         },
         "mode": "lines",
         "name": "ACF",
         "showlegend": false,
         "type": "scattergl",
         "x": [
          6,
          6
         ],
         "xaxis": "x5",
         "y": [
          0,
          -0.4092051237180309
         ],
         "yaxis": "y5"
        },
        {
         "line": {
          "color": "#3f3f3f"
         },
         "mode": "lines",
         "name": "ACF",
         "showlegend": false,
         "type": "scattergl",
         "x": [
          7,
          7
         ],
         "xaxis": "x5",
         "y": [
          0,
          -0.13118967302105738
         ],
         "yaxis": "y5"
        },
        {
         "line": {
          "color": "#3f3f3f"
         },
         "mode": "lines",
         "name": "ACF",
         "showlegend": false,
         "type": "scattergl",
         "x": [
          8,
          8
         ],
         "xaxis": "x5",
         "y": [
          0,
          -0.022897841989176406
         ],
         "yaxis": "y5"
        },
        {
         "line": {
          "color": "#3f3f3f"
         },
         "mode": "lines",
         "name": "ACF",
         "showlegend": false,
         "type": "scattergl",
         "x": [
          9,
          9
         ],
         "xaxis": "x5",
         "y": [
          0,
          0.08449739366261372
         ],
         "yaxis": "y5"
        },
        {
         "line": {
          "color": "#3f3f3f"
         },
         "mode": "lines",
         "name": "ACF",
         "showlegend": false,
         "type": "scattergl",
         "x": [
          10,
          10
         ],
         "xaxis": "x5",
         "y": [
          0,
          0.06504548977500106
         ],
         "yaxis": "y5"
        },
        {
         "line": {
          "color": "#3f3f3f"
         },
         "mode": "lines",
         "name": "ACF",
         "showlegend": false,
         "type": "scattergl",
         "x": [
          11,
          11
         ],
         "xaxis": "x5",
         "y": [
          0,
          0.13253014100247845
         ],
         "yaxis": "y5"
        },
        {
         "line": {
          "color": "#3f3f3f"
         },
         "mode": "lines",
         "name": "ACF",
         "showlegend": false,
         "type": "scattergl",
         "x": [
          12,
          12
         ],
         "xaxis": "x5",
         "y": [
          0,
          -0.00912864131873299
         ],
         "yaxis": "y5"
        },
        {
         "line": {
          "color": "#3f3f3f"
         },
         "mode": "lines",
         "name": "ACF",
         "showlegend": false,
         "type": "scattergl",
         "x": [
          13,
          13
         ],
         "xaxis": "x5",
         "y": [
          0,
          -0.12299779237901878
         ],
         "yaxis": "y5"
        },
        {
         "line": {
          "color": "#3f3f3f"
         },
         "mode": "lines",
         "name": "ACF",
         "showlegend": false,
         "type": "scattergl",
         "x": [
          14,
          14
         ],
         "xaxis": "x5",
         "y": [
          0,
          -0.267368197889109
         ],
         "yaxis": "y5"
        },
        {
         "line": {
          "color": "#3f3f3f"
         },
         "mode": "lines",
         "name": "ACF",
         "showlegend": false,
         "type": "scattergl",
         "x": [
          15,
          15
         ],
         "xaxis": "x5",
         "y": [
          0,
          -0.22718835512306262
         ],
         "yaxis": "y5"
        },
        {
         "line": {
          "color": "#3f3f3f"
         },
         "mode": "lines",
         "name": "ACF",
         "showlegend": false,
         "type": "scattergl",
         "x": [
          16,
          16
         ],
         "xaxis": "x5",
         "y": [
          0,
          -0.1302216334061312
         ],
         "yaxis": "y5"
        },
        {
         "line": {
          "color": "#3f3f3f"
         },
         "mode": "lines",
         "name": "ACF",
         "showlegend": false,
         "type": "scattergl",
         "x": [
          17,
          17
         ],
         "xaxis": "x5",
         "y": [
          0,
          -0.041401032373901324
         ],
         "yaxis": "y5"
        },
        {
         "line": {
          "color": "#3f3f3f"
         },
         "mode": "lines",
         "name": "ACF",
         "showlegend": false,
         "type": "scattergl",
         "x": [
          18,
          18
         ],
         "xaxis": "x5",
         "y": [
          0,
          -0.052699407749086886
         ],
         "yaxis": "y5"
        },
        {
         "line": {
          "color": "#3f3f3f"
         },
         "mode": "lines",
         "name": "ACF",
         "showlegend": false,
         "type": "scattergl",
         "x": [
          19,
          19
         ],
         "xaxis": "x5",
         "y": [
          0,
          0.060551052335190814
         ],
         "yaxis": "y5"
        },
        {
         "line": {
          "color": "#3f3f3f"
         },
         "mode": "lines",
         "name": "ACF",
         "showlegend": false,
         "type": "scattergl",
         "x": [
          20,
          20
         ],
         "xaxis": "x5",
         "y": [
          0,
          0.26555260411379306
         ],
         "yaxis": "y5"
        },
        {
         "line": {
          "color": "#3f3f3f"
         },
         "mode": "lines",
         "name": "ACF",
         "showlegend": false,
         "type": "scattergl",
         "x": [
          21,
          21
         ],
         "xaxis": "x5",
         "y": [
          0,
          0.20222918536031048
         ],
         "yaxis": "y5"
        },
        {
         "line": {
          "color": "#3f3f3f"
         },
         "mode": "lines",
         "name": "ACF",
         "showlegend": false,
         "type": "scattergl",
         "x": [
          22,
          22
         ],
         "xaxis": "x5",
         "y": [
          0,
          0.13372700463061665
         ],
         "yaxis": "y5"
        },
        {
         "line": {
          "color": "#3f3f3f"
         },
         "mode": "lines",
         "name": "ACF",
         "showlegend": false,
         "type": "scattergl",
         "x": [
          23,
          23
         ],
         "xaxis": "x5",
         "y": [
          0,
          -0.0034626519133801425
         ],
         "yaxis": "y5"
        },
        {
         "line": {
          "color": "#3f3f3f"
         },
         "mode": "lines",
         "name": "ACF",
         "showlegend": false,
         "type": "scattergl",
         "x": [
          24,
          24
         ],
         "xaxis": "x5",
         "y": [
          0,
          0.029942420572417684
         ],
         "yaxis": "y5"
        },
        {
         "line": {
          "color": "#3f3f3f"
         },
         "mode": "lines",
         "name": "ACF",
         "showlegend": false,
         "type": "scattergl",
         "x": [
          25,
          25
         ],
         "xaxis": "x5",
         "y": [
          0,
          -0.01618248130935723
         ],
         "yaxis": "y5"
        },
        {
         "line": {
          "color": "#3f3f3f"
         },
         "mode": "lines",
         "name": "ACF",
         "showlegend": false,
         "type": "scattergl",
         "x": [
          26,
          26
         ],
         "xaxis": "x5",
         "y": [
          0,
          -0.01205181152021146
         ],
         "yaxis": "y5"
        },
        {
         "line": {
          "color": "#3f3f3f"
         },
         "mode": "lines",
         "name": "ACF",
         "showlegend": false,
         "type": "scattergl",
         "x": [
          27,
          27
         ],
         "xaxis": "x5",
         "y": [
          0,
          -0.0223872233849642
         ],
         "yaxis": "y5"
        },
        {
         "line": {
          "color": "#3f3f3f"
         },
         "mode": "lines",
         "name": "ACF",
         "showlegend": false,
         "type": "scattergl",
         "x": [
          28,
          28
         ],
         "xaxis": "x5",
         "y": [
          0,
          -0.010806818044539979
         ],
         "yaxis": "y5"
        },
        {
         "line": {
          "color": "#3f3f3f"
         },
         "mode": "lines",
         "name": "ACF",
         "showlegend": false,
         "type": "scattergl",
         "x": [
          29,
          29
         ],
         "xaxis": "x5",
         "y": [
          0,
          -0.036600663239748844
         ],
         "yaxis": "y5"
        },
        {
         "line": {
          "color": "#3f3f3f"
         },
         "mode": "lines",
         "name": "ACF",
         "showlegend": false,
         "type": "scattergl",
         "x": [
          30,
          30
         ],
         "xaxis": "x5",
         "y": [
          0,
          0.0021349130606953736
         ],
         "yaxis": "y5"
        },
        {
         "line": {
          "color": "#3f3f3f"
         },
         "mode": "lines",
         "name": "ACF",
         "showlegend": false,
         "type": "scattergl",
         "x": [
          31,
          31
         ],
         "xaxis": "x5",
         "y": [
          0,
          0.013689124048516563
         ],
         "yaxis": "y5"
        },
        {
         "line": {
          "color": "#3f3f3f"
         },
         "mode": "lines",
         "name": "ACF",
         "showlegend": false,
         "type": "scattergl",
         "x": [
          32,
          32
         ],
         "xaxis": "x5",
         "y": [
          0,
          0.006506390564741339
         ],
         "yaxis": "y5"
        },
        {
         "line": {
          "color": "#3f3f3f"
         },
         "mode": "lines",
         "name": "ACF",
         "showlegend": false,
         "type": "scattergl",
         "x": [
          33,
          33
         ],
         "xaxis": "x5",
         "y": [
          0,
          0.01770666572542396
         ],
         "yaxis": "y5"
        },
        {
         "line": {
          "color": "#3f3f3f"
         },
         "mode": "lines",
         "name": "ACF",
         "showlegend": false,
         "type": "scattergl",
         "x": [
          34,
          34
         ],
         "xaxis": "x5",
         "y": [
          0,
          -0.009869372226685482
         ],
         "yaxis": "y5"
        },
        {
         "line": {
          "color": "#3f3f3f"
         },
         "mode": "lines",
         "name": "ACF",
         "showlegend": false,
         "type": "scattergl",
         "x": [
          35,
          35
         ],
         "xaxis": "x5",
         "y": [
          0,
          0.009474319652926869
         ],
         "yaxis": "y5"
        },
        {
         "line": {
          "color": "#3f3f3f"
         },
         "mode": "lines",
         "name": "ACF",
         "showlegend": false,
         "type": "scattergl",
         "x": [
          36,
          36
         ],
         "xaxis": "x5",
         "y": [
          0,
          0.0006146596292961382
         ],
         "yaxis": "y5"
        },
        {
         "line": {
          "color": "#3f3f3f"
         },
         "mode": "lines",
         "name": "ACF",
         "showlegend": false,
         "type": "scattergl",
         "x": [
          37,
          37
         ],
         "xaxis": "x5",
         "y": [
          0,
          0.01937146559459686
         ],
         "yaxis": "y5"
        },
        {
         "line": {
          "color": "#3f3f3f"
         },
         "mode": "lines",
         "name": "ACF",
         "showlegend": false,
         "type": "scattergl",
         "x": [
          38,
          38
         ],
         "xaxis": "x5",
         "y": [
          0,
          -0.0038249977330138273
         ],
         "yaxis": "y5"
        },
        {
         "line": {
          "color": "#3f3f3f"
         },
         "mode": "lines",
         "name": "ACF",
         "showlegend": false,
         "type": "scattergl",
         "x": [
          39,
          39
         ],
         "xaxis": "x5",
         "y": [
          0,
          -0.031493676809309486
         ],
         "yaxis": "y5"
        },
        {
         "line": {
          "color": "#3f3f3f"
         },
         "mode": "lines",
         "name": "ACF",
         "showlegend": false,
         "type": "scattergl",
         "x": [
          40,
          40
         ],
         "xaxis": "x5",
         "y": [
          0,
          -0.03055084653230535
         ],
         "yaxis": "y5"
        },
        {
         "marker": {
          "color": "#1f77b4",
          "size": 6
         },
         "mode": "markers",
         "name": "ACF",
         "showlegend": false,
         "type": "scattergl",
         "x": [
          0,
          1,
          2,
          3,
          4,
          5,
          6,
          7,
          8,
          9,
          10,
          11,
          12,
          13,
          14,
          15,
          16,
          17,
          18,
          19,
          20,
          21,
          22,
          23,
          24,
          25,
          26,
          27,
          28,
          29,
          30,
          31,
          32,
          33,
          34,
          35,
          36,
          37,
          38,
          39,
          40
         ],
         "xaxis": "x5",
         "y": [
          1,
          0.33852994072188647,
          0.0688700292696002,
          -0.049745985479111035,
          -0.00583150650538622,
          -0.1861871174605127,
          -0.4092051237180309,
          -0.13118967302105738,
          -0.022897841989176406,
          0.08449739366261372,
          0.06504548977500106,
          0.13253014100247845,
          -0.00912864131873299,
          -0.12299779237901878,
          -0.267368197889109,
          -0.22718835512306262,
          -0.1302216334061312,
          -0.041401032373901324,
          -0.052699407749086886,
          0.060551052335190814,
          0.26555260411379306,
          0.20222918536031048,
          0.13372700463061665,
          -0.0034626519133801425,
          0.029942420572417684,
          -0.01618248130935723,
          -0.01205181152021146,
          -0.0223872233849642,
          -0.010806818044539979,
          -0.036600663239748844,
          0.0021349130606953736,
          0.013689124048516563,
          0.006506390564741339,
          0.01770666572542396,
          -0.009869372226685482,
          0.009474319652926869,
          0.0006146596292961382,
          0.01937146559459686,
          -0.0038249977330138273,
          -0.031493676809309486,
          -0.03055084653230535
         ],
         "yaxis": "y5"
        },
        {
         "line": {
          "color": "rgba(255,255,255,0)"
         },
         "mode": "lines",
         "name": "UC",
         "showlegend": false,
         "type": "scatter",
         "x": [
          0,
          1,
          2,
          3,
          4,
          5,
          6,
          7,
          8,
          9,
          10,
          11,
          12,
          13,
          14,
          15,
          16,
          17,
          18,
          19,
          20,
          21,
          22,
          23,
          24,
          25,
          26,
          27,
          28,
          29,
          30,
          31,
          32,
          33,
          34,
          35,
          36,
          37,
          38,
          39,
          40
         ],
         "xaxis": "x5",
         "y": [
          0,
          0.26428148976196253,
          0.29300761855526025,
          0.29413606157053035,
          0.2947231021564338,
          0.29473116104042413,
          0.3028347412748807,
          0.33926348098037695,
          0.3427883695778285,
          0.34289518374625516,
          0.3443464285132146,
          0.34520352976226437,
          0.34873917914556857,
          0.34875586831202504,
          0.3517725698942284,
          0.3656907761246065,
          0.3754194316816744,
          0.37856116700136466,
          0.3788772771839512,
          0.37938890396612907,
          0.3800632866953659,
          0.3928087903100352,
          0.40001446699078197,
          0.40312482834168695,
          0.4031269056956278,
          0.4032822094206118,
          0.4033275607725672,
          0.4033527124360437,
          0.4034394889625471,
          0.40345970704130707,
          0.4036915460298944,
          0.4036923346063421,
          0.4037247548943745,
          0.4037320784912876,
          0.4037863141154342,
          0.4038031622528042,
          0.4038186879636832,
          0.40381875330929423,
          0.40388365216972505,
          0.40388618227284206,
          0.40405766841927676
         ],
         "yaxis": "y5"
        },
        {
         "fill": "tonexty",
         "fillcolor": "rgba(32, 146, 230,0.3)",
         "line": {
          "color": "rgba(255,255,255,0)"
         },
         "mode": "lines",
         "name": "LC",
         "showlegend": false,
         "type": "scatter",
         "x": [
          0,
          1,
          2,
          3,
          4,
          5,
          6,
          7,
          8,
          9,
          10,
          11,
          12,
          13,
          14,
          15,
          16,
          17,
          18,
          19,
          20,
          21,
          22,
          23,
          24,
          25,
          26,
          27,
          28,
          29,
          30,
          31,
          32,
          33,
          34,
          35,
          36,
          37,
          38,
          39,
          40
         ],
         "xaxis": "x5",
         "y": [
          0,
          -0.2642814897619625,
          -0.2930076185552602,
          -0.29413606157053035,
          -0.2947231021564338,
          -0.29473116104042413,
          -0.3028347412748807,
          -0.33926348098037695,
          -0.3427883695778285,
          -0.34289518374625516,
          -0.3443464285132146,
          -0.34520352976226437,
          -0.34873917914556857,
          -0.3487558683120251,
          -0.3517725698942284,
          -0.3656907761246065,
          -0.3754194316816744,
          -0.37856116700136466,
          -0.3788772771839512,
          -0.37938890396612907,
          -0.38006328669536593,
          -0.3928087903100352,
          -0.4000144669907819,
          -0.40312482834168695,
          -0.4031269056956278,
          -0.4032822094206118,
          -0.4033275607725672,
          -0.4033527124360437,
          -0.4034394889625471,
          -0.40345970704130707,
          -0.4036915460298944,
          -0.4036923346063421,
          -0.4037247548943745,
          -0.4037320784912876,
          -0.4037863141154342,
          -0.4038031622528042,
          -0.4038186879636832,
          -0.40381875330929423,
          -0.40388365216972505,
          -0.40388618227284206,
          -0.40405766841927676
         ],
         "yaxis": "y5"
        },
        {
         "line": {
          "color": "#3f3f3f"
         },
         "mode": "lines",
         "name": "PACF",
         "showlegend": false,
         "type": "scattergl",
         "x": [
          0,
          0
         ],
         "xaxis": "x6",
         "y": [
          0,
          1
         ],
         "yaxis": "y6"
        },
        {
         "line": {
          "color": "#3f3f3f"
         },
         "mode": "lines",
         "name": "PACF",
         "showlegend": false,
         "type": "scattergl",
         "x": [
          1,
          1
         ],
         "xaxis": "x6",
         "y": [
          0,
          0.3447990136982177
         ],
         "yaxis": "y6"
        },
        {
         "line": {
          "color": "#3f3f3f"
         },
         "mode": "lines",
         "name": "PACF",
         "showlegend": false,
         "type": "scattergl",
         "x": [
          2,
          2
         ],
         "xaxis": "x6",
         "y": [
          0,
          -0.05381537566528021
         ],
         "yaxis": "y6"
        },
        {
         "line": {
          "color": "#3f3f3f"
         },
         "mode": "lines",
         "name": "PACF",
         "showlegend": false,
         "type": "scattergl",
         "x": [
          3,
          3
         ],
         "xaxis": "x6",
         "y": [
          0,
          -0.06832644005270411
         ],
         "yaxis": "y6"
        },
        {
         "line": {
          "color": "#3f3f3f"
         },
         "mode": "lines",
         "name": "PACF",
         "showlegend": false,
         "type": "scattergl",
         "x": [
          4,
          4
         ],
         "xaxis": "x6",
         "y": [
          0,
          0.043760213032701195
         ],
         "yaxis": "y6"
        },
        {
         "line": {
          "color": "#3f3f3f"
         },
         "mode": "lines",
         "name": "PACF",
         "showlegend": false,
         "type": "scattergl",
         "x": [
          5,
          5
         ],
         "xaxis": "x6",
         "y": [
          0,
          -0.24411942475517648
         ],
         "yaxis": "y6"
        },
        {
         "line": {
          "color": "#3f3f3f"
         },
         "mode": "lines",
         "name": "PACF",
         "showlegend": false,
         "type": "scattergl",
         "x": [
          6,
          6
         ],
         "xaxis": "x6",
         "y": [
          0,
          -0.38160752460190783
         ],
         "yaxis": "y6"
        },
        {
         "line": {
          "color": "#3f3f3f"
         },
         "mode": "lines",
         "name": "PACF",
         "showlegend": false,
         "type": "scattergl",
         "x": [
          7,
          7
         ],
         "xaxis": "x6",
         "y": [
          0,
          0.17522865691567427
         ],
         "yaxis": "y6"
        },
        {
         "line": {
          "color": "#3f3f3f"
         },
         "mode": "lines",
         "name": "PACF",
         "showlegend": false,
         "type": "scattergl",
         "x": [
          8,
          8
         ],
         "xaxis": "x6",
         "y": [
          0,
          -0.04318579366795205
         ],
         "yaxis": "y6"
        },
        {
         "line": {
          "color": "#3f3f3f"
         },
         "mode": "lines",
         "name": "PACF",
         "showlegend": false,
         "type": "scattergl",
         "x": [
          9,
          9
         ],
         "xaxis": "x6",
         "y": [
          0,
          0.07214512923373421
         ],
         "yaxis": "y6"
        },
        {
         "line": {
          "color": "#3f3f3f"
         },
         "mode": "lines",
         "name": "PACF",
         "showlegend": false,
         "type": "scattergl",
         "x": [
          10,
          10
         ],
         "xaxis": "x6",
         "y": [
          0,
          0.08443259806407724
         ],
         "yaxis": "y6"
        },
        {
         "line": {
          "color": "#3f3f3f"
         },
         "mode": "lines",
         "name": "PACF",
         "showlegend": false,
         "type": "scattergl",
         "x": [
          11,
          11
         ],
         "xaxis": "x6",
         "y": [
          0,
          -0.01511436439697807
         ],
         "yaxis": "y6"
        },
        {
         "line": {
          "color": "#3f3f3f"
         },
         "mode": "lines",
         "name": "PACF",
         "showlegend": false,
         "type": "scattergl",
         "x": [
          12,
          12
         ],
         "xaxis": "x6",
         "y": [
          0,
          -0.33599606698074247
         ],
         "yaxis": "y6"
        },
        {
         "line": {
          "color": "#3f3f3f"
         },
         "mode": "lines",
         "name": "PACF",
         "showlegend": false,
         "type": "scattergl",
         "x": [
          13,
          13
         ],
         "xaxis": "x6",
         "y": [
          0,
          -0.11625381137470094
         ],
         "yaxis": "y6"
        },
        {
         "line": {
          "color": "#3f3f3f"
         },
         "mode": "lines",
         "name": "PACF",
         "showlegend": false,
         "type": "scattergl",
         "x": [
          14,
          14
         ],
         "xaxis": "x6",
         "y": [
          0,
          -0.3987874601895677
         ],
         "yaxis": "y6"
        },
        {
         "line": {
          "color": "#3f3f3f"
         },
         "mode": "lines",
         "name": "PACF",
         "showlegend": false,
         "type": "scattergl",
         "x": [
          15,
          15
         ],
         "xaxis": "x6",
         "y": [
          0,
          -0.17492456022896313
         ],
         "yaxis": "y6"
        },
        {
         "line": {
          "color": "#3f3f3f"
         },
         "mode": "lines",
         "name": "PACF",
         "showlegend": false,
         "type": "scattergl",
         "x": [
          16,
          16
         ],
         "xaxis": "x6",
         "y": [
          0,
          0.024335763380014155
         ],
         "yaxis": "y6"
        },
        {
         "line": {
          "color": "#3f3f3f"
         },
         "mode": "lines",
         "name": "PACF",
         "showlegend": false,
         "type": "scattergl",
         "x": [
          17,
          17
         ],
         "xaxis": "x6",
         "y": [
          0,
          0.08504516478143194
         ],
         "yaxis": "y6"
        },
        {
         "marker": {
          "color": "#1f77b4",
          "size": 6
         },
         "mode": "markers",
         "name": "PACF",
         "showlegend": false,
         "type": "scattergl",
         "x": [
          0,
          1,
          2,
          3,
          4,
          5,
          6,
          7,
          8,
          9,
          10,
          11,
          12,
          13,
          14,
          15,
          16,
          17
         ],
         "xaxis": "x6",
         "y": [
          1,
          0.3447990136982177,
          -0.05381537566528021,
          -0.06832644005270411,
          0.043760213032701195,
          -0.24411942475517648,
          -0.38160752460190783,
          0.17522865691567427,
          -0.04318579366795205,
          0.07214512923373421,
          0.08443259806407724,
          -0.01511436439697807,
          -0.33599606698074247,
          -0.11625381137470094,
          -0.3987874601895677,
          -0.17492456022896313,
          0.024335763380014155,
          0.08504516478143194
         ],
         "yaxis": "y6"
        },
        {
         "line": {
          "color": "rgba(255,255,255,0)"
         },
         "mode": "lines",
         "name": "UC",
         "showlegend": false,
         "type": "scatter",
         "x": [
          0,
          1,
          2,
          3,
          4,
          5,
          6,
          7,
          8,
          9,
          10,
          11,
          12,
          13,
          14,
          15,
          16,
          17
         ],
         "xaxis": "x6",
         "y": [
          0,
          0.2642814897619625,
          0.2642814897619625,
          0.2642814897619625,
          0.26428148976196253,
          0.2642814897619625,
          0.2642814897619625,
          0.26428148976196253,
          0.2642814897619625,
          0.2642814897619625,
          0.26428148976196253,
          0.2642814897619625,
          0.2642814897619625,
          0.2642814897619625,
          0.2642814897619625,
          0.2642814897619625,
          0.2642814897619625,
          0.2642814897619625
         ],
         "yaxis": "y6"
        },
        {
         "fill": "tonexty",
         "fillcolor": "rgba(32, 146, 230,0.3)",
         "line": {
          "color": "rgba(255,255,255,0)"
         },
         "mode": "lines",
         "name": "LC",
         "showlegend": false,
         "type": "scatter",
         "x": [
          0,
          1,
          2,
          3,
          4,
          5,
          6,
          7,
          8,
          9,
          10,
          11,
          12,
          13,
          14,
          15,
          16,
          17
         ],
         "xaxis": "x6",
         "y": [
          0,
          -0.2642814897619625,
          -0.2642814897619625,
          -0.2642814897619625,
          -0.2642814897619625,
          -0.26428148976196253,
          -0.2642814897619624,
          -0.2642814897619625,
          -0.2642814897619625,
          -0.2642814897619625,
          -0.2642814897619625,
          -0.2642814897619625,
          -0.26428148976196253,
          -0.2642814897619625,
          -0.2642814897619624,
          -0.2642814897619625,
          -0.2642814897619625,
          -0.2642814897619625
         ],
         "yaxis": "y6"
        }
       ],
       "layout": {
        "annotations": [
         {
          "font": {
           "size": 16
          },
          "showarrow": false,
          "text": "Seasonal Naive Forecaster Residuals",
          "x": 0.225,
          "xanchor": "center",
          "xref": "paper",
          "y": 1.0000000000000002,
          "yanchor": "bottom",
          "yref": "paper"
         },
         {
          "font": {
           "size": 16
          },
          "showarrow": false,
          "text": "Periodogram",
          "x": 0.775,
          "xanchor": "center",
          "xref": "paper",
          "y": 1.0000000000000002,
          "yanchor": "bottom",
          "yref": "paper"
         },
         {
          "font": {
           "size": 16
          },
          "showarrow": false,
          "text": "Histogram",
          "x": 0.225,
          "xanchor": "center",
          "xref": "paper",
          "y": 0.6111111111111112,
          "yanchor": "bottom",
          "yref": "paper"
         },
         {
          "font": {
           "size": 16
          },
          "showarrow": false,
          "text": "Q-Q Plot",
          "x": 0.775,
          "xanchor": "center",
          "xref": "paper",
          "y": 0.6111111111111112,
          "yanchor": "bottom",
          "yref": "paper"
         },
         {
          "font": {
           "size": 16
          },
          "showarrow": false,
          "text": "ACF",
          "x": 0.225,
          "xanchor": "center",
          "xref": "paper",
          "y": 0.22222222222222227,
          "yanchor": "bottom",
          "yref": "paper"
         },
         {
          "font": {
           "size": 16
          },
          "showarrow": false,
          "text": "PACF",
          "x": 0.775,
          "xanchor": "center",
          "xref": "paper",
          "y": 0.22222222222222227,
          "yanchor": "bottom",
          "yref": "paper"
         }
        ],
        "showlegend": false,
        "template": {
         "data": {
          "bar": [
           {
            "error_x": {
             "color": "rgb(51,51,51)"
            },
            "error_y": {
             "color": "rgb(51,51,51)"
            },
            "marker": {
             "line": {
              "color": "rgb(237,237,237)",
              "width": 0.5
             },
             "pattern": {
              "fillmode": "overlay",
              "size": 10,
              "solidity": 0.2
             }
            },
            "type": "bar"
           }
          ],
          "barpolar": [
           {
            "marker": {
             "line": {
              "color": "rgb(237,237,237)",
              "width": 0.5
             },
             "pattern": {
              "fillmode": "overlay",
              "size": 10,
              "solidity": 0.2
             }
            },
            "type": "barpolar"
           }
          ],
          "carpet": [
           {
            "aaxis": {
             "endlinecolor": "rgb(51,51,51)",
             "gridcolor": "white",
             "linecolor": "white",
             "minorgridcolor": "white",
             "startlinecolor": "rgb(51,51,51)"
            },
            "baxis": {
             "endlinecolor": "rgb(51,51,51)",
             "gridcolor": "white",
             "linecolor": "white",
             "minorgridcolor": "white",
             "startlinecolor": "rgb(51,51,51)"
            },
            "type": "carpet"
           }
          ],
          "choropleth": [
           {
            "colorbar": {
             "outlinewidth": 0,
             "tickcolor": "rgb(237,237,237)",
             "ticklen": 6,
             "ticks": "inside"
            },
            "type": "choropleth"
           }
          ],
          "contour": [
           {
            "colorbar": {
             "outlinewidth": 0,
             "tickcolor": "rgb(237,237,237)",
             "ticklen": 6,
             "ticks": "inside"
            },
            "colorscale": [
             [
              0,
              "rgb(20,44,66)"
             ],
             [
              1,
              "rgb(90,179,244)"
             ]
            ],
            "type": "contour"
           }
          ],
          "contourcarpet": [
           {
            "colorbar": {
             "outlinewidth": 0,
             "tickcolor": "rgb(237,237,237)",
             "ticklen": 6,
             "ticks": "inside"
            },
            "type": "contourcarpet"
           }
          ],
          "heatmap": [
           {
            "colorbar": {
             "outlinewidth": 0,
             "tickcolor": "rgb(237,237,237)",
             "ticklen": 6,
             "ticks": "inside"
            },
            "colorscale": [
             [
              0,
              "rgb(20,44,66)"
             ],
             [
              1,
              "rgb(90,179,244)"
             ]
            ],
            "type": "heatmap"
           }
          ],
          "heatmapgl": [
           {
            "colorbar": {
             "outlinewidth": 0,
             "tickcolor": "rgb(237,237,237)",
             "ticklen": 6,
             "ticks": "inside"
            },
            "colorscale": [
             [
              0,
              "rgb(20,44,66)"
             ],
             [
              1,
              "rgb(90,179,244)"
             ]
            ],
            "type": "heatmapgl"
           }
          ],
          "histogram": [
           {
            "marker": {
             "pattern": {
              "fillmode": "overlay",
              "size": 10,
              "solidity": 0.2
             }
            },
            "type": "histogram"
           }
          ],
          "histogram2d": [
           {
            "colorbar": {
             "outlinewidth": 0,
             "tickcolor": "rgb(237,237,237)",
             "ticklen": 6,
             "ticks": "inside"
            },
            "colorscale": [
             [
              0,
              "rgb(20,44,66)"
             ],
             [
              1,
              "rgb(90,179,244)"
             ]
            ],
            "type": "histogram2d"
           }
          ],
          "histogram2dcontour": [
           {
            "colorbar": {
             "outlinewidth": 0,
             "tickcolor": "rgb(237,237,237)",
             "ticklen": 6,
             "ticks": "inside"
            },
            "colorscale": [
             [
              0,
              "rgb(20,44,66)"
             ],
             [
              1,
              "rgb(90,179,244)"
             ]
            ],
            "type": "histogram2dcontour"
           }
          ],
          "mesh3d": [
           {
            "colorbar": {
             "outlinewidth": 0,
             "tickcolor": "rgb(237,237,237)",
             "ticklen": 6,
             "ticks": "inside"
            },
            "type": "mesh3d"
           }
          ],
          "parcoords": [
           {
            "line": {
             "colorbar": {
              "outlinewidth": 0,
              "tickcolor": "rgb(237,237,237)",
              "ticklen": 6,
              "ticks": "inside"
             }
            },
            "type": "parcoords"
           }
          ],
          "pie": [
           {
            "automargin": true,
            "type": "pie"
           }
          ],
          "scatter": [
           {
            "fillpattern": {
             "fillmode": "overlay",
             "size": 10,
             "solidity": 0.2
            },
            "type": "scatter"
           }
          ],
          "scatter3d": [
           {
            "line": {
             "colorbar": {
              "outlinewidth": 0,
              "tickcolor": "rgb(237,237,237)",
              "ticklen": 6,
              "ticks": "inside"
             }
            },
            "marker": {
             "colorbar": {
              "outlinewidth": 0,
              "tickcolor": "rgb(237,237,237)",
              "ticklen": 6,
              "ticks": "inside"
             }
            },
            "type": "scatter3d"
           }
          ],
          "scattercarpet": [
           {
            "marker": {
             "colorbar": {
              "outlinewidth": 0,
              "tickcolor": "rgb(237,237,237)",
              "ticklen": 6,
              "ticks": "inside"
             }
            },
            "type": "scattercarpet"
           }
          ],
          "scattergeo": [
           {
            "marker": {
             "colorbar": {
              "outlinewidth": 0,
              "tickcolor": "rgb(237,237,237)",
              "ticklen": 6,
              "ticks": "inside"
             }
            },
            "type": "scattergeo"
           }
          ],
          "scattergl": [
           {
            "marker": {
             "colorbar": {
              "outlinewidth": 0,
              "tickcolor": "rgb(237,237,237)",
              "ticklen": 6,
              "ticks": "inside"
             }
            },
            "type": "scattergl"
           }
          ],
          "scattermapbox": [
           {
            "marker": {
             "colorbar": {
              "outlinewidth": 0,
              "tickcolor": "rgb(237,237,237)",
              "ticklen": 6,
              "ticks": "inside"
             }
            },
            "type": "scattermapbox"
           }
          ],
          "scatterpolar": [
           {
            "marker": {
             "colorbar": {
              "outlinewidth": 0,
              "tickcolor": "rgb(237,237,237)",
              "ticklen": 6,
              "ticks": "inside"
             }
            },
            "type": "scatterpolar"
           }
          ],
          "scatterpolargl": [
           {
            "marker": {
             "colorbar": {
              "outlinewidth": 0,
              "tickcolor": "rgb(237,237,237)",
              "ticklen": 6,
              "ticks": "inside"
             }
            },
            "type": "scatterpolargl"
           }
          ],
          "scatterternary": [
           {
            "marker": {
             "colorbar": {
              "outlinewidth": 0,
              "tickcolor": "rgb(237,237,237)",
              "ticklen": 6,
              "ticks": "inside"
             }
            },
            "type": "scatterternary"
           }
          ],
          "surface": [
           {
            "colorbar": {
             "outlinewidth": 0,
             "tickcolor": "rgb(237,237,237)",
             "ticklen": 6,
             "ticks": "inside"
            },
            "colorscale": [
             [
              0,
              "rgb(20,44,66)"
             ],
             [
              1,
              "rgb(90,179,244)"
             ]
            ],
            "type": "surface"
           }
          ],
          "table": [
           {
            "cells": {
             "fill": {
              "color": "rgb(237,237,237)"
             },
             "line": {
              "color": "white"
             }
            },
            "header": {
             "fill": {
              "color": "rgb(217,217,217)"
             },
             "line": {
              "color": "white"
             }
            },
            "type": "table"
           }
          ]
         },
         "layout": {
          "annotationdefaults": {
           "arrowhead": 0,
           "arrowwidth": 1
          },
          "autotypenumbers": "strict",
          "coloraxis": {
           "colorbar": {
            "outlinewidth": 0,
            "tickcolor": "rgb(237,237,237)",
            "ticklen": 6,
            "ticks": "inside"
           }
          },
          "colorscale": {
           "sequential": [
            [
             0,
             "rgb(20,44,66)"
            ],
            [
             1,
             "rgb(90,179,244)"
            ]
           ],
           "sequentialminus": [
            [
             0,
             "rgb(20,44,66)"
            ],
            [
             1,
             "rgb(90,179,244)"
            ]
           ]
          },
          "colorway": [
           "#F8766D",
           "#A3A500",
           "#00BF7D",
           "#00B0F6",
           "#E76BF3"
          ],
          "font": {
           "color": "rgb(51,51,51)"
          },
          "geo": {
           "bgcolor": "white",
           "lakecolor": "white",
           "landcolor": "rgb(237,237,237)",
           "showlakes": true,
           "showland": true,
           "subunitcolor": "white"
          },
          "hoverlabel": {
           "align": "left"
          },
          "hovermode": "closest",
          "paper_bgcolor": "white",
          "plot_bgcolor": "rgb(237,237,237)",
          "polar": {
           "angularaxis": {
            "gridcolor": "white",
            "linecolor": "white",
            "showgrid": true,
            "tickcolor": "rgb(51,51,51)",
            "ticks": "outside"
           },
           "bgcolor": "rgb(237,237,237)",
           "radialaxis": {
            "gridcolor": "white",
            "linecolor": "white",
            "showgrid": true,
            "tickcolor": "rgb(51,51,51)",
            "ticks": "outside"
           }
          },
          "scene": {
           "xaxis": {
            "backgroundcolor": "rgb(237,237,237)",
            "gridcolor": "white",
            "gridwidth": 2,
            "linecolor": "white",
            "showbackground": true,
            "showgrid": true,
            "tickcolor": "rgb(51,51,51)",
            "ticks": "outside",
            "zerolinecolor": "white"
           },
           "yaxis": {
            "backgroundcolor": "rgb(237,237,237)",
            "gridcolor": "white",
            "gridwidth": 2,
            "linecolor": "white",
            "showbackground": true,
            "showgrid": true,
            "tickcolor": "rgb(51,51,51)",
            "ticks": "outside",
            "zerolinecolor": "white"
           },
           "zaxis": {
            "backgroundcolor": "rgb(237,237,237)",
            "gridcolor": "white",
            "gridwidth": 2,
            "linecolor": "white",
            "showbackground": true,
            "showgrid": true,
            "tickcolor": "rgb(51,51,51)",
            "ticks": "outside",
            "zerolinecolor": "white"
           }
          },
          "shapedefaults": {
           "fillcolor": "black",
           "line": {
            "width": 0
           },
           "opacity": 0.3
          },
          "ternary": {
           "aaxis": {
            "gridcolor": "white",
            "linecolor": "white",
            "showgrid": true,
            "tickcolor": "rgb(51,51,51)",
            "ticks": "outside"
           },
           "baxis": {
            "gridcolor": "white",
            "linecolor": "white",
            "showgrid": true,
            "tickcolor": "rgb(51,51,51)",
            "ticks": "outside"
           },
           "bgcolor": "rgb(237,237,237)",
           "caxis": {
            "gridcolor": "white",
            "linecolor": "white",
            "showgrid": true,
            "tickcolor": "rgb(51,51,51)",
            "ticks": "outside"
           }
          },
          "xaxis": {
           "automargin": true,
           "gridcolor": "white",
           "linecolor": "white",
           "showgrid": true,
           "tickcolor": "rgb(51,51,51)",
           "ticks": "outside",
           "title": {
            "standoff": 15
           },
           "zerolinecolor": "white"
          },
          "yaxis": {
           "automargin": true,
           "gridcolor": "white",
           "linecolor": "white",
           "showgrid": true,
           "tickcolor": "rgb(51,51,51)",
           "ticks": "outside",
           "title": {
            "standoff": 15
           },
           "zerolinecolor": "white"
          }
         }
        },
        "title": {
         "text": "Diagnostics | Model Residuals"
        },
        "xaxis": {
         "anchor": "y",
         "domain": [
          0,
          0.45
         ]
        },
        "xaxis2": {
         "anchor": "y2",
         "domain": [
          0.55,
          1
         ],
         "range": [
          0,
          0.5
         ]
        },
        "xaxis3": {
         "anchor": "y3",
         "domain": [
          0,
          0.45
         ],
         "title": {
          "text": "Range of Values"
         }
        },
        "xaxis4": {
         "anchor": "y4",
         "domain": [
          0.55,
          1
         ],
         "title": {
          "text": "Theoretical Quantities"
         }
        },
        "xaxis5": {
         "anchor": "y5",
         "domain": [
          0,
          0.45
         ],
         "range": [
          -1,
          42
         ]
        },
        "xaxis6": {
         "anchor": "y6",
         "domain": [
          0.55,
          1
         ],
         "range": [
          -1,
          19
         ]
        },
        "yaxis": {
         "anchor": "x",
         "domain": [
          0.7777777777777779,
          1
         ]
        },
        "yaxis2": {
         "anchor": "x2",
         "domain": [
          0.7777777777777779,
          1
         ]
        },
        "yaxis3": {
         "anchor": "x3",
         "domain": [
          0.38888888888888895,
          0.6111111111111112
         ],
         "title": {
          "text": "PDF"
         }
        },
        "yaxis4": {
         "anchor": "x4",
         "domain": [
          0.38888888888888895,
          0.6111111111111112
         ],
         "title": {
          "text": "Sample Quantities"
         }
        },
        "yaxis5": {
         "anchor": "x5",
         "domain": [
          0,
          0.22222222222222227
         ],
         "range": [
          -1.1,
          1.1
         ],
         "zerolinecolor": "#000000"
        },
        "yaxis6": {
         "anchor": "x6",
         "domain": [
          0,
          0.22222222222222227
         ],
         "range": [
          -1.1,
          1.1
         ],
         "zerolinecolor": "#000000"
        }
       }
      }
     },
     "metadata": {},
     "output_type": "display_data"
    }
   ],
   "source": [
    "plot_model(best, plot = 'diagnostics')"
   ]
  },
  {
   "cell_type": "code",
   "execution_count": 108,
   "metadata": {},
   "outputs": [
    {
     "data": {
      "application/vnd.plotly.v1+json": {
       "config": {
        "plotlyServerURL": "https://plot.ly"
       },
       "data": [
        {
         "line": {
          "color": "rgb(31, 119, 180)",
          "width": 2
         },
         "marker": {
          "color": "rgb(31, 119, 180)",
          "size": 5
         },
         "mode": "lines+markers",
         "name": "Ventas",
         "type": "scattergl",
         "x": [
          "2018-01-01T00:00:00",
          "2018-02-01T00:00:00",
          "2018-03-01T00:00:00",
          "2018-04-01T00:00:00",
          "2018-05-01T00:00:00",
          "2018-06-01T00:00:00",
          "2018-07-01T00:00:00",
          "2018-08-01T00:00:00",
          "2018-09-01T00:00:00",
          "2018-10-01T00:00:00",
          "2018-11-01T00:00:00",
          "2018-12-01T00:00:00",
          "2019-01-01T00:00:00",
          "2019-02-01T00:00:00",
          "2019-03-01T00:00:00",
          "2019-04-01T00:00:00",
          "2019-05-01T00:00:00",
          "2019-06-01T00:00:00",
          "2019-07-01T00:00:00",
          "2019-08-01T00:00:00",
          "2019-09-01T00:00:00",
          "2019-10-01T00:00:00",
          "2019-11-01T00:00:00",
          "2019-12-01T00:00:00",
          "2020-01-01T00:00:00",
          "2020-02-01T00:00:00",
          "2020-03-01T00:00:00",
          "2020-04-01T00:00:00",
          "2020-05-01T00:00:00",
          "2020-06-01T00:00:00",
          "2020-07-01T00:00:00",
          "2020-08-01T00:00:00",
          "2020-09-01T00:00:00",
          "2020-10-01T00:00:00",
          "2020-11-01T00:00:00",
          "2020-12-01T00:00:00",
          "2021-01-01T00:00:00",
          "2021-02-01T00:00:00",
          "2021-03-01T00:00:00",
          "2021-04-01T00:00:00",
          "2021-05-01T00:00:00",
          "2021-06-01T00:00:00",
          "2021-07-01T00:00:00",
          "2021-08-01T00:00:00",
          "2021-09-01T00:00:00",
          "2021-10-01T00:00:00",
          "2021-11-01T00:00:00",
          "2021-12-01T00:00:00",
          "2022-01-01T00:00:00",
          "2022-02-01T00:00:00",
          "2022-03-01T00:00:00",
          "2022-04-01T00:00:00",
          "2022-05-01T00:00:00",
          "2022-06-01T00:00:00",
          "2022-07-01T00:00:00",
          "2022-08-01T00:00:00",
          "2022-09-01T00:00:00",
          "2022-10-01T00:00:00",
          "2022-11-01T00:00:00",
          "2022-12-01T00:00:00",
          "2023-01-01T00:00:00",
          "2023-02-01T00:00:00",
          "2023-03-01T00:00:00"
         ],
         "xaxis": "x",
         "y": [
          0,
          57325910,
          42296947,
          61992674,
          61996231,
          65869725,
          59566783,
          716875813,
          383317793,
          47533694,
          684396217,
          389652399,
          262925088,
          278974608,
          272861240,
          256070232,
          270001412,
          325134656,
          344855680,
          325921641,
          257241774,
          277725415,
          128587668,
          173884997,
          187124265,
          136051684,
          204643736,
          540076685,
          439566345,
          473287148,
          540500337,
          496497733,
          500396146,
          527134746,
          504652277,
          495877619,
          494978100,
          512574658,
          531997843,
          501229333,
          518504148,
          495966566,
          502024932,
          529046708,
          528230141,
          533539946,
          501738634,
          503100502,
          499051302,
          498265016,
          498163372,
          507086597,
          515110968,
          509020156,
          513277088,
          492987253,
          517798934,
          501044527,
          485318911,
          423495241,
          516162793,
          478651558,
          480967294
         ],
         "yaxis": "y"
        },
        {
         "line": {
          "color": "rgb(255, 127, 14)",
          "width": 2
         },
         "marker": {
          "color": "rgb(255, 127, 14)",
          "size": 5
         },
         "mode": "lines+markers",
         "name": "Seasonal Naive Forecaster",
         "type": "scattergl",
         "x": [
          "2018-01-01T00:00:00",
          "2018-02-01T00:00:00",
          "2018-03-01T00:00:00",
          "2018-04-01T00:00:00",
          "2018-05-01T00:00:00",
          "2018-06-01T00:00:00",
          "2018-07-01T00:00:00",
          "2018-08-01T00:00:00",
          "2018-09-01T00:00:00",
          "2018-10-01T00:00:00",
          "2018-11-01T00:00:00",
          "2018-12-01T00:00:00",
          "2019-01-01T00:00:00",
          "2019-02-01T00:00:00",
          "2019-03-01T00:00:00",
          "2019-04-01T00:00:00",
          "2019-05-01T00:00:00",
          "2019-06-01T00:00:00",
          "2019-07-01T00:00:00",
          "2019-08-01T00:00:00",
          "2019-09-01T00:00:00",
          "2019-10-01T00:00:00",
          "2019-11-01T00:00:00",
          "2019-12-01T00:00:00",
          "2020-01-01T00:00:00",
          "2020-02-01T00:00:00",
          "2020-03-01T00:00:00",
          "2020-04-01T00:00:00",
          "2020-05-01T00:00:00",
          "2020-06-01T00:00:00",
          "2020-07-01T00:00:00",
          "2020-08-01T00:00:00",
          "2020-09-01T00:00:00",
          "2020-10-01T00:00:00",
          "2020-11-01T00:00:00",
          "2020-12-01T00:00:00",
          "2021-01-01T00:00:00",
          "2021-02-01T00:00:00",
          "2021-03-01T00:00:00",
          "2021-04-01T00:00:00",
          "2021-05-01T00:00:00",
          "2021-06-01T00:00:00",
          "2021-07-01T00:00:00",
          "2021-08-01T00:00:00",
          "2021-09-01T00:00:00",
          "2021-10-01T00:00:00",
          "2021-11-01T00:00:00",
          "2021-12-01T00:00:00",
          "2022-01-01T00:00:00",
          "2022-02-01T00:00:00",
          "2022-03-01T00:00:00",
          "2022-04-01T00:00:00",
          "2022-05-01T00:00:00",
          "2022-06-01T00:00:00",
          "2022-07-01T00:00:00",
          "2022-08-01T00:00:00",
          "2022-09-01T00:00:00",
          "2022-10-01T00:00:00",
          "2022-11-01T00:00:00",
          "2022-12-01T00:00:00",
          "2023-01-01T00:00:00",
          "2023-02-01T00:00:00",
          "2023-03-01T00:00:00"
         ],
         "xaxis": "x",
         "y": [
          57325910,
          null,
          null,
          0,
          57325910,
          42296947,
          61992674,
          61996231,
          65869725,
          59566783,
          716875813,
          383317793,
          47533694,
          684396217,
          389652399,
          262925088,
          278974608,
          272861240,
          256070232,
          270001412,
          325134656,
          344855680,
          325921641,
          257241774,
          277725415,
          128587668,
          173884997,
          187124265,
          136051684,
          204643736,
          540076685,
          439566345,
          473287148,
          540500337,
          496497733,
          500396146,
          527134746,
          504652277,
          495877619,
          494978100,
          512574658,
          531997843,
          501229333,
          518504148,
          495966566,
          502024932,
          529046708,
          528230141,
          533539946,
          501738634,
          503100502,
          499051302,
          498265016,
          498163372,
          507086597,
          515110968,
          509020156,
          null,
          null,
          null,
          null,
          null,
          null
         ],
         "yaxis": "y"
        }
       ],
       "layout": {
        "showlegend": true,
        "template": {
         "data": {
          "bar": [
           {
            "error_x": {
             "color": "rgb(51,51,51)"
            },
            "error_y": {
             "color": "rgb(51,51,51)"
            },
            "marker": {
             "line": {
              "color": "rgb(237,237,237)",
              "width": 0.5
             },
             "pattern": {
              "fillmode": "overlay",
              "size": 10,
              "solidity": 0.2
             }
            },
            "type": "bar"
           }
          ],
          "barpolar": [
           {
            "marker": {
             "line": {
              "color": "rgb(237,237,237)",
              "width": 0.5
             },
             "pattern": {
              "fillmode": "overlay",
              "size": 10,
              "solidity": 0.2
             }
            },
            "type": "barpolar"
           }
          ],
          "carpet": [
           {
            "aaxis": {
             "endlinecolor": "rgb(51,51,51)",
             "gridcolor": "white",
             "linecolor": "white",
             "minorgridcolor": "white",
             "startlinecolor": "rgb(51,51,51)"
            },
            "baxis": {
             "endlinecolor": "rgb(51,51,51)",
             "gridcolor": "white",
             "linecolor": "white",
             "minorgridcolor": "white",
             "startlinecolor": "rgb(51,51,51)"
            },
            "type": "carpet"
           }
          ],
          "choropleth": [
           {
            "colorbar": {
             "outlinewidth": 0,
             "tickcolor": "rgb(237,237,237)",
             "ticklen": 6,
             "ticks": "inside"
            },
            "type": "choropleth"
           }
          ],
          "contour": [
           {
            "colorbar": {
             "outlinewidth": 0,
             "tickcolor": "rgb(237,237,237)",
             "ticklen": 6,
             "ticks": "inside"
            },
            "colorscale": [
             [
              0,
              "rgb(20,44,66)"
             ],
             [
              1,
              "rgb(90,179,244)"
             ]
            ],
            "type": "contour"
           }
          ],
          "contourcarpet": [
           {
            "colorbar": {
             "outlinewidth": 0,
             "tickcolor": "rgb(237,237,237)",
             "ticklen": 6,
             "ticks": "inside"
            },
            "type": "contourcarpet"
           }
          ],
          "heatmap": [
           {
            "colorbar": {
             "outlinewidth": 0,
             "tickcolor": "rgb(237,237,237)",
             "ticklen": 6,
             "ticks": "inside"
            },
            "colorscale": [
             [
              0,
              "rgb(20,44,66)"
             ],
             [
              1,
              "rgb(90,179,244)"
             ]
            ],
            "type": "heatmap"
           }
          ],
          "heatmapgl": [
           {
            "colorbar": {
             "outlinewidth": 0,
             "tickcolor": "rgb(237,237,237)",
             "ticklen": 6,
             "ticks": "inside"
            },
            "colorscale": [
             [
              0,
              "rgb(20,44,66)"
             ],
             [
              1,
              "rgb(90,179,244)"
             ]
            ],
            "type": "heatmapgl"
           }
          ],
          "histogram": [
           {
            "marker": {
             "pattern": {
              "fillmode": "overlay",
              "size": 10,
              "solidity": 0.2
             }
            },
            "type": "histogram"
           }
          ],
          "histogram2d": [
           {
            "colorbar": {
             "outlinewidth": 0,
             "tickcolor": "rgb(237,237,237)",
             "ticklen": 6,
             "ticks": "inside"
            },
            "colorscale": [
             [
              0,
              "rgb(20,44,66)"
             ],
             [
              1,
              "rgb(90,179,244)"
             ]
            ],
            "type": "histogram2d"
           }
          ],
          "histogram2dcontour": [
           {
            "colorbar": {
             "outlinewidth": 0,
             "tickcolor": "rgb(237,237,237)",
             "ticklen": 6,
             "ticks": "inside"
            },
            "colorscale": [
             [
              0,
              "rgb(20,44,66)"
             ],
             [
              1,
              "rgb(90,179,244)"
             ]
            ],
            "type": "histogram2dcontour"
           }
          ],
          "mesh3d": [
           {
            "colorbar": {
             "outlinewidth": 0,
             "tickcolor": "rgb(237,237,237)",
             "ticklen": 6,
             "ticks": "inside"
            },
            "type": "mesh3d"
           }
          ],
          "parcoords": [
           {
            "line": {
             "colorbar": {
              "outlinewidth": 0,
              "tickcolor": "rgb(237,237,237)",
              "ticklen": 6,
              "ticks": "inside"
             }
            },
            "type": "parcoords"
           }
          ],
          "pie": [
           {
            "automargin": true,
            "type": "pie"
           }
          ],
          "scatter": [
           {
            "fillpattern": {
             "fillmode": "overlay",
             "size": 10,
             "solidity": 0.2
            },
            "type": "scatter"
           }
          ],
          "scatter3d": [
           {
            "line": {
             "colorbar": {
              "outlinewidth": 0,
              "tickcolor": "rgb(237,237,237)",
              "ticklen": 6,
              "ticks": "inside"
             }
            },
            "marker": {
             "colorbar": {
              "outlinewidth": 0,
              "tickcolor": "rgb(237,237,237)",
              "ticklen": 6,
              "ticks": "inside"
             }
            },
            "type": "scatter3d"
           }
          ],
          "scattercarpet": [
           {
            "marker": {
             "colorbar": {
              "outlinewidth": 0,
              "tickcolor": "rgb(237,237,237)",
              "ticklen": 6,
              "ticks": "inside"
             }
            },
            "type": "scattercarpet"
           }
          ],
          "scattergeo": [
           {
            "marker": {
             "colorbar": {
              "outlinewidth": 0,
              "tickcolor": "rgb(237,237,237)",
              "ticklen": 6,
              "ticks": "inside"
             }
            },
            "type": "scattergeo"
           }
          ],
          "scattergl": [
           {
            "marker": {
             "colorbar": {
              "outlinewidth": 0,
              "tickcolor": "rgb(237,237,237)",
              "ticklen": 6,
              "ticks": "inside"
             }
            },
            "type": "scattergl"
           }
          ],
          "scattermapbox": [
           {
            "marker": {
             "colorbar": {
              "outlinewidth": 0,
              "tickcolor": "rgb(237,237,237)",
              "ticklen": 6,
              "ticks": "inside"
             }
            },
            "type": "scattermapbox"
           }
          ],
          "scatterpolar": [
           {
            "marker": {
             "colorbar": {
              "outlinewidth": 0,
              "tickcolor": "rgb(237,237,237)",
              "ticklen": 6,
              "ticks": "inside"
             }
            },
            "type": "scatterpolar"
           }
          ],
          "scatterpolargl": [
           {
            "marker": {
             "colorbar": {
              "outlinewidth": 0,
              "tickcolor": "rgb(237,237,237)",
              "ticklen": 6,
              "ticks": "inside"
             }
            },
            "type": "scatterpolargl"
           }
          ],
          "scatterternary": [
           {
            "marker": {
             "colorbar": {
              "outlinewidth": 0,
              "tickcolor": "rgb(237,237,237)",
              "ticklen": 6,
              "ticks": "inside"
             }
            },
            "type": "scatterternary"
           }
          ],
          "surface": [
           {
            "colorbar": {
             "outlinewidth": 0,
             "tickcolor": "rgb(237,237,237)",
             "ticklen": 6,
             "ticks": "inside"
            },
            "colorscale": [
             [
              0,
              "rgb(20,44,66)"
             ],
             [
              1,
              "rgb(90,179,244)"
             ]
            ],
            "type": "surface"
           }
          ],
          "table": [
           {
            "cells": {
             "fill": {
              "color": "rgb(237,237,237)"
             },
             "line": {
              "color": "white"
             }
            },
            "header": {
             "fill": {
              "color": "rgb(217,217,217)"
             },
             "line": {
              "color": "white"
             }
            },
            "type": "table"
           }
          ]
         },
         "layout": {
          "annotationdefaults": {
           "arrowhead": 0,
           "arrowwidth": 1
          },
          "autotypenumbers": "strict",
          "coloraxis": {
           "colorbar": {
            "outlinewidth": 0,
            "tickcolor": "rgb(237,237,237)",
            "ticklen": 6,
            "ticks": "inside"
           }
          },
          "colorscale": {
           "sequential": [
            [
             0,
             "rgb(20,44,66)"
            ],
            [
             1,
             "rgb(90,179,244)"
            ]
           ],
           "sequentialminus": [
            [
             0,
             "rgb(20,44,66)"
            ],
            [
             1,
             "rgb(90,179,244)"
            ]
           ]
          },
          "colorway": [
           "#F8766D",
           "#A3A500",
           "#00BF7D",
           "#00B0F6",
           "#E76BF3"
          ],
          "font": {
           "color": "rgb(51,51,51)"
          },
          "geo": {
           "bgcolor": "white",
           "lakecolor": "white",
           "landcolor": "rgb(237,237,237)",
           "showlakes": true,
           "showland": true,
           "subunitcolor": "white"
          },
          "hoverlabel": {
           "align": "left"
          },
          "hovermode": "closest",
          "paper_bgcolor": "white",
          "plot_bgcolor": "rgb(237,237,237)",
          "polar": {
           "angularaxis": {
            "gridcolor": "white",
            "linecolor": "white",
            "showgrid": true,
            "tickcolor": "rgb(51,51,51)",
            "ticks": "outside"
           },
           "bgcolor": "rgb(237,237,237)",
           "radialaxis": {
            "gridcolor": "white",
            "linecolor": "white",
            "showgrid": true,
            "tickcolor": "rgb(51,51,51)",
            "ticks": "outside"
           }
          },
          "scene": {
           "xaxis": {
            "backgroundcolor": "rgb(237,237,237)",
            "gridcolor": "white",
            "gridwidth": 2,
            "linecolor": "white",
            "showbackground": true,
            "showgrid": true,
            "tickcolor": "rgb(51,51,51)",
            "ticks": "outside",
            "zerolinecolor": "white"
           },
           "yaxis": {
            "backgroundcolor": "rgb(237,237,237)",
            "gridcolor": "white",
            "gridwidth": 2,
            "linecolor": "white",
            "showbackground": true,
            "showgrid": true,
            "tickcolor": "rgb(51,51,51)",
            "ticks": "outside",
            "zerolinecolor": "white"
           },
           "zaxis": {
            "backgroundcolor": "rgb(237,237,237)",
            "gridcolor": "white",
            "gridwidth": 2,
            "linecolor": "white",
            "showbackground": true,
            "showgrid": true,
            "tickcolor": "rgb(51,51,51)",
            "ticks": "outside",
            "zerolinecolor": "white"
           }
          },
          "shapedefaults": {
           "fillcolor": "black",
           "line": {
            "width": 0
           },
           "opacity": 0.3
          },
          "ternary": {
           "aaxis": {
            "gridcolor": "white",
            "linecolor": "white",
            "showgrid": true,
            "tickcolor": "rgb(51,51,51)",
            "ticks": "outside"
           },
           "baxis": {
            "gridcolor": "white",
            "linecolor": "white",
            "showgrid": true,
            "tickcolor": "rgb(51,51,51)",
            "ticks": "outside"
           },
           "bgcolor": "rgb(237,237,237)",
           "caxis": {
            "gridcolor": "white",
            "linecolor": "white",
            "showgrid": true,
            "tickcolor": "rgb(51,51,51)",
            "ticks": "outside"
           }
          },
          "xaxis": {
           "automargin": true,
           "gridcolor": "white",
           "linecolor": "white",
           "showgrid": true,
           "tickcolor": "rgb(51,51,51)",
           "ticks": "outside",
           "title": {
            "standoff": 15
           },
           "zerolinecolor": "white"
          },
          "yaxis": {
           "automargin": true,
           "gridcolor": "white",
           "linecolor": "white",
           "showgrid": true,
           "tickcolor": "rgb(51,51,51)",
           "ticks": "outside",
           "title": {
            "standoff": 15
           },
           "zerolinecolor": "white"
          }
         }
        },
        "title": {
         "text": "Actual vs. Forecast (In-Sample)"
        },
        "xaxis": {
         "anchor": "y",
         "domain": [
          0,
          1
         ]
        },
        "yaxis": {
         "anchor": "x",
         "domain": [
          0,
          1
         ]
        }
       }
      }
     },
     "metadata": {},
     "output_type": "display_data"
    }
   ],
   "source": [
    "plot_model(best, plot = 'insample')"
   ]
  }
 ],
 "metadata": {
  "kernelspec": {
   "display_name": "py38",
   "language": "python",
   "name": "python3"
  },
  "language_info": {
   "codemirror_mode": {
    "name": "ipython",
    "version": 3
   },
   "file_extension": ".py",
   "mimetype": "text/x-python",
   "name": "python",
   "nbconvert_exporter": "python",
   "pygments_lexer": "ipython3",
   "version": "3.8.13"
  },
  "orig_nbformat": 4,
  "vscode": {
   "interpreter": {
    "hash": "d6c6a9368ffd28e969f7d90a4d7c29e7466278b3cb1a367b914bbfe92c83c635"
   }
  }
 },
 "nbformat": 4,
 "nbformat_minor": 2
}
